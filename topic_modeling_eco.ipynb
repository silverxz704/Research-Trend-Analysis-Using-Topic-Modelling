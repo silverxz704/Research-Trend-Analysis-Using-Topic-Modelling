{
 "cells": [
  {
   "cell_type": "code",
   "execution_count": 1,
   "metadata": {},
   "outputs": [
    {
     "data": {
      "text/html": [
       "<div>\n",
       "<style scoped>\n",
       "    .dataframe tbody tr th:only-of-type {\n",
       "        vertical-align: middle;\n",
       "    }\n",
       "\n",
       "    .dataframe tbody tr th {\n",
       "        vertical-align: top;\n",
       "    }\n",
       "\n",
       "    .dataframe thead th {\n",
       "        text-align: right;\n",
       "    }\n",
       "</style>\n",
       "<table border=\"1\" class=\"dataframe\">\n",
       "  <thead>\n",
       "    <tr style=\"text-align: right;\">\n",
       "      <th></th>\n",
       "      <th>file_name</th>\n",
       "      <th>page_number</th>\n",
       "      <th>title</th>\n",
       "      <th>summary</th>\n",
       "      <th>page_data</th>\n",
       "      <th>published</th>\n",
       "      <th>pdata_clean</th>\n",
       "    </tr>\n",
       "  </thead>\n",
       "  <tbody>\n",
       "    <tr>\n",
       "      <th>0</th>\n",
       "      <td>paper_eco_1.pdf</td>\n",
       "      <td>1</td>\n",
       "      <td>The Link Between Standardization and Economic ...</td>\n",
       "      <td>We analyze the link between standardization ...</td>\n",
       "      <td>DOI: 10.4018/IJSR.287101International Journal ...</td>\n",
       "      <td>2022-01-22</td>\n",
       "      <td>internatnal journal standardizatresearvolume i...</td>\n",
       "    </tr>\n",
       "    <tr>\n",
       "      <th>1</th>\n",
       "      <td>paper_eco_1.pdf</td>\n",
       "      <td>2</td>\n",
       "      <td>The Link Between Standardization and Economic ...</td>\n",
       "      <td>We analyze the link between standardization ...</td>\n",
       "      <td>International Journal of Standardization Resea...</td>\n",
       "      <td>2022-01-22</td>\n",
       "      <td>internatnal journal standardizatresearvolume i...</td>\n",
       "    </tr>\n",
       "    <tr>\n",
       "      <th>2</th>\n",
       "      <td>paper_eco_1.pdf</td>\n",
       "      <td>3</td>\n",
       "      <td>The Link Between Standardization and Economic ...</td>\n",
       "      <td>We analyze the link between standardization ...</td>\n",
       "      <td>International Journal of Standardization Resea...</td>\n",
       "      <td>2022-01-22</td>\n",
       "      <td>internatnal journal standardizatresearvolume i...</td>\n",
       "    </tr>\n",
       "    <tr>\n",
       "      <th>3</th>\n",
       "      <td>paper_eco_1.pdf</td>\n",
       "      <td>4</td>\n",
       "      <td>The Link Between Standardization and Economic ...</td>\n",
       "      <td>We analyze the link between standardization ...</td>\n",
       "      <td>International Journal of Standardization Resea...</td>\n",
       "      <td>2022-01-22</td>\n",
       "      <td>internatnal journal standardizatresearvolume i...</td>\n",
       "    </tr>\n",
       "    <tr>\n",
       "      <th>4</th>\n",
       "      <td>paper_eco_1.pdf</td>\n",
       "      <td>5</td>\n",
       "      <td>The Link Between Standardization and Economic ...</td>\n",
       "      <td>We analyze the link between standardization ...</td>\n",
       "      <td>International Journal of Standardization Resea...</td>\n",
       "      <td>2022-01-22</td>\n",
       "      <td>internatnal journal standardizatresearvolume i...</td>\n",
       "    </tr>\n",
       "    <tr>\n",
       "      <th>...</th>\n",
       "      <td>...</td>\n",
       "      <td>...</td>\n",
       "      <td>...</td>\n",
       "      <td>...</td>\n",
       "      <td>...</td>\n",
       "      <td>...</td>\n",
       "      <td>...</td>\n",
       "    </tr>\n",
       "    <tr>\n",
       "      <th>661</th>\n",
       "      <td>paper_eco_19.pdf</td>\n",
       "      <td>19</td>\n",
       "      <td>The role of complex analysis in modeling econo...</td>\n",
       "      <td>Development and growth are complex and tumul...</td>\n",
       "      <td>49. World Bank Group. World Development Indica...</td>\n",
       "      <td>2018-08-30</td>\n",
       "      <td>world bank group world velopment indicators wa...</td>\n",
       "    </tr>\n",
       "    <tr>\n",
       "      <th>662</th>\n",
       "      <td>paper_eco_20.pdf</td>\n",
       "      <td>1</td>\n",
       "      <td>The Relationship between Consumption and Econo...</td>\n",
       "      <td>Since Reform and Opening-up 40 years ago, Ch...</td>\n",
       "      <td>改革开放以来中国城乡居民消费与经济增长的关系\\n——基于计量经济学模型的实证分析\\n易志珩\\...</td>\n",
       "      <td>2022-11-18</td>\n",
       "      <td>em articial intellence t relatnship beteconsum...</td>\n",
       "    </tr>\n",
       "    <tr>\n",
       "      <th>663</th>\n",
       "      <td>paper_eco_20.pdf</td>\n",
       "      <td>2</td>\n",
       "      <td>The Relationship between Consumption and Econo...</td>\n",
       "      <td>Since Reform and Opening-up 40 years ago, Ch...</td>\n",
       "      <td>1引言（Introduction）\\n消费对于国民经济发展有着重要的作用。改革开放40余年来...</td>\n",
       "      <td>2022-11-18</td>\n",
       "      <td>introduhousehold consumptand economic groh</td>\n",
       "    </tr>\n",
       "    <tr>\n",
       "      <th>664</th>\n",
       "      <td>paper_eco_20.pdf</td>\n",
       "      <td>3</td>\n",
       "      <td>The Relationship between Consumption and Econo...</td>\n",
       "      <td>Since Reform and Opening-up 40 years ago, Ch...</td>\n",
       "      <td>3数据与模型（DataandModels）\\n3.1变量的选择（SelectionofVar...</td>\n",
       "      <td>2022-11-18</td>\n",
       "      <td>data and mols seleof variablsource and process...</td>\n",
       "    </tr>\n",
       "    <tr>\n",
       "      <th>665</th>\n",
       "      <td>paper_eco_20.pdf</td>\n",
       "      <td>4</td>\n",
       "      <td>The Relationship between Consumption and Econo...</td>\n",
       "      <td>Since Reform and Opening-up 40 years ago, Ch...</td>\n",
       "      <td>示LURC的折线在表示LRRC的折线之下；1993年后，随着中国城镇化水平的提高，城镇居民总...</td>\n",
       "      <td>2022-11-18</td>\n",
       "      <td>seleed mols emical analysis statari ty test</td>\n",
       "    </tr>\n",
       "  </tbody>\n",
       "</table>\n",
       "<p>666 rows × 7 columns</p>\n",
       "</div>"
      ],
      "text/plain": [
       "            file_name  page_number  \\\n",
       "0     paper_eco_1.pdf            1   \n",
       "1     paper_eco_1.pdf            2   \n",
       "2     paper_eco_1.pdf            3   \n",
       "3     paper_eco_1.pdf            4   \n",
       "4     paper_eco_1.pdf            5   \n",
       "..                ...          ...   \n",
       "661  paper_eco_19.pdf           19   \n",
       "662  paper_eco_20.pdf            1   \n",
       "663  paper_eco_20.pdf            2   \n",
       "664  paper_eco_20.pdf            3   \n",
       "665  paper_eco_20.pdf            4   \n",
       "\n",
       "                                                 title  \\\n",
       "0    The Link Between Standardization and Economic ...   \n",
       "1    The Link Between Standardization and Economic ...   \n",
       "2    The Link Between Standardization and Economic ...   \n",
       "3    The Link Between Standardization and Economic ...   \n",
       "4    The Link Between Standardization and Economic ...   \n",
       "..                                                 ...   \n",
       "661  The role of complex analysis in modeling econo...   \n",
       "662  The Relationship between Consumption and Econo...   \n",
       "663  The Relationship between Consumption and Econo...   \n",
       "664  The Relationship between Consumption and Econo...   \n",
       "665  The Relationship between Consumption and Econo...   \n",
       "\n",
       "                                               summary  \\\n",
       "0      We analyze the link between standardization ...   \n",
       "1      We analyze the link between standardization ...   \n",
       "2      We analyze the link between standardization ...   \n",
       "3      We analyze the link between standardization ...   \n",
       "4      We analyze the link between standardization ...   \n",
       "..                                                 ...   \n",
       "661    Development and growth are complex and tumul...   \n",
       "662    Since Reform and Opening-up 40 years ago, Ch...   \n",
       "663    Since Reform and Opening-up 40 years ago, Ch...   \n",
       "664    Since Reform and Opening-up 40 years ago, Ch...   \n",
       "665    Since Reform and Opening-up 40 years ago, Ch...   \n",
       "\n",
       "                                             page_data   published  \\\n",
       "0    DOI: 10.4018/IJSR.287101International Journal ...  2022-01-22   \n",
       "1    International Journal of Standardization Resea...  2022-01-22   \n",
       "2    International Journal of Standardization Resea...  2022-01-22   \n",
       "3    International Journal of Standardization Resea...  2022-01-22   \n",
       "4    International Journal of Standardization Resea...  2022-01-22   \n",
       "..                                                 ...         ...   \n",
       "661  49. World Bank Group. World Development Indica...  2018-08-30   \n",
       "662  改革开放以来中国城乡居民消费与经济增长的关系\\n——基于计量经济学模型的实证分析\\n易志珩\\...  2022-11-18   \n",
       "663  1引言（Introduction）\\n消费对于国民经济发展有着重要的作用。改革开放40余年来...  2022-11-18   \n",
       "664  3数据与模型（DataandModels）\\n3.1变量的选择（SelectionofVar...  2022-11-18   \n",
       "665  示LURC的折线在表示LRRC的折线之下；1993年后，随着中国城镇化水平的提高，城镇居民总...  2022-11-18   \n",
       "\n",
       "                                           pdata_clean  \n",
       "0    internatnal journal standardizatresearvolume i...  \n",
       "1    internatnal journal standardizatresearvolume i...  \n",
       "2    internatnal journal standardizatresearvolume i...  \n",
       "3    internatnal journal standardizatresearvolume i...  \n",
       "4    internatnal journal standardizatresearvolume i...  \n",
       "..                                                 ...  \n",
       "661  world bank group world velopment indicators wa...  \n",
       "662  em articial intellence t relatnship beteconsum...  \n",
       "663         introduhousehold consumptand economic groh  \n",
       "664  data and mols seleof variablsource and process...  \n",
       "665        seleed mols emical analysis statari ty test  \n",
       "\n",
       "[666 rows x 7 columns]"
      ]
     },
     "execution_count": 1,
     "metadata": {},
     "output_type": "execute_result"
    }
   ],
   "source": [
    "import numpy as np\n",
    "import pandas as pd\n",
    "from datetime import datetime\n",
    "\n",
    "df= pd.read_csv('cleaned_eco.csv')\n",
    "df['pdata_clean']=df['pdata_clean'].astype(str)\n",
    "\n",
    "def convertDate(d):\n",
    "    new_date = datetime.strptime(d, \"%Y-%m-%dT%H:%M:%S%z\")\n",
    "    return new_date.date()\n",
    " \n",
    "df['published'] = df['published'].apply(lambda date: convertDate(date))\n",
    "df\n"
   ]
  },
  {
   "cell_type": "code",
   "execution_count": 2,
   "metadata": {},
   "outputs": [],
   "source": [
    "import pandas as pd\n",
    "from gensim import corpora\n",
    "from nltk.corpus import stopwords\n",
    "from nltk.tokenize import word_tokenize\n",
    "from nltk.util import ngrams\n",
    "from gensim.models import LdaModel\n",
    "import re\n",
    "\n",
    "#function to preprocess text\n",
    "def preprocess_text(text):\n",
    "    text = str(text).lower()\n",
    "    text = re.sub(r'[^a-z\\s]', '', text)  #non-alphabet characters removed\n",
    "    words = word_tokenize(text)\n",
    "    words = [word for word in words if word not in stopwords.words('english')]\n",
    "\n",
    "    unigrams = words\n",
    "    bigrams = [' '.join(phrase) for phrase in list(ngrams(words, 2))]\n",
    "    \n",
    "    return unigrams, bigrams  #return both unigrams and bigrams\n",
    "\n",
    "\n",
    "#preprocessing of data\n",
    "df['unigrams'], df['bigrams'] = zip(*df['pdata_clean'].apply(preprocess_text))\n",
    "\n",
    "#dictionary for unigrams\n",
    "dictionary_unigrams = corpora.Dictionary(df['unigrams'])\n",
    "corpus_unigrams = [dictionary_unigrams.doc2bow(text) for text in df['unigrams']]\n",
    "\n",
    "#train the LDA model for unigrams\n",
    "lda_model_unigrams = LdaModel(corpus_unigrams, num_topics=10, id2word=dictionary_unigrams, passes=15)\n",
    "\n",
    "#dictionary for bigrams\n",
    "dictionary_bigrams = corpora.Dictionary(df['bigrams'])\n",
    "corpus_bigrams = [dictionary_bigrams.doc2bow(text) for text in df['bigrams']]\n",
    "\n",
    "#train the LDA model for bigrams\n",
    "lda_model_bigrams = LdaModel(corpus_bigrams, num_topics=10, id2word=dictionary_bigrams, passes=15)\n",
    "\n",
    "#function to get the most significant words for a topic\n",
    "def get_topic_words(model, dictionary, topic):\n",
    "    topic_words = [word for word, prob in model.show_topic(topic, topn=10) if word not in ['agents','agent','ai', 'intelligence','artificial intelligence','cial intelligence','artificial','arti cial','phys rev','phys',]]  # Adjust topn as needed\n",
    "    return topic_words\n",
    "\n",
    "#extract 3 unigram topics and 2 bigram topics\n",
    "df['unigram_topics'] = df['unigrams'].apply(lambda x: get_topic_words(lda_model_unigrams, dictionary_unigrams, lda_model_unigrams[dictionary_unigrams.doc2bow(x)][0][0]))\n",
    "df['bigram_topics'] = df['bigrams'].apply(lambda x: get_topic_words(lda_model_bigrams, dictionary_bigrams, lda_model_bigrams[dictionary_bigrams.doc2bow(x)][0][0]))\n",
    "\n",
    "#combine the topics into a single column\n",
    "df['topics'] = df.apply(lambda row: row['unigram_topics'][:3] + row['bigram_topics'][:2], axis=1)\n",
    "\n",
    "df.to_csv('topics_eco_lda.csv', index=False)\n"
   ]
  },
  {
   "cell_type": "code",
   "execution_count": 3,
   "metadata": {},
   "outputs": [
    {
     "data": {
      "text/html": [
       "<div>\n",
       "<style scoped>\n",
       "    .dataframe tbody tr th:only-of-type {\n",
       "        vertical-align: middle;\n",
       "    }\n",
       "\n",
       "    .dataframe tbody tr th {\n",
       "        vertical-align: top;\n",
       "    }\n",
       "\n",
       "    .dataframe thead th {\n",
       "        text-align: right;\n",
       "    }\n",
       "</style>\n",
       "<table border=\"1\" class=\"dataframe\">\n",
       "  <thead>\n",
       "    <tr style=\"text-align: right;\">\n",
       "      <th></th>\n",
       "      <th>file_name</th>\n",
       "      <th>published</th>\n",
       "      <th>pdata_clean</th>\n",
       "      <th>unigrams</th>\n",
       "      <th>bigrams</th>\n",
       "      <th>unigram_topics</th>\n",
       "      <th>bigram_topics</th>\n",
       "      <th>topics</th>\n",
       "    </tr>\n",
       "  </thead>\n",
       "  <tbody>\n",
       "    <tr>\n",
       "      <th>0</th>\n",
       "      <td>paper_eco_1.pdf</td>\n",
       "      <td>2022-01-22</td>\n",
       "      <td>internatnal journal standardizatresearvolume i...</td>\n",
       "      <td>[internatnal, journal, standardizatresearvolum...</td>\n",
       "      <td>[internatnal journal, journal standardizatrese...</td>\n",
       "      <td>[economics, intellence, articial, economic, jo...</td>\n",
       "      <td>[og lu, economic groh, cem og, journal economi...</td>\n",
       "      <td>[economics, intellence, articial, og lu, econo...</td>\n",
       "    </tr>\n",
       "    <tr>\n",
       "      <th>1</th>\n",
       "      <td>paper_eco_1.pdf</td>\n",
       "      <td>2022-01-22</td>\n",
       "      <td>internatnal journal standardizatresearvolume i...</td>\n",
       "      <td>[internatnal, journal, standardizatresearvolum...</td>\n",
       "      <td>[internatnal journal, journal standardizatrese...</td>\n",
       "      <td>[future, economic, table, economics, journal, ...</td>\n",
       "      <td>[og lu, economic groh, cem og, journal economi...</td>\n",
       "      <td>[future, economic, table, og lu, economic groh]</td>\n",
       "    </tr>\n",
       "    <tr>\n",
       "      <th>2</th>\n",
       "      <td>paper_eco_1.pdf</td>\n",
       "      <td>2022-01-22</td>\n",
       "      <td>internatnal journal standardizatresearvolume i...</td>\n",
       "      <td>[internatnal, journal, standardizatresearvolum...</td>\n",
       "      <td>[internatnal journal, journal standardizatrese...</td>\n",
       "      <td>[future, economic, table, economics, journal, ...</td>\n",
       "      <td>[og lu, economic groh, cem og, journal economi...</td>\n",
       "      <td>[future, economic, table, og lu, economic groh]</td>\n",
       "    </tr>\n",
       "    <tr>\n",
       "      <th>3</th>\n",
       "      <td>paper_eco_1.pdf</td>\n",
       "      <td>2022-01-22</td>\n",
       "      <td>internatnal journal standardizatresearvolume i...</td>\n",
       "      <td>[internatnal, journal, standardizatresearvolum...</td>\n",
       "      <td>[internatnal journal, journal standardizatrese...</td>\n",
       "      <td>[journal, economic, lu, groh, og, economics, c...</td>\n",
       "      <td>[ark boca, true ba, ari zac, est ari, articial...</td>\n",
       "      <td>[journal, economic, lu, ark boca, true ba]</td>\n",
       "    </tr>\n",
       "    <tr>\n",
       "      <th>4</th>\n",
       "      <td>paper_eco_1.pdf</td>\n",
       "      <td>2022-01-22</td>\n",
       "      <td>internatnal journal standardizatresearvolume i...</td>\n",
       "      <td>[internatnal, journal, standardizatresearvolum...</td>\n",
       "      <td>[internatnal journal, journal standardizatrese...</td>\n",
       "      <td>[journal, economic, lu, groh, og, economics, c...</td>\n",
       "      <td>[og lu, economic groh, cem og, journal economi...</td>\n",
       "      <td>[journal, economic, lu, og lu, economic groh]</td>\n",
       "    </tr>\n",
       "    <tr>\n",
       "      <th>...</th>\n",
       "      <td>...</td>\n",
       "      <td>...</td>\n",
       "      <td>...</td>\n",
       "      <td>...</td>\n",
       "      <td>...</td>\n",
       "      <td>...</td>\n",
       "      <td>...</td>\n",
       "      <td>...</td>\n",
       "    </tr>\n",
       "    <tr>\n",
       "      <th>661</th>\n",
       "      <td>paper_eco_19.pdf</td>\n",
       "      <td>2018-08-30</td>\n",
       "      <td>world bank group world velopment indicators wa...</td>\n",
       "      <td>[world, bank, group, world, velopment, indicat...</td>\n",
       "      <td>[world bank, bank group, group world, world ve...</td>\n",
       "      <td>[assets, revenue, intellence, articial, ark, a...</td>\n",
       "      <td>[ark boca, true ba, ari zac, est ari, articial...</td>\n",
       "      <td>[assets, revenue, intellence, ark boca, true ba]</td>\n",
       "    </tr>\n",
       "    <tr>\n",
       "      <th>662</th>\n",
       "      <td>paper_eco_20.pdf</td>\n",
       "      <td>2022-11-18</td>\n",
       "      <td>em articial intellence t relatnship beteconsum...</td>\n",
       "      <td>[em, articial, intellence, relatnship, betecon...</td>\n",
       "      <td>[em articial, articial intellence, intellence ...</td>\n",
       "      <td>[assets, revenue, intellence, articial, ark, a...</td>\n",
       "      <td>[assets assets, revenue assets, assets revenue...</td>\n",
       "      <td>[assets, revenue, intellence, assets assets, r...</td>\n",
       "    </tr>\n",
       "    <tr>\n",
       "      <th>663</th>\n",
       "      <td>paper_eco_20.pdf</td>\n",
       "      <td>2022-11-18</td>\n",
       "      <td>introduhousehold consumptand economic groh</td>\n",
       "      <td>[introduhousehold, consumptand, economic, groh]</td>\n",
       "      <td>[introduhousehold consumptand, consumptand eco...</td>\n",
       "      <td>[investment, mand, cost, interest, intellence,...</td>\n",
       "      <td>[ark boca, true ba, ari zac, est ari, articial...</td>\n",
       "      <td>[investment, mand, cost, ark boca, true ba]</td>\n",
       "    </tr>\n",
       "    <tr>\n",
       "      <th>664</th>\n",
       "      <td>paper_eco_20.pdf</td>\n",
       "      <td>2022-11-18</td>\n",
       "      <td>data and mols seleof variablsource and process...</td>\n",
       "      <td>[data, mols, seleof, variablsource, processi, ...</td>\n",
       "      <td>[data mols, mols seleof, seleof variablsource,...</td>\n",
       "      <td>[investment, mand, cost, interest, intellence,...</td>\n",
       "      <td>[ark boca, true ba, ari zac, est ari, articial...</td>\n",
       "      <td>[investment, mand, cost, ark boca, true ba]</td>\n",
       "    </tr>\n",
       "    <tr>\n",
       "      <th>665</th>\n",
       "      <td>paper_eco_20.pdf</td>\n",
       "      <td>2022-11-18</td>\n",
       "      <td>seleed mols emical analysis statari ty test</td>\n",
       "      <td>[seleed, mols, emical, analysis, statari, ty, ...</td>\n",
       "      <td>[seleed mols, mols emical, emical analysis, an...</td>\n",
       "      <td>[investment, mand, cost, interest, intellence,...</td>\n",
       "      <td>[ark boca, true ba, ari zac, est ari, articial...</td>\n",
       "      <td>[investment, mand, cost, ark boca, true ba]</td>\n",
       "    </tr>\n",
       "  </tbody>\n",
       "</table>\n",
       "<p>666 rows × 8 columns</p>\n",
       "</div>"
      ],
      "text/plain": [
       "            file_name   published  \\\n",
       "0     paper_eco_1.pdf  2022-01-22   \n",
       "1     paper_eco_1.pdf  2022-01-22   \n",
       "2     paper_eco_1.pdf  2022-01-22   \n",
       "3     paper_eco_1.pdf  2022-01-22   \n",
       "4     paper_eco_1.pdf  2022-01-22   \n",
       "..                ...         ...   \n",
       "661  paper_eco_19.pdf  2018-08-30   \n",
       "662  paper_eco_20.pdf  2022-11-18   \n",
       "663  paper_eco_20.pdf  2022-11-18   \n",
       "664  paper_eco_20.pdf  2022-11-18   \n",
       "665  paper_eco_20.pdf  2022-11-18   \n",
       "\n",
       "                                           pdata_clean  \\\n",
       "0    internatnal journal standardizatresearvolume i...   \n",
       "1    internatnal journal standardizatresearvolume i...   \n",
       "2    internatnal journal standardizatresearvolume i...   \n",
       "3    internatnal journal standardizatresearvolume i...   \n",
       "4    internatnal journal standardizatresearvolume i...   \n",
       "..                                                 ...   \n",
       "661  world bank group world velopment indicators wa...   \n",
       "662  em articial intellence t relatnship beteconsum...   \n",
       "663         introduhousehold consumptand economic groh   \n",
       "664  data and mols seleof variablsource and process...   \n",
       "665        seleed mols emical analysis statari ty test   \n",
       "\n",
       "                                              unigrams  \\\n",
       "0    [internatnal, journal, standardizatresearvolum...   \n",
       "1    [internatnal, journal, standardizatresearvolum...   \n",
       "2    [internatnal, journal, standardizatresearvolum...   \n",
       "3    [internatnal, journal, standardizatresearvolum...   \n",
       "4    [internatnal, journal, standardizatresearvolum...   \n",
       "..                                                 ...   \n",
       "661  [world, bank, group, world, velopment, indicat...   \n",
       "662  [em, articial, intellence, relatnship, betecon...   \n",
       "663    [introduhousehold, consumptand, economic, groh]   \n",
       "664  [data, mols, seleof, variablsource, processi, ...   \n",
       "665  [seleed, mols, emical, analysis, statari, ty, ...   \n",
       "\n",
       "                                               bigrams  \\\n",
       "0    [internatnal journal, journal standardizatrese...   \n",
       "1    [internatnal journal, journal standardizatrese...   \n",
       "2    [internatnal journal, journal standardizatrese...   \n",
       "3    [internatnal journal, journal standardizatrese...   \n",
       "4    [internatnal journal, journal standardizatrese...   \n",
       "..                                                 ...   \n",
       "661  [world bank, bank group, group world, world ve...   \n",
       "662  [em articial, articial intellence, intellence ...   \n",
       "663  [introduhousehold consumptand, consumptand eco...   \n",
       "664  [data mols, mols seleof, seleof variablsource,...   \n",
       "665  [seleed mols, mols emical, emical analysis, an...   \n",
       "\n",
       "                                        unigram_topics  \\\n",
       "0    [economics, intellence, articial, economic, jo...   \n",
       "1    [future, economic, table, economics, journal, ...   \n",
       "2    [future, economic, table, economics, journal, ...   \n",
       "3    [journal, economic, lu, groh, og, economics, c...   \n",
       "4    [journal, economic, lu, groh, og, economics, c...   \n",
       "..                                                 ...   \n",
       "661  [assets, revenue, intellence, articial, ark, a...   \n",
       "662  [assets, revenue, intellence, articial, ark, a...   \n",
       "663  [investment, mand, cost, interest, intellence,...   \n",
       "664  [investment, mand, cost, interest, intellence,...   \n",
       "665  [investment, mand, cost, interest, intellence,...   \n",
       "\n",
       "                                         bigram_topics  \\\n",
       "0    [og lu, economic groh, cem og, journal economi...   \n",
       "1    [og lu, economic groh, cem og, journal economi...   \n",
       "2    [og lu, economic groh, cem og, journal economi...   \n",
       "3    [ark boca, true ba, ari zac, est ari, articial...   \n",
       "4    [og lu, economic groh, cem og, journal economi...   \n",
       "..                                                 ...   \n",
       "661  [ark boca, true ba, ari zac, est ari, articial...   \n",
       "662  [assets assets, revenue assets, assets revenue...   \n",
       "663  [ark boca, true ba, ari zac, est ari, articial...   \n",
       "664  [ark boca, true ba, ari zac, est ari, articial...   \n",
       "665  [ark boca, true ba, ari zac, est ari, articial...   \n",
       "\n",
       "                                                topics  \n",
       "0    [economics, intellence, articial, og lu, econo...  \n",
       "1      [future, economic, table, og lu, economic groh]  \n",
       "2      [future, economic, table, og lu, economic groh]  \n",
       "3           [journal, economic, lu, ark boca, true ba]  \n",
       "4        [journal, economic, lu, og lu, economic groh]  \n",
       "..                                                 ...  \n",
       "661   [assets, revenue, intellence, ark boca, true ba]  \n",
       "662  [assets, revenue, intellence, assets assets, r...  \n",
       "663        [investment, mand, cost, ark boca, true ba]  \n",
       "664        [investment, mand, cost, ark boca, true ba]  \n",
       "665        [investment, mand, cost, ark boca, true ba]  \n",
       "\n",
       "[666 rows x 8 columns]"
      ]
     },
     "execution_count": 3,
     "metadata": {},
     "output_type": "execute_result"
    }
   ],
   "source": [
    "df.drop([\"page_number\",\"title\",\"summary\", \"page_data\"], axis=1)\n"
   ]
  },
  {
   "cell_type": "code",
   "execution_count": 4,
   "metadata": {},
   "outputs": [
    {
     "name": "stderr",
     "output_type": "stream",
     "text": [
      "c:\\ProgramData\\Anaconda3\\envs\\test_env\\Lib\\site-packages\\joblib\\_utils.py:38: DeprecationWarning: ast.Num is deprecated and will be removed in Python 3.14; use ast.Constant instead\n",
      "  if isinstance(node, ast.Num):  # <number>\n",
      "c:\\ProgramData\\Anaconda3\\envs\\test_env\\Lib\\site-packages\\joblib\\_utils.py:38: DeprecationWarning: ast.Num is deprecated and will be removed in Python 3.14; use ast.Constant instead\n",
      "  if isinstance(node, ast.Num):  # <number>\n",
      "c:\\ProgramData\\Anaconda3\\envs\\test_env\\Lib\\site-packages\\joblib\\_utils.py:38: DeprecationWarning: ast.Num is deprecated and will be removed in Python 3.14; use ast.Constant instead\n",
      "  if isinstance(node, ast.Num):  # <number>\n",
      "c:\\ProgramData\\Anaconda3\\envs\\test_env\\Lib\\site-packages\\joblib\\_utils.py:39: DeprecationWarning: Attribute n is deprecated and will be removed in Python 3.14; use value instead\n",
      "  return node.n\n",
      "c:\\ProgramData\\Anaconda3\\envs\\test_env\\Lib\\site-packages\\joblib\\_utils.py:38: DeprecationWarning: ast.Num is deprecated and will be removed in Python 3.14; use ast.Constant instead\n",
      "  if isinstance(node, ast.Num):  # <number>\n",
      "c:\\ProgramData\\Anaconda3\\envs\\test_env\\Lib\\site-packages\\joblib\\_utils.py:39: DeprecationWarning: Attribute n is deprecated and will be removed in Python 3.14; use value instead\n",
      "  return node.n\n"
     ]
    },
    {
     "data": {
      "text/html": [
       "\n",
       "<link rel=\"stylesheet\" type=\"text/css\" href=\"https://cdn.jsdelivr.net/gh/bmabey/pyLDAvis@3.4.0/pyLDAvis/js/ldavis.v1.0.0.css\">\n",
       "\n",
       "\n",
       "<div id=\"ldavis_el2172424985094554402897511564\" style=\"background-color:white;\"></div>\n",
       "<script type=\"text/javascript\">\n",
       "\n",
       "var ldavis_el2172424985094554402897511564_data = {\"mdsDat\": {\"x\": [0.23464443670495885, -0.12115240080241395, -0.10171256727659872, -0.09327956311815962, 0.17969076151723265, -0.023435003783516598, 0.07008941225667573, -0.06049231539778163, -0.0561429278968792, -0.028209832203517436], \"y\": [-0.09120133326040199, -0.1576127000445478, -0.0691566874097292, 0.11847122672673165, 0.032477913354610574, -0.06808786765782085, 0.09330606420006717, 0.017112827673262363, 0.11087653504702531, 0.013814021370802853], \"topics\": [1, 2, 3, 4, 5, 6, 7, 8, 9, 10], \"cluster\": [1, 1, 1, 1, 1, 1, 1, 1, 1, 1], \"Freq\": [15.746973046780688, 13.31105487668132, 12.07255816499021, 11.906495584841204, 10.608619981632723, 9.398020510480908, 8.133757090459167, 7.97351289720355, 6.565910077319555, 4.283097769610675]}, \"tinfo\": {\"Term\": [\"assets\", \"edits\", \"journal\", \"investment\", \"loans\", \"revenue\", \"economic\", \"mand\", \"one\", \"road\", \"ark\", \"months\", \"og\", \"municips\", \"belt\", \"minas\", \"future\", \"lu\", \"intellence\", \"ger\", \"eq\", \"articial\", \"regi\", \"cem\", \"ci\", \"aci\", \"boca\", \"alias\", \"map\", \"cost\", \"cim\", \"iform\", \"odital\", \"rao\", \"regjajaub\", \"cocim\", \"logo\", \"vida\", \"ger\", \"tenor\", \"oregnal\", \"conrm\", \"apa\", \"sent\", \"frequent\", \"century\", \"gla\", \"especial\", \"pat\", \"bla\", \"bras\", \"jury\", \"po\", \"greete\", \"true\", \"core\", \"ica\", \"lease\", \"gomez\", \"nueva\", \"cci\", \"eto\", \"minas\", \"months\", \"tri\", \"map\", \"pro\", \"aci\", \"ark\", \"online\", \"este\", \"ba\", \"ci\", \"municips\", \"meto\", \"ye\", \"ec\", \"el\", \"boca\", \"articial\", \"intellence\", \"la\", \"alias\", \"table\", \"regi\", \"cem\", \"opus\", \"sc\", \"masince\", \"barrel\", \"ray\", \"leadi\", \"malp\", \"ry\", \"kim\", \"og\", \"wie\", \"adr\", \"baroput\", \"lam\", \"restrepo\", \"gacia\", \"teberg\", \"standardizatresearvolume\", \"ror\", \"iafro\", \"lhi\", \"dference\", \"petr\", \"windows\", \"standardizatatibity\", \"author\", \"eu\", \"eti\", \"journals\", \"lu\", \"tag\", \"ju\", \"zi\", \"aeconomic\", \"baroschmidt\", \"standards\", \"issue\", \"lor\", \"mesh\", \"bot\", \"journal\", \"groh\", \"blind\", \"economic\", \"ti\", \"mit\", \"economics\", \"gh\", \"internatnal\", \"review\", \"economy\", \"la\", \"auf\", \"political\", \"table\", \"c\", \"cu\", \"cbb\", \"douglas\", \"since\", \"er\", \"li\", \"metrics\", \"coarole\", \"cember\", \"itical\", \"mantre\", \"ut\", \"sarah\", \"associate\", \"forage\", \"prometus\", \"coaspatial\", \"euro\", \"rice\", \"transt\", \"christiamoo\", \"cos\", \"orins\", \"australia\", \"pink\", \"chart\", \"goldsmith\", \"technological\", \"yue\", \"bold\", \"forecasti\", \"law\", \"raquo\", \"verlag\", \"gren\", \"adaptive\", \"technology\", \"strategic\", \"introdut\", \"transfer\", \"ser\", \"management\", \"phippe\", \"society\", \"social\", \"time\", \"sci\", \"internatnal\", \"journal\", \"ler\", \"analysis\", \"france\", \"dynamics\", \"groh\", \"economic\", \"science\", \"gh\", \"policy\", \"economics\", \"die\", \"risk\", \"business\", \"tory\", \"intellence\", \"articial\", \"global\", \"economy\", \"ed\", \"table\", \"pa\", \"loans\", \"payments\", \"edits\", \"temic\", \"sell\", \"pitratis\", \"mao\", \"tz\", \"brow\", \"buy\", \"anc\", \"struured\", \"shaped\", \"problems\", \"sensi\", \"bauer\", \"space\", \"oeconomic\", \"measquare\", \"editors\", \"aitu\", \"liabitiedits\", \"beliefs\", \"rf\", \"paerns\", \"transitfault\", \"pacic\", \"instalment\", \"nanci\", \"brew\", \"leotie\", \"input\", \"edit\", \"risks\", \"key\", \"nance\", \"coalab\", \"coameasurement\", \"cye\", \"amo\", \"ys\", \"business\", \"quantitative\", \"risk\", \"pa\", \"worki\", \"new\", \"eq\", \"rati\", \"north\", \"nancial\", \"maoeconomic\", \"go\", \"moody\", \"hou\", \"tory\", \"economic\", \"analysis\", \"eco\", \"ec\", \"economics\", \"li\", \"assets\", \"revenue\", \"fall\", \"ari\", \"jajaub\", \"uva\", \"sur\", \"iassets\", \"jasafranci\", \"moraark\", \"moranova\", \"moragla\", \"moracapita\", \"moramirae\", \"morajury\", \"morapat\", \"mum\", \"jauri\", \"morahos\", \"reform\", \"pardominas\", \"nsiti\", \"fr\", \"alert\", \"least\", \"ordinary\", \"foredire\", \"formatlabor\", \"div\", \"aregate\", \"var\", \"zac\", \"iha\", \"est\", \"control\", \"equatns\", \"alias\", \"rianz\", \"valor\", \"boca\", \"jaub\", \"alth\", \"jo\", \"articial\", \"intellence\", \"municips\", \"e\", \"ter\", \"ao\", \"ark\", \"coe\", \"capital\", \"regi\", \"r\", \"months\", \"economic\", \"mono\", \"esta\", \"groh\", \"fs\", \"gamo\", \"tier\", \"moralust\", \"translated\", \"una\", \"ku\", \"ltd\", \"mlust\", \"coup\", \"boi\", \"fluid\", \"meics\", \"rd\", \"serial\", \"eduardo\", \"scr\", \"psical\", \"item\", \"rappi\", \"boost\", \"stunt\", \"km\", \"innovatpolicinew\", \"nascimento\", \"mace\", \"ineasi\", \"piano\", \"pquit\", \"macmla\", \"nets\", \"gou\", \"rac\", \"mete\", \"lust\", \"applied\", \"ga\", \"today\", \"las\", \"global\", \"idar\", \"uni\", \"york\", \"review\", \"economics\", \"li\", \"intellence\", \"tory\", \"articial\", \"based\", \"la\", \"ed\", \"journal\", \"dad\", \"economic\", \"peters\", \"management\", \"r\", \"aci\", \"nance\", \"policy\", \"econometric\", \"land\", \"new\", \"interest\", \"cost\", \"amap\", \"mand\", \"investment\", \"nordbank\", \"next\", \"au\", \"uz\", \"isec\", \"funds\", \"faors\", \"khrushcv\", \"chapters\", \"intensive\", \"interrev\", \"llels\", \"stanley\", \"fec\", \"mice\", \"consumptinvestment\", \"rise\", \"unrstood\", \"equatmotequatns\", \"gt\", \"lad\", \"handlbank\", \"bob\", \"dag\", \"produfuncapital\", \"rate\", \"santa\", \"sick\", \"emunicips\", \"result\", \"supply\", \"ria\", \"psics\", \"b\", \"gr\", \"regi\", \"us\", \"continuity\", \"many\", \"esta\", \"ui\", \"mi\", \"intellence\", \"articial\", \"equatns\", \"eq\", \"value\", \"maoeconomic\", \"eco\", \"le\", \"economic\", \"online\", \"risk\", \"minas\", \"map\", \"nero\", \"lucia\", \"brownish\", \"metro\", \"ppc\", \"rank\", \"got\", \"gabriel\", \"try\", \"oklahoma\", \"context\", \"luck\", \"future\", \"tac\", \"sll\", \"ens\", \"sis\", \"constant\", \"schotness\", \"conrad\", \"tfor\", \"mater\", \"tends\", \"humadimensns\", \"jx\", \"statari\", \"test\", \"iole\", \"inflatrate\", \"pseudoscience\", \"tell\", \"schooli\", \"dare\", \"cal\", \"plo\", \"get\", \"positive\", \"price\", \"maw\", \"bolt\", \"negative\", \"gui\", \"stock\", \"lli\", \"sentiment\", \"st\", \"table\", \"survey\", \"w\", \"nce\", \"economic\", \"tre\", \"le\", \"economics\", \"journal\", \"tra\", \"lucas\", \"tse\", \"r\", \"since\", \"e\", \"li\", \"corollary\", \"road\", \"belt\", \"xi\", \"malaria\", \"basica\", \"abruzzo\", \"sino\", \"marc\", \"toscana\", \"osborne\", \"initiative\", \"eur\", \"sk\", \"chinese\", \"one\", \"campania\", \"g\", \"basal\", \"rad\", \"manha\", \"totocbb\", \"samuelso\", \"iawre\", \"hicks\", \"japi\", \"valle\", \"kei\", \"famia\", \"friuli\", \"ev\", \"professor\", \"relatns\", \"lea\", \"later\", \"movie\", \"south\", \"yi\", \"ui\", \"na\", \"lia\", \"maria\", \"pug\", \"sar\", \"central\", \"institute\", \"dferent\", \"new\", \"economic\", \"table\", \"tse\", \"ci\", \"si\", \"li\", \"north\", \"corr\", \"dt\", \"unr\", \"doral\", \"rrm\", \"xy\", \"oba\", \"unone\", \"quaeur\", \"ieur\", \"vee\", \"wrist\", \"offer\", \"simo\", \"alt\", \"ghost\", \"ehart\", \"hash\", \"voichi\", \"ets\", \"uyethink\", \"goals\", \"ramirez\", \"spendi\", \"vie\", \"nyu\", \"yavlev\", \"tureva\", \"nis\", \"yuas\", \"asia\", \"central\", \"adam\", \"dr\", \"eq\", \"panel\", \"economic\", \"rat\", \"eff\", \"ki\", \"li\", \"eeatns\", \"rae\", \"hao\", \"th\", \"easy\", \"bel\", \"intellence\", \"ji\", \"vega\", \"media\", \"articial\", \"mc\", \"tse\", \"journal\", \"government\", \"el\", \"economics\", \"nance\", \"eur\", \"maoeconomic\", \"belt\", \"table\", \"road\"], \"Freq\": [217.0, 84.0, 184.0, 64.0, 52.0, 48.0, 276.0, 42.0, 41.0, 34.0, 71.0, 56.0, 45.0, 46.0, 24.0, 47.0, 31.0, 50.0, 132.0, 38.0, 37.0, 124.0, 45.0, 25.0, 51.0, 45.0, 42.0, 37.0, 47.0, 20.0, 14.582735272434563, 12.87499654117688, 11.175244820546748, 21.522005660939968, 11.948500617113186, 9.452318591108991, 15.630039526061076, 17.832710517596123, 34.7323368870476, 7.686139647897954, 6.910255828122755, 6.909793602842565, 6.909122131474837, 9.085987226908491, 6.0607167127170545, 6.060397797458234, 6.060349354634109, 6.055581773359843, 6.054115032296069, 6.001330520059265, 20.184070029611718, 5.200069725021276, 5.917628720958916, 5.16167374077499, 28.728963021754076, 5.110792627836083, 10.198783487483501, 4.3537725783384165, 4.349652919836817, 4.341178453291514, 26.51897716377621, 25.636806423786556, 38.768724865244444, 42.740732330179654, 17.276681091025566, 35.508059903559385, 16.579875471914818, 33.88487543054325, 48.88680260773631, 19.52072629126506, 15.026740668216902, 27.056862061444082, 33.94808255095386, 29.87207372515908, 23.269529407144006, 12.88038715099475, 22.200782475672327, 23.59726933375922, 21.470994021502722, 35.805738366537256, 35.53858964782993, 20.79103035757931, 16.35019324076589, 19.327051880414775, 14.69300325084826, 25.268329960237622, 10.156724615888661, 6.80631671840825, 5.1112228597230125, 4.997835813340157, 4.283938079432684, 4.282121245470674, 4.277970594584855, 4.2726580116957855, 4.265325839700722, 38.58966027585529, 4.206553294268529, 3.4470518620014405, 3.4458555213412163, 3.445420721039461, 3.445415033658143, 3.4449060130301894, 3.4430647233285123, 17.803290500301443, 11.938325250633866, 2.6050805569338453, 2.6049633968786963, 2.605392794168199, 2.60492017278068, 2.6047637697944372, 2.6046582688709896, 2.604659406347253, 2.604536843279852, 2.6038242144007167, 2.6034991805583974, 38.94922107267928, 7.699769630427531, 7.673289751749425, 9.322661045805503, 5.1269860057837615, 3.225183704360569, 18.098860294964982, 20.5328934275005, 5.572394979911105, 5.623138364767724, 6.804778281761753, 102.14297521979466, 38.85443290068229, 9.349787011001325, 93.6459729319607, 9.9328601874052, 7.701412146152147, 33.84770827908035, 13.192803460166504, 20.630325094334058, 17.00166320335065, 12.867842416328214, 18.858925346720678, 7.047395143926662, 8.648291749533842, 16.370866641569968, 8.496534785089635, 6.758271427248853, 7.127707792993283, 7.413050538570938, 7.917119732349446, 7.691985311617693, 8.320297056500571, 7.38527196193298, 4.952895988254509, 4.95206448449501, 4.140971769514643, 3.329684847855955, 3.3295992215382895, 3.329491672820017, 3.32865784786516, 3.2490307885587604, 2.5181732860686936, 2.5179522566884547, 2.517588086927781, 2.5168378250058265, 2.5163761650401, 2.5164120146128575, 2.5164205256625047, 2.5162025912094106, 2.515921210749853, 2.4863997323605087, 2.485740770789318, 2.484690043023748, 7.925966050507175, 3.6127177405979087, 11.271008700586103, 7.097083694300016, 5.762438144735464, 1.7060387412382962, 1.706037709595915, 1.7060172057035823, 1.7060364200429379, 25.76678705584495, 6.578853618583243, 3.3304683802447133, 3.3302862953643766, 10.5864283541353, 20.327184372304334, 7.2498044217107, 5.764838776557243, 8.781925924301877, 10.799158171414959, 4.954180898840682, 19.18137219171529, 44.46998475059043, 5.131642473844784, 15.434259303150684, 3.3288399327454967, 6.517397134453008, 20.344782128048166, 42.96696845868766, 9.059545015736251, 9.313729318832202, 7.749810018936876, 17.932509253637026, 7.031235508551685, 11.34897197864172, 10.36725696182548, 10.954676197143112, 13.788088187819797, 12.078730008263689, 6.54231129796652, 7.440814040290008, 6.473510035901111, 6.996279853917727, 6.568084303762641, 51.38103267820339, 17.33362956819723, 80.72966859404501, 5.003112449593417, 5.000763662223062, 4.997268206727782, 18.165064686491704, 4.189439240903077, 4.180352633665563, 4.1783609718602905, 4.174833720997748, 10.131082508431163, 3.367721549932591, 3.3646017884968744, 3.3636998175183948, 3.356599530464453, 5.3548831661039475, 3.2841157588994525, 3.234616985509396, 2.5467402396678858, 2.546680718740372, 2.545943320582839, 2.545696588532888, 2.545135463891454, 2.5443034427209503, 2.5434256362215892, 2.5429962715820875, 2.5427838785287795, 2.5420820911825794, 2.5414586476213126, 16.40021831311757, 5.481151472202942, 21.58322437214473, 5.273593349622151, 5.832199289243411, 27.24618989396402, 14.292773550780558, 14.292543606684522, 10.44736145546363, 4.101081441460476, 4.781595906421807, 25.464914727144304, 5.255927334845681, 24.914821297609283, 17.84889562424849, 15.558899668500537, 22.18423312227205, 17.450618205588697, 8.651862313145728, 13.718138167526522, 13.043517800566693, 14.999378531028016, 7.299337244969405, 7.755605343707507, 6.515527517025932, 16.930537567845203, 32.84352367304467, 10.557302204566403, 8.709356476768876, 8.2680678114551, 9.9018719951081, 7.54826953433461, 215.95460057011, 47.3631788738809, 8.604138047562566, 13.88712410875647, 5.49761663650666, 3.9537694811337074, 9.8082012788724, 3.1784962243425774, 3.178414182134466, 3.1767808169580625, 3.1767128261778597, 3.176714639265332, 3.1766527676553475, 3.176617412449642, 3.1766017745701953, 3.176496388860881, 5.495106416901574, 2.4031187150218027, 2.4023121177326643, 2.401548354635054, 2.399275196216943, 2.399460357775028, 2.399075983230949, 2.393498699530919, 2.3904898808710144, 2.389746741643399, 2.388851756339997, 2.3872134051730454, 2.382937918277964, 9.161352407267186, 9.699734227399388, 12.376207607866908, 9.882357463023908, 11.76355719215993, 3.9523697776052673, 18.632662996410026, 19.052929420086585, 5.033769029263893, 9.120936874427215, 17.407688520741043, 9.447175675258347, 4.729149483449756, 10.679646361080614, 31.82218356941182, 32.75652918874491, 16.307924052805927, 12.346741310270781, 8.276611048082527, 8.084865262842275, 19.068861019703686, 8.11627519020846, 7.356197192884838, 12.27616778696409, 10.66173486994401, 13.21661444564071, 18.35432506004732, 7.556824387107039, 8.715777095567969, 8.585493162543507, 5.478045963433158, 4.714810941039444, 3.935929644254495, 3.172407515837689, 3.169257581294842, 3.147383314710408, 5.486103804783316, 5.458252111262198, 2.398583702074878, 2.3974463205218646, 2.3963073327813094, 2.395832102042389, 2.3954976134868162, 2.3930513898607058, 2.3932095993335696, 4.205143139676883, 2.386549141144749, 3.9404101044022526, 1.6247425214092714, 1.624744027210092, 1.6247434248897636, 1.6247436256632064, 1.6241994292467117, 1.624394179486151, 1.6239112189696858, 1.6237592334735462, 1.6235145910335909, 1.6236075491375708, 1.6235693017967323, 1.6233578873615473, 3.1605195195207463, 3.1702763057432075, 10.729103094182545, 2.388619516886086, 5.289293629821798, 4.71703029067528, 6.9763816256921185, 2.3962031313645373, 6.242853844977148, 7.086883313096807, 2.3975115718907487, 4.527832240021079, 5.492125000330514, 10.824675268386514, 17.516385851301166, 10.978562490575632, 17.250031771250008, 10.648301420612663, 16.42400164227027, 4.365124237399463, 9.769635722795464, 5.542782147663406, 16.10772885960855, 5.848389845047798, 16.133390917963354, 4.714708948130541, 6.355795331257781, 6.221702764333394, 6.50457849098605, 6.00083029380867, 4.980953004335089, 4.985026295941009, 4.747286446946423, 4.774615326422697, 16.970093494801187, 17.721091188771474, 5.216073784537157, 36.141555331145554, 53.61628180988655, 3.013288567193026, 3.002520728140652, 5.807729424366155, 2.8939969732838673, 2.2795453413711817, 2.2795396071424068, 2.2788855575330413, 2.2784183047701343, 2.2781545302464847, 2.2773192442549286, 2.2766078523578135, 2.276139035714331, 4.475561040999678, 4.48447794050929, 14.607990202817918, 1.5441221602827744, 1.5441153834669492, 1.544076112688066, 1.543682536076692, 1.543481664305059, 1.5434380494134676, 1.5433640257329178, 1.5432773172432597, 1.543257160560293, 1.5433127652029595, 14.022407980084171, 2.9413504082722133, 3.011925210860646, 4.918914233430794, 3.0150456739012887, 10.334692787162844, 2.9101160641348622, 13.241978748750487, 14.656188307081269, 10.671584635686578, 16.28792600775567, 4.478844495149136, 6.835234062569403, 4.189354561911573, 10.144850196402894, 6.940533964503087, 3.739857751523838, 16.482628444284675, 13.958550218329856, 7.51284335903233, 7.760973516467476, 4.245880504001288, 6.812609923584456, 5.942298567612452, 5.952233727140896, 10.17130897055773, 5.256007648784195, 5.675569699792401, 5.165552796326409, 4.799714560946543, 8.141765353657242, 7.408501205904708, 5.210952836976091, 8.142576177538064, 3.0092890258288425, 3.0092880037819336, 3.009283234229694, 3.0055697971284445, 2.9959209929466484, 6.854533384598781, 2.275252721636861, 2.2747108664341513, 23.341755315338958, 5.940861604727688, 5.940679680377958, 2.108993795897516, 9.433589038793741, 1.5412218683617254, 1.5412215276794226, 1.5412193132444538, 1.5412193132444538, 1.541194954459799, 1.5410947938627562, 1.5410022986175278, 1.540563840493738, 1.5409239416878684, 1.54093722829768, 1.5408925989160045, 1.540892769257156, 1.540766205781641, 4.47262308406223, 3.009289707193448, 3.006269899260836, 3.004951458748741, 3.755813891538167, 5.211001213863098, 6.673040338663288, 6.88330877462813, 3.429637500445041, 2.268954357562609, 4.221089163480332, 3.8770855488427873, 5.252489164023926, 3.7408340906811097, 5.182801576925594, 7.267313601856792, 13.223215648891449, 4.988318314781786, 5.102027506327367, 5.967633782816181, 21.4640180293567, 6.382297973209045, 6.808591694692574, 10.613959871276549, 10.176629405909344, 3.9489916590973886, 4.6301358433812245, 5.329663585410061, 4.9555446772459915, 4.399421359009826, 4.4786647440212715, 4.484661433916334, 7.244383483660007, 30.739612452797726, 21.502893312513876, 4.378674043113938, 4.909201567482085, 4.241350831751569, 4.240131324340288, 5.959216244775189, 3.592409053586071, 5.396352557017614, 2.9444415908655652, 2.9409651390963933, 13.453174851796852, 13.558021629766195, 12.428474421513064, 31.848438976119365, 5.653097160803168, 4.900507071579069, 2.154474314862733, 5.815555073570248, 1.5084819940628902, 1.508479609472829, 1.5084166282412137, 1.5082920684780186, 1.508260507727209, 1.5077180836232957, 1.5076396726912846, 1.5076190530007556, 1.507623822180878, 1.5076253651509175, 3.8278393497849095, 3.517944758396046, 9.387023498859188, 2.9432201196742342, 2.920575771913402, 4.240321530465167, 5.492888617813784, 3.6125453736825723, 10.112946577159272, 5.008231067862213, 5.222058661346937, 5.086516317950246, 5.435711197867171, 4.909823244138031, 6.027563645648314, 5.753868814627983, 4.3794517000138855, 8.707548868470516, 14.924855186905772, 9.452562133180269, 7.980101896851344, 7.093650459953673, 5.1636535983288345, 5.6840412846768915, 5.034679818660629, 2.5337003082826848, 1.9156883262819424, 1.913327589473495, 1.9039247198645923, 1.297674605754093, 1.2976716777084392, 1.2976637170843177, 1.2973510567093385, 1.2972747445194839, 1.2972560782284404, 1.2972375949402504, 1.2970910096547026, 1.297090552147569, 1.29667330564189, 1.296645763712458, 1.2966764166903972, 1.2966050455775837, 1.296598640477716, 1.2965404455703449, 1.2965142761623132, 1.296452604200728, 1.2964220427242157, 1.296372723455233, 1.2960160508940186, 1.2958992035721433, 1.2802142120128228, 1.2793087138943577, 1.279246675927066, 1.2791345866793782, 1.2787728815396961, 3.7635206585578467, 5.4114679412396685, 3.7416020408042514, 3.1895124446608603, 8.757256770551278, 2.5337079944025263, 21.651432123655407, 2.5196782636519197, 2.5198014245722367, 2.4350745805170533, 6.115552753282116, 4.301356162452402, 2.507574820935865, 3.0965792036520945, 2.396120410146281, 1.9161696237863004, 1.9099165992895681, 7.191742025151965, 1.8529776405011997, 1.8709417495963656, 3.45480070101729, 5.885753142262228, 3.157348595164309, 3.5476691590159635, 4.568527518169988, 1.911817449927502, 3.0056990716552647, 3.6478657832749066, 2.4497605594998375, 2.1716632014247663, 2.073938762711972, 1.9482174494738165, 1.9513918169683382, 1.938376654036804], \"Total\": [217.0, 84.0, 184.0, 64.0, 52.0, 48.0, 276.0, 42.0, 41.0, 34.0, 71.0, 56.0, 45.0, 46.0, 24.0, 47.0, 31.0, 50.0, 132.0, 38.0, 37.0, 124.0, 45.0, 25.0, 51.0, 45.0, 42.0, 37.0, 47.0, 20.0, 15.285058264206722, 13.577251096778191, 11.86920126484386, 22.89960959404237, 12.715066957657028, 10.160704149382838, 16.930039420054747, 19.468831661465323, 38.034492630003115, 8.44801481611657, 7.599535839156126, 7.599589898388986, 7.598923593455323, 10.056930436462455, 6.745836197664061, 6.7459531730133895, 6.746027705057138, 6.745545682893919, 6.745301361748982, 6.737696242306005, 22.74868350544651, 5.8912321077934005, 6.725784157305884, 5.8910643803056715, 32.905177946492174, 5.878437080193795, 11.784810838799764, 5.037830606665016, 5.037676381826647, 5.037552969761945, 30.93501046031625, 30.44719884974684, 47.47324835961522, 56.64193034633033, 21.54624398196764, 47.19605000660949, 20.746006212961547, 45.589699717069806, 71.06306997659337, 25.544566162064964, 19.18013427835936, 38.124449866589494, 51.652652927428186, 46.927953690881246, 35.25896068350818, 16.911787315116808, 35.27499958446093, 43.43126949505405, 42.13651318360546, 124.92961692976583, 132.28422419312972, 60.670141394925274, 37.0971354491274, 78.9321633788862, 45.3828234821692, 25.996936518823293, 10.859769138221925, 7.496315912839054, 5.812359454084027, 5.797765553745736, 4.973068942245766, 4.972919049246254, 4.972279272767285, 4.971615159774599, 4.971150565900532, 45.349033157939935, 4.965407819244962, 4.132487460737998, 4.1322839772705615, 4.132286517638515, 4.132320278514611, 4.132285944319539, 4.132200243016431, 21.64620143684085, 14.851544595825462, 3.2907440120519538, 3.2907273976882774, 3.2913131987112054, 3.290727663196113, 3.290664030899004, 3.291223723495322, 3.2912426351890507, 3.291227479600829, 3.2911953596089485, 3.2910712854807977, 50.34804421034495, 9.811992858602252, 9.808668271570468, 12.067144886847496, 6.6266004566538435, 4.10396520101388, 24.828333842513707, 28.933026012310357, 7.338964263098088, 7.439964491001511, 9.203384463729192, 184.3269829966784, 82.04350718804176, 14.505348755127613, 276.7701267431016, 16.4501781308074, 12.227700982332609, 99.85452698681627, 26.303450606839988, 55.70681825974526, 42.65681832770895, 31.723269557152065, 60.670141394925274, 11.565266978764472, 16.877234231455404, 78.9321633788862, 19.51636572839639, 11.479767752833197, 13.789771771286222, 15.913303488370264, 21.00672236736046, 23.61055287542779, 50.20037609397795, 8.080668270790254, 5.6433515468198, 5.643232391758924, 4.830779935745763, 4.018301956398932, 4.018285819705847, 4.018313161154363, 4.017990148174038, 4.0141935301860245, 3.205778871642034, 3.2057523983430602, 3.2056907417730973, 3.2056704495808477, 3.2054395125950563, 3.205596112321817, 3.2056407832542595, 3.205729683688982, 3.205613227035146, 3.2037532348171527, 3.203862397539097, 3.203890456561464, 10.551538400856852, 4.8358978179058845, 15.243150416647149, 9.727036166758955, 8.011746432436766, 2.3932181181999943, 2.393218129144663, 2.3931902375695575, 2.393217474918169, 36.24079370316405, 9.480679082543475, 4.7534035797031935, 4.791015020801172, 17.168215983145913, 36.36940386577596, 11.418785230426789, 8.843219054552991, 16.769518662460438, 22.71050702144722, 8.10739841695474, 55.70681825974526, 184.3269829966784, 8.814641884786212, 42.58380586023785, 4.839214408175985, 13.388268358107522, 82.04350718804176, 276.7701267431016, 24.534319993208044, 26.303450606839988, 19.282790783912834, 99.85452698681627, 18.40691861640754, 51.5898408503634, 44.18428669592697, 53.446898113759225, 132.28422419312972, 124.92961692976583, 17.245749374284358, 31.723269557152065, 18.19577382188456, 78.9321633788862, 34.01841355923588, 52.503231850027305, 18.0221163927336, 84.2852200633532, 5.697361730714135, 5.697071761871328, 5.696980418515174, 21.02792172390241, 4.876255296125647, 4.875444537914133, 4.875403706898891, 4.874626029632061, 12.18729643416867, 4.054631292338562, 4.05437153096967, 4.0539422371403395, 4.053695032729946, 6.478822566040126, 4.054485929396712, 4.041364495289379, 3.2330065961371104, 3.2329482317386784, 3.232924659317557, 3.2329564244612135, 3.232970771148419, 3.2325874355178414, 3.2327696484059403, 3.2327539865028343, 3.2328259680256277, 3.232798161163033, 3.2325339068525407, 22.349183030322944, 7.219491163393827, 31.554675071401928, 7.125056089707266, 7.9491892965418725, 43.825888898122024, 21.608979290086978, 21.608958044365707, 15.501131196697557, 5.488392479068233, 6.527166116896368, 44.18428669592697, 7.2825744413966405, 51.5898408503634, 34.01841355923588, 29.630824924059638, 52.052254177932525, 37.69896009814969, 14.534544133768675, 27.917259790063476, 26.397802871724352, 33.741359279183754, 12.221573877395459, 13.561639024965986, 10.227465048494262, 53.446898113759225, 276.7701267431016, 42.58380586023785, 28.558683921000817, 35.27499958446093, 99.85452698681627, 50.20037609397795, 217.10179595733166, 48.06224189859809, 9.296642083936613, 15.490161279133124, 6.195091564305098, 4.6447105518434615, 11.600961539363272, 3.869394303097196, 3.869318018703499, 3.869507289687009, 3.8695072731518487, 3.8695151143721795, 3.869513410172286, 3.869513571887491, 3.869517572966895, 3.869524402422592, 7.048188494828823, 3.0940777431615216, 3.094159694362651, 3.09406472745092, 3.0940322384809695, 3.0943486447371367, 3.0939489414371035, 3.0940703230655022, 3.0949777032447026, 3.0950705950956543, 3.0952339152033326, 3.095394582325251, 3.0932115239165507, 12.481661578925355, 13.297508995998092, 17.73028814935714, 14.010577168736413, 17.172702084166428, 5.485274313221487, 34.57632457694857, 37.0971354491274, 7.948983205221407, 17.319326718012668, 42.13651318360546, 19.893206137272593, 7.740635781761902, 24.455435169357497, 124.92961692976583, 132.28422419312972, 46.927953690881246, 32.864226029523834, 17.465298067426634, 17.034737912748025, 71.06306997659337, 18.212658471727195, 16.65618713100997, 45.3828234821692, 35.934340887407, 56.64193034633033, 276.7701267431016, 19.64630207139638, 37.057278849117836, 82.04350718804176, 6.185496551842782, 5.411247030325794, 4.636718249588699, 3.8634550023783247, 3.8635092630282775, 3.8621872201826717, 6.918393658922364, 7.00779420936761, 3.0896311500516145, 3.0895299560555265, 3.0894034285378154, 3.0896639217193163, 3.089677147092025, 3.087618571845367, 3.0896478068777946, 5.431701106840956, 3.0903396361353987, 5.372236327924033, 2.3157900123333444, 2.315794117596513, 2.3157936146564544, 2.315793940455132, 2.3152933414069867, 2.315818972384872, 2.3158193506366573, 2.3158284407256207, 2.315550967610872, 2.315704723419154, 2.3157959620715785, 2.315788311364405, 4.596973665101173, 4.703977188556341, 19.301909776700654, 3.704386677356244, 10.470995201535144, 9.084560993703242, 15.06071945976131, 3.823210384897119, 13.633061397177414, 17.245749374284358, 3.9302343358559533, 9.554910828357531, 14.318501545173168, 42.65681832770895, 99.85452698681627, 50.20037609397795, 132.28422419312972, 53.446898113759225, 124.92961692976583, 10.832557824972595, 60.670141394925274, 18.19577382188456, 184.3269829966784, 22.047317785608218, 276.7701267431016, 13.18854107858019, 36.36940386577596, 35.934340887407, 45.589699717069806, 43.825888898122024, 19.282790783912834, 22.468766455343747, 20.005284017167682, 52.052254177932525, 18.495124969782605, 20.012451212134646, 5.916147941694094, 42.844592388003996, 64.75457768419638, 3.709868490692112, 3.709731835231798, 7.449546183051805, 3.716371546037563, 2.974433559855863, 2.97444141163639, 2.9744273800506837, 2.9744959684265253, 2.974497283000825, 2.974455023941317, 2.9745609548210887, 2.974755464374527, 6.0210483380969615, 6.034112907476296, 19.77261735305529, 2.2390103787674556, 2.2390173561651827, 2.238964460437214, 2.23899908756959, 2.239044583834736, 2.239034659896653, 2.2390394146738912, 2.2390582373238033, 2.2390311931793496, 2.2391300249543318, 23.071876594310613, 4.433790042065062, 4.550091824303887, 7.672167018780289, 4.562905387320785, 17.935313112009357, 4.490987667884406, 26.67485391900824, 33.778933583648616, 23.256416814642815, 45.3828234821692, 8.2528249166415, 15.923530859916674, 8.241825594036348, 37.057278849117836, 19.836866872303304, 7.462024002916642, 132.28422419312972, 124.92961692976583, 34.57632457694857, 37.69896009814969, 10.027439944146083, 33.741359279183754, 28.558683921000817, 29.012189049477666, 276.7701267431016, 25.544566162064964, 51.5898408503634, 47.47324835961522, 47.19605000660949, 8.842727266812187, 8.108655651165293, 5.906430639587939, 9.5778354364112, 3.7043157804854228, 3.704314775687906, 3.70431003278462, 3.704284055169106, 3.7042583354959717, 8.905798517653576, 2.9702795289586623, 2.970331281636522, 31.69503647474569, 8.077224457435703, 8.077199281753789, 2.970460639185703, 13.33417000118585, 2.2362486230183056, 2.236248282336003, 2.2362464715962918, 2.2362464928434105, 2.2362218002562813, 2.236258700538135, 2.2361514231422523, 2.2356675201609484, 2.2362308874143513, 2.2362773598328656, 2.2362856282545978, 2.2362955568756275, 2.236300533732345, 6.60915564919526, 4.422515946932413, 4.439353825186275, 4.43942697553192, 5.832209453635313, 8.370660280240838, 11.342102475045243, 13.741639665189341, 6.0409829022106845, 3.6887789441218666, 8.34821925104485, 7.734311808953096, 11.806236582368502, 7.620930429997569, 13.623806244809225, 24.555439188033766, 78.9321633788862, 12.932195833683009, 13.510632900401045, 18.43108009854168, 276.7701267431016, 24.49951107509758, 29.012189049477666, 99.85452698681627, 184.3269829966784, 9.11216589641532, 18.36992602618259, 48.94212039108901, 35.934340887407, 21.00672236736046, 32.864226029523834, 50.20037609397795, 7.95294195084068, 34.275745052375335, 24.18093042058618, 5.079052777837038, 5.8093707259000915, 5.081968583510071, 5.081938088884396, 7.156679217983419, 4.3620638071563445, 6.562929433955186, 3.6418965785778434, 3.6424002145620173, 17.038160039296177, 17.305290586393564, 15.884778433946515, 41.34474522616648, 7.349045826608145, 6.553768497413012, 2.9370223565383733, 8.166089998529486, 2.205070027285718, 2.2050678819742577, 2.2050049175024355, 2.2050829807464662, 2.205085561549531, 2.205042538030101, 2.2050761251966713, 2.20505068581583, 2.2050778607912944, 2.205082849096129, 5.623059688161305, 5.191478168228212, 14.264002429839731, 4.37593348823465, 4.455399531074479, 6.734655904203341, 9.005995971643788, 5.912041145627457, 19.836866872303304, 8.941103045463986, 9.87760182947883, 9.713461096860687, 11.013216919556879, 9.92866064130885, 15.381416343620813, 15.182736420388874, 8.881576152041664, 52.052254177932525, 276.7701267431016, 78.9321633788862, 48.94212039108901, 51.652652927428186, 17.784490132749976, 50.20037609397795, 27.917259790063476, 3.2403291351226646, 2.622317218727348, 2.6228851246237195, 2.62638638208078, 2.0043035249217067, 2.004300584470519, 2.0042926885288455, 2.004383594148851, 2.004400177093734, 2.004403976820746, 2.004408682269894, 2.0045021003422288, 2.004502483784756, 2.004537712406771, 2.0045457032299963, 2.0046061600339953, 2.0046334000951846, 2.004626268076337, 2.004648242253477, 2.0046577027162225, 2.0046809186976517, 2.0046946351436175, 2.004697793976953, 2.004782122018741, 2.0048235395284397, 2.0102072852584767, 2.0105103278177126, 2.010528563316875, 2.010580182227394, 2.010723078115011, 6.1210826012973065, 15.381416343620813, 10.139813044595407, 8.02154889315795, 37.69896009814969, 5.682149007011562, 276.7701267431016, 7.066265780046296, 7.188678869142608, 7.2198446411764055, 50.20037609397795, 24.434543741209588, 8.053275792236917, 13.813622729134677, 8.177819139694666, 5.021220797795939, 5.01193366594797, 132.28422419312972, 4.881336360442874, 5.20032778812306, 27.37622979142465, 124.92961692976583, 24.04660131673866, 48.94212039108901, 184.3269829966784, 8.095772663860506, 43.43126949505405, 99.85452698681627, 43.825888898122024, 17.038160039296177, 33.741359279183754, 24.18093042058618, 78.9321633788862, 34.275745052375335], \"Category\": [\"Default\", \"Default\", \"Default\", \"Default\", \"Default\", \"Default\", \"Default\", \"Default\", \"Default\", \"Default\", \"Default\", \"Default\", \"Default\", \"Default\", \"Default\", \"Default\", \"Default\", \"Default\", \"Default\", \"Default\", \"Default\", \"Default\", \"Default\", \"Default\", \"Default\", \"Default\", \"Default\", \"Default\", \"Default\", \"Default\", \"Topic1\", \"Topic1\", \"Topic1\", \"Topic1\", \"Topic1\", \"Topic1\", \"Topic1\", \"Topic1\", \"Topic1\", \"Topic1\", \"Topic1\", \"Topic1\", \"Topic1\", \"Topic1\", \"Topic1\", \"Topic1\", \"Topic1\", \"Topic1\", \"Topic1\", \"Topic1\", \"Topic1\", \"Topic1\", \"Topic1\", \"Topic1\", \"Topic1\", \"Topic1\", \"Topic1\", \"Topic1\", \"Topic1\", \"Topic1\", \"Topic1\", \"Topic1\", \"Topic1\", \"Topic1\", \"Topic1\", \"Topic1\", \"Topic1\", \"Topic1\", \"Topic1\", \"Topic1\", \"Topic1\", \"Topic1\", \"Topic1\", \"Topic1\", \"Topic1\", \"Topic1\", \"Topic1\", \"Topic1\", \"Topic1\", \"Topic1\", \"Topic1\", \"Topic1\", \"Topic1\", \"Topic1\", \"Topic1\", \"Topic2\", \"Topic2\", \"Topic2\", \"Topic2\", \"Topic2\", \"Topic2\", \"Topic2\", \"Topic2\", \"Topic2\", \"Topic2\", \"Topic2\", \"Topic2\", \"Topic2\", \"Topic2\", \"Topic2\", \"Topic2\", \"Topic2\", \"Topic2\", \"Topic2\", \"Topic2\", \"Topic2\", \"Topic2\", \"Topic2\", \"Topic2\", \"Topic2\", \"Topic2\", \"Topic2\", \"Topic2\", \"Topic2\", \"Topic2\", \"Topic2\", \"Topic2\", \"Topic2\", \"Topic2\", \"Topic2\", \"Topic2\", \"Topic2\", \"Topic2\", \"Topic2\", \"Topic2\", \"Topic2\", \"Topic2\", \"Topic2\", \"Topic2\", \"Topic2\", \"Topic2\", \"Topic2\", \"Topic2\", \"Topic2\", \"Topic2\", \"Topic2\", \"Topic2\", \"Topic2\", \"Topic2\", \"Topic2\", \"Topic2\", \"Topic2\", \"Topic2\", \"Topic2\", \"Topic2\", \"Topic2\", \"Topic2\", \"Topic2\", \"Topic3\", \"Topic3\", \"Topic3\", \"Topic3\", \"Topic3\", \"Topic3\", \"Topic3\", \"Topic3\", \"Topic3\", \"Topic3\", \"Topic3\", \"Topic3\", \"Topic3\", \"Topic3\", \"Topic3\", \"Topic3\", \"Topic3\", \"Topic3\", \"Topic3\", \"Topic3\", \"Topic3\", \"Topic3\", \"Topic3\", \"Topic3\", \"Topic3\", \"Topic3\", \"Topic3\", \"Topic3\", \"Topic3\", \"Topic3\", \"Topic3\", \"Topic3\", \"Topic3\", \"Topic3\", \"Topic3\", \"Topic3\", \"Topic3\", \"Topic3\", \"Topic3\", \"Topic3\", \"Topic3\", \"Topic3\", \"Topic3\", \"Topic3\", \"Topic3\", \"Topic3\", \"Topic3\", \"Topic3\", \"Topic3\", \"Topic3\", \"Topic3\", \"Topic3\", \"Topic3\", \"Topic3\", \"Topic3\", \"Topic3\", \"Topic3\", \"Topic3\", \"Topic3\", \"Topic3\", \"Topic3\", \"Topic3\", \"Topic3\", \"Topic3\", \"Topic4\", \"Topic4\", \"Topic4\", \"Topic4\", \"Topic4\", \"Topic4\", \"Topic4\", \"Topic4\", \"Topic4\", \"Topic4\", \"Topic4\", \"Topic4\", \"Topic4\", \"Topic4\", \"Topic4\", \"Topic4\", \"Topic4\", \"Topic4\", \"Topic4\", \"Topic4\", \"Topic4\", \"Topic4\", \"Topic4\", \"Topic4\", \"Topic4\", \"Topic4\", \"Topic4\", \"Topic4\", \"Topic4\", \"Topic4\", \"Topic4\", \"Topic4\", \"Topic4\", \"Topic4\", \"Topic4\", \"Topic4\", \"Topic4\", \"Topic4\", \"Topic4\", \"Topic4\", \"Topic4\", \"Topic4\", \"Topic4\", \"Topic4\", \"Topic4\", \"Topic4\", \"Topic4\", \"Topic4\", \"Topic4\", \"Topic4\", \"Topic4\", \"Topic4\", \"Topic4\", \"Topic4\", \"Topic4\", \"Topic4\", \"Topic4\", \"Topic4\", \"Topic4\", \"Topic4\", \"Topic4\", \"Topic4\", \"Topic5\", \"Topic5\", \"Topic5\", \"Topic5\", \"Topic5\", \"Topic5\", \"Topic5\", \"Topic5\", \"Topic5\", \"Topic5\", \"Topic5\", \"Topic5\", \"Topic5\", \"Topic5\", \"Topic5\", \"Topic5\", \"Topic5\", \"Topic5\", \"Topic5\", \"Topic5\", \"Topic5\", \"Topic5\", \"Topic5\", \"Topic5\", \"Topic5\", \"Topic5\", \"Topic5\", \"Topic5\", \"Topic5\", \"Topic5\", \"Topic5\", \"Topic5\", \"Topic5\", \"Topic5\", \"Topic5\", \"Topic5\", \"Topic5\", \"Topic5\", \"Topic5\", \"Topic5\", \"Topic5\", \"Topic5\", \"Topic5\", \"Topic5\", \"Topic5\", \"Topic5\", \"Topic5\", \"Topic5\", \"Topic5\", \"Topic5\", \"Topic5\", \"Topic5\", \"Topic5\", \"Topic5\", \"Topic5\", \"Topic5\", \"Topic5\", \"Topic5\", \"Topic5\", \"Topic6\", \"Topic6\", \"Topic6\", \"Topic6\", \"Topic6\", \"Topic6\", \"Topic6\", \"Topic6\", \"Topic6\", \"Topic6\", \"Topic6\", \"Topic6\", \"Topic6\", \"Topic6\", \"Topic6\", \"Topic6\", \"Topic6\", \"Topic6\", \"Topic6\", \"Topic6\", \"Topic6\", \"Topic6\", \"Topic6\", \"Topic6\", \"Topic6\", \"Topic6\", \"Topic6\", \"Topic6\", \"Topic6\", \"Topic6\", \"Topic6\", \"Topic6\", \"Topic6\", \"Topic6\", \"Topic6\", \"Topic6\", \"Topic6\", \"Topic6\", \"Topic6\", \"Topic6\", \"Topic6\", \"Topic6\", \"Topic6\", \"Topic6\", \"Topic6\", \"Topic6\", \"Topic6\", \"Topic6\", \"Topic6\", \"Topic6\", \"Topic6\", \"Topic6\", \"Topic6\", \"Topic6\", \"Topic6\", \"Topic6\", \"Topic6\", \"Topic6\", \"Topic6\", \"Topic6\", \"Topic6\", \"Topic6\", \"Topic6\", \"Topic6\", \"Topic7\", \"Topic7\", \"Topic7\", \"Topic7\", \"Topic7\", \"Topic7\", \"Topic7\", \"Topic7\", \"Topic7\", \"Topic7\", \"Topic7\", \"Topic7\", \"Topic7\", \"Topic7\", \"Topic7\", \"Topic7\", \"Topic7\", \"Topic7\", \"Topic7\", \"Topic7\", \"Topic7\", \"Topic7\", \"Topic7\", \"Topic7\", \"Topic7\", \"Topic7\", \"Topic7\", \"Topic7\", \"Topic7\", \"Topic7\", \"Topic7\", \"Topic7\", \"Topic7\", \"Topic7\", \"Topic7\", \"Topic7\", \"Topic7\", \"Topic7\", \"Topic7\", \"Topic7\", \"Topic7\", \"Topic7\", \"Topic7\", \"Topic7\", \"Topic7\", \"Topic7\", \"Topic7\", \"Topic7\", \"Topic7\", \"Topic7\", \"Topic7\", \"Topic7\", \"Topic7\", \"Topic7\", \"Topic7\", \"Topic7\", \"Topic7\", \"Topic7\", \"Topic7\", \"Topic7\", \"Topic8\", \"Topic8\", \"Topic8\", \"Topic8\", \"Topic8\", \"Topic8\", \"Topic8\", \"Topic8\", \"Topic8\", \"Topic8\", \"Topic8\", \"Topic8\", \"Topic8\", \"Topic8\", \"Topic8\", \"Topic8\", \"Topic8\", \"Topic8\", \"Topic8\", \"Topic8\", \"Topic8\", \"Topic8\", \"Topic8\", \"Topic8\", \"Topic8\", \"Topic8\", \"Topic8\", \"Topic8\", \"Topic8\", \"Topic8\", \"Topic8\", \"Topic8\", \"Topic8\", \"Topic8\", \"Topic8\", \"Topic8\", \"Topic8\", \"Topic8\", \"Topic8\", \"Topic8\", \"Topic8\", \"Topic8\", \"Topic8\", \"Topic8\", \"Topic8\", \"Topic8\", \"Topic8\", \"Topic8\", \"Topic8\", \"Topic8\", \"Topic8\", \"Topic8\", \"Topic8\", \"Topic8\", \"Topic8\", \"Topic8\", \"Topic8\", \"Topic8\", \"Topic8\", \"Topic8\", \"Topic8\", \"Topic8\", \"Topic9\", \"Topic9\", \"Topic9\", \"Topic9\", \"Topic9\", \"Topic9\", \"Topic9\", \"Topic9\", \"Topic9\", \"Topic9\", \"Topic9\", \"Topic9\", \"Topic9\", \"Topic9\", \"Topic9\", \"Topic9\", \"Topic9\", \"Topic9\", \"Topic9\", \"Topic9\", \"Topic9\", \"Topic9\", \"Topic9\", \"Topic9\", \"Topic9\", \"Topic9\", \"Topic9\", \"Topic9\", \"Topic9\", \"Topic9\", \"Topic9\", \"Topic9\", \"Topic9\", \"Topic9\", \"Topic9\", \"Topic9\", \"Topic9\", \"Topic9\", \"Topic9\", \"Topic9\", \"Topic9\", \"Topic9\", \"Topic9\", \"Topic9\", \"Topic9\", \"Topic9\", \"Topic9\", \"Topic9\", \"Topic9\", \"Topic9\", \"Topic9\", \"Topic9\", \"Topic9\", \"Topic9\", \"Topic9\", \"Topic10\", \"Topic10\", \"Topic10\", \"Topic10\", \"Topic10\", \"Topic10\", \"Topic10\", \"Topic10\", \"Topic10\", \"Topic10\", \"Topic10\", \"Topic10\", \"Topic10\", \"Topic10\", \"Topic10\", \"Topic10\", \"Topic10\", \"Topic10\", \"Topic10\", \"Topic10\", \"Topic10\", \"Topic10\", \"Topic10\", \"Topic10\", \"Topic10\", \"Topic10\", \"Topic10\", \"Topic10\", \"Topic10\", \"Topic10\", \"Topic10\", \"Topic10\", \"Topic10\", \"Topic10\", \"Topic10\", \"Topic10\", \"Topic10\", \"Topic10\", \"Topic10\", \"Topic10\", \"Topic10\", \"Topic10\", \"Topic10\", \"Topic10\", \"Topic10\", \"Topic10\", \"Topic10\", \"Topic10\", \"Topic10\", \"Topic10\", \"Topic10\", \"Topic10\", \"Topic10\", \"Topic10\", \"Topic10\", \"Topic10\", \"Topic10\", \"Topic10\", \"Topic10\", \"Topic10\", \"Topic10\", \"Topic10\", \"Topic10\", \"Topic10\"], \"logprob\": [30.0, 29.0, 28.0, 27.0, 26.0, 25.0, 24.0, 23.0, 22.0, 21.0, 20.0, 19.0, 18.0, 17.0, 16.0, 15.0, 14.0, 13.0, 12.0, 11.0, 10.0, 9.0, 8.0, 7.0, 6.0, 5.0, 4.0, 3.0, 2.0, 1.0, -5.2891, -5.4136, -5.5552, -4.8998, -5.4883, -5.7227, -5.2197, -5.0879, -4.4212, -5.9295, -6.0359, -6.036, -6.0361, -5.7622, -6.1671, -6.1671, -6.1671, -6.1679, -6.1682, -6.1769, -4.964, -6.3202, -6.191, -6.3277, -4.611, -6.3376, -5.6466, -6.4979, -6.4988, -6.5008, -4.6911, -4.7249, -4.3113, -4.2138, -5.1196, -4.3992, -5.1607, -4.4459, -4.0794, -4.9974, -5.2591, -4.671, -4.4441, -4.572, -4.8218, -5.4132, -4.8688, -4.8078, -4.9022, -4.3908, -4.3983, -4.9344, -5.1747, -5.0074, -5.2815, -4.5713, -5.4827, -5.883, -6.1694, -6.1919, -6.346, -6.3464, -6.3474, -6.3486, -6.3503, -4.1479, -6.3642, -6.5633, -6.5637, -6.5638, -6.5638, -6.564, -6.5645, -4.9215, -5.3211, -6.8434, -6.8434, -6.8433, -6.8435, -6.8435, -6.8436, -6.8436, -6.8436, -6.8439, -6.844, -4.1386, -5.7597, -5.7631, -5.5684, -6.1663, -6.6299, -4.905, -4.7788, -6.083, -6.074, -5.8832, -3.1745, -4.141, -5.5655, -3.2613, -5.505, -5.7595, -4.279, -5.2212, -4.7741, -4.9676, -5.2461, -4.8639, -5.8482, -5.6435, -5.0054, -5.6612, -5.8901, -5.8369, -5.7976, -5.7318, -5.7607, -5.6822, -5.7037, -6.1032, -6.1034, -6.2823, -6.5003, -6.5004, -6.5004, -6.5006, -6.5248, -6.7797, -6.7798, -6.7799, -6.7802, -6.7804, -6.7804, -6.7804, -6.7805, -6.7806, -6.7924, -6.7926, -6.7931, -5.6331, -6.4187, -5.281, -5.7435, -5.9518, -7.169, -7.169, -7.169, -7.169, -4.4541, -5.8193, -6.5001, -6.5001, -5.3436, -4.6912, -5.7222, -5.9514, -5.5305, -5.3237, -6.103, -4.7493, -3.9084, -6.0678, -4.9666, -6.5006, -5.8287, -4.6904, -3.9428, -5.4994, -5.4717, -5.6555, -4.8166, -5.7528, -5.2741, -5.3646, -5.3094, -5.0794, -5.2118, -5.8249, -5.6962, -5.8355, -5.7578, -5.821, -3.7501, -4.8367, -3.2982, -6.0793, -6.0798, -6.0805, -4.7899, -6.2568, -6.259, -6.2594, -6.2603, -5.3737, -6.4751, -6.476, -6.4763, -6.4784, -6.0113, -6.5003, -6.5154, -6.7545, -6.7546, -6.7549, -6.7549, -6.7552, -6.7555, -6.7558, -6.756, -6.7561, -6.7564, -6.7566, -4.8921, -5.988, -4.6174, -6.0266, -5.926, -4.3844, -5.0296, -5.0296, -5.343, -6.2781, -6.1246, -4.4521, -6.03, -4.4739, -4.8074, -4.9447, -4.59, -4.83, -5.5316, -5.0706, -5.1211, -4.9813, -5.7016, -5.6409, -5.8152, -4.8602, -4.1976, -5.3325, -5.525, -5.577, -5.3966, -5.668, -2.1989, -3.7161, -5.4217, -4.943, -5.8696, -6.1993, -5.2907, -6.4175, -6.4176, -6.4181, -6.4181, -6.4181, -6.4181, -6.4181, -6.4181, -6.4182, -5.8701, -6.6972, -6.6975, -6.6978, -6.6988, -6.6987, -6.6989, -6.7012, -6.7024, -6.7027, -6.7031, -6.7038, -6.7056, -5.3589, -5.3018, -5.0582, -5.2832, -5.1089, -6.1996, -4.649, -4.6267, -5.9578, -5.3634, -4.717, -5.3282, -6.0202, -5.2056, -4.1138, -4.0848, -4.7823, -5.0605, -5.4605, -5.4839, -4.6259, -5.4801, -5.5784, -5.0663, -5.2073, -4.9925, -4.6641, -5.5515, -5.4088, -5.4239, -5.752, -5.9021, -6.0826, -6.2983, -6.2993, -6.3062, -5.7505, -5.7556, -6.5779, -6.5784, -6.5788, -6.579, -6.5792, -6.5802, -6.5801, -6.0165, -6.5829, -6.0815, -6.9674, -6.9674, -6.9674, -6.9674, -6.9678, -6.9676, -6.9679, -6.968, -6.9682, -6.9681, -6.9681, -6.9683, -6.302, -6.2989, -5.0798, -6.5821, -5.7871, -5.9016, -5.5102, -6.5789, -5.6213, -5.4945, -6.5783, -5.9425, -5.7495, -5.0709, -4.5896, -5.0568, -4.605, -5.0874, -4.654, -5.9791, -5.1735, -5.7403, -4.6735, -5.6866, -4.6719, -5.9021, -5.6034, -5.6247, -5.5803, -5.6609, -5.8471, -5.8463, -5.8952, -5.8895, -4.4768, -4.4335, -5.6565, -3.7208, -3.3264, -6.2053, -6.2088, -5.5491, -6.2457, -6.4843, -6.4843, -6.4846, -6.4848, -6.4849, -6.4853, -6.4856, -6.4858, -5.8097, -5.8077, -4.6267, -6.8738, -6.8738, -6.8739, -6.8741, -6.8743, -6.8743, -6.8743, -6.8744, -6.8744, -6.8744, -4.6676, -6.2294, -6.2057, -5.7152, -6.2047, -4.9728, -6.2401, -4.7249, -4.6234, -4.9407, -4.5179, -5.8089, -5.3862, -5.8757, -4.9913, -5.3709, -5.9892, -4.506, -4.6722, -5.2917, -5.2592, -5.8623, -5.3895, -5.5262, -5.5245, -4.9887, -5.6489, -5.5721, -5.6663, -5.7397, -5.1914, -5.2858, -5.6376, -5.1913, -6.1867, -6.1867, -6.1867, -6.1879, -6.1911, -5.3635, -6.4663, -6.4665, -4.1382, -5.5065, -5.5066, -6.5422, -5.0441, -6.8558, -6.8558, -6.8558, -6.8558, -6.8558, -6.8559, -6.856, -6.8562, -6.856, -6.856, -6.856, -6.856, -6.8561, -5.7904, -6.1867, -6.1877, -6.1881, -5.9651, -5.6376, -5.3903, -5.3593, -6.0559, -6.4691, -5.8483, -5.9333, -5.6297, -5.9691, -5.643, -5.305, -4.7064, -5.6813, -5.6588, -5.502, -4.222, -5.4349, -5.3702, -4.9262, -4.9683, -5.9149, -5.7558, -5.6151, -5.6879, -5.8069, -5.7891, -5.7877, -5.1139, -3.6686, -4.026, -5.6174, -5.503, -5.6493, -5.6496, -5.3092, -5.8153, -5.4084, -6.0142, -6.0154, -4.4949, -4.4872, -4.5742, -3.6332, -5.362, -5.5048, -6.3266, -5.3336, -6.6831, -6.6831, -6.6831, -6.6832, -6.6832, -6.6836, -6.6836, -6.6836, -6.6836, -6.6836, -5.7519, -5.8363, -4.8548, -6.0147, -6.0224, -5.6495, -5.3907, -5.8097, -4.7803, -5.4831, -5.4413, -5.4676, -5.4012, -5.5029, -5.2978, -5.3443, -5.6172, -4.93, -4.3911, -4.8479, -5.0172, -5.135, -5.4525, -5.3565, -5.4778, -5.7373, -6.0169, -6.0181, -6.023, -6.4064, -6.4064, -6.4064, -6.4066, -6.4067, -6.4067, -6.4067, -6.4068, -6.4068, -6.4071, -6.4072, -6.4071, -6.4072, -6.4072, -6.4072, -6.4073, -6.4073, -6.4073, -6.4074, -6.4077, -6.4077, -6.4199, -6.4206, -6.4207, -6.4208, -6.421, -5.3416, -4.9784, -5.3474, -5.5071, -4.4971, -5.7373, -3.5919, -5.7428, -5.7428, -5.777, -4.8561, -5.208, -5.7476, -5.5366, -5.7931, -6.0166, -6.0199, -4.694, -6.0502, -6.0405, -5.4272, -4.8944, -5.5172, -5.4007, -5.1478, -6.0189, -5.5664, -5.3728, -5.771, -5.8915, -5.9375, -6.0, -5.9984, -6.0051], \"loglift\": [30.0, 29.0, 28.0, 27.0, 26.0, 25.0, 24.0, 23.0, 22.0, 21.0, 20.0, 19.0, 18.0, 17.0, 16.0, 15.0, 14.0, 13.0, 12.0, 11.0, 10.0, 9.0, 8.0, 7.0, 6.0, 5.0, 4.0, 3.0, 2.0, 1.0, 1.8015, 1.7954, 1.7883, 1.7865, 1.7863, 1.7763, 1.7686, 1.7607, 1.7577, 1.754, 1.7534, 1.7534, 1.7534, 1.747, 1.7414, 1.7414, 1.7413, 1.7406, 1.7404, 1.7328, 1.7289, 1.7237, 1.7205, 1.7163, 1.7128, 1.7086, 1.704, 1.7026, 1.7017, 1.6997, 1.6945, 1.6766, 1.646, 1.5669, 1.6277, 1.564, 1.6244, 1.5518, 1.4745, 1.5796, 1.6045, 1.5056, 1.4288, 1.3968, 1.4329, 1.5762, 1.3855, 1.2385, 1.1743, 0.5989, 0.5342, 0.7776, 1.0292, 0.4414, 0.7208, 1.9881, 1.9496, 1.92, 1.888, 1.8681, 1.8674, 1.867, 1.8662, 1.8651, 1.8634, 1.8552, 1.8507, 1.8352, 1.8349, 1.8348, 1.8348, 1.8346, 1.8341, 1.8211, 1.7982, 1.7829, 1.7829, 1.7829, 1.7829, 1.7828, 1.7826, 1.7826, 1.7826, 1.7823, 1.7822, 1.7599, 1.7742, 1.7711, 1.7585, 1.76, 1.7756, 1.7004, 1.6736, 1.7412, 1.7366, 1.7146, 1.4262, 1.2691, 1.5774, 0.9329, 1.5121, 1.5543, 0.9347, 1.3265, 1.0232, 1.0967, 1.1143, 0.8481, 1.5212, 1.348, 0.4435, 1.185, 1.4868, 1.3566, 1.2527, 1.0408, 0.8951, 0.2193, 2.0242, 1.9837, 1.9836, 1.9602, 1.9263, 1.9262, 1.9262, 1.926, 1.9028, 1.8728, 1.8727, 1.8726, 1.8723, 1.8722, 1.8722, 1.8722, 1.872, 1.872, 1.8607, 1.8604, 1.86, 1.8281, 1.8226, 1.8123, 1.799, 1.7847, 1.7758, 1.7758, 1.7758, 1.7758, 1.7731, 1.7488, 1.7585, 1.7506, 1.6307, 1.5325, 1.6599, 1.6864, 1.4674, 1.3709, 1.6217, 1.0481, 0.6923, 1.5732, 1.0994, 1.7401, 1.3943, 0.7198, 0.2515, 1.118, 1.076, 1.2027, 0.3971, 1.1519, 0.6, 0.6645, 0.5293, -0.1469, -0.2221, 1.145, 0.6642, 1.0808, -0.309, 0.4696, 2.1065, 2.0891, 2.085, 1.9981, 1.9977, 1.997, 1.9817, 1.9763, 1.9743, 1.9738, 1.9731, 1.9433, 1.9425, 1.9416, 1.9414, 1.9394, 1.9376, 1.9174, 1.9054, 1.8895, 1.8895, 1.8892, 1.8891, 1.8889, 1.8887, 1.8883, 1.8881, 1.888, 1.8877, 1.8876, 1.8186, 1.8526, 1.7483, 1.8272, 1.8184, 1.6528, 1.7147, 1.7147, 1.7335, 1.8367, 1.8169, 1.577, 1.802, 1.4002, 1.4831, 1.4839, 1.2752, 1.3578, 1.6093, 1.4176, 1.4231, 1.3174, 1.6127, 1.5693, 1.6772, 0.9785, -0.0033, 0.7334, 0.9405, 0.6773, -0.1829, 0.2334, 2.2382, 2.2289, 2.1661, 2.1343, 2.1241, 2.0824, 2.0756, 2.0468, 2.0468, 2.0462, 2.0462, 2.0462, 2.0462, 2.0462, 2.0462, 2.0462, 1.9946, 1.9908, 1.9904, 1.9901, 1.9892, 1.9892, 1.9891, 1.9868, 1.9852, 1.9849, 1.9845, 1.9837, 1.9826, 1.9342, 1.928, 1.884, 1.8944, 1.8652, 1.9158, 1.6253, 1.5772, 1.7866, 1.6023, 1.3595, 1.4988, 1.7508, 1.415, 0.8759, 0.8477, 1.1865, 1.2645, 1.4967, 1.4982, 0.928, 1.4353, 1.4263, 0.936, 1.0285, 0.7882, -0.4698, 1.2881, 0.7962, -0.0137, 2.2432, 2.2269, 2.2008, 2.1676, 2.1666, 2.16, 2.1327, 2.1148, 2.1115, 2.1111, 2.1106, 2.1103, 2.1102, 2.1098, 2.1092, 2.1087, 2.1062, 2.0547, 2.0103, 2.0103, 2.0103, 2.0103, 2.0101, 2.01, 2.0097, 2.0096, 2.0096, 2.0096, 2.0095, 2.0094, 1.99, 1.9701, 1.7774, 1.9259, 1.6817, 1.7093, 1.5951, 1.8975, 1.5836, 1.4754, 1.8704, 1.6179, 1.4064, 0.9933, 0.6241, 0.8446, 0.3275, 0.7514, 0.3357, 1.4558, 0.5385, 1.176, -0.0727, 1.0376, -0.4776, 1.336, 0.6203, 0.611, 0.4175, 0.3763, 1.0111, 0.859, 0.9262, -0.0243, 2.4231, 2.3875, 2.3832, 2.339, 2.3204, 2.3012, 2.2976, 2.2602, 2.259, 2.2431, 2.2431, 2.2428, 2.2426, 2.2424, 2.2421, 2.2417, 2.2415, 2.2125, 2.2123, 2.2064, 2.1376, 2.1376, 2.1376, 2.1373, 2.1371, 2.1371, 2.1371, 2.137, 2.137, 2.137, 2.0112, 2.0988, 2.0966, 2.0646, 2.0948, 1.9579, 2.0753, 1.8088, 1.6742, 1.7302, 1.4844, 1.898, 1.6634, 1.8325, 1.2136, 1.459, 1.8184, 0.4265, 0.3175, 0.9826, 0.9286, 1.6498, 0.9092, 0.9393, 0.9252, -0.7945, 0.9281, 0.302, 0.291, 0.2234, 2.4465, 2.4387, 2.4038, 2.3667, 2.3213, 2.3213, 2.3212, 2.32, 2.3168, 2.2673, 2.2625, 2.2622, 2.2231, 2.2219, 2.2218, 2.1865, 2.183, 2.1568, 2.1568, 2.1568, 2.1568, 2.1568, 2.1567, 2.1567, 2.1567, 2.1566, 2.1566, 2.1566, 2.1566, 2.1565, 2.1386, 2.144, 2.1392, 2.1388, 2.089, 2.0551, 1.9986, 1.8377, 1.9629, 2.0431, 1.8471, 1.8385, 1.7191, 1.8175, 1.5626, 1.3115, 0.7424, 1.5764, 1.5552, 1.4014, -0.0278, 1.1839, 1.0795, 0.2875, -0.3676, 1.6929, 1.1509, 0.3117, 0.5479, 0.9657, 0.536, 0.1137, 2.63, 2.6144, 2.6059, 2.5749, 2.5549, 2.5425, 2.5422, 2.5402, 2.5292, 2.5276, 2.5107, 2.5094, 2.487, 2.4792, 2.4779, 2.4623, 2.4609, 2.4326, 2.4134, 2.3838, 2.3436, 2.3436, 2.3436, 2.3435, 2.3435, 2.3431, 2.3431, 2.3431, 2.3431, 2.343, 2.3387, 2.3341, 2.3049, 2.3267, 2.3009, 2.2607, 2.2288, 2.2307, 2.0496, 2.1437, 2.0859, 2.0764, 2.0172, 2.0191, 1.7865, 1.753, 2.0162, 0.9352, -0.1969, 0.601, 0.9096, 0.7379, 1.4866, 0.5449, 1.0104, 2.9045, 2.8365, 2.8351, 2.8288, 2.7158, 2.7158, 2.7158, 2.7155, 2.7154, 2.7154, 2.7154, 2.7152, 2.7152, 2.7149, 2.7149, 2.7149, 2.7148, 2.7148, 2.7147, 2.7147, 2.7146, 2.7146, 2.7146, 2.7143, 2.7141, 2.6993, 2.6984, 2.6984, 2.6983, 2.6979, 2.6641, 2.1059, 2.1535, 2.2282, 1.6907, 2.3428, 0.6024, 2.1193, 2.1022, 2.0636, 1.0453, 1.4134, 1.9837, 1.6551, 1.9229, 2.1871, 2.1857, 0.2385, 2.1819, 2.1282, 1.0806, 0.0953, 1.1202, 0.5261, -0.547, 1.7072, 0.4798, -0.1591, 0.2663, 1.0905, 0.3612, 0.6318, -0.5496, 0.2779]}, \"token.table\": {\"Topic\": [9, 1, 2, 6, 7, 1, 3, 6, 10, 3, 2, 2, 3, 4, 5, 1, 5, 7, 10, 3, 5, 6, 7, 7, 4, 10, 2, 3, 4, 5, 6, 7, 8, 9, 4, 1, 5, 1, 3, 6, 10, 4, 5, 5, 6, 1, 5, 6, 7, 1, 2, 3, 4, 5, 6, 7, 9, 10, 4, 10, 5, 3, 5, 7, 2, 3, 3, 2, 1, 2, 3, 4, 5, 7, 8, 9, 10, 1, 3, 5, 6, 8, 9, 2, 2, 2, 9, 3, 5, 6, 8, 9, 4, 2, 3, 7, 10, 4, 9, 10, 1, 2, 6, 8, 7, 1, 5, 7, 6, 3, 4, 7, 8, 8, 9, 6, 1, 2, 1, 6, 4, 4, 8, 2, 3, 4, 5, 6, 8, 10, 4, 1, 2, 3, 4, 6, 7, 7, 8, 4, 9, 2, 3, 5, 6, 7, 8, 9, 10, 1, 2, 6, 9, 1, 3, 6, 10, 2, 3, 1, 4, 6, 9, 10, 1, 7, 3, 2, 5, 9, 10, 3, 1, 3, 6, 9, 1, 3, 4, 9, 3, 4, 9, 3, 3, 1, 1, 5, 6, 7, 8, 8, 1, 8, 7, 8, 4, 5, 7, 9, 2, 5, 1, 9, 10, 3, 4, 6, 7, 6, 1, 2, 3, 6, 8, 3, 4, 1, 5, 6, 8, 7, 7, 8, 2, 4, 8, 9, 10, 1, 3, 4, 5, 8, 5, 10, 1, 2, 3, 6, 9, 1, 2, 3, 10, 10, 2, 3, 5, 6, 7, 8, 3, 5, 6, 7, 8, 9, 3, 5, 10, 1, 2, 3, 4, 6, 1, 2, 3, 4, 6, 7, 8, 9, 2, 3, 4, 6, 7, 8, 1, 2, 3, 4, 5, 6, 7, 8, 9, 10, 2, 3, 4, 5, 6, 7, 8, 9, 10, 1, 2, 3, 4, 5, 6, 8, 9, 2, 3, 6, 8, 10, 2, 3, 4, 5, 6, 8, 4, 4, 5, 7, 6, 1, 2, 3, 4, 5, 6, 8, 10, 2, 4, 6, 7, 10, 10, 1, 2, 3, 4, 6, 7, 8, 10, 1, 7, 8, 4, 7, 8, 9, 10, 7, 3, 4, 5, 7, 9, 1, 2, 3, 6, 8, 9, 10, 1, 1, 5, 6, 10, 1, 3, 5, 6, 7, 8, 1, 6, 2, 1, 3, 10, 2, 3, 9, 10, 3, 9, 10, 5, 9, 7, 1, 7, 6, 3, 3, 4, 5, 5, 5, 3, 4, 1, 9, 6, 7, 1, 2, 3, 4, 6, 8, 7, 9, 1, 6, 7, 8, 9, 10, 8, 2, 6, 1, 5, 7, 4, 8, 2, 3, 4, 8, 10, 1, 2, 3, 6, 9, 10, 2, 4, 6, 10, 3, 1, 8, 2, 6, 1, 5, 8, 10, 1, 5, 6, 7, 1, 3, 1, 2, 3, 4, 5, 6, 7, 8, 10, 7, 1, 2, 3, 8, 7, 1, 2, 4, 8, 10, 10, 9, 3, 4, 7, 10, 8, 2, 5, 9, 1, 5, 2, 6, 10, 1, 1, 5, 7, 6, 8, 9, 6, 4, 7, 4, 1, 2, 3, 4, 8, 9, 10, 1, 2, 3, 4, 5, 6, 7, 9, 10, 7, 3, 7, 2, 3, 4, 5, 6, 7, 8, 9, 7, 3, 7, 2, 4, 5, 7, 8, 7, 2, 3, 4, 6, 8, 6, 3, 5, 9, 5, 1, 5, 7, 5, 3, 9, 10, 1, 5, 2, 3, 4, 5, 6, 7, 8, 9, 10, 2, 2, 8, 1, 8, 9, 3, 4, 10, 7, 2, 3, 4, 7, 10, 2, 6, 6, 8, 1, 2, 3, 4, 5, 6, 7, 10, 7, 2, 1, 3, 4, 5, 6, 8, 1, 2, 6, 8, 3, 9, 3, 4, 7, 2, 3, 4, 5, 6, 7, 8, 9, 10, 8, 9, 2, 1, 5, 4, 7, 8, 2, 3, 4, 5, 7, 2, 1, 2, 3, 4, 6, 7, 8, 9, 10, 4, 9, 4, 7, 3, 4, 7, 8, 4, 1, 5, 2, 8, 4, 6, 1, 2, 5, 6, 8, 9, 10, 2, 3, 4, 6, 7, 8, 9, 10, 8, 8, 1, 6, 6, 6, 9, 2, 2, 3, 6, 7, 8, 10, 5, 7, 10, 9, 3, 3, 4, 5, 7, 10, 4, 9, 1, 2, 3, 4, 5, 6, 7, 10, 1, 4, 5, 7, 8, 9, 3, 4, 7, 9, 2, 8, 3, 6, 8, 1, 2, 3, 4, 6, 7, 9, 10, 4, 1, 2, 3, 6, 10, 6, 2, 3, 6, 10, 1, 3, 5, 6, 10, 3, 7, 8, 3, 6, 7, 10, 1, 7, 1, 5, 7, 2, 4, 6, 8, 6, 1, 5, 1, 5, 3, 4, 6, 8, 5, 5, 5, 5, 5, 6, 5, 5, 5, 2, 3, 9, 1, 5, 1, 5, 1, 4, 7, 8, 9, 1, 2, 3, 4, 6, 7, 8, 10, 4, 1, 2, 3, 4, 6, 7, 8, 9, 6, 1, 4, 5, 7, 8, 9, 1, 4, 7, 8, 8, 6, 8, 2, 3, 4, 5, 6, 7, 9, 10, 7, 10, 7, 2, 3, 4, 5, 8, 9, 5, 1, 10, 10, 1, 4, 10, 1, 2, 2, 8, 9, 2, 3, 8, 9, 10, 1, 7, 2, 5, 1, 3, 9, 2, 3, 4, 9, 10, 4, 4, 1, 7, 10, 5, 1, 4, 4, 6, 8, 2, 2, 3, 6, 3, 4, 6, 8, 10, 1, 2, 3, 4, 6, 7, 8, 10, 2, 4, 5, 6, 8, 9, 1, 4, 7, 8, 8, 6, 1, 2, 4, 6, 8, 10, 1, 6, 8, 4, 7, 3, 9, 3, 8, 6, 7, 4, 6, 7, 8, 9, 2, 4, 8, 9, 10, 10, 3, 4, 6, 1, 2, 4, 5, 6, 8, 10, 1, 6, 2, 4, 9, 1, 5, 10, 10, 8, 1, 5, 6, 3, 4, 6, 7, 9, 10, 5, 7, 8, 3, 4, 6, 2, 6, 5, 1, 5, 6, 7, 8, 1, 1, 3, 4, 9, 2, 1, 7, 5, 2, 3, 4, 6, 7, 8, 4, 5, 7, 1, 5, 3, 7, 1, 3, 4, 5, 7, 8, 9, 3, 4, 10, 7, 9, 10, 2, 3, 8, 10, 2, 9, 7, 9, 2, 3, 9, 3, 2, 8, 9, 8, 3, 4, 2, 3, 4, 6, 7, 9, 10, 6, 4, 4, 1, 1, 2, 7, 8, 10, 1, 2, 3, 5, 6, 4, 1, 3, 5, 6, 7, 9, 2, 7, 10, 2, 3, 5, 8, 9, 10, 9, 10, 5, 7, 8, 1, 8, 9, 10, 8, 9, 2, 3, 7, 8, 10, 1, 3, 6, 3, 4, 9, 4, 10, 1, 2, 3, 4, 6, 7, 8, 9, 10, 2, 2, 3, 2, 3, 8, 2, 7, 8, 1, 2, 4, 8, 3, 6, 9, 4, 6, 6, 4, 5, 7, 10, 5, 8, 1, 3, 4, 8, 9, 10, 1, 2, 3, 4, 5, 6, 7, 8, 9, 10, 8, 9, 2, 8, 2, 2, 3, 2, 3, 5, 6, 7, 8, 9, 4, 8, 1, 1, 2, 3, 5, 6, 7, 8, 8, 8, 2, 4, 6, 10, 1, 2, 4, 7, 8, 6, 1, 2, 3, 4, 5, 6, 7, 9, 10, 6, 8, 2, 3, 4, 5, 6, 7, 8, 9, 9, 3, 6, 8, 9, 3, 6, 4, 6, 3, 2, 3, 4, 5, 6, 7, 8, 9, 10, 1, 7, 1, 3, 5, 8, 1, 2, 3, 4, 5, 6, 7, 8, 9, 10, 10, 4, 1, 5, 7, 9, 6, 1, 6, 9, 10, 10, 7, 2, 5, 7, 10, 3, 5, 10, 7, 9, 1, 5, 6, 1, 4, 5, 7, 8, 1, 5, 7, 10, 1, 10, 3, 1, 6, 10, 10, 2, 3, 4, 5, 7, 8, 9, 10, 2, 2, 2, 3, 4, 9, 10, 10, 9, 10, 10, 1, 2, 3, 5, 6, 9, 2, 3, 4, 6, 9, 1, 4, 10, 3, 4, 1, 5, 7, 8, 10, 2, 3, 10], \"Freq\": [0.7871012849898952, 0.7457824949715481, 0.02193477926386906, 0.15354345484708343, 0.08773911705547624, 0.19724229541549726, 0.19724229541549726, 0.19724229541549726, 0.3944845908309945, 0.8356950511020256, 0.7259550158354858, 0.7545347018740876, 0.1509069403748175, 0.9279455731917492, 0.64639771924074, 0.4313001477416325, 0.5121689254431886, 0.02695625923385203, 0.4988661512624353, 0.12918835457368372, 0.6459417728684186, 0.12918835457368372, 0.12918835457368372, 0.8451445178986254, 0.728810852222267, 0.18220271305556676, 0.14089863220991322, 0.352246580524783, 0.25831415905150756, 0.09393242147327548, 0.04696621073663774, 0.02348310536831887, 0.04696621073663774, 0.02348310536831887, 0.8205757684147765, 0.469628593112264, 0.469628593112264, 0.9211831009893093, 0.33023059695227786, 0.5503843282537964, 0.11007686565075928, 0.1602350766645442, 0.7210578449904489, 0.9037994987734228, 0.06455710705524449, 0.6895283304836047, 0.26736812814670385, 0.014072006744563362, 0.028144013489126724, 0.28816225395327066, 0.016009014108515036, 0.09605408465109021, 0.024013521162772552, 0.25614422573624057, 0.12807211286812029, 0.11206309875960525, 0.024013521162772552, 0.048027042325545104, 0.326739586813633, 0.653479173627266, 0.9949249799962585, 0.7466419501708684, 0.13423636493120403, 0.8054181895872241, 0.6052605627568328, 0.3458631787181902, 0.9358583795134523, 0.9115098254758961, 0.17762550096917276, 0.029604250161528796, 0.11841700064611518, 0.05920850032305759, 0.029604250161528796, 0.44406375242293195, 0.08881275048458638, 0.05920850032305759, 0.029604250161528796, 0.7082069405455619, 0.05245977337374533, 0.15737932012123598, 0.026229886686872664, 0.026229886686872664, 0.026229886686872664, 0.7259907635828908, 0.7310003504071754, 0.862401205024524, 0.6809617895987811, 0.2769429019879328, 0.09231430066264427, 0.3692572026505771, 0.2769429019879328, 0.7870965619463226, 0.7400655391630833, 0.19952378994841655, 0.19952378994841655, 0.19952378994841655, 0.3990475798968331, 0.9279432216597114, 0.9098078368924354, 0.08270980335385776, 0.8905120955625738, 0.6204607798084494, 0.13788017329076654, 0.2068202599361498, 0.8932326844657986, 0.4983801082091129, 0.4034505637883295, 0.07119715831558755, 0.6473741763621271, 0.721635600209444, 0.13120647276535344, 0.06560323638267672, 0.06560323638267672, 0.5421848341405859, 0.27109241707029297, 0.8636348193302614, 0.21731136060674838, 0.7605897621236194, 0.8791717549374486, 0.08791717549374486, 0.9280645111379652, 0.8204380070153202, 0.8465349557290025, 0.022632480340396277, 0.22632480340396277, 0.565812008509907, 0.022632480340396277, 0.06789744102118883, 0.06789744102118883, 0.022632480340396277, 0.8204448781010361, 0.051239047982432305, 0.40991238385945844, 0.1537171439472969, 0.10247809596486461, 0.1537171439472969, 0.10247809596486461, 0.22525429644671263, 0.6757628893401378, 0.136072086580189, 0.8164325194811339, 0.06003775006455297, 0.06003775006455297, 0.42026425045187077, 0.06003775006455297, 0.12007550012910594, 0.12007550012910594, 0.12007550012910594, 0.06003775006455297, 0.21755254907457972, 0.5076226145073527, 0.07251751635819324, 0.14503503271638649, 0.872797506716084, 0.03232583358207718, 0.06465166716415437, 0.03232583358207718, 0.9616517693113013, 0.8860170294070706, 0.0650135187592613, 0.1300270375185226, 0.0650135187592613, 0.39008111255556777, 0.32506759379630645, 0.8894221240672835, 0.6723825271012848, 0.6242465349124263, 0.06295334896601096, 0.06295334896601096, 0.7554401875921315, 0.06295334896601096, 0.9358633760717586, 0.6582430538034493, 0.11616053890649104, 0.07744035927099402, 0.13552062872423953, 0.9813505281249567, 0.13883117567594858, 0.6478788198210934, 0.13883117567594858, 0.13883131217343522, 0.6478794568093644, 0.13883131217343522, 0.8859983218337074, 0.9358177510997399, 0.885765382761062, 0.32944119658940657, 0.4392549287858754, 0.10981373219646885, 0.054906866098234426, 0.10981373219646885, 0.8943557990601757, 0.9211023349409826, 0.8943549386295713, 0.8932517771985373, 0.67333730058099, 0.18840042616124264, 0.2512005682149902, 0.43960099437623285, 0.1256002841074951, 0.1823062882360577, 0.7292251529442308, 0.8505662188418226, 0.8801774290908854, 0.9258318753741148, 0.9358503347198185, 0.04996889133669169, 0.04996889133669169, 0.8994400440604504, 0.6473476640289468, 0.08710977621940137, 0.6097684335358096, 0.17421955243880274, 0.08710977621940137, 0.08710977621940137, 0.2580456838435237, 0.6451142096088093, 0.589640886316157, 0.090713982510178, 0.27214194753053395, 0.045356991255089, 0.8932434733792461, 0.22525800811969296, 0.6757740243590789, 0.9114902833236058, 0.22518525605843592, 0.11259262802921796, 0.45037051211687185, 0.11259262802921796, 0.1629821950386559, 0.3802917884235304, 0.1629821950386559, 0.10865479669243726, 0.1629821950386559, 0.646577185082916, 0.7615025777035443, 0.0628405032764453, 0.4398835229351171, 0.0628405032764453, 0.0628405032764453, 0.2513620131057812, 0.12466420305097918, 0.24932840610195836, 0.12466420305097918, 0.3739926091529375, 0.7626842342783501, 0.07469225841999431, 0.5228458089399601, 0.07469225841999431, 0.14938451683998863, 0.07469225841999431, 0.14938451683998863, 0.18256933830146654, 0.3651386766029331, 0.060856446100488855, 0.12171289220097771, 0.12171289220097771, 0.12171289220097771, 0.3983095108818753, 0.19915475544093764, 0.3983095108818753, 0.6236711625559103, 0.08504606762126049, 0.02834868920708683, 0.22678951365669464, 0.02834868920708683, 0.10504685749170431, 0.10504685749170431, 0.10504685749170431, 0.3151405724751129, 0.07003123832780286, 0.21009371498340862, 0.07003123832780286, 0.03501561916390143, 0.26703735658674843, 0.22253113048895704, 0.17802490439116564, 0.22253113048895704, 0.04450622609779141, 0.08901245219558282, 0.018065533512729885, 0.3396320300393218, 0.15536358820947702, 0.11923252118401724, 0.06503592064582758, 0.05780970724073563, 0.03613106702545977, 0.07587524075346551, 0.05419660053818965, 0.0794883474560115, 0.34049532881457645, 0.18026223290183457, 0.10014568494546365, 0.02002913698909273, 0.18026223290183457, 0.02002913698909273, 0.11016025344001001, 0.02002913698909273, 0.04005827397818546, 0.03152260198774336, 0.40979382584066365, 0.22065821391420348, 0.09456780596323007, 0.06304520397548671, 0.09456780596323007, 0.03152260198774336, 0.03152260198774336, 0.2198312662684941, 0.3297468994027412, 0.3297468994027412, 0.05495781656712353, 0.05495781656712353, 0.06338205021837175, 0.03169102510918587, 0.6972025524020892, 0.06338205021837175, 0.1267641004367435, 0.03169102510918587, 0.9279288212973295, 0.9610225842575502, 0.011864476348858644, 0.023728952697717288, 0.7364175460542555, 0.08185133396319327, 0.08185133396319327, 0.12277700094478991, 0.2864796688711765, 0.04092566698159664, 0.08185133396319327, 0.12277700094478991, 0.16370266792638655, 0.13910761882722267, 0.13910761882722267, 0.27821523765444534, 0.13910761882722267, 0.417322856481668, 0.4988443273231493, 0.5525972479973932, 0.09209954133289885, 0.023024885333224714, 0.04604977066644943, 0.09209954133289885, 0.09209954133289885, 0.04604977066644943, 0.06907465599967415, 0.2606825418560762, 0.6517063546401904, 0.6732962469242693, 0.4509408205356407, 0.21220744495794858, 0.053051861239487144, 0.026525930619743572, 0.23873337557769214, 0.8932562818375147, 0.028921523968648836, 0.1446076198432442, 0.5495089554043279, 0.2313721917491907, 0.05784304793729767, 0.0847078850949509, 0.3388315403798036, 0.25412365528485276, 0.0847078850949509, 0.12706182764242638, 0.04235394254747545, 0.0847078850949509, 0.889475852964045, 0.17469586238068263, 0.6987834495227305, 0.058231954126894206, 0.058231954126894206, 0.3777935249105123, 0.026985251779322306, 0.24286726601390077, 0.026985251779322306, 0.26985251779322306, 0.05397050355864461, 0.782059175514963, 0.15641183510299259, 0.9115229186384282, 0.8539373401246789, 0.13137497540379675, 0.4988382797946224, 0.9115140228362003, 0.05869178348446295, 0.7629931852980184, 0.1173835669689259, 0.9358357501262496, 0.7113564894965515, 0.17783912237413788, 0.9680914806380283, 0.9069974514561123, 0.6723983289738008, 0.16572444290211988, 0.6628977716084795, 0.6473195954876066, 0.7473481229643093, 0.7196436694582988, 0.20561247698808538, 0.6461547187681987, 0.6461211799684698, 0.6464230786791921, 0.619935333911103, 0.20664511130370103, 0.8894375469830815, 0.9069953996602925, 0.8083425409897611, 0.6723951570119175, 0.031550681470166174, 0.06310136294033235, 0.031550681470166174, 0.09465204441049853, 0.031550681470166174, 0.7256656738138221, 0.1525839675897513, 0.7629198379487564, 0.06639789039771733, 0.4647852327840213, 0.26559156159086933, 0.06639789039771733, 0.13279578079543466, 0.06639789039771733, 0.8098730970195658, 0.7259904179970798, 0.9240014310895295, 0.9202173495641851, 0.05258384854652486, 0.02629192427326243, 0.3583946665571387, 0.5973244442618978, 0.49423173386306435, 0.34216043113596767, 0.07603565136354837, 0.038017825681774184, 0.4988511059863457, 0.8894122974772427, 0.11597060566021321, 0.4058971198107462, 0.4058971198107462, 0.057985302830106604, 0.057985302830106604, 0.24546756662402391, 0.5727576554560558, 0.16364504441601593, 0.49882908971238876, 0.6242410678879687, 0.7940168634948344, 0.8098674175349267, 0.21258606492241552, 0.6377581947672466, 0.12352125504511702, 0.49408502018046807, 0.12352125504511702, 0.24704251009023404, 0.257993312031725, 0.08599777067724167, 0.1289966560158625, 0.4729877387248292, 0.8487430585066129, 0.8357045623047217, 0.02437730989992965, 0.47535754304862826, 0.24377309899929653, 0.03656596484989448, 0.10969789454968344, 0.03656596484989448, 0.012188654949964826, 0.03656596484989448, 0.012188654949964826, 0.8932381313170047, 0.1292939856449049, 0.1292939856449049, 0.2585879712898098, 0.5171759425796196, 0.893240193492214, 0.43435383444671916, 0.1447846114822397, 0.07239230574111985, 0.1447846114822397, 0.21717691722335958, 0.4988461021014215, 0.9069942839744434, 0.09777593912650183, 0.6844315738855128, 0.19555187825300366, 0.09777593912650183, 0.894393813988495, 0.9116479401049918, 0.7753151436643966, 0.906995345509836, 0.8485498950120153, 0.08485498950120153, 0.25443775473561253, 0.5088755094712251, 0.49890142484457367, 0.9574839492424818, 0.1427492940449916, 0.713746470224958, 0.1427492940449916, 0.8637253197944291, 0.8943361685135391, 0.823632721084917, 0.8636253627114748, 0.6925695851464327, 0.13851391702928656, 0.9279806675866871, 0.13172855963660168, 0.06586427981830084, 0.1975928394549025, 0.13172855963660168, 0.06586427981830084, 0.395185678909805, 0.06586427981830084, 0.27214129439532736, 0.015118960799740408, 0.10583272559818287, 0.030237921599480817, 0.24946285319571673, 0.12851116679779348, 0.12095168639792327, 0.022678441199610613, 0.05291636279909143, 0.6723920798606966, 0.054068301870563364, 0.9191611317995771, 0.3769736031607997, 0.3410713552407235, 0.05385337188011424, 0.01795112396003808, 0.07180449584015232, 0.03590224792007616, 0.05385337188011424, 0.03590224792007616, 0.6723681344497088, 0.6311267178763985, 0.21037557262546616, 0.030885847325788494, 0.030885847325788494, 0.10810046564025973, 0.8339178777962893, 0.8943401391713023, 0.6723969319714498, 0.7258141609890707, 0.1382503163788706, 0.03456257909471765, 0.03456257909471765, 0.03456257909471765, 0.8636361627558966, 0.8280236428079993, 0.807090572931806, 0.9070119807242911, 0.7753304291605415, 0.35187892548323624, 0.4524157613355894, 0.1508052537785298, 0.6463961690750551, 0.20486193250351467, 0.40972386500702934, 0.40972386500702934, 0.5315791728903241, 0.44979776167642804, 0.5533644523538805, 0.2387062343487328, 0.016275425069231783, 0.010850283379487855, 0.08680226703590284, 0.005425141689743927, 0.05425141689743927, 0.005425141689743927, 0.027125708448719636, 0.9115572832576081, 0.8156051136103024, 0.2039012784025756, 0.848718894199669, 0.8945874026277474, 0.9070086292642454, 0.12579899190915342, 0.7547939514549206, 0.12579899190915342, 0.6723828242597947, 0.13850713549939483, 0.13850713549939483, 0.13850713549939483, 0.27701427099878967, 0.27701427099878967, 0.8046426972938393, 0.8638214278215885, 0.7227111156867618, 0.14454222313735238, 0.34613402107146785, 0.31316887620751854, 0.04944771729592398, 0.06593028972789865, 0.016482572431974662, 0.1648257243197466, 0.032965144863949324, 0.016482572431974662, 0.8932420903624215, 0.7259903172721952, 0.2999207606775818, 0.09997358689252726, 0.09997358689252726, 0.19994717378505453, 0.24993396723131814, 0.09997358689252726, 0.2934043853736446, 0.22005328903023347, 0.44010657806046694, 0.07335109634341115, 0.22444676241163866, 0.673340287234916, 0.7489003865259756, 0.1248167310876626, 0.1248167310876626, 0.13787308476373022, 0.06893654238186511, 0.06893654238186511, 0.034468271190932556, 0.13787308476373022, 0.20680962714559534, 0.24127789833652788, 0.06893654238186511, 0.034468271190932556, 0.22852266897763623, 0.6855680069329088, 0.8043565480130388, 0.7939925559839244, 0.6462082094818475, 0.7159098378804946, 0.04474436486753091, 0.17897745947012364, 0.11344760377911299, 0.567238018895565, 0.11344760377911299, 0.11344760377911299, 0.11344760377911299, 0.9116525428716726, 0.03984033896988912, 0.1593613558795565, 0.05976050845483368, 0.1593613558795565, 0.21912186433439015, 0.03984033896988912, 0.07968067793977825, 0.11952101690966736, 0.11952101690966736, 0.40495659463234823, 0.5061957432904353, 0.9279523391780106, 0.6723241704912779, 0.1312175736526595, 0.262435147305319, 0.1312175736526595, 0.524870294610638, 0.9713687748913971, 0.9450657262526481, 0.059066607890790504, 0.8175540559816196, 0.13625900933026994, 0.14269825427568328, 0.7134912713784164, 0.0595852340850927, 0.774608043106205, 0.039723489390061796, 0.07944697878012359, 0.019861744695030898, 0.019861744695030898, 0.019861744695030898, 0.05443680059324701, 0.05443680059324701, 0.272184002966235, 0.10887360118649402, 0.10887360118649402, 0.272184002966235, 0.10887360118649402, 0.05443680059324701, 0.8632750361021968, 0.6733255688901097, 0.47750953025620274, 0.47750953025620274, 0.8636218317507743, 0.8636367971050211, 0.8606784169769628, 0.8044600434870244, 0.1374781950909308, 0.5499127803637232, 0.16497383410911695, 0.05499127803637232, 0.02749563901818616, 0.05499127803637232, 0.11670084184066001, 0.840246061252752, 0.023340168368132002, 0.9070006735622158, 0.7465840129865452, 0.12133234179616514, 0.12133234179616514, 0.12133234179616514, 0.4853293671846606, 0.12133234179616514, 0.8560047082322655, 0.0951116342480295, 0.0592744347805179, 0.08891165217077686, 0.02963721739025895, 0.4445582608538843, 0.02963721739025895, 0.08891165217077686, 0.20746052173181265, 0.0592744347805179, 0.7627756982831919, 0.021188213841199777, 0.10594106920599888, 0.10594106920599888, 0.021188213841199777, 0.9169971318249982, 0.1029499155891191, 0.2058998311782382, 0.2058998311782382, 0.5147495779455955, 0.8602358542169606, 0.8943656661297152, 0.16553597588135072, 0.16553597588135072, 0.4966079276440522, 0.20792959196772384, 0.16634367357417906, 0.1247577551806343, 0.1247577551806343, 0.1247577551806343, 0.1247577551806343, 0.041585918393544766, 0.1247577551806343, 0.7423235403529687, 0.5113925513726281, 0.25569627568631403, 0.0730560787675183, 0.03652803938375915, 0.10958411815127744, 0.6473168246340499, 0.8064554618851851, 0.13440924364753085, 0.5399004408004634, 0.2699502204002317, 0.6523164481917894, 0.02836158470399084, 0.1985310929279359, 0.08508475411197253, 0.02836158470399084, 0.866264987674767, 0.10440772412923169, 0.8352617930338535, 0.26802379611996296, 0.13401189805998148, 0.5360475922399259, 0.13401189805998148, 0.25287496898974754, 0.7586249069692426, 0.8215153027779054, 0.06319348482906965, 0.10532247471511608, 0.6542521780307622, 0.16356304450769055, 0.08178152225384527, 0.08178152225384527, 0.6473264615960997, 0.5599018054402828, 0.40720131304747836, 0.7591549182219185, 0.22951195202058, 0.07373739989385303, 0.5898991991508242, 0.22121219968155909, 0.07373739989385303, 0.7752925050679151, 0.7752912787725494, 0.7752909373211593, 0.6463790487749758, 0.7752904447206825, 0.7765070379111997, 0.7752912463714773, 0.7752925083808915, 0.7752890763841135, 0.1484856857164542, 0.1484856857164542, 0.5939427428658168, 0.14188042796155192, 0.7094021398077597, 0.6392778214369363, 0.34094817143303274, 0.11184302372035869, 0.11184302372035869, 0.11184302372035869, 0.11184302372035869, 0.5592151186017935, 0.04563512686871485, 0.022817563434357424, 0.0912702537374297, 0.6160742127276504, 0.13690538060614454, 0.022817563434357424, 0.022817563434357424, 0.04563512686871485, 0.9279886495978205, 0.03788194058646966, 0.07576388117293932, 0.1894097029323483, 0.49246522762410555, 0.07576388117293932, 0.03788194058646966, 0.03788194058646966, 0.07576388117293932, 0.863625221652184, 0.10851236006284003, 0.21702472012568005, 0.10851236006284003, 0.10851236006284003, 0.32553708018852007, 0.10851236006284003, 0.11978602501064424, 0.11978602501064424, 0.23957205002128848, 0.47914410004257696, 0.9046982631732811, 0.6526032600045305, 0.21753442000151016, 0.09605731930279673, 0.11526878316335608, 0.42265220493230565, 0.05763439158167804, 0.09605731930279673, 0.038422927721118695, 0.17290317474503414, 0.019211463860559348, 0.8086837898924704, 0.4973688733428992, 0.8086540014900423, 0.14328053792097856, 0.10746040344073393, 0.501481882723425, 0.03582013448024464, 0.03582013448024464, 0.1791006724012232, 0.6463395788970312, 0.794036315649704, 0.49746113613921056, 0.4989291263313453, 0.926768343930741, 0.7399211767511018, 0.49887690740690566, 0.13230712061938393, 0.8599962840259955, 0.11228639386100456, 0.7860047570270319, 0.11228639386100456, 0.048373741065750465, 0.048373741065750465, 0.09674748213150093, 0.7739798570520074, 0.024186870532875233, 0.7829453776240312, 0.1957363444060078, 0.9208298880686248, 0.646188814939838, 0.9211088871945237, 0.935824381969649, 0.8237466208256514, 0.08818753393000334, 0.20577091250334112, 0.52912520358002, 0.11758337857333778, 0.05879168928666889, 0.9280013302977547, 0.9280491432459638, 0.35197950591089283, 0.17598975295544642, 0.5279692588663393, 0.6464056757798716, 0.8895080706141002, 0.9432854404854631, 0.30329359223034086, 0.37911699028792606, 0.30329359223034086, 0.911652469316241, 0.26272496937818945, 0.6130249285491087, 0.8636679710386331, 0.6242678051058279, 0.8776579227392131, 0.17146160609452793, 0.6858464243781117, 0.17146160609452793, 0.8920892879802721, 0.05185971321300005, 0.4148777057040004, 0.05185971321300005, 0.25929856606500024, 0.05185971321300005, 0.1037194264260001, 0.1037194264260001, 0.5332627299339133, 0.11850282887420296, 0.05925141443710148, 0.17775424331130443, 0.05925141443710148, 0.11850282887420296, 0.08816707503747105, 0.1763341500749421, 0.1763341500749421, 0.6171695252622973, 0.8098661609261812, 0.8636339439036393, 0.1455430391663121, 0.07277151958315604, 0.1455430391663121, 0.07277151958315604, 0.5094006370820923, 0.07277151958315604, 0.8194348264187281, 0.04820204861286636, 0.14460614583859907, 0.7399420544181111, 0.8932040469783755, 0.19262336613875963, 0.7704934645550385, 0.9358100231234502, 0.8943341781804418, 0.7445688826473686, 0.18614222066184216, 0.26241943147107055, 0.11246547063045881, 0.48735037273198817, 0.07497698042030587, 0.037488490210152936, 0.09079999125634541, 0.09079999125634541, 0.27239997376903624, 0.45399995628172707, 0.09079999125634541, 0.49890237060841963, 0.13731407870212195, 0.6865703935106097, 0.13731407870212195, 0.11131413297751008, 0.1391426662218876, 0.11131413297751008, 0.30611386568815274, 0.16697119946626512, 0.1391426662218876, 0.02782853324437752, 0.4144667596393391, 0.5698917945040913, 0.12245762662180745, 0.12245762662180745, 0.7347457597308448, 0.2483461452950527, 0.37251921794257903, 0.37251921794257903, 0.49882830369967307, 0.8098663806028439, 0.9607150685103201, 0.0436688667504691, 0.8636346317675834, 0.8356948264725054, 0.14151746214015862, 0.28303492428031723, 0.14151746214015862, 0.14151746214015862, 0.4245523864204758, 0.21671405789475184, 0.6067993621053052, 0.17337124631580147, 0.20640482235902965, 0.619214467077089, 0.1376032149060198, 0.8043323039462343, 0.6477484033284158, 0.6463988882507066, 0.3305215244241792, 0.26441721953934333, 0.02203476829494528, 0.3525562927191245, 0.02203476829494528, 0.9437622342030677, 0.1402131000634211, 0.1402131000634211, 0.07010655003171055, 0.630958950285395, 0.7259843859630283, 0.2191586095076087, 0.6574758285228262, 0.9778986194435288, 0.39852948875366934, 0.14065746661894213, 0.09377164441262809, 0.2578720221347272, 0.02344291110315702, 0.07032873330947106, 0.9279391038027657, 0.22266816877523857, 0.6680045063257157, 0.25160450693697156, 0.629011267342429, 0.9358416740536322, 0.8932489935787933, 0.09691830634838602, 0.21322027396644927, 0.48459153174193015, 0.03876732253935441, 0.11630196761806323, 0.019383661269677204, 0.03876732253935441, 0.14034977232594462, 0.701748861629723, 0.14034977232594462, 0.029175149904748728, 0.9044296470472106, 0.058350299809497456, 0.8079967657621964, 0.06733306381351636, 0.06733306381351636, 0.4989264288396951, 0.8045675040103769, 0.9070274556418493, 0.6766220257472394, 0.2255406752490798, 0.20143703891730044, 0.30215555837595065, 0.5035925972932511, 0.7465819311947737, 0.933792022826972, 0.6783469038886989, 0.2261156346295663, 0.8943550748804976, 0.6167206473464609, 0.37003238840787656, 0.24455538207951186, 0.36683307311926777, 0.04075923034658531, 0.12227769103975593, 0.12227769103975593, 0.08151846069317062, 0.04075923034658531, 0.6471780566168077, 0.8776438509101104, 0.740020410876946, 0.8949052652655881, 0.29360370575763517, 0.07340092643940879, 0.07340092643940879, 0.36700463219704393, 0.14680185287881758, 0.058247170293157007, 0.23298868117262803, 0.6407188732247271, 0.058247170293157007, 0.6473229717470858, 0.73989464977214, 0.28114384852633734, 0.05622876970526746, 0.11245753941053492, 0.05622876970526746, 0.1686863091158024, 0.28114384852633734, 0.2197757844486993, 0.6593273533460979, 0.4988681399260574, 0.38083047226968314, 0.14281142710113118, 0.09520761806742079, 0.19041523613484157, 0.14281142710113118, 0.04760380903371039, 0.8383776633334498, 0.13972961055557498, 0.07499529403862909, 0.14999058807725818, 0.6749576463476618, 0.05778579648851772, 0.05778579648851772, 0.8090011508392481, 0.05778579648851772, 0.7428317403971777, 0.24761058013239254, 0.29816001881990783, 0.5366880338758341, 0.05963200376398157, 0.05963200376398157, 0.05963200376398157, 0.11308099390404032, 0.678485963424242, 0.11308099390404032, 0.22207427210684805, 0.11103713605342402, 0.5551856802671201, 0.7717451665073171, 0.49880732126293964, 0.0814483497804686, 0.1221725246707029, 0.0814483497804686, 0.1221725246707029, 0.1221725246707029, 0.0407241748902343, 0.2850692242316401, 0.1221725246707029, 0.0407241748902343, 0.9115150631005908, 0.8315546749631932, 0.13859244582719887, 0.7249781686590057, 0.20138282462750157, 0.040276564925500316, 0.1660840345148374, 0.6643361380593495, 0.8943620317813006, 0.2541029886255385, 0.16940199241702567, 0.08470099620851283, 0.4235049810425642, 0.7383437345631618, 0.10547767636616598, 0.10547767636616598, 0.8205265256339953, 0.08205265256339954, 0.8636346978293467, 0.11151185304151809, 0.27877963260379524, 0.5575592652075905, 0.055755926520759044, 0.8619975134017087, 0.08619975134017087, 0.07732638856236732, 0.15465277712473463, 0.15465277712473463, 0.38663194281183655, 0.15465277712473463, 0.07732638856236732, 0.2407130273219189, 0.20270570721845801, 0.08868374690807539, 0.012669106701153626, 0.08868374690807539, 0.038007320103460876, 0.012669106701153626, 0.16469838711499712, 0.11402196031038263, 0.025338213402307252, 0.7428294250850663, 0.24760980836168878, 0.8153287630031586, 0.10191609537539482, 0.7260054749452448, 0.18954582014671786, 0.7581832805868715, 0.11037285862894262, 0.7174235810881271, 0.027593214657235656, 0.11037285862894262, 0.05518642931447131, 0.6052210315983473, 0.30261051579917364, 0.8775991829771489, 0.8943509082910303, 0.9469680361755667, 0.2862819735853903, 0.05725639471707806, 0.05725639471707806, 0.45805115773662447, 0.05725639471707806, 0.05725639471707806, 0.05725639471707806, 0.8943434459084608, 0.894355790562685, 0.244563980425064, 0.244563980425064, 0.122281990212532, 0.244563980425064, 0.18236884586566815, 0.6078961528855605, 0.06078961528855605, 0.06078961528855605, 0.06078961528855605, 0.8626791158498407, 0.04403248236843086, 0.04403248236843086, 0.48435730605273947, 0.08806496473686172, 0.1320974471052926, 0.08806496473686172, 0.04403248236843086, 0.08806496473686172, 0.04403248236843086, 0.5231205711044905, 0.26156028555224525, 0.11226095829227134, 0.20581175686916411, 0.3180727151614355, 0.018710159715378556, 0.20581175686916411, 0.07484063886151422, 0.07484063886151422, 0.761854907982261, 0.9070015559835487, 0.21948678533023525, 0.21948678533023525, 0.4389735706604705, 0.10974339266511762, 0.6261721132108512, 0.2087240377369504, 0.9279968343798582, 0.776496132339684, 0.9359090970870523, 0.1224514232469454, 0.08163428216463027, 0.1224514232469454, 0.040817141082315135, 0.16326856432926054, 0.1224514232469454, 0.2449028464938908, 0.08163428216463027, 0.040817141082315135, 0.7890006264770577, 0.18564720622989592, 0.8813202605121155, 0.030390353810762605, 0.09117106143228781, 0.8098787201887535, 0.12259378939970145, 0.10216149116641787, 0.04086459646656715, 0.14302608763298502, 0.14302608763298502, 0.04086459646656715, 0.0817291929331343, 0.10216149116641787, 0.1634583858662686, 0.0817291929331343, 0.4973816429398284, 0.8203015956072148, 0.0504111867280928, 0.0504111867280928, 0.3528783070966496, 0.5041118672809279, 0.7767619302147936, 0.4186328969317646, 0.5232911211647058, 0.10465822423294115, 0.49890649819684035, 0.7625190982342092, 0.893270096663102, 0.24234126135004727, 0.12117063067502364, 0.48468252270009454, 0.12117063067502364, 0.7465870111299377, 0.8611946762565045, 0.4988325028053111, 0.8072389864244424, 0.9069981653452529, 0.1732168951394572, 0.5196506854183717, 0.2886948252324287, 0.09972635144863568, 0.299179054345907, 0.09972635144863568, 0.3989054057945427, 0.09972635144863568, 0.15040410956682965, 0.7520205478341483, 0.07520205478341482, 0.49890025364864676, 0.5768867121898833, 0.3845911414599222, 0.8356948226507045, 0.924554709445016, 0.05136415052472311, 0.49879701643727353, 0.4988406339437757, 0.07401577760064196, 0.07401577760064196, 0.14803155520128392, 0.07401577760064196, 0.14803155520128392, 0.3700788880032098, 0.14803155520128392, 0.07401577760064196, 0.8055733074928452, 0.9116700981413788, 0.10124591561958371, 0.20249183123916742, 0.5399782166377798, 0.10124591561958371, 0.033748638539861237, 0.49887700283739783, 0.7875484219133153, 0.49892716080017135, 0.49738615423350724, 0.7686946245107867, 0.17739106719479694, 0.05913035573159898, 0.16914631941281388, 0.16914631941281388, 0.6765852776512555, 0.2095191309324762, 0.2095191309324762, 0.1396794206216508, 0.34919855155412705, 0.0698397103108254, 0.15320584493956382, 0.7660292246978192, 0.4973335268710738, 0.8271473365688571, 0.20678683414221427, 0.11280132523241115, 0.6768079513944669, 0.05640066261620558, 0.11280132523241115, 0.05640066261620558, 0.7458267953515243, 0.08286964392794714, 0.08286964392794714], \"Term\": [\"abruzzo\", \"aci\", \"aci\", \"aci\", \"aci\", \"adam\", \"adam\", \"adam\", \"adam\", \"adaptive\", \"adr\", \"aeconomic\", \"aeconomic\", \"aitu\", \"alert\", \"alias\", \"alias\", \"alias\", \"alt\", \"alth\", \"alth\", \"alth\", \"alth\", \"amap\", \"amo\", \"amo\", \"analysis\", \"analysis\", \"analysis\", \"analysis\", \"analysis\", \"analysis\", \"analysis\", \"analysis\", \"anc\", \"ao\", \"ao\", \"apa\", \"applied\", \"applied\", \"applied\", \"aregate\", \"aregate\", \"ari\", \"ari\", \"ark\", \"ark\", \"ark\", \"ark\", \"articial\", \"articial\", \"articial\", \"articial\", \"articial\", \"articial\", \"articial\", \"articial\", \"articial\", \"asia\", \"asia\", \"assets\", \"associate\", \"au\", \"au\", \"auf\", \"auf\", \"australia\", \"author\", \"b\", \"b\", \"b\", \"b\", \"b\", \"b\", \"b\", \"b\", \"b\", \"ba\", \"ba\", \"ba\", \"ba\", \"ba\", \"ba\", \"baroput\", \"baroschmidt\", \"barrel\", \"basal\", \"based\", \"based\", \"based\", \"based\", \"basica\", \"bauer\", \"bel\", \"bel\", \"bel\", \"bel\", \"beliefs\", \"belt\", \"belt\", \"bla\", \"blind\", \"blind\", \"blind\", \"bob\", \"boca\", \"boca\", \"boca\", \"boi\", \"bold\", \"bold\", \"bold\", \"bold\", \"bolt\", \"bolt\", \"boost\", \"bot\", \"bot\", \"bras\", \"bras\", \"brew\", \"brow\", \"brownish\", \"business\", \"business\", \"business\", \"business\", \"business\", \"business\", \"business\", \"buy\", \"c\", \"c\", \"c\", \"c\", \"c\", \"c\", \"cal\", \"cal\", \"campania\", \"campania\", \"capital\", \"capital\", \"capital\", \"capital\", \"capital\", \"capital\", \"capital\", \"capital\", \"cbb\", \"cbb\", \"cbb\", \"cbb\", \"cci\", \"cci\", \"cci\", \"cci\", \"cem\", \"cember\", \"central\", \"central\", \"central\", \"central\", \"central\", \"century\", \"chapters\", \"chart\", \"chinese\", \"chinese\", \"chinese\", \"chinese\", \"christiamoo\", \"ci\", \"ci\", \"ci\", \"ci\", \"cim\", \"coalab\", \"coalab\", \"coalab\", \"coameasurement\", \"coameasurement\", \"coameasurement\", \"coarole\", \"coaspatial\", \"cocim\", \"coe\", \"coe\", \"coe\", \"coe\", \"coe\", \"conrad\", \"conrm\", \"constant\", \"consumptinvestment\", \"context\", \"continuity\", \"continuity\", \"continuity\", \"continuity\", \"control\", \"control\", \"core\", \"corollary\", \"corr\", \"cos\", \"cost\", \"cost\", \"cost\", \"coup\", \"cu\", \"cu\", \"cu\", \"cu\", \"cu\", \"cye\", \"cye\", \"dad\", \"dad\", \"dad\", \"dad\", \"dag\", \"dare\", \"dare\", \"dference\", \"dferent\", \"dferent\", \"dferent\", \"dferent\", \"die\", \"die\", \"die\", \"die\", \"die\", \"div\", \"doral\", \"douglas\", \"douglas\", \"douglas\", \"douglas\", \"douglas\", \"dr\", \"dr\", \"dr\", \"dr\", \"dt\", \"dynamics\", \"dynamics\", \"dynamics\", \"dynamics\", \"dynamics\", \"dynamics\", \"e\", \"e\", \"e\", \"e\", \"e\", \"e\", \"easy\", \"easy\", \"easy\", \"ec\", \"ec\", \"ec\", \"ec\", \"ec\", \"eco\", \"eco\", \"eco\", \"eco\", \"eco\", \"eco\", \"eco\", \"eco\", \"econometric\", \"econometric\", \"econometric\", \"econometric\", \"econometric\", \"econometric\", \"economic\", \"economic\", \"economic\", \"economic\", \"economic\", \"economic\", \"economic\", \"economic\", \"economic\", \"economic\", \"economics\", \"economics\", \"economics\", \"economics\", \"economics\", \"economics\", \"economics\", \"economics\", \"economics\", \"economy\", \"economy\", \"economy\", \"economy\", \"economy\", \"economy\", \"economy\", \"economy\", \"ed\", \"ed\", \"ed\", \"ed\", \"ed\", \"edit\", \"edit\", \"edit\", \"edit\", \"edit\", \"edit\", \"editors\", \"edits\", \"edits\", \"edits\", \"eduardo\", \"eeatns\", \"eeatns\", \"eeatns\", \"eeatns\", \"eeatns\", \"eeatns\", \"eeatns\", \"eeatns\", \"eff\", \"eff\", \"eff\", \"eff\", \"eff\", \"ehart\", \"el\", \"el\", \"el\", \"el\", \"el\", \"el\", \"el\", \"el\", \"emunicips\", \"emunicips\", \"ens\", \"eq\", \"eq\", \"eq\", \"eq\", \"eq\", \"equatmotequatns\", \"equatns\", \"equatns\", \"equatns\", \"equatns\", \"equatns\", \"er\", \"er\", \"er\", \"er\", \"er\", \"er\", \"er\", \"especial\", \"est\", \"est\", \"est\", \"est\", \"esta\", \"esta\", \"esta\", \"esta\", \"esta\", \"esta\", \"este\", \"este\", \"eti\", \"eto\", \"eto\", \"ets\", \"eu\", \"eur\", \"eur\", \"eur\", \"euro\", \"ev\", \"ev\", \"fall\", \"famia\", \"faors\", \"fec\", \"fec\", \"fluid\", \"forage\", \"forecasti\", \"forecasti\", \"foredire\", \"formatlabor\", \"fr\", \"france\", \"france\", \"frequent\", \"friuli\", \"fs\", \"funds\", \"future\", \"future\", \"future\", \"future\", \"future\", \"future\", \"g\", \"g\", \"ga\", \"ga\", \"ga\", \"ga\", \"ga\", \"ga\", \"gabriel\", \"gacia\", \"gamo\", \"ger\", \"ger\", \"ger\", \"get\", \"get\", \"gh\", \"gh\", \"gh\", \"gh\", \"ghost\", \"gla\", \"global\", \"global\", \"global\", \"global\", \"global\", \"go\", \"go\", \"go\", \"goals\", \"goldsmith\", \"gomez\", \"got\", \"gou\", \"gou\", \"government\", \"government\", \"government\", \"government\", \"gr\", \"gr\", \"gr\", \"gr\", \"greete\", \"gren\", \"groh\", \"groh\", \"groh\", \"groh\", \"groh\", \"groh\", \"groh\", \"groh\", \"groh\", \"gt\", \"gui\", \"gui\", \"gui\", \"gui\", \"handlbank\", \"hao\", \"hao\", \"hao\", \"hao\", \"hao\", \"hash\", \"hicks\", \"hou\", \"hou\", \"hou\", \"hou\", \"humadimensns\", \"iafro\", \"iassets\", \"iawre\", \"ica\", \"ica\", \"idar\", \"idar\", \"ieur\", \"iform\", \"iha\", \"iha\", \"iha\", \"ineasi\", \"inflatrate\", \"initiative\", \"innovatpolicinew\", \"input\", \"input\", \"instalment\", \"institute\", \"institute\", \"institute\", \"institute\", \"institute\", \"institute\", \"institute\", \"intellence\", \"intellence\", \"intellence\", \"intellence\", \"intellence\", \"intellence\", \"intellence\", \"intellence\", \"intellence\", \"intensive\", \"interest\", \"interest\", \"internatnal\", \"internatnal\", \"internatnal\", \"internatnal\", \"internatnal\", \"internatnal\", \"internatnal\", \"internatnal\", \"interrev\", \"introdut\", \"introdut\", \"investment\", \"investment\", \"investment\", \"investment\", \"iole\", \"isec\", \"issue\", \"issue\", \"issue\", \"issue\", \"issue\", \"item\", \"itical\", \"jajaub\", \"japi\", \"jasafranci\", \"jaub\", \"jaub\", \"jaub\", \"jauri\", \"ji\", \"ji\", \"ji\", \"jo\", \"jo\", \"journal\", \"journal\", \"journal\", \"journal\", \"journal\", \"journal\", \"journal\", \"journal\", \"journal\", \"journals\", \"ju\", \"ju\", \"jury\", \"jx\", \"kei\", \"key\", \"key\", \"key\", \"khrushcv\", \"ki\", \"ki\", \"ki\", \"ki\", \"ki\", \"kim\", \"km\", \"ku\", \"ku\", \"la\", \"la\", \"la\", \"la\", \"la\", \"la\", \"la\", \"la\", \"lad\", \"lam\", \"land\", \"land\", \"land\", \"land\", \"land\", \"land\", \"las\", \"las\", \"las\", \"las\", \"later\", \"later\", \"law\", \"law\", \"law\", \"le\", \"le\", \"le\", \"le\", \"le\", \"le\", \"le\", \"le\", \"le\", \"lea\", \"lea\", \"leadi\", \"lease\", \"least\", \"leotie\", \"leotie\", \"leotie\", \"ler\", \"ler\", \"ler\", \"ler\", \"ler\", \"lhi\", \"li\", \"li\", \"li\", \"li\", \"li\", \"li\", \"li\", \"li\", \"li\", \"lia\", \"lia\", \"liabitiedits\", \"llels\", \"lli\", \"lli\", \"lli\", \"lli\", \"loans\", \"logo\", \"logo\", \"lor\", \"lor\", \"ltd\", \"ltd\", \"lu\", \"lu\", \"lu\", \"lu\", \"lu\", \"lu\", \"lu\", \"lucas\", \"lucas\", \"lucas\", \"lucas\", \"lucas\", \"lucas\", \"lucas\", \"lucas\", \"lucia\", \"luck\", \"lust\", \"lust\", \"mace\", \"macmla\", \"malaria\", \"malp\", \"management\", \"management\", \"management\", \"management\", \"management\", \"management\", \"mand\", \"mand\", \"mand\", \"manha\", \"mantre\", \"many\", \"many\", \"many\", \"many\", \"many\", \"mao\", \"mao\", \"maoeconomic\", \"maoeconomic\", \"maoeconomic\", \"maoeconomic\", \"maoeconomic\", \"maoeconomic\", \"maoeconomic\", \"maoeconomic\", \"map\", \"map\", \"map\", \"map\", \"map\", \"marc\", \"maria\", \"maria\", \"maria\", \"maria\", \"masince\", \"mater\", \"maw\", \"maw\", \"maw\", \"mc\", \"mc\", \"mc\", \"mc\", \"mc\", \"mc\", \"mc\", \"mc\", \"measquare\", \"media\", \"media\", \"media\", \"media\", \"media\", \"meics\", \"mesh\", \"mesh\", \"mete\", \"mete\", \"meto\", \"meto\", \"meto\", \"meto\", \"meto\", \"metrics\", \"metro\", \"metro\", \"mi\", \"mi\", \"mi\", \"mi\", \"mice\", \"mice\", \"minas\", \"minas\", \"minas\", \"mit\", \"mit\", \"mit\", \"mit\", \"mlust\", \"mono\", \"mono\", \"months\", \"months\", \"moody\", \"moody\", \"moody\", \"moody\", \"moraark\", \"moracapita\", \"moragla\", \"morahos\", \"morajury\", \"moralust\", \"moramirae\", \"moranova\", \"morapat\", \"movie\", \"movie\", \"movie\", \"mum\", \"mum\", \"municips\", \"municips\", \"na\", \"na\", \"na\", \"na\", \"na\", \"nance\", \"nance\", \"nance\", \"nance\", \"nance\", \"nance\", \"nance\", \"nance\", \"nanci\", \"nancial\", \"nancial\", \"nancial\", \"nancial\", \"nancial\", \"nancial\", \"nancial\", \"nancial\", \"nascimento\", \"nce\", \"nce\", \"nce\", \"nce\", \"nce\", \"nce\", \"negative\", \"negative\", \"negative\", \"negative\", \"nero\", \"nets\", \"nets\", \"new\", \"new\", \"new\", \"new\", \"new\", \"new\", \"new\", \"new\", \"next\", \"nis\", \"nordbank\", \"north\", \"north\", \"north\", \"north\", \"north\", \"north\", \"nsiti\", \"nueva\", \"nyu\", \"oba\", \"odital\", \"oeconomic\", \"offer\", \"og\", \"og\", \"oklahoma\", \"oklahoma\", \"oklahoma\", \"one\", \"one\", \"one\", \"one\", \"one\", \"online\", \"online\", \"opus\", \"ordinary\", \"oregnal\", \"orins\", \"osborne\", \"pa\", \"pa\", \"pa\", \"pa\", \"pa\", \"pacic\", \"paerns\", \"panel\", \"panel\", \"panel\", \"pardominas\", \"pat\", \"payments\", \"peters\", \"peters\", \"peters\", \"petr\", \"phippe\", \"phippe\", \"piano\", \"pink\", \"pitratis\", \"plo\", \"plo\", \"plo\", \"po\", \"policy\", \"policy\", \"policy\", \"policy\", \"policy\", \"policy\", \"policy\", \"political\", \"political\", \"political\", \"political\", \"political\", \"political\", \"positive\", \"positive\", \"positive\", \"positive\", \"ppc\", \"pquit\", \"price\", \"price\", \"price\", \"price\", \"price\", \"price\", \"pro\", \"pro\", \"pro\", \"problems\", \"produfuncapital\", \"professor\", \"professor\", \"prometus\", \"pseudoscience\", \"psical\", \"psical\", \"psics\", \"psics\", \"psics\", \"psics\", \"psics\", \"pug\", \"pug\", \"pug\", \"pug\", \"pug\", \"quaeur\", \"quantitative\", \"quantitative\", \"quantitative\", \"r\", \"r\", \"r\", \"r\", \"r\", \"r\", \"r\", \"rac\", \"rac\", \"rad\", \"rad\", \"rad\", \"rae\", \"rae\", \"rae\", \"ramirez\", \"rank\", \"rao\", \"rao\", \"rappi\", \"raquo\", \"rat\", \"rat\", \"rat\", \"rat\", \"rat\", \"rate\", \"rate\", \"rate\", \"rati\", \"rati\", \"rati\", \"ray\", \"rd\", \"reform\", \"regi\", \"regi\", \"regi\", \"regi\", \"regi\", \"regjajaub\", \"relatns\", \"relatns\", \"relatns\", \"relatns\", \"restrepo\", \"result\", \"result\", \"revenue\", \"review\", \"review\", \"review\", \"review\", \"review\", \"review\", \"rf\", \"ria\", \"ria\", \"rianz\", \"rianz\", \"rice\", \"rise\", \"risk\", \"risk\", \"risk\", \"risk\", \"risk\", \"risk\", \"risk\", \"risks\", \"risks\", \"risks\", \"road\", \"road\", \"road\", \"ror\", \"ror\", \"ror\", \"rrm\", \"ry\", \"samuelso\", \"santa\", \"santa\", \"sar\", \"sar\", \"sar\", \"sarah\", \"sc\", \"schooli\", \"schooli\", \"schotness\", \"sci\", \"sci\", \"science\", \"science\", \"science\", \"science\", \"science\", \"science\", \"science\", \"scr\", \"sell\", \"sensi\", \"sent\", \"sentiment\", \"sentiment\", \"sentiment\", \"sentiment\", \"sentiment\", \"ser\", \"ser\", \"ser\", \"ser\", \"serial\", \"shaped\", \"si\", \"si\", \"si\", \"si\", \"si\", \"si\", \"sick\", \"sick\", \"simo\", \"since\", \"since\", \"since\", \"since\", \"since\", \"since\", \"sino\", \"sino\", \"sis\", \"sis\", \"sis\", \"sk\", \"sk\", \"sk\", \"sk\", \"sll\", \"sll\", \"social\", \"social\", \"social\", \"social\", \"social\", \"society\", \"society\", \"society\", \"south\", \"south\", \"south\", \"space\", \"spendi\", \"st\", \"st\", \"st\", \"st\", \"st\", \"st\", \"st\", \"st\", \"st\", \"standardizatatibity\", \"standardizatresearvolume\", \"standardizatresearvolume\", \"standards\", \"standards\", \"standards\", \"stanley\", \"stanley\", \"statari\", \"stock\", \"stock\", \"stock\", \"stock\", \"strategic\", \"strategic\", \"strategic\", \"struured\", \"struured\", \"stunt\", \"supply\", \"supply\", \"supply\", \"supply\", \"sur\", \"sur\", \"survey\", \"survey\", \"survey\", \"survey\", \"survey\", \"survey\", \"table\", \"table\", \"table\", \"table\", \"table\", \"table\", \"table\", \"table\", \"table\", \"table\", \"tac\", \"tac\", \"tag\", \"tag\", \"teberg\", \"technological\", \"technological\", \"technology\", \"technology\", \"technology\", \"technology\", \"technology\", \"tell\", \"tell\", \"temic\", \"tends\", \"tenor\", \"ter\", \"ter\", \"ter\", \"ter\", \"ter\", \"ter\", \"ter\", \"test\", \"tfor\", \"th\", \"th\", \"th\", \"th\", \"ti\", \"ti\", \"ti\", \"ti\", \"ti\", \"tier\", \"time\", \"time\", \"time\", \"time\", \"time\", \"time\", \"time\", \"time\", \"time\", \"today\", \"today\", \"tory\", \"tory\", \"tory\", \"tory\", \"tory\", \"tory\", \"tory\", \"toscana\", \"totocbb\", \"tra\", \"tra\", \"tra\", \"tra\", \"transfer\", \"transfer\", \"transitfault\", \"translated\", \"transt\", \"tre\", \"tre\", \"tre\", \"tre\", \"tre\", \"tre\", \"tre\", \"tre\", \"tre\", \"tri\", \"tri\", \"true\", \"true\", \"true\", \"try\", \"tse\", \"tse\", \"tse\", \"tse\", \"tse\", \"tse\", \"tse\", \"tse\", \"tse\", \"tse\", \"tureva\", \"tz\", \"ui\", \"ui\", \"ui\", \"ui\", \"una\", \"uni\", \"uni\", \"uni\", \"unone\", \"unr\", \"unrstood\", \"us\", \"us\", \"us\", \"us\", \"ut\", \"uva\", \"uyethink\", \"uz\", \"valle\", \"valor\", \"valor\", \"valor\", \"value\", \"value\", \"value\", \"value\", \"value\", \"var\", \"var\", \"var\", \"vee\", \"vega\", \"vega\", \"verlag\", \"vida\", \"vida\", \"vie\", \"voichi\", \"w\", \"w\", \"w\", \"w\", \"w\", \"w\", \"w\", \"w\", \"wie\", \"windows\", \"worki\", \"worki\", \"worki\", \"worki\", \"worki\", \"wrist\", \"xi\", \"xy\", \"yavlev\", \"ye\", \"ye\", \"ye\", \"yi\", \"yi\", \"yi\", \"york\", \"york\", \"york\", \"york\", \"york\", \"ys\", \"ys\", \"yuas\", \"yue\", \"yue\", \"zac\", \"zac\", \"zac\", \"zac\", \"zac\", \"zi\", \"zi\", \"zi\"]}, \"R\": 30, \"lambda.step\": 0.01, \"plot.opts\": {\"xlab\": \"PC1\", \"ylab\": \"PC2\"}, \"topic.order\": [10, 9, 4, 8, 3, 5, 1, 7, 2, 6]};\n",
       "\n",
       "function LDAvis_load_lib(url, callback){\n",
       "  var s = document.createElement('script');\n",
       "  s.src = url;\n",
       "  s.async = true;\n",
       "  s.onreadystatechange = s.onload = callback;\n",
       "  s.onerror = function(){console.warn(\"failed to load library \" + url);};\n",
       "  document.getElementsByTagName(\"head\")[0].appendChild(s);\n",
       "}\n",
       "\n",
       "if(typeof(LDAvis) !== \"undefined\"){\n",
       "   // already loaded: just create the visualization\n",
       "   !function(LDAvis){\n",
       "       new LDAvis(\"#\" + \"ldavis_el2172424985094554402897511564\", ldavis_el2172424985094554402897511564_data);\n",
       "   }(LDAvis);\n",
       "}else if(typeof define === \"function\" && define.amd){\n",
       "   // require.js is available: use it to load d3/LDAvis\n",
       "   require.config({paths: {d3: \"https://d3js.org/d3.v5\"}});\n",
       "   require([\"d3\"], function(d3){\n",
       "      window.d3 = d3;\n",
       "      LDAvis_load_lib(\"https://cdn.jsdelivr.net/gh/bmabey/pyLDAvis@3.4.0/pyLDAvis/js/ldavis.v3.0.0.js\", function(){\n",
       "        new LDAvis(\"#\" + \"ldavis_el2172424985094554402897511564\", ldavis_el2172424985094554402897511564_data);\n",
       "      });\n",
       "    });\n",
       "}else{\n",
       "    // require.js not available: dynamically load d3 & LDAvis\n",
       "    LDAvis_load_lib(\"https://d3js.org/d3.v5.js\", function(){\n",
       "         LDAvis_load_lib(\"https://cdn.jsdelivr.net/gh/bmabey/pyLDAvis@3.4.0/pyLDAvis/js/ldavis.v3.0.0.js\", function(){\n",
       "                 new LDAvis(\"#\" + \"ldavis_el2172424985094554402897511564\", ldavis_el2172424985094554402897511564_data);\n",
       "            })\n",
       "         });\n",
       "}\n",
       "</script>"
      ],
      "text/plain": [
       "PreparedData(topic_coordinates=              x         y  topics  cluster       Freq\n",
       "topic                                                \n",
       "9      0.234644 -0.091201       1        1  15.746973\n",
       "8     -0.121152 -0.157613       2        1  13.311055\n",
       "3     -0.101713 -0.069157       3        1  12.072558\n",
       "7     -0.093280  0.118471       4        1  11.906496\n",
       "2      0.179691  0.032478       5        1  10.608620\n",
       "4     -0.023435 -0.068088       6        1   9.398021\n",
       "0      0.070089  0.093306       7        1   8.133757\n",
       "6     -0.060492  0.017113       8        1   7.973513\n",
       "1     -0.056143  0.110877       9        1   6.565910\n",
       "5     -0.028210  0.013814      10        1   4.283098, topic_info=             Term        Freq       Total Category  logprob  loglift\n",
       "1610       assets  217.000000  217.000000  Default  30.0000  30.0000\n",
       "1613        edits   84.000000   84.000000  Default  29.0000  29.0000\n",
       "22        journal  184.000000  184.000000  Default  28.0000  28.0000\n",
       "749    investment   64.000000   64.000000  Default  27.0000  27.0000\n",
       "1232        loans   52.000000   52.000000  Default  26.0000  26.0000\n",
       "...           ...         ...         ...      ...      ...      ...\n",
       "1944          eur    2.171663   17.038160  Topic10  -5.8915   1.0905\n",
       "495   maoeconomic    2.073939   33.741359  Topic10  -5.9375   0.3612\n",
       "1942         belt    1.948217   24.180930  Topic10  -6.0000   0.6318\n",
       "228         table    1.951392   78.932163  Topic10  -5.9984  -0.5496\n",
       "1952         road    1.938377   34.275745  Topic10  -6.0051   0.2779\n",
       "\n",
       "[638 rows x 6 columns], token_table=      Topic      Freq     Term\n",
       "term                          \n",
       "2149      9  0.787101  abruzzo\n",
       "2645      1  0.745782      aci\n",
       "2645      2  0.021935      aci\n",
       "2645      6  0.153543      aci\n",
       "2645      7  0.087739      aci\n",
       "...     ...       ...      ...\n",
       "2737      8  0.112801      zac\n",
       "2737     10  0.056401      zac\n",
       "343       2  0.745827       zi\n",
       "343       3  0.082870       zi\n",
       "343      10  0.082870       zi\n",
       "\n",
       "[1321 rows x 3 columns], R=30, lambda_step=0.01, plot_opts={'xlab': 'PC1', 'ylab': 'PC2'}, topic_order=[10, 9, 4, 8, 3, 5, 1, 7, 2, 6])"
      ]
     },
     "execution_count": 4,
     "metadata": {},
     "output_type": "execute_result"
    }
   ],
   "source": [
    "import pyLDAvis\n",
    "import pyLDAvis.gensim_models as gensimvis  \n",
    "\n",
    "pyLDAvis.enable_notebook()\n",
    "vis = gensimvis.prepare(lda_model_unigrams, corpus_unigrams, dictionary=dictionary_unigrams)\n",
    "vis"
   ]
  },
  {
   "cell_type": "code",
   "execution_count": 5,
   "metadata": {},
   "outputs": [
    {
     "name": "stderr",
     "output_type": "stream",
     "text": [
      "c:\\ProgramData\\Anaconda3\\envs\\test_env\\Lib\\site-packages\\joblib\\_utils.py:38: DeprecationWarning: ast.Num is deprecated and will be removed in Python 3.14; use ast.Constant instead\n",
      "  if isinstance(node, ast.Num):  # <number>\n",
      "c:\\ProgramData\\Anaconda3\\envs\\test_env\\Lib\\site-packages\\joblib\\_utils.py:38: DeprecationWarning: ast.Num is deprecated and will be removed in Python 3.14; use ast.Constant instead\n",
      "  if isinstance(node, ast.Num):  # <number>\n",
      "c:\\ProgramData\\Anaconda3\\envs\\test_env\\Lib\\site-packages\\joblib\\_utils.py:39: DeprecationWarning: Attribute n is deprecated and will be removed in Python 3.14; use value instead\n",
      "  return node.n\n",
      "c:\\ProgramData\\Anaconda3\\envs\\test_env\\Lib\\site-packages\\joblib\\_utils.py:38: DeprecationWarning: ast.Num is deprecated and will be removed in Python 3.14; use ast.Constant instead\n",
      "  if isinstance(node, ast.Num):  # <number>\n",
      "c:\\ProgramData\\Anaconda3\\envs\\test_env\\Lib\\site-packages\\joblib\\_utils.py:39: DeprecationWarning: Attribute n is deprecated and will be removed in Python 3.14; use value instead\n",
      "  return node.n\n"
     ]
    },
    {
     "data": {
      "text/html": [
       "\n",
       "<link rel=\"stylesheet\" type=\"text/css\" href=\"https://cdn.jsdelivr.net/gh/bmabey/pyLDAvis@3.4.0/pyLDAvis/js/ldavis.v1.0.0.css\">\n",
       "\n",
       "\n",
       "<div id=\"ldavis_el2172424985094556962185740989\" style=\"background-color:white;\"></div>\n",
       "<script type=\"text/javascript\">\n",
       "\n",
       "var ldavis_el2172424985094556962185740989_data = {\"mdsDat\": {\"x\": [-0.11711754236831902, -0.07926528851098694, 0.12040145747473181, 0.049267023811425226, 0.017349073628108, -0.09916043022550936, 0.05616645101974771, 0.030897618123914578, 0.013576641864125098, 0.007884995182763092], \"y\": [0.08764954459410705, -0.0681454978645456, -0.030324806497093893, 0.1751062709147832, -0.04555173144195268, -0.030163104763943262, -0.028870715441655065, -0.0019993726946380885, -0.030655977057458355, -0.02704460974760342], \"topics\": [1, 2, 3, 4, 5, 6, 7, 8, 9, 10], \"cluster\": [1, 1, 1, 1, 1, 1, 1, 1, 1, 1], \"Freq\": [12.460117545903364, 12.036014621661135, 12.021679226004325, 11.542306962305908, 10.503702360885528, 10.250949641688587, 9.254664370347639, 9.110708334627306, 6.778378943717269, 6.041477992858941]}, \"tinfo\": {\"Term\": [\"assets assets\", \"revenue assets\", \"assets revenue\", \"og lu\", \"cem og\", \"economic groh\", \"cost investment\", \"payments edits\", \"ark boca\", \"mand investment\", \"articial intellence\", \"pro ye\", \"ye cci\", \"map pro\", \"investment cost\", \"edits loans\", \"interest rate\", \"new coalab\", \"coalab worki\", \"coameasurement new\", \"ger articial\", \"journal economic\", \"ari zac\", \"loans payments\", \"worki pa\", \"minas ger\", \"b b\", \"true ba\", \"standardizatresearvolume issue\", \"journal standardizatresearvolume\", \"sis positive\", \"moramirae morapat\", \"moranova ter\", \"morajury meto\", \"coe moramirae\", \"meto moranova\", \"moraark pe\", \"moracapita ene\", \"land morajury\", \"lago moraark\", \"moragla uci\", \"positive sis\", \"south campania\", \"ark regi\", \"technology society\", \"central abruzzo\", \"rad marc\", \"campania movie\", \"marc toscana\", \"morahos agua\", \"agua moracapita\", \"morapat morasao\", \"technology analysis\", \"analysis strategic\", \"g na\", \"pug lia\", \"integral edits\", \"campania pug\", \"paerns italianorth\", \"italianorth note\", \"b b\", \"strategic management\", \"uci land\", \"ene franci\", \"new coalab\", \"coalab worki\", \"coameasurement new\", \"worki pa\", \"sar g\", \"invest ci\", \"franci gla\", \"jo ao\", \"months ark\", \"new york\", \"journal economics\", \"internatnal journal\", \"articial intellence\", \"municip months\", \"journal economic\", \"rao logo\", \"edits loans\", \"future future\", \"quarterly journal\", \"ao lago\", \"pe coe\", \"municips sao\", \"sao jo\", \"intellence bras\", \"et apa\", \"ark pe\", \"lam la\", \"lago ark\", \"ark conrm\", \"pat sao\", \"agua jury\", \"ao hos\", \"regnal groh\", \"xi yi\", \"context pennt\", \"cole cci\", \"la le\", \"coe pat\", \"saga si\", \"boca months\", \"rseleassessment risk\", \"soluteconomic r\", \"risk soluteconomic\", \"dir minas\", \"bras dir\", \"corollary xi\", \"fare brotr\", \"innovatpolicinew regnal\", \"pl innovatpolicinew\", \"lea corollary\", \"groh paths\", \"apa aet\", \"negative positive\", \"conrm municips\", \"ica ci\", \"li york\", \"sao jo\", \"ger articial\", \"minas ger\", \"loans edit\", \"municip boca\", \"jury meto\", \"jo ao\", \"hos agua\", \"eco nom\", \"leotie leotie\", \"municips months\", \"articial intellence\", \"pe coe\", \"months ark\", \"cbb douglas\", \"internatnal journal\", \"municip months\", \"edit loans\", \"journal economic\", \"mc adam\", \"vida ec\", \"jajaub alias\", \"regi jajaub\", \"zac regi\", \"alias ark\", \"boca mono\", \"time time\", \"mono true\", \"ari zac\", \"mono est\", \"temic risk\", \"ys rev\", \"est ari\", \"vec ios\", \"petr lar\", \"lar iafro\", \"road snicance\", \"ci ci\", \"py px\", \"years capita\", \"capita euros\", \"loans leotie\", \"ryajoined shapi\", \"bras ero\", \"ero geo\", \"goregnal tri\", \"far east\", \"math share\", \"iafro lhi\", \"snicance petr\", \"assets capital\", \"ph ys\", \"px py\", \"ark boca\", \"sk road\", \"intellence ba\", \"var sea\", \"sea alma\", \"struured nance\", \"true ba\", \"supply assets\", \"ba regjajaub\", \"rao mono\", \"regjajaub alias\", \"boca rao\", \"road economic\", \"economic belt\", \"alias months\", \"tri goregnal\", \"months ark\", \"business cye\", \"articial intellence\", \"die bold\", \"edits loans\", \"valor sur\", \"sur municips\", \"eur economic\", \"cem og\", \"ju mit\", \"mit tag\", \"handbook economic\", \"lu cem\", \"mono shapi\", \"blind ju\", \"auf handbook\", \"mao mao\", \"gh steveurl\", \"og lu\", \"adr ante\", \"cu adr\", \"key key\", \"lu restrepo\", \"media items\", \"ser ray\", \"lu ak\", \"groh else\", \"gacia zi\", \"lu gacia\", \"gh hmwith\", \"zi li\", \"bot ti\", \"li bot\", \"sc opus\", \"ante cu\", \"link betestandardizateconomic\", \"betestandardizateconomic groh\", \"groh gh\", \"metro nero\", \"lucia metro\", \"economic groh\", \"phippe gh\", \"standardizatresearvolume issue\", \"journal standardizatresearvolume\", \"mok yr\", \"shapi wl\", \"journal economic\", \"barrel lor\", \"steveurl auf\", \"future future\", \"internatnal journal\", \"tac sll\", \"boca rao\", \"regjajaub alias\", \"rao mono\", \"ba regjajaub\", \"alias months\", \"months ark\", \"ark boca\", \"true ba\", \"pro ye\", \"ye cci\", \"map pro\", \"intellence fall\", \"e articial\", \"meto map\", \"amap amap\", \"odital sent\", \"le e\", \"iz vida\", \"humare cim\", \"meto humare\", \"boca map\", \"fall control\", \"ppc le\", \"east science\", \"alias map\", \"impa articial\", \"constru os\", \"os cocim\", \"eq economic\", \"este minas\", \"ci este\", \"aitu subjeive\", \"behral normative\", \"subjeive norms\", \"normative beliefs\", \"wdle management\", \"ht e\", \"oklahoma natnal\", \"eto ec\", \"ec oregnal\", \"ec odital\", \"agr meto\", \"psics maoeconomic\", \"map mice\", \"buy sell\", \"articial intellence\", \"map agr\", \"vida ec\", \"mice regi\", \"sent meto\", \"journal economics\", \"ecu aci\", \"minas ger\", \"ger articial\", \"eco psics\", \"cim eto\", \"journal economic\", \"true ba\", \"edits loans\", \"nance risk\", \"quarterly journal\", \"revenue assets\", \"assets revenue\", \"assets assets\", \"equatns assets\", \"aregate assets\", \"assets aregate\", \"assets equatns\", \"fluuatns assets\", \"assets continuity\", \"tr articial\", \"groh assets\", \"remark remark\", \"assets eq\", \"public public\", \"remote sensi\", \"assets groh\", \"assets economic\", \"intellence va\", \"lac special\", \"intellence true\", \"special minas\", \"remark totocbb\", \"investment loans\", \"al dr\", \"tse assets\", \"individuals individuals\", \"assets rst\", \"lease lease\", \"regns note\", \"std err\", \"inx trial\", \"geo da\", \"eva lu\", \"bryacfs socoll\", \"die enters\", \"enters fox\", \"socoll die\", \"assets investment\", \"emunicips mice\", \"articial intellence\", \"ger articial\", \"minas ger\", \"rat eff\", \"mice regi\", \"coameasurement new\", \"coalab worki\", \"new coalab\", \"worki pa\", \"true ba\", \"equatns equatns\", \"months ark\", \"economic groh\", \"cost investment\", \"investment cost\", \"associate professor\", \"rate mand\", \"coe var\", \"var md\", \"mum regi\", \"esta mum\", \"regi va\", \"rianz coe\", \"institute transt\", \"law institute\", \"professor law\", \"transt mow\", \"law associate\", \"rate cost\", \"interest rate\", \"investment mand\", \"md rae\", \"online output\", \"st rieved\", \"lease price\", \"aributquantitative lease\", \"cod aributquantitative\", \"oom ka\", \"asia central\", \"ph law\", \"st st\", \"st brownish\", \"brownish st\", \"mand investment\", \"investment interest\", \"va rianz\", \"investment investment\", \"constru se\", \"central asia\", \"economic tory\", \"nance risk\", \"nancial analysis\", \"journal nance\", \"journal economic\", \"articial intellence\", \"eco psics\", \"economic groh\", \"sk road\", \"centred movi\", \"economic belt\", \"esta fec\", \"gr esta\", \"fec gr\", \"ut ler\", \"mantre ut\", \"ser mantre\", \"sarah ser\", \"pe sarah\", \"road chinese\", \"corr corr\", \"ni pe\", \"ui ci\", \"li xi\", \"wa qi\", \"li ji\", \"road wa\", \"japi li\", \"wa kei\", \"xi jia\", \"dos gr\", \"primer result\", \"esta primer\", \"forage kg\", \"maoeconomic econometrics\", \"next next\", \"intensive pricinterest\", \"pricinterest ratenormous\", \"prots sis\", \"edits investment\", \"gut eur\", \"result dos\", \"one belt\", \"belt one\", \"one road\", \"economic media\", \"investment assets\", \"ui ui\", \"road initiative\", \"mendoza yue\", \"eq eq\", \"die bold\", \"journal technology\", \"media sentiment\", \"cbb douglas\", \"eur economic\", \"internatnal journal\", \"bold ser\", \"sk road\", \"journal economic\", \"articial intellence\", \"eco psics\", \"payments edits\", \"loans payments\", \"edits payments\", \"got get\", \"municips jasafranci\", \"get got\", \"edits editors\", \"equip os\", \"put ad\", \"interrev analysis\", \"jasafranci months\", \"com put\", \"eq edits\", \"annual economic\", \"bei er\", \"st aka\", \"ballad st\", \"alth income\", \"er media\", \"responnts survey\", \"manha rodro\", \"sao roma\", \"cotab li\", \"li date\", \"iha alias\", \"table net\", \"editors edits\", \"program ad\", \"put aci\", \"tele comune\", \"iform aci\", \"og iform\", \"comune cac\", \"cac datos\", \"concepts methods\", \"edits edits\", \"ark jaub\", \"edits loans\", \"fault study\", \"study rati\", \"sur municips\", \"valor sur\", \"aci greete\", \"tenor og\", \"gamo ltd\", \"corate fault\", \"land li\", \"cim eto\", \"months ark\", \"struured nance\", \"articial intellence\", \"ter iha\", \"te cim\", \"vida ec\", \"ec odital\", \"li fs\", \"esta esta\", \"zac est\", \"pc pc\", \"groh rate\", \"moralust rac\", \"gr moralust\", \"capital formatlabor\", \"gross capital\", \"formatlabor groh\", \"rate government\", \"mlust rac\", \"rac mlust\", \"dad lust\", \"alias articial\", \"iflows gross\", \"number words\", \"ge number\", \"outs ge\", \"risk tse\", \"edit foredire\", \"variable gr\", \"gr rate\", \"pennt variable\", \"private edit\", \"loans r\", \"assets fluuatns\", \"institutjena germany\", \"intellence hubs\", \"ble jer\", \"valor edu\", \"rac gr\", \"rac valor\", \"hubs articial\", \"lust rac\", \"uni dad\", \"input output\", \"output analysis\", \"articial intellence\", \"valor uni\", \"ica ci\", \"loans edits\", \"edits loans\", \"tenor og\", \"months ark\", \"ark boca\", \"economic groh\", \"intellence bei\"], \"Freq\": [62.0, 35.0, 31.0, 28.0, 19.0, 35.0, 13.0, 11.0, 19.0, 13.0, 94.0, 9.0, 9.0, 9.0, 9.0, 23.0, 11.0, 16.0, 16.0, 16.0, 27.0, 36.0, 11.0, 6.0, 22.0, 26.0, 13.0, 22.0, 16.0, 16.0, 2.6387480306686184, 2.6206042214144163, 2.6202679397205424, 2.6201747563198734, 2.6197365633035052, 2.619701651616202, 2.619579717414225, 2.6195740699353967, 2.6193771782871513, 2.6193497110037587, 2.619145374951603, 1.9950590470044511, 1.9948928314343874, 1.993428337492746, 1.9934137053885086, 1.9928483157467094, 1.9925314151733602, 1.9924583830039655, 1.9922847230299916, 1.9880391024689383, 1.9868737965534113, 1.9764547115221498, 3.9227955257096863, 3.9217789795205715, 3.2797697357524833, 4.56778920533501, 1.3513899578679747, 1.3513859789624365, 1.3513793046692757, 1.3513784062067349, 9.717896113553998, 3.9221147478072793, 5.18801227270815, 2.6327463008955108, 10.296091156893231, 10.295996689974647, 10.295491497323086, 12.13346142840244, 3.2799455777069135, 4.567768155641194, 2.6324208007521275, 4.8242612418128665, 8.971523257961861, 3.2792537615504327, 5.212463288999361, 6.294529987260042, 9.70974834182609, 3.213092006854039, 5.216947387189123, 3.2819067930818724, 3.926551355834166, 3.2815471513619356, 3.280037990996833, 2.9037744573500275, 2.8530536798812736, 2.79988959770848, 2.662318296966179, 5.729792823236559, 3.886415268069489, 3.2396794790962096, 2.6117405204364466, 2.600227697437314, 2.5972503671965037, 2.597216643792427, 2.5969570231742765, 2.596842958719311, 1.9752642092718127, 1.9751665105864726, 1.974283254959108, 1.974543371509671, 1.9742646574936245, 1.973525098282896, 1.8277886636663603, 1.3384598388160496, 1.3384414893167726, 1.3384402494857404, 1.338439505587121, 1.3382694007694982, 1.3380948325601596, 1.3379710974231425, 1.3380128797289288, 1.3379873392096646, 1.337965890132807, 1.3378857970481246, 1.3378407911816546, 1.337748919702166, 1.337563812929053, 3.748133193551166, 4.177422208800646, 1.975514407174118, 5.440863591349222, 11.232368260316683, 10.575972947771257, 1.9751253481962023, 1.9725725361008295, 2.5047004521670133, 5.19947047310262, 2.36739338077244, 2.615104677959314, 2.6135412510276654, 3.227656837576622, 15.118121706581165, 2.9948698824571793, 7.474287654427687, 3.249542334957643, 4.364125388350514, 2.6531602996289574, 2.6127180032222608, 4.319522714932048, 2.6125414512832705, 2.6141085977080163, 4.5175310035781635, 4.517224387043148, 4.517217452258835, 4.5170584475613555, 4.516840992538945, 4.515189523188801, 3.878087668563812, 9.3437698749835, 2.6081253229342933, 2.606156587201795, 2.605173581525322, 8.544304162891681, 1.9726086857021659, 1.972459340168552, 1.9722525349934814, 1.972141206938159, 1.9713512607035628, 1.3366114431500087, 1.3364204889105125, 1.3364191267207366, 1.3364121919364227, 1.336187554458831, 1.3361541188916042, 1.3361343052221364, 1.3359172217060293, 1.3358722694434242, 1.335910658428018, 1.3358432919518275, 1.3358098563846004, 1.3356787146598101, 2.6057115226513736, 2.609937035336259, 11.29516468396362, 7.695843208939785, 1.9724545105866191, 1.9716198597602863, 1.9715007300726108, 4.512780180981512, 9.38981882419371, 1.9728858294038472, 4.502753473547311, 4.499975101746183, 4.49846430944926, 4.496572104015081, 3.8789916672332825, 3.8787989792977076, 4.500469452799406, 3.8807325457669006, 6.914385150343813, 3.2403292384668325, 8.14980558297744, 3.2420493126475094, 2.6103768987984455, 2.609509803088359, 2.609084304536537, 2.6090439341849962, 18.877272325877716, 6.90388498291871, 6.903035579779938, 5.7054332736926, 4.454667652675577, 4.454368506777319, 4.41561698541661, 3.8234262908988934, 3.2017400010488926, 3.1982860311186982, 23.81117456109915, 2.5741376135814527, 2.5741349978383044, 2.574110980560304, 2.572233590364168, 2.5718424178660495, 2.5717247094243665, 2.571620079698426, 2.5708246559864465, 2.570324097865754, 2.5699788197701503, 3.0280441930151003, 4.446352443001289, 4.444086258255351, 4.443048521609886, 4.441125712600899, 1.946219553474954, 1.9454281722751132, 1.9453322220605291, 1.944822508838817, 5.702090353948802, 5.076329449657914, 23.335786547750597, 6.333986364897108, 9.735945333916042, 9.734217992258698, 4.4585351478180675, 4.4543713603153, 14.422274613975764, 3.199769633073568, 3.1983069570638865, 5.078199468214269, 8.686102077981177, 3.823220122779824, 4.454891179817359, 4.454929702580092, 4.454920190786824, 4.454790830398388, 4.4548027201399725, 6.969866866045093, 5.097516017981535, 4.452677309934391, 8.490098895932123, 8.490098895932123, 8.48996819185447, 6.6844536571684054, 4.276252233338819, 3.071909156246918, 3.064377658368302, 3.0625086333373397, 2.4687089722818776, 2.4648778713037425, 2.463206849966578, 2.4626587151508517, 2.439375644735042, 1.8674044302377857, 1.8663191968777908, 1.8661244391461864, 1.8650865968342154, 1.8646254538052724, 1.8583211460332425, 1.855014808943041, 2.4692837239875898, 1.2649335057788635, 1.2649335057788635, 1.2649292860280121, 1.2649290696305324, 1.2649285286368337, 1.264927338450696, 1.2649128398195655, 1.2649073216838367, 1.2649055905040003, 3.0127374294359526, 3.0117833329485713, 4.203943881133667, 3.6743660148696686, 2.4676070763159568, 3.6604681031423887, 1.8668710104506694, 22.702702762708014, 3.071977970645418, 4.20870159611928, 4.254059373425034, 2.9012531267236445, 4.168445605791638, 2.46951007575121, 4.430438899885198, 4.424963178062404, 3.0766802878762634, 2.768170191576424, 2.934525753988396, 2.8003517427492324, 2.7412256758064544, 2.4867506793452576, 2.4692960586439248, 35.25596398811592, 31.080468920349816, 59.97191866231262, 6.0280091718094715, 5.423671338607535, 3.6229465780334316, 7.168144727832708, 3.031414477627374, 2.4411446614241163, 2.4351781141098283, 2.427422785266727, 1.8515626919079125, 1.8506894201698203, 1.8504357806637868, 1.8504849879950989, 1.8217658576812052, 1.8037922991462405, 1.2541906527503204, 1.2541901247746625, 1.25418928001361, 1.2541884352525574, 1.254188012872031, 1.2541871681109786, 1.2541859009693999, 1.2541848450180841, 1.2541815715690054, 1.2541791428809792, 1.2541039591473007, 1.2540566525283567, 1.254048732893489, 2.4485948203369774, 1.848369072748679, 1.8510330267279524, 2.4466404656418614, 2.446467500816348, 2.4463918947021432, 2.446394428985301, 2.4488087560735403, 2.4389797500366477, 17.086403993734464, 7.532996181675806, 6.926202205713528, 2.4483483612998906, 4.217553186290311, 4.241049792586965, 4.240967850764866, 4.240733429572779, 4.24099234883539, 3.9118882260732892, 2.294304916222524, 3.0961438708998763, 2.454838026895982, 12.689431723942908, 8.100736911434671, 2.3675779329123205, 3.698176678557772, 3.526725955883462, 3.5265406297224753, 3.5265257578700506, 3.5263553035614885, 3.5262954348222397, 3.5261985771167037, 1.790135934937196, 1.7898215287237524, 1.7897864464052118, 1.7897748158539564, 1.789496445282927, 1.7559295303713724, 8.452238100780352, 4.9953557024977195, 2.370479278788591, 1.2131755561829067, 1.2131713615578639, 1.2131748888561955, 1.21317221954935, 1.213171647555026, 1.2130857530740338, 1.2125139494147752, 1.2124659018915565, 1.212417663703563, 1.2124127064194214, 1.212367518867823, 8.88459335713495, 6.40454036699252, 3.5265879145865955, 2.227687378396083, 1.7912696276874294, 2.367711398254595, 3.5202342016352364, 3.385889132090499, 2.3584721646032643, 2.313695876923634, 5.255623415830582, 6.4094961258159415, 2.360990464947207, 1.7931169786892813, 1.791197747067376, 1.7911123292483202, 1.7905971530271412, 3.4859385030409027, 6.342446463425548, 2.342930865104167, 2.3403723401763776, 2.3403338618835017, 2.340282995457309, 2.3400155243970713, 2.339994877508211, 1.771223392732039, 1.7710394477221916, 1.7685961699740418, 3.485951266572198, 1.1999146868634025, 1.1999146868634025, 1.199914405314918, 1.1999137483684543, 1.1999135606694646, 1.1999119652280528, 1.1999116836795682, 1.199909243592703, 1.1999042695694775, 1.1999038003220035, 1.1998881274563684, 1.199885781218998, 1.1998724545907336, 1.1998469275281423, 1.1998436427958237, 1.1998342578463417, 1.1997680939524933, 1.1995190173932404, 2.3418754336854186, 5.772042748235464, 5.771975927395151, 5.771855424643802, 2.9158084529777133, 1.7713044786955638, 1.7706452798439465, 1.7710340044514918, 1.7697668485724292, 3.4853408694578873, 4.055207390139621, 2.9120413342556293, 1.7733588441371786, 2.9135562528010173, 2.913663428924102, 4.419289748131065, 1.770892479413303, 2.9173995773128953, 3.05060711017386, 3.4827825322290877, 1.7714244183499441, 10.529788619284362, 6.035755687350286, 3.5462726359673002, 2.0488728526908244, 2.0101919509389083, 1.5491971510740283, 1.5484801967309003, 1.5478838985140797, 1.5478216153748052, 1.5469685039446983, 1.5399013227131677, 3.0465599275525044, 1.4912971528139332, 1.0497443281349943, 1.0497377646651604, 1.0497311313711795, 1.0497301538331192, 1.0496860947962556, 1.0494027484070452, 1.0493760057586796, 1.0493193085511787, 1.0491159108104762, 1.0489461683087091, 1.0488689428019407, 1.0488681049121746, 1.0487046465836527, 1.0487851538253383, 1.048694033313283, 1.048695709092815, 1.0486610763158195, 4.044670695339204, 2.0471772431009803, 1.5479549794958973, 1.5479306806926827, 1.547364965452322, 3.546372624146046, 2.0416272009391307, 7.81875717979081, 1.5476481721932382, 1.5466537366892619, 3.026405885713737, 3.026153401597575, 1.5480213124357076, 2.047393977253792, 1.547881943437959, 1.5467882179967087, 1.5479396181835203, 2.0488492521290813, 2.6855852858925764, 1.8344944269564212, 2.5477577260167883, 1.7744967716670845, 1.5490644851944078, 1.549060854338755, 1.5490184012572765, 1.5479347304932185, 2.8663792482786588, 2.866303572557484, 1.9277309598847914, 1.9277192600200044, 1.9261782384675896, 1.9260789140835475, 1.457504432499504, 1.4575024410331572, 1.4575002006335172, 1.4574988315004038, 1.456621341641384, 1.4564092504754593, 1.4563172696235704, 0.9872929655784635, 0.9872924677118768, 0.9872866800128067, 0.98728655554616, 0.9872857465129566, 0.9872791497806832, 0.9872772205476598, 0.9872743578147865, 0.9872742333481397, 0.987270188182123, 0.9872683834157463, 0.9872055277591781, 0.9866270067854584, 0.9869814255618498, 0.9867612440638915, 0.9866917294417266, 0.9522385526104137, 2.396515914568353, 2.382075294221761, 1.4568598197364027, 2.854002036000553, 2.3301617494956846, 1.9266339108610466, 1.4563636956827781, 6.160647943011278, 1.456328347155124, 1.664348955867224, 1.4574429459760492, 2.3978200760921555, 1.4569097308617172, 2.105600519174385, 1.151820571611617, 0.9925138435396611, 0.9881489849409327], \"Total\": [62.0, 35.0, 31.0, 28.0, 19.0, 35.0, 13.0, 11.0, 19.0, 13.0, 94.0, 9.0, 9.0, 9.0, 9.0, 23.0, 11.0, 16.0, 16.0, 16.0, 27.0, 36.0, 11.0, 6.0, 22.0, 26.0, 13.0, 22.0, 16.0, 16.0, 3.1608925544404762, 3.1598890347236877, 3.159768601871706, 3.159793104356814, 3.159745621467255, 3.159713052390183, 3.1597237407850987, 3.159723219097285, 3.1596716537311127, 3.159682066952035, 3.159596280795562, 2.517203532817933, 2.5172243246063934, 2.5167042916292677, 2.517013529344399, 2.516981310511786, 2.516989159292223, 2.5169973268865857, 2.5170087530465386, 2.516519052609846, 2.5162869992794406, 2.516815397777273, 5.019170270644359, 5.0190731695959, 4.401475369507911, 6.286309562887916, 1.8735343614900968, 1.8735303908230394, 1.8735237239609672, 1.8735228254984264, 13.877206691092887, 5.621295319247593, 7.641458205385621, 3.7971772264403474, 16.743716851519956, 16.74363375442926, 16.743639255267176, 22.246500498180485, 4.998921576580554, 8.520502792293199, 3.7971258636269782, 12.890749553070188, 41.36629543233276, 6.600797345210401, 16.391037417628667, 28.334919839415694, 94.9634215611441, 6.349264203916714, 36.91700529257608, 7.873337340528946, 23.46028475060298, 9.827155226584422, 9.878192177967502, 5.705915350302608, 6.343793137292461, 6.1677374147063855, 10.483909502305464, 6.305257648682418, 4.411222751416703, 3.7718115605179277, 3.136109509046765, 3.133965346025659, 3.1325029653959486, 3.1325351634817826, 3.132514497629835, 3.1324423071844003, 2.4987216671337507, 2.498611283523219, 2.498312006164571, 2.498681381139619, 2.498562250486886, 2.4985729886065444, 2.4998098904234234, 1.8612202087690437, 1.8612026578329495, 1.861201418001917, 1.8612006741032978, 1.8612210983705522, 1.8612090446683633, 1.8611332788924237, 1.8612007351593898, 1.861190188654573, 1.8611923858339159, 1.86112243998025, 1.8611750114465826, 1.8611896756070263, 1.8609874149709495, 5.693401974387357, 6.982508477666358, 2.998453104452067, 10.483909502305464, 27.492765164404286, 26.25500805056071, 3.1349245338956675, 3.1339915869783987, 4.346840535783876, 12.890749553070188, 4.212474340330443, 4.876230651767216, 4.962909124307927, 6.876106549610854, 94.9634215611441, 6.343793137292461, 41.36629543233276, 9.587922908067135, 28.334919839415694, 6.349264203916714, 6.093383287811054, 36.91700529257608, 7.07647832059118, 10.076316044558137, 5.042479111953445, 5.042438811783526, 5.042444048041662, 5.042423006176472, 5.042398945920799, 5.04244500023037, 4.405264067696375, 11.134159922879192, 3.1325952222879017, 3.132504652355987, 3.1322444092006507, 10.454828260750292, 2.4960690012806994, 2.4960644072786056, 2.496040186158202, 2.4960323533536637, 2.495974792374806, 1.859459605636343, 1.859280162948152, 1.8592787967473825, 1.8594664220632038, 1.859371748349207, 1.8594639196416622, 1.859465893773047, 1.8594402889000252, 1.8594084363767183, 1.8594666393845576, 1.859403517796247, 1.8594050123862043, 1.8593683977398145, 3.6321412692004764, 3.7297895668416263, 19.87964872370811, 13.4593371337923, 2.96608033183968, 2.966007955850581, 2.9659937396964526, 8.593666240657262, 22.397158437642904, 3.073618171504043, 9.433407991712723, 9.432689261313806, 9.432305789231377, 9.431913307849655, 7.82373617905017, 7.823669813307296, 10.029861651414274, 10.005718701025694, 41.36629543233276, 7.927561669239186, 94.9634215611441, 9.495221818247998, 23.46028475060298, 7.078537043150095, 7.078452528511087, 10.21515352009704, 19.42128996252781, 7.493664273551623, 7.493678635243627, 6.236803274672769, 4.981033652633555, 4.981475650894792, 4.9814255539359555, 4.353223393925017, 3.7256448359946206, 3.7255135537285122, 28.19963371222035, 3.097859162195317, 3.097856560963534, 3.09783263907873, 3.0976900993962317, 3.0976040697719673, 3.097637987159892, 3.0976773213659428, 3.097653435177512, 3.0974747836161787, 3.097457552415576, 3.711883024727252, 5.6238877710995245, 5.623715101734203, 5.623584503206261, 5.62375244553777, 2.4699411020888182, 2.4699480485769194, 2.4699373007836267, 2.469797206513529, 7.441530996588169, 6.813644992203405, 35.05823520794976, 8.71298767115721, 16.1378664035941, 16.137846755831337, 6.202364009213733, 6.254327097236414, 36.91700529257608, 4.368710601222892, 4.36869874809608, 9.827155226584422, 28.334919839415694, 6.568365030856248, 9.431913307849655, 9.432305789231377, 9.432689261313806, 9.433407991712723, 10.029861651414274, 41.36629543233276, 19.87964872370811, 22.397158437642904, 9.020591457644823, 9.0205965706664, 9.020568865290192, 7.213529831819394, 4.803675177738402, 3.5985974962378307, 3.5990156488814766, 3.5984624784859265, 2.9962696240463287, 2.9960448198303444, 2.996077182177722, 2.9960686501068245, 2.9944220884977577, 2.3936684042651293, 2.3937687618281784, 2.393783341014625, 2.393522974018621, 2.393590405317893, 2.3935000371626685, 2.39319146103999, 3.4660985652158383, 1.7911973570008182, 1.7911973618144588, 1.7911931716161429, 1.7911929590931353, 1.7911924180994365, 1.7911912279132989, 1.7911767437627146, 1.7911712216159925, 1.7911694983367321, 5.322388597369349, 5.322332467890069, 8.163564989796948, 6.943845598570896, 4.26927538210956, 7.271741976636962, 3.030799312850415, 94.9634215611441, 6.341391656267929, 10.076316044558137, 14.006264091153666, 6.875175621614634, 16.391037417628667, 4.906212772690641, 26.25500805056071, 27.492765164404286, 10.170923986786804, 10.331071834339184, 36.91700529257608, 22.397158437642904, 23.46028475060298, 7.989284516183229, 9.878192177967502, 35.82575737797349, 31.645323765463946, 62.19823011969455, 6.559281484097037, 5.960604687538622, 4.169420594755039, 8.322085751946405, 3.572131607837301, 2.974558067122727, 2.976323385604685, 2.9765978517933185, 2.3783386507966418, 2.378401462715043, 2.378101711082447, 2.3783018492514167, 2.380124426455656, 2.3803662376179737, 1.7809665722537678, 1.78096604427811, 1.7809651995170577, 1.7809643586258623, 1.7809639367394876, 1.7809630995062704, 1.7809618559882718, 1.7809607915208172, 1.7809575304577345, 1.7809551017697083, 1.7808800389944057, 1.78095937092455, 1.780952855765407, 3.6127729850766177, 2.8486313009637048, 2.877994957929103, 4.082829964681658, 4.082830633712272, 4.082836021495182, 4.082842883284219, 4.214062090312397, 4.8255729879816345, 94.9634215611441, 27.492765164404286, 26.25500805056071, 5.094392532938468, 14.006264091153666, 16.743639255267176, 16.74363375442926, 16.743716851519956, 22.246500498180485, 22.397158437642904, 5.746422766104641, 41.36629543233276, 35.05823520794976, 13.298111528134973, 9.145809900443462, 2.897731936655779, 4.639483604874675, 4.553322140606076, 4.553307708425426, 4.553312148583454, 4.553274406788663, 4.553270307566263, 4.553260460953611, 2.3198569326062835, 2.319891101781749, 2.3198943244510004, 2.319895898090301, 2.3199281308328477, 2.319304901068199, 11.573418967670877, 7.038942951496194, 3.397592323226045, 1.7419054533223237, 1.7419012586972809, 1.7419092145186494, 1.741908568841536, 1.741907885400937, 1.7419117536173778, 1.7419685207588023, 1.741996096600511, 1.7419368642238575, 1.74193730394332, 1.7419383782630047, 13.546893532496915, 9.84310715673746, 5.791663338895323, 3.4673115741324305, 2.7898501702565954, 4.177131020870254, 8.405323937956663, 7.989284516183229, 4.7385526425504105, 6.506776606471644, 36.91700529257608, 94.9634215611441, 10.170923986786804, 35.05823520794976, 13.4593371337923, 4.2088472157213355, 7.823669813307296, 4.015300588320809, 7.516101120110314, 2.8722928520541275, 2.8724266719555964, 2.8724641158691147, 2.8724551163158214, 2.872459505536733, 2.872473814917637, 2.300797733258372, 2.300812335403159, 2.3009580220691106, 4.617437988831745, 1.729276583059113, 1.729276583059113, 1.7292763015106285, 1.7292756445641646, 1.729275456865175, 1.7292738754545474, 1.7292735911808392, 1.7292711724767087, 1.7292662058845718, 1.7292657366370978, 1.729250078293324, 1.7292477542900586, 1.7292344639480208, 1.7292586255489895, 1.7292580598913088, 1.729258323696974, 1.7292564103638837, 1.7292964373242339, 3.5094355155888115, 10.018152728371444, 11.238947690275408, 11.238942327113714, 5.336216595547061, 2.9029004367918714, 2.9029261454113517, 2.93703052882385, 2.937025156599062, 7.486874187849409, 9.495221818247998, 6.643191093999728, 3.555993485248135, 9.587922908067135, 10.21515352009704, 28.334919839415694, 4.192485118142775, 13.4593371337923, 36.91700529257608, 94.9634215611441, 10.170923986786804, 11.08993999237917, 6.588819992306622, 4.08693838088185, 2.58638371863846, 2.5962352515133653, 2.0863517475458844, 2.08653437507977, 2.086470579971468, 2.0864612844261257, 2.086828976600449, 2.0887010977179816, 4.183526479742124, 2.0979707464850446, 1.586259775176093, 1.5862532445877533, 1.5862466180561936, 1.586245645076383, 1.586201701548087, 1.5863170298583833, 1.5863383379962823, 1.5863296351478369, 1.5861728941151123, 1.5864429537363172, 1.5864610096609397, 1.5865077387118818, 1.586274027263367, 1.5864992444221042, 1.586382078970509, 1.586393071190324, 1.5863895703483692, 7.379342861645302, 3.526967228784996, 2.556495216210275, 2.556644535783841, 2.5565681353230065, 7.600189832160192, 3.8223800083194885, 23.46028475060298, 2.722492577845531, 2.7226285664401644, 7.078452528511087, 7.078537043150095, 3.0268855479927463, 5.261923729149282, 3.878343078335606, 3.895745410036942, 4.514550153696264, 10.331071834339184, 41.36629543233276, 8.593666240657262, 94.9634215611441, 7.767380942396756, 4.967352567237436, 10.076316044558137, 8.163564989796948, 4.514593595122295, 3.4081503699143263, 3.408175845317713, 2.46722168512375, 2.467236336015417, 2.4677530544516104, 2.46778685058678, 1.9970138264490949, 1.9970137884926822, 1.997014603752162, 1.9970151182621683, 1.9973093312117562, 1.9973792897196017, 1.9974106229826605, 1.5267835902063105, 1.5267830923397239, 1.526777350625631, 1.5267772261589843, 1.526776417125781, 1.52676983877473, 1.5267874264727173, 1.5267867199418999, 1.5267872177450967, 1.5267881289505683, 1.5267882067316434, 1.526808768651524, 1.5262905632480397, 1.526871607848441, 1.5269292025468928, 1.5269046698571773, 1.5383581293865776, 4.5862962662008915, 4.794915350095149, 2.599297454651145, 6.944298507096128, 6.032542565942108, 4.604253408111585, 3.1335405440058, 94.9634215611441, 3.8495863753561235, 6.982508477666358, 4.895720142994366, 23.46028475060298, 5.261923729149282, 41.36629543233276, 19.87964872370811, 35.05823520794976, 3.2252164054726644], \"Category\": [\"Default\", \"Default\", \"Default\", \"Default\", \"Default\", \"Default\", \"Default\", \"Default\", \"Default\", \"Default\", \"Default\", \"Default\", \"Default\", \"Default\", \"Default\", \"Default\", \"Default\", \"Default\", \"Default\", \"Default\", \"Default\", \"Default\", \"Default\", \"Default\", \"Default\", \"Default\", \"Default\", \"Default\", \"Default\", \"Default\", \"Topic1\", \"Topic1\", \"Topic1\", \"Topic1\", \"Topic1\", \"Topic1\", \"Topic1\", \"Topic1\", \"Topic1\", \"Topic1\", \"Topic1\", \"Topic1\", \"Topic1\", \"Topic1\", \"Topic1\", \"Topic1\", \"Topic1\", \"Topic1\", \"Topic1\", \"Topic1\", \"Topic1\", \"Topic1\", \"Topic1\", \"Topic1\", \"Topic1\", \"Topic1\", \"Topic1\", \"Topic1\", \"Topic1\", \"Topic1\", \"Topic1\", \"Topic1\", \"Topic1\", \"Topic1\", \"Topic1\", \"Topic1\", \"Topic1\", \"Topic1\", \"Topic1\", \"Topic1\", \"Topic1\", \"Topic1\", \"Topic1\", \"Topic1\", \"Topic1\", \"Topic1\", \"Topic1\", \"Topic1\", \"Topic1\", \"Topic1\", \"Topic1\", \"Topic1\", \"Topic1\", \"Topic1\", \"Topic1\", \"Topic1\", \"Topic1\", \"Topic2\", \"Topic2\", \"Topic2\", \"Topic2\", \"Topic2\", \"Topic2\", \"Topic2\", \"Topic2\", \"Topic2\", \"Topic2\", \"Topic2\", \"Topic2\", \"Topic2\", \"Topic2\", \"Topic2\", \"Topic2\", \"Topic2\", \"Topic2\", \"Topic2\", \"Topic2\", \"Topic2\", \"Topic2\", \"Topic2\", \"Topic2\", \"Topic2\", \"Topic2\", \"Topic2\", \"Topic2\", \"Topic2\", \"Topic2\", \"Topic2\", \"Topic2\", \"Topic2\", \"Topic2\", \"Topic2\", \"Topic2\", \"Topic2\", \"Topic2\", \"Topic2\", \"Topic2\", \"Topic2\", \"Topic2\", \"Topic2\", \"Topic2\", \"Topic2\", \"Topic2\", \"Topic2\", \"Topic2\", \"Topic2\", \"Topic2\", \"Topic2\", \"Topic2\", \"Topic2\", \"Topic2\", \"Topic3\", \"Topic3\", \"Topic3\", \"Topic3\", \"Topic3\", \"Topic3\", \"Topic3\", \"Topic3\", \"Topic3\", \"Topic3\", \"Topic3\", \"Topic3\", \"Topic3\", \"Topic3\", \"Topic3\", \"Topic3\", \"Topic3\", \"Topic3\", \"Topic3\", \"Topic3\", \"Topic3\", \"Topic3\", \"Topic3\", \"Topic3\", \"Topic3\", \"Topic3\", \"Topic3\", \"Topic3\", \"Topic3\", \"Topic3\", \"Topic3\", \"Topic3\", \"Topic3\", \"Topic3\", \"Topic3\", \"Topic3\", \"Topic3\", \"Topic3\", \"Topic3\", \"Topic3\", \"Topic3\", \"Topic3\", \"Topic3\", \"Topic3\", \"Topic3\", \"Topic3\", \"Topic3\", \"Topic3\", \"Topic3\", \"Topic3\", \"Topic3\", \"Topic3\", \"Topic3\", \"Topic3\", \"Topic3\", \"Topic3\", \"Topic4\", \"Topic4\", \"Topic4\", \"Topic4\", \"Topic4\", \"Topic4\", \"Topic4\", \"Topic4\", \"Topic4\", \"Topic4\", \"Topic4\", \"Topic4\", \"Topic4\", \"Topic4\", \"Topic4\", \"Topic4\", \"Topic4\", \"Topic4\", \"Topic4\", \"Topic4\", \"Topic4\", \"Topic4\", \"Topic4\", \"Topic4\", \"Topic4\", \"Topic4\", \"Topic4\", \"Topic4\", \"Topic4\", \"Topic4\", \"Topic4\", \"Topic4\", \"Topic4\", \"Topic4\", \"Topic4\", \"Topic4\", \"Topic4\", \"Topic4\", \"Topic4\", \"Topic4\", \"Topic4\", \"Topic4\", \"Topic4\", \"Topic4\", \"Topic4\", \"Topic4\", \"Topic4\", \"Topic4\", \"Topic4\", \"Topic4\", \"Topic4\", \"Topic4\", \"Topic5\", \"Topic5\", \"Topic5\", \"Topic5\", \"Topic5\", \"Topic5\", \"Topic5\", \"Topic5\", \"Topic5\", \"Topic5\", \"Topic5\", \"Topic5\", \"Topic5\", \"Topic5\", \"Topic5\", \"Topic5\", \"Topic5\", \"Topic5\", \"Topic5\", \"Topic5\", \"Topic5\", \"Topic5\", \"Topic5\", \"Topic5\", \"Topic5\", \"Topic5\", \"Topic5\", \"Topic5\", \"Topic5\", \"Topic5\", \"Topic5\", \"Topic5\", \"Topic5\", \"Topic5\", \"Topic5\", \"Topic5\", \"Topic5\", \"Topic5\", \"Topic5\", \"Topic5\", \"Topic5\", \"Topic5\", \"Topic5\", \"Topic5\", \"Topic5\", \"Topic5\", \"Topic5\", \"Topic5\", \"Topic5\", \"Topic5\", \"Topic5\", \"Topic5\", \"Topic5\", \"Topic6\", \"Topic6\", \"Topic6\", \"Topic6\", \"Topic6\", \"Topic6\", \"Topic6\", \"Topic6\", \"Topic6\", \"Topic6\", \"Topic6\", \"Topic6\", \"Topic6\", \"Topic6\", \"Topic6\", \"Topic6\", \"Topic6\", \"Topic6\", \"Topic6\", \"Topic6\", \"Topic6\", \"Topic6\", \"Topic6\", \"Topic6\", \"Topic6\", \"Topic6\", \"Topic6\", \"Topic6\", \"Topic6\", \"Topic6\", \"Topic6\", \"Topic6\", \"Topic6\", \"Topic6\", \"Topic6\", \"Topic6\", \"Topic6\", \"Topic6\", \"Topic6\", \"Topic6\", \"Topic6\", \"Topic6\", \"Topic6\", \"Topic6\", \"Topic6\", \"Topic6\", \"Topic6\", \"Topic6\", \"Topic6\", \"Topic6\", \"Topic6\", \"Topic6\", \"Topic7\", \"Topic7\", \"Topic7\", \"Topic7\", \"Topic7\", \"Topic7\", \"Topic7\", \"Topic7\", \"Topic7\", \"Topic7\", \"Topic7\", \"Topic7\", \"Topic7\", \"Topic7\", \"Topic7\", \"Topic7\", \"Topic7\", \"Topic7\", \"Topic7\", \"Topic7\", \"Topic7\", \"Topic7\", \"Topic7\", \"Topic7\", \"Topic7\", \"Topic7\", \"Topic7\", \"Topic7\", \"Topic7\", \"Topic7\", \"Topic7\", \"Topic7\", \"Topic7\", \"Topic7\", \"Topic7\", \"Topic7\", \"Topic7\", \"Topic7\", \"Topic7\", \"Topic7\", \"Topic7\", \"Topic7\", \"Topic7\", \"Topic7\", \"Topic7\", \"Topic7\", \"Topic7\", \"Topic8\", \"Topic8\", \"Topic8\", \"Topic8\", \"Topic8\", \"Topic8\", \"Topic8\", \"Topic8\", \"Topic8\", \"Topic8\", \"Topic8\", \"Topic8\", \"Topic8\", \"Topic8\", \"Topic8\", \"Topic8\", \"Topic8\", \"Topic8\", \"Topic8\", \"Topic8\", \"Topic8\", \"Topic8\", \"Topic8\", \"Topic8\", \"Topic8\", \"Topic8\", \"Topic8\", \"Topic8\", \"Topic8\", \"Topic8\", \"Topic8\", \"Topic8\", \"Topic8\", \"Topic8\", \"Topic8\", \"Topic8\", \"Topic8\", \"Topic8\", \"Topic8\", \"Topic8\", \"Topic8\", \"Topic8\", \"Topic8\", \"Topic8\", \"Topic8\", \"Topic8\", \"Topic8\", \"Topic8\", \"Topic8\", \"Topic8\", \"Topic8\", \"Topic9\", \"Topic9\", \"Topic9\", \"Topic9\", \"Topic9\", \"Topic9\", \"Topic9\", \"Topic9\", \"Topic9\", \"Topic9\", \"Topic9\", \"Topic9\", \"Topic9\", \"Topic9\", \"Topic9\", \"Topic9\", \"Topic9\", \"Topic9\", \"Topic9\", \"Topic9\", \"Topic9\", \"Topic9\", \"Topic9\", \"Topic9\", \"Topic9\", \"Topic9\", \"Topic9\", \"Topic9\", \"Topic9\", \"Topic9\", \"Topic9\", \"Topic9\", \"Topic9\", \"Topic9\", \"Topic9\", \"Topic9\", \"Topic9\", \"Topic9\", \"Topic9\", \"Topic9\", \"Topic9\", \"Topic9\", \"Topic9\", \"Topic9\", \"Topic9\", \"Topic9\", \"Topic9\", \"Topic9\", \"Topic9\", \"Topic9\", \"Topic9\", \"Topic9\", \"Topic9\", \"Topic9\", \"Topic9\", \"Topic9\", \"Topic10\", \"Topic10\", \"Topic10\", \"Topic10\", \"Topic10\", \"Topic10\", \"Topic10\", \"Topic10\", \"Topic10\", \"Topic10\", \"Topic10\", \"Topic10\", \"Topic10\", \"Topic10\", \"Topic10\", \"Topic10\", \"Topic10\", \"Topic10\", \"Topic10\", \"Topic10\", \"Topic10\", \"Topic10\", \"Topic10\", \"Topic10\", \"Topic10\", \"Topic10\", \"Topic10\", \"Topic10\", \"Topic10\", \"Topic10\", \"Topic10\", \"Topic10\", \"Topic10\", \"Topic10\", \"Topic10\", \"Topic10\", \"Topic10\", \"Topic10\", \"Topic10\", \"Topic10\", \"Topic10\", \"Topic10\", \"Topic10\", \"Topic10\", \"Topic10\", \"Topic10\", \"Topic10\"], \"logprob\": [30.0, 29.0, 28.0, 27.0, 26.0, 25.0, 24.0, 23.0, 22.0, 21.0, 20.0, 19.0, 18.0, 17.0, 16.0, 15.0, 14.0, 13.0, 12.0, 11.0, 10.0, 9.0, 8.0, 7.0, 6.0, 5.0, 4.0, 3.0, 2.0, 1.0, -6.7282, -6.7351, -6.7352, -6.7353, -6.7354, -6.7355, -6.7355, -6.7355, -6.7356, -6.7356, -6.7357, -7.0078, -7.0079, -7.0087, -7.0087, -7.0089, -7.0091, -7.0091, -7.0092, -7.0114, -7.012, -7.0172, -6.3317, -6.332, -6.5107, -6.1795, -7.3974, -7.3974, -7.3974, -7.3974, -5.4245, -6.3319, -6.0522, -6.7305, -5.3667, -5.3668, -5.3668, -5.2025, -6.5107, -6.1795, -6.7306, -6.1249, -5.5045, -6.5109, -6.0475, -5.8588, -5.4254, -6.5313, -6.0466, -6.5101, -6.3308, -6.5102, -6.5107, -6.6325, -6.6501, -6.6689, -6.7193, -5.9182, -6.3064, -6.4884, -6.7039, -6.7083, -6.7094, -6.7094, -6.7095, -6.7096, -6.9832, -6.9832, -6.9837, -6.9835, -6.9837, -6.9841, -7.0608, -7.3724, -7.3724, -7.3724, -7.3724, -7.3725, -7.3726, -7.3727, -7.3727, -7.3727, -7.3727, -7.3728, -7.3728, -7.3729, -7.373, -6.3426, -6.2342, -6.9831, -5.9699, -5.2451, -5.3053, -6.9833, -6.9845, -6.7457, -6.0153, -6.8021, -6.7026, -6.7032, -6.4921, -4.948, -6.567, -5.6524, -6.4854, -6.1905, -6.6881, -6.7035, -6.2007, -6.7036, -6.703, -6.1547, -6.1548, -6.1548, -6.1548, -6.1549, -6.1552, -6.3073, -5.428, -6.7041, -6.7048, -6.7052, -5.5174, -6.9833, -6.9834, -6.9835, -6.9836, -6.984, -7.3726, -7.3727, -7.3727, -7.3727, -7.3729, -7.3729, -7.3729, -7.3731, -7.3731, -7.3731, -7.3731, -7.3732, -7.3733, -6.705, -6.7034, -5.2383, -5.622, -6.9834, -6.9838, -6.9839, -6.1558, -5.4231, -6.9832, -6.158, -6.1586, -6.159, -6.1594, -6.3071, -6.3072, -6.1585, -6.3067, -5.7291, -6.487, -5.5647, -6.4865, -6.7032, -6.7035, -6.7037, -6.7037, -4.684, -5.6899, -5.69, -5.8806, -6.128, -6.1281, -6.1369, -6.2809, -6.4583, -6.4594, -4.4518, -6.6765, -6.6765, -6.6765, -6.6772, -6.6774, -6.6774, -6.6775, -6.6778, -6.678, -6.6781, -6.5141, -6.1299, -6.1304, -6.1307, -6.1311, -6.9561, -6.9565, -6.9566, -6.9568, -5.8812, -5.9974, -4.472, -5.7761, -5.3462, -5.3464, -6.1272, -6.1281, -4.9532, -6.4589, -6.4594, -5.997, -5.4603, -6.2809, -6.128, -6.128, -6.128, -6.128, -6.128, -5.6804, -5.9932, -6.1285, -5.3888, -5.3888, -5.3888, -5.6279, -6.0746, -6.4054, -6.4079, -6.4085, -6.624, -6.6256, -6.6262, -6.6265, -6.636, -6.9032, -6.9037, -6.9038, -6.9044, -6.9046, -6.908, -6.9098, -6.6238, -7.2927, -7.2927, -7.2927, -7.2927, -7.2927, -7.2927, -7.2927, -7.2927, -7.2927, -6.4249, -6.4252, -6.0917, -6.2263, -6.6245, -6.2301, -6.9034, -4.4052, -6.4054, -6.0906, -6.0798, -6.4626, -6.1002, -6.6237, -6.0392, -6.0404, -6.4039, -6.5095, -6.4512, -6.498, -6.5193, -6.6167, -6.6238, -3.9407, -4.0668, -3.4095, -5.7069, -5.8126, -6.2161, -5.5337, -6.3943, -6.6109, -6.6133, -6.6165, -6.8873, -6.8878, -6.8879, -6.8879, -6.9035, -6.9135, -7.2769, -7.2769, -7.2769, -7.2769, -7.2769, -7.2769, -7.2769, -7.2769, -7.2769, -7.2769, -7.2769, -7.277, -7.277, -6.6078, -6.889, -6.8876, -6.6086, -6.6087, -6.6087, -6.6087, -6.6077, -6.6118, -4.6651, -5.4841, -5.568, -6.6079, -6.0641, -6.0585, -6.0586, -6.0586, -6.0586, -6.1393, -6.6729, -6.3732, -6.6053, -4.8603, -5.3092, -6.5392, -6.0933, -6.1407, -6.1408, -6.1408, -6.1408, -6.1409, -6.1409, -6.8188, -6.819, -6.819, -6.819, -6.8192, -6.8381, -5.2667, -5.7926, -6.538, -7.2079, -7.2079, -7.2079, -7.2079, -7.2079, -7.2079, -7.2084, -7.2085, -7.2085, -7.2085, -7.2085, -5.2168, -5.5441, -6.1408, -6.6001, -6.8182, -6.5392, -6.1426, -6.1815, -6.5431, -6.5623, -5.7418, -5.5433, -6.542, -6.8172, -6.8182, -6.8183, -6.8186, -6.1367, -5.5382, -6.534, -6.5351, -6.5351, -6.5352, -6.5353, -6.5353, -6.8138, -6.8139, -6.8152, -6.1367, -7.2032, -7.2032, -7.2032, -7.2032, -7.2032, -7.2032, -7.2032, -7.2032, -7.2032, -7.2032, -7.2032, -7.2032, -7.2032, -7.2032, -7.2032, -7.2032, -7.2033, -7.2035, -6.5345, -5.6324, -5.6324, -5.6324, -6.3153, -6.8137, -6.8141, -6.8139, -6.8146, -6.1369, -5.9854, -6.3166, -6.8126, -6.3161, -6.316, -5.8995, -6.8139, -6.3147, -6.2701, -6.1376, -6.8136, -4.7355, -5.292, -5.8238, -6.3724, -6.3915, -6.652, -6.6524, -6.6528, -6.6529, -6.6534, -6.658, -5.9757, -6.6901, -7.0412, -7.0412, -7.0412, -7.0412, -7.0412, -7.0415, -7.0415, -7.0416, -7.0418, -7.0419, -7.042, -7.042, -7.0422, -7.0421, -7.0422, -7.0422, -7.0422, -5.6923, -6.3733, -6.6528, -6.6528, -6.6532, -5.8238, -6.376, -5.0332, -6.653, -6.6536, -5.9823, -5.9824, -6.6527, -6.3732, -6.6528, -6.6535, -6.6528, -6.3724, -6.1018, -6.4829, -6.1545, -6.5162, -6.6521, -6.6521, -6.6521, -6.6528, -5.9216, -5.9216, -6.3183, -6.3183, -6.3191, -6.3191, -6.5979, -6.5979, -6.5979, -6.5979, -6.5985, -6.5987, -6.5987, -6.9874, -6.9874, -6.9874, -6.9874, -6.9874, -6.9874, -6.9874, -6.9874, -6.9874, -6.9874, -6.9874, -6.9875, -6.9881, -6.9877, -6.988, -6.988, -7.0236, -6.1006, -6.1067, -6.5983, -5.9259, -6.1287, -6.3189, -6.5987, -5.1564, -6.5987, -6.4652, -6.5979, -6.1001, -6.5983, -6.23, -6.8333, -6.9821, -6.9866], \"loglift\": [30.0, 29.0, 28.0, 27.0, 26.0, 25.0, 24.0, 23.0, 22.0, 21.0, 20.0, 19.0, 18.0, 17.0, 16.0, 15.0, 14.0, 13.0, 12.0, 11.0, 10.0, 9.0, 8.0, 7.0, 6.0, 5.0, 4.0, 3.0, 2.0, 1.0, 1.9021, 1.8955, 1.8954, 1.8954, 1.8952, 1.8952, 1.8952, 1.8952, 1.8951, 1.8951, 1.895, 1.8502, 1.8501, 1.8495, 1.8494, 1.8491, 1.849, 1.8489, 1.8488, 1.8469, 1.8464, 1.8409, 1.8362, 1.8359, 1.7885, 1.7633, 1.7559, 1.7559, 1.7559, 1.7559, 1.7264, 1.7227, 1.6954, 1.7164, 1.5964, 1.5964, 1.5963, 1.4764, 1.6612, 1.4592, 1.7163, 1.0998, 0.5542, 1.3831, 0.937, 0.5782, -0.1977, 1.4015, 0.1259, 1.2076, 0.2951, 0.9858, 0.9802, 1.4071, 1.2836, 1.2929, 0.712, 2.0216, 1.9906, 1.9652, 1.9343, 1.9306, 1.9299, 1.9299, 1.9298, 1.9298, 1.8822, 1.8822, 1.8819, 1.8818, 1.8817, 1.8814, 1.8042, 1.7876, 1.7875, 1.7875, 1.7875, 1.7874, 1.7873, 1.7872, 1.7872, 1.7872, 1.7872, 1.7872, 1.7871, 1.787, 1.787, 1.6992, 1.6036, 1.7, 1.4614, 1.2221, 1.208, 1.6553, 1.6543, 1.566, 1.2093, 1.541, 1.4942, 1.476, 1.361, 0.2797, 1.3667, 0.4063, 1.0353, 0.2466, 1.2447, 1.2705, -0.0283, 1.1208, 0.768, 2.0085, 2.0085, 2.0085, 2.0084, 2.0084, 2.008, 1.991, 1.9432, 1.9352, 1.9345, 1.9342, 1.9167, 1.8831, 1.883, 1.8829, 1.8829, 1.8825, 1.7883, 1.7883, 1.7883, 1.7882, 1.788, 1.788, 1.7879, 1.7878, 1.7878, 1.7878, 1.7878, 1.7877, 1.7877, 1.7863, 1.7614, 1.5531, 1.5595, 1.7105, 1.7101, 1.71, 1.4743, 1.2492, 1.6751, 1.3789, 1.3783, 1.3781, 1.3777, 1.4169, 1.4168, 1.3171, 1.1713, 0.3296, 1.2238, -0.337, 1.0439, -0.0774, 1.1206, 1.1204, 0.7536, 2.1307, 2.0772, 2.0771, 2.0701, 2.0475, 2.0473, 2.0386, 2.0294, 2.0076, 2.0066, 1.99, 1.974, 1.974, 1.974, 1.9733, 1.9731, 1.9731, 1.973, 1.9727, 1.9726, 1.9725, 1.9555, 1.9242, 1.9237, 1.9235, 1.9231, 1.9208, 1.9204, 1.9204, 1.9202, 1.8929, 1.8648, 1.7521, 1.8403, 1.6538, 1.6536, 1.829, 1.8198, 1.2193, 1.8478, 1.8473, 1.499, 0.9768, 1.618, 1.4091, 1.409, 1.409, 1.4089, 1.3476, 0.3783, 0.7982, 0.5437, 2.1928, 2.1928, 2.1928, 2.1773, 2.1371, 2.0952, 2.0926, 2.0922, 2.0598, 2.0583, 2.0576, 2.0574, 2.0484, 2.0052, 2.0045, 2.0044, 2.004, 2.0037, 2.0004, 1.9987, 1.9143, 1.9056, 1.9056, 1.9056, 1.9056, 1.9056, 1.9056, 1.9056, 1.9056, 1.9056, 1.6844, 1.6841, 1.5898, 1.617, 1.7052, 1.567, 1.7689, 0.8224, 1.5287, 1.3804, 1.0618, 1.3907, 0.8843, 1.567, 0.4741, 0.4268, 1.0578, 0.9365, -0.2787, 0.1743, 0.1065, 1.0863, 0.867, 2.2618, 2.2598, 2.2413, 2.1933, 2.1834, 2.1373, 2.1285, 2.1137, 2.0802, 2.0771, 2.0738, 2.0274, 2.0269, 2.0269, 2.0269, 2.0105, 2.0004, 1.9271, 1.9271, 1.9271, 1.9271, 1.9271, 1.9271, 1.9271, 1.9271, 1.9271, 1.9271, 1.9271, 1.927, 1.927, 1.8888, 1.8453, 1.8364, 1.7657, 1.7657, 1.7656, 1.7656, 1.735, 1.5955, 0.5626, 0.9832, 0.9453, 1.5451, 1.0776, 0.9046, 0.9046, 0.9045, 0.6204, 0.5329, 1.3597, -0.3145, -0.3811, 2.3332, 2.2587, 2.178, 2.1533, 2.1246, 2.1245, 2.1245, 2.1245, 2.1244, 2.1244, 2.1208, 2.1206, 2.1206, 2.1206, 2.1204, 2.1018, 2.0658, 2.0371, 2.0201, 2.0183, 2.0183, 2.0183, 2.0183, 2.0183, 2.0182, 2.0177, 2.0177, 2.0177, 2.0177, 2.0176, 1.9582, 1.9503, 1.884, 1.9376, 1.937, 1.8123, 1.5097, 1.5216, 1.6823, 1.346, 0.4307, -0.3157, 0.9196, -0.593, 0.3633, 1.5257, 0.9054, 2.2543, 2.2259, 2.192, 2.1909, 2.1908, 2.1908, 2.1907, 2.1907, 2.1341, 2.134, 2.1326, 2.1146, 2.0303, 2.0303, 2.0303, 2.0303, 2.0303, 2.0303, 2.0303, 2.0303, 2.0303, 2.0303, 2.0303, 2.0303, 2.0303, 2.0302, 2.0302, 2.0302, 2.0302, 2.0299, 1.9912, 1.8443, 1.7293, 1.7293, 1.7913, 1.9017, 1.9013, 1.8899, 1.8892, 1.6311, 1.5449, 1.571, 1.7, 1.2046, 1.1413, 0.5376, 1.5339, 0.8667, -0.0976, -0.9099, 0.648, 2.6396, 2.6038, 2.5495, 2.4585, 2.4356, 2.3938, 2.3932, 2.3928, 2.3928, 2.3921, 2.3866, 2.3743, 2.3501, 2.2786, 2.2786, 2.2786, 2.2786, 2.2786, 2.2782, 2.2782, 2.2782, 2.2781, 2.2777, 2.2776, 2.2776, 2.2776, 2.2775, 2.2775, 2.2775, 2.2775, 2.0901, 2.1475, 2.1897, 2.1897, 2.1893, 1.9292, 2.0643, 1.5926, 2.1266, 2.1259, 1.8418, 1.8417, 2.0209, 1.7475, 1.7729, 1.7677, 1.6211, 1.0736, -0.0431, 1.1472, -0.9268, 1.215, 1.5262, 0.8189, 1.0294, 1.621, 2.6334, 2.6334, 2.5598, 2.5598, 2.5588, 2.5587, 2.4916, 2.4916, 2.4916, 2.4916, 2.4908, 2.4907, 2.4906, 2.3706, 2.3706, 2.3706, 2.3706, 2.3706, 2.3706, 2.3706, 2.3705, 2.3705, 2.3705, 2.3705, 2.3705, 2.3702, 2.3702, 2.3699, 2.3699, 2.3269, 2.1575, 2.1069, 2.2276, 1.9173, 1.8553, 1.9353, 2.0403, 0.0712, 1.8345, 1.3725, 1.5948, 0.5258, 1.5223, -0.1713, -0.0418, -0.758, 1.6236]}, \"token.table\": {\"Topic\": [9, 10, 4, 3, 5, 9, 10, 2, 1, 5, 6, 3, 10, 5, 3, 4, 6, 9, 5, 1, 8, 9, 4, 2, 1, 2, 2, 6, 3, 6, 10, 7, 1, 3, 4, 10, 2, 2, 6, 9, 2, 1, 1, 2, 3, 4, 5, 6, 7, 8, 9, 10, 7, 6, 3, 6, 3, 6, 6, 6, 6, 8, 10, 6, 3, 5, 6, 6, 6, 7, 4, 1, 3, 6, 8, 3, 4, 9, 1, 4, 5, 9, 1, 3, 5, 7, 8, 4, 10, 4, 5, 3, 2, 3, 4, 3, 4, 8, 1, 4, 2, 3, 7, 2, 6, 10, 2, 3, 5, 8, 2, 5, 9, 10, 1, 1, 3, 10, 2, 3, 7, 8, 10, 4, 1, 1, 3, 7, 1, 5, 7, 3, 5, 2, 4, 5, 6, 7, 9, 10, 1, 2, 6, 8, 10, 1, 2, 6, 8, 10, 7, 1, 2, 7, 9, 2, 6, 9, 9, 10, 9, 10, 1, 2, 5, 7, 10, 2, 3, 5, 8, 9, 2, 8, 7, 9, 4, 10, 3, 4, 8, 10, 2, 6, 10, 2, 8, 5, 5, 2, 4, 5, 6, 9, 4, 5, 6, 9, 1, 2, 6, 9, 2, 3, 5, 7, 8, 1, 3, 7, 8, 10, 1, 2, 3, 4, 5, 6, 7, 8, 10, 2, 4, 8, 3, 4, 5, 7, 2, 3, 5, 10, 2, 3, 7, 10, 9, 9, 3, 4, 8, 9, 10, 8, 1, 2, 3, 4, 5, 6, 8, 9, 10, 9, 1, 2, 6, 8, 1, 2, 2, 6, 10, 5, 10, 9, 5, 6, 8, 10, 6, 4, 5, 6, 9, 10, 9, 9, 3, 3, 6, 10, 10, 8, 7, 9, 8, 5, 2, 4, 5, 6, 9, 1, 3, 5, 7, 8, 6, 9, 5, 3, 2, 3, 9, 8, 6, 8, 10, 1, 2, 1, 4, 9, 1, 6, 4, 6, 9, 10, 6, 10, 2, 3, 4, 5, 6, 7, 8, 9, 9, 4, 4, 3, 9, 1, 8, 10, 10, 6, 4, 4, 2, 10, 10, 8, 4, 1, 2, 10, 5, 5, 10, 5, 3, 2, 6, 10, 10, 2, 7, 9, 10, 9, 5, 6, 2, 3, 9, 10, 7, 10, 1, 3, 10, 4, 8, 9, 10, 2, 5, 10, 6, 6, 8, 3, 7, 8, 9, 1, 2, 3, 4, 5, 7, 8, 9, 9, 1, 2, 3, 7, 10, 5, 8, 7, 10, 3, 7, 8, 9, 7, 8, 6, 3, 6, 7, 2, 6, 1, 5, 3, 8, 9, 1, 2, 3, 9, 10, 1, 2, 3, 4, 5, 6, 7, 8, 1, 4, 5, 6, 7, 9, 10, 2, 3, 5, 7, 9, 1, 3, 4, 7, 8, 1, 2, 8, 4, 1, 2, 8, 4, 2, 6, 2, 1, 2, 3, 6, 9, 1, 3, 7, 7, 5, 2, 6, 7, 2, 4, 8, 1, 4, 9, 3, 6, 9, 8, 8, 2, 9, 4, 2, 3, 1, 4, 9, 10, 3, 9, 10, 4, 4, 4, 4, 4, 5, 2, 5, 7, 9, 10, 3, 5, 7, 8, 9, 8, 4, 8, 3, 5, 9, 10, 1, 2, 5, 6, 5, 1, 3, 2, 3, 7, 8, 9, 7, 9, 4, 4, 8, 3, 8, 5, 5, 1, 4, 5, 1, 2, 3, 4, 5, 6, 8, 2, 3, 4, 5, 6, 7, 8, 9, 4, 10, 1, 4, 7, 3, 4, 3, 1, 2, 3, 4, 5, 6, 8, 9, 10, 1, 1, 1, 1, 1, 10, 1, 1, 1, 7, 9, 2, 3, 1, 2, 9, 1, 2, 4, 6, 1, 2, 9, 5, 7, 8, 9, 10, 3, 5, 7, 2, 1, 2, 6, 8, 10, 1, 5, 6, 9, 8, 8, 5, 10, 5, 9, 10, 1, 2, 3, 4, 5, 5, 3, 5, 8, 1, 3, 5, 7, 8, 7, 7, 5, 3, 9, 10, 10, 1, 2, 9, 10, 1, 2, 8, 10, 3, 7, 3, 9, 1, 4, 5, 2, 1, 5, 8, 8, 10, 5, 7, 9, 8, 3, 5, 6, 1, 6, 9, 9, 3, 6, 3, 1, 4, 5, 6, 7, 7, 8, 9, 10, 10, 2, 7, 10, 1, 1, 5, 6, 10, 3, 4, 6, 7, 8, 9, 10, 7, 10, 7, 3, 7, 9, 3, 4, 2, 6, 6, 6, 6, 9, 2, 8, 6, 7, 9, 2, 10, 8, 1, 3, 7, 8, 10, 3, 8, 3, 8, 2, 3, 2, 1, 2, 3, 9, 9, 1, 6, 8, 1, 4, 3, 10, 2, 5, 6, 7, 9, 10, 8, 4, 3, 4, 1, 1, 3, 7, 8, 3, 2, 6, 10, 2, 1, 6, 9, 7, 7, 7, 1, 3, 4, 7, 8, 6, 1, 4, 1, 5, 8, 3, 7, 9, 10, 3, 9, 5, 3, 7, 3, 9, 10, 9, 1, 4, 5, 9, 10, 4, 7, 9, 10, 1, 8, 1, 9, 3, 2, 4, 9, 10, 1, 2, 3, 9, 3, 6, 7, 1, 2, 3, 4, 6, 8, 2, 3, 4, 5, 6, 6, 1, 2, 5, 8, 5, 8, 2, 4, 6, 7, 10, 8, 3, 5, 7, 9, 10, 3, 9, 10, 2, 7, 10, 7, 9, 3, 10, 10, 3, 2, 4, 5, 6, 9, 8, 8, 5, 1, 2, 3, 6, 7, 8, 10, 8, 2, 5, 3, 3, 10, 3, 1, 4], \"Freq\": [0.660745168024699, 0.3303725840123495, 0.9684107129886537, 0.14401241873894904, 0.5760496749557962, 0.14401241873894904, 0.14401241873894904, 0.9576970840102735, 0.7948218945504691, 0.5582870769308083, 0.5614943389369172, 0.9915867815682048, 0.6549716714369929, 0.8355883865372251, 0.4985113627459625, 0.39880909019677, 0.0997022725491925, 0.6304368473593421, 0.8335612547092863, 0.7969598897722489, 0.1992399724430622, 0.6304137668049917, 0.8097359075925369, 0.9577191551523111, 0.5257701553250168, 0.3505134368833445, 0.537290751773513, 0.8388410676609902, 0.8083232199230602, 0.08981369110256224, 0.08981369110256224, 0.5740829443562898, 0.10060539941104875, 0.5533296967607682, 0.25151349852762184, 0.050302699705524374, 0.95770060974892, 0.2616171070964895, 0.2616171070964895, 0.523234214192979, 0.795373775138452, 0.794690105886551, 0.10530370363246969, 0.15795555544870452, 0.08424296290597574, 0.04212148145298787, 0.24219851835468026, 0.17901629617519846, 0.06318222217948181, 0.03159111108974091, 0.03159111108974091, 0.06318222217948181, 0.5740631866093651, 0.9593659140629365, 0.03215525580311837, 0.9646576740935511, 0.5378170357286733, 0.6723687871841039, 0.840206842288855, 0.8409009291967546, 0.8411352885137972, 0.1201621840733996, 0.6551832423519273, 0.8402922039577084, 0.23730072755664308, 0.23730072755664308, 0.47460145511328616, 0.9796076105826347, 0.56149646838728, 0.6901949675538879, 0.9188593458314257, 0.7206061149480839, 0.07206061149480839, 0.14412122298961677, 0.07206061149480839, 0.5300311408551941, 0.42402491268415526, 0.6304193824606823, 0.2289004906207519, 0.6867014718622557, 0.5582871431709351, 0.6304163622120043, 0.08897630165725019, 0.17795260331450038, 0.17795260331450038, 0.08897630165725019, 0.5338578099435012, 0.8097371537995999, 0.6549197338518438, 0.802982992858238, 0.6679085115229565, 0.991591513012849, 0.5372819375636215, 0.42409210829694793, 0.42409210829694793, 0.23852201542053153, 0.23852201542053153, 0.47704403084106306, 0.17781839618646877, 0.7112735847458751, 0.5372851603448894, 0.5377894077088144, 0.5740731201968019, 0.24492815244584176, 0.4898563048916835, 0.24492815244584176, 0.126142191221323, 0.37842657366396903, 0.252284382442646, 0.252284382442646, 0.329945963680293, 0.659891927360586, 0.7822753503692762, 0.3911376751846381, 0.7945975860347502, 0.533751683398475, 0.5378429538105837, 0.5007476597085496, 0.31289362970115714, 0.20859575313410478, 0.10429787656705239, 0.31289362970115714, 0.10429787656705239, 0.9783078279897648, 0.7946026423189188, 0.23939876317110642, 0.23939876317110642, 0.47879752634221284, 0.23759474952302692, 0.23759474952302692, 0.47518949904605384, 0.801290143678531, 0.558285770914163, 0.09679537767573407, 0.19359075535146814, 0.2903861330272022, 0.09679537767573407, 0.09679537767573407, 0.19359075535146814, 0.09679537767573407, 0.5972419217157482, 0.05972419217157482, 0.23889676868629928, 0.05972419217157482, 0.05972419217157482, 0.5972417255020722, 0.059724172550207226, 0.2388966902008289, 0.059724172550207226, 0.059724172550207226, 0.574083169598735, 0.949443518369977, 0.8004569044490476, 0.878479465427758, 0.2196198663569395, 0.8004221807135025, 0.23903278844828557, 0.7170983653448567, 0.7823210414470407, 0.39116052072352037, 0.7822987278793226, 0.3911493639396613, 0.17564191049545658, 0.7025676419818263, 0.835596393961566, 0.716884376559925, 0.3584421882799625, 0.8005405229871254, 0.2566902851052881, 0.2566902851052881, 0.2566902851052881, 0.5133805702105761, 0.5373070329466724, 0.8692582046894974, 0.9775824163074393, 0.6303409761093812, 0.9684115261511341, 0.5006481834499991, 0.3159483851377305, 0.10531612837924349, 0.42126451351697397, 0.10531612837924349, 0.24492811231083572, 0.48985622462167144, 0.24492811231083572, 0.537281680760804, 0.5782783035513008, 0.8326957698008264, 0.8354975012702208, 0.12249550303694869, 0.12249550303694869, 0.48998201214779474, 0.12249550303694869, 0.24499100607389737, 0.1878875485575274, 0.5636626456725822, 0.1878875485575274, 0.1878875485575274, 0.20507643534818962, 0.6152293060445689, 0.20507643534818962, 0.20507643534818962, 0.09831948417853822, 0.19663896835707645, 0.29495845253561465, 0.19663896835707645, 0.19663896835707645, 0.12781725505581767, 0.5112690202232707, 0.25563451011163535, 0.12781725505581767, 0.12781725505581767, 0.028523968593069438, 0.057047937186138875, 0.028523968593069438, 0.656051277640597, 0.028523968593069438, 0.057047937186138875, 0.057047937186138875, 0.028523968593069438, 0.028523968593069438, 0.18739869008212204, 0.18739869008212204, 0.5621960702463661, 0.11897221420392994, 0.35691664261178985, 0.11897221420392994, 0.47588885681571974, 0.20382320260676035, 0.20382320260676035, 0.4076464052135207, 0.6549700257292952, 0.4923373203850598, 0.32822488025670654, 0.16411244012835327, 0.16411244012835327, 0.6303186109390544, 0.9585272228853352, 0.13157566088264025, 0.13157566088264025, 0.13157566088264025, 0.526302643530561, 0.13157566088264025, 0.5782832401295376, 0.17050091431209893, 0.04262522857802473, 0.1278756857340742, 0.04262522857802473, 0.1278756857340742, 0.04262522857802473, 0.04262522857802473, 0.34100182862419787, 0.08525045715604947, 0.9787277485541412, 0.20722927670777277, 0.20722927670777277, 0.41445855341554555, 0.20722927670777277, 0.7900605689696346, 0.2633535229898782, 0.24492778909934973, 0.48985557819869946, 0.24492778909934973, 0.5770176359296515, 0.28850881796482575, 0.47665106945623875, 0.26713418040947423, 0.13356709020473712, 0.40070127061421135, 0.13356709020473712, 0.9147343370683186, 0.17402130694221016, 0.17402130694221016, 0.3480426138844203, 0.17402130694221016, 0.17402130694221016, 0.9585565304387611, 0.6303910133835441, 0.5377888367561813, 0.860846278440361, 0.09564958649337343, 0.09564958649337343, 0.8802428515134483, 0.7471420716859941, 0.8784886748833403, 0.21962216872083506, 0.5782801213332889, 0.558285772414493, 0.9067780580147228, 0.18788556711065055, 0.5636567013319517, 0.18788556711065055, 0.18788556711065055, 0.09789378084554723, 0.2936813425366417, 0.09789378084554723, 0.19578756169109446, 0.2936813425366417, 0.6949282501311694, 0.3474641250655847, 0.8355376193445692, 0.5378054549158767, 0.5372875591059564, 0.3673104595904386, 0.7346209191808772, 0.6963078289770122, 0.8398346783802598, 0.5782853576545423, 0.500747464801266, 0.7900712559299862, 0.2633570853099954, 0.3052765455341948, 0.5087942425569913, 0.10175884851139828, 0.6815896371437387, 0.22719654571457953, 0.968530887117544, 0.5156841361384412, 0.5156841361384412, 0.6549744015476096, 0.7020915621208652, 0.3510457810604326, 0.40010526166505916, 0.03637320560591447, 0.03637320560591447, 0.14549282242365788, 0.29098564484731576, 0.03637320560591447, 0.03637320560591447, 0.03637320560591447, 0.958611126984001, 0.8082151242415402, 0.8052581091800312, 0.5377962422184378, 0.7732804632148135, 0.13304770439082692, 0.7982862263449615, 0.8104427655591278, 0.654970115270479, 0.6719080304365116, 0.968475028849728, 0.8097830845080941, 0.5372949850765288, 0.8106235996953567, 0.5007476692260527, 0.5782698549632791, 0.9620313060643726, 0.23739017005420052, 0.47478034010840103, 0.23739017005420052, 0.5582939184885972, 0.38471933953177023, 0.38471933953177023, 0.6675395453418475, 0.5378068775438231, 0.5728600277098196, 0.1432150069274549, 0.2864300138549098, 0.6549718850157993, 0.13551342155377769, 0.13551342155377769, 0.5420536862151107, 0.13551342155377769, 0.6303152361626175, 0.8355648466657267, 0.5614957026757309, 0.5372906036662944, 0.21719047831690605, 0.4343809566338121, 0.4343809566338121, 0.862122129985432, 0.6549339151109954, 0.5337505521941215, 0.6742905708017426, 0.3371452854008713, 0.3100567138078436, 0.3100567138078436, 0.3100567138078436, 0.3100567138078436, 0.9515868080749711, 0.9703987039912834, 0.6549092114631225, 0.5614932848048737, 0.5614928520160407, 0.5782824993470997, 0.08640489061991054, 0.6912391249592843, 0.08640489061991054, 0.08640489061991054, 0.21175284892296095, 0.14116856594864063, 0.03529214148716016, 0.3176292733844414, 0.03529214148716016, 0.07058428297432032, 0.14116856594864063, 0.03529214148716016, 0.9583919058178414, 0.5868198299896696, 0.11736396599793392, 0.11736396599793392, 0.11736396599793392, 0.11736396599793392, 0.34448305127031703, 0.6889661025406341, 0.8747175031062143, 0.10933968788827679, 0.10159393615008193, 0.6095636169004915, 0.10159393615008193, 0.10159393615008193, 0.5768157713084748, 0.2884078856542374, 0.561493946885944, 0.14206678572205794, 0.14206678572205794, 0.7103339286102898, 0.27679569243091884, 0.5535913848618377, 0.5337538386990097, 0.6675467558970807, 0.991575748553376, 0.5782768708305135, 0.9575328907449264, 0.38787504011426166, 0.38787504011426166, 0.07757500802285233, 0.07757500802285233, 0.07757500802285233, 0.13543893824468714, 0.10835115059574972, 0.02708778764893743, 0.379229027085124, 0.08126336294681229, 0.02708778764893743, 0.13543893824468714, 0.08126336294681229, 0.30504475541142184, 0.1830268532468531, 0.24403580432913746, 0.061008951082284366, 0.061008951082284366, 0.061008951082284366, 0.061008951082284366, 0.15368592783797116, 0.15368592783797116, 0.15368592783797116, 0.30737185567594233, 0.15368592783797116, 0.12393227115490542, 0.06196613557745271, 0.6196613557745271, 0.12393227115490542, 0.06196613557745271, 0.15053006692871163, 0.30106013385742325, 0.4515902007861349, 0.9341224459048723, 0.23005214747765473, 0.6901564424329641, 0.23005214747765473, 0.9684190043565993, 0.8004603445882795, 0.5614930184732052, 0.9572537245201044, 0.9494626156782694, 0.9565992486378015, 0.2215060118849838, 0.4430120237699676, 0.4430120237699676, 0.949465744789474, 0.8012691506695307, 0.8620956715939324, 0.8621094319746032, 0.6674966711771049, 0.5373101621463507, 0.5615201350477607, 0.5740827315597702, 0.6044841694372848, 0.2014947231457616, 0.2014947231457616, 0.1778225257271149, 0.7112901029084596, 0.630333802035085, 0.22150388045569164, 0.4430077609113833, 0.4430077609113833, 0.5782765883777156, 0.5782764942268441, 0.66701059857512, 0.33350529928756, 0.8097336302892347, 0.6379738900810686, 0.3189869450405343, 0.2042600415857044, 0.2042600415857044, 0.2042600415857044, 0.2042600415857044, 0.5377886839658187, 0.9106334680573832, 0.6549608703670199, 0.9684675609392165, 0.8030461705242914, 0.9685362750687018, 0.9684635659921977, 0.7338216190777932, 0.14676432381555862, 0.14400302622045066, 0.14400302622045066, 0.14400302622045066, 0.14400302622045066, 0.43200907866135196, 0.22145298424346962, 0.07381766141448988, 0.6643589527304089, 0.07381766141448988, 0.6303860041717028, 0.6962663132851235, 0.8052297339284897, 0.5782861348347098, 0.1576940921180266, 0.4730822763540798, 0.1576940921180266, 0.1576940921180266, 0.13751863077827198, 0.13751863077827198, 0.5500745231130879, 0.27503726155654395, 0.8868620282677305, 0.7945939788962747, 0.5377886211128681, 0.4239396863932419, 0.1413132287977473, 0.2826264575954946, 0.1413132287977473, 0.1413132287977473, 0.5886521423797489, 0.29432607118987447, 0.968490463089057, 0.2812153633431701, 0.5624307266863402, 0.34048057019639333, 0.6809611403927867, 0.6675414463312415, 0.8336581135112674, 0.94945330485964, 0.8062856961492079, 0.1343809493582013, 0.0713966260733009, 0.0713966260733009, 0.0713966260733009, 0.0713966260733009, 0.2855865042932036, 0.2855865042932036, 0.0713966260733009, 0.41896768718625776, 0.03808797156238707, 0.03808797156238707, 0.1523518862495483, 0.2666158009367095, 0.03808797156238707, 0.03808797156238707, 0.03808797156238707, 0.934120655652112, 0.5006735733784939, 0.16122884734183296, 0.6449153893673318, 0.16122884734183296, 0.9576724048659372, 0.8029749175390438, 0.9080045914459113, 0.21756843115725108, 0.16921989090008416, 0.16921989090008416, 0.16921989090008416, 0.0483485402571669, 0.07252281038575036, 0.02417427012858345, 0.07252281038575036, 0.0483485402571669, 0.9494500931447216, 0.9494502499041936, 0.9494883945250825, 0.7947486024100746, 0.9494292508783292, 0.8104538646572335, 0.9494004273673272, 0.9494366132453287, 0.7946550238711592, 0.8784813932083284, 0.2196203483020821, 0.6381638062813936, 0.3190819031406968, 0.47249569456400464, 0.47249569456400464, 0.7703462152877651, 0.145431137924498, 0.43629341377349395, 0.145431137924498, 0.145431137924498, 0.486402030158869, 0.32426802010591266, 0.16213401005295633, 0.25033530799269527, 0.37550296198904287, 0.12516765399634763, 0.12516765399634763, 0.12516765399634763, 0.21103490357379978, 0.21103490357379978, 0.42206980714759956, 0.5373491469933505, 0.5972389576745752, 0.05972389576745753, 0.2388955830698301, 0.05972389576745753, 0.05972389576745753, 0.45449054759677293, 0.1514968491989243, 0.1514968491989243, 0.1514968491989243, 0.5782905793566575, 0.8692031670362775, 0.5582876827534375, 0.6549743481524846, 0.8336893931605664, 0.567059422519494, 0.283529711259747, 0.035461453514080525, 0.035461453514080525, 0.035461453514080525, 0.8510748843379327, 0.035461453514080525, 0.5582944556216446, 0.1996376032814905, 0.1996376032814905, 0.5989128098444715, 0.0889763441162538, 0.1779526882325076, 0.1779526882325076, 0.0889763441162538, 0.5338580646975227, 0.5740839711436159, 0.574081894747727, 0.835704135067771, 0.3191278319066004, 0.3191278319066004, 0.3191278319066004, 0.6549747486161339, 0.5337535827332998, 0.9576907659244052, 0.9918899477868253, 0.8106284133521973, 0.47290318821467814, 0.47290318821467814, 0.6962639623078153, 0.6549697243764568, 0.8012613753747437, 0.5740540991747861, 0.8259590631672687, 0.27531968772242293, 0.11477119419212786, 0.6886271651527671, 0.11477119419212786, 0.5372899693826898, 0.7945324936681065, 0.8355025898460435, 0.5782826885091137, 0.5782799644132697, 0.6549696910095176, 0.8868598070939255, 0.8621082343797264, 0.6303651643927769, 0.5782826002896457, 0.23423178654403734, 0.4684635730880747, 0.8410069218989185, 0.7953792205077174, 0.15907584410154346, 0.630360796551933, 0.9585608009736416, 0.8043349219136752, 0.2681116406378917, 0.5377906553973141, 0.30369929496727693, 0.20246619664485127, 0.20246619664485127, 0.10123309832242564, 0.10123309832242564, 0.21804086390353516, 0.21804086390353516, 0.21804086390353516, 0.43608172780707033, 0.5006560372118323, 0.20855425528631205, 0.20855425528631205, 0.4171085105726241, 0.7946001644927225, 0.38103282893229296, 0.25402188595486197, 0.25402188595486197, 0.12701094297743099, 0.4240572215608925, 0.4240572215608925, 0.3925885151308494, 0.1962942575654247, 0.1962942575654247, 0.1962942575654247, 0.1962942575654247, 0.8623273287953054, 0.5007473357889322, 0.8621649176208375, 0.9915836734231951, 0.8784894657699364, 0.2196223664424841, 0.42407446168323953, 0.42407446168323953, 0.8004092757934791, 0.5614951224186938, 0.8409231373883974, 0.5614936829269868, 0.840936149727803, 0.6303825457960681, 0.28494611043799745, 0.5698922208759949, 0.9769507349346037, 0.8784913655394668, 0.2196228413848667, 0.5372875767315026, 0.6549775706877498, 0.8692637214865538, 0.12781617083123625, 0.511264683324945, 0.2556323416624725, 0.12781617083123625, 0.12781617083123625, 0.3404799474115291, 0.6809598948230582, 0.8012716651339893, 0.5782768080632013, 0.5372870040731234, 0.5378160665761557, 0.8000608396909876, 0.28615279436934143, 0.4769213239489024, 0.09538426478978047, 0.09538426478978047, 0.6304482970993373, 0.6001294387282847, 0.20004314624276157, 0.6962674308010097, 0.17781721540631848, 0.7112688616252739, 0.6743102567049535, 0.33715512835247674, 0.1454508299186036, 0.4363524897558108, 0.1454508299186036, 0.1454508299186036, 0.1454508299186036, 0.1454508299186036, 0.6962684947241847, 0.9684798586650171, 0.1598893029502515, 0.639557211801006, 0.9490990118552269, 0.07429786400767868, 0.5943829120614295, 0.14859572801535736, 0.22289359202303605, 0.5378064452545946, 0.2449273774639118, 0.4898547549278236, 0.2449273774639118, 0.5372873619844674, 0.7945259309826234, 0.5614935499167257, 0.6304189957709176, 0.574073474249759, 0.5740853535796122, 0.5740736191638971, 0.12393212026805325, 0.061966060134026626, 0.6196606013402662, 0.12393212026805325, 0.061966060134026626, 0.561497176504555, 0.22890111167216767, 0.686703335016503, 0.7115797645969253, 0.17789494114923132, 0.17789494114923132, 0.5818238525886233, 0.11636477051772467, 0.23272954103544935, 0.11636477051772467, 0.3672921133371856, 0.7345842266743712, 0.558287311790355, 0.6506989119671038, 0.3253494559835519, 0.4238214479671072, 0.4238214479671072, 0.14127381598903574, 0.6304081027697311, 0.15224488823357013, 0.6089795529342805, 0.15224488823357013, 0.15224488823357013, 0.15224488823357013, 0.2013144801912348, 0.2013144801912348, 0.4026289603824696, 0.2013144801912348, 0.7969444717575762, 0.19923611793939405, 0.7945924710706405, 0.630362187631126, 0.9577000939946477, 0.19004456382754797, 0.19004456382754797, 0.38008912765509595, 0.19004456382754797, 0.25748704934547295, 0.12874352467273648, 0.25748704934547295, 0.25748704934547295, 0.9915824564812445, 0.6719699914576553, 0.8621076495916761, 0.099942845674593, 0.099942845674593, 0.399771382698372, 0.299828537023779, 0.099942845674593, 0.099942845674593, 0.0892970421032786, 0.4018366894647537, 0.1785940842065572, 0.1339455631549179, 0.1785940842065572, 0.5614946745380448, 0.6543253742428443, 0.26173014969713776, 0.21657031505755192, 0.6497109451726558, 0.3444800004921577, 0.6889600009843154, 0.16576758291697674, 0.16576758291697674, 0.16576758291697674, 0.16576758291697674, 0.3315351658339535, 0.696275389560551, 0.17266196971157782, 0.17266196971157782, 0.6906478788463113, 0.17266196971157782, 0.6500436932710535, 0.4238163877242264, 0.4238163877242264, 0.1412721292414088, 0.2597681679262205, 0.2597681679262205, 0.2597681679262205, 0.8784822498594621, 0.21962056246486553, 0.674307024718161, 0.3371535123590805, 0.6549703288210772, 0.8012599006573243, 0.2977278587465698, 0.09924261958218994, 0.39697047832875976, 0.09924261958218994, 0.19848523916437988, 0.578277399661257, 0.5782764942268441, 0.5582921972843985, 0.5394106817376273, 0.044950890144802275, 0.044950890144802275, 0.1798035605792091, 0.044950890144802275, 0.08990178028960455, 0.044950890144802275, 0.5782774947237511, 0.8004446362620512, 0.8868593044072911, 0.5378425586030878, 0.9577796646991543, 0.8802362718817807, 0.9915826437264791, 0.1778129366554714, 0.7112517466218856], \"Term\": [\"aci greete\", \"aci greete\", \"adr ante\", \"agr meto\", \"agr meto\", \"agr meto\", \"agr meto\", \"agua jury\", \"agua moracapita\", \"aitu subjeive\", \"al dr\", \"alias ark\", \"alias articial\", \"alias map\", \"alias months\", \"alias months\", \"alias months\", \"alth income\", \"amap amap\", \"analysis strategic\", \"analysis strategic\", \"annual economic\", \"ante cu\", \"ao hos\", \"ao lago\", \"ao lago\", \"apa aet\", \"aregate assets\", \"ari zac\", \"ari zac\", \"ari zac\", \"aributquantitative lease\", \"ark boca\", \"ark boca\", \"ark boca\", \"ark boca\", \"ark conrm\", \"ark jaub\", \"ark jaub\", \"ark jaub\", \"ark pe\", \"ark regi\", \"articial intellence\", \"articial intellence\", \"articial intellence\", \"articial intellence\", \"articial intellence\", \"articial intellence\", \"articial intellence\", \"articial intellence\", \"articial intellence\", \"articial intellence\", \"asia central\", \"assets aregate\", \"assets assets\", \"assets assets\", \"assets capital\", \"assets continuity\", \"assets economic\", \"assets eq\", \"assets equatns\", \"assets equatns\", \"assets fluuatns\", \"assets groh\", \"assets investment\", \"assets investment\", \"assets investment\", \"assets revenue\", \"assets rst\", \"associate professor\", \"auf handbook\", \"b b\", \"b b\", \"b b\", \"b b\", \"ba regjajaub\", \"ba regjajaub\", \"ballad st\", \"barrel lor\", \"barrel lor\", \"behral normative\", \"bei er\", \"belt one\", \"belt one\", \"belt one\", \"belt one\", \"belt one\", \"betestandardizateconomic groh\", \"ble jer\", \"blind ju\", \"boca map\", \"boca mono\", \"boca months\", \"boca rao\", \"boca rao\", \"bold ser\", \"bold ser\", \"bold ser\", \"bot ti\", \"bot ti\", \"bras dir\", \"bras ero\", \"brownish st\", \"bryacfs socoll\", \"bryacfs socoll\", \"bryacfs socoll\", \"business cye\", \"business cye\", \"business cye\", \"business cye\", \"buy sell\", \"buy sell\", \"cac datos\", \"cac datos\", \"campania movie\", \"campania pug\", \"capita euros\", \"capital formatlabor\", \"cbb douglas\", \"cbb douglas\", \"cbb douglas\", \"cbb douglas\", \"cbb douglas\", \"cem og\", \"central abruzzo\", \"central asia\", \"central asia\", \"central asia\", \"centred movi\", \"centred movi\", \"centred movi\", \"ci ci\", \"ci este\", \"cim eto\", \"cim eto\", \"cim eto\", \"cim eto\", \"cim eto\", \"cim eto\", \"cim eto\", \"coalab worki\", \"coalab worki\", \"coalab worki\", \"coalab worki\", \"coalab worki\", \"coameasurement new\", \"coameasurement new\", \"coameasurement new\", \"coameasurement new\", \"coameasurement new\", \"cod aributquantitative\", \"coe moramirae\", \"coe pat\", \"coe var\", \"coe var\", \"cole cci\", \"com put\", \"com put\", \"comune cac\", \"comune cac\", \"concepts methods\", \"concepts methods\", \"conrm municips\", \"conrm municips\", \"constru os\", \"constru se\", \"constru se\", \"context pennt\", \"corate fault\", \"corate fault\", \"corate fault\", \"corate fault\", \"corollary xi\", \"corr corr\", \"cost investment\", \"cotab li\", \"cu adr\", \"dad lust\", \"die bold\", \"die bold\", \"die bold\", \"die bold\", \"die enters\", \"die enters\", \"die enters\", \"dir minas\", \"dos gr\", \"e articial\", \"east science\", \"ec odital\", \"ec odital\", \"ec odital\", \"ec odital\", \"ec odital\", \"ec oregnal\", \"ec oregnal\", \"ec oregnal\", \"ec oregnal\", \"eco nom\", \"eco nom\", \"eco nom\", \"eco nom\", \"eco psics\", \"eco psics\", \"eco psics\", \"eco psics\", \"eco psics\", \"economic belt\", \"economic belt\", \"economic belt\", \"economic belt\", \"economic belt\", \"economic groh\", \"economic groh\", \"economic groh\", \"economic groh\", \"economic groh\", \"economic groh\", \"economic groh\", \"economic groh\", \"economic groh\", \"economic media\", \"economic media\", \"economic media\", \"economic tory\", \"economic tory\", \"economic tory\", \"economic tory\", \"ecu aci\", \"ecu aci\", \"ecu aci\", \"edit foredire\", \"edit loans\", \"edit loans\", \"edit loans\", \"edit loans\", \"editors edits\", \"edits editors\", \"edits edits\", \"edits edits\", \"edits edits\", \"edits edits\", \"edits edits\", \"edits investment\", \"edits loans\", \"edits loans\", \"edits loans\", \"edits loans\", \"edits loans\", \"edits loans\", \"edits loans\", \"edits loans\", \"edits loans\", \"edits payments\", \"emunicips mice\", \"emunicips mice\", \"emunicips mice\", \"emunicips mice\", \"ene franci\", \"ene franci\", \"enters fox\", \"enters fox\", \"enters fox\", \"eq economic\", \"eq economic\", \"eq edits\", \"eq eq\", \"eq eq\", \"eq eq\", \"eq eq\", \"equatns assets\", \"equatns equatns\", \"equatns equatns\", \"equatns equatns\", \"equatns equatns\", \"equatns equatns\", \"equip os\", \"er media\", \"ero geo\", \"est ari\", \"est ari\", \"est ari\", \"esta esta\", \"esta fec\", \"esta mum\", \"esta mum\", \"esta primer\", \"este minas\", \"et apa\", \"eto ec\", \"eto ec\", \"eto ec\", \"eto ec\", \"eur economic\", \"eur economic\", \"eur economic\", \"eur economic\", \"eur economic\", \"eva lu\", \"eva lu\", \"fall control\", \"far east\", \"fare brotr\", \"fault study\", \"fault study\", \"fec gr\", \"fluuatns assets\", \"forage kg\", \"formatlabor groh\", \"franci gla\", \"franci gla\", \"future future\", \"future future\", \"future future\", \"g na\", \"g na\", \"gacia zi\", \"gamo ltd\", \"gamo ltd\", \"ge number\", \"geo da\", \"geo da\", \"ger articial\", \"ger articial\", \"ger articial\", \"ger articial\", \"ger articial\", \"ger articial\", \"ger articial\", \"ger articial\", \"get got\", \"gh hmwith\", \"gh steveurl\", \"goregnal tri\", \"got get\", \"gr esta\", \"gr esta\", \"gr moralust\", \"gr rate\", \"groh assets\", \"groh else\", \"groh gh\", \"groh paths\", \"groh rate\", \"gross capital\", \"gut eur\", \"handbook economic\", \"hos agua\", \"hos agua\", \"hos agua\", \"ht e\", \"hubs articial\", \"hubs articial\", \"humare cim\", \"iafro lhi\", \"ica ci\", \"ica ci\", \"ica ci\", \"iflows gross\", \"iform aci\", \"iform aci\", \"iform aci\", \"iform aci\", \"iha alias\", \"impa articial\", \"individuals individuals\", \"innovatpolicinew regnal\", \"input output\", \"input output\", \"input output\", \"institute transt\", \"institutjena germany\", \"integral edits\", \"intellence ba\", \"intellence ba\", \"intellence bei\", \"intellence bei\", \"intellence bei\", \"intellence bei\", \"intellence bras\", \"intellence fall\", \"intellence hubs\", \"intellence true\", \"intellence va\", \"intensive pricinterest\", \"interest rate\", \"interest rate\", \"interest rate\", \"interest rate\", \"internatnal journal\", \"internatnal journal\", \"internatnal journal\", \"internatnal journal\", \"internatnal journal\", \"internatnal journal\", \"internatnal journal\", \"internatnal journal\", \"interrev analysis\", \"invest ci\", \"invest ci\", \"invest ci\", \"invest ci\", \"invest ci\", \"investment assets\", \"investment assets\", \"investment cost\", \"investment cost\", \"investment interest\", \"investment interest\", \"investment interest\", \"investment interest\", \"investment investment\", \"investment investment\", \"investment loans\", \"investment mand\", \"investment mand\", \"investment mand\", \"inx trial\", \"inx trial\", \"italianorth note\", \"iz vida\", \"jajaub alias\", \"japi li\", \"jasafranci months\", \"jo ao\", \"jo ao\", \"jo ao\", \"jo ao\", \"jo ao\", \"journal economic\", \"journal economic\", \"journal economic\", \"journal economic\", \"journal economic\", \"journal economic\", \"journal economic\", \"journal economic\", \"journal economics\", \"journal economics\", \"journal economics\", \"journal economics\", \"journal economics\", \"journal economics\", \"journal economics\", \"journal nance\", \"journal nance\", \"journal nance\", \"journal nance\", \"journal nance\", \"journal standardizatresearvolume\", \"journal standardizatresearvolume\", \"journal standardizatresearvolume\", \"journal standardizatresearvolume\", \"journal standardizatresearvolume\", \"journal technology\", \"journal technology\", \"journal technology\", \"ju mit\", \"jury meto\", \"jury meto\", \"jury meto\", \"key key\", \"la le\", \"lac special\", \"lago ark\", \"lago moraark\", \"lam la\", \"land li\", \"land li\", \"land li\", \"land morajury\", \"lar iafro\", \"law associate\", \"law institute\", \"le e\", \"lea corollary\", \"lease lease\", \"lease price\", \"leotie leotie\", \"leotie leotie\", \"leotie leotie\", \"li bot\", \"li bot\", \"li date\", \"li fs\", \"li fs\", \"li fs\", \"li ji\", \"li xi\", \"li york\", \"li york\", \"link betestandardizateconomic\", \"loans edit\", \"loans edit\", \"loans edits\", \"loans edits\", \"loans edits\", \"loans edits\", \"loans leotie\", \"loans payments\", \"loans r\", \"lu ak\", \"lu cem\", \"lu gacia\", \"lu restrepo\", \"lucia metro\", \"lucia metro\", \"lust rac\", \"lust rac\", \"lust rac\", \"lust rac\", \"lust rac\", \"mand investment\", \"mand investment\", \"mand investment\", \"mand investment\", \"manha rodro\", \"mantre ut\", \"mao mao\", \"maoeconomic econometrics\", \"map agr\", \"map agr\", \"map agr\", \"map agr\", \"map mice\", \"map mice\", \"map mice\", \"map mice\", \"map pro\", \"marc toscana\", \"math share\", \"mc adam\", \"mc adam\", \"mc adam\", \"mc adam\", \"mc adam\", \"md rae\", \"md rae\", \"media items\", \"media sentiment\", \"media sentiment\", \"mendoza yue\", \"mendoza yue\", \"meto humare\", \"meto map\", \"meto moranova\", \"metro nero\", \"metro nero\", \"mice regi\", \"mice regi\", \"mice regi\", \"mice regi\", \"mice regi\", \"mice regi\", \"mice regi\", \"minas ger\", \"minas ger\", \"minas ger\", \"minas ger\", \"minas ger\", \"minas ger\", \"minas ger\", \"minas ger\", \"mit tag\", \"mlust rac\", \"mok yr\", \"mok yr\", \"mok yr\", \"mono est\", \"mono shapi\", \"mono true\", \"months ark\", \"months ark\", \"months ark\", \"months ark\", \"months ark\", \"months ark\", \"months ark\", \"months ark\", \"months ark\", \"moraark pe\", \"moracapita ene\", \"moragla uci\", \"morahos agua\", \"morajury meto\", \"moralust rac\", \"moramirae morapat\", \"moranova ter\", \"morapat morasao\", \"mum regi\", \"mum regi\", \"municip boca\", \"municip boca\", \"municip months\", \"municip months\", \"municips jasafranci\", \"municips months\", \"municips months\", \"municips months\", \"municips months\", \"municips sao\", \"municips sao\", \"municips sao\", \"nance risk\", \"nance risk\", \"nance risk\", \"nance risk\", \"nance risk\", \"nancial analysis\", \"nancial analysis\", \"nancial analysis\", \"negative positive\", \"new coalab\", \"new coalab\", \"new coalab\", \"new coalab\", \"new coalab\", \"new york\", \"new york\", \"new york\", \"new york\", \"next next\", \"ni pe\", \"normative beliefs\", \"number words\", \"odital sent\", \"og iform\", \"og iform\", \"og lu\", \"og lu\", \"og lu\", \"og lu\", \"og lu\", \"oklahoma natnal\", \"one belt\", \"one belt\", \"one belt\", \"one road\", \"one road\", \"one road\", \"one road\", \"one road\", \"online output\", \"oom ka\", \"os cocim\", \"output analysis\", \"output analysis\", \"output analysis\", \"outs ge\", \"paerns italianorth\", \"pat sao\", \"payments edits\", \"pc pc\", \"pe coe\", \"pe coe\", \"pe sarah\", \"pennt variable\", \"petr lar\", \"ph law\", \"ph ys\", \"ph ys\", \"phippe gh\", \"phippe gh\", \"phippe gh\", \"pl innovatpolicinew\", \"positive sis\", \"ppc le\", \"pricinterest ratenormous\", \"primer result\", \"private edit\", \"pro ye\", \"professor law\", \"program ad\", \"prots sis\", \"psics maoeconomic\", \"psics maoeconomic\", \"public public\", \"pug lia\", \"pug lia\", \"put aci\", \"put ad\", \"px py\", \"px py\", \"py px\", \"quarterly journal\", \"quarterly journal\", \"quarterly journal\", \"quarterly journal\", \"quarterly journal\", \"rac gr\", \"rac gr\", \"rac gr\", \"rac gr\", \"rac mlust\", \"rac valor\", \"rac valor\", \"rac valor\", \"rad marc\", \"rao logo\", \"rao logo\", \"rao logo\", \"rao logo\", \"rao mono\", \"rao mono\", \"rat eff\", \"rat eff\", \"rat eff\", \"rat eff\", \"rat eff\", \"rate cost\", \"rate government\", \"rate mand\", \"regi jajaub\", \"regi va\", \"regi va\", \"regjajaub alias\", \"regjajaub alias\", \"regnal groh\", \"regns note\", \"remark remark\", \"remark totocbb\", \"remote sensi\", \"responnts survey\", \"result dos\", \"result dos\", \"revenue assets\", \"rianz coe\", \"rianz coe\", \"risk soluteconomic\", \"risk tse\", \"road chinese\", \"road economic\", \"road economic\", \"road economic\", \"road economic\", \"road economic\", \"road initiative\", \"road initiative\", \"road snicance\", \"road wa\", \"rseleassessment risk\", \"ryajoined shapi\", \"saga si\", \"sao jo\", \"sao jo\", \"sao jo\", \"sao jo\", \"sao roma\", \"sar g\", \"sar g\", \"sarah ser\", \"sc opus\", \"sc opus\", \"sea alma\", \"sea alma\", \"sent meto\", \"sent meto\", \"sent meto\", \"sent meto\", \"sent meto\", \"sent meto\", \"ser mantre\", \"ser ray\", \"shapi wl\", \"shapi wl\", \"sis positive\", \"sk road\", \"sk road\", \"sk road\", \"sk road\", \"snicance petr\", \"socoll die\", \"socoll die\", \"socoll die\", \"soluteconomic r\", \"south campania\", \"special minas\", \"st aka\", \"st brownish\", \"st rieved\", \"st st\", \"standardizatresearvolume issue\", \"standardizatresearvolume issue\", \"standardizatresearvolume issue\", \"standardizatresearvolume issue\", \"standardizatresearvolume issue\", \"std err\", \"steveurl auf\", \"steveurl auf\", \"strategic management\", \"strategic management\", \"strategic management\", \"struured nance\", \"struured nance\", \"struured nance\", \"struured nance\", \"study rati\", \"study rati\", \"subjeive norms\", \"supply assets\", \"supply assets\", \"sur municips\", \"sur municips\", \"sur municips\", \"table net\", \"tac sll\", \"tac sll\", \"tac sll\", \"tac sll\", \"tac sll\", \"te cim\", \"te cim\", \"te cim\", \"te cim\", \"technology analysis\", \"technology analysis\", \"technology society\", \"tele comune\", \"temic risk\", \"tenor og\", \"tenor og\", \"tenor og\", \"tenor og\", \"ter iha\", \"ter iha\", \"ter iha\", \"ter iha\", \"time time\", \"tr articial\", \"transt mow\", \"tri goregnal\", \"tri goregnal\", \"tri goregnal\", \"tri goregnal\", \"tri goregnal\", \"tri goregnal\", \"true ba\", \"true ba\", \"true ba\", \"true ba\", \"true ba\", \"tse assets\", \"uci land\", \"uci land\", \"ui ci\", \"ui ci\", \"ui ui\", \"ui ui\", \"uni dad\", \"uni dad\", \"uni dad\", \"uni dad\", \"uni dad\", \"ut ler\", \"va rianz\", \"va rianz\", \"va rianz\", \"va rianz\", \"valor edu\", \"valor sur\", \"valor sur\", \"valor sur\", \"valor uni\", \"valor uni\", \"valor uni\", \"var md\", \"var md\", \"var sea\", \"var sea\", \"variable gr\", \"vec ios\", \"vida ec\", \"vida ec\", \"vida ec\", \"vida ec\", \"vida ec\", \"wa kei\", \"wa qi\", \"wdle management\", \"worki pa\", \"worki pa\", \"worki pa\", \"worki pa\", \"worki pa\", \"worki pa\", \"worki pa\", \"xi jia\", \"xi yi\", \"ye cci\", \"years capita\", \"ys rev\", \"zac est\", \"zac regi\", \"zi li\", \"zi li\"]}, \"R\": 30, \"lambda.step\": 0.01, \"plot.opts\": {\"xlab\": \"PC1\", \"ylab\": \"PC2\"}, \"topic.order\": [9, 5, 1, 10, 7, 3, 2, 6, 8, 4]};\n",
       "\n",
       "function LDAvis_load_lib(url, callback){\n",
       "  var s = document.createElement('script');\n",
       "  s.src = url;\n",
       "  s.async = true;\n",
       "  s.onreadystatechange = s.onload = callback;\n",
       "  s.onerror = function(){console.warn(\"failed to load library \" + url);};\n",
       "  document.getElementsByTagName(\"head\")[0].appendChild(s);\n",
       "}\n",
       "\n",
       "if(typeof(LDAvis) !== \"undefined\"){\n",
       "   // already loaded: just create the visualization\n",
       "   !function(LDAvis){\n",
       "       new LDAvis(\"#\" + \"ldavis_el2172424985094556962185740989\", ldavis_el2172424985094556962185740989_data);\n",
       "   }(LDAvis);\n",
       "}else if(typeof define === \"function\" && define.amd){\n",
       "   // require.js is available: use it to load d3/LDAvis\n",
       "   require.config({paths: {d3: \"https://d3js.org/d3.v5\"}});\n",
       "   require([\"d3\"], function(d3){\n",
       "      window.d3 = d3;\n",
       "      LDAvis_load_lib(\"https://cdn.jsdelivr.net/gh/bmabey/pyLDAvis@3.4.0/pyLDAvis/js/ldavis.v3.0.0.js\", function(){\n",
       "        new LDAvis(\"#\" + \"ldavis_el2172424985094556962185740989\", ldavis_el2172424985094556962185740989_data);\n",
       "      });\n",
       "    });\n",
       "}else{\n",
       "    // require.js not available: dynamically load d3 & LDAvis\n",
       "    LDAvis_load_lib(\"https://d3js.org/d3.v5.js\", function(){\n",
       "         LDAvis_load_lib(\"https://cdn.jsdelivr.net/gh/bmabey/pyLDAvis@3.4.0/pyLDAvis/js/ldavis.v3.0.0.js\", function(){\n",
       "                 new LDAvis(\"#\" + \"ldavis_el2172424985094556962185740989\", ldavis_el2172424985094556962185740989_data);\n",
       "            })\n",
       "         });\n",
       "}\n",
       "</script>"
      ],
      "text/plain": [
       "PreparedData(topic_coordinates=              x         y  topics  cluster       Freq\n",
       "topic                                                \n",
       "8     -0.117118  0.087650       1        1  12.460118\n",
       "4     -0.079265 -0.068145       2        1  12.036015\n",
       "0      0.120401 -0.030325       3        1  12.021679\n",
       "9      0.049267  0.175106       4        1  11.542307\n",
       "6      0.017349 -0.045552       5        1  10.503702\n",
       "2     -0.099160 -0.030163       6        1  10.250950\n",
       "1      0.056166 -0.028871       7        1   9.254664\n",
       "5      0.030898 -0.001999       8        1   9.110708\n",
       "7      0.013577 -0.030656       9        1   6.778379\n",
       "3      0.007885 -0.027045      10        1   6.041478, topic_info=                Term       Freq      Total Category  logprob  loglift\n",
       "3205   assets assets  62.000000  62.000000  Default  30.0000  30.0000\n",
       "5065  revenue assets  35.000000  35.000000  Default  29.0000  29.0000\n",
       "5055  assets revenue  31.000000  31.000000  Default  28.0000  28.0000\n",
       "93             og lu  28.000000  28.000000  Default  27.0000  27.0000\n",
       "60            cem og  19.000000  19.000000  Default  26.0000  26.0000\n",
       "...              ...        ...        ...      ...      ...      ...\n",
       "6126        tenor og   1.456910   5.261924  Topic10  -6.5983   1.5223\n",
       "6023      months ark   2.105601  41.366295  Topic10  -6.2300  -0.1713\n",
       "6013        ark boca   1.151821  19.879649  Topic10  -6.8333  -0.0418\n",
       "13     economic groh   0.992514  35.058235  Topic10  -6.9821  -0.7580\n",
       "6688  intellence bei   0.988149   3.225216  Topic10  -6.9866   1.6236\n",
       "\n",
       "[555 rows x 6 columns], token_table=       Topic      Freq        Term\n",
       "term                              \n",
       "6925       9  0.660745  aci greete\n",
       "6925      10  0.330373  aci greete\n",
       "6881       4  0.968411    adr ante\n",
       "6132       3  0.144012    agr meto\n",
       "6132       5  0.576050    agr meto\n",
       "...      ...       ...         ...\n",
       "11520      3  0.957780      ys rev\n",
       "6030      10  0.880236     zac est\n",
       "7056       3  0.991583    zac regi\n",
       "554        1  0.177813       zi li\n",
       "554        4  0.711252       zi li\n",
       "\n",
       "[895 rows x 3 columns], R=30, lambda_step=0.01, plot_opts={'xlab': 'PC1', 'ylab': 'PC2'}, topic_order=[9, 5, 1, 10, 7, 3, 2, 6, 8, 4])"
      ]
     },
     "execution_count": 5,
     "metadata": {},
     "output_type": "execute_result"
    }
   ],
   "source": [
    "pyLDAvis.enable_notebook()\n",
    "vis = gensimvis.prepare(lda_model_bigrams, corpus_bigrams, dictionary=dictionary_bigrams)\n",
    "vis"
   ]
  },
  {
   "cell_type": "code",
   "execution_count": 6,
   "metadata": {},
   "outputs": [],
   "source": [
    "#LSA (Latent Semantic Analysis = finding top ten topics)\n",
    "\n",
    "from sklearn.feature_extraction.text import CountVectorizer\n",
    "import scipy.stats as stats\n",
    "\n",
    "from sklearn.decomposition import TruncatedSVD\n",
    "\n",
    "reindexed_data = df['pdata_clean']\n",
    "\n",
    "small_count_vectorizer = CountVectorizer(stop_words='english', max_features=4000)\n",
    "small_text_sample = reindexed_data.sample(n=500, random_state=0).values\n",
    "small_document_term_matrix = small_count_vectorizer.fit_transform(small_text_sample)\n",
    "\n",
    "lsa_model = TruncatedSVD(n_components=10)\n",
    "lsa_topic_matrix = lsa_model.fit_transform(small_document_term_matrix)"
   ]
  },
  {
   "cell_type": "code",
   "execution_count": 7,
   "metadata": {},
   "outputs": [
    {
     "name": "stdout",
     "output_type": "stream",
     "text": [
      "Topic 1:  economic journal economics groh table internatnal intellence articial lu og\n",
      "Topic 2:  assets revenue equatns aregate investment tse usage economic nce continuity\n",
      "Topic 3:  investment mand cost rate edits positive eq loans sis supply\n",
      "Topic 4:  table simarly trefore mtable online basal distributn standardized dinary distributstroly\n",
      "Topic 5:  ark months municips boca map alias regi intellence articial ba\n",
      "Topic 6:  business risk tory nance nancial edit economic edits moody cye\n",
      "Topic 7:  economic nero metro lucia tac sll journal tness le lexity\n",
      "Topic 8:  north pa new worki technology coalab coameasurement management social analysis\n",
      "Topic 9:  intellence articial ci aci la el ad ec eto li\n",
      "Topic 10:  management mc rappi stunt eineeri adam review transans boost coe\n"
     ]
    }
   ],
   "source": [
    "from collections import Counter \n",
    "\n",
    "def get_keys(topic_matrix):\n",
    "    '''\n",
    "    returns an integer list of predicted topic \n",
    "    categories for a given topic matrix\n",
    "    '''\n",
    "    keys = topic_matrix.argmax(axis=1).tolist()\n",
    "    return keys\n",
    "\n",
    "def keys_to_counts(keys):\n",
    "    \n",
    "    '''\n",
    "    returns a tuple of topic categories and their \n",
    "    accompanying magnitudes for a given list of keys\n",
    "    '''\n",
    "    \n",
    "    count_pairs = Counter(keys).items()\n",
    "    categories = [pair[0] for pair in count_pairs]\n",
    "    counts = [pair[1] for pair in count_pairs]\n",
    "    return (categories, counts)\n",
    "\n",
    "lsa_keys = get_keys(lsa_topic_matrix)\n",
    "lsa_categories, lsa_counts = keys_to_counts(lsa_keys)\n",
    "\n",
    "\n",
    "def get_top_n_words(n, keys, document_term_matrix, count_vectorizer):\n",
    "    '''\n",
    "    returns a list of n_topic strings, where each string contains the n most common \n",
    "    words in a predicted category, in order\n",
    "    '''\n",
    "    top_word_indices = []\n",
    "    for topic in range(10):\n",
    "        temp_vector_sum = 0\n",
    "        for i in range(len(keys)):\n",
    "            if keys[i] == topic:\n",
    "                temp_vector_sum += document_term_matrix[i]\n",
    "        temp_vector_sum = temp_vector_sum.toarray()\n",
    "        top_n_word_indices = np.flip(np.argsort(temp_vector_sum)[0][-n:],0)\n",
    "        top_word_indices.append(top_n_word_indices)   \n",
    "    top_words = []\n",
    "    for topic in top_word_indices:\n",
    "        topic_words = []\n",
    "        for index in topic:\n",
    "            temp_word_vector = np.zeros((1,document_term_matrix.shape[1]))\n",
    "            temp_word_vector[:,index] = 1\n",
    "            the_word = count_vectorizer.inverse_transform(temp_word_vector)[0][0]\n",
    "            topic_words.append(the_word.encode('ascii').decode('utf-8'))\n",
    "        top_words.append(\" \".join(topic_words))         \n",
    "    return top_words\n",
    "top_n_words_lsa = get_top_n_words(10, lsa_keys, small_document_term_matrix, small_count_vectorizer)\n",
    "\n",
    "for i in range(len(top_n_words_lsa)):\n",
    "    print(\"Topic {}: \".format(i+1), top_n_words_lsa[i])"
   ]
  },
  {
   "cell_type": "code",
   "execution_count": 8,
   "metadata": {},
   "outputs": [
    {
     "data": {
      "image/png": "[encoded data removed]",
      "text/plain": [
       "<Figure size 2800x400 with 1 Axes>"
      ]
     },
     "metadata": {},
     "output_type": "display_data"
    }
   ],
   "source": [
    "import matplotlib.pyplot as plt\n",
    "\n",
    "top_3_words = get_top_n_words(3, lsa_keys, small_document_term_matrix, small_count_vectorizer)\n",
    "labels = ['Topic {}: \\n'.format(i+1) + top_3_words[i] for i in lsa_categories]\n",
    "\n",
    "fig, ax = plt.subplots(figsize=(28,4))\n",
    "ax.bar(lsa_categories, lsa_counts);\n",
    "ax.set_xticks(lsa_categories);\n",
    "ax.set_xticklabels(labels);\n",
    "ax.set_ylabel('arXiv paper data');\n",
    "ax.set_title('LSA topic counts');\n",
    "plt.show()\n"
   ]
  },
  {
   "cell_type": "code",
   "execution_count": 10,
   "metadata": {},
   "outputs": [
    {
     "name": "stderr",
     "output_type": "stream",
     "text": [
      "2024-04-28 22:23:13,024 - BERTopic - Embedding - Transforming documents to embeddings.\n"
     ]
    },
    {
     "ename": "KeyboardInterrupt",
     "evalue": "",
     "output_type": "error",
     "traceback": [
      "\u001b[1;31m---------------------------------------------------------------------------\u001b[0m",
      "\u001b[1;31mKeyboardInterrupt\u001b[0m                         Traceback (most recent call last)",
      "Cell \u001b[1;32mIn[10], line 25\u001b[0m\n\u001b[0;32m     22\u001b[0m dfx1[\u001b[38;5;124m\"\u001b[39m\u001b[38;5;124mlength\u001b[39m\u001b[38;5;124m\"\u001b[39m] \u001b[38;5;241m=\u001b[39m dfx1[\u001b[38;5;124m\"\u001b[39m\u001b[38;5;124mpdata_clean\u001b[39m\u001b[38;5;124m\"\u001b[39m]\u001b[38;5;241m.\u001b[39mapply(\u001b[38;5;28;01mlambda\u001b[39;00m x : \u001b[38;5;28mlen\u001b[39m(x\u001b[38;5;241m.\u001b[39msplit()))\n\u001b[0;32m     24\u001b[0m model \u001b[38;5;241m=\u001b[39m BERTopic(verbose\u001b[38;5;241m=\u001b[39m\u001b[38;5;28;01mTrue\u001b[39;00m,embedding_model\u001b[38;5;241m=\u001b[39m\u001b[38;5;124m'\u001b[39m\u001b[38;5;124mparaphrase-MiniLM-L3-v2\u001b[39m\u001b[38;5;124m'\u001b[39m, min_topic_size\u001b[38;5;241m=\u001b[39m\u001b[38;5;241m7\u001b[39m)\n\u001b[1;32m---> 25\u001b[0m topics, _ \u001b[38;5;241m=\u001b[39m \u001b[43mmodel\u001b[49m\u001b[38;5;241;43m.\u001b[39;49m\u001b[43mfit_transform\u001b[49m\u001b[43m(\u001b[49m\u001b[43mdfx1\u001b[49m\u001b[38;5;241;43m.\u001b[39;49m\u001b[43mpdata_clean\u001b[49m\u001b[43m)\u001b[49m\n",
      "File \u001b[1;32mc:\\ProgramData\\Anaconda3\\envs\\test_env\\Lib\\site-packages\\bertopic\\_bertopic.py:385\u001b[0m, in \u001b[0;36mBERTopic.fit_transform\u001b[1;34m(self, documents, embeddings, images, y)\u001b[0m\n\u001b[0;32m    383\u001b[0m \u001b[38;5;28;01mif\u001b[39;00m embeddings \u001b[38;5;129;01mis\u001b[39;00m \u001b[38;5;28;01mNone\u001b[39;00m:\n\u001b[0;32m    384\u001b[0m     logger\u001b[38;5;241m.\u001b[39minfo(\u001b[38;5;124m\"\u001b[39m\u001b[38;5;124mEmbedding - Transforming documents to embeddings.\u001b[39m\u001b[38;5;124m\"\u001b[39m)\n\u001b[1;32m--> 385\u001b[0m     \u001b[38;5;28mself\u001b[39m\u001b[38;5;241m.\u001b[39membedding_model \u001b[38;5;241m=\u001b[39m \u001b[43mselect_backend\u001b[49m\u001b[43m(\u001b[49m\u001b[38;5;28;43mself\u001b[39;49m\u001b[38;5;241;43m.\u001b[39;49m\u001b[43membedding_model\u001b[49m\u001b[43m,\u001b[49m\n\u001b[0;32m    386\u001b[0m \u001b[43m                                          \u001b[49m\u001b[43mlanguage\u001b[49m\u001b[38;5;241;43m=\u001b[39;49m\u001b[38;5;28;43mself\u001b[39;49m\u001b[38;5;241;43m.\u001b[39;49m\u001b[43mlanguage\u001b[49m\u001b[43m)\u001b[49m\n\u001b[0;32m    387\u001b[0m     embeddings \u001b[38;5;241m=\u001b[39m \u001b[38;5;28mself\u001b[39m\u001b[38;5;241m.\u001b[39m_extract_embeddings(documents\u001b[38;5;241m.\u001b[39mDocument\u001b[38;5;241m.\u001b[39mvalues\u001b[38;5;241m.\u001b[39mtolist(),\n\u001b[0;32m    388\u001b[0m                                           images\u001b[38;5;241m=\u001b[39mimages,\n\u001b[0;32m    389\u001b[0m                                           method\u001b[38;5;241m=\u001b[39m\u001b[38;5;124m\"\u001b[39m\u001b[38;5;124mdocument\u001b[39m\u001b[38;5;124m\"\u001b[39m,\n\u001b[0;32m    390\u001b[0m                                           verbose\u001b[38;5;241m=\u001b[39m\u001b[38;5;28mself\u001b[39m\u001b[38;5;241m.\u001b[39mverbose)\n\u001b[0;32m    391\u001b[0m     logger\u001b[38;5;241m.\u001b[39minfo(\u001b[38;5;124m\"\u001b[39m\u001b[38;5;124mEmbedding - Completed \u001b[39m\u001b[38;5;130;01m\\u2713\u001b[39;00m\u001b[38;5;124m\"\u001b[39m)\n",
      "File \u001b[1;32mc:\\ProgramData\\Anaconda3\\envs\\test_env\\Lib\\site-packages\\bertopic\\backend\\_utils.py:108\u001b[0m, in \u001b[0;36mselect_backend\u001b[1;34m(embedding_model, language)\u001b[0m\n\u001b[0;32m    106\u001b[0m \u001b[38;5;28;01mif\u001b[39;00m \u001b[38;5;124m\"\u001b[39m\u001b[38;5;124msentence_transformers\u001b[39m\u001b[38;5;124m\"\u001b[39m \u001b[38;5;129;01min\u001b[39;00m \u001b[38;5;28mstr\u001b[39m(\u001b[38;5;28mtype\u001b[39m(embedding_model)) \u001b[38;5;129;01mor\u001b[39;00m \u001b[38;5;28misinstance\u001b[39m(embedding_model, \u001b[38;5;28mstr\u001b[39m):\n\u001b[0;32m    107\u001b[0m     \u001b[38;5;28;01mfrom\u001b[39;00m \u001b[38;5;21;01m.\u001b[39;00m\u001b[38;5;21;01m_sentencetransformers\u001b[39;00m \u001b[38;5;28;01mimport\u001b[39;00m SentenceTransformerBackend\n\u001b[1;32m--> 108\u001b[0m     \u001b[38;5;28;01mreturn\u001b[39;00m \u001b[43mSentenceTransformerBackend\u001b[49m\u001b[43m(\u001b[49m\u001b[43membedding_model\u001b[49m\u001b[43m)\u001b[49m\n\u001b[0;32m    110\u001b[0m \u001b[38;5;66;03m# Hugging Face embeddings\u001b[39;00m\n\u001b[0;32m    111\u001b[0m \u001b[38;5;28;01mif\u001b[39;00m \u001b[38;5;124m\"\u001b[39m\u001b[38;5;124mtransformers\u001b[39m\u001b[38;5;124m\"\u001b[39m \u001b[38;5;129;01mand\u001b[39;00m \u001b[38;5;124m\"\u001b[39m\u001b[38;5;124mpipeline\u001b[39m\u001b[38;5;124m\"\u001b[39m \u001b[38;5;129;01min\u001b[39;00m \u001b[38;5;28mstr\u001b[39m(\u001b[38;5;28mtype\u001b[39m(embedding_model)):\n",
      "File \u001b[1;32mc:\\ProgramData\\Anaconda3\\envs\\test_env\\Lib\\site-packages\\bertopic\\backend\\_sentencetransformers.py:44\u001b[0m, in \u001b[0;36mSentenceTransformerBackend.__init__\u001b[1;34m(self, embedding_model)\u001b[0m\n\u001b[0;32m     42\u001b[0m     \u001b[38;5;28mself\u001b[39m\u001b[38;5;241m.\u001b[39membedding_model \u001b[38;5;241m=\u001b[39m embedding_model\n\u001b[0;32m     43\u001b[0m \u001b[38;5;28;01melif\u001b[39;00m \u001b[38;5;28misinstance\u001b[39m(embedding_model, \u001b[38;5;28mstr\u001b[39m):\n\u001b[1;32m---> 44\u001b[0m     \u001b[38;5;28mself\u001b[39m\u001b[38;5;241m.\u001b[39membedding_model \u001b[38;5;241m=\u001b[39m \u001b[43mSentenceTransformer\u001b[49m\u001b[43m(\u001b[49m\u001b[43membedding_model\u001b[49m\u001b[43m)\u001b[49m\n\u001b[0;32m     45\u001b[0m     \u001b[38;5;28mself\u001b[39m\u001b[38;5;241m.\u001b[39m_hf_model \u001b[38;5;241m=\u001b[39m embedding_model\n\u001b[0;32m     46\u001b[0m \u001b[38;5;28;01melse\u001b[39;00m:\n",
      "File \u001b[1;32mc:\\ProgramData\\Anaconda3\\envs\\test_env\\Lib\\site-packages\\sentence_transformers\\SentenceTransformer.py:191\u001b[0m, in \u001b[0;36mSentenceTransformer.__init__\u001b[1;34m(self, model_name_or_path, modules, device, prompts, default_prompt_name, cache_folder, trust_remote_code, revision, token, use_auth_token)\u001b[0m\n\u001b[0;32m    188\u001b[0m         model_name_or_path \u001b[38;5;241m=\u001b[39m __MODEL_HUB_ORGANIZATION__ \u001b[38;5;241m+\u001b[39m \u001b[38;5;124m\"\u001b[39m\u001b[38;5;124m/\u001b[39m\u001b[38;5;124m\"\u001b[39m \u001b[38;5;241m+\u001b[39m model_name_or_path\n\u001b[0;32m    190\u001b[0m \u001b[38;5;28;01mif\u001b[39;00m is_sentence_transformer_model(model_name_or_path, token, cache_folder\u001b[38;5;241m=\u001b[39mcache_folder, revision\u001b[38;5;241m=\u001b[39mrevision):\n\u001b[1;32m--> 191\u001b[0m     modules \u001b[38;5;241m=\u001b[39m \u001b[38;5;28;43mself\u001b[39;49m\u001b[38;5;241;43m.\u001b[39;49m\u001b[43m_load_sbert_model\u001b[49m\u001b[43m(\u001b[49m\n\u001b[0;32m    192\u001b[0m \u001b[43m        \u001b[49m\u001b[43mmodel_name_or_path\u001b[49m\u001b[43m,\u001b[49m\n\u001b[0;32m    193\u001b[0m \u001b[43m        \u001b[49m\u001b[43mtoken\u001b[49m\u001b[38;5;241;43m=\u001b[39;49m\u001b[43mtoken\u001b[49m\u001b[43m,\u001b[49m\n\u001b[0;32m    194\u001b[0m \u001b[43m        \u001b[49m\u001b[43mcache_folder\u001b[49m\u001b[38;5;241;43m=\u001b[39;49m\u001b[43mcache_folder\u001b[49m\u001b[43m,\u001b[49m\n\u001b[0;32m    195\u001b[0m \u001b[43m        \u001b[49m\u001b[43mrevision\u001b[49m\u001b[38;5;241;43m=\u001b[39;49m\u001b[43mrevision\u001b[49m\u001b[43m,\u001b[49m\n\u001b[0;32m    196\u001b[0m \u001b[43m        \u001b[49m\u001b[43mtrust_remote_code\u001b[49m\u001b[38;5;241;43m=\u001b[39;49m\u001b[43mtrust_remote_code\u001b[49m\u001b[43m,\u001b[49m\n\u001b[0;32m    197\u001b[0m \u001b[43m    \u001b[49m\u001b[43m)\u001b[49m\n\u001b[0;32m    198\u001b[0m \u001b[38;5;28;01melse\u001b[39;00m:\n\u001b[0;32m    199\u001b[0m     modules \u001b[38;5;241m=\u001b[39m \u001b[38;5;28mself\u001b[39m\u001b[38;5;241m.\u001b[39m_load_auto_model(\n\u001b[0;32m    200\u001b[0m         model_name_or_path,\n\u001b[0;32m    201\u001b[0m         token\u001b[38;5;241m=\u001b[39mtoken,\n\u001b[1;32m   (...)\u001b[0m\n\u001b[0;32m    204\u001b[0m         trust_remote_code\u001b[38;5;241m=\u001b[39mtrust_remote_code,\n\u001b[0;32m    205\u001b[0m     )\n",
      "File \u001b[1;32mc:\\ProgramData\\Anaconda3\\envs\\test_env\\Lib\\site-packages\\sentence_transformers\\SentenceTransformer.py:1233\u001b[0m, in \u001b[0;36mSentenceTransformer._load_sbert_model\u001b[1;34m(self, model_name_or_path, token, cache_folder, revision, trust_remote_code)\u001b[0m\n\u001b[0;32m   1231\u001b[0m     \u001b[38;5;28;01melse\u001b[39;00m:\n\u001b[0;32m   1232\u001b[0m         kwargs[\u001b[38;5;124m\"\u001b[39m\u001b[38;5;124mtokenizer_args\u001b[39m\u001b[38;5;124m\"\u001b[39m] \u001b[38;5;241m=\u001b[39m hub_kwargs\n\u001b[1;32m-> 1233\u001b[0m     module \u001b[38;5;241m=\u001b[39m \u001b[43mTransformer\u001b[49m\u001b[43m(\u001b[49m\u001b[43mmodel_name_or_path\u001b[49m\u001b[43m,\u001b[49m\u001b[43m \u001b[49m\u001b[43mcache_dir\u001b[49m\u001b[38;5;241;43m=\u001b[39;49m\u001b[43mcache_folder\u001b[49m\u001b[43m,\u001b[49m\u001b[43m \u001b[49m\u001b[38;5;241;43m*\u001b[39;49m\u001b[38;5;241;43m*\u001b[39;49m\u001b[43mkwargs\u001b[49m\u001b[43m)\u001b[49m\n\u001b[0;32m   1234\u001b[0m \u001b[38;5;28;01melse\u001b[39;00m:\n\u001b[0;32m   1235\u001b[0m     \u001b[38;5;66;03m# Normalize does not require any files to be loaded\u001b[39;00m\n\u001b[0;32m   1236\u001b[0m     \u001b[38;5;28;01mif\u001b[39;00m module_class \u001b[38;5;241m==\u001b[39m Normalize:\n",
      "File \u001b[1;32mc:\\ProgramData\\Anaconda3\\envs\\test_env\\Lib\\site-packages\\sentence_transformers\\models\\Transformer.py:36\u001b[0m, in \u001b[0;36mTransformer.__init__\u001b[1;34m(self, model_name_or_path, max_seq_length, model_args, cache_dir, tokenizer_args, do_lower_case, tokenizer_name_or_path)\u001b[0m\n\u001b[0;32m     33\u001b[0m \u001b[38;5;28mself\u001b[39m\u001b[38;5;241m.\u001b[39mdo_lower_case \u001b[38;5;241m=\u001b[39m do_lower_case\n\u001b[0;32m     35\u001b[0m config \u001b[38;5;241m=\u001b[39m AutoConfig\u001b[38;5;241m.\u001b[39mfrom_pretrained(model_name_or_path, \u001b[38;5;241m*\u001b[39m\u001b[38;5;241m*\u001b[39mmodel_args, cache_dir\u001b[38;5;241m=\u001b[39mcache_dir)\n\u001b[1;32m---> 36\u001b[0m \u001b[38;5;28;43mself\u001b[39;49m\u001b[38;5;241;43m.\u001b[39;49m\u001b[43m_load_model\u001b[49m\u001b[43m(\u001b[49m\u001b[43mmodel_name_or_path\u001b[49m\u001b[43m,\u001b[49m\u001b[43m \u001b[49m\u001b[43mconfig\u001b[49m\u001b[43m,\u001b[49m\u001b[43m \u001b[49m\u001b[43mcache_dir\u001b[49m\u001b[43m,\u001b[49m\u001b[43m \u001b[49m\u001b[38;5;241;43m*\u001b[39;49m\u001b[38;5;241;43m*\u001b[39;49m\u001b[43mmodel_args\u001b[49m\u001b[43m)\u001b[49m\n\u001b[0;32m     38\u001b[0m \u001b[38;5;28mself\u001b[39m\u001b[38;5;241m.\u001b[39mtokenizer \u001b[38;5;241m=\u001b[39m AutoTokenizer\u001b[38;5;241m.\u001b[39mfrom_pretrained(\n\u001b[0;32m     39\u001b[0m     tokenizer_name_or_path \u001b[38;5;28;01mif\u001b[39;00m tokenizer_name_or_path \u001b[38;5;129;01mis\u001b[39;00m \u001b[38;5;129;01mnot\u001b[39;00m \u001b[38;5;28;01mNone\u001b[39;00m \u001b[38;5;28;01melse\u001b[39;00m model_name_or_path,\n\u001b[0;32m     40\u001b[0m     cache_dir\u001b[38;5;241m=\u001b[39mcache_dir,\n\u001b[0;32m     41\u001b[0m     \u001b[38;5;241m*\u001b[39m\u001b[38;5;241m*\u001b[39mtokenizer_args,\n\u001b[0;32m     42\u001b[0m )\n\u001b[0;32m     44\u001b[0m \u001b[38;5;66;03m# No max_seq_length set. Try to infer from model\u001b[39;00m\n",
      "File \u001b[1;32mc:\\ProgramData\\Anaconda3\\envs\\test_env\\Lib\\site-packages\\sentence_transformers\\models\\Transformer.py:65\u001b[0m, in \u001b[0;36mTransformer._load_model\u001b[1;34m(self, model_name_or_path, config, cache_dir, **model_args)\u001b[0m\n\u001b[0;32m     63\u001b[0m     \u001b[38;5;28mself\u001b[39m\u001b[38;5;241m.\u001b[39m_load_mt5_model(model_name_or_path, config, cache_dir, \u001b[38;5;241m*\u001b[39m\u001b[38;5;241m*\u001b[39mmodel_args)\n\u001b[0;32m     64\u001b[0m \u001b[38;5;28;01melse\u001b[39;00m:\n\u001b[1;32m---> 65\u001b[0m     \u001b[38;5;28mself\u001b[39m\u001b[38;5;241m.\u001b[39mauto_model \u001b[38;5;241m=\u001b[39m \u001b[43mAutoModel\u001b[49m\u001b[38;5;241;43m.\u001b[39;49m\u001b[43mfrom_pretrained\u001b[49m\u001b[43m(\u001b[49m\n\u001b[0;32m     66\u001b[0m \u001b[43m        \u001b[49m\u001b[43mmodel_name_or_path\u001b[49m\u001b[43m,\u001b[49m\u001b[43m \u001b[49m\u001b[43mconfig\u001b[49m\u001b[38;5;241;43m=\u001b[39;49m\u001b[43mconfig\u001b[49m\u001b[43m,\u001b[49m\u001b[43m \u001b[49m\u001b[43mcache_dir\u001b[49m\u001b[38;5;241;43m=\u001b[39;49m\u001b[43mcache_dir\u001b[49m\u001b[43m,\u001b[49m\u001b[43m \u001b[49m\u001b[38;5;241;43m*\u001b[39;49m\u001b[38;5;241;43m*\u001b[39;49m\u001b[43mmodel_args\u001b[49m\n\u001b[0;32m     67\u001b[0m \u001b[43m    \u001b[49m\u001b[43m)\u001b[49m\n",
      "File \u001b[1;32mc:\\ProgramData\\Anaconda3\\envs\\test_env\\Lib\\site-packages\\transformers\\models\\auto\\auto_factory.py:563\u001b[0m, in \u001b[0;36m_BaseAutoModelClass.from_pretrained\u001b[1;34m(cls, pretrained_model_name_or_path, *model_args, **kwargs)\u001b[0m\n\u001b[0;32m    561\u001b[0m \u001b[38;5;28;01melif\u001b[39;00m \u001b[38;5;28mtype\u001b[39m(config) \u001b[38;5;129;01min\u001b[39;00m \u001b[38;5;28mcls\u001b[39m\u001b[38;5;241m.\u001b[39m_model_mapping\u001b[38;5;241m.\u001b[39mkeys():\n\u001b[0;32m    562\u001b[0m     model_class \u001b[38;5;241m=\u001b[39m _get_model_class(config, \u001b[38;5;28mcls\u001b[39m\u001b[38;5;241m.\u001b[39m_model_mapping)\n\u001b[1;32m--> 563\u001b[0m     \u001b[38;5;28;01mreturn\u001b[39;00m \u001b[43mmodel_class\u001b[49m\u001b[38;5;241;43m.\u001b[39;49m\u001b[43mfrom_pretrained\u001b[49m\u001b[43m(\u001b[49m\n\u001b[0;32m    564\u001b[0m \u001b[43m        \u001b[49m\u001b[43mpretrained_model_name_or_path\u001b[49m\u001b[43m,\u001b[49m\u001b[43m \u001b[49m\u001b[38;5;241;43m*\u001b[39;49m\u001b[43mmodel_args\u001b[49m\u001b[43m,\u001b[49m\u001b[43m \u001b[49m\u001b[43mconfig\u001b[49m\u001b[38;5;241;43m=\u001b[39;49m\u001b[43mconfig\u001b[49m\u001b[43m,\u001b[49m\u001b[43m \u001b[49m\u001b[38;5;241;43m*\u001b[39;49m\u001b[38;5;241;43m*\u001b[39;49m\u001b[43mhub_kwargs\u001b[49m\u001b[43m,\u001b[49m\u001b[43m \u001b[49m\u001b[38;5;241;43m*\u001b[39;49m\u001b[38;5;241;43m*\u001b[39;49m\u001b[43mkwargs\u001b[49m\n\u001b[0;32m    565\u001b[0m \u001b[43m    \u001b[49m\u001b[43m)\u001b[49m\n\u001b[0;32m    566\u001b[0m \u001b[38;5;28;01mraise\u001b[39;00m \u001b[38;5;167;01mValueError\u001b[39;00m(\n\u001b[0;32m    567\u001b[0m     \u001b[38;5;124mf\u001b[39m\u001b[38;5;124m\"\u001b[39m\u001b[38;5;124mUnrecognized configuration class \u001b[39m\u001b[38;5;132;01m{\u001b[39;00mconfig\u001b[38;5;241m.\u001b[39m\u001b[38;5;18m__class__\u001b[39m\u001b[38;5;132;01m}\u001b[39;00m\u001b[38;5;124m for this kind of AutoModel: \u001b[39m\u001b[38;5;132;01m{\u001b[39;00m\u001b[38;5;28mcls\u001b[39m\u001b[38;5;241m.\u001b[39m\u001b[38;5;18m__name__\u001b[39m\u001b[38;5;132;01m}\u001b[39;00m\u001b[38;5;124m.\u001b[39m\u001b[38;5;130;01m\\n\u001b[39;00m\u001b[38;5;124m\"\u001b[39m\n\u001b[0;32m    568\u001b[0m     \u001b[38;5;124mf\u001b[39m\u001b[38;5;124m\"\u001b[39m\u001b[38;5;124mModel type should be one of \u001b[39m\u001b[38;5;132;01m{\u001b[39;00m\u001b[38;5;124m'\u001b[39m\u001b[38;5;124m, \u001b[39m\u001b[38;5;124m'\u001b[39m\u001b[38;5;241m.\u001b[39mjoin(c\u001b[38;5;241m.\u001b[39m\u001b[38;5;18m__name__\u001b[39m\u001b[38;5;250m \u001b[39m\u001b[38;5;28;01mfor\u001b[39;00m\u001b[38;5;250m \u001b[39mc\u001b[38;5;250m \u001b[39m\u001b[38;5;129;01min\u001b[39;00m\u001b[38;5;250m \u001b[39m\u001b[38;5;28mcls\u001b[39m\u001b[38;5;241m.\u001b[39m_model_mapping\u001b[38;5;241m.\u001b[39mkeys())\u001b[38;5;132;01m}\u001b[39;00m\u001b[38;5;124m.\u001b[39m\u001b[38;5;124m\"\u001b[39m\n\u001b[0;32m    569\u001b[0m )\n",
      "File \u001b[1;32mc:\\ProgramData\\Anaconda3\\envs\\test_env\\Lib\\site-packages\\transformers\\modeling_utils.py:3531\u001b[0m, in \u001b[0;36mPreTrainedModel.from_pretrained\u001b[1;34m(cls, pretrained_model_name_or_path, config, cache_dir, ignore_mismatched_sizes, force_download, local_files_only, token, revision, use_safetensors, *model_args, **kwargs)\u001b[0m\n\u001b[0;32m   3522\u001b[0m     \u001b[38;5;28;01mif\u001b[39;00m dtype_orig \u001b[38;5;129;01mis\u001b[39;00m \u001b[38;5;129;01mnot\u001b[39;00m \u001b[38;5;28;01mNone\u001b[39;00m:\n\u001b[0;32m   3523\u001b[0m         torch\u001b[38;5;241m.\u001b[39mset_default_dtype(dtype_orig)\n\u001b[0;32m   3524\u001b[0m     (\n\u001b[0;32m   3525\u001b[0m         model,\n\u001b[0;32m   3526\u001b[0m         missing_keys,\n\u001b[0;32m   3527\u001b[0m         unexpected_keys,\n\u001b[0;32m   3528\u001b[0m         mismatched_keys,\n\u001b[0;32m   3529\u001b[0m         offload_index,\n\u001b[0;32m   3530\u001b[0m         error_msgs,\n\u001b[1;32m-> 3531\u001b[0m     ) \u001b[38;5;241m=\u001b[39m \u001b[38;5;28;43mcls\u001b[39;49m\u001b[38;5;241;43m.\u001b[39;49m\u001b[43m_load_pretrained_model\u001b[49m\u001b[43m(\u001b[49m\n\u001b[0;32m   3532\u001b[0m \u001b[43m        \u001b[49m\u001b[43mmodel\u001b[49m\u001b[43m,\u001b[49m\n\u001b[0;32m   3533\u001b[0m \u001b[43m        \u001b[49m\u001b[43mstate_dict\u001b[49m\u001b[43m,\u001b[49m\n\u001b[0;32m   3534\u001b[0m \u001b[43m        \u001b[49m\u001b[43mloaded_state_dict_keys\u001b[49m\u001b[43m,\u001b[49m\u001b[43m  \u001b[49m\u001b[38;5;66;43;03m# XXX: rename?\u001b[39;49;00m\n\u001b[0;32m   3535\u001b[0m \u001b[43m        \u001b[49m\u001b[43mresolved_archive_file\u001b[49m\u001b[43m,\u001b[49m\n\u001b[0;32m   3536\u001b[0m \u001b[43m        \u001b[49m\u001b[43mpretrained_model_name_or_path\u001b[49m\u001b[43m,\u001b[49m\n\u001b[0;32m   3537\u001b[0m \u001b[43m        \u001b[49m\u001b[43mignore_mismatched_sizes\u001b[49m\u001b[38;5;241;43m=\u001b[39;49m\u001b[43mignore_mismatched_sizes\u001b[49m\u001b[43m,\u001b[49m\n\u001b[0;32m   3538\u001b[0m \u001b[43m        \u001b[49m\u001b[43msharded_metadata\u001b[49m\u001b[38;5;241;43m=\u001b[39;49m\u001b[43msharded_metadata\u001b[49m\u001b[43m,\u001b[49m\n\u001b[0;32m   3539\u001b[0m \u001b[43m        \u001b[49m\u001b[43m_fast_init\u001b[49m\u001b[38;5;241;43m=\u001b[39;49m\u001b[43m_fast_init\u001b[49m\u001b[43m,\u001b[49m\n\u001b[0;32m   3540\u001b[0m \u001b[43m        \u001b[49m\u001b[43mlow_cpu_mem_usage\u001b[49m\u001b[38;5;241;43m=\u001b[39;49m\u001b[43mlow_cpu_mem_usage\u001b[49m\u001b[43m,\u001b[49m\n\u001b[0;32m   3541\u001b[0m \u001b[43m        \u001b[49m\u001b[43mdevice_map\u001b[49m\u001b[38;5;241;43m=\u001b[39;49m\u001b[43mdevice_map\u001b[49m\u001b[43m,\u001b[49m\n\u001b[0;32m   3542\u001b[0m \u001b[43m        \u001b[49m\u001b[43moffload_folder\u001b[49m\u001b[38;5;241;43m=\u001b[39;49m\u001b[43moffload_folder\u001b[49m\u001b[43m,\u001b[49m\n\u001b[0;32m   3543\u001b[0m \u001b[43m        \u001b[49m\u001b[43moffload_state_dict\u001b[49m\u001b[38;5;241;43m=\u001b[39;49m\u001b[43moffload_state_dict\u001b[49m\u001b[43m,\u001b[49m\n\u001b[0;32m   3544\u001b[0m \u001b[43m        \u001b[49m\u001b[43mdtype\u001b[49m\u001b[38;5;241;43m=\u001b[39;49m\u001b[43mtorch_dtype\u001b[49m\u001b[43m,\u001b[49m\n\u001b[0;32m   3545\u001b[0m \u001b[43m        \u001b[49m\u001b[43mhf_quantizer\u001b[49m\u001b[38;5;241;43m=\u001b[39;49m\u001b[43mhf_quantizer\u001b[49m\u001b[43m,\u001b[49m\n\u001b[0;32m   3546\u001b[0m \u001b[43m        \u001b[49m\u001b[43mkeep_in_fp32_modules\u001b[49m\u001b[38;5;241;43m=\u001b[39;49m\u001b[43mkeep_in_fp32_modules\u001b[49m\u001b[43m,\u001b[49m\n\u001b[0;32m   3547\u001b[0m \u001b[43m    \u001b[49m\u001b[43m)\u001b[49m\n\u001b[0;32m   3549\u001b[0m \u001b[38;5;66;03m# make sure token embedding weights are still tied if needed\u001b[39;00m\n\u001b[0;32m   3550\u001b[0m model\u001b[38;5;241m.\u001b[39mtie_weights()\n",
      "File \u001b[1;32mc:\\ProgramData\\Anaconda3\\envs\\test_env\\Lib\\site-packages\\transformers\\modeling_utils.py:3904\u001b[0m, in \u001b[0;36mPreTrainedModel._load_pretrained_model\u001b[1;34m(cls, model, state_dict, loaded_keys, resolved_archive_file, pretrained_model_name_or_path, ignore_mismatched_sizes, sharded_metadata, _fast_init, low_cpu_mem_usage, device_map, offload_folder, offload_state_dict, dtype, hf_quantizer, keep_in_fp32_modules)\u001b[0m\n\u001b[0;32m   3894\u001b[0m \u001b[38;5;28;01mif\u001b[39;00m state_dict \u001b[38;5;129;01mis\u001b[39;00m \u001b[38;5;129;01mnot\u001b[39;00m \u001b[38;5;28;01mNone\u001b[39;00m:\n\u001b[0;32m   3895\u001b[0m     \u001b[38;5;66;03m# Whole checkpoint\u001b[39;00m\n\u001b[0;32m   3896\u001b[0m     mismatched_keys \u001b[38;5;241m=\u001b[39m _find_mismatched_keys(\n\u001b[0;32m   3897\u001b[0m         state_dict,\n\u001b[0;32m   3898\u001b[0m         model_state_dict,\n\u001b[1;32m   (...)\u001b[0m\n\u001b[0;32m   3902\u001b[0m         ignore_mismatched_sizes,\n\u001b[0;32m   3903\u001b[0m     )\n\u001b[1;32m-> 3904\u001b[0m     error_msgs \u001b[38;5;241m=\u001b[39m \u001b[43m_load_state_dict_into_model\u001b[49m\u001b[43m(\u001b[49m\u001b[43mmodel_to_load\u001b[49m\u001b[43m,\u001b[49m\u001b[43m \u001b[49m\u001b[43mstate_dict\u001b[49m\u001b[43m,\u001b[49m\u001b[43m \u001b[49m\u001b[43mstart_prefix\u001b[49m\u001b[43m)\u001b[49m\n\u001b[0;32m   3905\u001b[0m     offload_index \u001b[38;5;241m=\u001b[39m \u001b[38;5;28;01mNone\u001b[39;00m\n\u001b[0;32m   3906\u001b[0m \u001b[38;5;28;01melse\u001b[39;00m:\n\u001b[0;32m   3907\u001b[0m     \u001b[38;5;66;03m# Sharded checkpoint or whole but low_cpu_mem_usage==True\u001b[39;00m\n\u001b[0;32m   3908\u001b[0m \n\u001b[0;32m   3909\u001b[0m     \u001b[38;5;66;03m# This should always be a list but, just to be sure.\u001b[39;00m\n",
      "File \u001b[1;32mc:\\ProgramData\\Anaconda3\\envs\\test_env\\Lib\\site-packages\\transformers\\modeling_utils.py:628\u001b[0m, in \u001b[0;36m_load_state_dict_into_model\u001b[1;34m(model_to_load, state_dict, start_prefix)\u001b[0m\n\u001b[0;32m    625\u001b[0m         \u001b[38;5;28;01mif\u001b[39;00m child \u001b[38;5;129;01mis\u001b[39;00m \u001b[38;5;129;01mnot\u001b[39;00m \u001b[38;5;28;01mNone\u001b[39;00m:\n\u001b[0;32m    626\u001b[0m             load(child, state_dict, prefix \u001b[38;5;241m+\u001b[39m name \u001b[38;5;241m+\u001b[39m \u001b[38;5;124m\"\u001b[39m\u001b[38;5;124m.\u001b[39m\u001b[38;5;124m\"\u001b[39m)\n\u001b[1;32m--> 628\u001b[0m \u001b[43mload\u001b[49m\u001b[43m(\u001b[49m\u001b[43mmodel_to_load\u001b[49m\u001b[43m,\u001b[49m\u001b[43m \u001b[49m\u001b[43mstate_dict\u001b[49m\u001b[43m,\u001b[49m\u001b[43m \u001b[49m\u001b[43mprefix\u001b[49m\u001b[38;5;241;43m=\u001b[39;49m\u001b[43mstart_prefix\u001b[49m\u001b[43m)\u001b[49m\n\u001b[0;32m    629\u001b[0m \u001b[38;5;66;03m# Delete `state_dict` so it could be collected by GC earlier. Note that `state_dict` is a copy of the argument, so\u001b[39;00m\n\u001b[0;32m    630\u001b[0m \u001b[38;5;66;03m# it's safe to delete it.\u001b[39;00m\n\u001b[0;32m    631\u001b[0m \u001b[38;5;28;01mdel\u001b[39;00m state_dict\n",
      "File \u001b[1;32mc:\\ProgramData\\Anaconda3\\envs\\test_env\\Lib\\site-packages\\transformers\\modeling_utils.py:626\u001b[0m, in \u001b[0;36m_load_state_dict_into_model.<locals>.load\u001b[1;34m(module, state_dict, prefix)\u001b[0m\n\u001b[0;32m    624\u001b[0m \u001b[38;5;28;01mfor\u001b[39;00m name, child \u001b[38;5;129;01min\u001b[39;00m module\u001b[38;5;241m.\u001b[39m_modules\u001b[38;5;241m.\u001b[39mitems():\n\u001b[0;32m    625\u001b[0m     \u001b[38;5;28;01mif\u001b[39;00m child \u001b[38;5;129;01mis\u001b[39;00m \u001b[38;5;129;01mnot\u001b[39;00m \u001b[38;5;28;01mNone\u001b[39;00m:\n\u001b[1;32m--> 626\u001b[0m         \u001b[43mload\u001b[49m\u001b[43m(\u001b[49m\u001b[43mchild\u001b[49m\u001b[43m,\u001b[49m\u001b[43m \u001b[49m\u001b[43mstate_dict\u001b[49m\u001b[43m,\u001b[49m\u001b[43m \u001b[49m\u001b[43mprefix\u001b[49m\u001b[43m \u001b[49m\u001b[38;5;241;43m+\u001b[39;49m\u001b[43m \u001b[49m\u001b[43mname\u001b[49m\u001b[43m \u001b[49m\u001b[38;5;241;43m+\u001b[39;49m\u001b[43m \u001b[49m\u001b[38;5;124;43m\"\u001b[39;49m\u001b[38;5;124;43m.\u001b[39;49m\u001b[38;5;124;43m\"\u001b[39;49m\u001b[43m)\u001b[49m\n",
      "File \u001b[1;32mc:\\ProgramData\\Anaconda3\\envs\\test_env\\Lib\\site-packages\\transformers\\modeling_utils.py:626\u001b[0m, in \u001b[0;36m_load_state_dict_into_model.<locals>.load\u001b[1;34m(module, state_dict, prefix)\u001b[0m\n\u001b[0;32m    624\u001b[0m \u001b[38;5;28;01mfor\u001b[39;00m name, child \u001b[38;5;129;01min\u001b[39;00m module\u001b[38;5;241m.\u001b[39m_modules\u001b[38;5;241m.\u001b[39mitems():\n\u001b[0;32m    625\u001b[0m     \u001b[38;5;28;01mif\u001b[39;00m child \u001b[38;5;129;01mis\u001b[39;00m \u001b[38;5;129;01mnot\u001b[39;00m \u001b[38;5;28;01mNone\u001b[39;00m:\n\u001b[1;32m--> 626\u001b[0m         \u001b[43mload\u001b[49m\u001b[43m(\u001b[49m\u001b[43mchild\u001b[49m\u001b[43m,\u001b[49m\u001b[43m \u001b[49m\u001b[43mstate_dict\u001b[49m\u001b[43m,\u001b[49m\u001b[43m \u001b[49m\u001b[43mprefix\u001b[49m\u001b[43m \u001b[49m\u001b[38;5;241;43m+\u001b[39;49m\u001b[43m \u001b[49m\u001b[43mname\u001b[49m\u001b[43m \u001b[49m\u001b[38;5;241;43m+\u001b[39;49m\u001b[43m \u001b[49m\u001b[38;5;124;43m\"\u001b[39;49m\u001b[38;5;124;43m.\u001b[39;49m\u001b[38;5;124;43m\"\u001b[39;49m\u001b[43m)\u001b[49m\n",
      "    \u001b[1;31m[... skipping similar frames: _load_state_dict_into_model.<locals>.load at line 626 (2 times)]\u001b[0m\n",
      "File \u001b[1;32mc:\\ProgramData\\Anaconda3\\envs\\test_env\\Lib\\site-packages\\transformers\\modeling_utils.py:626\u001b[0m, in \u001b[0;36m_load_state_dict_into_model.<locals>.load\u001b[1;34m(module, state_dict, prefix)\u001b[0m\n\u001b[0;32m    624\u001b[0m \u001b[38;5;28;01mfor\u001b[39;00m name, child \u001b[38;5;129;01min\u001b[39;00m module\u001b[38;5;241m.\u001b[39m_modules\u001b[38;5;241m.\u001b[39mitems():\n\u001b[0;32m    625\u001b[0m     \u001b[38;5;28;01mif\u001b[39;00m child \u001b[38;5;129;01mis\u001b[39;00m \u001b[38;5;129;01mnot\u001b[39;00m \u001b[38;5;28;01mNone\u001b[39;00m:\n\u001b[1;32m--> 626\u001b[0m         \u001b[43mload\u001b[49m\u001b[43m(\u001b[49m\u001b[43mchild\u001b[49m\u001b[43m,\u001b[49m\u001b[43m \u001b[49m\u001b[43mstate_dict\u001b[49m\u001b[43m,\u001b[49m\u001b[43m \u001b[49m\u001b[43mprefix\u001b[49m\u001b[43m \u001b[49m\u001b[38;5;241;43m+\u001b[39;49m\u001b[43m \u001b[49m\u001b[43mname\u001b[49m\u001b[43m \u001b[49m\u001b[38;5;241;43m+\u001b[39;49m\u001b[43m \u001b[49m\u001b[38;5;124;43m\"\u001b[39;49m\u001b[38;5;124;43m.\u001b[39;49m\u001b[38;5;124;43m\"\u001b[39;49m\u001b[43m)\u001b[49m\n",
      "File \u001b[1;32mc:\\ProgramData\\Anaconda3\\envs\\test_env\\Lib\\site-packages\\transformers\\modeling_utils.py:622\u001b[0m, in \u001b[0;36m_load_state_dict_into_model.<locals>.load\u001b[1;34m(module, state_dict, prefix)\u001b[0m\n\u001b[0;32m    620\u001b[0m                     module\u001b[38;5;241m.\u001b[39m_load_from_state_dict(\u001b[38;5;241m*\u001b[39margs)\n\u001b[0;32m    621\u001b[0m     \u001b[38;5;28;01melse\u001b[39;00m:\n\u001b[1;32m--> 622\u001b[0m         \u001b[43mmodule\u001b[49m\u001b[38;5;241;43m.\u001b[39;49m\u001b[43m_load_from_state_dict\u001b[49m\u001b[43m(\u001b[49m\u001b[38;5;241;43m*\u001b[39;49m\u001b[43margs\u001b[49m\u001b[43m)\u001b[49m\n\u001b[0;32m    624\u001b[0m \u001b[38;5;28;01mfor\u001b[39;00m name, child \u001b[38;5;129;01min\u001b[39;00m module\u001b[38;5;241m.\u001b[39m_modules\u001b[38;5;241m.\u001b[39mitems():\n\u001b[0;32m    625\u001b[0m     \u001b[38;5;28;01mif\u001b[39;00m child \u001b[38;5;129;01mis\u001b[39;00m \u001b[38;5;129;01mnot\u001b[39;00m \u001b[38;5;28;01mNone\u001b[39;00m:\n",
      "File \u001b[1;32mc:\\ProgramData\\Anaconda3\\envs\\test_env\\Lib\\site-packages\\torch\\nn\\modules\\module.py:2040\u001b[0m, in \u001b[0;36mModule._load_from_state_dict\u001b[1;34m(self, state_dict, prefix, local_metadata, strict, missing_keys, unexpected_keys, error_msgs)\u001b[0m\n\u001b[0;32m   2038\u001b[0m                 \u001b[38;5;28msetattr\u001b[39m(\u001b[38;5;28mself\u001b[39m, name, input_param)\n\u001b[0;32m   2039\u001b[0m         \u001b[38;5;28;01melse\u001b[39;00m:\n\u001b[1;32m-> 2040\u001b[0m             \u001b[43mparam\u001b[49m\u001b[38;5;241;43m.\u001b[39;49m\u001b[43mcopy_\u001b[49m\u001b[43m(\u001b[49m\u001b[43minput_param\u001b[49m\u001b[43m)\u001b[49m\n\u001b[0;32m   2041\u001b[0m \u001b[38;5;28;01mexcept\u001b[39;00m \u001b[38;5;167;01mException\u001b[39;00m \u001b[38;5;28;01mas\u001b[39;00m ex:\n\u001b[0;32m   2042\u001b[0m     error_msgs\u001b[38;5;241m.\u001b[39mappend(\u001b[38;5;124mf\u001b[39m\u001b[38;5;124m'\u001b[39m\u001b[38;5;124mWhile copying the parameter named \u001b[39m\u001b[38;5;124m\"\u001b[39m\u001b[38;5;132;01m{\u001b[39;00mkey\u001b[38;5;132;01m}\u001b[39;00m\u001b[38;5;124m\"\u001b[39m\u001b[38;5;124m, \u001b[39m\u001b[38;5;124m'\u001b[39m\n\u001b[0;32m   2043\u001b[0m                       \u001b[38;5;124mf\u001b[39m\u001b[38;5;124m'\u001b[39m\u001b[38;5;124mwhose dimensions in the model are \u001b[39m\u001b[38;5;132;01m{\u001b[39;00mparam\u001b[38;5;241m.\u001b[39msize()\u001b[38;5;132;01m}\u001b[39;00m\u001b[38;5;124m and \u001b[39m\u001b[38;5;124m'\u001b[39m\n\u001b[0;32m   2044\u001b[0m                       \u001b[38;5;124mf\u001b[39m\u001b[38;5;124m'\u001b[39m\u001b[38;5;124mwhose dimensions in the checkpoint are \u001b[39m\u001b[38;5;132;01m{\u001b[39;00minput_param\u001b[38;5;241m.\u001b[39msize()\u001b[38;5;132;01m}\u001b[39;00m\u001b[38;5;124m, \u001b[39m\u001b[38;5;124m'\u001b[39m\n\u001b[0;32m   2045\u001b[0m                       \u001b[38;5;124mf\u001b[39m\u001b[38;5;124m'\u001b[39m\u001b[38;5;124man exception occurred : \u001b[39m\u001b[38;5;132;01m{\u001b[39;00mex\u001b[38;5;241m.\u001b[39margs\u001b[38;5;132;01m}\u001b[39;00m\u001b[38;5;124m.\u001b[39m\u001b[38;5;124m'\u001b[39m\n\u001b[0;32m   2046\u001b[0m                       )\n",
      "\u001b[1;31mKeyboardInterrupt\u001b[0m: "
     ]
    }
   ],
   "source": [
    "import warnings\n",
    "import pandas as pd\n",
    "import numpy as np\n",
    "from bertopic import BERTopic\n",
    "from sentence_transformers import SentenceTransformer\n",
    "from sklearn.cluster import KMeans\n",
    "\n",
    "# Suppress warnings\n",
    "warnings.filterwarnings(\"ignore\")\n",
    "\n",
    "# Read the data from CSV\n",
    "dfx = pd.read_csv('cleaned_eco.csv')\n",
    "dfx['pdata_clean'] = dfx['pdata_clean'].astype(str)\n",
    "\n",
    "# Drop unnecessary columns\n",
    "dfx1 = dfx.drop([\"page_data\",\"summary\",\"page_number\",\"file_name\",\"title\"], axis=1)\n",
    "#dfx1 = dfx1.dropna()\n",
    "\n",
    "# Convert DataFrame to list of strings\n",
    "docs = dfx1['pdata_clean'].values.tolist()\n",
    "\n",
    "dfx1[\"length\"] = dfx1[\"pdata_clean\"].apply(lambda x : len(x.split()))\n",
    "\n",
    "model = BERTopic(verbose=True,embedding_model='paraphrase-MiniLM-L3-v2', min_topic_size=7)\n",
    "topics, _ = model.fit_transform(dfx1.pdata_clean)\n"
   ]
  },
  {
   "cell_type": "code",
   "execution_count": null,
   "metadata": {},
   "outputs": [
    {
     "data": {
      "text/html": [
       "<div>\n",
       "<style scoped>\n",
       "    .dataframe tbody tr th:only-of-type {\n",
       "        vertical-align: middle;\n",
       "    }\n",
       "\n",
       "    .dataframe tbody tr th {\n",
       "        vertical-align: top;\n",
       "    }\n",
       "\n",
       "    .dataframe thead th {\n",
       "        text-align: right;\n",
       "    }\n",
       "</style>\n",
       "<table border=\"1\" class=\"dataframe\">\n",
       "  <thead>\n",
       "    <tr style=\"text-align: right;\">\n",
       "      <th></th>\n",
       "      <th>Topic</th>\n",
       "      <th>Count</th>\n",
       "      <th>Name</th>\n",
       "      <th>Representation</th>\n",
       "      <th>Representative_Docs</th>\n",
       "    </tr>\n",
       "  </thead>\n",
       "  <tbody>\n",
       "    <tr>\n",
       "      <th>0</th>\n",
       "      <td>-1</td>\n",
       "      <td>161</td>\n",
       "      <td>-1_investment_rate_cost_it</td>\n",
       "      <td>[investment, rate, cost, it, to, die, online, ...</td>\n",
       "      <td>[study that all study for so suboth eq  summan...</td>\n",
       "    </tr>\n",
       "    <tr>\n",
       "      <th>1</th>\n",
       "      <td>0</td>\n",
       "      <td>52</td>\n",
       "      <td>0_journal_economic_economics_groh</td>\n",
       "      <td>[journal, economic, economics, groh, og, lu, i...</td>\n",
       "      <td>[internatnal journal standardizatresearvolume ...</td>\n",
       "    </tr>\n",
       "    <tr>\n",
       "      <th>2</th>\n",
       "      <td>1</td>\n",
       "      <td>51</td>\n",
       "      <td>1_aci_ci_eto_la</td>\n",
       "      <td>[aci, ci, eto, la, vida, ec, cci, cim, os, iform]</td>\n",
       "      <td>[antecent la inova ci plant meto problem inves...</td>\n",
       "    </tr>\n",
       "    <tr>\n",
       "      <th>3</th>\n",
       "      <td>2</td>\n",
       "      <td>38</td>\n",
       "      <td>2_municips_ark_months_map</td>\n",
       "      <td>[municips, ark, months, map, municip, jo, ao, ...</td>\n",
       "      <td>[map a municips franci capita ene as gla uci l...</td>\n",
       "    </tr>\n",
       "    <tr>\n",
       "      <th>4</th>\n",
       "      <td>3</td>\n",
       "      <td>37</td>\n",
       "      <td>3_relatns_leotie_to_px</td>\n",
       "      <td>[relatns, leotie, to, px, py, ined, trefore, a...</td>\n",
       "      <td>[ui ci precise ined  to   ui ci  as seller ui ...</td>\n",
       "    </tr>\n",
       "    <tr>\n",
       "      <th>5</th>\n",
       "      <td>4</td>\n",
       "      <td>35</td>\n",
       "      <td>4_maoeconomic_business_economic_moody</td>\n",
       "      <td>[maoeconomic, business, economic, moody, nance...</td>\n",
       "      <td>[ how mao transans sibe evolutfluuatnancial va...</td>\n",
       "    </tr>\n",
       "    <tr>\n",
       "      <th>6</th>\n",
       "      <td>5</td>\n",
       "      <td>33</td>\n",
       "      <td>5_wcw_next_abstra_aive</td>\n",
       "      <td>[wcw, next, abstra, aive, velopi, notice, at, ...</td>\n",
       "      <td>[state velopi stl transitpublic velopi realizi...</td>\n",
       "    </tr>\n",
       "    <tr>\n",
       "      <th>7</th>\n",
       "      <td>6</td>\n",
       "      <td>30</td>\n",
       "      <td>6_intellence_articial_fall_wdle</td>\n",
       "      <td>[intellence, articial, fall, wdle, key, hubs, ...</td>\n",
       "      <td>[e e articial intellence fall control,  aug pe...</td>\n",
       "    </tr>\n",
       "    <tr>\n",
       "      <th>8</th>\n",
       "      <td>7</td>\n",
       "      <td>27</td>\n",
       "      <td>7_coalab_coameasurement_worki_pa</td>\n",
       "      <td>[coalab, coameasurement, worki, pa, new, north...</td>\n",
       "      <td>[coameasurement new coalab worki pa no table m...</td>\n",
       "    </tr>\n",
       "    <tr>\n",
       "      <th>9</th>\n",
       "      <td>8</td>\n",
       "      <td>25</td>\n",
       "      <td>8_table_dference_distributn_tests</td>\n",
       "      <td>[table, dference, distributn, tests, standardi...</td>\n",
       "      <td>[table mtable standardized table distributn, t...</td>\n",
       "    </tr>\n",
       "  </tbody>\n",
       "</table>\n",
       "</div>"
      ],
      "text/plain": [
       "   Topic  Count                                   Name  \\\n",
       "0     -1    161             -1_investment_rate_cost_it   \n",
       "1      0     52      0_journal_economic_economics_groh   \n",
       "2      1     51                        1_aci_ci_eto_la   \n",
       "3      2     38              2_municips_ark_months_map   \n",
       "4      3     37                 3_relatns_leotie_to_px   \n",
       "5      4     35  4_maoeconomic_business_economic_moody   \n",
       "6      5     33                 5_wcw_next_abstra_aive   \n",
       "7      6     30        6_intellence_articial_fall_wdle   \n",
       "8      7     27       7_coalab_coameasurement_worki_pa   \n",
       "9      8     25      8_table_dference_distributn_tests   \n",
       "\n",
       "                                      Representation  \\\n",
       "0  [investment, rate, cost, it, to, die, online, ...   \n",
       "1  [journal, economic, economics, groh, og, lu, i...   \n",
       "2  [aci, ci, eto, la, vida, ec, cci, cim, os, iform]   \n",
       "3  [municips, ark, months, map, municip, jo, ao, ...   \n",
       "4  [relatns, leotie, to, px, py, ined, trefore, a...   \n",
       "5  [maoeconomic, business, economic, moody, nance...   \n",
       "6  [wcw, next, abstra, aive, velopi, notice, at, ...   \n",
       "7  [intellence, articial, fall, wdle, key, hubs, ...   \n",
       "8  [coalab, coameasurement, worki, pa, new, north...   \n",
       "9  [table, dference, distributn, tests, standardi...   \n",
       "\n",
       "                                 Representative_Docs  \n",
       "0  [study that all study for so suboth eq  summan...  \n",
       "1  [internatnal journal standardizatresearvolume ...  \n",
       "2  [antecent la inova ci plant meto problem inves...  \n",
       "3  [map a municips franci capita ene as gla uci l...  \n",
       "4  [ui ci precise ined  to   ui ci  as seller ui ...  \n",
       "5  [ how mao transans sibe evolutfluuatnancial va...  \n",
       "6  [state velopi stl transitpublic velopi realizi...  \n",
       "7  [e e articial intellence fall control,  aug pe...  \n",
       "8  [coameasurement new coalab worki pa no table m...  \n",
       "9  [table mtable standardized table distributn, t...  "
      ]
     },
     "execution_count": 11,
     "metadata": {},
     "output_type": "execute_result"
    }
   ],
   "source": [
    "#top 10 topics\n",
    "model.get_topic_info().head(10)"
   ]
  },
  {
   "cell_type": "code",
   "execution_count": null,
   "metadata": {},
   "outputs": [
    {
     "data": {
      "application/vnd.plotly.v1+json": {
       "config": {
        "plotlyServerURL": "https://plot.ly"
       },
       "data": [
        {
         "marker": {
          "color": "#D55E00"
         },
         "orientation": "h",
         "type": "bar",
         "x": [
          0.024038209825969353,
          0.03271912903768161,
          0.034279309800342675,
          0.04608619021545775,
          0.05565469248636824
         ],
         "xaxis": "x",
         "y": [
          "og  ",
          "groh  ",
          "economics  ",
          "economic  ",
          "journal  "
         ],
         "yaxis": "y"
        },
        {
         "marker": {
          "color": "#0072B2"
         },
         "orientation": "h",
         "type": "bar",
         "x": [
          0.03710129668473414,
          0.037642571489889934,
          0.04492901941983434,
          0.04505852982987861,
          0.04859604167025893
         ],
         "xaxis": "x2",
         "y": [
          "vida  ",
          "la  ",
          "eto  ",
          "ci  ",
          "aci  "
         ],
         "yaxis": "y2"
        },
        {
         "marker": {
          "color": "#CC79A7"
         },
         "orientation": "h",
         "type": "bar",
         "x": [
          0.08255552581399479,
          0.10099465430897786,
          0.10735592689518768,
          0.11431433987022088,
          0.12491444085584102
         ],
         "xaxis": "x3",
         "y": [
          "municip  ",
          "map  ",
          "months  ",
          "ark  ",
          "municips  "
         ],
         "yaxis": "y3"
        },
        {
         "marker": {
          "color": "#E69F00"
         },
         "orientation": "h",
         "type": "bar",
         "x": [
          0.06892952008261874,
          0.06892952008261874,
          0.08110682648020952,
          0.09648669883860232,
          0.10753062663151841
         ],
         "xaxis": "x4",
         "y": [
          "py  ",
          "px  ",
          "to  ",
          "leotie  ",
          "relatns  "
         ],
         "yaxis": "y4"
        },
        {
         "marker": {
          "color": "#56B4E9"
         },
         "orientation": "h",
         "type": "bar",
         "x": [
          0.03503869624618879,
          0.03594628896295847,
          0.03787894643443247,
          0.04477166742568568,
          0.046474383764153096
         ],
         "xaxis": "x5",
         "y": [
          "nance  ",
          "moody  ",
          "economic  ",
          "business  ",
          "maoeconomic  "
         ],
         "yaxis": "y5"
        },
        {
         "marker": {
          "color": "#009E73"
         },
         "orientation": "h",
         "type": "bar",
         "x": [
          0.08046575184175053,
          0.09483836544527142,
          0.12471250344023385,
          0.12594118898985354,
          0.23284066232632628
         ],
         "xaxis": "x6",
         "y": [
          "velopi  ",
          "aive  ",
          "abstra  ",
          "next  ",
          "wcw  "
         ],
         "yaxis": "y6"
        },
        {
         "marker": {
          "color": "#F0E442"
         },
         "orientation": "h",
         "type": "bar",
         "x": [
          0.060194253503789756,
          0.06350419616669323,
          0.12662691336479825,
          0.15540233417348054,
          0.1557626816823991
         ],
         "xaxis": "x7",
         "y": [
          "key  ",
          "wdle  ",
          "fall  ",
          "articial  ",
          "intellence  "
         ],
         "yaxis": "y7"
        },
        {
         "marker": {
          "color": "#D55E00"
         },
         "orientation": "h",
         "type": "bar",
         "x": [
          0.07589884856836783,
          0.08781455132212895,
          0.08891191145023832,
          0.09072575461014663,
          0.09072575461014663
         ],
         "xaxis": "x8",
         "y": [
          "new  ",
          "pa  ",
          "worki  ",
          "coameasurement  ",
          "coalab  "
         ],
         "yaxis": "y8"
        },
        {
         "marker": {
          "color": "#0072B2"
         },
         "orientation": "h",
         "type": "bar",
         "x": [
          0.0977040432148325,
          0.0977040432148325,
          0.10473454270912583,
          0.14655606482224873,
          0.5238998702816878
         ],
         "xaxis": "x9",
         "y": [
          "standardized  ",
          "tests  ",
          "distributn  ",
          "dference  ",
          "table  "
         ],
         "yaxis": "y9"
        }
       ],
       "layout": {
        "annotations": [
         {
          "font": {
           "size": 16
          },
          "showarrow": false,
          "text": "Topic 0",
          "x": 0.0875,
          "xanchor": "center",
          "xref": "paper",
          "y": 1,
          "yanchor": "bottom",
          "yref": "paper"
         },
         {
          "font": {
           "size": 16
          },
          "showarrow": false,
          "text": "Topic 1",
          "x": 0.36250000000000004,
          "xanchor": "center",
          "xref": "paper",
          "y": 1,
          "yanchor": "bottom",
          "yref": "paper"
         },
         {
          "font": {
           "size": 16
          },
          "showarrow": false,
          "text": "Topic 2",
          "x": 0.6375000000000001,
          "xanchor": "center",
          "xref": "paper",
          "y": 1,
          "yanchor": "bottom",
          "yref": "paper"
         },
         {
          "font": {
           "size": 16
          },
          "showarrow": false,
          "text": "Topic 3",
          "x": 0.9125,
          "xanchor": "center",
          "xref": "paper",
          "y": 1,
          "yanchor": "bottom",
          "yref": "paper"
         },
         {
          "font": {
           "size": 16
          },
          "showarrow": false,
          "text": "Topic 4",
          "x": 0.0875,
          "xanchor": "center",
          "xref": "paper",
          "y": 0.6222222222222222,
          "yanchor": "bottom",
          "yref": "paper"
         },
         {
          "font": {
           "size": 16
          },
          "showarrow": false,
          "text": "Topic 5",
          "x": 0.36250000000000004,
          "xanchor": "center",
          "xref": "paper",
          "y": 0.6222222222222222,
          "yanchor": "bottom",
          "yref": "paper"
         },
         {
          "font": {
           "size": 16
          },
          "showarrow": false,
          "text": "Topic 6",
          "x": 0.6375000000000001,
          "xanchor": "center",
          "xref": "paper",
          "y": 0.6222222222222222,
          "yanchor": "bottom",
          "yref": "paper"
         },
         {
          "font": {
           "size": 16
          },
          "showarrow": false,
          "text": "Topic 7",
          "x": 0.9125,
          "xanchor": "center",
          "xref": "paper",
          "y": 0.6222222222222222,
          "yanchor": "bottom",
          "yref": "paper"
         },
         {
          "font": {
           "size": 16
          },
          "showarrow": false,
          "text": "Topic 8",
          "x": 0.0875,
          "xanchor": "center",
          "xref": "paper",
          "y": 0.24444444444444446,
          "yanchor": "bottom",
          "yref": "paper"
         }
        ],
        "height": 750,
        "hoverlabel": {
         "bgcolor": "white",
         "font": {
          "family": "Rockwell",
          "size": 16
         }
        },
        "showlegend": false,
        "template": {
         "data": {
          "bar": [
           {
            "error_x": {
             "color": "#2a3f5f"
            },
            "error_y": {
             "color": "#2a3f5f"
            },
            "marker": {
             "line": {
              "color": "white",
              "width": 0.5
             },
             "pattern": {
              "fillmode": "overlay",
              "size": 10,
              "solidity": 0.2
             }
            },
            "type": "bar"
           }
          ],
          "barpolar": [
           {
            "marker": {
             "line": {
              "color": "white",
              "width": 0.5
             },
             "pattern": {
              "fillmode": "overlay",
              "size": 10,
              "solidity": 0.2
             }
            },
            "type": "barpolar"
           }
          ],
          "carpet": [
           {
            "aaxis": {
             "endlinecolor": "#2a3f5f",
             "gridcolor": "#C8D4E3",
             "linecolor": "#C8D4E3",
             "minorgridcolor": "#C8D4E3",
             "startlinecolor": "#2a3f5f"
            },
            "baxis": {
             "endlinecolor": "#2a3f5f",
             "gridcolor": "#C8D4E3",
             "linecolor": "#C8D4E3",
             "minorgridcolor": "#C8D4E3",
             "startlinecolor": "#2a3f5f"
            },
            "type": "carpet"
           }
          ],
          "choropleth": [
           {
            "colorbar": {
             "outlinewidth": 0,
             "ticks": ""
            },
            "type": "choropleth"
           }
          ],
          "contour": [
           {
            "colorbar": {
             "outlinewidth": 0,
             "ticks": ""
            },
            "colorscale": [
             [
              0,
              "#0d0887"
             ],
             [
              0.1111111111111111,
              "#46039f"
             ],
             [
              0.2222222222222222,
              "#7201a8"
             ],
             [
              0.3333333333333333,
              "#9c179e"
             ],
             [
              0.4444444444444444,
              "#bd3786"
             ],
             [
              0.5555555555555556,
              "#d8576b"
             ],
             [
              0.6666666666666666,
              "#ed7953"
             ],
             [
              0.7777777777777778,
              "#fb9f3a"
             ],
             [
              0.8888888888888888,
              "#fdca26"
             ],
             [
              1,
              "#f0f921"
             ]
            ],
            "type": "contour"
           }
          ],
          "contourcarpet": [
           {
            "colorbar": {
             "outlinewidth": 0,
             "ticks": ""
            },
            "type": "contourcarpet"
           }
          ],
          "heatmap": [
           {
            "colorbar": {
             "outlinewidth": 0,
             "ticks": ""
            },
            "colorscale": [
             [
              0,
              "#0d0887"
             ],
             [
              0.1111111111111111,
              "#46039f"
             ],
             [
              0.2222222222222222,
              "#7201a8"
             ],
             [
              0.3333333333333333,
              "#9c179e"
             ],
             [
              0.4444444444444444,
              "#bd3786"
             ],
             [
              0.5555555555555556,
              "#d8576b"
             ],
             [
              0.6666666666666666,
              "#ed7953"
             ],
             [
              0.7777777777777778,
              "#fb9f3a"
             ],
             [
              0.8888888888888888,
              "#fdca26"
             ],
             [
              1,
              "#f0f921"
             ]
            ],
            "type": "heatmap"
           }
          ],
          "heatmapgl": [
           {
            "colorbar": {
             "outlinewidth": 0,
             "ticks": ""
            },
            "colorscale": [
             [
              0,
              "#0d0887"
             ],
             [
              0.1111111111111111,
              "#46039f"
             ],
             [
              0.2222222222222222,
              "#7201a8"
             ],
             [
              0.3333333333333333,
              "#9c179e"
             ],
             [
              0.4444444444444444,
              "#bd3786"
             ],
             [
              0.5555555555555556,
              "#d8576b"
             ],
             [
              0.6666666666666666,
              "#ed7953"
             ],
             [
              0.7777777777777778,
              "#fb9f3a"
             ],
             [
              0.8888888888888888,
              "#fdca26"
             ],
             [
              1,
              "#f0f921"
             ]
            ],
            "type": "heatmapgl"
           }
          ],
          "histogram": [
           {
            "marker": {
             "pattern": {
              "fillmode": "overlay",
              "size": 10,
              "solidity": 0.2
             }
            },
            "type": "histogram"
           }
          ],
          "histogram2d": [
           {
            "colorbar": {
             "outlinewidth": 0,
             "ticks": ""
            },
            "colorscale": [
             [
              0,
              "#0d0887"
             ],
             [
              0.1111111111111111,
              "#46039f"
             ],
             [
              0.2222222222222222,
              "#7201a8"
             ],
             [
              0.3333333333333333,
              "#9c179e"
             ],
             [
              0.4444444444444444,
              "#bd3786"
             ],
             [
              0.5555555555555556,
              "#d8576b"
             ],
             [
              0.6666666666666666,
              "#ed7953"
             ],
             [
              0.7777777777777778,
              "#fb9f3a"
             ],
             [
              0.8888888888888888,
              "#fdca26"
             ],
             [
              1,
              "#f0f921"
             ]
            ],
            "type": "histogram2d"
           }
          ],
          "histogram2dcontour": [
           {
            "colorbar": {
             "outlinewidth": 0,
             "ticks": ""
            },
            "colorscale": [
             [
              0,
              "#0d0887"
             ],
             [
              0.1111111111111111,
              "#46039f"
             ],
             [
              0.2222222222222222,
              "#7201a8"
             ],
             [
              0.3333333333333333,
              "#9c179e"
             ],
             [
              0.4444444444444444,
              "#bd3786"
             ],
             [
              0.5555555555555556,
              "#d8576b"
             ],
             [
              0.6666666666666666,
              "#ed7953"
             ],
             [
              0.7777777777777778,
              "#fb9f3a"
             ],
             [
              0.8888888888888888,
              "#fdca26"
             ],
             [
              1,
              "#f0f921"
             ]
            ],
            "type": "histogram2dcontour"
           }
          ],
          "mesh3d": [
           {
            "colorbar": {
             "outlinewidth": 0,
             "ticks": ""
            },
            "type": "mesh3d"
           }
          ],
          "parcoords": [
           {
            "line": {
             "colorbar": {
              "outlinewidth": 0,
              "ticks": ""
             }
            },
            "type": "parcoords"
           }
          ],
          "pie": [
           {
            "automargin": true,
            "type": "pie"
           }
          ],
          "scatter": [
           {
            "fillpattern": {
             "fillmode": "overlay",
             "size": 10,
             "solidity": 0.2
            },
            "type": "scatter"
           }
          ],
          "scatter3d": [
           {
            "line": {
             "colorbar": {
              "outlinewidth": 0,
              "ticks": ""
             }
            },
            "marker": {
             "colorbar": {
              "outlinewidth": 0,
              "ticks": ""
             }
            },
            "type": "scatter3d"
           }
          ],
          "scattercarpet": [
           {
            "marker": {
             "colorbar": {
              "outlinewidth": 0,
              "ticks": ""
             }
            },
            "type": "scattercarpet"
           }
          ],
          "scattergeo": [
           {
            "marker": {
             "colorbar": {
              "outlinewidth": 0,
              "ticks": ""
             }
            },
            "type": "scattergeo"
           }
          ],
          "scattergl": [
           {
            "marker": {
             "colorbar": {
              "outlinewidth": 0,
              "ticks": ""
             }
            },
            "type": "scattergl"
           }
          ],
          "scattermapbox": [
           {
            "marker": {
             "colorbar": {
              "outlinewidth": 0,
              "ticks": ""
             }
            },
            "type": "scattermapbox"
           }
          ],
          "scatterpolar": [
           {
            "marker": {
             "colorbar": {
              "outlinewidth": 0,
              "ticks": ""
             }
            },
            "type": "scatterpolar"
           }
          ],
          "scatterpolargl": [
           {
            "marker": {
             "colorbar": {
              "outlinewidth": 0,
              "ticks": ""
             }
            },
            "type": "scatterpolargl"
           }
          ],
          "scatterternary": [
           {
            "marker": {
             "colorbar": {
              "outlinewidth": 0,
              "ticks": ""
             }
            },
            "type": "scatterternary"
           }
          ],
          "surface": [
           {
            "colorbar": {
             "outlinewidth": 0,
             "ticks": ""
            },
            "colorscale": [
             [
              0,
              "#0d0887"
             ],
             [
              0.1111111111111111,
              "#46039f"
             ],
             [
              0.2222222222222222,
              "#7201a8"
             ],
             [
              0.3333333333333333,
              "#9c179e"
             ],
             [
              0.4444444444444444,
              "#bd3786"
             ],
             [
              0.5555555555555556,
              "#d8576b"
             ],
             [
              0.6666666666666666,
              "#ed7953"
             ],
             [
              0.7777777777777778,
              "#fb9f3a"
             ],
             [
              0.8888888888888888,
              "#fdca26"
             ],
             [
              1,
              "#f0f921"
             ]
            ],
            "type": "surface"
           }
          ],
          "table": [
           {
            "cells": {
             "fill": {
              "color": "#EBF0F8"
             },
             "line": {
              "color": "white"
             }
            },
            "header": {
             "fill": {
              "color": "#C8D4E3"
             },
             "line": {
              "color": "white"
             }
            },
            "type": "table"
           }
          ]
         },
         "layout": {
          "annotationdefaults": {
           "arrowcolor": "#2a3f5f",
           "arrowhead": 0,
           "arrowwidth": 1
          },
          "autotypenumbers": "strict",
          "coloraxis": {
           "colorbar": {
            "outlinewidth": 0,
            "ticks": ""
           }
          },
          "colorscale": {
           "diverging": [
            [
             0,
             "#8e0152"
            ],
            [
             0.1,
             "#c51b7d"
            ],
            [
             0.2,
             "#de77ae"
            ],
            [
             0.3,
             "#f1b6da"
            ],
            [
             0.4,
             "#fde0ef"
            ],
            [
             0.5,
             "#f7f7f7"
            ],
            [
             0.6,
             "#e6f5d0"
            ],
            [
             0.7,
             "#b8e186"
            ],
            [
             0.8,
             "#7fbc41"
            ],
            [
             0.9,
             "#4d9221"
            ],
            [
             1,
             "#276419"
            ]
           ],
           "sequential": [
            [
             0,
             "#0d0887"
            ],
            [
             0.1111111111111111,
             "#46039f"
            ],
            [
             0.2222222222222222,
             "#7201a8"
            ],
            [
             0.3333333333333333,
             "#9c179e"
            ],
            [
             0.4444444444444444,
             "#bd3786"
            ],
            [
             0.5555555555555556,
             "#d8576b"
            ],
            [
             0.6666666666666666,
             "#ed7953"
            ],
            [
             0.7777777777777778,
             "#fb9f3a"
            ],
            [
             0.8888888888888888,
             "#fdca26"
            ],
            [
             1,
             "#f0f921"
            ]
           ],
           "sequentialminus": [
            [
             0,
             "#0d0887"
            ],
            [
             0.1111111111111111,
             "#46039f"
            ],
            [
             0.2222222222222222,
             "#7201a8"
            ],
            [
             0.3333333333333333,
             "#9c179e"
            ],
            [
             0.4444444444444444,
             "#bd3786"
            ],
            [
             0.5555555555555556,
             "#d8576b"
            ],
            [
             0.6666666666666666,
             "#ed7953"
            ],
            [
             0.7777777777777778,
             "#fb9f3a"
            ],
            [
             0.8888888888888888,
             "#fdca26"
            ],
            [
             1,
             "#f0f921"
            ]
           ]
          },
          "colorway": [
           "#636efa",
           "#EF553B",
           "#00cc96",
           "#ab63fa",
           "#FFA15A",
           "#19d3f3",
           "#FF6692",
           "#B6E880",
           "#FF97FF",
           "#FECB52"
          ],
          "font": {
           "color": "#2a3f5f"
          },
          "geo": {
           "bgcolor": "white",
           "lakecolor": "white",
           "landcolor": "white",
           "showlakes": true,
           "showland": true,
           "subunitcolor": "#C8D4E3"
          },
          "hoverlabel": {
           "align": "left"
          },
          "hovermode": "closest",
          "mapbox": {
           "style": "light"
          },
          "paper_bgcolor": "white",
          "plot_bgcolor": "white",
          "polar": {
           "angularaxis": {
            "gridcolor": "#EBF0F8",
            "linecolor": "#EBF0F8",
            "ticks": ""
           },
           "bgcolor": "white",
           "radialaxis": {
            "gridcolor": "#EBF0F8",
            "linecolor": "#EBF0F8",
            "ticks": ""
           }
          },
          "scene": {
           "xaxis": {
            "backgroundcolor": "white",
            "gridcolor": "#DFE8F3",
            "gridwidth": 2,
            "linecolor": "#EBF0F8",
            "showbackground": true,
            "ticks": "",
            "zerolinecolor": "#EBF0F8"
           },
           "yaxis": {
            "backgroundcolor": "white",
            "gridcolor": "#DFE8F3",
            "gridwidth": 2,
            "linecolor": "#EBF0F8",
            "showbackground": true,
            "ticks": "",
            "zerolinecolor": "#EBF0F8"
           },
           "zaxis": {
            "backgroundcolor": "white",
            "gridcolor": "#DFE8F3",
            "gridwidth": 2,
            "linecolor": "#EBF0F8",
            "showbackground": true,
            "ticks": "",
            "zerolinecolor": "#EBF0F8"
           }
          },
          "shapedefaults": {
           "line": {
            "color": "#2a3f5f"
           }
          },
          "ternary": {
           "aaxis": {
            "gridcolor": "#DFE8F3",
            "linecolor": "#A2B1C6",
            "ticks": ""
           },
           "baxis": {
            "gridcolor": "#DFE8F3",
            "linecolor": "#A2B1C6",
            "ticks": ""
           },
           "bgcolor": "white",
           "caxis": {
            "gridcolor": "#DFE8F3",
            "linecolor": "#A2B1C6",
            "ticks": ""
           }
          },
          "title": {
           "x": 0.05
          },
          "xaxis": {
           "automargin": true,
           "gridcolor": "#EBF0F8",
           "linecolor": "#EBF0F8",
           "ticks": "",
           "title": {
            "standoff": 15
           },
           "zerolinecolor": "#EBF0F8",
           "zerolinewidth": 2
          },
          "yaxis": {
           "automargin": true,
           "gridcolor": "#EBF0F8",
           "linecolor": "#EBF0F8",
           "ticks": "",
           "title": {
            "standoff": 15
           },
           "zerolinecolor": "#EBF0F8",
           "zerolinewidth": 2
          }
         }
        },
        "title": {
         "font": {
          "color": "Black",
          "size": 22
         },
         "text": "Topic Word Scores",
         "x": 0.5,
         "xanchor": "center",
         "yanchor": "top"
        },
        "width": 1000,
        "xaxis": {
         "anchor": "y",
         "domain": [
          0,
          0.175
         ],
         "showgrid": true
        },
        "xaxis10": {
         "anchor": "y10",
         "domain": [
          0.275,
          0.45
         ],
         "showgrid": true
        },
        "xaxis11": {
         "anchor": "y11",
         "domain": [
          0.55,
          0.7250000000000001
         ],
         "showgrid": true
        },
        "xaxis12": {
         "anchor": "y12",
         "domain": [
          0.825,
          1
         ],
         "showgrid": true
        },
        "xaxis2": {
         "anchor": "y2",
         "domain": [
          0.275,
          0.45
         ],
         "showgrid": true
        },
        "xaxis3": {
         "anchor": "y3",
         "domain": [
          0.55,
          0.7250000000000001
         ],
         "showgrid": true
        },
        "xaxis4": {
         "anchor": "y4",
         "domain": [
          0.825,
          1
         ],
         "showgrid": true
        },
        "xaxis5": {
         "anchor": "y5",
         "domain": [
          0,
          0.175
         ],
         "showgrid": true
        },
        "xaxis6": {
         "anchor": "y6",
         "domain": [
          0.275,
          0.45
         ],
         "showgrid": true
        },
        "xaxis7": {
         "anchor": "y7",
         "domain": [
          0.55,
          0.7250000000000001
         ],
         "showgrid": true
        },
        "xaxis8": {
         "anchor": "y8",
         "domain": [
          0.825,
          1
         ],
         "showgrid": true
        },
        "xaxis9": {
         "anchor": "y9",
         "domain": [
          0,
          0.175
         ],
         "showgrid": true
        },
        "yaxis": {
         "anchor": "x",
         "domain": [
          0.7555555555555555,
          1
         ],
         "showgrid": true
        },
        "yaxis10": {
         "anchor": "x10",
         "domain": [
          0,
          0.24444444444444446
         ],
         "showgrid": true
        },
        "yaxis11": {
         "anchor": "x11",
         "domain": [
          0,
          0.24444444444444446
         ],
         "showgrid": true
        },
        "yaxis12": {
         "anchor": "x12",
         "domain": [
          0,
          0.24444444444444446
         ],
         "showgrid": true
        },
        "yaxis2": {
         "anchor": "x2",
         "domain": [
          0.7555555555555555,
          1
         ],
         "showgrid": true
        },
        "yaxis3": {
         "anchor": "x3",
         "domain": [
          0.7555555555555555,
          1
         ],
         "showgrid": true
        },
        "yaxis4": {
         "anchor": "x4",
         "domain": [
          0.7555555555555555,
          1
         ],
         "showgrid": true
        },
        "yaxis5": {
         "anchor": "x5",
         "domain": [
          0.37777777777777777,
          0.6222222222222222
         ],
         "showgrid": true
        },
        "yaxis6": {
         "anchor": "x6",
         "domain": [
          0.37777777777777777,
          0.6222222222222222
         ],
         "showgrid": true
        },
        "yaxis7": {
         "anchor": "x7",
         "domain": [
          0.37777777777777777,
          0.6222222222222222
         ],
         "showgrid": true
        },
        "yaxis8": {
         "anchor": "x8",
         "domain": [
          0.37777777777777777,
          0.6222222222222222
         ],
         "showgrid": true
        },
        "yaxis9": {
         "anchor": "x9",
         "domain": [
          0,
          0.24444444444444446
         ],
         "showgrid": true
        }
       }
      }
     },
     "metadata": {},
     "output_type": "display_data"
    }
   ],
   "source": [
    "model.visualize_barchart(top_n_topics=9)"
   ]
  },
  {
   "cell_type": "code",
   "execution_count": null,
   "metadata": {},
   "outputs": [
    {
     "data": {
      "application/vnd.plotly.v1+json": {
       "config": {
        "plotlyServerURL": "https://plot.ly"
       },
       "data": [
        {
         "hovertext": "<b>Topic -1</b>:investment_rate_cost_it_to_die_onl",
         "line": {
          "color": "black",
          "width": 1.5
         },
         "mode": "lines+lines",
         "name": "",
         "opacity": 0.1,
         "type": "scatter",
         "x": [
          1,
          2,
          3,
          4,
          5,
          6,
          7,
          8,
          9,
          10
         ],
         "y": [
          0.028312151947629153,
          0.017225877354182798,
          0.017190639131789642,
          0.016282147039931413,
          0.01570588993410214,
          0.01564448616637589,
          0.01507264268490995,
          0.01499979115906355,
          0.01467018996375269,
          0.014170144855347061
         ]
        },
        {
         "hovertext": "<b>Topic 0</b>:journal_economic_economics_groh_og_",
         "line": {
          "color": "black",
          "width": 1.5
         },
         "mode": "lines+lines",
         "name": "",
         "opacity": 0.1,
         "type": "scatter",
         "x": [
          1,
          2,
          3,
          4,
          5,
          6,
          7,
          8,
          9,
          10
         ],
         "y": [
          0.05565469248636824,
          0.04608619021545775,
          0.034279309800342675,
          0.03271912903768161,
          0.024038209825969353,
          0.02363419589876387,
          0.022048040467917692,
          0.02198184996999125,
          0.021331422282807336,
          0.020054460297683305
         ]
        },
        {
         "hovertext": "<b>Topic 1</b>:aci_ci_eto_la_vida_ec_cci_cim_os_if",
         "line": {
          "color": "black",
          "width": 1.5
         },
         "mode": "lines+lines",
         "name": "",
         "opacity": 0.1,
         "type": "scatter",
         "x": [
          1,
          2,
          3,
          4,
          5,
          6,
          7,
          8,
          9,
          10
         ],
         "y": [
          0.04859604167025893,
          0.04505852982987861,
          0.04492901941983434,
          0.037642571489889934,
          0.03710129668473414,
          0.03690073489224876,
          0.032260169324015035,
          0.032108089739602635,
          0.029760647521146277,
          0.029222527114139515
         ]
        },
        {
         "hovertext": "<b>Topic 2</b>:municips_ark_months_map_municip_jo_",
         "line": {
          "color": "black",
          "width": 1.5
         },
         "mode": "lines+lines",
         "name": "",
         "opacity": 0.1,
         "type": "scatter",
         "x": [
          1,
          2,
          3,
          4,
          5,
          6,
          7,
          8,
          9,
          10
         ],
         "y": [
          0.12491444085584102,
          0.11431433987022088,
          0.10735592689518768,
          0.10099465430897786,
          0.08255552581399479,
          0.07504506373299745,
          0.07222460780787383,
          0.07130559955352382,
          0.06959507999376591,
          0.06587272068664667
         ]
        },
        {
         "hovertext": "<b>Topic 3</b>:relatns_leotie_to_px_py_ined_trefor",
         "line": {
          "color": "black",
          "width": 1.5
         },
         "mode": "lines+lines",
         "name": "",
         "opacity": 0.1,
         "type": "scatter",
         "x": [
          1,
          2,
          3,
          4,
          5,
          6,
          7,
          8,
          9,
          10
         ],
         "y": [
          0.10753062663151841,
          0.09648669883860232,
          0.08110682648020952,
          0.06892952008261874,
          0.06892952008261874,
          0.06803345779018849,
          0.06053619761622904,
          0.0570645654176073,
          0.05553752023068909,
          0.054116413207174974
         ]
        },
        {
         "hovertext": "<b>Topic 4</b>:maoeconomic_business_economic_moody",
         "line": {
          "color": "black",
          "width": 1.5
         },
         "mode": "lines+lines",
         "name": "",
         "opacity": 0.1,
         "type": "scatter",
         "x": [
          1,
          2,
          3,
          4,
          5,
          6,
          7,
          8,
          9,
          10
         ],
         "y": [
          0.046474383764153096,
          0.04477166742568568,
          0.03787894643443247,
          0.03594628896295847,
          0.03503869624618879,
          0.034866015024596034,
          0.03211949575832296,
          0.0313833085276748,
          0.02995954890055347,
          0.027042547994259373
         ]
        },
        {
         "hovertext": "<b>Topic 5</b>:wcw_next_abstra_aive_velopi_notice_",
         "line": {
          "color": "black",
          "width": 1.5
         },
         "mode": "lines+lines",
         "name": "",
         "opacity": 0.1,
         "type": "scatter",
         "x": [
          1,
          2,
          3,
          4,
          5,
          6,
          7,
          8,
          9,
          10
         ],
         "y": [
          0.23284066232632628,
          0.12594118898985354,
          0.12471250344023385,
          0.09483836544527142,
          0.08046575184175053,
          0.08046575184175053,
          0.07690778302382507,
          0.07128516320448802,
          0.06711625377002857,
          0.06556975205705771
         ]
        },
        {
         "hovertext": "<b>Topic 6</b>:intellence_articial_fall_wdle_key_h",
         "line": {
          "color": "black",
          "width": 1.5
         },
         "mode": "lines+lines",
         "name": "",
         "opacity": 0.1,
         "type": "scatter",
         "x": [
          1,
          2,
          3,
          4,
          5,
          6,
          7,
          8,
          9,
          10
         ],
         "y": [
          0.1557626816823991,
          0.15540233417348054,
          0.12662691336479825,
          0.06350419616669323,
          0.060194253503789756,
          0.05671819504152979,
          0.05243043282880042,
          0.044824328336592036,
          0.040767887568759244,
          0.03932282462160031
         ]
        },
        {
         "hovertext": "<b>Topic 7</b>:coalab_coameasurement_worki_pa_new_",
         "line": {
          "color": "black",
          "width": 1.5
         },
         "mode": "lines+lines",
         "name": "",
         "opacity": 0.1,
         "type": "scatter",
         "x": [
          1,
          2,
          3,
          4,
          5,
          6,
          7,
          8,
          9,
          10
         ],
         "y": [
          0.09072575461014663,
          0.09072575461014663,
          0.08891191145023832,
          0.08781455132212895,
          0.07589884856836783,
          0.07106676943703263,
          0.06980008432844612,
          0.06862816304888134,
          0.04938545280573757,
          0.04147488403249292
         ]
        },
        {
         "hovertext": "<b>Topic 8</b>:table_dference_distributn_tests_sta",
         "line": {
          "color": "black",
          "width": 1.5
         },
         "mode": "lines+lines",
         "name": "",
         "opacity": 0.1,
         "type": "scatter",
         "x": [
          1,
          2,
          3,
          4,
          5,
          6,
          7,
          8,
          9,
          10
         ],
         "y": [
          0.5238998702816878,
          0.14655606482224873,
          0.10473454270912583,
          0.0977040432148325,
          0.0977040432148325,
          0.08886217812088973,
          0.08632462383683195,
          0.08571235975490851,
          0.06886299103004218,
          0.0678293660483677
         ]
        },
        {
         "hovertext": "<b>Topic 9</b>:assets_revenue_aregate_equatns_for_",
         "line": {
          "color": "black",
          "width": 1.5
         },
         "mode": "lines+lines",
         "name": "",
         "opacity": 0.1,
         "type": "scatter",
         "x": [
          1,
          2,
          3,
          4,
          5,
          6,
          7,
          8,
          9,
          10
         ],
         "y": [
          0.5494680831565977,
          0.24810852081749002,
          0.07724098366809355,
          0.07154038422869473,
          0.05082793851512666,
          0.04505724047305458,
          0.04102127156548534,
          0.037727964766783535,
          0.03412166613698432,
          0.03330943404498532
         ]
        },
        {
         "hovertext": "<b>Topic 10</b>:ger_minas_intellence_articial_bras",
         "line": {
          "color": "black",
          "width": 1.5
         },
         "mode": "lines+lines",
         "name": "",
         "opacity": 0.1,
         "type": "scatter",
         "x": [
          1,
          2,
          3,
          4,
          5,
          6,
          7,
          8,
          9,
          10
         ],
         "y": [
          0.13354205056023016,
          0.13216479393360134,
          0.09654643018801405,
          0.09641160812122733,
          0.06135294260990163,
          0.05837270678398173,
          0.03809118073937924,
          0.03412166613698432,
          0.03330943404498532,
          0.03270128154848742
         ]
        },
        {
         "hovertext": "<b>Topic 11</b>:mtable_many_images_ehteemi_intyi_n",
         "line": {
          "color": "black",
          "width": 1.5
         },
         "mode": "lines+lines",
         "name": "",
         "opacity": 0.1,
         "type": "scatter",
         "x": [
          1,
          2,
          3,
          4,
          5,
          6,
          7,
          8,
          9,
          10
         ],
         "y": [
          0.3511239053033043,
          0.2764030343232998,
          0.209817829059671,
          0.209817829059671,
          0.209817829059671,
          0.209817829059671,
          0.209817829059671,
          0.209817829059671,
          0.209817829059671,
          0.209817829059671
         ]
        },
        {
         "hovertext": "<b>Topic 12</b>:edits_loans_payments_eq_for_edit_l",
         "line": {
          "color": "black",
          "width": 1.5
         },
         "mode": "lines+lines",
         "name": "",
         "opacity": 0.1,
         "type": "scatter",
         "x": [
          1,
          2,
          3,
          4,
          5,
          6,
          7,
          8,
          9,
          10
         ],
         "y": [
          0.42751429685469655,
          0.3052502350399086,
          0.1689896104451486,
          0.08099970186350529,
          0.0648845211845469,
          0.061186438131398915,
          0.06012025243538185,
          0.05442717981206751,
          0.046075507175835265,
          0.04333068235407073
         ]
        },
        {
         "hovertext": "<b>Topic 13</b>:pc_marak_aklos_pole_is_bayesiawith",
         "line": {
          "color": "black",
          "width": 1.5
         },
         "mode": "lines+lines",
         "name": "",
         "opacity": 0.1,
         "type": "scatter",
         "x": [
          1,
          2,
          3,
          4,
          5,
          6,
          7,
          8,
          9,
          10
         ],
         "y": [
          0.2350981394012968,
          0.18715673490786988,
          0.13497494516212152,
          0.13497494516212152,
          0.09160937490074954,
          0.07623083804778145,
          0.07623083804778145,
          0.07623083804778145,
          0.07623083804778145,
          0.07623083804778145
         ]
        },
        {
         "hovertext": "<b>Topic 14</b>:esta_gr_fec_mum_md_rianz_ari_est_z",
         "line": {
          "color": "black",
          "width": 1.5
         },
         "mode": "lines+lines",
         "name": "",
         "opacity": 0.1,
         "type": "scatter",
         "x": [
          1,
          2,
          3,
          4,
          5,
          6,
          7,
          8,
          9,
          10
         ],
         "y": [
          0.35373261550085056,
          0.2190929155361101,
          0.13265320977042586,
          0.12897745147710032,
          0.1257391073190275,
          0.1257391073190275,
          0.12286753354412594,
          0.11970097406531359,
          0.11823175563885187,
          0.11363240946872823
         ]
        },
        {
         "hovertext": "<b>Topic 15</b>:road_belt_one_eur_sk_chinese_econo",
         "line": {
          "color": "black",
          "width": 1.5
         },
         "mode": "lines+lines",
         "name": "",
         "opacity": 0.1,
         "type": "scatter",
         "x": [
          1,
          2,
          3,
          4,
          5,
          6,
          7,
          8,
          9,
          10
         ],
         "y": [
          0.2179284059369712,
          0.17441586507188903,
          0.1519752094745145,
          0.12875089798846692,
          0.1228985844435366,
          0.10793074841510651,
          0.0684881960784183,
          0.066135504498969,
          0.05517791907508917,
          0.054267222178810574
         ]
        },
        {
         "hovertext": "<b>Topic 16</b>:ui_equatns_continuity_mand_supply_",
         "line": {
          "color": "black",
          "width": 1.5
         },
         "mode": "lines+lines",
         "name": "",
         "opacity": 0.1,
         "type": "scatter",
         "x": [
          1,
          2,
          3,
          4,
          5,
          6,
          7,
          8,
          9,
          10
         ],
         "y": [
          0.21369885966527907,
          0.1484714232076998,
          0.14334232507463082,
          0.12583313285690584,
          0.12431121185093358,
          0.10957519350235463,
          0.08367865835524324,
          0.06633468397793679,
          0.06531620098692435,
          0.06457451132014791
         ]
        },
        {
         "hovertext": "<b>Topic 17</b>:mono_alias_boca_true_ba_regjajaub_",
         "line": {
          "color": "black",
          "width": 1.5
         },
         "mode": "lines+lines",
         "name": "",
         "opacity": 0.1,
         "type": "scatter",
         "x": [
          1,
          2,
          3,
          4,
          5,
          6,
          7,
          8,
          9,
          10
         ],
         "y": [
          0.25653736977477304,
          0.23277196150820464,
          0.2128280706315513,
          0.21037134908098953,
          0.1884344450304514,
          0.18385468498311086,
          0.16855157048729794,
          0.15667247857482539,
          0.1252007822552334,
          0.12256978998874057
         ]
        },
        {
         "hovertext": "<b>Topic 18</b>:regi_mice_or_goregnal_map_tri_logo",
         "line": {
          "color": "black",
          "width": 1.5
         },
         "mode": "lines+lines",
         "name": "",
         "opacity": 0.1,
         "type": "scatter",
         "x": [
          1,
          2,
          3,
          4,
          5,
          6,
          7,
          8,
          9,
          10
         ],
         "y": [
          0.23972589544271844,
          0.23150396568111917,
          0.1727055262083881,
          0.13006057612425848,
          0.12058831563284793,
          0.11575198284055958,
          0.11069608861535433,
          0.10457333324967878,
          0.09912279993032824,
          0.09290200894298223
         ]
        },
        {
         "hovertext": "<b>Topic 19</b>:individuals_party_boyd_ester_fog_o",
         "line": {
          "color": "black",
          "width": 1.5
         },
         "mode": "lines+lines",
         "name": "",
         "opacity": 0.1,
         "type": "scatter",
         "x": [
          1,
          2,
          3,
          4,
          5,
          6,
          7,
          8,
          9,
          10
         ],
         "y": [
          0.22206289363323545,
          0.17313352518241507,
          0.150886928782833,
          0.13142561829085975,
          0.13142561829085975,
          0.08459333289408388,
          0.08045935798759747,
          0.08029648274366315,
          0.07490643313137159,
          0.07490643313137159
         ]
        },
        {
         "hovertext": "<b>Topic 20</b>:future_table_sis_got_stock_get_res",
         "line": {
          "color": "black",
          "width": 1.5
         },
         "mode": "lines+lines",
         "name": "",
         "opacity": 0.1,
         "type": "scatter",
         "x": [
          1,
          2,
          3,
          4,
          5,
          6,
          7,
          8,
          9,
          10
         ],
         "y": [
          0.47151392076681176,
          0.18492475470348096,
          0.17238402421132124,
          0.11782343279345414,
          0.11300460610149769,
          0.09773366959497894,
          0.0883675745950906,
          0.0875054582149707,
          0.08468909240803026,
          0.07787855935742989
         ]
        },
        {
         "hovertext": "<b>Topic 21</b>:learner_samuelso_war_world_jun_iai",
         "line": {
          "color": "black",
          "width": 1.5
         },
         "mode": "lines+lines",
         "name": "",
         "opacity": 0.1,
         "type": "scatter",
         "x": [
          1,
          2,
          3,
          4,
          5,
          6,
          7,
          8,
          9,
          10
         ],
         "y": [
          0.492846068590724,
          0.40148241371831567,
          0.3745321656568579,
          0.24321961159992386,
          0.22380568433031572,
          0.22380568433031572,
          0.22380568433031572,
          0.22380568433031572,
          0.22380568433031572,
          0.22380568433031572
         ]
        },
        {
         "hovertext": "<b>Topic 22</b>:area_nad_tness_fc_le_wnotably_anrs",
         "line": {
          "color": "black",
          "width": 1.5
         },
         "mode": "lines+lines",
         "name": "",
         "opacity": 0.1,
         "type": "scatter",
         "x": [
          1,
          2,
          3,
          4,
          5,
          6,
          7,
          8,
          9,
          10
         ],
         "y": [
          0.4082260199236428,
          0.3995389042671117,
          0.3263480826971427,
          0.17286099953393444,
          0.1452006681509229,
          0.1032949312293765,
          0.1032949312293765,
          0.1032949312293765,
          0.1032949312293765,
          0.1032949312293765
         ]
        }
       ],
       "layout": {
        "height": 500,
        "hoverlabel": {
         "bgcolor": "white",
         "font": {
          "family": "Rockwell",
          "size": 16
         }
        },
        "showlegend": false,
        "template": {
         "data": {
          "bar": [
           {
            "error_x": {
             "color": "#2a3f5f"
            },
            "error_y": {
             "color": "#2a3f5f"
            },
            "marker": {
             "line": {
              "color": "white",
              "width": 0.5
             },
             "pattern": {
              "fillmode": "overlay",
              "size": 10,
              "solidity": 0.2
             }
            },
            "type": "bar"
           }
          ],
          "barpolar": [
           {
            "marker": {
             "line": {
              "color": "white",
              "width": 0.5
             },
             "pattern": {
              "fillmode": "overlay",
              "size": 10,
              "solidity": 0.2
             }
            },
            "type": "barpolar"
           }
          ],
          "carpet": [
           {
            "aaxis": {
             "endlinecolor": "#2a3f5f",
             "gridcolor": "#C8D4E3",
             "linecolor": "#C8D4E3",
             "minorgridcolor": "#C8D4E3",
             "startlinecolor": "#2a3f5f"
            },
            "baxis": {
             "endlinecolor": "#2a3f5f",
             "gridcolor": "#C8D4E3",
             "linecolor": "#C8D4E3",
             "minorgridcolor": "#C8D4E3",
             "startlinecolor": "#2a3f5f"
            },
            "type": "carpet"
           }
          ],
          "choropleth": [
           {
            "colorbar": {
             "outlinewidth": 0,
             "ticks": ""
            },
            "type": "choropleth"
           }
          ],
          "contour": [
           {
            "colorbar": {
             "outlinewidth": 0,
             "ticks": ""
            },
            "colorscale": [
             [
              0,
              "#0d0887"
             ],
             [
              0.1111111111111111,
              "#46039f"
             ],
             [
              0.2222222222222222,
              "#7201a8"
             ],
             [
              0.3333333333333333,
              "#9c179e"
             ],
             [
              0.4444444444444444,
              "#bd3786"
             ],
             [
              0.5555555555555556,
              "#d8576b"
             ],
             [
              0.6666666666666666,
              "#ed7953"
             ],
             [
              0.7777777777777778,
              "#fb9f3a"
             ],
             [
              0.8888888888888888,
              "#fdca26"
             ],
             [
              1,
              "#f0f921"
             ]
            ],
            "type": "contour"
           }
          ],
          "contourcarpet": [
           {
            "colorbar": {
             "outlinewidth": 0,
             "ticks": ""
            },
            "type": "contourcarpet"
           }
          ],
          "heatmap": [
           {
            "colorbar": {
             "outlinewidth": 0,
             "ticks": ""
            },
            "colorscale": [
             [
              0,
              "#0d0887"
             ],
             [
              0.1111111111111111,
              "#46039f"
             ],
             [
              0.2222222222222222,
              "#7201a8"
             ],
             [
              0.3333333333333333,
              "#9c179e"
             ],
             [
              0.4444444444444444,
              "#bd3786"
             ],
             [
              0.5555555555555556,
              "#d8576b"
             ],
             [
              0.6666666666666666,
              "#ed7953"
             ],
             [
              0.7777777777777778,
              "#fb9f3a"
             ],
             [
              0.8888888888888888,
              "#fdca26"
             ],
             [
              1,
              "#f0f921"
             ]
            ],
            "type": "heatmap"
           }
          ],
          "heatmapgl": [
           {
            "colorbar": {
             "outlinewidth": 0,
             "ticks": ""
            },
            "colorscale": [
             [
              0,
              "#0d0887"
             ],
             [
              0.1111111111111111,
              "#46039f"
             ],
             [
              0.2222222222222222,
              "#7201a8"
             ],
             [
              0.3333333333333333,
              "#9c179e"
             ],
             [
              0.4444444444444444,
              "#bd3786"
             ],
             [
              0.5555555555555556,
              "#d8576b"
             ],
             [
              0.6666666666666666,
              "#ed7953"
             ],
             [
              0.7777777777777778,
              "#fb9f3a"
             ],
             [
              0.8888888888888888,
              "#fdca26"
             ],
             [
              1,
              "#f0f921"
             ]
            ],
            "type": "heatmapgl"
           }
          ],
          "histogram": [
           {
            "marker": {
             "pattern": {
              "fillmode": "overlay",
              "size": 10,
              "solidity": 0.2
             }
            },
            "type": "histogram"
           }
          ],
          "histogram2d": [
           {
            "colorbar": {
             "outlinewidth": 0,
             "ticks": ""
            },
            "colorscale": [
             [
              0,
              "#0d0887"
             ],
             [
              0.1111111111111111,
              "#46039f"
             ],
             [
              0.2222222222222222,
              "#7201a8"
             ],
             [
              0.3333333333333333,
              "#9c179e"
             ],
             [
              0.4444444444444444,
              "#bd3786"
             ],
             [
              0.5555555555555556,
              "#d8576b"
             ],
             [
              0.6666666666666666,
              "#ed7953"
             ],
             [
              0.7777777777777778,
              "#fb9f3a"
             ],
             [
              0.8888888888888888,
              "#fdca26"
             ],
             [
              1,
              "#f0f921"
             ]
            ],
            "type": "histogram2d"
           }
          ],
          "histogram2dcontour": [
           {
            "colorbar": {
             "outlinewidth": 0,
             "ticks": ""
            },
            "colorscale": [
             [
              0,
              "#0d0887"
             ],
             [
              0.1111111111111111,
              "#46039f"
             ],
             [
              0.2222222222222222,
              "#7201a8"
             ],
             [
              0.3333333333333333,
              "#9c179e"
             ],
             [
              0.4444444444444444,
              "#bd3786"
             ],
             [
              0.5555555555555556,
              "#d8576b"
             ],
             [
              0.6666666666666666,
              "#ed7953"
             ],
             [
              0.7777777777777778,
              "#fb9f3a"
             ],
             [
              0.8888888888888888,
              "#fdca26"
             ],
             [
              1,
              "#f0f921"
             ]
            ],
            "type": "histogram2dcontour"
           }
          ],
          "mesh3d": [
           {
            "colorbar": {
             "outlinewidth": 0,
             "ticks": ""
            },
            "type": "mesh3d"
           }
          ],
          "parcoords": [
           {
            "line": {
             "colorbar": {
              "outlinewidth": 0,
              "ticks": ""
             }
            },
            "type": "parcoords"
           }
          ],
          "pie": [
           {
            "automargin": true,
            "type": "pie"
           }
          ],
          "scatter": [
           {
            "fillpattern": {
             "fillmode": "overlay",
             "size": 10,
             "solidity": 0.2
            },
            "type": "scatter"
           }
          ],
          "scatter3d": [
           {
            "line": {
             "colorbar": {
              "outlinewidth": 0,
              "ticks": ""
             }
            },
            "marker": {
             "colorbar": {
              "outlinewidth": 0,
              "ticks": ""
             }
            },
            "type": "scatter3d"
           }
          ],
          "scattercarpet": [
           {
            "marker": {
             "colorbar": {
              "outlinewidth": 0,
              "ticks": ""
             }
            },
            "type": "scattercarpet"
           }
          ],
          "scattergeo": [
           {
            "marker": {
             "colorbar": {
              "outlinewidth": 0,
              "ticks": ""
             }
            },
            "type": "scattergeo"
           }
          ],
          "scattergl": [
           {
            "marker": {
             "colorbar": {
              "outlinewidth": 0,
              "ticks": ""
             }
            },
            "type": "scattergl"
           }
          ],
          "scattermapbox": [
           {
            "marker": {
             "colorbar": {
              "outlinewidth": 0,
              "ticks": ""
             }
            },
            "type": "scattermapbox"
           }
          ],
          "scatterpolar": [
           {
            "marker": {
             "colorbar": {
              "outlinewidth": 0,
              "ticks": ""
             }
            },
            "type": "scatterpolar"
           }
          ],
          "scatterpolargl": [
           {
            "marker": {
             "colorbar": {
              "outlinewidth": 0,
              "ticks": ""
             }
            },
            "type": "scatterpolargl"
           }
          ],
          "scatterternary": [
           {
            "marker": {
             "colorbar": {
              "outlinewidth": 0,
              "ticks": ""
             }
            },
            "type": "scatterternary"
           }
          ],
          "surface": [
           {
            "colorbar": {
             "outlinewidth": 0,
             "ticks": ""
            },
            "colorscale": [
             [
              0,
              "#0d0887"
             ],
             [
              0.1111111111111111,
              "#46039f"
             ],
             [
              0.2222222222222222,
              "#7201a8"
             ],
             [
              0.3333333333333333,
              "#9c179e"
             ],
             [
              0.4444444444444444,
              "#bd3786"
             ],
             [
              0.5555555555555556,
              "#d8576b"
             ],
             [
              0.6666666666666666,
              "#ed7953"
             ],
             [
              0.7777777777777778,
              "#fb9f3a"
             ],
             [
              0.8888888888888888,
              "#fdca26"
             ],
             [
              1,
              "#f0f921"
             ]
            ],
            "type": "surface"
           }
          ],
          "table": [
           {
            "cells": {
             "fill": {
              "color": "#EBF0F8"
             },
             "line": {
              "color": "white"
             }
            },
            "header": {
             "fill": {
              "color": "#C8D4E3"
             },
             "line": {
              "color": "white"
             }
            },
            "type": "table"
           }
          ]
         },
         "layout": {
          "annotationdefaults": {
           "arrowcolor": "#2a3f5f",
           "arrowhead": 0,
           "arrowwidth": 1
          },
          "autotypenumbers": "strict",
          "coloraxis": {
           "colorbar": {
            "outlinewidth": 0,
            "ticks": ""
           }
          },
          "colorscale": {
           "diverging": [
            [
             0,
             "#8e0152"
            ],
            [
             0.1,
             "#c51b7d"
            ],
            [
             0.2,
             "#de77ae"
            ],
            [
             0.3,
             "#f1b6da"
            ],
            [
             0.4,
             "#fde0ef"
            ],
            [
             0.5,
             "#f7f7f7"
            ],
            [
             0.6,
             "#e6f5d0"
            ],
            [
             0.7,
             "#b8e186"
            ],
            [
             0.8,
             "#7fbc41"
            ],
            [
             0.9,
             "#4d9221"
            ],
            [
             1,
             "#276419"
            ]
           ],
           "sequential": [
            [
             0,
             "#0d0887"
            ],
            [
             0.1111111111111111,
             "#46039f"
            ],
            [
             0.2222222222222222,
             "#7201a8"
            ],
            [
             0.3333333333333333,
             "#9c179e"
            ],
            [
             0.4444444444444444,
             "#bd3786"
            ],
            [
             0.5555555555555556,
             "#d8576b"
            ],
            [
             0.6666666666666666,
             "#ed7953"
            ],
            [
             0.7777777777777778,
             "#fb9f3a"
            ],
            [
             0.8888888888888888,
             "#fdca26"
            ],
            [
             1,
             "#f0f921"
            ]
           ],
           "sequentialminus": [
            [
             0,
             "#0d0887"
            ],
            [
             0.1111111111111111,
             "#46039f"
            ],
            [
             0.2222222222222222,
             "#7201a8"
            ],
            [
             0.3333333333333333,
             "#9c179e"
            ],
            [
             0.4444444444444444,
             "#bd3786"
            ],
            [
             0.5555555555555556,
             "#d8576b"
            ],
            [
             0.6666666666666666,
             "#ed7953"
            ],
            [
             0.7777777777777778,
             "#fb9f3a"
            ],
            [
             0.8888888888888888,
             "#fdca26"
            ],
            [
             1,
             "#f0f921"
            ]
           ]
          },
          "colorway": [
           "#636efa",
           "#EF553B",
           "#00cc96",
           "#ab63fa",
           "#FFA15A",
           "#19d3f3",
           "#FF6692",
           "#B6E880",
           "#FF97FF",
           "#FECB52"
          ],
          "font": {
           "color": "#2a3f5f"
          },
          "geo": {
           "bgcolor": "white",
           "lakecolor": "white",
           "landcolor": "white",
           "showlakes": true,
           "showland": true,
           "subunitcolor": "#C8D4E3"
          },
          "hoverlabel": {
           "align": "left"
          },
          "hovermode": "closest",
          "mapbox": {
           "style": "light"
          },
          "paper_bgcolor": "white",
          "plot_bgcolor": "white",
          "polar": {
           "angularaxis": {
            "gridcolor": "#EBF0F8",
            "linecolor": "#EBF0F8",
            "ticks": ""
           },
           "bgcolor": "white",
           "radialaxis": {
            "gridcolor": "#EBF0F8",
            "linecolor": "#EBF0F8",
            "ticks": ""
           }
          },
          "scene": {
           "xaxis": {
            "backgroundcolor": "white",
            "gridcolor": "#DFE8F3",
            "gridwidth": 2,
            "linecolor": "#EBF0F8",
            "showbackground": true,
            "ticks": "",
            "zerolinecolor": "#EBF0F8"
           },
           "yaxis": {
            "backgroundcolor": "white",
            "gridcolor": "#DFE8F3",
            "gridwidth": 2,
            "linecolor": "#EBF0F8",
            "showbackground": true,
            "ticks": "",
            "zerolinecolor": "#EBF0F8"
           },
           "zaxis": {
            "backgroundcolor": "white",
            "gridcolor": "#DFE8F3",
            "gridwidth": 2,
            "linecolor": "#EBF0F8",
            "showbackground": true,
            "ticks": "",
            "zerolinecolor": "#EBF0F8"
           }
          },
          "shapedefaults": {
           "line": {
            "color": "#2a3f5f"
           }
          },
          "ternary": {
           "aaxis": {
            "gridcolor": "#DFE8F3",
            "linecolor": "#A2B1C6",
            "ticks": ""
           },
           "baxis": {
            "gridcolor": "#DFE8F3",
            "linecolor": "#A2B1C6",
            "ticks": ""
           },
           "bgcolor": "white",
           "caxis": {
            "gridcolor": "#DFE8F3",
            "linecolor": "#A2B1C6",
            "ticks": ""
           }
          },
          "title": {
           "x": 0.05
          },
          "xaxis": {
           "automargin": true,
           "gridcolor": "#EBF0F8",
           "linecolor": "#EBF0F8",
           "ticks": "",
           "title": {
            "standoff": 15
           },
           "zerolinecolor": "#EBF0F8",
           "zerolinewidth": 2
          },
          "yaxis": {
           "automargin": true,
           "gridcolor": "#EBF0F8",
           "linecolor": "#EBF0F8",
           "ticks": "",
           "title": {
            "standoff": 15
           },
           "zerolinecolor": "#EBF0F8",
           "zerolinewidth": 2
          }
         }
        },
        "title": {
         "font": {
          "color": "Black",
          "size": 22
         },
         "text": "<b>Term score decline per Topic</b>",
         "x": 0.5,
         "xanchor": "center",
         "y": 0.9,
         "yanchor": "top"
        },
        "width": 800,
        "xaxis": {
         "dtick": 2,
         "range": [
          0,
          10
         ],
         "tick0": 1,
         "title": {
          "text": "Term Rank"
         }
        },
        "yaxis": {
         "title": {
          "text": "c-TF-IDF score"
         }
        }
       }
      }
     },
     "metadata": {},
     "output_type": "display_data"
    }
   ],
   "source": [
    "model.visualize_term_rank()"
   ]
  },
  {
   "cell_type": "code",
   "execution_count": null,
   "metadata": {},
   "outputs": [
    {
     "data": {
      "application/vnd.plotly.v1+json": {
       "config": {
        "plotlyServerURL": "https://plot.ly"
       },
       "data": [
        {
         "hovertext": "<b>Topic -1</b>:investment_rate_cost_it_to_die_onl",
         "line": {
          "color": "black",
          "width": 1.5
         },
         "mode": "lines+lines",
         "name": "",
         "opacity": 0.1,
         "type": "scatter",
         "x": [
          1,
          2,
          3,
          4,
          5,
          6,
          7,
          8,
          9,
          10
         ],
         "y": [
          -1.5480271195624107,
          -1.7638186492243004,
          -1.7647079763525366,
          -1.7882883275725245,
          -1.8039374503816956,
          -1.8056386964214135,
          -1.821810596201987,
          -1.8239147875508313,
          -1.8335642624569624,
          -1.8486257101225925
         ]
        },
        {
         "hovertext": "<b>Topic 0</b>:journal_economic_economics_groh_og_",
         "line": {
          "color": "black",
          "width": 1.5
         },
         "mode": "lines+lines",
         "name": "",
         "opacity": 0.1,
         "type": "scatter",
         "x": [
          1,
          2,
          3,
          4,
          5,
          6,
          7,
          8,
          9,
          10
         ],
         "y": [
          -1.2544982125508222,
          -1.3364291920011198,
          -1.4649679309997214,
          -1.485198265488588,
          -1.619097878252162,
          -1.6264591690187926,
          -1.6566300026490457,
          -1.6579357605954246,
          -1.6709801867923857,
          -1.697789021186294
         ]
        },
        {
         "hovertext": "<b>Topic 1</b>:aci_ci_eto_la_vida_ec_cci_cim_os_if",
         "line": {
          "color": "black",
          "width": 1.5
         },
         "mode": "lines+lines",
         "name": "",
         "opacity": 0.1,
         "type": "scatter",
         "x": [
          1,
          2,
          3,
          4,
          5,
          6,
          7,
          8,
          9,
          10
         ],
         "y": [
          -1.313399104210443,
          -1.3462229825453291,
          -1.3474730598223363,
          -1.4243207161235538,
          -1.4306109115929377,
          -1.432964984614102,
          -1.4913333574587622,
          -1.4933855318744174,
          -1.5263576238048742,
          -1.5342822297340597
         ]
        },
        {
         "hovertext": "<b>Topic 2</b>:municips_ark_months_map_municip_jo_",
         "line": {
          "color": "black",
          "width": 1.5
         },
         "mode": "lines+lines",
         "name": "",
         "opacity": 0.1,
         "type": "scatter",
         "x": [
          1,
          2,
          3,
          4,
          5,
          6,
          7,
          8,
          9,
          10
         ],
         "y": [
          -0.9033873516861091,
          -0.9418992872260552,
          -0.969173974079894,
          -0.9957016130050164,
          -1.0832538521382145,
          -1.1246778692305097,
          -1.1413148077715978,
          -1.146876364121367,
          -1.1574214616406513,
          -1.1812943988812978
         ]
        },
        {
         "hovertext": "<b>Topic 3</b>:relatns_leotie_to_px_py_ined_trefor",
         "line": {
          "color": "black",
          "width": 1.5
         },
         "mode": "lines+lines",
         "name": "",
         "opacity": 0.1,
         "type": "scatter",
         "x": [
          1,
          2,
          3,
          4,
          5,
          6,
          7,
          8,
          9,
          10
         ],
         "y": [
          -0.9684678233510673,
          -1.015532552139599,
          -1.0909425911905957,
          -1.16159474524288,
          -1.16159474524288,
          -1.1672774555272178,
          -1.2179848613138848,
          -1.2436334858097082,
          -1.2554135155503068,
          -1.266670995813381
         ]
        },
        {
         "hovertext": "<b>Topic 4</b>:maoeconomic_business_economic_moody",
         "line": {
          "color": "black",
          "width": 1.5
         },
         "mode": "lines+lines",
         "name": "",
         "opacity": 0.1,
         "type": "scatter",
         "x": [
          1,
          2,
          3,
          4,
          5,
          6,
          7,
          8,
          9,
          10
         ],
         "y": [
          -1.3327863601273857,
          -1.348996730939554,
          -1.4216021089738196,
          -1.444345938830478,
          -1.455452061853841,
          -1.45759768702971,
          -1.49323128129799,
          -1.503301273637235,
          -1.5234647300738833,
          -1.5679523908475161
         ]
        },
        {
         "hovertext": "<b>Topic 5</b>:wcw_next_abstra_aive_velopi_notice_",
         "line": {
          "color": "black",
          "width": 1.5
         },
         "mode": "lines+lines",
         "name": "",
         "opacity": 0.1,
         "type": "scatter",
         "x": [
          1,
          2,
          3,
          4,
          5,
          6,
          7,
          8,
          9,
          10
         ],
         "y": [
          -0.6329411740141129,
          -0.8998322109125098,
          -0.9040900027934725,
          -1.023015939765722,
          -1.094388926477033,
          -1.094388926477033,
          -1.114029707620407,
          -1.1470008517600556,
          -1.173172292531113,
          -1.1832964585548549
         ]
        },
        {
         "hovertext": "<b>Topic 6</b>:intellence_articial_fall_wdle_key_h",
         "line": {
          "color": "black",
          "width": 1.5
         },
         "mode": "lines+lines",
         "name": "",
         "opacity": 0.1,
         "type": "scatter",
         "x": [
          1,
          2,
          3,
          4,
          5,
          6,
          7,
          8,
          9,
          10
         ],
         "y": [
          -0.8075365844089121,
          -0.8085424622979794,
          -0.8974739792822402,
          -1.1971975768839258,
          -1.2204449670597222,
          -1.246277598275914,
          -1.2804165570414983,
          -1.3484862093373853,
          -1.389681791393056,
          -1.4053552936497982
         ]
        },
        {
         "hovertext": "<b>Topic 7</b>:coalab_coameasurement_worki_pa_new_",
         "line": {
          "color": "black",
          "width": 1.5
         },
         "mode": "lines+lines",
         "name": "",
         "opacity": 0.1,
         "type": "scatter",
         "x": [
          1,
          2,
          3,
          4,
          5,
          6,
          7,
          8,
          9,
          10
         ],
         "y": [
          -1.0422694108743362,
          -1.0422694108743362,
          -1.0510400530840247,
          -1.0564335133047813,
          -1.1197648125656163,
          -1.1483334263270804,
          -1.156144052686915,
          -1.1634976255944112,
          -1.3064009599143769,
          -1.382214819628347
         ]
        },
        {
         "hovertext": "<b>Topic 8</b>:table_dference_distributn_tests_sta",
         "line": {
          "color": "black",
          "width": 1.5
         },
         "mode": "lines+lines",
         "name": "",
         "opacity": 0.1,
         "type": "scatter",
         "x": [
          1,
          2,
          3,
          4,
          5,
          6,
          7,
          8,
          9,
          10
         ],
         "y": [
          -0.28075170908393804,
          -0.833996204763336,
          -0.9799100591633768,
          -1.0100874638190172,
          -1.0100874638190172,
          -1.0512830458746878,
          -1.0638653054308003,
          -1.06695654813143,
          -1.1620141178551084,
          -1.1685822419499021
         ]
        },
        {
         "hovertext": "<b>Topic 9</b>:assets_revenue_aregate_equatns_for_",
         "line": {
          "color": "black",
          "width": 1.5
         },
         "mode": "lines+lines",
         "name": "",
         "opacity": 0.1,
         "type": "scatter",
         "x": [
          1,
          2,
          3,
          4,
          5,
          6,
          7,
          8,
          9,
          10
         ],
         "y": [
          -0.2600575292851515,
          -0.6053583204497884,
          -1.1121522040937715,
          -1.1454487316744157,
          -1.2938975041013578,
          -1.3462354101271394,
          -1.3869908816245375,
          -1.4233366221617287,
          -1.4669697706923281,
          -1.4774327462709358
         ]
        },
        {
         "hovertext": "<b>Topic 10</b>:ger_minas_intellence_articial_bras",
         "line": {
          "color": "black",
          "width": 1.5
         },
         "mode": "lines+lines",
         "name": "",
         "opacity": 0.1,
         "type": "scatter",
         "x": [
          1,
          2,
          3,
          4,
          5,
          6,
          7,
          8,
          9,
          10
         ],
         "y": [
          -0.8743819593878778,
          -0.8788842168370251,
          -1.0152637796609587,
          -1.015870673156412,
          -1.212164602805022,
          -1.2337901676785124,
          -1.4191755649959388,
          -1.4669697706923281,
          -1.4774327462709358,
          -1.4854352272011702
         ]
        },
        {
         "hovertext": "<b>Topic 11</b>:mtable_many_images_ehteemi_intyi_n",
         "line": {
          "color": "black",
          "width": 1.5
         },
         "mode": "lines+lines",
         "name": "",
         "opacity": 0.1,
         "type": "scatter",
         "x": [
          1,
          2,
          3,
          4,
          5,
          6,
          7,
          8,
          9,
          10
         ],
         "y": [
          -0.4545396017853115,
          -0.5584571936327447,
          -0.6781576108362463,
          -0.6781576108362463,
          -0.6781576108362463,
          -0.6781576108362463,
          -0.6781576108362463,
          -0.6781576108362463,
          -0.6781576108362463,
          -0.6781576108362463
         ]
        },
        {
         "hovertext": "<b>Topic 12</b>:edits_loans_payments_eq_for_edit_l",
         "line": {
          "color": "black",
          "width": 1.5
         },
         "mode": "lines+lines",
         "name": "",
         "opacity": 0.1,
         "type": "scatter",
         "x": [
          1,
          2,
          3,
          4,
          5,
          6,
          7,
          8,
          9,
          10
         ],
         "y": [
          -0.3690493570965542,
          -0.5153439929801444,
          -0.7721399951794762,
          -1.091516579630891,
          -1.1878588958947873,
          -1.2133448278117345,
          -1.2209792045478172,
          -1.264184168416497,
          -1.3365298755889898,
          -1.363204471817823
         ]
        },
        {
         "hovertext": "<b>Topic 13</b>:pc_marak_aklos_pole_is_bayesiawith",
         "line": {
          "color": "black",
          "width": 1.5
         },
         "mode": "lines+lines",
         "name": "",
         "opacity": 0.1,
         "type": "scatter",
         "x": [
          1,
          2,
          3,
          4,
          5,
          6,
          7,
          8,
          9,
          10
         ],
         "y": [
          -0.6287508079271548,
          -0.7277945400125785,
          -0.8697468403026755,
          -0.8697468403026755,
          -1.0380600802696087,
          -1.1178693057641877,
          -1.1178693057641877,
          -1.1178693057641877,
          -1.1178693057641877,
          -1.1178693057641877
         ]
        },
        {
         "hovertext": "<b>Topic 14</b>:esta_gr_fec_mum_md_rianz_ari_est_z",
         "line": {
          "color": "black",
          "width": 1.5
         },
         "mode": "lines+lines",
         "name": "",
         "opacity": 0.1,
         "type": "scatter",
         "x": [
          1,
          2,
          3,
          4,
          5,
          6,
          7,
          8,
          9,
          10
         ],
         "y": [
          -0.4513248947258122,
          -0.6593716653115813,
          -0.8772822370595709,
          -0.889486208731963,
          -0.9005296272353672,
          -0.9005296272353672,
          -0.9105628597120637,
          -0.9219023155128082,
          -0.9272658614711111,
          -0.9444977844171227
         ]
        },
        {
         "hovertext": "<b>Topic 15</b>:road_belt_one_eur_sk_chinese_econo",
         "line": {
          "color": "black",
          "width": 1.5
         },
         "mode": "lines+lines",
         "name": "",
         "opacity": 0.1,
         "type": "scatter",
         "x": [
          1,
          2,
          3,
          4,
          5,
          6,
          7,
          8,
          9,
          10
         ],
         "y": [
          -0.6616861578324961,
          -0.7584140136706505,
          -0.8182272493347826,
          -0.8902497332376376,
          -0.9104531193259247,
          -0.9668548114372535,
          -1.1643842725914764,
          -1.1795653291931805,
          -1.2582346820961787,
          -1.2654624084424524
         ]
        },
        {
         "hovertext": "<b>Topic 16</b>:ui_equatns_continuity_mand_supply_",
         "line": {
          "color": "black",
          "width": 1.5
         },
         "mode": "lines+lines",
         "name": "",
         "opacity": 0.1,
         "type": "scatter",
         "x": [
          1,
          2,
          3,
          4,
          5,
          6,
          7,
          8,
          9,
          10
         ],
         "y": [
          -0.670197795301528,
          -0.8283571284174659,
          -0.8436255553646458,
          -0.9002049906686983,
          -0.9054896997943744,
          -0.9602877537387474,
          -1.0773852915932634,
          -1.1782593355231228,
          -1.184979083249456,
          -1.1899388717480053
         ]
        },
        {
         "hovertext": "<b>Topic 17</b>:mono_alias_boca_true_ba_regjajaub_",
         "line": {
          "color": "black",
          "width": 1.5
         },
         "mode": "lines+lines",
         "name": "",
         "opacity": 0.1,
         "type": "scatter",
         "x": [
          1,
          2,
          3,
          4,
          5,
          6,
          7,
          8,
          9,
          10
         ],
         "y": [
          -0.5908493623071647,
          -0.6330693337112587,
          -0.6719710919954126,
          -0.6770134079750673,
          -0.724839707066904,
          -0.7355252989667859,
          -0.7732671965646062,
          -0.8050072859361223,
          -0.902392957642602,
          -0.9116165580224671
         ]
        },
        {
         "hovertext": "<b>Topic 18</b>:regi_mice_or_goregnal_map_tri_logo",
         "line": {
          "color": "black",
          "width": 1.5
         },
         "mode": "lines+lines",
         "name": "",
         "opacity": 0.1,
         "type": "scatter",
         "x": [
          1,
          2,
          3,
          4,
          5,
          6,
          7,
          8,
          9,
          10
         ],
         "y": [
          -0.6202850504868241,
          -0.6354415650837144,
          -0.7626937657133118,
          -0.8858543265465411,
          -0.9186947709853754,
          -0.9364715607476956,
          -0.955867724403834,
          -0.9805790487290279,
          -1.0038264389048244,
          -1.0319748945809735
         ]
        },
        {
         "hovertext": "<b>Topic 19</b>:individuals_party_boyd_ester_fog_o",
         "line": {
          "color": "black",
          "width": 1.5
         },
         "mode": "lines+lines",
         "name": "",
         "opacity": 0.1,
         "type": "scatter",
         "x": [
          1,
          2,
          3,
          4,
          5,
          6,
          7,
          8,
          9,
          10
         ],
         "y": [
          -0.6535240053266169,
          -0.7616188281848418,
          -0.8213483811877423,
          -0.8813199711695183,
          -0.8813199711695183,
          -1.0726638639279804,
          -1.09442343713334,
          -1.0953034778654462,
          -1.1254808825210867,
          -1.1254808825210867
         ]
        },
        {
         "hovertext": "<b>Topic 20</b>:future_table_sis_got_stock_get_res",
         "line": {
          "color": "black",
          "width": 1.5
         },
         "mode": "lines+lines",
         "name": "",
         "opacity": 0.1,
         "type": "scatter",
         "x": [
          1,
          2,
          3,
          4,
          5,
          6,
          7,
          8,
          9,
          10
         ],
         "y": [
          -0.3265054808206849,
          -0.733004948702817,
          -0.7635029851375125,
          -0.9287683282174374,
          -0.9469038541830012,
          -1.0099557945180422,
          -1.0537070648257374,
          -1.0579648567067002,
          -1.0721725213345794,
          -1.1085820909078545
         ]
        },
        {
         "hovertext": "<b>Topic 21</b>:learner_samuelso_war_world_jun_iai",
         "line": {
          "color": "black",
          "width": 1.5
         },
         "mode": "lines+lines",
         "name": "",
         "opacity": 0.1,
         "type": "scatter",
         "x": [
          1,
          2,
          3,
          4,
          5,
          6,
          7,
          8,
          9,
          10
         ],
         "y": [
          -0.30728870344179954,
          -0.39633347352942755,
          -0.426510878185068,
          -0.6140014093901183,
          -0.6501288872360027,
          -0.6501288872360027,
          -0.6501288872360027,
          -0.6501288872360027,
          -0.6501288872360027,
          -0.6501288872360027
         ]
        },
        {
         "hovertext": "<b>Topic 22</b>:area_nad_tness_fc_le_wnotably_anrs",
         "line": {
          "color": "black",
          "width": 1.5
         },
         "mode": "lines+lines",
         "name": "",
         "opacity": 0.1,
         "type": "scatter",
         "x": [
          1,
          2,
          3,
          4,
          5,
          6,
          7,
          8,
          9,
          10
         ],
         "y": [
          -0.38909931723603186,
          -0.3984409257720161,
          -0.4863189344510658,
          -0.762302980108261,
          -0.8380313851952139,
          -0.9859209891591958,
          -0.9859209891591958,
          -0.9859209891591958,
          -0.9859209891591958,
          -0.9859209891591958
         ]
        }
       ],
       "layout": {
        "height": 500,
        "hoverlabel": {
         "bgcolor": "white",
         "font": {
          "family": "Rockwell",
          "size": 16
         }
        },
        "showlegend": false,
        "template": {
         "data": {
          "bar": [
           {
            "error_x": {
             "color": "#2a3f5f"
            },
            "error_y": {
             "color": "#2a3f5f"
            },
            "marker": {
             "line": {
              "color": "white",
              "width": 0.5
             },
             "pattern": {
              "fillmode": "overlay",
              "size": 10,
              "solidity": 0.2
             }
            },
            "type": "bar"
           }
          ],
          "barpolar": [
           {
            "marker": {
             "line": {
              "color": "white",
              "width": 0.5
             },
             "pattern": {
              "fillmode": "overlay",
              "size": 10,
              "solidity": 0.2
             }
            },
            "type": "barpolar"
           }
          ],
          "carpet": [
           {
            "aaxis": {
             "endlinecolor": "#2a3f5f",
             "gridcolor": "#C8D4E3",
             "linecolor": "#C8D4E3",
             "minorgridcolor": "#C8D4E3",
             "startlinecolor": "#2a3f5f"
            },
            "baxis": {
             "endlinecolor": "#2a3f5f",
             "gridcolor": "#C8D4E3",
             "linecolor": "#C8D4E3",
             "minorgridcolor": "#C8D4E3",
             "startlinecolor": "#2a3f5f"
            },
            "type": "carpet"
           }
          ],
          "choropleth": [
           {
            "colorbar": {
             "outlinewidth": 0,
             "ticks": ""
            },
            "type": "choropleth"
           }
          ],
          "contour": [
           {
            "colorbar": {
             "outlinewidth": 0,
             "ticks": ""
            },
            "colorscale": [
             [
              0,
              "#0d0887"
             ],
             [
              0.1111111111111111,
              "#46039f"
             ],
             [
              0.2222222222222222,
              "#7201a8"
             ],
             [
              0.3333333333333333,
              "#9c179e"
             ],
             [
              0.4444444444444444,
              "#bd3786"
             ],
             [
              0.5555555555555556,
              "#d8576b"
             ],
             [
              0.6666666666666666,
              "#ed7953"
             ],
             [
              0.7777777777777778,
              "#fb9f3a"
             ],
             [
              0.8888888888888888,
              "#fdca26"
             ],
             [
              1,
              "#f0f921"
             ]
            ],
            "type": "contour"
           }
          ],
          "contourcarpet": [
           {
            "colorbar": {
             "outlinewidth": 0,
             "ticks": ""
            },
            "type": "contourcarpet"
           }
          ],
          "heatmap": [
           {
            "colorbar": {
             "outlinewidth": 0,
             "ticks": ""
            },
            "colorscale": [
             [
              0,
              "#0d0887"
             ],
             [
              0.1111111111111111,
              "#46039f"
             ],
             [
              0.2222222222222222,
              "#7201a8"
             ],
             [
              0.3333333333333333,
              "#9c179e"
             ],
             [
              0.4444444444444444,
              "#bd3786"
             ],
             [
              0.5555555555555556,
              "#d8576b"
             ],
             [
              0.6666666666666666,
              "#ed7953"
             ],
             [
              0.7777777777777778,
              "#fb9f3a"
             ],
             [
              0.8888888888888888,
              "#fdca26"
             ],
             [
              1,
              "#f0f921"
             ]
            ],
            "type": "heatmap"
           }
          ],
          "heatmapgl": [
           {
            "colorbar": {
             "outlinewidth": 0,
             "ticks": ""
            },
            "colorscale": [
             [
              0,
              "#0d0887"
             ],
             [
              0.1111111111111111,
              "#46039f"
             ],
             [
              0.2222222222222222,
              "#7201a8"
             ],
             [
              0.3333333333333333,
              "#9c179e"
             ],
             [
              0.4444444444444444,
              "#bd3786"
             ],
             [
              0.5555555555555556,
              "#d8576b"
             ],
             [
              0.6666666666666666,
              "#ed7953"
             ],
             [
              0.7777777777777778,
              "#fb9f3a"
             ],
             [
              0.8888888888888888,
              "#fdca26"
             ],
             [
              1,
              "#f0f921"
             ]
            ],
            "type": "heatmapgl"
           }
          ],
          "histogram": [
           {
            "marker": {
             "pattern": {
              "fillmode": "overlay",
              "size": 10,
              "solidity": 0.2
             }
            },
            "type": "histogram"
           }
          ],
          "histogram2d": [
           {
            "colorbar": {
             "outlinewidth": 0,
             "ticks": ""
            },
            "colorscale": [
             [
              0,
              "#0d0887"
             ],
             [
              0.1111111111111111,
              "#46039f"
             ],
             [
              0.2222222222222222,
              "#7201a8"
             ],
             [
              0.3333333333333333,
              "#9c179e"
             ],
             [
              0.4444444444444444,
              "#bd3786"
             ],
             [
              0.5555555555555556,
              "#d8576b"
             ],
             [
              0.6666666666666666,
              "#ed7953"
             ],
             [
              0.7777777777777778,
              "#fb9f3a"
             ],
             [
              0.8888888888888888,
              "#fdca26"
             ],
             [
              1,
              "#f0f921"
             ]
            ],
            "type": "histogram2d"
           }
          ],
          "histogram2dcontour": [
           {
            "colorbar": {
             "outlinewidth": 0,
             "ticks": ""
            },
            "colorscale": [
             [
              0,
              "#0d0887"
             ],
             [
              0.1111111111111111,
              "#46039f"
             ],
             [
              0.2222222222222222,
              "#7201a8"
             ],
             [
              0.3333333333333333,
              "#9c179e"
             ],
             [
              0.4444444444444444,
              "#bd3786"
             ],
             [
              0.5555555555555556,
              "#d8576b"
             ],
             [
              0.6666666666666666,
              "#ed7953"
             ],
             [
              0.7777777777777778,
              "#fb9f3a"
             ],
             [
              0.8888888888888888,
              "#fdca26"
             ],
             [
              1,
              "#f0f921"
             ]
            ],
            "type": "histogram2dcontour"
           }
          ],
          "mesh3d": [
           {
            "colorbar": {
             "outlinewidth": 0,
             "ticks": ""
            },
            "type": "mesh3d"
           }
          ],
          "parcoords": [
           {
            "line": {
             "colorbar": {
              "outlinewidth": 0,
              "ticks": ""
             }
            },
            "type": "parcoords"
           }
          ],
          "pie": [
           {
            "automargin": true,
            "type": "pie"
           }
          ],
          "scatter": [
           {
            "fillpattern": {
             "fillmode": "overlay",
             "size": 10,
             "solidity": 0.2
            },
            "type": "scatter"
           }
          ],
          "scatter3d": [
           {
            "line": {
             "colorbar": {
              "outlinewidth": 0,
              "ticks": ""
             }
            },
            "marker": {
             "colorbar": {
              "outlinewidth": 0,
              "ticks": ""
             }
            },
            "type": "scatter3d"
           }
          ],
          "scattercarpet": [
           {
            "marker": {
             "colorbar": {
              "outlinewidth": 0,
              "ticks": ""
             }
            },
            "type": "scattercarpet"
           }
          ],
          "scattergeo": [
           {
            "marker": {
             "colorbar": {
              "outlinewidth": 0,
              "ticks": ""
             }
            },
            "type": "scattergeo"
           }
          ],
          "scattergl": [
           {
            "marker": {
             "colorbar": {
              "outlinewidth": 0,
              "ticks": ""
             }
            },
            "type": "scattergl"
           }
          ],
          "scattermapbox": [
           {
            "marker": {
             "colorbar": {
              "outlinewidth": 0,
              "ticks": ""
             }
            },
            "type": "scattermapbox"
           }
          ],
          "scatterpolar": [
           {
            "marker": {
             "colorbar": {
              "outlinewidth": 0,
              "ticks": ""
             }
            },
            "type": "scatterpolar"
           }
          ],
          "scatterpolargl": [
           {
            "marker": {
             "colorbar": {
              "outlinewidth": 0,
              "ticks": ""
             }
            },
            "type": "scatterpolargl"
           }
          ],
          "scatterternary": [
           {
            "marker": {
             "colorbar": {
              "outlinewidth": 0,
              "ticks": ""
             }
            },
            "type": "scatterternary"
           }
          ],
          "surface": [
           {
            "colorbar": {
             "outlinewidth": 0,
             "ticks": ""
            },
            "colorscale": [
             [
              0,
              "#0d0887"
             ],
             [
              0.1111111111111111,
              "#46039f"
             ],
             [
              0.2222222222222222,
              "#7201a8"
             ],
             [
              0.3333333333333333,
              "#9c179e"
             ],
             [
              0.4444444444444444,
              "#bd3786"
             ],
             [
              0.5555555555555556,
              "#d8576b"
             ],
             [
              0.6666666666666666,
              "#ed7953"
             ],
             [
              0.7777777777777778,
              "#fb9f3a"
             ],
             [
              0.8888888888888888,
              "#fdca26"
             ],
             [
              1,
              "#f0f921"
             ]
            ],
            "type": "surface"
           }
          ],
          "table": [
           {
            "cells": {
             "fill": {
              "color": "#EBF0F8"
             },
             "line": {
              "color": "white"
             }
            },
            "header": {
             "fill": {
              "color": "#C8D4E3"
             },
             "line": {
              "color": "white"
             }
            },
            "type": "table"
           }
          ]
         },
         "layout": {
          "annotationdefaults": {
           "arrowcolor": "#2a3f5f",
           "arrowhead": 0,
           "arrowwidth": 1
          },
          "autotypenumbers": "strict",
          "coloraxis": {
           "colorbar": {
            "outlinewidth": 0,
            "ticks": ""
           }
          },
          "colorscale": {
           "diverging": [
            [
             0,
             "#8e0152"
            ],
            [
             0.1,
             "#c51b7d"
            ],
            [
             0.2,
             "#de77ae"
            ],
            [
             0.3,
             "#f1b6da"
            ],
            [
             0.4,
             "#fde0ef"
            ],
            [
             0.5,
             "#f7f7f7"
            ],
            [
             0.6,
             "#e6f5d0"
            ],
            [
             0.7,
             "#b8e186"
            ],
            [
             0.8,
             "#7fbc41"
            ],
            [
             0.9,
             "#4d9221"
            ],
            [
             1,
             "#276419"
            ]
           ],
           "sequential": [
            [
             0,
             "#0d0887"
            ],
            [
             0.1111111111111111,
             "#46039f"
            ],
            [
             0.2222222222222222,
             "#7201a8"
            ],
            [
             0.3333333333333333,
             "#9c179e"
            ],
            [
             0.4444444444444444,
             "#bd3786"
            ],
            [
             0.5555555555555556,
             "#d8576b"
            ],
            [
             0.6666666666666666,
             "#ed7953"
            ],
            [
             0.7777777777777778,
             "#fb9f3a"
            ],
            [
             0.8888888888888888,
             "#fdca26"
            ],
            [
             1,
             "#f0f921"
            ]
           ],
           "sequentialminus": [
            [
             0,
             "#0d0887"
            ],
            [
             0.1111111111111111,
             "#46039f"
            ],
            [
             0.2222222222222222,
             "#7201a8"
            ],
            [
             0.3333333333333333,
             "#9c179e"
            ],
            [
             0.4444444444444444,
             "#bd3786"
            ],
            [
             0.5555555555555556,
             "#d8576b"
            ],
            [
             0.6666666666666666,
             "#ed7953"
            ],
            [
             0.7777777777777778,
             "#fb9f3a"
            ],
            [
             0.8888888888888888,
             "#fdca26"
            ],
            [
             1,
             "#f0f921"
            ]
           ]
          },
          "colorway": [
           "#636efa",
           "#EF553B",
           "#00cc96",
           "#ab63fa",
           "#FFA15A",
           "#19d3f3",
           "#FF6692",
           "#B6E880",
           "#FF97FF",
           "#FECB52"
          ],
          "font": {
           "color": "#2a3f5f"
          },
          "geo": {
           "bgcolor": "white",
           "lakecolor": "white",
           "landcolor": "white",
           "showlakes": true,
           "showland": true,
           "subunitcolor": "#C8D4E3"
          },
          "hoverlabel": {
           "align": "left"
          },
          "hovermode": "closest",
          "mapbox": {
           "style": "light"
          },
          "paper_bgcolor": "white",
          "plot_bgcolor": "white",
          "polar": {
           "angularaxis": {
            "gridcolor": "#EBF0F8",
            "linecolor": "#EBF0F8",
            "ticks": ""
           },
           "bgcolor": "white",
           "radialaxis": {
            "gridcolor": "#EBF0F8",
            "linecolor": "#EBF0F8",
            "ticks": ""
           }
          },
          "scene": {
           "xaxis": {
            "backgroundcolor": "white",
            "gridcolor": "#DFE8F3",
            "gridwidth": 2,
            "linecolor": "#EBF0F8",
            "showbackground": true,
            "ticks": "",
            "zerolinecolor": "#EBF0F8"
           },
           "yaxis": {
            "backgroundcolor": "white",
            "gridcolor": "#DFE8F3",
            "gridwidth": 2,
            "linecolor": "#EBF0F8",
            "showbackground": true,
            "ticks": "",
            "zerolinecolor": "#EBF0F8"
           },
           "zaxis": {
            "backgroundcolor": "white",
            "gridcolor": "#DFE8F3",
            "gridwidth": 2,
            "linecolor": "#EBF0F8",
            "showbackground": true,
            "ticks": "",
            "zerolinecolor": "#EBF0F8"
           }
          },
          "shapedefaults": {
           "line": {
            "color": "#2a3f5f"
           }
          },
          "ternary": {
           "aaxis": {
            "gridcolor": "#DFE8F3",
            "linecolor": "#A2B1C6",
            "ticks": ""
           },
           "baxis": {
            "gridcolor": "#DFE8F3",
            "linecolor": "#A2B1C6",
            "ticks": ""
           },
           "bgcolor": "white",
           "caxis": {
            "gridcolor": "#DFE8F3",
            "linecolor": "#A2B1C6",
            "ticks": ""
           }
          },
          "title": {
           "x": 0.05
          },
          "xaxis": {
           "automargin": true,
           "gridcolor": "#EBF0F8",
           "linecolor": "#EBF0F8",
           "ticks": "",
           "title": {
            "standoff": 15
           },
           "zerolinecolor": "#EBF0F8",
           "zerolinewidth": 2
          },
          "yaxis": {
           "automargin": true,
           "gridcolor": "#EBF0F8",
           "linecolor": "#EBF0F8",
           "ticks": "",
           "title": {
            "standoff": 15
           },
           "zerolinecolor": "#EBF0F8",
           "zerolinewidth": 2
          }
         }
        },
        "title": {
         "font": {
          "color": "Black",
          "size": 22
         },
         "text": "<b>Term score decline per Topic</b>",
         "x": 0.5,
         "xanchor": "center",
         "y": 0.9,
         "yanchor": "top"
        },
        "width": 800,
        "xaxis": {
         "dtick": 2,
         "range": [
          0,
          10
         ],
         "tick0": 1,
         "title": {
          "text": "Term Rank"
         }
        },
        "yaxis": {
         "title": {
          "text": "c-TF-IDF score (log scale)"
         }
        }
       }
      }
     },
     "metadata": {},
     "output_type": "display_data"
    }
   ],
   "source": [
    "model.visualize_term_rank(log_scale=True)"
   ]
  },
  {
   "cell_type": "code",
   "execution_count": null,
   "metadata": {},
   "outputs": [
    {
     "data": {
      "application/vnd.plotly.v1+json": {
       "config": {
        "plotlyServerURL": "https://plot.ly"
       },
       "data": [
        {
         "customdata": [
          [
           0,
           "journal | economic | economics | groh | og",
           52
          ],
          [
           1,
           "aci | ci | eto | la | vida",
           51
          ],
          [
           2,
           "municips | ark | months | map | municip",
           38
          ],
          [
           3,
           "relatns | leotie | to | px | py",
           37
          ],
          [
           4,
           "maoeconomic | business | economic | moody | nance",
           35
          ],
          [
           5,
           "wcw | next | abstra | aive | velopi",
           33
          ],
          [
           6,
           "intellence | articial | fall | wdle | key",
           30
          ],
          [
           7,
           "coalab | coameasurement | worki | pa | new",
           27
          ],
          [
           8,
           "table | dference | distributn | tests | standardized",
           25
          ],
          [
           9,
           "assets | revenue | aregate | equatns | for",
           21
          ],
          [
           10,
           "ger | minas | intellence | articial | bras",
           19
          ],
          [
           11,
           "mtable | many | images | ehteemi | intyi",
           17
          ],
          [
           12,
           "edits | loans | payments | eq | for",
           15
          ],
          [
           13,
           "pc | marak | aklos | pole | is",
           13
          ],
          [
           14,
           "esta | gr | fec | mum | md",
           13
          ],
          [
           15,
           "road | belt | one | eur | sk",
           13
          ],
          [
           16,
           "ui | equatns | continuity | mand | supply",
           12
          ],
          [
           17,
           "mono | alias | boca | true | ba",
           11
          ],
          [
           18,
           "regi | mice | or | goregnal | map",
           11
          ],
          [
           19,
           "individuals | party | boyd | ester | fog",
           8
          ],
          [
           20,
           "future | table | sis | got | stock",
           8
          ],
          [
           21,
           "learner | samuelso | war | world | jun",
           8
          ],
          [
           22,
           "area | nad | tness | fc | le",
           8
          ]
         ],
         "hovertemplate": "<b>Topic %{customdata[0]}</b><br>%{customdata[1]}<br>Size: %{customdata[2]}",
         "legendgroup": "",
         "marker": {
          "color": "#B0BEC5",
          "line": {
           "color": "DarkSlateGrey",
           "width": 2
          },
          "size": [
           52,
           51,
           38,
           37,
           35,
           33,
           30,
           27,
           25,
           21,
           19,
           17,
           15,
           13,
           13,
           13,
           12,
           11,
           11,
           8,
           8,
           8,
           8
          ],
          "sizemode": "area",
          "sizeref": 0.0325,
          "symbol": "circle"
         },
         "mode": "markers",
         "name": "",
         "orientation": "v",
         "showlegend": false,
         "type": "scatter",
         "x": [
          0.2180858701467514,
          8.084125518798828,
          9.164151191711426,
          -1.085552453994751,
          0.12958289682865143,
          16.189775466918945,
          9.868027687072754,
          0.49065572023391724,
          -3.2673962116241455,
          -0.7304471135139465,
          9.511483192443848,
          16.399396896362305,
          -0.5759816765785217,
          0.650204062461853,
          7.766226291656494,
          -0.053159136325120926,
          -0.8931559920310974,
          8.05703353881836,
          9.142350196838379,
          9.96903133392334,
          -3.385728597640991,
          0.865906834602356,
          15.942917823791504
         ],
         "xaxis": "x",
         "y": [
          -15.65367317199707,
          14.482978820800781,
          13.808753967285156,
          4.53267765045166,
          -16.313077926635742,
          -1.626473069190979,
          14.33056926727295,
          -15.713481903076172,
          -4.165224075317383,
          4.177783012390137,
          14.080538749694824,
          -1.8360698223114014,
          4.023356914520264,
          -15.140192985534668,
          14.719836235046387,
          -16.614131927490234,
          4.34018087387085,
          14.665200233459473,
          14.373567581176758,
          14.583089828491211,
          -4.283503532409668,
          -14.877029418945312,
          -1.379629135131836
         ],
         "yaxis": "y"
        }
       ],
       "layout": {
        "annotations": [
         {
          "showarrow": false,
          "text": "D1",
          "x": -3.89358788728714,
          "y": -1.089220023155212,
          "yshift": 10
         },
         {
          "showarrow": false,
          "text": "D2",
          "x": 7.482859271764756,
          "xshift": 10,
          "y": 16.927811670303345
         }
        ],
        "height": 650,
        "hoverlabel": {
         "bgcolor": "white",
         "font": {
          "family": "Rockwell",
          "size": 16
         }
        },
        "legend": {
         "itemsizing": "constant",
         "tracegroupgap": 0
        },
        "margin": {
         "t": 60
        },
        "shapes": [
         {
          "line": {
           "color": "#CFD8DC",
           "width": 2
          },
          "type": "line",
          "x0": 7.482859271764756,
          "x1": 7.482859271764756,
          "y0": -19.10625171661377,
          "y1": 16.927811670303345
         },
         {
          "line": {
           "color": "#9E9E9E",
           "width": 2
          },
          "type": "line",
          "x0": -3.89358788728714,
          "x1": 18.859306430816652,
          "y0": -1.089220023155212,
          "y1": -1.089220023155212
         }
        ],
        "sliders": [
         {
          "active": 0,
          "pad": {
           "t": 50
          },
          "steps": [
           {
            "args": [
             {
              "marker.color": [
               [
                "red",
                "#B0BEC5",
                "#B0BEC5",
                "#B0BEC5",
                "#B0BEC5",
                "#B0BEC5",
                "#B0BEC5",
                "#B0BEC5",
                "#B0BEC5",
                "#B0BEC5",
                "#B0BEC5",
                "#B0BEC5",
                "#B0BEC5",
                "#B0BEC5",
                "#B0BEC5",
                "#B0BEC5",
                "#B0BEC5",
                "#B0BEC5",
                "#B0BEC5",
                "#B0BEC5",
                "#B0BEC5",
                "#B0BEC5",
                "#B0BEC5"
               ]
              ]
             }
            ],
            "label": "Topic 0",
            "method": "update"
           },
           {
            "args": [
             {
              "marker.color": [
               [
                "#B0BEC5",
                "red",
                "#B0BEC5",
                "#B0BEC5",
                "#B0BEC5",
                "#B0BEC5",
                "#B0BEC5",
                "#B0BEC5",
                "#B0BEC5",
                "#B0BEC5",
                "#B0BEC5",
                "#B0BEC5",
                "#B0BEC5",
                "#B0BEC5",
                "#B0BEC5",
                "#B0BEC5",
                "#B0BEC5",
                "#B0BEC5",
                "#B0BEC5",
                "#B0BEC5",
                "#B0BEC5",
                "#B0BEC5",
                "#B0BEC5"
               ]
              ]
             }
            ],
            "label": "Topic 1",
            "method": "update"
           },
           {
            "args": [
             {
              "marker.color": [
               [
                "#B0BEC5",
                "#B0BEC5",
                "red",
                "#B0BEC5",
                "#B0BEC5",
                "#B0BEC5",
                "#B0BEC5",
                "#B0BEC5",
                "#B0BEC5",
                "#B0BEC5",
                "#B0BEC5",
                "#B0BEC5",
                "#B0BEC5",
                "#B0BEC5",
                "#B0BEC5",
                "#B0BEC5",
                "#B0BEC5",
                "#B0BEC5",
                "#B0BEC5",
                "#B0BEC5",
                "#B0BEC5",
                "#B0BEC5",
                "#B0BEC5"
               ]
              ]
             }
            ],
            "label": "Topic 2",
            "method": "update"
           },
           {
            "args": [
             {
              "marker.color": [
               [
                "#B0BEC5",
                "#B0BEC5",
                "#B0BEC5",
                "red",
                "#B0BEC5",
                "#B0BEC5",
                "#B0BEC5",
                "#B0BEC5",
                "#B0BEC5",
                "#B0BEC5",
                "#B0BEC5",
                "#B0BEC5",
                "#B0BEC5",
                "#B0BEC5",
                "#B0BEC5",
                "#B0BEC5",
                "#B0BEC5",
                "#B0BEC5",
                "#B0BEC5",
                "#B0BEC5",
                "#B0BEC5",
                "#B0BEC5",
                "#B0BEC5"
               ]
              ]
             }
            ],
            "label": "Topic 3",
            "method": "update"
           },
           {
            "args": [
             {
              "marker.color": [
               [
                "#B0BEC5",
                "#B0BEC5",
                "#B0BEC5",
                "#B0BEC5",
                "red",
                "#B0BEC5",
                "#B0BEC5",
                "#B0BEC5",
                "#B0BEC5",
                "#B0BEC5",
                "#B0BEC5",
                "#B0BEC5",
                "#B0BEC5",
                "#B0BEC5",
                "#B0BEC5",
                "#B0BEC5",
                "#B0BEC5",
                "#B0BEC5",
                "#B0BEC5",
                "#B0BEC5",
                "#B0BEC5",
                "#B0BEC5",
                "#B0BEC5"
               ]
              ]
             }
            ],
            "label": "Topic 4",
            "method": "update"
           },
           {
            "args": [
             {
              "marker.color": [
               [
                "#B0BEC5",
                "#B0BEC5",
                "#B0BEC5",
                "#B0BEC5",
                "#B0BEC5",
                "red",
                "#B0BEC5",
                "#B0BEC5",
                "#B0BEC5",
                "#B0BEC5",
                "#B0BEC5",
                "#B0BEC5",
                "#B0BEC5",
                "#B0BEC5",
                "#B0BEC5",
                "#B0BEC5",
                "#B0BEC5",
                "#B0BEC5",
                "#B0BEC5",
                "#B0BEC5",
                "#B0BEC5",
                "#B0BEC5",
                "#B0BEC5"
               ]
              ]
             }
            ],
            "label": "Topic 5",
            "method": "update"
           },
           {
            "args": [
             {
              "marker.color": [
               [
                "#B0BEC5",
                "#B0BEC5",
                "#B0BEC5",
                "#B0BEC5",
                "#B0BEC5",
                "#B0BEC5",
                "red",
                "#B0BEC5",
                "#B0BEC5",
                "#B0BEC5",
                "#B0BEC5",
                "#B0BEC5",
                "#B0BEC5",
                "#B0BEC5",
                "#B0BEC5",
                "#B0BEC5",
                "#B0BEC5",
                "#B0BEC5",
                "#B0BEC5",
                "#B0BEC5",
                "#B0BEC5",
                "#B0BEC5",
                "#B0BEC5"
               ]
              ]
             }
            ],
            "label": "Topic 6",
            "method": "update"
           },
           {
            "args": [
             {
              "marker.color": [
               [
                "#B0BEC5",
                "#B0BEC5",
                "#B0BEC5",
                "#B0BEC5",
                "#B0BEC5",
                "#B0BEC5",
                "#B0BEC5",
                "red",
                "#B0BEC5",
                "#B0BEC5",
                "#B0BEC5",
                "#B0BEC5",
                "#B0BEC5",
                "#B0BEC5",
                "#B0BEC5",
                "#B0BEC5",
                "#B0BEC5",
                "#B0BEC5",
                "#B0BEC5",
                "#B0BEC5",
                "#B0BEC5",
                "#B0BEC5",
                "#B0BEC5"
               ]
              ]
             }
            ],
            "label": "Topic 7",
            "method": "update"
           },
           {
            "args": [
             {
              "marker.color": [
               [
                "#B0BEC5",
                "#B0BEC5",
                "#B0BEC5",
                "#B0BEC5",
                "#B0BEC5",
                "#B0BEC5",
                "#B0BEC5",
                "#B0BEC5",
                "red",
                "#B0BEC5",
                "#B0BEC5",
                "#B0BEC5",
                "#B0BEC5",
                "#B0BEC5",
                "#B0BEC5",
                "#B0BEC5",
                "#B0BEC5",
                "#B0BEC5",
                "#B0BEC5",
                "#B0BEC5",
                "#B0BEC5",
                "#B0BEC5",
                "#B0BEC5"
               ]
              ]
             }
            ],
            "label": "Topic 8",
            "method": "update"
           },
           {
            "args": [
             {
              "marker.color": [
               [
                "#B0BEC5",
                "#B0BEC5",
                "#B0BEC5",
                "#B0BEC5",
                "#B0BEC5",
                "#B0BEC5",
                "#B0BEC5",
                "#B0BEC5",
                "#B0BEC5",
                "red",
                "#B0BEC5",
                "#B0BEC5",
                "#B0BEC5",
                "#B0BEC5",
                "#B0BEC5",
                "#B0BEC5",
                "#B0BEC5",
                "#B0BEC5",
                "#B0BEC5",
                "#B0BEC5",
                "#B0BEC5",
                "#B0BEC5",
                "#B0BEC5"
               ]
              ]
             }
            ],
            "label": "Topic 9",
            "method": "update"
           },
           {
            "args": [
             {
              "marker.color": [
               [
                "#B0BEC5",
                "#B0BEC5",
                "#B0BEC5",
                "#B0BEC5",
                "#B0BEC5",
                "#B0BEC5",
                "#B0BEC5",
                "#B0BEC5",
                "#B0BEC5",
                "#B0BEC5",
                "red",
                "#B0BEC5",
                "#B0BEC5",
                "#B0BEC5",
                "#B0BEC5",
                "#B0BEC5",
                "#B0BEC5",
                "#B0BEC5",
                "#B0BEC5",
                "#B0BEC5",
                "#B0BEC5",
                "#B0BEC5",
                "#B0BEC5"
               ]
              ]
             }
            ],
            "label": "Topic 10",
            "method": "update"
           },
           {
            "args": [
             {
              "marker.color": [
               [
                "#B0BEC5",
                "#B0BEC5",
                "#B0BEC5",
                "#B0BEC5",
                "#B0BEC5",
                "#B0BEC5",
                "#B0BEC5",
                "#B0BEC5",
                "#B0BEC5",
                "#B0BEC5",
                "#B0BEC5",
                "red",
                "#B0BEC5",
                "#B0BEC5",
                "#B0BEC5",
                "#B0BEC5",
                "#B0BEC5",
                "#B0BEC5",
                "#B0BEC5",
                "#B0BEC5",
                "#B0BEC5",
                "#B0BEC5",
                "#B0BEC5"
               ]
              ]
             }
            ],
            "label": "Topic 11",
            "method": "update"
           },
           {
            "args": [
             {
              "marker.color": [
               [
                "#B0BEC5",
                "#B0BEC5",
                "#B0BEC5",
                "#B0BEC5",
                "#B0BEC5",
                "#B0BEC5",
                "#B0BEC5",
                "#B0BEC5",
                "#B0BEC5",
                "#B0BEC5",
                "#B0BEC5",
                "#B0BEC5",
                "red",
                "#B0BEC5",
                "#B0BEC5",
                "#B0BEC5",
                "#B0BEC5",
                "#B0BEC5",
                "#B0BEC5",
                "#B0BEC5",
                "#B0BEC5",
                "#B0BEC5",
                "#B0BEC5"
               ]
              ]
             }
            ],
            "label": "Topic 12",
            "method": "update"
           },
           {
            "args": [
             {
              "marker.color": [
               [
                "#B0BEC5",
                "#B0BEC5",
                "#B0BEC5",
                "#B0BEC5",
                "#B0BEC5",
                "#B0BEC5",
                "#B0BEC5",
                "#B0BEC5",
                "#B0BEC5",
                "#B0BEC5",
                "#B0BEC5",
                "#B0BEC5",
                "#B0BEC5",
                "red",
                "#B0BEC5",
                "#B0BEC5",
                "#B0BEC5",
                "#B0BEC5",
                "#B0BEC5",
                "#B0BEC5",
                "#B0BEC5",
                "#B0BEC5",
                "#B0BEC5"
               ]
              ]
             }
            ],
            "label": "Topic 13",
            "method": "update"
           },
           {
            "args": [
             {
              "marker.color": [
               [
                "#B0BEC5",
                "#B0BEC5",
                "#B0BEC5",
                "#B0BEC5",
                "#B0BEC5",
                "#B0BEC5",
                "#B0BEC5",
                "#B0BEC5",
                "#B0BEC5",
                "#B0BEC5",
                "#B0BEC5",
                "#B0BEC5",
                "#B0BEC5",
                "#B0BEC5",
                "red",
                "#B0BEC5",
                "#B0BEC5",
                "#B0BEC5",
                "#B0BEC5",
                "#B0BEC5",
                "#B0BEC5",
                "#B0BEC5",
                "#B0BEC5"
               ]
              ]
             }
            ],
            "label": "Topic 14",
            "method": "update"
           },
           {
            "args": [
             {
              "marker.color": [
               [
                "#B0BEC5",
                "#B0BEC5",
                "#B0BEC5",
                "#B0BEC5",
                "#B0BEC5",
                "#B0BEC5",
                "#B0BEC5",
                "#B0BEC5",
                "#B0BEC5",
                "#B0BEC5",
                "#B0BEC5",
                "#B0BEC5",
                "#B0BEC5",
                "#B0BEC5",
                "#B0BEC5",
                "red",
                "#B0BEC5",
                "#B0BEC5",
                "#B0BEC5",
                "#B0BEC5",
                "#B0BEC5",
                "#B0BEC5",
                "#B0BEC5"
               ]
              ]
             }
            ],
            "label": "Topic 15",
            "method": "update"
           },
           {
            "args": [
             {
              "marker.color": [
               [
                "#B0BEC5",
                "#B0BEC5",
                "#B0BEC5",
                "#B0BEC5",
                "#B0BEC5",
                "#B0BEC5",
                "#B0BEC5",
                "#B0BEC5",
                "#B0BEC5",
                "#B0BEC5",
                "#B0BEC5",
                "#B0BEC5",
                "#B0BEC5",
                "#B0BEC5",
                "#B0BEC5",
                "#B0BEC5",
                "red",
                "#B0BEC5",
                "#B0BEC5",
                "#B0BEC5",
                "#B0BEC5",
                "#B0BEC5",
                "#B0BEC5"
               ]
              ]
             }
            ],
            "label": "Topic 16",
            "method": "update"
           },
           {
            "args": [
             {
              "marker.color": [
               [
                "#B0BEC5",
                "#B0BEC5",
                "#B0BEC5",
                "#B0BEC5",
                "#B0BEC5",
                "#B0BEC5",
                "#B0BEC5",
                "#B0BEC5",
                "#B0BEC5",
                "#B0BEC5",
                "#B0BEC5",
                "#B0BEC5",
                "#B0BEC5",
                "#B0BEC5",
                "#B0BEC5",
                "#B0BEC5",
                "#B0BEC5",
                "red",
                "#B0BEC5",
                "#B0BEC5",
                "#B0BEC5",
                "#B0BEC5",
                "#B0BEC5"
               ]
              ]
             }
            ],
            "label": "Topic 17",
            "method": "update"
           },
           {
            "args": [
             {
              "marker.color": [
               [
                "#B0BEC5",
                "#B0BEC5",
                "#B0BEC5",
                "#B0BEC5",
                "#B0BEC5",
                "#B0BEC5",
                "#B0BEC5",
                "#B0BEC5",
                "#B0BEC5",
                "#B0BEC5",
                "#B0BEC5",
                "#B0BEC5",
                "#B0BEC5",
                "#B0BEC5",
                "#B0BEC5",
                "#B0BEC5",
                "#B0BEC5",
                "#B0BEC5",
                "red",
                "#B0BEC5",
                "#B0BEC5",
                "#B0BEC5",
                "#B0BEC5"
               ]
              ]
             }
            ],
            "label": "Topic 18",
            "method": "update"
           },
           {
            "args": [
             {
              "marker.color": [
               [
                "#B0BEC5",
                "#B0BEC5",
                "#B0BEC5",
                "#B0BEC5",
                "#B0BEC5",
                "#B0BEC5",
                "#B0BEC5",
                "#B0BEC5",
                "#B0BEC5",
                "#B0BEC5",
                "#B0BEC5",
                "#B0BEC5",
                "#B0BEC5",
                "#B0BEC5",
                "#B0BEC5",
                "#B0BEC5",
                "#B0BEC5",
                "#B0BEC5",
                "#B0BEC5",
                "red",
                "#B0BEC5",
                "#B0BEC5",
                "#B0BEC5"
               ]
              ]
             }
            ],
            "label": "Topic 19",
            "method": "update"
           },
           {
            "args": [
             {
              "marker.color": [
               [
                "#B0BEC5",
                "#B0BEC5",
                "#B0BEC5",
                "#B0BEC5",
                "#B0BEC5",
                "#B0BEC5",
                "#B0BEC5",
                "#B0BEC5",
                "#B0BEC5",
                "#B0BEC5",
                "#B0BEC5",
                "#B0BEC5",
                "#B0BEC5",
                "#B0BEC5",
                "#B0BEC5",
                "#B0BEC5",
                "#B0BEC5",
                "#B0BEC5",
                "#B0BEC5",
                "#B0BEC5",
                "red",
                "#B0BEC5",
                "#B0BEC5"
               ]
              ]
             }
            ],
            "label": "Topic 20",
            "method": "update"
           },
           {
            "args": [
             {
              "marker.color": [
               [
                "#B0BEC5",
                "#B0BEC5",
                "#B0BEC5",
                "#B0BEC5",
                "#B0BEC5",
                "#B0BEC5",
                "#B0BEC5",
                "#B0BEC5",
                "#B0BEC5",
                "#B0BEC5",
                "#B0BEC5",
                "#B0BEC5",
                "#B0BEC5",
                "#B0BEC5",
                "#B0BEC5",
                "#B0BEC5",
                "#B0BEC5",
                "#B0BEC5",
                "#B0BEC5",
                "#B0BEC5",
                "#B0BEC5",
                "red",
                "#B0BEC5"
               ]
              ]
             }
            ],
            "label": "Topic 21",
            "method": "update"
           },
           {
            "args": [
             {
              "marker.color": [
               [
                "#B0BEC5",
                "#B0BEC5",
                "#B0BEC5",
                "#B0BEC5",
                "#B0BEC5",
                "#B0BEC5",
                "#B0BEC5",
                "#B0BEC5",
                "#B0BEC5",
                "#B0BEC5",
                "#B0BEC5",
                "#B0BEC5",
                "#B0BEC5",
                "#B0BEC5",
                "#B0BEC5",
                "#B0BEC5",
                "#B0BEC5",
                "#B0BEC5",
                "#B0BEC5",
                "#B0BEC5",
                "#B0BEC5",
                "#B0BEC5",
                "red"
               ]
              ]
             }
            ],
            "label": "Topic 22",
            "method": "update"
           }
          ]
         }
        ],
        "template": {
         "data": {
          "bar": [
           {
            "error_x": {
             "color": "rgb(36,36,36)"
            },
            "error_y": {
             "color": "rgb(36,36,36)"
            },
            "marker": {
             "line": {
              "color": "white",
              "width": 0.5
             },
             "pattern": {
              "fillmode": "overlay",
              "size": 10,
              "solidity": 0.2
             }
            },
            "type": "bar"
           }
          ],
          "barpolar": [
           {
            "marker": {
             "line": {
              "color": "white",
              "width": 0.5
             },
             "pattern": {
              "fillmode": "overlay",
              "size": 10,
              "solidity": 0.2
             }
            },
            "type": "barpolar"
           }
          ],
          "carpet": [
           {
            "aaxis": {
             "endlinecolor": "rgb(36,36,36)",
             "gridcolor": "white",
             "linecolor": "white",
             "minorgridcolor": "white",
             "startlinecolor": "rgb(36,36,36)"
            },
            "baxis": {
             "endlinecolor": "rgb(36,36,36)",
             "gridcolor": "white",
             "linecolor": "white",
             "minorgridcolor": "white",
             "startlinecolor": "rgb(36,36,36)"
            },
            "type": "carpet"
           }
          ],
          "choropleth": [
           {
            "colorbar": {
             "outlinewidth": 1,
             "tickcolor": "rgb(36,36,36)",
             "ticks": "outside"
            },
            "type": "choropleth"
           }
          ],
          "contour": [
           {
            "colorbar": {
             "outlinewidth": 1,
             "tickcolor": "rgb(36,36,36)",
             "ticks": "outside"
            },
            "colorscale": [
             [
              0,
              "#440154"
             ],
             [
              0.1111111111111111,
              "#482878"
             ],
             [
              0.2222222222222222,
              "#3e4989"
             ],
             [
              0.3333333333333333,
              "#31688e"
             ],
             [
              0.4444444444444444,
              "#26828e"
             ],
             [
              0.5555555555555556,
              "#1f9e89"
             ],
             [
              0.6666666666666666,
              "#35b779"
             ],
             [
              0.7777777777777778,
              "#6ece58"
             ],
             [
              0.8888888888888888,
              "#b5de2b"
             ],
             [
              1,
              "#fde725"
             ]
            ],
            "type": "contour"
           }
          ],
          "contourcarpet": [
           {
            "colorbar": {
             "outlinewidth": 1,
             "tickcolor": "rgb(36,36,36)",
             "ticks": "outside"
            },
            "type": "contourcarpet"
           }
          ],
          "heatmap": [
           {
            "colorbar": {
             "outlinewidth": 1,
             "tickcolor": "rgb(36,36,36)",
             "ticks": "outside"
            },
            "colorscale": [
             [
              0,
              "#440154"
             ],
             [
              0.1111111111111111,
              "#482878"
             ],
             [
              0.2222222222222222,
              "#3e4989"
             ],
             [
              0.3333333333333333,
              "#31688e"
             ],
             [
              0.4444444444444444,
              "#26828e"
             ],
             [
              0.5555555555555556,
              "#1f9e89"
             ],
             [
              0.6666666666666666,
              "#35b779"
             ],
             [
              0.7777777777777778,
              "#6ece58"
             ],
             [
              0.8888888888888888,
              "#b5de2b"
             ],
             [
              1,
              "#fde725"
             ]
            ],
            "type": "heatmap"
           }
          ],
          "heatmapgl": [
           {
            "colorbar": {
             "outlinewidth": 1,
             "tickcolor": "rgb(36,36,36)",
             "ticks": "outside"
            },
            "colorscale": [
             [
              0,
              "#440154"
             ],
             [
              0.1111111111111111,
              "#482878"
             ],
             [
              0.2222222222222222,
              "#3e4989"
             ],
             [
              0.3333333333333333,
              "#31688e"
             ],
             [
              0.4444444444444444,
              "#26828e"
             ],
             [
              0.5555555555555556,
              "#1f9e89"
             ],
             [
              0.6666666666666666,
              "#35b779"
             ],
             [
              0.7777777777777778,
              "#6ece58"
             ],
             [
              0.8888888888888888,
              "#b5de2b"
             ],
             [
              1,
              "#fde725"
             ]
            ],
            "type": "heatmapgl"
           }
          ],
          "histogram": [
           {
            "marker": {
             "line": {
              "color": "white",
              "width": 0.6
             }
            },
            "type": "histogram"
           }
          ],
          "histogram2d": [
           {
            "colorbar": {
             "outlinewidth": 1,
             "tickcolor": "rgb(36,36,36)",
             "ticks": "outside"
            },
            "colorscale": [
             [
              0,
              "#440154"
             ],
             [
              0.1111111111111111,
              "#482878"
             ],
             [
              0.2222222222222222,
              "#3e4989"
             ],
             [
              0.3333333333333333,
              "#31688e"
             ],
             [
              0.4444444444444444,
              "#26828e"
             ],
             [
              0.5555555555555556,
              "#1f9e89"
             ],
             [
              0.6666666666666666,
              "#35b779"
             ],
             [
              0.7777777777777778,
              "#6ece58"
             ],
             [
              0.8888888888888888,
              "#b5de2b"
             ],
             [
              1,
              "#fde725"
             ]
            ],
            "type": "histogram2d"
           }
          ],
          "histogram2dcontour": [
           {
            "colorbar": {
             "outlinewidth": 1,
             "tickcolor": "rgb(36,36,36)",
             "ticks": "outside"
            },
            "colorscale": [
             [
              0,
              "#440154"
             ],
             [
              0.1111111111111111,
              "#482878"
             ],
             [
              0.2222222222222222,
              "#3e4989"
             ],
             [
              0.3333333333333333,
              "#31688e"
             ],
             [
              0.4444444444444444,
              "#26828e"
             ],
             [
              0.5555555555555556,
              "#1f9e89"
             ],
             [
              0.6666666666666666,
              "#35b779"
             ],
             [
              0.7777777777777778,
              "#6ece58"
             ],
             [
              0.8888888888888888,
              "#b5de2b"
             ],
             [
              1,
              "#fde725"
             ]
            ],
            "type": "histogram2dcontour"
           }
          ],
          "mesh3d": [
           {
            "colorbar": {
             "outlinewidth": 1,
             "tickcolor": "rgb(36,36,36)",
             "ticks": "outside"
            },
            "type": "mesh3d"
           }
          ],
          "parcoords": [
           {
            "line": {
             "colorbar": {
              "outlinewidth": 1,
              "tickcolor": "rgb(36,36,36)",
              "ticks": "outside"
             }
            },
            "type": "parcoords"
           }
          ],
          "pie": [
           {
            "automargin": true,
            "type": "pie"
           }
          ],
          "scatter": [
           {
            "fillpattern": {
             "fillmode": "overlay",
             "size": 10,
             "solidity": 0.2
            },
            "type": "scatter"
           }
          ],
          "scatter3d": [
           {
            "line": {
             "colorbar": {
              "outlinewidth": 1,
              "tickcolor": "rgb(36,36,36)",
              "ticks": "outside"
             }
            },
            "marker": {
             "colorbar": {
              "outlinewidth": 1,
              "tickcolor": "rgb(36,36,36)",
              "ticks": "outside"
             }
            },
            "type": "scatter3d"
           }
          ],
          "scattercarpet": [
           {
            "marker": {
             "colorbar": {
              "outlinewidth": 1,
              "tickcolor": "rgb(36,36,36)",
              "ticks": "outside"
             }
            },
            "type": "scattercarpet"
           }
          ],
          "scattergeo": [
           {
            "marker": {
             "colorbar": {
              "outlinewidth": 1,
              "tickcolor": "rgb(36,36,36)",
              "ticks": "outside"
             }
            },
            "type": "scattergeo"
           }
          ],
          "scattergl": [
           {
            "marker": {
             "colorbar": {
              "outlinewidth": 1,
              "tickcolor": "rgb(36,36,36)",
              "ticks": "outside"
             }
            },
            "type": "scattergl"
           }
          ],
          "scattermapbox": [
           {
            "marker": {
             "colorbar": {
              "outlinewidth": 1,
              "tickcolor": "rgb(36,36,36)",
              "ticks": "outside"
             }
            },
            "type": "scattermapbox"
           }
          ],
          "scatterpolar": [
           {
            "marker": {
             "colorbar": {
              "outlinewidth": 1,
              "tickcolor": "rgb(36,36,36)",
              "ticks": "outside"
             }
            },
            "type": "scatterpolar"
           }
          ],
          "scatterpolargl": [
           {
            "marker": {
             "colorbar": {
              "outlinewidth": 1,
              "tickcolor": "rgb(36,36,36)",
              "ticks": "outside"
             }
            },
            "type": "scatterpolargl"
           }
          ],
          "scatterternary": [
           {
            "marker": {
             "colorbar": {
              "outlinewidth": 1,
              "tickcolor": "rgb(36,36,36)",
              "ticks": "outside"
             }
            },
            "type": "scatterternary"
           }
          ],
          "surface": [
           {
            "colorbar": {
             "outlinewidth": 1,
             "tickcolor": "rgb(36,36,36)",
             "ticks": "outside"
            },
            "colorscale": [
             [
              0,
              "#440154"
             ],
             [
              0.1111111111111111,
              "#482878"
             ],
             [
              0.2222222222222222,
              "#3e4989"
             ],
             [
              0.3333333333333333,
              "#31688e"
             ],
             [
              0.4444444444444444,
              "#26828e"
             ],
             [
              0.5555555555555556,
              "#1f9e89"
             ],
             [
              0.6666666666666666,
              "#35b779"
             ],
             [
              0.7777777777777778,
              "#6ece58"
             ],
             [
              0.8888888888888888,
              "#b5de2b"
             ],
             [
              1,
              "#fde725"
             ]
            ],
            "type": "surface"
           }
          ],
          "table": [
           {
            "cells": {
             "fill": {
              "color": "rgb(237,237,237)"
             },
             "line": {
              "color": "white"
             }
            },
            "header": {
             "fill": {
              "color": "rgb(217,217,217)"
             },
             "line": {
              "color": "white"
             }
            },
            "type": "table"
           }
          ]
         },
         "layout": {
          "annotationdefaults": {
           "arrowhead": 0,
           "arrowwidth": 1
          },
          "autotypenumbers": "strict",
          "coloraxis": {
           "colorbar": {
            "outlinewidth": 1,
            "tickcolor": "rgb(36,36,36)",
            "ticks": "outside"
           }
          },
          "colorscale": {
           "diverging": [
            [
             0,
             "rgb(103,0,31)"
            ],
            [
             0.1,
             "rgb(178,24,43)"
            ],
            [
             0.2,
             "rgb(214,96,77)"
            ],
            [
             0.3,
             "rgb(244,165,130)"
            ],
            [
             0.4,
             "rgb(253,219,199)"
            ],
            [
             0.5,
             "rgb(247,247,247)"
            ],
            [
             0.6,
             "rgb(209,229,240)"
            ],
            [
             0.7,
             "rgb(146,197,222)"
            ],
            [
             0.8,
             "rgb(67,147,195)"
            ],
            [
             0.9,
             "rgb(33,102,172)"
            ],
            [
             1,
             "rgb(5,48,97)"
            ]
           ],
           "sequential": [
            [
             0,
             "#440154"
            ],
            [
             0.1111111111111111,
             "#482878"
            ],
            [
             0.2222222222222222,
             "#3e4989"
            ],
            [
             0.3333333333333333,
             "#31688e"
            ],
            [
             0.4444444444444444,
             "#26828e"
            ],
            [
             0.5555555555555556,
             "#1f9e89"
            ],
            [
             0.6666666666666666,
             "#35b779"
            ],
            [
             0.7777777777777778,
             "#6ece58"
            ],
            [
             0.8888888888888888,
             "#b5de2b"
            ],
            [
             1,
             "#fde725"
            ]
           ],
           "sequentialminus": [
            [
             0,
             "#440154"
            ],
            [
             0.1111111111111111,
             "#482878"
            ],
            [
             0.2222222222222222,
             "#3e4989"
            ],
            [
             0.3333333333333333,
             "#31688e"
            ],
            [
             0.4444444444444444,
             "#26828e"
            ],
            [
             0.5555555555555556,
             "#1f9e89"
            ],
            [
             0.6666666666666666,
             "#35b779"
            ],
            [
             0.7777777777777778,
             "#6ece58"
            ],
            [
             0.8888888888888888,
             "#b5de2b"
            ],
            [
             1,
             "#fde725"
            ]
           ]
          },
          "colorway": [
           "#1F77B4",
           "#FF7F0E",
           "#2CA02C",
           "#D62728",
           "#9467BD",
           "#8C564B",
           "#E377C2",
           "#7F7F7F",
           "#BCBD22",
           "#17BECF"
          ],
          "font": {
           "color": "rgb(36,36,36)"
          },
          "geo": {
           "bgcolor": "white",
           "lakecolor": "white",
           "landcolor": "white",
           "showlakes": true,
           "showland": true,
           "subunitcolor": "white"
          },
          "hoverlabel": {
           "align": "left"
          },
          "hovermode": "closest",
          "mapbox": {
           "style": "light"
          },
          "paper_bgcolor": "white",
          "plot_bgcolor": "white",
          "polar": {
           "angularaxis": {
            "gridcolor": "rgb(232,232,232)",
            "linecolor": "rgb(36,36,36)",
            "showgrid": false,
            "showline": true,
            "ticks": "outside"
           },
           "bgcolor": "white",
           "radialaxis": {
            "gridcolor": "rgb(232,232,232)",
            "linecolor": "rgb(36,36,36)",
            "showgrid": false,
            "showline": true,
            "ticks": "outside"
           }
          },
          "scene": {
           "xaxis": {
            "backgroundcolor": "white",
            "gridcolor": "rgb(232,232,232)",
            "gridwidth": 2,
            "linecolor": "rgb(36,36,36)",
            "showbackground": true,
            "showgrid": false,
            "showline": true,
            "ticks": "outside",
            "zeroline": false,
            "zerolinecolor": "rgb(36,36,36)"
           },
           "yaxis": {
            "backgroundcolor": "white",
            "gridcolor": "rgb(232,232,232)",
            "gridwidth": 2,
            "linecolor": "rgb(36,36,36)",
            "showbackground": true,
            "showgrid": false,
            "showline": true,
            "ticks": "outside",
            "zeroline": false,
            "zerolinecolor": "rgb(36,36,36)"
           },
           "zaxis": {
            "backgroundcolor": "white",
            "gridcolor": "rgb(232,232,232)",
            "gridwidth": 2,
            "linecolor": "rgb(36,36,36)",
            "showbackground": true,
            "showgrid": false,
            "showline": true,
            "ticks": "outside",
            "zeroline": false,
            "zerolinecolor": "rgb(36,36,36)"
           }
          },
          "shapedefaults": {
           "fillcolor": "black",
           "line": {
            "width": 0
           },
           "opacity": 0.3
          },
          "ternary": {
           "aaxis": {
            "gridcolor": "rgb(232,232,232)",
            "linecolor": "rgb(36,36,36)",
            "showgrid": false,
            "showline": true,
            "ticks": "outside"
           },
           "baxis": {
            "gridcolor": "rgb(232,232,232)",
            "linecolor": "rgb(36,36,36)",
            "showgrid": false,
            "showline": true,
            "ticks": "outside"
           },
           "bgcolor": "white",
           "caxis": {
            "gridcolor": "rgb(232,232,232)",
            "linecolor": "rgb(36,36,36)",
            "showgrid": false,
            "showline": true,
            "ticks": "outside"
           }
          },
          "title": {
           "x": 0.05
          },
          "xaxis": {
           "automargin": true,
           "gridcolor": "rgb(232,232,232)",
           "linecolor": "rgb(36,36,36)",
           "showgrid": false,
           "showline": true,
           "ticks": "outside",
           "title": {
            "standoff": 15
           },
           "zeroline": false,
           "zerolinecolor": "rgb(36,36,36)"
          },
          "yaxis": {
           "automargin": true,
           "gridcolor": "rgb(232,232,232)",
           "linecolor": "rgb(36,36,36)",
           "showgrid": false,
           "showline": true,
           "ticks": "outside",
           "title": {
            "standoff": 15
           },
           "zeroline": false,
           "zerolinecolor": "rgb(36,36,36)"
          }
         }
        },
        "title": {
         "font": {
          "color": "Black",
          "size": 22
         },
         "text": "<b>Intertopic Distance Map</b>",
         "x": 0.5,
         "xanchor": "center",
         "y": 0.95,
         "yanchor": "top"
        },
        "width": 650,
        "xaxis": {
         "anchor": "y",
         "domain": [
          0,
          1
         ],
         "range": [
          -3.89358788728714,
          18.859306430816652
         ],
         "title": {
          "text": ""
         },
         "visible": false
        },
        "yaxis": {
         "anchor": "x",
         "domain": [
          0,
          1
         ],
         "range": [
          -19.10625171661377,
          16.927811670303345
         ],
         "title": {
          "text": ""
         },
         "visible": false
        }
       }
      }
     },
     "metadata": {},
     "output_type": "display_data"
    }
   ],
   "source": [
    "model.visualize_topics(top_n_topics=50)"
   ]
  },
  {
   "cell_type": "code",
   "execution_count": null,
   "metadata": {},
   "outputs": [
    {
     "data": {
      "application/vnd.plotly.v1+json": {
       "config": {
        "plotlyServerURL": "https://plot.ly"
       },
       "data": [
        {
         "hoverinfo": "text",
         "marker": {
          "color": "rgb(61,153,112)"
         },
         "mode": "lines",
         "type": "scatter",
         "x": [
          0,
          0.7359417460235034,
          0.7359417460235034,
          0
         ],
         "xaxis": "x",
         "y": [
          -5,
          -5,
          -15,
          -15
         ],
         "yaxis": "y"
        },
        {
         "hoverinfo": "text",
         "marker": {
          "color": "rgb(61,153,112)"
         },
         "mode": "lines",
         "type": "scatter",
         "x": [
          0,
          0.705469174339315,
          0.705469174339315,
          0
         ],
         "xaxis": "x",
         "y": [
          -35,
          -35,
          -45,
          -45
         ],
         "yaxis": "y"
        },
        {
         "hoverinfo": "text",
         "marker": {
          "color": "rgb(61,153,112)"
         },
         "mode": "lines",
         "type": "scatter",
         "x": [
          0,
          0.752603805560981,
          0.752603805560981,
          0.705469174339315
         ],
         "xaxis": "x",
         "y": [
          -25,
          -25,
          -40,
          -40
         ],
         "yaxis": "y"
        },
        {
         "hoverinfo": "text",
         "marker": {
          "color": "rgb(61,153,112)"
         },
         "mode": "lines",
         "type": "scatter",
         "x": [
          0.752603805560981,
          0.8686525562813066,
          0.8686525562813066,
          0
         ],
         "xaxis": "x",
         "y": [
          -32.5,
          -32.5,
          -55,
          -55
         ],
         "yaxis": "y"
        },
        {
         "hoverinfo": "text",
         "marker": {
          "color": "rgb(61,153,112)"
         },
         "mode": "lines",
         "type": "scatter",
         "x": [
          0.7359417460235034,
          0.9559574757983651,
          0.9559574757983651,
          0.8686525562813066
         ],
         "xaxis": "x",
         "y": [
          -10,
          -10,
          -43.75,
          -43.75
         ],
         "yaxis": "y"
        },
        {
         "hoverinfo": "text",
         "marker": {
          "color": "rgb(255,65,54)"
         },
         "mode": "lines",
         "type": "scatter",
         "x": [
          0,
          0.7617056312683615,
          0.7617056312683615,
          0
         ],
         "xaxis": "x",
         "y": [
          -65,
          -65,
          -75,
          -75
         ],
         "yaxis": "y"
        },
        {
         "hoverinfo": "text",
         "marker": {
          "color": "rgb(35,205,205)"
         },
         "mode": "lines",
         "type": "scatter",
         "x": [
          0,
          0.9214028416316891,
          0.9214028416316891,
          0
         ],
         "xaxis": "x",
         "y": [
          -95,
          -95,
          -105,
          -105
         ],
         "yaxis": "y"
        },
        {
         "hoverinfo": "text",
         "marker": {
          "color": "rgb(35,205,205)"
         },
         "mode": "lines",
         "type": "scatter",
         "x": [
          0.9214028416316891,
          0.9493553824298864,
          0.9493553824298864,
          0
         ],
         "xaxis": "x",
         "y": [
          -100,
          -100,
          -115,
          -115
         ],
         "yaxis": "y"
        },
        {
         "hoverinfo": "text",
         "marker": {
          "color": "rgb(35,205,205)"
         },
         "mode": "lines",
         "type": "scatter",
         "x": [
          0,
          0.9891183490158074,
          0.9891183490158074,
          0.9493553824298864
         ],
         "xaxis": "x",
         "y": [
          -85,
          -85,
          -107.5,
          -107.5
         ],
         "yaxis": "y"
        },
        {
         "hoverinfo": "text",
         "marker": {
          "color": "rgb(133,20,75)"
         },
         "mode": "lines",
         "type": "scatter",
         "x": [
          0,
          0.9185868836742528,
          0.9185868836742528,
          0
         ],
         "xaxis": "x",
         "y": [
          -125,
          -125,
          -135,
          -135
         ],
         "yaxis": "y"
        },
        {
         "hoverinfo": "text",
         "marker": {
          "color": "rgb(133,20,75)"
         },
         "mode": "lines",
         "type": "scatter",
         "x": [
          0,
          0.9551098680883773,
          0.9551098680883773,
          0
         ],
         "xaxis": "x",
         "y": [
          -145,
          -145,
          -155,
          -155
         ],
         "yaxis": "y"
        },
        {
         "hoverinfo": "text",
         "marker": {
          "color": "rgb(133,20,75)"
         },
         "mode": "lines",
         "type": "scatter",
         "x": [
          0.9185868836742528,
          0.9902538919100299,
          0.9902538919100299,
          0.9551098680883773
         ],
         "xaxis": "x",
         "y": [
          -130,
          -130,
          -150,
          -150
         ],
         "yaxis": "y"
        },
        {
         "hoverinfo": "text",
         "marker": {
          "color": "rgb(0,116,217)"
         },
         "mode": "lines",
         "type": "scatter",
         "x": [
          0.9902538919100299,
          1.014272060798555,
          1.014272060798555,
          0
         ],
         "xaxis": "x",
         "y": [
          -140,
          -140,
          -165,
          -165
         ],
         "yaxis": "y"
        },
        {
         "hoverinfo": "text",
         "marker": {
          "color": "rgb(0,116,217)"
         },
         "mode": "lines",
         "type": "scatter",
         "x": [
          0.9891183490158074,
          1.0313613806244812,
          1.0313613806244812,
          1.014272060798555
         ],
         "xaxis": "x",
         "y": [
          -96.25,
          -96.25,
          -152.5,
          -152.5
         ],
         "yaxis": "y"
        },
        {
         "hoverinfo": "text",
         "marker": {
          "color": "rgb(0,116,217)"
         },
         "mode": "lines",
         "type": "scatter",
         "x": [
          0.7617056312683615,
          1.119875631913136,
          1.119875631913136,
          1.0313613806244812
         ],
         "xaxis": "x",
         "y": [
          -70,
          -70,
          -124.375,
          -124.375
         ],
         "yaxis": "y"
        },
        {
         "hoverinfo": "text",
         "marker": {
          "color": "rgb(255,220,0)"
         },
         "mode": "lines",
         "type": "scatter",
         "x": [
          0,
          0.6451634974051091,
          0.6451634974051091,
          0
         ],
         "xaxis": "x",
         "y": [
          -175,
          -175,
          -185,
          -185
         ],
         "yaxis": "y"
        },
        {
         "hoverinfo": "text",
         "marker": {
          "color": "rgb(255,220,0)"
         },
         "mode": "lines",
         "type": "scatter",
         "x": [
          0.6451634974051091,
          0.8971988405235146,
          0.8971988405235146,
          0
         ],
         "xaxis": "x",
         "y": [
          -180,
          -180,
          -195,
          -195
         ],
         "yaxis": "y"
        },
        {
         "hoverinfo": "text",
         "marker": {
          "color": "rgb(40,35,35)"
         },
         "mode": "lines",
         "type": "scatter",
         "x": [
          0,
          0.7850321230362893,
          0.7850321230362893,
          0
         ],
         "xaxis": "x",
         "y": [
          -205,
          -205,
          -215,
          -215
         ],
         "yaxis": "y"
        },
        {
         "hoverinfo": "text",
         "marker": {
          "color": "rgb(40,35,35)"
         },
         "mode": "lines",
         "type": "scatter",
         "x": [
          0.7850321230362893,
          0.8662986990170356,
          0.8662986990170356,
          0
         ],
         "xaxis": "x",
         "y": [
          -210,
          -210,
          -225,
          -225
         ],
         "yaxis": "y"
        },
        {
         "hoverinfo": "text",
         "marker": {
          "color": "rgb(0,116,217)"
         },
         "mode": "lines",
         "type": "scatter",
         "x": [
          0.8971988405235146,
          1.066911917769231,
          1.066911917769231,
          0.8662986990170356
         ],
         "xaxis": "x",
         "y": [
          -187.5,
          -187.5,
          -217.5,
          -217.5
         ],
         "yaxis": "y"
        },
        {
         "hoverinfo": "text",
         "marker": {
          "color": "rgb(0,116,217)"
         },
         "mode": "lines",
         "type": "scatter",
         "x": [
          1.119875631913136,
          1.204864471805605,
          1.204864471805605,
          1.066911917769231
         ],
         "xaxis": "x",
         "y": [
          -97.1875,
          -97.1875,
          -202.5,
          -202.5
         ],
         "yaxis": "y"
        },
        {
         "hoverinfo": "text",
         "marker": {
          "color": "rgb(0,116,217)"
         },
         "mode": "lines",
         "type": "scatter",
         "x": [
          0.9559574757983651,
          1.5069764693862937,
          1.5069764693862937,
          1.204864471805605
         ],
         "xaxis": "x",
         "y": [
          -26.875,
          -26.875,
          -149.84375,
          -149.84375
         ],
         "yaxis": "y"
        }
       ],
       "layout": {
        "autosize": false,
        "height": 545,
        "hoverlabel": {
         "bgcolor": "white",
         "font": {
          "family": "Rockwell",
          "size": 16
         }
        },
        "hovermode": "closest",
        "plot_bgcolor": "#ECEFF1",
        "showlegend": false,
        "template": {
         "data": {
          "bar": [
           {
            "error_x": {
             "color": "#2a3f5f"
            },
            "error_y": {
             "color": "#2a3f5f"
            },
            "marker": {
             "line": {
              "color": "white",
              "width": 0.5
             },
             "pattern": {
              "fillmode": "overlay",
              "size": 10,
              "solidity": 0.2
             }
            },
            "type": "bar"
           }
          ],
          "barpolar": [
           {
            "marker": {
             "line": {
              "color": "white",
              "width": 0.5
             },
             "pattern": {
              "fillmode": "overlay",
              "size": 10,
              "solidity": 0.2
             }
            },
            "type": "barpolar"
           }
          ],
          "carpet": [
           {
            "aaxis": {
             "endlinecolor": "#2a3f5f",
             "gridcolor": "#C8D4E3",
             "linecolor": "#C8D4E3",
             "minorgridcolor": "#C8D4E3",
             "startlinecolor": "#2a3f5f"
            },
            "baxis": {
             "endlinecolor": "#2a3f5f",
             "gridcolor": "#C8D4E3",
             "linecolor": "#C8D4E3",
             "minorgridcolor": "#C8D4E3",
             "startlinecolor": "#2a3f5f"
            },
            "type": "carpet"
           }
          ],
          "choropleth": [
           {
            "colorbar": {
             "outlinewidth": 0,
             "ticks": ""
            },
            "type": "choropleth"
           }
          ],
          "contour": [
           {
            "colorbar": {
             "outlinewidth": 0,
             "ticks": ""
            },
            "colorscale": [
             [
              0,
              "#0d0887"
             ],
             [
              0.1111111111111111,
              "#46039f"
             ],
             [
              0.2222222222222222,
              "#7201a8"
             ],
             [
              0.3333333333333333,
              "#9c179e"
             ],
             [
              0.4444444444444444,
              "#bd3786"
             ],
             [
              0.5555555555555556,
              "#d8576b"
             ],
             [
              0.6666666666666666,
              "#ed7953"
             ],
             [
              0.7777777777777778,
              "#fb9f3a"
             ],
             [
              0.8888888888888888,
              "#fdca26"
             ],
             [
              1,
              "#f0f921"
             ]
            ],
            "type": "contour"
           }
          ],
          "contourcarpet": [
           {
            "colorbar": {
             "outlinewidth": 0,
             "ticks": ""
            },
            "type": "contourcarpet"
           }
          ],
          "heatmap": [
           {
            "colorbar": {
             "outlinewidth": 0,
             "ticks": ""
            },
            "colorscale": [
             [
              0,
              "#0d0887"
             ],
             [
              0.1111111111111111,
              "#46039f"
             ],
             [
              0.2222222222222222,
              "#7201a8"
             ],
             [
              0.3333333333333333,
              "#9c179e"
             ],
             [
              0.4444444444444444,
              "#bd3786"
             ],
             [
              0.5555555555555556,
              "#d8576b"
             ],
             [
              0.6666666666666666,
              "#ed7953"
             ],
             [
              0.7777777777777778,
              "#fb9f3a"
             ],
             [
              0.8888888888888888,
              "#fdca26"
             ],
             [
              1,
              "#f0f921"
             ]
            ],
            "type": "heatmap"
           }
          ],
          "heatmapgl": [
           {
            "colorbar": {
             "outlinewidth": 0,
             "ticks": ""
            },
            "colorscale": [
             [
              0,
              "#0d0887"
             ],
             [
              0.1111111111111111,
              "#46039f"
             ],
             [
              0.2222222222222222,
              "#7201a8"
             ],
             [
              0.3333333333333333,
              "#9c179e"
             ],
             [
              0.4444444444444444,
              "#bd3786"
             ],
             [
              0.5555555555555556,
              "#d8576b"
             ],
             [
              0.6666666666666666,
              "#ed7953"
             ],
             [
              0.7777777777777778,
              "#fb9f3a"
             ],
             [
              0.8888888888888888,
              "#fdca26"
             ],
             [
              1,
              "#f0f921"
             ]
            ],
            "type": "heatmapgl"
           }
          ],
          "histogram": [
           {
            "marker": {
             "pattern": {
              "fillmode": "overlay",
              "size": 10,
              "solidity": 0.2
             }
            },
            "type": "histogram"
           }
          ],
          "histogram2d": [
           {
            "colorbar": {
             "outlinewidth": 0,
             "ticks": ""
            },
            "colorscale": [
             [
              0,
              "#0d0887"
             ],
             [
              0.1111111111111111,
              "#46039f"
             ],
             [
              0.2222222222222222,
              "#7201a8"
             ],
             [
              0.3333333333333333,
              "#9c179e"
             ],
             [
              0.4444444444444444,
              "#bd3786"
             ],
             [
              0.5555555555555556,
              "#d8576b"
             ],
             [
              0.6666666666666666,
              "#ed7953"
             ],
             [
              0.7777777777777778,
              "#fb9f3a"
             ],
             [
              0.8888888888888888,
              "#fdca26"
             ],
             [
              1,
              "#f0f921"
             ]
            ],
            "type": "histogram2d"
           }
          ],
          "histogram2dcontour": [
           {
            "colorbar": {
             "outlinewidth": 0,
             "ticks": ""
            },
            "colorscale": [
             [
              0,
              "#0d0887"
             ],
             [
              0.1111111111111111,
              "#46039f"
             ],
             [
              0.2222222222222222,
              "#7201a8"
             ],
             [
              0.3333333333333333,
              "#9c179e"
             ],
             [
              0.4444444444444444,
              "#bd3786"
             ],
             [
              0.5555555555555556,
              "#d8576b"
             ],
             [
              0.6666666666666666,
              "#ed7953"
             ],
             [
              0.7777777777777778,
              "#fb9f3a"
             ],
             [
              0.8888888888888888,
              "#fdca26"
             ],
             [
              1,
              "#f0f921"
             ]
            ],
            "type": "histogram2dcontour"
           }
          ],
          "mesh3d": [
           {
            "colorbar": {
             "outlinewidth": 0,
             "ticks": ""
            },
            "type": "mesh3d"
           }
          ],
          "parcoords": [
           {
            "line": {
             "colorbar": {
              "outlinewidth": 0,
              "ticks": ""
             }
            },
            "type": "parcoords"
           }
          ],
          "pie": [
           {
            "automargin": true,
            "type": "pie"
           }
          ],
          "scatter": [
           {
            "fillpattern": {
             "fillmode": "overlay",
             "size": 10,
             "solidity": 0.2
            },
            "type": "scatter"
           }
          ],
          "scatter3d": [
           {
            "line": {
             "colorbar": {
              "outlinewidth": 0,
              "ticks": ""
             }
            },
            "marker": {
             "colorbar": {
              "outlinewidth": 0,
              "ticks": ""
             }
            },
            "type": "scatter3d"
           }
          ],
          "scattercarpet": [
           {
            "marker": {
             "colorbar": {
              "outlinewidth": 0,
              "ticks": ""
             }
            },
            "type": "scattercarpet"
           }
          ],
          "scattergeo": [
           {
            "marker": {
             "colorbar": {
              "outlinewidth": 0,
              "ticks": ""
             }
            },
            "type": "scattergeo"
           }
          ],
          "scattergl": [
           {
            "marker": {
             "colorbar": {
              "outlinewidth": 0,
              "ticks": ""
             }
            },
            "type": "scattergl"
           }
          ],
          "scattermapbox": [
           {
            "marker": {
             "colorbar": {
              "outlinewidth": 0,
              "ticks": ""
             }
            },
            "type": "scattermapbox"
           }
          ],
          "scatterpolar": [
           {
            "marker": {
             "colorbar": {
              "outlinewidth": 0,
              "ticks": ""
             }
            },
            "type": "scatterpolar"
           }
          ],
          "scatterpolargl": [
           {
            "marker": {
             "colorbar": {
              "outlinewidth": 0,
              "ticks": ""
             }
            },
            "type": "scatterpolargl"
           }
          ],
          "scatterternary": [
           {
            "marker": {
             "colorbar": {
              "outlinewidth": 0,
              "ticks": ""
             }
            },
            "type": "scatterternary"
           }
          ],
          "surface": [
           {
            "colorbar": {
             "outlinewidth": 0,
             "ticks": ""
            },
            "colorscale": [
             [
              0,
              "#0d0887"
             ],
             [
              0.1111111111111111,
              "#46039f"
             ],
             [
              0.2222222222222222,
              "#7201a8"
             ],
             [
              0.3333333333333333,
              "#9c179e"
             ],
             [
              0.4444444444444444,
              "#bd3786"
             ],
             [
              0.5555555555555556,
              "#d8576b"
             ],
             [
              0.6666666666666666,
              "#ed7953"
             ],
             [
              0.7777777777777778,
              "#fb9f3a"
             ],
             [
              0.8888888888888888,
              "#fdca26"
             ],
             [
              1,
              "#f0f921"
             ]
            ],
            "type": "surface"
           }
          ],
          "table": [
           {
            "cells": {
             "fill": {
              "color": "#EBF0F8"
             },
             "line": {
              "color": "white"
             }
            },
            "header": {
             "fill": {
              "color": "#C8D4E3"
             },
             "line": {
              "color": "white"
             }
            },
            "type": "table"
           }
          ]
         },
         "layout": {
          "annotationdefaults": {
           "arrowcolor": "#2a3f5f",
           "arrowhead": 0,
           "arrowwidth": 1
          },
          "autotypenumbers": "strict",
          "coloraxis": {
           "colorbar": {
            "outlinewidth": 0,
            "ticks": ""
           }
          },
          "colorscale": {
           "diverging": [
            [
             0,
             "#8e0152"
            ],
            [
             0.1,
             "#c51b7d"
            ],
            [
             0.2,
             "#de77ae"
            ],
            [
             0.3,
             "#f1b6da"
            ],
            [
             0.4,
             "#fde0ef"
            ],
            [
             0.5,
             "#f7f7f7"
            ],
            [
             0.6,
             "#e6f5d0"
            ],
            [
             0.7,
             "#b8e186"
            ],
            [
             0.8,
             "#7fbc41"
            ],
            [
             0.9,
             "#4d9221"
            ],
            [
             1,
             "#276419"
            ]
           ],
           "sequential": [
            [
             0,
             "#0d0887"
            ],
            [
             0.1111111111111111,
             "#46039f"
            ],
            [
             0.2222222222222222,
             "#7201a8"
            ],
            [
             0.3333333333333333,
             "#9c179e"
            ],
            [
             0.4444444444444444,
             "#bd3786"
            ],
            [
             0.5555555555555556,
             "#d8576b"
            ],
            [
             0.6666666666666666,
             "#ed7953"
            ],
            [
             0.7777777777777778,
             "#fb9f3a"
            ],
            [
             0.8888888888888888,
             "#fdca26"
            ],
            [
             1,
             "#f0f921"
            ]
           ],
           "sequentialminus": [
            [
             0,
             "#0d0887"
            ],
            [
             0.1111111111111111,
             "#46039f"
            ],
            [
             0.2222222222222222,
             "#7201a8"
            ],
            [
             0.3333333333333333,
             "#9c179e"
            ],
            [
             0.4444444444444444,
             "#bd3786"
            ],
            [
             0.5555555555555556,
             "#d8576b"
            ],
            [
             0.6666666666666666,
             "#ed7953"
            ],
            [
             0.7777777777777778,
             "#fb9f3a"
            ],
            [
             0.8888888888888888,
             "#fdca26"
            ],
            [
             1,
             "#f0f921"
            ]
           ]
          },
          "colorway": [
           "#636efa",
           "#EF553B",
           "#00cc96",
           "#ab63fa",
           "#FFA15A",
           "#19d3f3",
           "#FF6692",
           "#B6E880",
           "#FF97FF",
           "#FECB52"
          ],
          "font": {
           "color": "#2a3f5f"
          },
          "geo": {
           "bgcolor": "white",
           "lakecolor": "white",
           "landcolor": "white",
           "showlakes": true,
           "showland": true,
           "subunitcolor": "#C8D4E3"
          },
          "hoverlabel": {
           "align": "left"
          },
          "hovermode": "closest",
          "mapbox": {
           "style": "light"
          },
          "paper_bgcolor": "white",
          "plot_bgcolor": "white",
          "polar": {
           "angularaxis": {
            "gridcolor": "#EBF0F8",
            "linecolor": "#EBF0F8",
            "ticks": ""
           },
           "bgcolor": "white",
           "radialaxis": {
            "gridcolor": "#EBF0F8",
            "linecolor": "#EBF0F8",
            "ticks": ""
           }
          },
          "scene": {
           "xaxis": {
            "backgroundcolor": "white",
            "gridcolor": "#DFE8F3",
            "gridwidth": 2,
            "linecolor": "#EBF0F8",
            "showbackground": true,
            "ticks": "",
            "zerolinecolor": "#EBF0F8"
           },
           "yaxis": {
            "backgroundcolor": "white",
            "gridcolor": "#DFE8F3",
            "gridwidth": 2,
            "linecolor": "#EBF0F8",
            "showbackground": true,
            "ticks": "",
            "zerolinecolor": "#EBF0F8"
           },
           "zaxis": {
            "backgroundcolor": "white",
            "gridcolor": "#DFE8F3",
            "gridwidth": 2,
            "linecolor": "#EBF0F8",
            "showbackground": true,
            "ticks": "",
            "zerolinecolor": "#EBF0F8"
           }
          },
          "shapedefaults": {
           "line": {
            "color": "#2a3f5f"
           }
          },
          "ternary": {
           "aaxis": {
            "gridcolor": "#DFE8F3",
            "linecolor": "#A2B1C6",
            "ticks": ""
           },
           "baxis": {
            "gridcolor": "#DFE8F3",
            "linecolor": "#A2B1C6",
            "ticks": ""
           },
           "bgcolor": "white",
           "caxis": {
            "gridcolor": "#DFE8F3",
            "linecolor": "#A2B1C6",
            "ticks": ""
           }
          },
          "title": {
           "x": 0.05
          },
          "xaxis": {
           "automargin": true,
           "gridcolor": "#EBF0F8",
           "linecolor": "#EBF0F8",
           "ticks": "",
           "title": {
            "standoff": 15
           },
           "zerolinecolor": "#EBF0F8",
           "zerolinewidth": 2
          },
          "yaxis": {
           "automargin": true,
           "gridcolor": "#EBF0F8",
           "linecolor": "#EBF0F8",
           "ticks": "",
           "title": {
            "standoff": 15
           },
           "zerolinecolor": "#EBF0F8",
           "zerolinewidth": 2
          }
         }
        },
        "title": {
         "font": {
          "color": "Black",
          "size": 22
         },
         "text": "<b>Hierarchical Clustering</b>",
         "x": 0.5,
         "xanchor": "center",
         "yanchor": "top"
        },
        "width": 800,
        "xaxis": {
         "mirror": "allticks",
         "rangemode": "tozero",
         "showgrid": false,
         "showline": true,
         "showticklabels": true,
         "ticks": "outside",
         "type": "linear",
         "zeroline": false
        },
        "yaxis": {
         "mirror": "allticks",
         "range": [
          -230,
          0
         ],
         "rangemode": "tozero",
         "showgrid": false,
         "showline": true,
         "showticklabels": true,
         "tickmode": "array",
         "ticks": "outside",
         "ticktext": [
          "14_esta_gr_fec",
          "17_mono_alias_boca",
          "18_regi_mice_or",
          "10_ger_minas_intellence",
          "2_municips_ark_months",
          "1_aci_ci_eto",
          "20_future_table_sis",
          "8_table_dference_distributn",
          "11_mtable_many_images",
          "6_intellence_articial_fall",
          "15_road_belt_one",
          "7_coalab_coameasurement_worki",
          "19_individuals_party_boyd",
          "5_wcw_next_abstra",
          "13_pc_marak_aklos",
          "22_area_nad_tness",
          "21_learner_samuelso_war",
          "0_journal_economic_economics",
          "4_maoeconomic_business_econ...",
          "3_relatns_leotie_to",
          "9_assets_revenue_aregate",
          "16_ui_equatns_continuity",
          "12_edits_loans_payments"
         ],
         "tickvals": [
          -5,
          -15,
          -25,
          -35,
          -45,
          -55,
          -65,
          -75,
          -85,
          -95,
          -105,
          -115,
          -125,
          -135,
          -145,
          -155,
          -165,
          -175,
          -185,
          -195,
          -205,
          -215,
          -225
         ],
         "type": "linear",
         "zeroline": false
        }
       }
      }
     },
     "metadata": {},
     "output_type": "display_data"
    }
   ],
   "source": [
    "model.visualize_hierarchy(top_n_topics=50, width=800)"
   ]
  },
  {
   "cell_type": "code",
   "execution_count": null,
   "metadata": {},
   "outputs": [
    {
     "data": {
      "application/vnd.plotly.v1+json": {
       "config": {
        "plotlyServerURL": "https://plot.ly"
       },
       "data": [
        {
         "coloraxis": "coloraxis",
         "hovertemplate": "x: %{x}<br>y: %{y}<br>Similarity Score: %{z}<extra></extra>",
         "name": "0",
         "type": "heatmap",
         "x": [
          "0_journal_economic_economics",
          "4_maoeconomic_business_econ...",
          "1_aci_ci_eto",
          "2_municips_ark_months",
          "10_ger_minas_intellence",
          "14_esta_gr_fec",
          "18_regi_mice_or",
          "3_relatns_leotie_to",
          "5_wcw_next_abstra",
          "11_mtable_many_images",
          "6_intellence_articial_fall",
          "19_individuals_party_boyd",
          "7_coalab_coameasurement_worki",
          "15_road_belt_one",
          "8_table_dference_distributn",
          "9_assets_revenue_aregate",
          "12_edits_loans_payments",
          "16_ui_equatns_continuity",
          "13_pc_marak_aklos",
          "17_mono_alias_boca"
         ],
         "xaxis": "x",
         "y": [
          "0_journal_economic_economics",
          "4_maoeconomic_business_econ...",
          "1_aci_ci_eto",
          "2_municips_ark_months",
          "10_ger_minas_intellence",
          "14_esta_gr_fec",
          "18_regi_mice_or",
          "3_relatns_leotie_to",
          "5_wcw_next_abstra",
          "11_mtable_many_images",
          "6_intellence_articial_fall",
          "19_individuals_party_boyd",
          "7_coalab_coameasurement_worki",
          "15_road_belt_one",
          "8_table_dference_distributn",
          "9_assets_revenue_aregate",
          "12_edits_loans_payments",
          "16_ui_equatns_continuity",
          "13_pc_marak_aklos",
          "17_mono_alias_boca"
         ],
         "yaxis": "y",
         "z": [
          [
           1.000000238418579,
           0.6708369255065918,
           0.5168344974517822,
           0.42981454730033875,
           0.40211597084999084,
           0.3322398066520691,
           0.32857537269592285,
           0.4561821222305298,
           0.3134884238243103,
           0.21675314009189606,
           0.5017702579498291,
           0.3841986060142517,
           0.39799249172210693,
           0.4322904944419861,
           0.33673861622810364,
           0.24338042736053467,
           0.33511993288993835,
           0.4308091998100281,
           0.42999210953712463,
           0.17170953750610352
          ],
          [
           0.6708369255065918,
           1.000000238418579,
           0.36284711956977844,
           0.2545025944709778,
           0.23697049915790558,
           0.2964564561843872,
           0.2233191728591919,
           0.41311487555503845,
           0.2679467499256134,
           0.26440951228141785,
           0.260254442691803,
           0.23879289627075195,
           0.3163668215274811,
           0.4782983362674713,
           0.14829254150390625,
           0.3535652458667755,
           0.4808344542980194,
           0.5226759314537048,
           0.37271928787231445,
           0.045279547572135925
          ],
          [
           0.5168344974517822,
           0.36284711956977844,
           1,
           0.6568717956542969,
           0.7140480875968933,
           0.6476622819900513,
           0.5602370500564575,
           0.3454975187778473,
           0.1781916469335556,
           0.28705087304115295,
           0.412514865398407,
           0.4079055190086365,
           0.38227418065071106,
           0.4479753375053406,
           0.09320314973592758,
           0.10947680473327637,
           0.23498234152793884,
           0.28701332211494446,
           0.2769422233104706,
           0.5372913479804993
          ],
          [
           0.42981454730033875,
           0.2545025944709778,
           0.6568717956542969,
           0.9999998807907104,
           0.6629055738449097,
           0.44187766313552856,
           0.571769118309021,
           0.316829115152359,
           0.0582161620259285,
           0.20110663771629333,
           0.3713546693325043,
           0.3151107728481293,
           0.2676665484905243,
           0.3179166316986084,
           0.036577917635440826,
           0.06559167057275772,
           0.10656151175498962,
           0.19682201743125916,
           0.31089580059051514,
           0.46414342522621155
          ],
          [
           0.40211597084999084,
           0.23697049915790558,
           0.7140480875968933,
           0.6629055738449097,
           1,
           0.5551568269729614,
           0.6602543592453003,
           0.24790188670158386,
           0.05547564476728439,
           0.19495466351509094,
           0.6037746667861938,
           0.4630832076072693,
           0.2721666693687439,
           0.3370544910430908,
           0.02965337410569191,
           0.016609296202659607,
           0.14270299673080444,
           0.16704405844211578,
           0.2515937089920044,
           0.47863179445266724
          ],
          [
           0.3322398066520691,
           0.2964564561843872,
           0.6476622819900513,
           0.44187766313552856,
           0.5551568269729614,
           0.9999997019767761,
           0.4260900616645813,
           0.36172860860824585,
           0.0645132064819336,
           0.13850092887878418,
           0.22540144622325897,
           0.31270265579223633,
           0.19333425164222717,
           0.29024389386177063,
           -0.04051947593688965,
           0.004544463008642197,
           0.16183963418006897,
           0.22900140285491943,
           0.2713969945907593,
           0.3744514286518097
          ],
          [
           0.32857537269592285,
           0.2233191728591919,
           0.5602370500564575,
           0.571769118309021,
           0.6602543592453003,
           0.4260900616645813,
           0.9999998807907104,
           0.21959616243839264,
           0.04067442566156387,
           0.05354505032300949,
           0.40394532680511475,
           0.3566884994506836,
           0.2141229212284088,
           0.18857711553573608,
           0.08365711569786072,
           -0.05450403690338135,
           0.0803237184882164,
           0.17502959072589874,
           0.23615805804729462,
           0.4833550453186035
          ],
          [
           0.4561821222305298,
           0.41311487555503845,
           0.3454975187778473,
           0.316829115152359,
           0.24790188670158386,
           0.36172860860824585,
           0.21959616243839264,
           1.000000238418579,
           0.47169697284698486,
           0.3512500524520874,
           0.38231784105300903,
           0.4526028335094452,
           0.17087110877037048,
           0.2241773158311844,
           0.27461403608322144,
           0.26158851385116577,
           0.33743909001350403,
           0.5162938833236694,
           0.3130533695220947,
           0.08201415091753006
          ],
          [
           0.3134884238243103,
           0.2679467499256134,
           0.1781916469335556,
           0.0582161620259285,
           0.05547564476728439,
           0.0645132064819336,
           0.04067442566156387,
           0.47169697284698486,
           0.9999998807907104,
           0.4464043378829956,
           0.2973249554634094,
           0.37484657764434814,
           0.22968095541000366,
           0.1897069811820984,
           0.30667924880981445,
           0.08578041195869446,
           0.0670907273888588,
           0.16622856259346008,
           0.3119867444038391,
           0.049416642636060715
          ],
          [
           0.21675314009189606,
           0.26440951228141785,
           0.28705087304115295,
           0.20110663771629333,
           0.19495466351509094,
           0.13850092887878418,
           0.05354505032300949,
           0.3512500524520874,
           0.4464043378829956,
           0.9999997615814209,
           0.26244765520095825,
           0.18747147917747498,
           0.17621862888336182,
           0.15536516904830933,
           0.1901206076145172,
           0.050056081265211105,
           0.0619826465845108,
           0.1525837779045105,
           0.36279553174972534,
           0.08238308131694794
          ],
          [
           0.5017702579498291,
           0.260254442691803,
           0.412514865398407,
           0.3713546693325043,
           0.6037746667861938,
           0.22540144622325897,
           0.40394532680511475,
           0.38231784105300903,
           0.2973249554634094,
           0.26244765520095825,
           0.9999998211860657,
           0.4845106601715088,
           0.26719096302986145,
           0.223404198884964,
           0.29943710565567017,
           0.07031583786010742,
           0.2103945016860962,
           0.26799842715263367,
           0.3820990025997162,
           0.16398891806602478
          ],
          [
           0.3841986060142517,
           0.23879289627075195,
           0.4079055190086365,
           0.3151107728481293,
           0.4630832076072693,
           0.31270265579223633,
           0.3566884994506836,
           0.4526028335094452,
           0.37484657764434814,
           0.18747147917747498,
           0.4845106601715088,
           0.9999998211860657,
           0.13499334454536438,
           0.22032825648784637,
           0.1682964563369751,
           0.043762754648923874,
           0.11804358661174774,
           0.15603068470954895,
           0.3379422426223755,
           0.31419044733047485
          ],
          [
           0.39799249172210693,
           0.3163668215274811,
           0.38227418065071106,
           0.2676665484905243,
           0.2721666693687439,
           0.19333425164222717,
           0.2141229212284088,
           0.17087110877037048,
           0.22968095541000366,
           0.17621862888336182,
           0.26719096302986145,
           0.13499334454536438,
           1.0000003576278687,
           0.3037493824958801,
           0.24839580059051514,
           0.11301807314157486,
           0.16990843415260315,
           0.21556855738162994,
           0.147833913564682,
           0.1216922402381897
          ],
          [
           0.4322904944419861,
           0.4782983362674713,
           0.4479753375053406,
           0.3179166316986084,
           0.3370544910430908,
           0.29024389386177063,
           0.18857711553573608,
           0.2241773158311844,
           0.1897069811820984,
           0.15536516904830933,
           0.223404198884964,
           0.22032825648784637,
           0.3037493824958801,
           1,
           0.07598419487476349,
           0.15875138342380524,
           0.1795799434185028,
           0.2587577700614929,
           0.22253558039665222,
           0.18566471338272095
          ],
          [
           0.33673861622810364,
           0.14829254150390625,
           0.09320314973592758,
           0.036577917635440826,
           0.02965337410569191,
           -0.04051947593688965,
           0.08365711569786072,
           0.27461403608322144,
           0.30667924880981445,
           0.1901206076145172,
           0.29943710565567017,
           0.1682964563369751,
           0.24839580059051514,
           0.07598419487476349,
           1.0000001192092896,
           0.06286077201366425,
           0.13697583973407745,
           0.14251749217510223,
           0.2405337691307068,
           -0.06441682577133179
          ],
          [
           0.24338042736053467,
           0.3535652458667755,
           0.10947680473327637,
           0.06559167057275772,
           0.016609296202659607,
           0.004544463008642197,
           -0.05450403690338135,
           0.26158851385116577,
           0.08578041195869446,
           0.050056081265211105,
           0.07031583786010742,
           0.043762754648923874,
           0.11301807314157486,
           0.15875138342380524,
           0.06286077201366425,
           1,
           0.5087584853172302,
           0.4736196994781494,
           0.034863878041505814,
           0.04859812185168266
          ],
          [
           0.33511993288993835,
           0.4808344542980194,
           0.23498234152793884,
           0.10656151175498962,
           0.14270299673080444,
           0.16183963418006897,
           0.0803237184882164,
           0.33743909001350403,
           0.0670907273888588,
           0.0619826465845108,
           0.2103945016860962,
           0.11804358661174774,
           0.16990843415260315,
           0.1795799434185028,
           0.13697583973407745,
           0.5087584853172302,
           1.000000238418579,
           0.5227547883987427,
           0.07730662822723389,
           0.06055090203881264
          ],
          [
           0.4308091998100281,
           0.5226759314537048,
           0.28701332211494446,
           0.19682201743125916,
           0.16704405844211578,
           0.22900140285491943,
           0.17502959072589874,
           0.5162938833236694,
           0.16622856259346008,
           0.1525837779045105,
           0.26799842715263367,
           0.15603068470954895,
           0.21556855738162994,
           0.2587577700614929,
           0.14251749217510223,
           0.4736196994781494,
           0.5227547883987427,
           0.9999997615814209,
           0.15450602769851685,
           -0.009124623611569405
          ],
          [
           0.42999210953712463,
           0.37271928787231445,
           0.2769422233104706,
           0.31089580059051514,
           0.2515937089920044,
           0.2713969945907593,
           0.23615805804729462,
           0.3130533695220947,
           0.3119867444038391,
           0.36279553174972534,
           0.3820990025997162,
           0.3379422426223755,
           0.147833913564682,
           0.22253558039665222,
           0.2405337691307068,
           0.034863878041505814,
           0.07730662822723389,
           0.15450602769851685,
           1.0000001192092896,
           0.09776225686073303
          ],
          [
           0.17170953750610352,
           0.045279547572135925,
           0.5372913479804993,
           0.46414342522621155,
           0.47863179445266724,
           0.3744514286518097,
           0.4833550453186035,
           0.08201415091753006,
           0.049416642636060715,
           0.08238308131694794,
           0.16398891806602478,
           0.31419044733047485,
           0.1216922402381897,
           0.18566471338272095,
           -0.06441682577133179,
           0.04859812185168266,
           0.06055090203881264,
           -0.009124623611569405,
           0.09776225686073303,
           1.0000001192092896
          ]
         ]
        }
       ],
       "layout": {
        "coloraxis": {
         "colorbar": {
          "title": {
           "text": "Similarity Score"
          }
         },
         "colorscale": [
          [
           0,
           "rgb(247,252,240)"
          ],
          [
           0.125,
           "rgb(224,243,219)"
          ],
          [
           0.25,
           "rgb(204,235,197)"
          ],
          [
           0.375,
           "rgb(168,221,181)"
          ],
          [
           0.5,
           "rgb(123,204,196)"
          ],
          [
           0.625,
           "rgb(78,179,211)"
          ],
          [
           0.75,
           "rgb(43,140,190)"
          ],
          [
           0.875,
           "rgb(8,104,172)"
          ],
          [
           1,
           "rgb(8,64,129)"
          ]
         ]
        },
        "height": 800,
        "hoverlabel": {
         "bgcolor": "white",
         "font": {
          "family": "Rockwell",
          "size": 16
         }
        },
        "legend": {
         "title": {
          "text": "Trend"
         }
        },
        "margin": {
         "t": 60
        },
        "showlegend": true,
        "template": {
         "data": {
          "bar": [
           {
            "error_x": {
             "color": "#2a3f5f"
            },
            "error_y": {
             "color": "#2a3f5f"
            },
            "marker": {
             "line": {
              "color": "#E5ECF6",
              "width": 0.5
             },
             "pattern": {
              "fillmode": "overlay",
              "size": 10,
              "solidity": 0.2
             }
            },
            "type": "bar"
           }
          ],
          "barpolar": [
           {
            "marker": {
             "line": {
              "color": "#E5ECF6",
              "width": 0.5
             },
             "pattern": {
              "fillmode": "overlay",
              "size": 10,
              "solidity": 0.2
             }
            },
            "type": "barpolar"
           }
          ],
          "carpet": [
           {
            "aaxis": {
             "endlinecolor": "#2a3f5f",
             "gridcolor": "white",
             "linecolor": "white",
             "minorgridcolor": "white",
             "startlinecolor": "#2a3f5f"
            },
            "baxis": {
             "endlinecolor": "#2a3f5f",
             "gridcolor": "white",
             "linecolor": "white",
             "minorgridcolor": "white",
             "startlinecolor": "#2a3f5f"
            },
            "type": "carpet"
           }
          ],
          "choropleth": [
           {
            "colorbar": {
             "outlinewidth": 0,
             "ticks": ""
            },
            "type": "choropleth"
           }
          ],
          "contour": [
           {
            "colorbar": {
             "outlinewidth": 0,
             "ticks": ""
            },
            "colorscale": [
             [
              0,
              "#0d0887"
             ],
             [
              0.1111111111111111,
              "#46039f"
             ],
             [
              0.2222222222222222,
              "#7201a8"
             ],
             [
              0.3333333333333333,
              "#9c179e"
             ],
             [
              0.4444444444444444,
              "#bd3786"
             ],
             [
              0.5555555555555556,
              "#d8576b"
             ],
             [
              0.6666666666666666,
              "#ed7953"
             ],
             [
              0.7777777777777778,
              "#fb9f3a"
             ],
             [
              0.8888888888888888,
              "#fdca26"
             ],
             [
              1,
              "#f0f921"
             ]
            ],
            "type": "contour"
           }
          ],
          "contourcarpet": [
           {
            "colorbar": {
             "outlinewidth": 0,
             "ticks": ""
            },
            "type": "contourcarpet"
           }
          ],
          "heatmap": [
           {
            "colorbar": {
             "outlinewidth": 0,
             "ticks": ""
            },
            "colorscale": [
             [
              0,
              "#0d0887"
             ],
             [
              0.1111111111111111,
              "#46039f"
             ],
             [
              0.2222222222222222,
              "#7201a8"
             ],
             [
              0.3333333333333333,
              "#9c179e"
             ],
             [
              0.4444444444444444,
              "#bd3786"
             ],
             [
              0.5555555555555556,
              "#d8576b"
             ],
             [
              0.6666666666666666,
              "#ed7953"
             ],
             [
              0.7777777777777778,
              "#fb9f3a"
             ],
             [
              0.8888888888888888,
              "#fdca26"
             ],
             [
              1,
              "#f0f921"
             ]
            ],
            "type": "heatmap"
           }
          ],
          "heatmapgl": [
           {
            "colorbar": {
             "outlinewidth": 0,
             "ticks": ""
            },
            "colorscale": [
             [
              0,
              "#0d0887"
             ],
             [
              0.1111111111111111,
              "#46039f"
             ],
             [
              0.2222222222222222,
              "#7201a8"
             ],
             [
              0.3333333333333333,
              "#9c179e"
             ],
             [
              0.4444444444444444,
              "#bd3786"
             ],
             [
              0.5555555555555556,
              "#d8576b"
             ],
             [
              0.6666666666666666,
              "#ed7953"
             ],
             [
              0.7777777777777778,
              "#fb9f3a"
             ],
             [
              0.8888888888888888,
              "#fdca26"
             ],
             [
              1,
              "#f0f921"
             ]
            ],
            "type": "heatmapgl"
           }
          ],
          "histogram": [
           {
            "marker": {
             "pattern": {
              "fillmode": "overlay",
              "size": 10,
              "solidity": 0.2
             }
            },
            "type": "histogram"
           }
          ],
          "histogram2d": [
           {
            "colorbar": {
             "outlinewidth": 0,
             "ticks": ""
            },
            "colorscale": [
             [
              0,
              "#0d0887"
             ],
             [
              0.1111111111111111,
              "#46039f"
             ],
             [
              0.2222222222222222,
              "#7201a8"
             ],
             [
              0.3333333333333333,
              "#9c179e"
             ],
             [
              0.4444444444444444,
              "#bd3786"
             ],
             [
              0.5555555555555556,
              "#d8576b"
             ],
             [
              0.6666666666666666,
              "#ed7953"
             ],
             [
              0.7777777777777778,
              "#fb9f3a"
             ],
             [
              0.8888888888888888,
              "#fdca26"
             ],
             [
              1,
              "#f0f921"
             ]
            ],
            "type": "histogram2d"
           }
          ],
          "histogram2dcontour": [
           {
            "colorbar": {
             "outlinewidth": 0,
             "ticks": ""
            },
            "colorscale": [
             [
              0,
              "#0d0887"
             ],
             [
              0.1111111111111111,
              "#46039f"
             ],
             [
              0.2222222222222222,
              "#7201a8"
             ],
             [
              0.3333333333333333,
              "#9c179e"
             ],
             [
              0.4444444444444444,
              "#bd3786"
             ],
             [
              0.5555555555555556,
              "#d8576b"
             ],
             [
              0.6666666666666666,
              "#ed7953"
             ],
             [
              0.7777777777777778,
              "#fb9f3a"
             ],
             [
              0.8888888888888888,
              "#fdca26"
             ],
             [
              1,
              "#f0f921"
             ]
            ],
            "type": "histogram2dcontour"
           }
          ],
          "mesh3d": [
           {
            "colorbar": {
             "outlinewidth": 0,
             "ticks": ""
            },
            "type": "mesh3d"
           }
          ],
          "parcoords": [
           {
            "line": {
             "colorbar": {
              "outlinewidth": 0,
              "ticks": ""
             }
            },
            "type": "parcoords"
           }
          ],
          "pie": [
           {
            "automargin": true,
            "type": "pie"
           }
          ],
          "scatter": [
           {
            "fillpattern": {
             "fillmode": "overlay",
             "size": 10,
             "solidity": 0.2
            },
            "type": "scatter"
           }
          ],
          "scatter3d": [
           {
            "line": {
             "colorbar": {
              "outlinewidth": 0,
              "ticks": ""
             }
            },
            "marker": {
             "colorbar": {
              "outlinewidth": 0,
              "ticks": ""
             }
            },
            "type": "scatter3d"
           }
          ],
          "scattercarpet": [
           {
            "marker": {
             "colorbar": {
              "outlinewidth": 0,
              "ticks": ""
             }
            },
            "type": "scattercarpet"
           }
          ],
          "scattergeo": [
           {
            "marker": {
             "colorbar": {
              "outlinewidth": 0,
              "ticks": ""
             }
            },
            "type": "scattergeo"
           }
          ],
          "scattergl": [
           {
            "marker": {
             "colorbar": {
              "outlinewidth": 0,
              "ticks": ""
             }
            },
            "type": "scattergl"
           }
          ],
          "scattermapbox": [
           {
            "marker": {
             "colorbar": {
              "outlinewidth": 0,
              "ticks": ""
             }
            },
            "type": "scattermapbox"
           }
          ],
          "scatterpolar": [
           {
            "marker": {
             "colorbar": {
              "outlinewidth": 0,
              "ticks": ""
             }
            },
            "type": "scatterpolar"
           }
          ],
          "scatterpolargl": [
           {
            "marker": {
             "colorbar": {
              "outlinewidth": 0,
              "ticks": ""
             }
            },
            "type": "scatterpolargl"
           }
          ],
          "scatterternary": [
           {
            "marker": {
             "colorbar": {
              "outlinewidth": 0,
              "ticks": ""
             }
            },
            "type": "scatterternary"
           }
          ],
          "surface": [
           {
            "colorbar": {
             "outlinewidth": 0,
             "ticks": ""
            },
            "colorscale": [
             [
              0,
              "#0d0887"
             ],
             [
              0.1111111111111111,
              "#46039f"
             ],
             [
              0.2222222222222222,
              "#7201a8"
             ],
             [
              0.3333333333333333,
              "#9c179e"
             ],
             [
              0.4444444444444444,
              "#bd3786"
             ],
             [
              0.5555555555555556,
              "#d8576b"
             ],
             [
              0.6666666666666666,
              "#ed7953"
             ],
             [
              0.7777777777777778,
              "#fb9f3a"
             ],
             [
              0.8888888888888888,
              "#fdca26"
             ],
             [
              1,
              "#f0f921"
             ]
            ],
            "type": "surface"
           }
          ],
          "table": [
           {
            "cells": {
             "fill": {
              "color": "#EBF0F8"
             },
             "line": {
              "color": "white"
             }
            },
            "header": {
             "fill": {
              "color": "#C8D4E3"
             },
             "line": {
              "color": "white"
             }
            },
            "type": "table"
           }
          ]
         },
         "layout": {
          "annotationdefaults": {
           "arrowcolor": "#2a3f5f",
           "arrowhead": 0,
           "arrowwidth": 1
          },
          "autotypenumbers": "strict",
          "coloraxis": {
           "colorbar": {
            "outlinewidth": 0,
            "ticks": ""
           }
          },
          "colorscale": {
           "diverging": [
            [
             0,
             "#8e0152"
            ],
            [
             0.1,
             "#c51b7d"
            ],
            [
             0.2,
             "#de77ae"
            ],
            [
             0.3,
             "#f1b6da"
            ],
            [
             0.4,
             "#fde0ef"
            ],
            [
             0.5,
             "#f7f7f7"
            ],
            [
             0.6,
             "#e6f5d0"
            ],
            [
             0.7,
             "#b8e186"
            ],
            [
             0.8,
             "#7fbc41"
            ],
            [
             0.9,
             "#4d9221"
            ],
            [
             1,
             "#276419"
            ]
           ],
           "sequential": [
            [
             0,
             "#0d0887"
            ],
            [
             0.1111111111111111,
             "#46039f"
            ],
            [
             0.2222222222222222,
             "#7201a8"
            ],
            [
             0.3333333333333333,
             "#9c179e"
            ],
            [
             0.4444444444444444,
             "#bd3786"
            ],
            [
             0.5555555555555556,
             "#d8576b"
            ],
            [
             0.6666666666666666,
             "#ed7953"
            ],
            [
             0.7777777777777778,
             "#fb9f3a"
            ],
            [
             0.8888888888888888,
             "#fdca26"
            ],
            [
             1,
             "#f0f921"
            ]
           ],
           "sequentialminus": [
            [
             0,
             "#0d0887"
            ],
            [
             0.1111111111111111,
             "#46039f"
            ],
            [
             0.2222222222222222,
             "#7201a8"
            ],
            [
             0.3333333333333333,
             "#9c179e"
            ],
            [
             0.4444444444444444,
             "#bd3786"
            ],
            [
             0.5555555555555556,
             "#d8576b"
            ],
            [
             0.6666666666666666,
             "#ed7953"
            ],
            [
             0.7777777777777778,
             "#fb9f3a"
            ],
            [
             0.8888888888888888,
             "#fdca26"
            ],
            [
             1,
             "#f0f921"
            ]
           ]
          },
          "colorway": [
           "#636efa",
           "#EF553B",
           "#00cc96",
           "#ab63fa",
           "#FFA15A",
           "#19d3f3",
           "#FF6692",
           "#B6E880",
           "#FF97FF",
           "#FECB52"
          ],
          "font": {
           "color": "#2a3f5f"
          },
          "geo": {
           "bgcolor": "white",
           "lakecolor": "white",
           "landcolor": "#E5ECF6",
           "showlakes": true,
           "showland": true,
           "subunitcolor": "white"
          },
          "hoverlabel": {
           "align": "left"
          },
          "hovermode": "closest",
          "mapbox": {
           "style": "light"
          },
          "paper_bgcolor": "white",
          "plot_bgcolor": "#E5ECF6",
          "polar": {
           "angularaxis": {
            "gridcolor": "white",
            "linecolor": "white",
            "ticks": ""
           },
           "bgcolor": "#E5ECF6",
           "radialaxis": {
            "gridcolor": "white",
            "linecolor": "white",
            "ticks": ""
           }
          },
          "scene": {
           "xaxis": {
            "backgroundcolor": "#E5ECF6",
            "gridcolor": "white",
            "gridwidth": 2,
            "linecolor": "white",
            "showbackground": true,
            "ticks": "",
            "zerolinecolor": "white"
           },
           "yaxis": {
            "backgroundcolor": "#E5ECF6",
            "gridcolor": "white",
            "gridwidth": 2,
            "linecolor": "white",
            "showbackground": true,
            "ticks": "",
            "zerolinecolor": "white"
           },
           "zaxis": {
            "backgroundcolor": "#E5ECF6",
            "gridcolor": "white",
            "gridwidth": 2,
            "linecolor": "white",
            "showbackground": true,
            "ticks": "",
            "zerolinecolor": "white"
           }
          },
          "shapedefaults": {
           "line": {
            "color": "#2a3f5f"
           }
          },
          "ternary": {
           "aaxis": {
            "gridcolor": "white",
            "linecolor": "white",
            "ticks": ""
           },
           "baxis": {
            "gridcolor": "white",
            "linecolor": "white",
            "ticks": ""
           },
           "bgcolor": "#E5ECF6",
           "caxis": {
            "gridcolor": "white",
            "linecolor": "white",
            "ticks": ""
           }
          },
          "title": {
           "x": 0.05
          },
          "xaxis": {
           "automargin": true,
           "gridcolor": "white",
           "linecolor": "white",
           "ticks": "",
           "title": {
            "standoff": 15
           },
           "zerolinecolor": "white",
           "zerolinewidth": 2
          },
          "yaxis": {
           "automargin": true,
           "gridcolor": "white",
           "linecolor": "white",
           "ticks": "",
           "title": {
            "standoff": 15
           },
           "zerolinecolor": "white",
           "zerolinewidth": 2
          }
         }
        },
        "title": {
         "font": {
          "color": "Black",
          "size": 22
         },
         "text": "<b>Similarity Matrix</b>",
         "x": 0.55,
         "xanchor": "center",
         "y": 0.95,
         "yanchor": "top"
        },
        "width": 800,
        "xaxis": {
         "anchor": "y",
         "constrain": "domain",
         "domain": [
          0,
          1
         ],
         "scaleanchor": "y"
        },
        "yaxis": {
         "anchor": "x",
         "autorange": "reversed",
         "constrain": "domain",
         "domain": [
          0,
          1
         ]
        }
       }
      }
     },
     "metadata": {},
     "output_type": "display_data"
    }
   ],
   "source": [
    "model.visualize_heatmap(n_clusters=10, top_n_topics=20)"
   ]
  },
  {
   "cell_type": "code",
   "execution_count": null,
   "metadata": {},
   "outputs": [
    {
     "name": "stderr",
     "output_type": "stream",
     "text": [
      "0it [00:00, ?it/s]"
     ]
    },
    {
     "name": "stderr",
     "output_type": "stream",
     "text": [
      "20it [00:00, 67.26it/s]\n"
     ]
    },
    {
     "data": {
      "application/vnd.plotly.v1+json": {
       "config": {
        "plotlyServerURL": "https://plot.ly"
       },
       "data": [
        {
         "hoverinfo": "text",
         "hovertext": [
          "<b>Topic 1</b><br>Words: ui, only, ci, als, iui",
          "<b>Topic 1</b><br>Words: aci, eto, ci, la, vida",
          "<b>Topic 1</b><br>Words: guy, specrazi, sep, ecology, researjournal"
         ],
         "marker": {
          "color": "#E69F00"
         },
         "mode": "lines",
         "name": "1_aci_ci_eto_la",
         "type": "scatter",
         "x": [
          "2020-12-08T15:45:11+00:00",
          "2021-05-06T17:39:48+00:00",
          "2023-02-22T22:18:27+00:00"
         ],
         "y": [
          1,
          48,
          2
         ]
        },
        {
         "hoverinfo": "text",
         "hovertext": [
          "<b>Topic 2</b><br>Words: municips, ark, months, map, municip",
          "<b>Topic 2</b><br>Words: morate, atr, thorntothorntomayer, versn, grid"
         ],
         "marker": {
          "color": "#56B4E9"
         },
         "mode": "lines",
         "name": "2_municips_ark_months_map",
         "type": "scatter",
         "x": [
          "2021-05-06T17:39:48+00:00",
          "2023-02-22T22:18:27+00:00"
         ],
         "y": [
          36,
          2
         ]
        },
        {
         "hoverinfo": "text",
         "hovertext": [
          "<b>Topic 3</b><br>Words: leotie, tablsipt, tablithat, suiit, tablinobel",
          "<b>Topic 3</b><br>Words: lexity, trefore, looki, cp, nographical",
          "<b>Topic 3</b><br>Words: epimic, sims, time, tre, ratr",
          "<b>Topic 3</b><br>Words: rieved, oom, ek, ka, anotr",
          "<b>Topic 3</b><br>Words: relatns, py, px, to, integral",
          "<b>Topic 3</b><br>Words: leotie, ined, eeatns, that, relatns",
          "<b>Topic 3</b><br>Words: from, for, zero, honumerical, rewrite",
          "<b>Topic 3</b><br>Words: trefore, omega, snsf, accordy, fulbrht"
         ],
         "marker": {
          "color": "#009E73"
         },
         "mode": "lines",
         "name": "3_relatns_leotie_to_px",
         "type": "scatter",
         "x": [
          "2017-02-09T09:36:46+00:00",
          "2018-08-30T17:47:28+00:00",
          "2020-06-21T09:51:04+00:00",
          "2020-07-27T19:30:08+00:00",
          "2020-12-08T15:45:11+00:00",
          "2022-08-14T09:43:22+00:00",
          "2022-11-04T13:29:33+00:00",
          "2023-02-22T22:18:27+00:00"
         ],
         "y": [
          1,
          2,
          4,
          2,
          10,
          10,
          2,
          6
         ]
        },
        {
         "hoverinfo": "text",
         "hovertext": [
          "<b>Topic 4</b><br>Words: mand, maoeconomic, economic, it, gamo",
          "<b>Topic 4</b><br>Words: psics, maoeconomic, eco, economic, no",
          "<b>Topic 4</b><br>Words: rati, struured, maoeconomic, our, agent",
          "<b>Topic 4</b><br>Words: alth, income, government, cambridge, corona",
          "<b>Topic 4</b><br>Words: maoeconomic, variablinpennt, variablequatspecicatdferent, variablt, grae",
          "<b>Topic 4</b><br>Words: business, nancial, nance, cye, edit",
          "<b>Topic 4</b><br>Words: moody, nance, edit, nancial, economic",
          "<b>Topic 4</b><br>Words: introduhousehold, consumptand, groh, economic, maoeconomic"
         ],
         "marker": {
          "color": "#F0E442"
         },
         "mode": "lines",
         "name": "4_maoeconomic_business_economic_moody",
         "type": "scatter",
         "x": [
          "2017-01-20T12:36:57+00:00",
          "2017-02-09T09:36:46+00:00",
          "2017-08-31T13:11:11+00:00",
          "2020-06-21T09:51:04+00:00",
          "2020-07-27T19:30:08+00:00",
          "2020-12-08T15:45:11+00:00",
          "2022-08-14T09:43:22+00:00",
          "2022-11-18T16:53:57+00:00"
         ],
         "y": [
          8,
          4,
          2,
          4,
          3,
          5,
          8,
          1
         ]
        },
        {
         "hoverinfo": "text",
         "hovertext": [
          "<b>Topic 5</b><br>Words: relevance, wour, such, itse, from",
          "<b>Topic 5</b><br>Words: wcw, jorda, addit, stuour, sesen",
          "<b>Topic 5</b><br>Words: velopi, realizi, focus, transitpublic, neoassical",
          "<b>Topic 5</b><br>Words: wcw, next, abstra, aive, notice",
          "<b>Topic 5</b><br>Words: are, nonetless, tth, lie, those",
          "<b>Topic 5</b><br>Words: abstra, aive, aat, abb, garcia",
          "<b>Topic 5</b><br>Words: next, suppose, with, didaic, give"
         ],
         "marker": {
          "color": "#D55E00"
         },
         "mode": "lines",
         "name": "5_wcw_next_abstra_aive",
         "type": "scatter",
         "x": [
          "2020-06-21T09:51:04+00:00",
          "2020-07-27T19:30:08+00:00",
          "2021-05-29T03:40:26+00:00",
          "2022-08-14T09:43:22+00:00",
          "2022-11-04T13:29:33+00:00",
          "2023-02-22T22:18:27+00:00",
          "2023-05-15T19:43:28+00:00"
         ],
         "y": [
          5,
          3,
          1,
          1,
          2,
          17,
          4
         ]
        },
        {
         "hoverinfo": "text",
         "hovertext": [
          "<b>Topic 6</b><br>Words: suup, siptintrodu, to, below, our",
          "<b>Topic 6</b><br>Words: nos, informatas, seias, countri, ias",
          "<b>Topic 6</b><br>Words: articial, intellence, east, science, fall",
          "<b>Topic 6</b><br>Words: epimic, number, time, waho, that",
          "<b>Topic 6</b><br>Words: intellence, research, wsoterm, sgy, sebastiatr",
          "<b>Topic 6</b><br>Words: nishi, inonetless, over, hoalthough, besis",
          "<b>Topic 6</b><br>Words: fall, articial, intellence, wdle, key"
         ],
         "marker": {
          "color": "#0072B2"
         },
         "mode": "lines",
         "name": "6_intellence_articial_fall_wdle",
         "type": "scatter",
         "x": [
          "2017-08-31T13:11:11+00:00",
          "2018-08-30T17:47:28+00:00",
          "2019-07-11T08:42:03+00:00",
          "2020-06-21T09:51:04+00:00",
          "2020-07-27T19:30:08+00:00",
          "2022-11-04T13:29:33+00:00",
          "2023-02-22T22:18:27+00:00"
         ],
         "y": [
          1,
          1,
          1,
          1,
          2,
          1,
          23
         ]
        },
        {
         "hoverinfo": "text",
         "hovertext": [
          "<b>Topic 7</b><br>Words: coalab, coameasurement, worki, pa, new"
         ],
         "marker": {
          "color": "#CC79A7"
         },
         "mode": "lines",
         "name": "7_coalab_coameasurement_worki_pa",
         "type": "scatter",
         "x": [
          "2017-04-17T16:22:52+00:00"
         ],
         "y": [
          27
         ]
        },
        {
         "hoverinfo": "text",
         "hovertext": [
          "<b>Topic 8</b><br>Words: table, dference, tests, snicance, natlocal",
          "<b>Topic 8</b><br>Words: for, table, gbert, dinary, spaccbb",
          "<b>Topic 8</b><br>Words: table, distributn, standardized, page, dference"
         ],
         "marker": {
          "color": "#E69F00"
         },
         "mode": "lines",
         "name": "8_table_dference_distributn_tests",
         "type": "scatter",
         "x": [
          "2020-07-27T19:30:08+00:00",
          "2020-10-16T02:52:59+00:00",
          "2023-02-22T22:18:27+00:00"
         ],
         "y": [
          2,
          1,
          22
         ]
        },
        {
         "hoverinfo": "text",
         "hovertext": [
          "<b>Topic 9</b><br>Words: assets, revenue, aregate, equatns, for"
         ],
         "marker": {
          "color": "#56B4E9"
         },
         "mode": "lines",
         "name": "9_assets_revenue_aregate_equatns",
         "type": "scatter",
         "x": [
          "2017-08-31T13:11:11+00:00"
         ],
         "y": [
          21
         ]
        },
        {
         "hoverinfo": "text",
         "hovertext": [
          "<b>Topic 10</b><br>Words: ger, minas, intellence, articial, bras",
          "<b>Topic 10</b><br>Words: meyer, swinni, schwartz, dam, moore"
         ],
         "marker": {
          "color": "#009E73"
         },
         "mode": "lines",
         "name": "10_ger_minas_intellence_articial",
         "type": "scatter",
         "x": [
          "2021-05-06T17:39:48+00:00",
          "2023-02-22T22:18:27+00:00"
         ],
         "y": [
          18,
          1
         ]
        }
       ],
       "layout": {
        "height": 450,
        "hoverlabel": {
         "bgcolor": "white",
         "font": {
          "family": "Rockwell",
          "size": 16
         }
        },
        "legend": {
         "title": {
          "text": "<b>Global Topic Representation"
         }
        },
        "template": {
         "data": {
          "bar": [
           {
            "error_x": {
             "color": "rgb(36,36,36)"
            },
            "error_y": {
             "color": "rgb(36,36,36)"
            },
            "marker": {
             "line": {
              "color": "white",
              "width": 0.5
             },
             "pattern": {
              "fillmode": "overlay",
              "size": 10,
              "solidity": 0.2
             }
            },
            "type": "bar"
           }
          ],
          "barpolar": [
           {
            "marker": {
             "line": {
              "color": "white",
              "width": 0.5
             },
             "pattern": {
              "fillmode": "overlay",
              "size": 10,
              "solidity": 0.2
             }
            },
            "type": "barpolar"
           }
          ],
          "carpet": [
           {
            "aaxis": {
             "endlinecolor": "rgb(36,36,36)",
             "gridcolor": "white",
             "linecolor": "white",
             "minorgridcolor": "white",
             "startlinecolor": "rgb(36,36,36)"
            },
            "baxis": {
             "endlinecolor": "rgb(36,36,36)",
             "gridcolor": "white",
             "linecolor": "white",
             "minorgridcolor": "white",
             "startlinecolor": "rgb(36,36,36)"
            },
            "type": "carpet"
           }
          ],
          "choropleth": [
           {
            "colorbar": {
             "outlinewidth": 1,
             "tickcolor": "rgb(36,36,36)",
             "ticks": "outside"
            },
            "type": "choropleth"
           }
          ],
          "contour": [
           {
            "colorbar": {
             "outlinewidth": 1,
             "tickcolor": "rgb(36,36,36)",
             "ticks": "outside"
            },
            "colorscale": [
             [
              0,
              "#440154"
             ],
             [
              0.1111111111111111,
              "#482878"
             ],
             [
              0.2222222222222222,
              "#3e4989"
             ],
             [
              0.3333333333333333,
              "#31688e"
             ],
             [
              0.4444444444444444,
              "#26828e"
             ],
             [
              0.5555555555555556,
              "#1f9e89"
             ],
             [
              0.6666666666666666,
              "#35b779"
             ],
             [
              0.7777777777777778,
              "#6ece58"
             ],
             [
              0.8888888888888888,
              "#b5de2b"
             ],
             [
              1,
              "#fde725"
             ]
            ],
            "type": "contour"
           }
          ],
          "contourcarpet": [
           {
            "colorbar": {
             "outlinewidth": 1,
             "tickcolor": "rgb(36,36,36)",
             "ticks": "outside"
            },
            "type": "contourcarpet"
           }
          ],
          "heatmap": [
           {
            "colorbar": {
             "outlinewidth": 1,
             "tickcolor": "rgb(36,36,36)",
             "ticks": "outside"
            },
            "colorscale": [
             [
              0,
              "#440154"
             ],
             [
              0.1111111111111111,
              "#482878"
             ],
             [
              0.2222222222222222,
              "#3e4989"
             ],
             [
              0.3333333333333333,
              "#31688e"
             ],
             [
              0.4444444444444444,
              "#26828e"
             ],
             [
              0.5555555555555556,
              "#1f9e89"
             ],
             [
              0.6666666666666666,
              "#35b779"
             ],
             [
              0.7777777777777778,
              "#6ece58"
             ],
             [
              0.8888888888888888,
              "#b5de2b"
             ],
             [
              1,
              "#fde725"
             ]
            ],
            "type": "heatmap"
           }
          ],
          "heatmapgl": [
           {
            "colorbar": {
             "outlinewidth": 1,
             "tickcolor": "rgb(36,36,36)",
             "ticks": "outside"
            },
            "colorscale": [
             [
              0,
              "#440154"
             ],
             [
              0.1111111111111111,
              "#482878"
             ],
             [
              0.2222222222222222,
              "#3e4989"
             ],
             [
              0.3333333333333333,
              "#31688e"
             ],
             [
              0.4444444444444444,
              "#26828e"
             ],
             [
              0.5555555555555556,
              "#1f9e89"
             ],
             [
              0.6666666666666666,
              "#35b779"
             ],
             [
              0.7777777777777778,
              "#6ece58"
             ],
             [
              0.8888888888888888,
              "#b5de2b"
             ],
             [
              1,
              "#fde725"
             ]
            ],
            "type": "heatmapgl"
           }
          ],
          "histogram": [
           {
            "marker": {
             "line": {
              "color": "white",
              "width": 0.6
             }
            },
            "type": "histogram"
           }
          ],
          "histogram2d": [
           {
            "colorbar": {
             "outlinewidth": 1,
             "tickcolor": "rgb(36,36,36)",
             "ticks": "outside"
            },
            "colorscale": [
             [
              0,
              "#440154"
             ],
             [
              0.1111111111111111,
              "#482878"
             ],
             [
              0.2222222222222222,
              "#3e4989"
             ],
             [
              0.3333333333333333,
              "#31688e"
             ],
             [
              0.4444444444444444,
              "#26828e"
             ],
             [
              0.5555555555555556,
              "#1f9e89"
             ],
             [
              0.6666666666666666,
              "#35b779"
             ],
             [
              0.7777777777777778,
              "#6ece58"
             ],
             [
              0.8888888888888888,
              "#b5de2b"
             ],
             [
              1,
              "#fde725"
             ]
            ],
            "type": "histogram2d"
           }
          ],
          "histogram2dcontour": [
           {
            "colorbar": {
             "outlinewidth": 1,
             "tickcolor": "rgb(36,36,36)",
             "ticks": "outside"
            },
            "colorscale": [
             [
              0,
              "#440154"
             ],
             [
              0.1111111111111111,
              "#482878"
             ],
             [
              0.2222222222222222,
              "#3e4989"
             ],
             [
              0.3333333333333333,
              "#31688e"
             ],
             [
              0.4444444444444444,
              "#26828e"
             ],
             [
              0.5555555555555556,
              "#1f9e89"
             ],
             [
              0.6666666666666666,
              "#35b779"
             ],
             [
              0.7777777777777778,
              "#6ece58"
             ],
             [
              0.8888888888888888,
              "#b5de2b"
             ],
             [
              1,
              "#fde725"
             ]
            ],
            "type": "histogram2dcontour"
           }
          ],
          "mesh3d": [
           {
            "colorbar": {
             "outlinewidth": 1,
             "tickcolor": "rgb(36,36,36)",
             "ticks": "outside"
            },
            "type": "mesh3d"
           }
          ],
          "parcoords": [
           {
            "line": {
             "colorbar": {
              "outlinewidth": 1,
              "tickcolor": "rgb(36,36,36)",
              "ticks": "outside"
             }
            },
            "type": "parcoords"
           }
          ],
          "pie": [
           {
            "automargin": true,
            "type": "pie"
           }
          ],
          "scatter": [
           {
            "fillpattern": {
             "fillmode": "overlay",
             "size": 10,
             "solidity": 0.2
            },
            "type": "scatter"
           }
          ],
          "scatter3d": [
           {
            "line": {
             "colorbar": {
              "outlinewidth": 1,
              "tickcolor": "rgb(36,36,36)",
              "ticks": "outside"
             }
            },
            "marker": {
             "colorbar": {
              "outlinewidth": 1,
              "tickcolor": "rgb(36,36,36)",
              "ticks": "outside"
             }
            },
            "type": "scatter3d"
           }
          ],
          "scattercarpet": [
           {
            "marker": {
             "colorbar": {
              "outlinewidth": 1,
              "tickcolor": "rgb(36,36,36)",
              "ticks": "outside"
             }
            },
            "type": "scattercarpet"
           }
          ],
          "scattergeo": [
           {
            "marker": {
             "colorbar": {
              "outlinewidth": 1,
              "tickcolor": "rgb(36,36,36)",
              "ticks": "outside"
             }
            },
            "type": "scattergeo"
           }
          ],
          "scattergl": [
           {
            "marker": {
             "colorbar": {
              "outlinewidth": 1,
              "tickcolor": "rgb(36,36,36)",
              "ticks": "outside"
             }
            },
            "type": "scattergl"
           }
          ],
          "scattermapbox": [
           {
            "marker": {
             "colorbar": {
              "outlinewidth": 1,
              "tickcolor": "rgb(36,36,36)",
              "ticks": "outside"
             }
            },
            "type": "scattermapbox"
           }
          ],
          "scatterpolar": [
           {
            "marker": {
             "colorbar": {
              "outlinewidth": 1,
              "tickcolor": "rgb(36,36,36)",
              "ticks": "outside"
             }
            },
            "type": "scatterpolar"
           }
          ],
          "scatterpolargl": [
           {
            "marker": {
             "colorbar": {
              "outlinewidth": 1,
              "tickcolor": "rgb(36,36,36)",
              "ticks": "outside"
             }
            },
            "type": "scatterpolargl"
           }
          ],
          "scatterternary": [
           {
            "marker": {
             "colorbar": {
              "outlinewidth": 1,
              "tickcolor": "rgb(36,36,36)",
              "ticks": "outside"
             }
            },
            "type": "scatterternary"
           }
          ],
          "surface": [
           {
            "colorbar": {
             "outlinewidth": 1,
             "tickcolor": "rgb(36,36,36)",
             "ticks": "outside"
            },
            "colorscale": [
             [
              0,
              "#440154"
             ],
             [
              0.1111111111111111,
              "#482878"
             ],
             [
              0.2222222222222222,
              "#3e4989"
             ],
             [
              0.3333333333333333,
              "#31688e"
             ],
             [
              0.4444444444444444,
              "#26828e"
             ],
             [
              0.5555555555555556,
              "#1f9e89"
             ],
             [
              0.6666666666666666,
              "#35b779"
             ],
             [
              0.7777777777777778,
              "#6ece58"
             ],
             [
              0.8888888888888888,
              "#b5de2b"
             ],
             [
              1,
              "#fde725"
             ]
            ],
            "type": "surface"
           }
          ],
          "table": [
           {
            "cells": {
             "fill": {
              "color": "rgb(237,237,237)"
             },
             "line": {
              "color": "white"
             }
            },
            "header": {
             "fill": {
              "color": "rgb(217,217,217)"
             },
             "line": {
              "color": "white"
             }
            },
            "type": "table"
           }
          ]
         },
         "layout": {
          "annotationdefaults": {
           "arrowhead": 0,
           "arrowwidth": 1
          },
          "autotypenumbers": "strict",
          "coloraxis": {
           "colorbar": {
            "outlinewidth": 1,
            "tickcolor": "rgb(36,36,36)",
            "ticks": "outside"
           }
          },
          "colorscale": {
           "diverging": [
            [
             0,
             "rgb(103,0,31)"
            ],
            [
             0.1,
             "rgb(178,24,43)"
            ],
            [
             0.2,
             "rgb(214,96,77)"
            ],
            [
             0.3,
             "rgb(244,165,130)"
            ],
            [
             0.4,
             "rgb(253,219,199)"
            ],
            [
             0.5,
             "rgb(247,247,247)"
            ],
            [
             0.6,
             "rgb(209,229,240)"
            ],
            [
             0.7,
             "rgb(146,197,222)"
            ],
            [
             0.8,
             "rgb(67,147,195)"
            ],
            [
             0.9,
             "rgb(33,102,172)"
            ],
            [
             1,
             "rgb(5,48,97)"
            ]
           ],
           "sequential": [
            [
             0,
             "#440154"
            ],
            [
             0.1111111111111111,
             "#482878"
            ],
            [
             0.2222222222222222,
             "#3e4989"
            ],
            [
             0.3333333333333333,
             "#31688e"
            ],
            [
             0.4444444444444444,
             "#26828e"
            ],
            [
             0.5555555555555556,
             "#1f9e89"
            ],
            [
             0.6666666666666666,
             "#35b779"
            ],
            [
             0.7777777777777778,
             "#6ece58"
            ],
            [
             0.8888888888888888,
             "#b5de2b"
            ],
            [
             1,
             "#fde725"
            ]
           ],
           "sequentialminus": [
            [
             0,
             "#440154"
            ],
            [
             0.1111111111111111,
             "#482878"
            ],
            [
             0.2222222222222222,
             "#3e4989"
            ],
            [
             0.3333333333333333,
             "#31688e"
            ],
            [
             0.4444444444444444,
             "#26828e"
            ],
            [
             0.5555555555555556,
             "#1f9e89"
            ],
            [
             0.6666666666666666,
             "#35b779"
            ],
            [
             0.7777777777777778,
             "#6ece58"
            ],
            [
             0.8888888888888888,
             "#b5de2b"
            ],
            [
             1,
             "#fde725"
            ]
           ]
          },
          "colorway": [
           "#1F77B4",
           "#FF7F0E",
           "#2CA02C",
           "#D62728",
           "#9467BD",
           "#8C564B",
           "#E377C2",
           "#7F7F7F",
           "#BCBD22",
           "#17BECF"
          ],
          "font": {
           "color": "rgb(36,36,36)"
          },
          "geo": {
           "bgcolor": "white",
           "lakecolor": "white",
           "landcolor": "white",
           "showlakes": true,
           "showland": true,
           "subunitcolor": "white"
          },
          "hoverlabel": {
           "align": "left"
          },
          "hovermode": "closest",
          "mapbox": {
           "style": "light"
          },
          "paper_bgcolor": "white",
          "plot_bgcolor": "white",
          "polar": {
           "angularaxis": {
            "gridcolor": "rgb(232,232,232)",
            "linecolor": "rgb(36,36,36)",
            "showgrid": false,
            "showline": true,
            "ticks": "outside"
           },
           "bgcolor": "white",
           "radialaxis": {
            "gridcolor": "rgb(232,232,232)",
            "linecolor": "rgb(36,36,36)",
            "showgrid": false,
            "showline": true,
            "ticks": "outside"
           }
          },
          "scene": {
           "xaxis": {
            "backgroundcolor": "white",
            "gridcolor": "rgb(232,232,232)",
            "gridwidth": 2,
            "linecolor": "rgb(36,36,36)",
            "showbackground": true,
            "showgrid": false,
            "showline": true,
            "ticks": "outside",
            "zeroline": false,
            "zerolinecolor": "rgb(36,36,36)"
           },
           "yaxis": {
            "backgroundcolor": "white",
            "gridcolor": "rgb(232,232,232)",
            "gridwidth": 2,
            "linecolor": "rgb(36,36,36)",
            "showbackground": true,
            "showgrid": false,
            "showline": true,
            "ticks": "outside",
            "zeroline": false,
            "zerolinecolor": "rgb(36,36,36)"
           },
           "zaxis": {
            "backgroundcolor": "white",
            "gridcolor": "rgb(232,232,232)",
            "gridwidth": 2,
            "linecolor": "rgb(36,36,36)",
            "showbackground": true,
            "showgrid": false,
            "showline": true,
            "ticks": "outside",
            "zeroline": false,
            "zerolinecolor": "rgb(36,36,36)"
           }
          },
          "shapedefaults": {
           "fillcolor": "black",
           "line": {
            "width": 0
           },
           "opacity": 0.3
          },
          "ternary": {
           "aaxis": {
            "gridcolor": "rgb(232,232,232)",
            "linecolor": "rgb(36,36,36)",
            "showgrid": false,
            "showline": true,
            "ticks": "outside"
           },
           "baxis": {
            "gridcolor": "rgb(232,232,232)",
            "linecolor": "rgb(36,36,36)",
            "showgrid": false,
            "showline": true,
            "ticks": "outside"
           },
           "bgcolor": "white",
           "caxis": {
            "gridcolor": "rgb(232,232,232)",
            "linecolor": "rgb(36,36,36)",
            "showgrid": false,
            "showline": true,
            "ticks": "outside"
           }
          },
          "title": {
           "x": 0.05
          },
          "xaxis": {
           "automargin": true,
           "gridcolor": "rgb(232,232,232)",
           "linecolor": "rgb(36,36,36)",
           "showgrid": false,
           "showline": true,
           "ticks": "outside",
           "title": {
            "standoff": 15
           },
           "zeroline": false,
           "zerolinecolor": "rgb(36,36,36)"
          },
          "yaxis": {
           "automargin": true,
           "gridcolor": "rgb(232,232,232)",
           "linecolor": "rgb(36,36,36)",
           "showgrid": false,
           "showline": true,
           "ticks": "outside",
           "title": {
            "standoff": 15
           },
           "zeroline": false,
           "zerolinecolor": "rgb(36,36,36)"
          }
         }
        },
        "title": {
         "font": {
          "color": "Black",
          "size": 22
         },
         "text": "<b>Topics over Time</b>",
         "x": 0.4,
         "xanchor": "center",
         "y": 0.95,
         "yanchor": "top"
        },
        "width": 1250,
        "xaxis": {
         "showgrid": true
        },
        "yaxis": {
         "showgrid": true,
         "title": {
          "text": "Frequency"
         }
        }
       }
      }
     },
     "metadata": {},
     "output_type": "display_data"
    }
   ],
   "source": [
    "timestamps = dfx1['published'].values.tolist()\n",
    "topics_over_time = model.topics_over_time(docs, timestamps)\n",
    "model.visualize_topics_over_time(topics_over_time, topics=[1,2,3,4,5,6,7,8,9,10])"
   ]
  },
  {
   "cell_type": "code",
   "execution_count": null,
   "metadata": {},
   "outputs": [
    {
     "name": "stdout",
     "output_type": "stream",
     "text": [
      "\n",
      "Perplexity:  -9.133080731615399\n",
      "\n",
      "Coherence Score:  0.4966308789860417\n"
     ]
    }
   ],
   "source": [
    "import gensim\n",
    "from gensim.utils import simple_preprocess\n",
    "from gensim.parsing.preprocessing import STOPWORDS\n",
    "from gensim import corpora, models\n",
    "from gensim.models import Word2Vec\n",
    "from gensim.models.phrases import Phrases, Phraser\n",
    "from sklearn.feature_extraction.text import TfidfVectorizer\n",
    "\n",
    "def preprocess(text):\n",
    "    result = []\n",
    "    for token in gensim.utils.simple_preprocess(text):\n",
    "        if token not in gensim.parsing.preprocessing.STOPWORDS and len(token) > 3:\n",
    "            result.append(token)\n",
    "    return result\n",
    "\n",
    "preprocess_docs = df['pdata_clean'].map(preprocess)\n",
    "\n",
    "\n",
    "dictionary = gensim.corpora.Dictionary(preprocess_docs)\n",
    "\n",
    "bow_corpus = [dictionary.doc2bow(doc) for doc in preprocess_docs]\n",
    "\n",
    "tfidf = models.TfidfModel(bow_corpus)\n",
    "corpus_tfidf = tfidf[bow_corpus]\n",
    "\n",
    "lda_model = gensim.models.LdaMulticore(corpus_tfidf, num_topics=10, id2word=dictionary, passes=2, workers=10)\n",
    "\n",
    "# Compute Perplexity\n",
    "# measure of how good the model is. lower Perplexity the better.\n",
    "print('\\nPerplexity: ', lda_model.log_perplexity(bow_corpus)) \n",
    "\n",
    "# Compute Coherence Score\n",
    "from gensim.models import CoherenceModel\n",
    "coherence_model_lda = CoherenceModel(model=lda_model, texts=preprocess_docs, dictionary=dictionary, coherence='c_v')\n",
    "coherence_lda = coherence_model_lda.get_coherence()\n",
    "print('\\nCoherence Score: ', coherence_lda)"
   ]
  },
  {
   "cell_type": "code",
   "execution_count": null,
   "metadata": {},
   "outputs": [
    {
     "name": "stdout",
     "output_type": "stream",
     "text": [
      "Setting Number of topics to: 4\n",
      "Got coherence score of: 0.44984461479927235\n",
      "Setting Number of topics to: 10\n",
      "Got coherence score of: 0.5123924681273773\n",
      "Setting Number of topics to: 16\n",
      "Got coherence score of: 0.6028234540551358\n",
      "Setting Number of topics to: 22\n",
      "Got coherence score of: 0.6001901715170205\n",
      "Setting Number of topics to: 28\n",
      "Got coherence score of: 0.5809059362824411\n",
      "Setting Number of topics to: 34\n",
      "Got coherence score of: 0.5490401328675196\n"
     ]
    },
    {
     "data": {
      "image/png": "[encoded data removed]",
      "text/plain": [
       "<Figure size 640x480 with 1 Axes>"
      ]
     },
     "metadata": {},
     "output_type": "display_data"
    }
   ],
   "source": [
    "# Compute Coherence Score\n",
    "from gensim.models import CoherenceModel\n",
    "\n",
    "def compute_coherence_values(dictionary, corpus, texts, limit, start=2, step=3):\n",
    "    \"\"\"\n",
    "    Compute c_v coherence for various number of topics\n",
    "\n",
    "    Parameters:\n",
    "    ----------\n",
    "    dictionary : Gensim dictionary\n",
    "    corpus : Gensim corpus\n",
    "    texts : List of input texts\n",
    "    limit : Max num of topics\n",
    "    \n",
    "    Returns:\n",
    "    -------\n",
    "    coherence_values : Coherence values corresponding to the LDA model with respective number of topics\n",
    "    \"\"\"\n",
    "    coherence_values = []\n",
    "    num_topics_list = []  # To store the corresponding num_topics\n",
    "    for num_topics in range(start, limit, step):\n",
    "        print('Setting Number of topics to:', num_topics)\n",
    "        model = gensim.models.LdaMulticore(corpus, num_topics=num_topics, id2word=dictionary, passes=2, workers=10)\n",
    "        coherencemodel = CoherenceModel(model=model, texts=texts, dictionary=dictionary, coherence='c_v')\n",
    "        coherence_score = coherencemodel.get_coherence()\n",
    "        coherence_values.append(coherence_score)\n",
    "        num_topics_list.append(num_topics)  # Store the num_topics value\n",
    "        print('Got coherence score of:', coherence_score)\n",
    "\n",
    "    return num_topics_list, coherence_values  # Return both num_topics and coherence values\n",
    "\n",
    "# Compute coherence values\n",
    "result = compute_coherence_values(dictionary=dictionary, corpus=corpus_tfidf, texts=preprocess_docs, start=4, limit=40, step=6)\n",
    "\n",
    "# Unpack result tuple\n",
    "num_topics_list, coherence_values = result\n",
    "\n",
    "# Plot coherence values\n",
    "plt.plot(num_topics_list, coherence_values)  # Use num_topics_list as x-axis\n",
    "plt.xlabel(\"Num Topics\")\n",
    "plt.ylabel(\"Coherence score\")\n",
    "plt.legend((\"coherence_values\"), loc='best')\n",
    "plt.show()"
   ]
  }
 ],
 "metadata": {
  "kernelspec": {
   "display_name": "test_env",
   "language": "python",
   "name": "python3"
  },
  "language_info": {
   "codemirror_mode": {
    "name": "ipython",
    "version": 3
   },
   "file_extension": ".py",
   "mimetype": "text/x-python",
   "name": "python",
   "nbconvert_exporter": "python",
   "pygments_lexer": "ipython3",
   "version": "3.12.2"
  }
 },
 "nbformat": 4,
 "nbformat_minor": 2
}
