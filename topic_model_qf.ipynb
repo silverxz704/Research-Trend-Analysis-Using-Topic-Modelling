{
 "cells": [
  {
   "cell_type": "code",
   "execution_count": 18,
   "metadata": {},
   "outputs": [
    {
     "data": {
      "text/html": [
       "<div>\n",
       "<style scoped>\n",
       "    .dataframe tbody tr th:only-of-type {\n",
       "        vertical-align: middle;\n",
       "    }\n",
       "\n",
       "    .dataframe tbody tr th {\n",
       "        vertical-align: top;\n",
       "    }\n",
       "\n",
       "    .dataframe thead th {\n",
       "        text-align: right;\n",
       "    }\n",
       "</style>\n",
       "<table border=\"1\" class=\"dataframe\">\n",
       "  <thead>\n",
       "    <tr style=\"text-align: right;\">\n",
       "      <th></th>\n",
       "      <th>file_name</th>\n",
       "      <th>page_number</th>\n",
       "      <th>title</th>\n",
       "      <th>summary</th>\n",
       "      <th>page_data</th>\n",
       "      <th>published</th>\n",
       "      <th>pdata_clean</th>\n",
       "    </tr>\n",
       "  </thead>\n",
       "  <tbody>\n",
       "    <tr>\n",
       "      <th>0</th>\n",
       "      <td>paper_qf_1.pdf</td>\n",
       "      <td>1</td>\n",
       "      <td>Quantum Game Theory in Finance</td>\n",
       "      <td>This is a short review of the background and...</td>\n",
       "      <td>arXiv:quant-ph/0406129v1  18 Jun 2004Quantum G...</td>\n",
       "      <td>2004-06-18</td>\n",
       "      <td>juquantum game tory nance edward ptrow instit...</td>\n",
       "    </tr>\n",
       "    <tr>\n",
       "      <th>1</th>\n",
       "      <td>paper_qf_1.pdf</td>\n",
       "      <td>2</td>\n",
       "      <td>Quantum Game Theory in Finance</td>\n",
       "      <td>This is a short review of the background and...</td>\n",
       "      <td>can be considered as an obstacle to uniﬁcation...</td>\n",
       "      <td>2004-06-18</td>\n",
       "      <td>quantum full nature  fascinati it it trefore a...</td>\n",
       "    </tr>\n",
       "    <tr>\n",
       "      <th>2</th>\n",
       "      <td>paper_qf_1.pdf</td>\n",
       "      <td>3</td>\n",
       "      <td>Quantum Game Theory in Finance</td>\n",
       "      <td>This is a short review of the background and...</td>\n",
       "      <td>(the most interesting examples emerge from cry...</td>\n",
       "      <td>2004-06-18</td>\n",
       "      <td>som    rec e quantum besis nature trefore quan...</td>\n",
       "    </tr>\n",
       "    <tr>\n",
       "      <th>3</th>\n",
       "      <td>paper_qf_1.pdf</td>\n",
       "      <td>4</td>\n",
       "      <td>Quantum Game Theory in Finance</td>\n",
       "      <td>This is a short review of the background and...</td>\n",
       "      <td>deﬁned by the prescription for its measurement...</td>\n",
       "      <td>2004-06-18</td>\n",
       "      <td>rmit iaany   t but tre  ref ihi ller quantum  ...</td>\n",
       "    </tr>\n",
       "    <tr>\n",
       "      <th>4</th>\n",
       "      <td>paper_qf_1.pdf</td>\n",
       "      <td>5</td>\n",
       "      <td>Quantum Game Theory in Finance</td>\n",
       "      <td>This is a short review of the background and...</td>\n",
       "      <td>•error theory: second moments of a random vari...</td>\n",
       "      <td>2004-06-18</td>\n",
       "      <td>marwitz cac limortocho nobel prize  rmit iaand...</td>\n",
       "    </tr>\n",
       "    <tr>\n",
       "      <th>...</th>\n",
       "      <td>...</td>\n",
       "      <td>...</td>\n",
       "      <td>...</td>\n",
       "      <td>...</td>\n",
       "      <td>...</td>\n",
       "      <td>...</td>\n",
       "      <td>...</td>\n",
       "    </tr>\n",
       "    <tr>\n",
       "      <th>1132</th>\n",
       "      <td>paper_qf_52.pdf</td>\n",
       "      <td>6</td>\n",
       "      <td>Detecting intraday financial market states usi...</td>\n",
       "      <td>We propose the application of a high-speed m...</td>\n",
       "      <td>\\n5. A high-speed Parallel Genetic Algorithm i...</td>\n",
       "      <td>2015-08-20</td>\n",
       "      <td>llel genetic algorithm t equatgra mars li w ra...</td>\n",
       "    </tr>\n",
       "    <tr>\n",
       "      <th>1133</th>\n",
       "      <td>paper_qf_52.pdf</td>\n",
       "      <td>7</td>\n",
       "      <td>Detecting intraday financial market states usi...</td>\n",
       "      <td>We propose the application of a high-speed m...</td>\n",
       "      <td>\\npopulations often lead to sub-optimal algori...</td>\n",
       "      <td>2015-08-20</td>\n",
       "      <td>for india before t india before ms graphics pr...</td>\n",
       "    </tr>\n",
       "    <tr>\n",
       "      <th>1134</th>\n",
       "      <td>paper_qf_52.pdf</td>\n",
       "      <td>8</td>\n",
       "      <td>Detecting intraday financial market states usi...</td>\n",
       "      <td>We propose the application of a high-speed m...</td>\n",
       "      <td>\\n(FV), the market state assignment can be det...</td>\n",
       "      <td>2015-08-20</td>\n",
       "      <td>vs vs euiato  new feature veor te ute calculat...</td>\n",
       "    </tr>\n",
       "    <tr>\n",
       "      <th>1135</th>\n",
       "      <td>paper_qf_52.pdf</td>\n",
       "      <td>9</td>\n",
       "      <td>Detecting intraday financial market states usi...</td>\n",
       "      <td>We propose the application of a high-speed m...</td>\n",
       "      <td>\\ndo not represent an exhaustive set of possib...</td>\n",
       "      <td>2015-08-20</td>\n",
       "      <td>level additnal scale t isemany ga articial int...</td>\n",
       "    </tr>\n",
       "    <tr>\n",
       "      <th>1136</th>\n",
       "      <td>paper_qf_52.pdf</td>\n",
       "      <td>10</td>\n",
       "      <td>Detecting intraday financial market states usi...</td>\n",
       "      <td>We propose the application of a high-speed m...</td>\n",
       "      <td>\\nThe 42 stocks considered represent the preva...</td>\n",
       "      <td>2015-08-20</td>\n",
       "      <td>t tall share t table  feature timnov nov nov n...</td>\n",
       "    </tr>\n",
       "  </tbody>\n",
       "</table>\n",
       "<p>1137 rows × 7 columns</p>\n",
       "</div>"
      ],
      "text/plain": [
       "            file_name  page_number  \\\n",
       "0      paper_qf_1.pdf            1   \n",
       "1      paper_qf_1.pdf            2   \n",
       "2      paper_qf_1.pdf            3   \n",
       "3      paper_qf_1.pdf            4   \n",
       "4      paper_qf_1.pdf            5   \n",
       "...               ...          ...   \n",
       "1132  paper_qf_52.pdf            6   \n",
       "1133  paper_qf_52.pdf            7   \n",
       "1134  paper_qf_52.pdf            8   \n",
       "1135  paper_qf_52.pdf            9   \n",
       "1136  paper_qf_52.pdf           10   \n",
       "\n",
       "                                                  title  \\\n",
       "0                        Quantum Game Theory in Finance   \n",
       "1                        Quantum Game Theory in Finance   \n",
       "2                        Quantum Game Theory in Finance   \n",
       "3                        Quantum Game Theory in Finance   \n",
       "4                        Quantum Game Theory in Finance   \n",
       "...                                                 ...   \n",
       "1132  Detecting intraday financial market states usi...   \n",
       "1133  Detecting intraday financial market states usi...   \n",
       "1134  Detecting intraday financial market states usi...   \n",
       "1135  Detecting intraday financial market states usi...   \n",
       "1136  Detecting intraday financial market states usi...   \n",
       "\n",
       "                                                summary  \\\n",
       "0       This is a short review of the background and...   \n",
       "1       This is a short review of the background and...   \n",
       "2       This is a short review of the background and...   \n",
       "3       This is a short review of the background and...   \n",
       "4       This is a short review of the background and...   \n",
       "...                                                 ...   \n",
       "1132    We propose the application of a high-speed m...   \n",
       "1133    We propose the application of a high-speed m...   \n",
       "1134    We propose the application of a high-speed m...   \n",
       "1135    We propose the application of a high-speed m...   \n",
       "1136    We propose the application of a high-speed m...   \n",
       "\n",
       "                                              page_data   published  \\\n",
       "0     arXiv:quant-ph/0406129v1  18 Jun 2004Quantum G...  2004-06-18   \n",
       "1     can be considered as an obstacle to uniﬁcation...  2004-06-18   \n",
       "2     (the most interesting examples emerge from cry...  2004-06-18   \n",
       "3     deﬁned by the prescription for its measurement...  2004-06-18   \n",
       "4     •error theory: second moments of a random vari...  2004-06-18   \n",
       "...                                                 ...         ...   \n",
       "1132  \\n5. A high-speed Parallel Genetic Algorithm i...  2015-08-20   \n",
       "1133  \\npopulations often lead to sub-optimal algori...  2015-08-20   \n",
       "1134  \\n(FV), the market state assignment can be det...  2015-08-20   \n",
       "1135  \\ndo not represent an exhaustive set of possib...  2015-08-20   \n",
       "1136  \\nThe 42 stocks considered represent the preva...  2015-08-20   \n",
       "\n",
       "                                            pdata_clean  \n",
       "0      juquantum game tory nance edward ptrow instit...  \n",
       "1     quantum full nature  fascinati it it trefore a...  \n",
       "2     som    rec e quantum besis nature trefore quan...  \n",
       "3     rmit iaany   t but tre  ref ihi ller quantum  ...  \n",
       "4     marwitz cac limortocho nobel prize  rmit iaand...  \n",
       "...                                                 ...  \n",
       "1132  llel genetic algorithm t equatgra mars li w ra...  \n",
       "1133  for india before t india before ms graphics pr...  \n",
       "1134  vs vs euiato  new feature veor te ute calculat...  \n",
       "1135  level additnal scale t isemany ga articial int...  \n",
       "1136  t tall share t table  feature timnov nov nov n...  \n",
       "\n",
       "[1137 rows x 7 columns]"
      ]
     },
     "execution_count": 18,
     "metadata": {},
     "output_type": "execute_result"
    }
   ],
   "source": [
    "import numpy as np\n",
    "import pandas as pd\n",
    "from datetime import datetime\n",
    "\n",
    "df= pd.read_csv('cleaned_qf.csv')\n",
    "df['pdata_clean']=df['pdata_clean'].astype(str)\n",
    "\n",
    "def convertDate(d):\n",
    "    new_date = datetime.strptime(d, \"%Y-%m-%dT%H:%M:%S%z\")\n",
    "    return new_date.date()\n",
    " \n",
    "df['published'] = df['published'].apply(lambda date: convertDate(date))\n",
    "df\n"
   ]
  },
  {
   "cell_type": "code",
   "execution_count": 19,
   "metadata": {},
   "outputs": [],
   "source": [
    "import pandas as pd\n",
    "from gensim import corpora\n",
    "from nltk.corpus import stopwords\n",
    "from nltk.tokenize import word_tokenize\n",
    "from nltk.util import ngrams\n",
    "from gensim.models import LdaModel\n",
    "import re\n",
    "\n",
    "#function to preprocess text\n",
    "def preprocess_text(text):\n",
    "    text = str(text).lower()\n",
    "    text = re.sub(r'[^a-z\\s]', '', text)  #non-alphabet characters removed\n",
    "    words = word_tokenize(text)\n",
    "    words = [word for word in words if word not in stopwords.words('english')]\n",
    "\n",
    "    unigrams = words\n",
    "    bigrams = [' '.join(phrase) for phrase in list(ngrams(words, 2))]\n",
    "    \n",
    "    return unigrams, bigrams  #return both unigrams and bigrams\n",
    "\n",
    "\n",
    "#preprocessing of data\n",
    "df['unigrams'], df['bigrams'] = zip(*df['pdata_clean'].apply(preprocess_text))\n",
    "\n",
    "#dictionary for unigrams\n",
    "dictionary_unigrams = corpora.Dictionary(df['unigrams'])\n",
    "corpus_unigrams = [dictionary_unigrams.doc2bow(text) for text in df['unigrams']]\n",
    "\n",
    "#train the LDA model for unigrams\n",
    "lda_model_unigrams = LdaModel(corpus_unigrams, num_topics=10, id2word=dictionary_unigrams, passes=15)\n",
    "\n",
    "#dictionary for bigrams\n",
    "dictionary_bigrams = corpora.Dictionary(df['bigrams'])\n",
    "corpus_bigrams = [dictionary_bigrams.doc2bow(text) for text in df['bigrams']]\n",
    "\n",
    "#train the LDA model for bigrams\n",
    "lda_model_bigrams = LdaModel(corpus_bigrams, num_topics=10, id2word=dictionary_bigrams, passes=15)\n",
    "\n",
    "#function to get the most significant words for a topic\n",
    "def get_topic_words(model, dictionary, topic):\n",
    "    topic_words = [word for word, prob in model.show_topic(topic, topn=10) if word not in ['agents','agent','ai', 'intelligence','artificial intelligence','cial intelligence','artificial','arti cial','phys rev','phys',]]  # Adjust topn as needed\n",
    "    return topic_words\n",
    "\n",
    "#extract 3 unigram topics and 2 bigram topics\n",
    "df['unigram_topics'] = df['unigrams'].apply(lambda x: get_topic_words(lda_model_unigrams, dictionary_unigrams, lda_model_unigrams[dictionary_unigrams.doc2bow(x)][0][0]))\n",
    "df['bigram_topics'] = df['bigrams'].apply(lambda x: get_topic_words(lda_model_bigrams, dictionary_bigrams, lda_model_bigrams[dictionary_bigrams.doc2bow(x)][0][0]))\n",
    "\n",
    "#combine the topics into a single column\n",
    "df['topics'] = df.apply(lambda row: row['unigram_topics'][:3] + row['bigram_topics'][:2], axis=1)\n",
    "\n",
    "df.to_csv('topics_qf_lda.csv', index=False)\n"
   ]
  },
  {
   "cell_type": "code",
   "execution_count": 20,
   "metadata": {},
   "outputs": [
    {
     "data": {
      "text/html": [
       "<div>\n",
       "<style scoped>\n",
       "    .dataframe tbody tr th:only-of-type {\n",
       "        vertical-align: middle;\n",
       "    }\n",
       "\n",
       "    .dataframe tbody tr th {\n",
       "        vertical-align: top;\n",
       "    }\n",
       "\n",
       "    .dataframe thead th {\n",
       "        text-align: right;\n",
       "    }\n",
       "</style>\n",
       "<table border=\"1\" class=\"dataframe\">\n",
       "  <thead>\n",
       "    <tr style=\"text-align: right;\">\n",
       "      <th></th>\n",
       "      <th>file_name</th>\n",
       "      <th>published</th>\n",
       "      <th>pdata_clean</th>\n",
       "      <th>unigrams</th>\n",
       "      <th>bigrams</th>\n",
       "      <th>unigram_topics</th>\n",
       "      <th>bigram_topics</th>\n",
       "      <th>topics</th>\n",
       "    </tr>\n",
       "  </thead>\n",
       "  <tbody>\n",
       "    <tr>\n",
       "      <th>0</th>\n",
       "      <td>paper_qf_1.pdf</td>\n",
       "      <td>2004-06-18</td>\n",
       "      <td>juquantum game tory nance edward ptrow instit...</td>\n",
       "      <td>[juquantum, game, tory, nance, edward, ptrow, ...</td>\n",
       "      <td>[juquantum game, game tory, tory nance, nance ...</td>\n",
       "      <td>[b, tx, max, v, te, ts, loss, wins, ola, struuri]</td>\n",
       "      <td>[alth care, consumer disetnary, ola v, articia...</td>\n",
       "      <td>[b, tx, max, alth care, consumer disetnary]</td>\n",
       "    </tr>\n",
       "    <tr>\n",
       "      <th>1</th>\n",
       "      <td>paper_qf_1.pdf</td>\n",
       "      <td>2004-06-18</td>\n",
       "      <td>quantum full nature  fascinati it it trefore a...</td>\n",
       "      <td>[quantum, full, nature, fascinati, trefore, ae...</td>\n",
       "      <td>[quantum full, full nature, nature fascinati, ...</td>\n",
       "      <td>[eq, ry, nance, journal, st, ki, ty, note, tre...</td>\n",
       "      <td>[ft ft, eq eq, st st, articial intellence, eco...</td>\n",
       "      <td>[eq, ry, nance, ft ft, eq eq]</td>\n",
       "    </tr>\n",
       "    <tr>\n",
       "      <th>2</th>\n",
       "      <td>paper_qf_1.pdf</td>\n",
       "      <td>2004-06-18</td>\n",
       "      <td>som    rec e quantum besis nature trefore quan...</td>\n",
       "      <td>[som, rec, e, quantum, besis, nature, trefore,...</td>\n",
       "      <td>[som rec, rec e, e quantum, quantum besis, bes...</td>\n",
       "      <td>[schools, si, intellence, wi, st, zi, articial...</td>\n",
       "      <td>[articial intellence, xt xt, reinforcement lea...</td>\n",
       "      <td>[schools, si, intellence, articial intellence,...</td>\n",
       "    </tr>\n",
       "    <tr>\n",
       "      <th>3</th>\n",
       "      <td>paper_qf_1.pdf</td>\n",
       "      <td>2004-06-18</td>\n",
       "      <td>rmit iaany   t but tre  ref ihi ller quantum  ...</td>\n",
       "      <td>[rmit, iaany, tre, ref, ihi, ller, quantum, eh...</td>\n",
       "      <td>[rmit iaany, iaany tre, tre ref, ref ihi, ihi ...</td>\n",
       "      <td>[intellence, articial, lib, du, time, e, one, ...</td>\n",
       "      <td>[ft ft, eq eq, st st, articial intellence, eco...</td>\n",
       "      <td>[intellence, articial, lib, ft ft, eq eq]</td>\n",
       "    </tr>\n",
       "    <tr>\n",
       "      <th>4</th>\n",
       "      <td>paper_qf_1.pdf</td>\n",
       "      <td>2004-06-18</td>\n",
       "      <td>marwitz cac limortocho nobel prize  rmit iaand...</td>\n",
       "      <td>[marwitz, cac, limortocho, nobel, prize, rmit,...</td>\n",
       "      <td>[marwitz cac, cac limortocho, limortocho nobel...</td>\n",
       "      <td>[racer, ya, share, time, us, ep, learni, price...</td>\n",
       "      <td>[articial intellence, new york, du du, stable ...</td>\n",
       "      <td>[racer, ya, share, articial intellence, new york]</td>\n",
       "    </tr>\n",
       "    <tr>\n",
       "      <th>...</th>\n",
       "      <td>...</td>\n",
       "      <td>...</td>\n",
       "      <td>...</td>\n",
       "      <td>...</td>\n",
       "      <td>...</td>\n",
       "      <td>...</td>\n",
       "      <td>...</td>\n",
       "      <td>...</td>\n",
       "    </tr>\n",
       "    <tr>\n",
       "      <th>1132</th>\n",
       "      <td>paper_qf_52.pdf</td>\n",
       "      <td>2015-08-20</td>\n",
       "      <td>llel genetic algorithm t equatgra mars li w ra...</td>\n",
       "      <td>[llel, genetic, algorithm, equatgra, mars, li,...</td>\n",
       "      <td>[llel genetic, genetic algorithm, algorithm eq...</td>\n",
       "      <td>[psics, journal, chara, nancial, nance, statis...</td>\n",
       "      <td>[ry ry, articial intellence, eq eq, b b, u sha...</td>\n",
       "      <td>[psics, journal, chara, ry ry, articial intell...</td>\n",
       "    </tr>\n",
       "    <tr>\n",
       "      <th>1133</th>\n",
       "      <td>paper_qf_52.pdf</td>\n",
       "      <td>2015-08-20</td>\n",
       "      <td>for india before t india before ms graphics pr...</td>\n",
       "      <td>[india, india, ms, graphics, processi, unit, f...</td>\n",
       "      <td>[india india, india ms, ms graphics, graphics ...</td>\n",
       "      <td>[eq, ry, nance, journal, st, ki, ty, note, tre...</td>\n",
       "      <td>[alth care, consumer disetnary, ola v, articia...</td>\n",
       "      <td>[eq, ry, nance, alth care, consumer disetnary]</td>\n",
       "    </tr>\n",
       "    <tr>\n",
       "      <th>1134</th>\n",
       "      <td>paper_qf_52.pdf</td>\n",
       "      <td>2015-08-20</td>\n",
       "      <td>vs vs euiato  new feature veor te ute calculat...</td>\n",
       "      <td>[vs, vs, euiato, new, feature, veor, te, ute, ...</td>\n",
       "      <td>[vs vs, vs euiato, euiato new, new feature, fe...</td>\n",
       "      <td>[ft, usteri, hts, uster, subse, mtns, tables, ...</td>\n",
       "      <td>[alth care, consumer disetnary, ola v, articia...</td>\n",
       "      <td>[ft, usteri, hts, alth care, consumer disetnary]</td>\n",
       "    </tr>\n",
       "    <tr>\n",
       "      <th>1135</th>\n",
       "      <td>paper_qf_52.pdf</td>\n",
       "      <td>2015-08-20</td>\n",
       "      <td>level additnal scale t isemany ga articial int...</td>\n",
       "      <td>[level, additnal, scale, isemany, ga, articial...</td>\n",
       "      <td>[level additnal, additnal scale, scale isemany...</td>\n",
       "      <td>[ti, st, data, pt, intellence, tradi, articial...</td>\n",
       "      <td>[articial intellence, xt xt, reinforcement lea...</td>\n",
       "      <td>[ti, st, data, articial intellence, xt xt]</td>\n",
       "    </tr>\n",
       "    <tr>\n",
       "      <th>1136</th>\n",
       "      <td>paper_qf_52.pdf</td>\n",
       "      <td>2015-08-20</td>\n",
       "      <td>t tall share t table  feature timnov nov nov n...</td>\n",
       "      <td>[tall, share, table, feature, timnov, nov, nov...</td>\n",
       "      <td>[tall share, share table, table feature, featu...</td>\n",
       "      <td>[intellence, articial, lib, du, time, e, one, ...</td>\n",
       "      <td>[articial intellence, new york, du du, stable ...</td>\n",
       "      <td>[intellence, articial, lib, articial intellenc...</td>\n",
       "    </tr>\n",
       "  </tbody>\n",
       "</table>\n",
       "<p>1137 rows × 8 columns</p>\n",
       "</div>"
      ],
      "text/plain": [
       "            file_name   published  \\\n",
       "0      paper_qf_1.pdf  2004-06-18   \n",
       "1      paper_qf_1.pdf  2004-06-18   \n",
       "2      paper_qf_1.pdf  2004-06-18   \n",
       "3      paper_qf_1.pdf  2004-06-18   \n",
       "4      paper_qf_1.pdf  2004-06-18   \n",
       "...               ...         ...   \n",
       "1132  paper_qf_52.pdf  2015-08-20   \n",
       "1133  paper_qf_52.pdf  2015-08-20   \n",
       "1134  paper_qf_52.pdf  2015-08-20   \n",
       "1135  paper_qf_52.pdf  2015-08-20   \n",
       "1136  paper_qf_52.pdf  2015-08-20   \n",
       "\n",
       "                                            pdata_clean  \\\n",
       "0      juquantum game tory nance edward ptrow instit...   \n",
       "1     quantum full nature  fascinati it it trefore a...   \n",
       "2     som    rec e quantum besis nature trefore quan...   \n",
       "3     rmit iaany   t but tre  ref ihi ller quantum  ...   \n",
       "4     marwitz cac limortocho nobel prize  rmit iaand...   \n",
       "...                                                 ...   \n",
       "1132  llel genetic algorithm t equatgra mars li w ra...   \n",
       "1133  for india before t india before ms graphics pr...   \n",
       "1134  vs vs euiato  new feature veor te ute calculat...   \n",
       "1135  level additnal scale t isemany ga articial int...   \n",
       "1136  t tall share t table  feature timnov nov nov n...   \n",
       "\n",
       "                                               unigrams  \\\n",
       "0     [juquantum, game, tory, nance, edward, ptrow, ...   \n",
       "1     [quantum, full, nature, fascinati, trefore, ae...   \n",
       "2     [som, rec, e, quantum, besis, nature, trefore,...   \n",
       "3     [rmit, iaany, tre, ref, ihi, ller, quantum, eh...   \n",
       "4     [marwitz, cac, limortocho, nobel, prize, rmit,...   \n",
       "...                                                 ...   \n",
       "1132  [llel, genetic, algorithm, equatgra, mars, li,...   \n",
       "1133  [india, india, ms, graphics, processi, unit, f...   \n",
       "1134  [vs, vs, euiato, new, feature, veor, te, ute, ...   \n",
       "1135  [level, additnal, scale, isemany, ga, articial...   \n",
       "1136  [tall, share, table, feature, timnov, nov, nov...   \n",
       "\n",
       "                                                bigrams  \\\n",
       "0     [juquantum game, game tory, tory nance, nance ...   \n",
       "1     [quantum full, full nature, nature fascinati, ...   \n",
       "2     [som rec, rec e, e quantum, quantum besis, bes...   \n",
       "3     [rmit iaany, iaany tre, tre ref, ref ihi, ihi ...   \n",
       "4     [marwitz cac, cac limortocho, limortocho nobel...   \n",
       "...                                                 ...   \n",
       "1132  [llel genetic, genetic algorithm, algorithm eq...   \n",
       "1133  [india india, india ms, ms graphics, graphics ...   \n",
       "1134  [vs vs, vs euiato, euiato new, new feature, fe...   \n",
       "1135  [level additnal, additnal scale, scale isemany...   \n",
       "1136  [tall share, share table, table feature, featu...   \n",
       "\n",
       "                                         unigram_topics  \\\n",
       "0     [b, tx, max, v, te, ts, loss, wins, ola, struuri]   \n",
       "1     [eq, ry, nance, journal, st, ki, ty, note, tre...   \n",
       "2     [schools, si, intellence, wi, st, zi, articial...   \n",
       "3     [intellence, articial, lib, du, time, e, one, ...   \n",
       "4     [racer, ya, share, time, us, ep, learni, price...   \n",
       "...                                                 ...   \n",
       "1132  [psics, journal, chara, nancial, nance, statis...   \n",
       "1133  [eq, ry, nance, journal, st, ki, ty, note, tre...   \n",
       "1134  [ft, usteri, hts, uster, subse, mtns, tables, ...   \n",
       "1135  [ti, st, data, pt, intellence, tradi, articial...   \n",
       "1136  [intellence, articial, lib, du, time, e, one, ...   \n",
       "\n",
       "                                          bigram_topics  \\\n",
       "0     [alth care, consumer disetnary, ola v, articia...   \n",
       "1     [ft ft, eq eq, st st, articial intellence, eco...   \n",
       "2     [articial intellence, xt xt, reinforcement lea...   \n",
       "3     [ft ft, eq eq, st st, articial intellence, eco...   \n",
       "4     [articial intellence, new york, du du, stable ...   \n",
       "...                                                 ...   \n",
       "1132  [ry ry, articial intellence, eq eq, b b, u sha...   \n",
       "1133  [alth care, consumer disetnary, ola v, articia...   \n",
       "1134  [alth care, consumer disetnary, ola v, articia...   \n",
       "1135  [articial intellence, xt xt, reinforcement lea...   \n",
       "1136  [articial intellence, new york, du du, stable ...   \n",
       "\n",
       "                                                 topics  \n",
       "0           [b, tx, max, alth care, consumer disetnary]  \n",
       "1                         [eq, ry, nance, ft ft, eq eq]  \n",
       "2     [schools, si, intellence, articial intellence,...  \n",
       "3             [intellence, articial, lib, ft ft, eq eq]  \n",
       "4     [racer, ya, share, articial intellence, new york]  \n",
       "...                                                 ...  \n",
       "1132  [psics, journal, chara, ry ry, articial intell...  \n",
       "1133     [eq, ry, nance, alth care, consumer disetnary]  \n",
       "1134   [ft, usteri, hts, alth care, consumer disetnary]  \n",
       "1135         [ti, st, data, articial intellence, xt xt]  \n",
       "1136  [intellence, articial, lib, articial intellenc...  \n",
       "\n",
       "[1137 rows x 8 columns]"
      ]
     },
     "execution_count": 20,
     "metadata": {},
     "output_type": "execute_result"
    }
   ],
   "source": [
    "df.drop([\"page_number\",\"title\",\"summary\", \"page_data\"], axis=1)\n"
   ]
  },
  {
   "cell_type": "code",
   "execution_count": 21,
   "metadata": {},
   "outputs": [
    {
     "name": "stderr",
     "output_type": "stream",
     "text": [
      "c:\\ProgramData\\Anaconda3\\envs\\test_env\\Lib\\site-packages\\joblib\\_utils.py:38: DeprecationWarning: ast.Num is deprecated and will be removed in Python 3.14; use ast.Constant instead\n",
      "  if isinstance(node, ast.Num):  # <number>\n",
      "c:\\ProgramData\\Anaconda3\\envs\\test_env\\Lib\\site-packages\\joblib\\_utils.py:38: DeprecationWarning: ast.Num is deprecated and will be removed in Python 3.14; use ast.Constant instead\n",
      "  if isinstance(node, ast.Num):  # <number>\n",
      "c:\\ProgramData\\Anaconda3\\envs\\test_env\\Lib\\site-packages\\joblib\\_utils.py:39: DeprecationWarning: Attribute n is deprecated and will be removed in Python 3.14; use value instead\n",
      "  return node.n\n",
      "c:\\ProgramData\\Anaconda3\\envs\\test_env\\Lib\\site-packages\\joblib\\_utils.py:38: DeprecationWarning: ast.Num is deprecated and will be removed in Python 3.14; use ast.Constant instead\n",
      "  if isinstance(node, ast.Num):  # <number>\n",
      "c:\\ProgramData\\Anaconda3\\envs\\test_env\\Lib\\site-packages\\joblib\\_utils.py:39: DeprecationWarning: Attribute n is deprecated and will be removed in Python 3.14; use value instead\n",
      "  return node.n\n"
     ]
    },
    {
     "data": {
      "text/html": [
       "\n",
       "<link rel=\"stylesheet\" type=\"text/css\" href=\"https://cdn.jsdelivr.net/gh/bmabey/pyLDAvis@3.4.0/pyLDAvis/js/ldavis.v1.0.0.css\">\n",
       "\n",
       "\n",
       "<div id=\"ldavis_el1890827931184110884615558689\" style=\"background-color:white;\"></div>\n",
       "<script type=\"text/javascript\">\n",
       "\n",
       "var ldavis_el1890827931184110884615558689_data = {\"mdsDat\": {\"x\": [0.19105555094961343, 0.07957990760569442, 0.00014308753583438006, -0.11120181499444363, 0.04385294170239558, -0.06695515849110653, -0.08197042655167872, -0.04780892130446136, -0.030336875531995194, 0.023641709080148024], \"y\": [-0.03797001514760349, -0.04447557979498452, -0.03973595804591145, -0.13951728121462192, 0.12419207713813711, -0.0046206888122921844, 0.1484359579512016, -0.05485046839436957, 0.03840984554101281, 0.010132110779431599], \"topics\": [1, 2, 3, 4, 5, 6, 7, 8, 9, 10], \"cluster\": [1, 1, 1, 1, 1, 1, 1, 1, 1, 1], \"Freq\": [15.263545853990276, 15.170625026604915, 13.264250967422015, 12.86403227257795, 8.405024085706394, 8.169162403582517, 8.144961213888795, 6.849179962897402, 6.7474809076696785, 5.121737305660059]}, \"tinfo\": {\"Term\": [\"ti\", \"eq\", \"ft\", \"cancer\", \"st\", \"usteri\", \"psics\", \"xt\", \"hts\", \"uster\", \"subse\", \"mtns\", \"tables\", \"racer\", \"schools\", \"ry\", \"chara\", \"snature\", \"b\", \"si\", \"sha\", \"pt\", \"journal\", \"u\", \"yu\", \"table\", \"gt\", \"ya\", \"data\", \"tx\", \"consumer\", \"psical\", \"disetnary\", \"industrial\", \"rca\", \"patria\", \"bart\", \"corse\", \"informattechnology\", \"limo\", \"terjee\", \"apsical\", \"alth\", \"cz\", \"chara\", \"connsed\", \"meics\", \"stanley\", \"social\", \"psics\", \"matcs\", \"visa\", \"staplenergy\", \"stat\", \"kept\", \"ld\", \"care\", \"beeat\", \"ptrow\", \"party\", \"ters\", \"review\", \"bor\", \"economic\", \"cambridge\", \"meyer\", \"eco\", \"rey\", \"applicatns\", \"statistical\", \"ys\", \"nancial\", \"ph\", \"economics\", \"corvee\", \"journal\", \"nance\", \"rev\", \"new\", \"quantum\", \"intellence\", \"articial\", \"b\", \"mc\", \"le\", \"carr\", \"ry\", \"page\", \"multiplayer\", \"eq\", \"vno\", \"accordy\", \"euros\", \"hul\", \"kiit\", \"behral\", \"poly\", \"greefunrel\", \"rak\", \"seeq\", \"harrisoreps\", \"lz\", \"brid\", \"optfor\", \"telecom\", \"jim\", \"dic\", \"volterra\", \"laura\", \"lak\", \"mot\", \"aat\", \"leymaka\", \"ieq\", \"studivno\", \"applyi\", \"peter\", \"ki\", \"ui\", \"ref\", \"kara\", \"place\", \"ty\", \"harrisopli\", \"call\", \"mult\", \"vessel\", \"cox\", \"accordi\", \"nance\", \"lea\", \"journal\", \"w\", \"ot\", \"since\", \"trefore\", \"pt\", \"note\", \"st\", \"market\", \"ined\", \"usi\", \"nancial\", \"b\", \"quantitative\", \"one\", \"intellence\", \"articial\", \"economics\", \"tse\", \"sha\", \"tre\", \"snature\", \"terry\", \"ppeso\", \"xs\", \"guet\", \"id\", \"vec\", \"arriva\", \"tvec\", \"doc\", \"maez\", \"topic\", \"ixt\", \"schiz\", \"tat\", \"txt\", \"tk\", \"lns\", \"cars\", \"ijournal\", \"iu\", \"pos\", \"uiv\", \"word\", \"exa\", \"less\", \"xt\", \"sal\", \"consistent\", \"notmatmatics\", \"fs\", \"sot\", \"lov\", \"rd\", \"da\", \"tis\", \"brownish\", \"stochastic\", \"st\", \"ws\", \"ner\", \"et\", \"suppose\", \"probabity\", \"gt\", \"pi\", \"te\", \"note\", \"sha\", \"ep\", \"journal\", \"yu\", \"intellence\", \"nance\", \"e\", \"articial\", \"table\", \"ft\", \"share\", \"u\", \"one\", \"ops\", \"racer\", \"near\", \"scalable\", \"rawa\", \"rule\", \"ray\", \"vaor\", \"wima\", \"dollars\", \"jaguo\", \"convolutnal\", \"cumulative\", \"antoog\", \"elegant\", \"wiada\", \"fk\", \"guez\", \"hari\", \"tico\", \"borvy\", \"reinforcement\", \"dawa\", \"numbers\", \"lomercer\", \"placement\", \"mall\", \"als\", \"washitoze\", \"maw\", \"christina\", \"tensor\", \"baseline\", \"short\", \"valid\", \"lli\", \"stable\", \"hao\", \"ya\", \"us\", \"wal\", \"learni\", \"initial\", \"conference\", \"ep\", \"price\", \"net\", \"share\", \"jia\", \"time\", \"networks\", \"neural\", \"c\", \"co\", \"lo\", \"nal\", \"er\", \"le\", \"table\", \"l\", \"quantitative\", \"intellence\", \"articial\", \"li\", \"nance\", \"data\", \"lima\", \"tic\", \"paneatic\", \"ovariacancer\", \"dull\", \"chronic\", \"oma\", \"lymph\", \"oblast\", \"leukemia\", \"lymphoma\", \"bone\", \"gastric\", \"content\", \"esophageal\", \"prostate\", \"city\", \"author\", \"renal\", \"cy\", \"gate\", \"lity\", \"cancer\", \"licancer\", \"cs\", \"optimum\", \"reive\", \"simulati\", \"homogeneous\", \"subset\", \"carcinoma\", \"bridge\", \"br\", \"cell\", \"breast\", \"aregated\", \"gra\", \"lor\", \"var\", \"winner\", \"quantum\", \"intellence\", \"articial\", \"lu\", \"table\", \"zi\", \"e\", \"si\", \"nance\", \"society\", \"ix\", \"inpennt\", \"mor\", \"researcr\", \"aliecy\", \"simulatterministic\", \"varyi\", \"esscac\", \"gr\", \"lta\", \"wood\", \"iris\", \"baths\", \"rus\", \"shoulrs\", \"load\", \"sibed\", \"lter\", \"uconst\", \"start\", \"birth\", \"olib\", \"murr\", \"parker\", \"none\", \"proje\", \"pediatric\", \"bauer\", \"chdreresearhospital\", \"map\", \"petersburg\", \"wadll\", \"mono\", \"lib\", \"iya\", \"gone\", \"du\", \"whole\", \"sud\", \"ley\", \"ii\", \"tr\", \"unit\", \"time\", \"gut\", \"intellence\", \"articial\", \"tra\", \"ser\", \"uary\", \"wo\", \"wi\", \"e\", \"rd\", \"c\", \"consequently\", \"one\", \"li\", \"nature\", \"data\", \"su\", \"lo\", \"trefore\", \"rst\", \"table\", \"st\", \"al\", \"usi\", \"ys\", \"le\", \"si\", \"hts\", \"subse\", \"tables\", \"mtns\", \"usteri\", \"tg\", \"uster\", \"ift\", \"tj\", \"aributinternatnal\", \"cape\", \"subsecancer\", \"dor\", \"seonent\", \"leonard\", \"tsihua\", \"ft\", \"tft\", \"measurement\", \"license\", \"qt\", \"measurable\", \"giveft\", \"gariroberts\", \"arbar\", \"subsetabls\", \"adays\", \"isecond\", \"sainic\", \"rdf\", \"vs\", \"yi\", \"faor\", \"step\", \"u\", \"yu\", \"rank\", \"gt\", \"jack\", \"sha\", \"table\", \"mt\", \"wi\", \"note\", \"ws\", \"intellence\", \"via\", \"articial\", \"lmogorov\", \"li\", \"b\", \"also\", \"cancer\", \"brownish\", \"tse\", \"furtr\", \"tbisi\", \"eator\", \"tti\", \"nim\", \"executor\", \"nb\", \"pc\", \"ti\", \"bands\", \"duke\", \"wlie\", \"mj\", \"enhancement\", \"tfgentor\", \"mmanager\", \"module\", \"datasets\", \"live\", \"testi\", \"vissue\", \"refer\", \"automate\", \"scho\", \"tow\", \"peaki\", \"ibarrier\", \"player\", \"sepropositutity\", \"monstrate\", \"eveti\", \"alpha\", \"medical\", \"mou\", \"tradi\", \"ret\", \"pt\", \"data\", \"st\", \"strategy\", \"na\", \"nt\", \"xi\", \"ni\", \"bollier\", \"lib\", \"day\", \"dow\", \"intellence\", \"articial\", \"em\", \"framework\", \"hh\", \"xt\", \"ft\", \"mols\", \"vt\", \"new\", \"note\", \"time\", \"stock\", \"inx\", \"quant\", \"usi\", \"nance\", \"york\", \"sha\", \"vp\", \"middle\", \"contas\", \"aendance\", \"oku\", \"transformattems\", \"mortot\", \"calls\", \"toi\", \"naka\", \"jima\", \"nie\", \"moto\", \"ineasi\", \"withdrawal\", \"optt\", \"bob\", \"imax\", \"dference\", \"logistics\", \"plots\", \"morto\", \"ump\", \"hay\", \"ockham\", \"pierce\", \"swamp\", \"samantha\", \"tvp\", \"ozi\", \"pq\", \"schools\", \"si\", \"modi\", \"ms\", \"combine\", \"vc\", \"sy\", \"zi\", \"algebra\", \"nberg\", \"wi\", \"hare\", \"good\", \"ho\", \"consir\", \"dt\", \"lor\", \"reproduced\", \"et\", \"stand\", \"ni\", \"chal\", \"shi\", \"intellence\", \"st\", \"trefore\", \"articial\", \"tre\", \"note\", \"ined\", \"tse\", \"unr\", \"lia\", \"mi\", \"li\", \"rst\", \"one\", \"quantitative\", \"wins\", \"ola\", \"tx\", \"dowalma\", \"lossg\", \"wimax\", \"losstotal\", \"bonacci\", \"probabititable\", \"iterflat\", \"optiatno\", \"waters\", \"probabitikelly\", \"aqu\", \"mag\", \"tokens\", \"zia\", \"piogram\", \"lc\", \"struuri\", \"equati\", \"zam\", \"xj\", \"ts\", \"draw\", \"mfor\", \"rivi\", \"seconds\", \"genlizat\", \"halle\", \"walk\", \"loss\", \"rec\", \"suary\", \"max\", \"maximum\", \"cat\", \"b\", \"v\", \"te\", \"kelly\", \"number\", \"mars\", \"w\", \"total\", \"rat\", \"r\", \"li\", \"formance\", \"intellence\", \"articial\", \"nance\", \"market\", \"quantitative\"], \"Freq\": [174.0, 248.0, 156.0, 147.0, 295.0, 91.0, 142.0, 127.0, 58.0, 60.0, 54.0, 54.0, 52.0, 69.0, 95.0, 77.0, 72.0, 51.0, 116.0, 67.0, 99.0, 60.0, 223.0, 71.0, 74.0, 151.0, 61.0, 81.0, 67.0, 23.0, 23.292857477928102, 27.328474007406747, 13.482849423239422, 13.471556544418483, 22.54343176327315, 20.024532989020447, 40.03802100454671, 13.316170013066081, 10.800461041927326, 12.461550683854648, 19.8587990475667, 10.572204190284944, 24.13468594719522, 7.226363793501346, 65.61786577948352, 7.13181296560575, 20.292407881033654, 18.711233422205847, 5.438673318661769, 124.03345941610307, 4.554735887948074, 4.549863823022377, 4.548593967545431, 4.532373311032542, 4.4432058527990765, 3.6584915401353792, 15.363918120592588, 3.6549813062001455, 10.882480783013557, 19.542498223533386, 26.136154877339692, 41.30843558712326, 28.736800433090124, 42.50390891687967, 24.11277533597514, 10.577145813753122, 25.130033745991938, 21.33322784625509, 19.56943023626562, 44.89833416283921, 44.41745584932856, 64.13081358881091, 35.68720340126089, 40.296599446806574, 29.025689257481954, 94.43144301972806, 47.24421479869669, 17.923772700928847, 23.325203848488314, 22.330591853799735, 32.711057756905994, 31.901586207361934, 22.50795492863997, 20.38204148040014, 20.484935377457354, 22.88869141107188, 71.76498273647837, 27.210993438005776, 30.616410873535635, 223.4389382200465, 22.684290086986653, 7.399972624759668, 5.182069568850475, 5.178984374651417, 5.912905744269521, 4.3527352265512365, 4.344900681256667, 5.035483525862541, 4.216501753222758, 3.4995037353868685, 3.4989447569136747, 3.4985807328317766, 3.4984214927743484, 3.4965489476545932, 7.748387249176604, 3.496043704509421, 3.49562660040838, 9.753008562736227, 3.4915708937605534, 3.487644938270631, 3.4755538341570347, 7.616762563189241, 15.904801260811748, 11.718294960875623, 3.381173300613668, 6.693105354527926, 7.2703033804651644, 44.99692043302515, 27.91380958875184, 10.415479311771715, 13.29249760760504, 14.051957347173987, 36.325975583485025, 5.206395289722017, 13.72976687344904, 6.061012759163999, 8.528007566386588, 10.220001328682363, 10.633037272206662, 70.88963162178128, 14.794616277720962, 67.45305031723477, 30.322282036597446, 16.09439653610056, 28.62337017847341, 34.110035505320795, 22.02864569053646, 35.31119833060435, 53.25287389734811, 21.056186974398933, 20.390920022379717, 19.434336819127996, 25.76965204511708, 25.460802349536657, 21.893210383421756, 22.55372896730878, 28.080457257740186, 26.906088701872743, 17.34383203459554, 17.01480931050539, 16.698145711860064, 16.478174248826324, 49.20907220800115, 14.533021925400142, 16.085481263290024, 18.462219952798968, 16.06080152715798, 17.632238490069113, 16.715056897297757, 9.402955974893677, 8.557581906155852, 6.867216506845598, 6.01802995344829, 11.89301323646435, 5.09412752432951, 5.086830288888695, 4.330943325322872, 4.30649735741161, 7.1398189003412265, 15.379553948976683, 3.4878046651962555, 3.4866742125011605, 3.4818782397265573, 3.4825348534055127, 3.4823383276708864, 6.967506511328126, 7.649260587321113, 3.448638461392428, 102.2929214307881, 5.9747822596426845, 2.63648698214897, 2.636327125939172, 28.663579772893474, 15.404091590700016, 13.204072508719463, 31.888834078087637, 17.465624774398847, 27.144313230509038, 50.76802205178563, 34.6032658595076, 115.88925701397623, 22.618333583525413, 18.41904044139109, 26.843419152685787, 17.465307353824553, 17.709785367699588, 23.732218528933892, 18.82959587913578, 18.983864570088095, 34.9908971146214, 28.250852811725363, 24.33920000603419, 33.43519710747483, 22.050739759781226, 29.124545493973105, 25.385262373427576, 21.59104142915347, 23.661657195783192, 21.32004218144643, 21.26034877871669, 18.684135895600793, 18.039803069695, 18.008191647447774, 19.53853440403301, 66.24715216419722, 10.273243077413536, 9.416770149964977, 8.57484808922463, 7.733772319250212, 7.7317780069987885, 7.645388556705033, 6.880022192033466, 6.038287393268245, 6.030910271660584, 5.995346610918498, 11.841538225138315, 5.180020196034274, 10.255899395610408, 4.3375338488377215, 4.335872107186041, 4.33037538475888, 4.32956965815967, 4.318806817814778, 4.3153221891915745, 22.269747532888143, 7.650411289622452, 3.486823811430821, 3.486465124175793, 3.485649395453283, 3.483736767208814, 3.483201653612235, 3.482505672532573, 3.482551793434459, 6.887792174817431, 7.551515851161927, 15.912492427565832, 15.99900412603326, 12.725053559950421, 29.66072763805593, 17.346627984113496, 22.22880106278982, 56.03260154631123, 41.00851882589256, 9.118395698439679, 35.332949543341954, 14.173133187726068, 29.48860665491219, 39.20288662841048, 30.322788183564953, 17.014800875536043, 44.048564181857216, 10.306180069442199, 43.09940268912963, 13.669544061096655, 18.19460466349177, 26.11400361070903, 17.576991331236258, 21.085700621958924, 15.478481404656042, 20.39599420764722, 22.786343865196383, 24.355839267717226, 15.520139136855738, 19.164841741360615, 25.46135172918471, 24.25107036018522, 19.25670568714086, 19.312197467212233, 16.52105828362249, 13.351924198151522, 12.58006322866569, 12.57766120635584, 11.800171313972195, 11.019505349767725, 11.019521324523112, 11.019457425501567, 11.018899035188303, 11.01861512021758, 11.017267431763202, 11.017215150745576, 10.235414978908704, 10.234413652196103, 9.460642973316405, 13.705284335038224, 13.366536742578198, 3.988445133031796, 7.896931532480203, 14.737481536297397, 11.019050069239226, 3.207784977829285, 3.2077817102656834, 119.64608475112803, 13.94517433216804, 2.423993225977194, 2.4236435966718153, 2.422358354988491, 2.4199350935152295, 2.4163420442725694, 6.085733735265546, 14.56128143664087, 8.992749649314408, 13.377674051583183, 28.770360180035276, 13.729284226629877, 7.115703547336246, 11.729255744187743, 13.935097166020485, 14.118292756285568, 17.44532165875589, 20.34917783880194, 41.07305373093473, 38.48652009187518, 17.143085095855696, 23.22733063743199, 13.83037828771412, 15.651112650831568, 13.893330441938677, 13.144686601030587, 11.451139609669841, 6.330950715687319, 3.995981404750677, 4.653270601309567, 3.214679806226936, 3.2134408643364054, 3.2125304484783683, 3.209639348817555, 3.206667440927481, 3.203657422606141, 7.057736400907172, 3.1849727250545627, 3.1844067145753803, 3.1781382543807393, 3.0429986651091094, 2.4305065161323784, 2.4295318771401697, 2.4293314445016563, 2.4292414615389433, 2.4290720818444247, 2.4285223035859667, 2.428109087706214, 2.427909007942064, 2.424786775573105, 3.027944339010046, 4.768152026242413, 3.025403290717904, 3.022206248983866, 2.413415399206729, 3.0135978788843243, 4.778763664104001, 10.268308749542033, 4.5570964578875675, 3.99763356252096, 24.977302821672666, 3.9822189516966806, 5.759597012891145, 24.109590407618466, 6.256725004805652, 5.563990989922573, 5.89180598057324, 10.711922638470856, 11.593227067261443, 4.780160693709416, 24.078514879664127, 7.135101987875976, 38.186169397078984, 33.79679906444223, 5.5546447595287844, 4.743246859409641, 6.735830997223384, 4.28220097691995, 11.761240432244215, 13.577809426006638, 9.655468313568448, 10.936948502879847, 7.9173334103477515, 11.804820416146386, 11.801799811594138, 8.442639125942874, 9.15747789670935, 7.828722423160369, 8.19102558973556, 9.588224574844581, 7.834266079412216, 10.177519116033906, 11.35428454370157, 7.306579873360381, 7.291084454306842, 7.272450570663619, 7.2230502770085545, 7.110973850391808, 57.859400181027596, 53.26245913481337, 51.72452744772843, 53.26243661775921, 88.47769075339541, 8.55904119297836, 55.60677156556343, 3.9331516590065507, 3.1414179072451187, 2.391099526924374, 2.3902938385801242, 2.387309625245659, 2.3888733291085487, 2.387819601339541, 2.3862458703509697, 2.3847674850136173, 118.51572246926081, 6.292712357372236, 1.6196283092773636, 1.6196015702755455, 1.6195734239578425, 1.619572192556443, 1.6195718407274717, 1.6189309842562705, 1.618562619323332, 1.6186869908646824, 1.618581794002267, 1.6183427262162768, 1.618315987214459, 1.6170377925617696, 10.002031128503273, 16.273229847939188, 14.276295048332438, 3.1583672679369204, 34.930326146896526, 33.41864371570144, 12.265571367682966, 25.985457341818666, 4.143144298809535, 35.91483367677713, 44.26870017588532, 15.09610017822603, 17.92822910693051, 32.06843389453696, 11.21144673559565, 29.98167997319214, 5.061883031771383, 26.163142230846212, 5.471800021706001, 15.068715218416852, 14.44858710288808, 9.204680427215228, 13.313160424799635, 10.44754441460796, 9.151938449787378, 7.60603572552894, 4.552176340528372, 4.5519082945145515, 4.551026346206386, 4.551087884364084, 4.550929896978455, 3.8047507409470938, 3.780248790917773, 144.90383366028385, 3.060452049003859, 3.059697614859, 3.059584597665535, 2.3139955274780646, 2.313029555916118, 2.31302363878557, 2.3125045585082544, 2.311976454606853, 2.3079140486291845, 2.3076751444833126, 5.72758237136609, 4.5467742961946565, 2.281538735068395, 3.7833461129030774, 1.5674144503542367, 1.5674140065694455, 1.5674138586411817, 1.5674036515909866, 1.5673734742251924, 1.5673753972926203, 1.56707894905217, 1.5672964035998056, 7.416099478222636, 3.059955601750889, 2.9289796212163344, 19.46479975195475, 5.289457907354838, 25.056385161659854, 25.683458988605356, 81.8418681010764, 8.004848050609311, 6.688214906419308, 6.878267814200742, 10.595412774677255, 11.010907764621072, 6.48770583724666, 10.610779562710182, 5.300009334547875, 7.018886646532701, 20.080270085895794, 18.057894272412753, 6.014490422234072, 5.327401506993323, 6.960874506927919, 10.395896600010547, 10.347580862234627, 7.046810769014407, 6.881025788749123, 7.622496684003511, 8.40460939042623, 7.496535175751784, 6.311961734556187, 5.686458314058103, 6.248015896437959, 6.567301302238005, 7.365500911481332, 6.266816987040894, 6.424370647000977, 8.736060141225305, 5.277806127700597, 5.272989984088609, 3.7894350039537845, 3.773400428507772, 3.6784069214952124, 3.042641572014519, 3.042638365915528, 3.042111108363235, 3.0378158101055575, 3.0372232647192603, 3.0357866409076233, 3.030942516795348, 3.016608048205346, 2.9609446319094213, 2.9190595717602834, 2.3041821029395346, 2.304026169943141, 2.3040856285062516, 2.304054150443428, 2.3026788797079427, 2.2990112481936937, 2.290240964403054, 2.286112529024695, 6.756287018986407, 2.8213784794023993, 2.8180409303524794, 2.818027523029425, 2.143585544099228, 1.5607579895765573, 6.231115179819195, 47.71371080794664, 32.10930524164598, 9.494014003753207, 13.228929877287408, 6.017747543168413, 7.863515054405343, 9.270736023656841, 17.69486022084353, 5.029886070757272, 4.955805364537726, 18.308379323814382, 3.880588478765428, 4.512275670329216, 12.171690171486292, 10.482629783817933, 8.355177329842812, 8.153764361939869, 5.2686926455861185, 10.96943569367425, 4.708081754023504, 9.41562663219774, 7.487984679557015, 5.8060703950766674, 18.931495738383852, 17.786053334697247, 11.775296253183999, 15.717811699820128, 10.254355535638977, 12.75364843598701, 9.730165345690185, 9.649424114548033, 7.33792175895255, 7.597389601535367, 6.970319775446107, 8.49661584416074, 7.193345348112795, 7.575948377335882, 7.124220105079586, 11.185877773662629, 10.4904680864548, 21.603137295028457, 5.627546716956479, 5.62752061086323, 5.627453796963558, 5.627384770683103, 4.935291884746381, 4.9338472000945455, 4.933669767155683, 4.933581714400487, 4.933518882786227, 4.238468928693849, 2.8469809728053237, 2.8455880578638295, 2.8354327875899314, 2.8355630968180985, 4.933620652302283, 2.153553357541722, 9.685931389656503, 2.1466348003545552, 2.1363472297097847, 6.321744904447086, 13.160634702064788, 6.316500234560958, 1.4589817201748065, 1.4585073857347552, 1.4571489839334888, 1.4569498696629448, 1.4578133618828704, 5.627341850495897, 11.634069837420034, 4.072379751062322, 6.960419856358435, 18.877953194086395, 6.178098559962802, 6.312568391431951, 27.446872109989947, 16.50267569810431, 13.240969788134604, 8.384055032464358, 6.317936954641972, 6.324677636414119, 9.110958402606043, 7.01804795101542, 6.983326846994124, 7.451768389589691, 7.836872202915639, 6.323296225852701, 8.28433329606207, 7.595596149298248, 7.359473615478691, 6.168491517647135, 6.095284722462791], \"Total\": [174.0, 248.0, 156.0, 147.0, 295.0, 91.0, 142.0, 127.0, 58.0, 60.0, 54.0, 54.0, 52.0, 69.0, 95.0, 77.0, 72.0, 51.0, 116.0, 67.0, 99.0, 60.0, 223.0, 71.0, 74.0, 151.0, 61.0, 81.0, 67.0, 23.0, 24.022012251969134, 28.444133271958552, 14.196943704247406, 14.19469291393524, 23.90151628470203, 21.24769499232252, 42.5386933969638, 14.176453668775352, 11.51633318935595, 13.287798280242647, 21.23293131623401, 11.500266285112236, 26.43402897523088, 7.942716890619551, 72.2123862049691, 7.928819964189875, 22.68992995238906, 21.140405428161806, 6.1560982659968095, 142.62103816374605, 5.2636259602310345, 5.263014372791426, 5.262607701689427, 5.261481198939953, 5.250207585649235, 4.369514369678264, 18.35953687247851, 4.36950691743923, 13.090120919840574, 23.629089493187127, 32.23198240416336, 51.80191787032963, 35.95649725812494, 58.50093394845586, 32.19995873534203, 13.207230622690158, 34.48102397496862, 28.820649919474313, 26.257528024730906, 71.8641180350626, 73.70866622295482, 116.52720833921043, 56.74303227841529, 68.07387784635645, 44.10739415134054, 223.93769468529413, 200.12052313690847, 27.77817503654694, 68.67332300114506, 61.365534342359446, 271.9144144593516, 246.5381659738978, 116.12598351944396, 47.386147838243915, 87.68637157705523, 24.688597132737463, 77.6199004884159, 29.597936655875696, 33.302763136436155, 248.80456657191084, 25.347294341227876, 8.449553069035634, 5.919615307155843, 5.9165992820811635, 6.759454800167547, 5.065238716794592, 5.064279860764682, 5.902249523496758, 5.051552545584508, 4.211459277495087, 4.211397472754279, 4.211456934264771, 4.2114915739927925, 4.2098393373664615, 9.330634358185343, 4.210357385289368, 4.209860637073755, 11.749186721930494, 4.209011609475904, 4.211357313941092, 4.210528110056569, 9.251419670351007, 19.4302386182059, 14.503722555349814, 4.199766161189604, 8.3440856099858, 9.21251160073664, 66.59512136256625, 42.745841605773904, 14.207568016053271, 18.70716630503979, 20.83590303160972, 63.487954230366825, 6.7002839831657415, 21.260780948740585, 8.163121332415018, 12.403345611806717, 15.572662642574656, 16.714322568318078, 200.12052313690847, 26.833537661512203, 223.93769468529413, 73.2779892159012, 31.574053992559584, 75.90123640383099, 103.38715884859512, 60.15863529506819, 142.77762191722618, 295.54626014954613, 58.661413137555236, 66.46761380806629, 61.59844980121213, 116.52720833921043, 116.12598351944396, 87.61271419006556, 98.52679791592368, 271.9144144593516, 246.5381659738978, 68.07387784635645, 69.98266796896209, 99.85985359547394, 75.62338855716659, 51.00701606836345, 15.260190021197111, 16.95951896276876, 19.487569035420883, 16.957955734706264, 18.644783652500927, 17.812388259038478, 10.153956498107727, 9.304557349405181, 7.602949953265277, 6.749262363910766, 13.557542806064566, 5.892539118404485, 5.9012269821887005, 5.050161349291712, 5.047847503710773, 8.452632034420976, 18.368187138558373, 4.199916396367913, 4.199768230271279, 4.1979011905754975, 4.199621465239006, 4.1994535385277825, 8.453179459837125, 9.30661301420152, 4.199640690343438, 127.61284755807691, 7.51856065367263, 3.348993402101159, 3.348964493750646, 37.291494256344166, 20.05088650097926, 17.48065944511306, 45.726698994322376, 24.46688577176776, 41.67360222277902, 86.23129142818554, 59.710796282542866, 295.54626014954613, 42.752558958274996, 33.45654957300395, 56.13336351681366, 37.16741084899558, 38.12666294503532, 61.26469375945935, 46.130468931138815, 46.92429948910358, 142.77762191722618, 99.85985359547394, 75.73861594650852, 223.93769468529413, 74.21349907419, 271.9144144593516, 200.12052313690847, 97.55581559545354, 246.5381659738978, 151.3300608230637, 156.19898757830958, 94.06797522925157, 71.28133320495283, 98.52679791592368, 20.35925727821353, 69.7843088944738, 11.00287248941905, 10.152611318593062, 9.301781028501223, 8.451374292115624, 8.451429675132163, 8.444368194465975, 7.601468981710567, 6.7507197745424925, 6.750240339661178, 6.747546431823982, 13.381946363365588, 5.899643843363149, 11.85614911513376, 5.049668123163506, 5.049675648664504, 5.049068971976859, 5.049118658440461, 5.046058212653263, 5.047588329183655, 26.0706285532962, 9.208808561382352, 4.199029924166386, 4.19896929324432, 4.19893831082281, 4.198703566875552, 4.198419916379169, 4.198505189195732, 4.198608708408775, 8.352360180074017, 9.183889248595964, 19.902939907401304, 20.05985389588984, 15.894394003470117, 38.23652908654202, 22.32292279699319, 29.256700398620612, 81.84600594532344, 62.42099895293493, 11.636833501543077, 53.70265829474797, 19.328788879866586, 46.0153812192674, 75.73861594650852, 56.84999481375816, 26.611793300358443, 94.06797522925157, 14.018787397337427, 104.33449787584861, 20.857145873130417, 34.710730559353344, 62.20124918579281, 36.460567487213936, 50.69346887951094, 32.44066616392163, 63.58431161031133, 87.68637157705523, 151.3300608230637, 40.76493602504952, 87.61271419006556, 271.9144144593516, 246.5381659738978, 100.01262285684118, 200.12052313690847, 67.96712095096976, 14.099256905080342, 13.316611971190303, 13.31671580345109, 12.534077778959192, 11.751600743469442, 11.751635457609368, 11.75162681341642, 11.75165424813123, 11.751586013930055, 11.75163126829806, 11.751742743731487, 10.96923894241319, 10.969152409696521, 10.187277977447824, 15.645417350453474, 15.586568138366406, 4.709204369353431, 9.472032273622377, 17.976714080251984, 13.457813356452126, 3.9267322949487866, 3.926729027385185, 147.41624575476519, 17.19254148561955, 3.1442095222924022, 3.144199495526855, 3.14409928489898, 3.1436962574239513, 3.1437391426295465, 7.926769714691055, 19.516787232592655, 11.994561595359, 18.92093127322444, 43.244465083749894, 20.228005105097743, 10.191248832323945, 20.436931130502934, 27.03768459378041, 27.94314934622096, 38.41851935099531, 61.365534342359446, 271.9144144593516, 246.5381659738978, 49.51693103795678, 151.3300608230637, 46.8348773295072, 97.55581559545354, 67.36607365132355, 200.12052313690847, 31.798981898622273, 7.071214213720591, 4.717690795833595, 5.511244045637119, 3.9334589264901907, 3.933484172250068, 3.933222320455484, 3.9338227020053327, 3.934504078286455, 3.933530529737155, 8.707693038189527, 3.933265493800503, 3.93317180291878, 3.9329984673869958, 3.9369214672827764, 3.149285570958848, 3.1492790292566895, 3.1492759700980466, 3.1492719294319205, 3.149246820720821, 3.1494423984216096, 3.149423902270963, 3.149541733217549, 3.149321730833683, 3.9345340390656105, 6.196711333977105, 3.9349029315808837, 3.9364502264327026, 3.150374641136654, 3.9350996281918245, 6.244011119759054, 13.462548544602086, 6.282190884056224, 5.463886653111231, 44.793865770502805, 5.610891374065047, 8.694357261014936, 49.94574836865764, 10.073102401986995, 8.768216772097853, 9.553817853901597, 23.34346609777266, 27.80229089938224, 7.990328662429719, 104.33449787584861, 15.189324393500462, 271.9144144593516, 246.5381659738978, 10.39452500594044, 8.059062508334852, 16.39198088143776, 6.932220875487817, 57.38057406751244, 97.55581559545354, 45.726698994322376, 62.20124918579281, 33.536451144595546, 98.52679791592368, 100.01262285684118, 41.27614952770466, 67.96712095096976, 43.012255107904664, 50.69346887951094, 103.38715884859512, 48.02073657216067, 151.3300608230637, 295.54626014954613, 42.50052655466857, 61.59844980121213, 73.70866622295482, 87.68637157705523, 67.36607365132355, 58.65608464972773, 54.026982174410946, 52.48454574484119, 54.773242855131436, 91.13776237758925, 9.283330434566924, 60.493554355269545, 4.654100639324353, 3.8843370000547046, 3.1111489062080606, 3.111209399428489, 3.1085520856932973, 3.111033910443431, 3.11108821579319, 3.1107530509396395, 3.1117415193278597, 156.19898757830958, 8.565302438648919, 2.3396775834313264, 2.33965091822251, 2.3396251209279573, 2.3396238895265578, 2.3396235376975865, 2.3396475249430613, 2.3392508750628718, 2.3395790182761935, 2.339577664512267, 2.3396849024605118, 2.3396857773742687, 2.3380345175055846, 14.684125967154602, 24.09171663489256, 22.287881377523078, 4.774440619787847, 71.28133320495283, 74.21349907419, 24.9428071373595, 61.26469375945935, 7.179072641025254, 99.85985359547394, 151.3300608230637, 40.48474035657725, 57.38057406751244, 142.77762191722618, 42.752558958274996, 271.9144144593516, 11.746246745227747, 246.5381659738978, 14.146940074075312, 100.01262285684118, 116.12598351944396, 46.197610752037214, 147.41624575476519, 86.23129142818554, 69.98266796896209, 48.72994891914513, 5.276325853702943, 5.27647560154215, 5.276435672945432, 5.276572824135185, 5.276613857307196, 4.530001492096881, 4.5309235541453265, 174.16255119574942, 3.782997401951257, 3.7831518510762074, 3.7831560805088196, 3.0365349329823546, 3.0366566549673926, 3.036657784624337, 3.0367093478916627, 3.0366277818410836, 3.036760301631942, 3.036787448998837, 7.551781632388009, 6.048759186684656, 3.0385233598364447, 5.380185145521411, 2.2899537958912757, 2.2899533521064845, 2.2899532041782207, 2.2899430570952766, 2.289912937263842, 2.2899161763178304, 2.2896315237144242, 2.289949709238331, 10.862375703624497, 4.675488265914048, 4.489995241859016, 37.59559307553679, 9.424344397023587, 60.15863529506819, 67.96712095096976, 295.54626014954613, 19.75696129885648, 16.58573921456412, 17.918040013240375, 36.699853256707044, 43.78071435557413, 17.882385780484622, 44.793865770502805, 13.310907146954504, 27.2510658144346, 271.9144144593516, 246.5381659738978, 20.920570693908992, 15.725272281186617, 35.30360203628501, 127.61284755807691, 156.19898757830958, 39.625013965443976, 36.48556818825437, 68.67332300114506, 142.77762191722618, 104.33449787584861, 37.7247880011345, 22.278559925395086, 41.89365313972083, 61.59844980121213, 200.12052313690847, 49.17363470639642, 99.85985359547394, 9.754736795968443, 6.000662481725123, 6.000529052276932, 4.513937115019264, 4.515743237752294, 4.517492866312364, 3.7686645410413555, 3.7706922159115375, 3.770787504662987, 3.7712176173333987, 3.7713406584371767, 3.769646980966297, 3.772114676455696, 3.7716743258888044, 3.773265558704657, 3.7887328819132096, 3.0270382934217444, 3.026903829876542, 3.0270096313659947, 3.0270088170192233, 3.027103375486025, 3.024904509009148, 3.0260501581720054, 3.02911126516417, 9.055901526580286, 3.81375596086961, 3.8149062760804355, 3.8153003537023356, 3.049429368038893, 2.283614171106246, 9.17680952488375, 95.5176396447546, 67.36607365132355, 16.296805328712338, 24.952915272744224, 9.90867405579041, 15.046638245377085, 18.869506141545404, 46.8348773295072, 8.594747275333487, 8.559795359310224, 57.38057406751244, 6.083792502789407, 7.6547307402860305, 41.83812589441888, 35.228324252891426, 27.044937445651414, 27.03768459378041, 11.774160296278891, 56.13336351681366, 9.481346001106603, 43.78071435557413, 27.395203419198516, 15.681322785489066, 271.9144144593516, 295.54626014954613, 103.38715884859512, 246.5381659738978, 75.62338855716659, 142.77762191722618, 66.46761380806629, 69.98266796896209, 30.997996953332425, 46.23306855834775, 28.38004950032624, 100.01262285684118, 48.02073657216067, 98.52679791592368, 87.61271419006556, 11.920584476659572, 11.225271748283713, 23.986188231146226, 6.358758533334584, 6.3587588629584, 6.358775420431847, 6.358791993939177, 5.6629736615005095, 5.663296532751614, 5.6633340073857115, 5.663355938693655, 5.663364539352281, 4.968193437174526, 3.5779837118374234, 3.578047650642274, 3.5784366343784173, 3.578773637379104, 6.516031675587387, 2.882519831011524, 13.004523110922912, 2.882830308721022, 2.883851366772107, 8.754085881960709, 18.274657454731233, 9.370256034585378, 2.1872941738349247, 2.1874022038585315, 2.1858871291806747, 2.185928901331547, 2.187457845929653, 8.773080379393315, 19.980177826324304, 6.541961379500499, 11.948681805916145, 41.88972043229533, 11.774792783120226, 12.157045415230693, 116.12598351944396, 67.31841426391743, 46.92429948910358, 22.715631335682104, 18.599774075475167, 18.866216510379726, 73.2779892159012, 30.39295252964424, 30.421595996551012, 51.76832742253676, 100.01262285684118, 32.67994205864659, 271.9144144593516, 246.5381659738978, 200.12052313690847, 58.661413137555236, 87.61271419006556], \"Category\": [\"Default\", \"Default\", \"Default\", \"Default\", \"Default\", \"Default\", \"Default\", \"Default\", \"Default\", \"Default\", \"Default\", \"Default\", \"Default\", \"Default\", \"Default\", \"Default\", \"Default\", \"Default\", \"Default\", \"Default\", \"Default\", \"Default\", \"Default\", \"Default\", \"Default\", \"Default\", \"Default\", \"Default\", \"Default\", \"Default\", \"Topic1\", \"Topic1\", \"Topic1\", \"Topic1\", \"Topic1\", \"Topic1\", \"Topic1\", \"Topic1\", \"Topic1\", \"Topic1\", \"Topic1\", \"Topic1\", \"Topic1\", \"Topic1\", \"Topic1\", \"Topic1\", \"Topic1\", \"Topic1\", \"Topic1\", \"Topic1\", \"Topic1\", \"Topic1\", \"Topic1\", \"Topic1\", \"Topic1\", \"Topic1\", \"Topic1\", \"Topic1\", \"Topic1\", \"Topic1\", \"Topic1\", \"Topic1\", \"Topic1\", \"Topic1\", \"Topic1\", \"Topic1\", \"Topic1\", \"Topic1\", \"Topic1\", \"Topic1\", \"Topic1\", \"Topic1\", \"Topic1\", \"Topic1\", \"Topic1\", \"Topic1\", \"Topic1\", \"Topic1\", \"Topic1\", \"Topic1\", \"Topic1\", \"Topic1\", \"Topic1\", \"Topic1\", \"Topic1\", \"Topic2\", \"Topic2\", \"Topic2\", \"Topic2\", \"Topic2\", \"Topic2\", \"Topic2\", \"Topic2\", \"Topic2\", \"Topic2\", \"Topic2\", \"Topic2\", \"Topic2\", \"Topic2\", \"Topic2\", \"Topic2\", \"Topic2\", \"Topic2\", \"Topic2\", \"Topic2\", \"Topic2\", \"Topic2\", \"Topic2\", \"Topic2\", \"Topic2\", \"Topic2\", \"Topic2\", \"Topic2\", \"Topic2\", \"Topic2\", \"Topic2\", \"Topic2\", \"Topic2\", \"Topic2\", \"Topic2\", \"Topic2\", \"Topic2\", \"Topic2\", \"Topic2\", \"Topic2\", \"Topic2\", \"Topic2\", \"Topic2\", \"Topic2\", \"Topic2\", \"Topic2\", \"Topic2\", \"Topic2\", \"Topic2\", \"Topic2\", \"Topic2\", \"Topic2\", \"Topic2\", \"Topic2\", \"Topic2\", \"Topic2\", \"Topic2\", \"Topic2\", \"Topic2\", \"Topic2\", \"Topic2\", \"Topic2\", \"Topic2\", \"Topic2\", \"Topic2\", \"Topic2\", \"Topic2\", \"Topic3\", \"Topic3\", \"Topic3\", \"Topic3\", \"Topic3\", \"Topic3\", \"Topic3\", \"Topic3\", \"Topic3\", \"Topic3\", \"Topic3\", \"Topic3\", \"Topic3\", \"Topic3\", \"Topic3\", \"Topic3\", \"Topic3\", \"Topic3\", \"Topic3\", \"Topic3\", \"Topic3\", \"Topic3\", \"Topic3\", \"Topic3\", \"Topic3\", \"Topic3\", \"Topic3\", \"Topic3\", \"Topic3\", \"Topic3\", \"Topic3\", \"Topic3\", \"Topic3\", \"Topic3\", \"Topic3\", \"Topic3\", \"Topic3\", \"Topic3\", \"Topic3\", \"Topic3\", \"Topic3\", \"Topic3\", \"Topic3\", \"Topic3\", \"Topic3\", \"Topic3\", \"Topic3\", \"Topic3\", \"Topic3\", \"Topic3\", \"Topic3\", \"Topic3\", \"Topic3\", \"Topic3\", \"Topic3\", \"Topic3\", \"Topic3\", \"Topic3\", \"Topic3\", \"Topic3\", \"Topic3\", \"Topic4\", \"Topic4\", \"Topic4\", \"Topic4\", \"Topic4\", \"Topic4\", \"Topic4\", \"Topic4\", \"Topic4\", \"Topic4\", \"Topic4\", \"Topic4\", \"Topic4\", \"Topic4\", \"Topic4\", \"Topic4\", \"Topic4\", \"Topic4\", \"Topic4\", \"Topic4\", \"Topic4\", \"Topic4\", \"Topic4\", \"Topic4\", \"Topic4\", \"Topic4\", \"Topic4\", \"Topic4\", \"Topic4\", \"Topic4\", \"Topic4\", \"Topic4\", \"Topic4\", \"Topic4\", \"Topic4\", \"Topic4\", \"Topic4\", \"Topic4\", \"Topic4\", \"Topic4\", \"Topic4\", \"Topic4\", \"Topic4\", \"Topic4\", \"Topic4\", \"Topic4\", \"Topic4\", \"Topic4\", \"Topic4\", \"Topic4\", \"Topic4\", \"Topic4\", \"Topic4\", \"Topic4\", \"Topic4\", \"Topic4\", \"Topic4\", \"Topic4\", \"Topic4\", \"Topic4\", \"Topic4\", \"Topic4\", \"Topic4\", \"Topic4\", \"Topic4\", \"Topic4\", \"Topic5\", \"Topic5\", \"Topic5\", \"Topic5\", \"Topic5\", \"Topic5\", \"Topic5\", \"Topic5\", \"Topic5\", \"Topic5\", \"Topic5\", \"Topic5\", \"Topic5\", \"Topic5\", \"Topic5\", \"Topic5\", \"Topic5\", \"Topic5\", \"Topic5\", \"Topic5\", \"Topic5\", \"Topic5\", \"Topic5\", \"Topic5\", \"Topic5\", \"Topic5\", \"Topic5\", \"Topic5\", \"Topic5\", \"Topic5\", \"Topic5\", \"Topic5\", \"Topic5\", \"Topic5\", \"Topic5\", \"Topic5\", \"Topic5\", \"Topic5\", \"Topic5\", \"Topic5\", \"Topic5\", \"Topic5\", \"Topic5\", \"Topic5\", \"Topic5\", \"Topic5\", \"Topic5\", \"Topic5\", \"Topic5\", \"Topic5\", \"Topic6\", \"Topic6\", \"Topic6\", \"Topic6\", \"Topic6\", \"Topic6\", \"Topic6\", \"Topic6\", \"Topic6\", \"Topic6\", \"Topic6\", \"Topic6\", \"Topic6\", \"Topic6\", \"Topic6\", \"Topic6\", \"Topic6\", \"Topic6\", \"Topic6\", \"Topic6\", \"Topic6\", \"Topic6\", \"Topic6\", \"Topic6\", \"Topic6\", \"Topic6\", \"Topic6\", \"Topic6\", \"Topic6\", \"Topic6\", \"Topic6\", \"Topic6\", \"Topic6\", \"Topic6\", \"Topic6\", \"Topic6\", \"Topic6\", \"Topic6\", \"Topic6\", \"Topic6\", \"Topic6\", \"Topic6\", \"Topic6\", \"Topic6\", \"Topic6\", \"Topic6\", \"Topic6\", \"Topic6\", \"Topic6\", \"Topic6\", \"Topic6\", \"Topic6\", \"Topic6\", \"Topic6\", \"Topic6\", \"Topic6\", \"Topic6\", \"Topic6\", \"Topic6\", \"Topic6\", \"Topic6\", \"Topic6\", \"Topic6\", \"Topic6\", \"Topic6\", \"Topic6\", \"Topic6\", \"Topic6\", \"Topic6\", \"Topic6\", \"Topic6\", \"Topic7\", \"Topic7\", \"Topic7\", \"Topic7\", \"Topic7\", \"Topic7\", \"Topic7\", \"Topic7\", \"Topic7\", \"Topic7\", \"Topic7\", \"Topic7\", \"Topic7\", \"Topic7\", \"Topic7\", \"Topic7\", \"Topic7\", \"Topic7\", \"Topic7\", \"Topic7\", \"Topic7\", \"Topic7\", \"Topic7\", \"Topic7\", \"Topic7\", \"Topic7\", \"Topic7\", \"Topic7\", \"Topic7\", \"Topic7\", \"Topic7\", \"Topic7\", \"Topic7\", \"Topic7\", \"Topic7\", \"Topic7\", \"Topic7\", \"Topic7\", \"Topic7\", \"Topic7\", \"Topic7\", \"Topic7\", \"Topic7\", \"Topic7\", \"Topic7\", \"Topic7\", \"Topic7\", \"Topic7\", \"Topic7\", \"Topic7\", \"Topic7\", \"Topic7\", \"Topic7\", \"Topic7\", \"Topic7\", \"Topic7\", \"Topic8\", \"Topic8\", \"Topic8\", \"Topic8\", \"Topic8\", \"Topic8\", \"Topic8\", \"Topic8\", \"Topic8\", \"Topic8\", \"Topic8\", \"Topic8\", \"Topic8\", \"Topic8\", \"Topic8\", \"Topic8\", \"Topic8\", \"Topic8\", \"Topic8\", \"Topic8\", \"Topic8\", \"Topic8\", \"Topic8\", \"Topic8\", \"Topic8\", \"Topic8\", \"Topic8\", \"Topic8\", \"Topic8\", \"Topic8\", \"Topic8\", \"Topic8\", \"Topic8\", \"Topic8\", \"Topic8\", \"Topic8\", \"Topic8\", \"Topic8\", \"Topic8\", \"Topic8\", \"Topic8\", \"Topic8\", \"Topic8\", \"Topic8\", \"Topic8\", \"Topic8\", \"Topic8\", \"Topic8\", \"Topic8\", \"Topic8\", \"Topic8\", \"Topic8\", \"Topic8\", \"Topic8\", \"Topic8\", \"Topic8\", \"Topic8\", \"Topic8\", \"Topic8\", \"Topic8\", \"Topic8\", \"Topic8\", \"Topic8\", \"Topic8\", \"Topic8\", \"Topic8\", \"Topic9\", \"Topic9\", \"Topic9\", \"Topic9\", \"Topic9\", \"Topic9\", \"Topic9\", \"Topic9\", \"Topic9\", \"Topic9\", \"Topic9\", \"Topic9\", \"Topic9\", \"Topic9\", \"Topic9\", \"Topic9\", \"Topic9\", \"Topic9\", \"Topic9\", \"Topic9\", \"Topic9\", \"Topic9\", \"Topic9\", \"Topic9\", \"Topic9\", \"Topic9\", \"Topic9\", \"Topic9\", \"Topic9\", \"Topic9\", \"Topic9\", \"Topic9\", \"Topic9\", \"Topic9\", \"Topic9\", \"Topic9\", \"Topic9\", \"Topic9\", \"Topic9\", \"Topic9\", \"Topic9\", \"Topic9\", \"Topic9\", \"Topic9\", \"Topic9\", \"Topic9\", \"Topic9\", \"Topic9\", \"Topic9\", \"Topic9\", \"Topic9\", \"Topic9\", \"Topic9\", \"Topic9\", \"Topic9\", \"Topic9\", \"Topic9\", \"Topic9\", \"Topic9\", \"Topic9\", \"Topic9\", \"Topic9\", \"Topic9\", \"Topic9\", \"Topic9\", \"Topic9\", \"Topic9\", \"Topic9\", \"Topic9\", \"Topic10\", \"Topic10\", \"Topic10\", \"Topic10\", \"Topic10\", \"Topic10\", \"Topic10\", \"Topic10\", \"Topic10\", \"Topic10\", \"Topic10\", \"Topic10\", \"Topic10\", \"Topic10\", \"Topic10\", \"Topic10\", \"Topic10\", \"Topic10\", \"Topic10\", \"Topic10\", \"Topic10\", \"Topic10\", \"Topic10\", \"Topic10\", \"Topic10\", \"Topic10\", \"Topic10\", \"Topic10\", \"Topic10\", \"Topic10\", \"Topic10\", \"Topic10\", \"Topic10\", \"Topic10\", \"Topic10\", \"Topic10\", \"Topic10\", \"Topic10\", \"Topic10\", \"Topic10\", \"Topic10\", \"Topic10\", \"Topic10\", \"Topic10\", \"Topic10\", \"Topic10\", \"Topic10\", \"Topic10\", \"Topic10\", \"Topic10\", \"Topic10\", \"Topic10\", \"Topic10\", \"Topic10\"], \"logprob\": [30.0, 29.0, 28.0, 27.0, 26.0, 25.0, 24.0, 23.0, 22.0, 21.0, 20.0, 19.0, 18.0, 17.0, 16.0, 15.0, 14.0, 13.0, 12.0, 11.0, 10.0, 9.0, 8.0, 7.0, 6.0, 5.0, 4.0, 3.0, 2.0, 1.0, -5.4937, -5.3339, -6.0404, -6.0412, -5.5264, -5.6448, -4.952, -6.0528, -6.2622, -6.1192, -5.6532, -6.2836, -5.4582, -6.6641, -4.458, -6.6772, -5.6316, -5.7127, -6.9483, -3.8213, -7.1256, -7.1267, -7.127, -7.1306, -7.1504, -7.3448, -5.9098, -7.3457, -6.2546, -5.6692, -5.3785, -4.9207, -5.2836, -4.8922, -5.4591, -6.2831, -5.4177, -5.5815, -5.6678, -4.8374, -4.8482, -4.4809, -5.067, -4.9455, -5.2736, -4.0939, -4.7865, -5.7557, -5.4923, -5.5358, -5.1541, -5.1791, -5.5279, -5.6271, -5.6221, -5.5051, -4.3623, -5.3321, -5.2142, -3.2266, -5.514, -6.6342, -6.9905, -6.9911, -6.8586, -7.1649, -7.1667, -7.0192, -7.1967, -7.3831, -7.3832, -7.3833, -7.3834, -7.3839, -6.5882, -7.3841, -7.3842, -6.3581, -7.3853, -7.3865, -7.3899, -6.6053, -5.8691, -6.1745, -7.4175, -6.7346, -6.6519, -4.8291, -5.3066, -6.2924, -6.0485, -5.9929, -5.0432, -6.9858, -6.0161, -6.8338, -6.4923, -6.3114, -6.2717, -4.3746, -5.9414, -4.4243, -5.2238, -5.8572, -5.2815, -5.1061, -5.5434, -5.0715, -4.6606, -5.5885, -5.6206, -5.6687, -5.3865, -5.3986, -5.5495, -5.5198, -5.3006, -5.3433, -5.7825, -5.8016, -5.8204, -5.8337, -4.6053, -5.825, -5.7235, -5.5857, -5.725, -5.6317, -5.6851, -6.2604, -6.3546, -6.5747, -6.7066, -6.0255, -6.8733, -6.8748, -7.0356, -7.0413, -6.5357, -5.7684, -7.2521, -7.2525, -7.2538, -7.2536, -7.2537, -6.5602, -6.4668, -7.2634, -3.8736, -6.7139, -7.532, -7.532, -5.1458, -5.7668, -5.9209, -5.0392, -5.6412, -5.2002, -4.5741, -4.9575, -3.7488, -5.3826, -5.588, -5.2114, -5.6412, -5.6273, -5.3346, -5.566, -5.5578, -4.9463, -5.1603, -5.3093, -4.9918, -5.4081, -5.1298, -5.2672, -5.4291, -5.3376, -5.4418, -5.4446, -5.5737, -5.6088, -5.6106, -5.4984, -4.2774, -6.1412, -6.2283, -6.3219, -6.4252, -6.4254, -6.4367, -6.5422, -6.6727, -6.6739, -6.6798, -5.9992, -6.826, -6.1429, -7.0035, -7.0038, -7.0051, -7.0053, -7.0078, -7.0086, -5.3675, -6.436, -7.2218, -7.2219, -7.2221, -7.2227, -7.2228, -7.223, -7.223, -6.541, -6.449, -5.7037, -5.6982, -5.9272, -5.0809, -5.6174, -5.3694, -4.4448, -4.757, -6.2605, -4.906, -5.8194, -5.0868, -4.802, -5.0589, -5.6367, -4.6855, -6.138, -4.7073, -5.8556, -5.5696, -5.2083, -5.6042, -5.4222, -5.7313, -5.4554, -5.3446, -5.278, -5.7286, -5.5177, -5.2336, -5.2823, -5.5129, -5.51, -5.6661, -5.4535, -5.5131, -5.5132, -5.5771, -5.6455, -5.6455, -5.6455, -5.6456, -5.6456, -5.6457, -5.6457, -5.7193, -5.7194, -5.798, -5.4274, -5.4524, -6.6618, -5.9787, -5.3548, -5.6455, -6.8796, -6.8796, -3.2606, -5.41, -7.1598, -7.1599, -7.1604, -7.1614, -7.1629, -6.2392, -5.3668, -5.8487, -5.4516, -4.6858, -5.4256, -6.0829, -5.5831, -5.4108, -5.3977, -5.1861, -5.0321, -4.3298, -4.3949, -5.2036, -4.8998, -5.4183, -5.2946, -5.4138, -5.4691, -5.6071, -6.1713, -6.6314, -6.4791, -6.849, -6.8494, -6.8496, -6.8505, -6.8515, -6.8524, -6.0626, -6.8583, -6.8584, -6.8604, -6.9039, -7.1286, -7.129, -7.1291, -7.1291, -7.1292, -7.1294, -7.1296, -7.1297, -7.131, -6.9088, -6.4547, -6.9097, -6.9107, -7.1357, -6.9136, -6.4525, -5.6876, -6.5, -6.631, -4.7987, -6.6349, -6.2658, -4.8341, -6.183, -6.3004, -6.2431, -5.6453, -5.5663, -6.4522, -4.8354, -6.0517, -4.3742, -4.4963, -6.3021, -6.46, -6.1093, -6.5622, -5.5519, -5.4083, -5.7492, -5.6246, -5.9476, -5.5482, -5.5485, -5.8834, -5.8021, -5.9589, -5.9137, -5.7562, -5.9582, -5.6965, -5.5871, -6.0279, -6.0301, -6.0326, -6.0394, -6.0551, -3.9557, -4.0385, -4.0678, -4.0385, -3.531, -5.8667, -3.9954, -6.6443, -6.8691, -7.142, -7.1423, -7.1436, -7.1429, -7.1434, -7.144, -7.1446, -3.2387, -6.1743, -7.5315, -7.5316, -7.5316, -7.5316, -7.5316, -7.532, -7.5322, -7.5321, -7.5322, -7.5323, -7.5324, -7.5331, -5.7109, -5.2242, -5.3551, -6.8637, -4.4604, -4.5046, -5.5069, -4.7562, -6.5923, -4.4326, -4.2235, -5.2993, -5.1274, -4.5459, -5.5968, -4.6131, -6.392, -4.7494, -6.3141, -5.3011, -5.3431, -5.794, -5.425, -5.6674, -5.7998, -5.9848, -6.3249, -6.3249, -6.3251, -6.3251, -6.3251, -6.5042, -6.5107, -2.8644, -6.7219, -6.7221, -6.7222, -7.0015, -7.0019, -7.0019, -7.0021, -7.0024, -7.0041, -7.0042, -6.0952, -6.326, -7.0156, -6.5099, -7.391, -7.391, -7.391, -7.391, -7.3911, -7.3911, -7.3913, -7.3911, -5.8368, -6.7221, -6.7658, -4.8719, -6.1747, -4.6193, -4.5946, -3.4357, -5.7604, -5.9401, -5.9121, -5.48, -5.4416, -5.9706, -5.4786, -6.1728, -5.8919, -4.8407, -4.9469, -6.0463, -6.1676, -5.9002, -5.4991, -5.5037, -5.8879, -5.9117, -5.8094, -5.7117, -5.826, -5.998, -6.1024, -6.0082, -5.9584, -5.8437, -6.0052, -5.9804, -5.658, -6.162, -6.1629, -6.4933, -6.4975, -6.523, -6.7128, -6.7128, -6.713, -6.7144, -6.7146, -6.715, -6.7166, -6.7214, -6.74, -6.7542, -6.9908, -6.9908, -6.9908, -6.9908, -6.9914, -6.993, -6.9968, -6.9987, -5.915, -6.7883, -6.7895, -6.7895, -7.063, -7.3803, -5.996, -3.9603, -4.3564, -5.5748, -5.2431, -6.0308, -5.7633, -5.5986, -4.9522, -6.2101, -6.2249, -4.9181, -6.4695, -6.3187, -5.3264, -5.4758, -5.7026, -5.727, -6.1637, -5.4304, -6.2762, -5.5831, -5.8122, -6.0666, -4.8847, -4.9471, -5.3595, -5.0707, -5.4978, -5.2797, -5.5503, -5.5586, -5.8325, -5.7977, -5.8838, -5.6858, -5.8523, -5.8005, -5.862, -5.1352, -5.1994, -4.477, -5.8222, -5.8222, -5.8222, -5.8222, -5.9534, -5.9537, -5.9537, -5.9538, -5.9538, -6.1056, -6.5036, -6.5041, -6.5076, -6.5076, -5.9538, -6.7827, -5.2792, -6.7859, -6.7907, -5.7058, -4.9726, -5.7067, -7.1721, -7.1724, -7.1733, -7.1735, -7.1729, -5.8222, -5.0959, -6.1456, -5.6096, -4.6118, -5.7288, -5.7073, -4.2376, -4.7463, -4.9665, -5.4235, -5.7064, -5.7054, -5.3404, -5.6013, -5.6063, -5.5414, -5.491, -5.7056, -5.4355, -5.5223, -5.5538, -5.7304, -5.7423], \"loglift\": [30.0, 29.0, 28.0, 27.0, 26.0, 25.0, 24.0, 23.0, 22.0, 21.0, 20.0, 19.0, 18.0, 17.0, 16.0, 15.0, 14.0, 13.0, 12.0, 11.0, 10.0, 9.0, 8.0, 7.0, 6.0, 5.0, 4.0, 3.0, 2.0, 1.0, 1.8489, 1.8397, 1.8281, 1.8274, 1.8212, 1.8204, 1.8191, 1.8171, 1.8155, 1.8155, 1.8128, 1.7956, 1.7887, 1.7852, 1.7839, 1.7738, 1.768, 1.7576, 1.7558, 1.7401, 1.7351, 1.7341, 1.7339, 1.7305, 1.7128, 1.7021, 1.7016, 1.7011, 1.695, 1.6898, 1.6701, 1.6533, 1.6556, 1.5603, 1.5905, 1.6576, 1.5634, 1.5789, 1.5857, 1.4093, 1.3732, 1.2825, 1.416, 1.3554, 1.4613, 1.0162, 0.4361, 1.4416, 0.7999, 0.8688, -0.2381, -0.1652, 0.2389, 1.036, 0.4256, 1.8101, 1.8074, 1.8017, 1.8017, 1.7783, 1.7748, 1.7532, 1.7527, 1.7527, 1.752, 1.7342, 1.7326, 1.727, 1.7051, 1.7006, 1.7005, 1.7004, 1.7003, 1.7002, 1.7, 1.6999, 1.6999, 1.6996, 1.6989, 1.6973, 1.694, 1.6914, 1.6856, 1.6726, 1.669, 1.6653, 1.649, 1.4938, 1.4597, 1.5753, 1.5441, 1.4919, 1.3275, 1.6335, 1.4485, 1.5881, 1.5112, 1.4646, 1.4335, 0.848, 1.2904, 0.6859, 1.0034, 1.2119, 0.9106, 0.7769, 0.8812, 0.4887, 0.172, 0.8612, 0.7042, 0.7322, 0.3769, 0.3683, 0.4991, 0.4114, -0.3846, -0.3294, 0.5185, 0.4716, 0.0973, 0.3621, 1.9842, 1.9713, 1.9672, 1.966, 1.9657, 1.9643, 1.9565, 1.9433, 1.9364, 1.9183, 1.9054, 1.8891, 1.8745, 1.8716, 1.8665, 1.8613, 1.8513, 1.8425, 1.8343, 1.834, 1.8331, 1.8329, 1.8328, 1.8268, 1.824, 1.8231, 1.7989, 1.7903, 1.7809, 1.7808, 1.757, 1.7565, 1.7395, 1.6597, 1.683, 1.5914, 1.4903, 1.4745, 1.0839, 1.3834, 1.4232, 1.2824, 1.2649, 1.2533, 1.0717, 1.1241, 1.1152, 0.6139, 0.7575, 0.8849, 0.1183, 0.8065, -0.2138, -0.0447, 0.512, -0.3236, 0.0603, 0.0258, 0.4038, 0.646, 0.3206, 2.0096, 1.9987, 1.9821, 1.9755, 1.9694, 1.962, 1.9617, 1.9513, 1.951, 1.9392, 1.9381, 1.9325, 1.9284, 1.9207, 1.9057, 1.8987, 1.8983, 1.8972, 1.897, 1.8951, 1.894, 1.8932, 1.8653, 1.8649, 1.8648, 1.8646, 1.8641, 1.864, 1.8638, 1.8637, 1.8579, 1.855, 1.827, 1.8245, 1.8283, 1.7968, 1.7985, 1.776, 1.6718, 1.6306, 1.8069, 1.6321, 1.7405, 1.6058, 1.3922, 1.4222, 1.6035, 1.292, 1.7431, 1.1666, 1.6282, 1.4048, 1.1828, 1.3211, 1.1735, 1.3108, 0.9137, 0.7031, 0.224, 1.0851, 0.5309, -0.3176, -0.2683, 0.4033, -0.2874, 0.6363, 2.4219, 2.4194, 2.4192, 2.416, 2.412, 2.412, 2.412, 2.412, 2.4119, 2.4118, 2.4118, 2.4071, 2.407, 2.4023, 2.3439, 2.3227, 2.3102, 2.2945, 2.2777, 2.2764, 2.2741, 2.2741, 2.2676, 2.267, 2.2162, 2.2161, 2.2156, 2.2147, 2.2132, 2.212, 2.1834, 2.1883, 2.1297, 2.0688, 2.0888, 2.1171, 1.9211, 1.8135, 1.7936, 1.6869, 1.3725, 0.5862, 0.6191, 1.4156, 0.6022, 1.2566, 0.6465, 0.8976, -0.2466, 1.455, 2.3942, 2.3388, 2.3356, 2.303, 2.3026, 2.3024, 2.3014, 2.3003, 2.2996, 2.2947, 2.2938, 2.2936, 2.2917, 2.2472, 2.2457, 2.2453, 2.2452, 2.2452, 2.2451, 2.2449, 2.2447, 2.2446, 2.2434, 2.2429, 2.2427, 2.242, 2.2405, 2.2383, 2.238, 2.2374, 2.234, 2.1838, 2.1923, 1.9207, 2.1619, 2.093, 1.7765, 2.0286, 2.05, 2.0214, 1.7258, 1.6301, 1.991, 1.0385, 1.7492, 0.5418, 0.5177, 1.8782, 1.9747, 1.6155, 2.0231, 0.9199, 0.5328, 0.9496, 0.7666, 1.0612, 0.383, 0.3678, 0.9178, 0.5004, 0.8011, 0.682, 0.1269, 0.6917, -0.1945, -0.7544, 0.7441, 0.3708, 0.1888, 0.0083, 0.2563, 2.4941, 2.4935, 2.4932, 2.4798, 2.4781, 2.4265, 2.4235, 2.3395, 2.2955, 2.2445, 2.2442, 2.2438, 2.2436, 2.2432, 2.2426, 2.2417, 2.2317, 2.1994, 2.14, 2.1399, 2.1399, 2.1399, 2.1399, 2.1395, 2.1395, 2.1394, 2.1394, 2.1392, 2.1391, 2.1391, 2.1238, 2.1154, 2.0623, 2.0945, 1.7945, 1.7099, 1.798, 1.6501, 1.9581, 1.4852, 1.2786, 1.5213, 1.3444, 1.0144, 1.1693, 0.3029, 1.666, 0.2646, 1.5579, 0.6151, 0.4237, 0.8946, 0.1033, 0.3971, 0.4735, 0.6504, 2.5334, 2.5333, 2.5331, 2.5331, 2.5331, 2.5066, 2.4999, 2.4971, 2.4691, 2.4688, 2.4688, 2.4093, 2.4088, 2.4088, 2.4086, 2.4084, 2.4066, 2.4065, 2.4046, 2.3956, 2.3945, 2.3289, 2.3019, 2.3019, 2.3019, 2.3019, 2.3019, 2.3019, 2.3019, 2.3019, 2.2994, 2.2571, 2.2538, 2.0228, 2.1035, 1.8052, 1.7079, 1.397, 1.7776, 1.7728, 1.7236, 1.4387, 1.3007, 1.6671, 1.2408, 1.7602, 1.3246, 0.0753, 0.0671, 1.4345, 1.5986, 1.0574, 0.1735, -0.0333, 0.9542, 1.0129, 0.4828, -0.1515, 0.0479, 0.8932, 1.3155, 0.7782, 0.4425, -0.6211, 0.621, -0.0626, 2.5857, 2.5676, 2.5668, 2.521, 2.5164, 2.4905, 2.482, 2.4815, 2.4813, 2.4797, 2.4795, 2.4795, 2.4772, 2.4726, 2.4536, 2.4352, 2.4231, 2.4231, 2.4231, 2.4231, 2.4225, 2.4216, 2.4174, 2.4146, 2.4031, 2.3946, 2.3931, 2.393, 2.3435, 2.3154, 2.3089, 2.0019, 1.955, 2.1557, 2.0614, 2.1973, 2.0471, 1.9853, 1.7226, 2.1602, 2.1495, 1.5537, 2.2464, 2.1675, 1.4613, 1.4839, 1.5214, 1.4972, 1.8919, 1.0634, 1.996, 1.1592, 1.3989, 1.7024, 0.0313, -0.1144, 0.5235, -0.0567, 0.6979, 0.2805, 0.7745, 0.7147, 1.2551, 0.8901, 1.292, 0.2304, 0.7975, 0.1307, 0.1866, 2.9081, 2.904, 2.867, 2.8495, 2.8495, 2.8495, 2.8495, 2.8341, 2.8338, 2.8337, 2.8337, 2.8337, 2.8128, 2.7431, 2.7426, 2.7389, 2.7389, 2.6935, 2.6801, 2.6771, 2.6768, 2.6716, 2.6462, 2.6434, 2.5773, 2.5667, 2.5664, 2.5661, 2.566, 2.5659, 2.5276, 2.4309, 2.4977, 2.4313, 2.1746, 2.3267, 2.3163, 1.5293, 1.5658, 1.7065, 1.975, 1.8919, 1.8788, 0.8869, 1.506, 1.5, 1.0333, 0.4252, 1.3292, -0.5194, -0.5083, -0.3313, 0.7193, 0.3063]}, \"token.table\": {\"Topic\": [2, 5, 2, 4, 6, 7, 9, 2, 7, 9, 1, 2, 3, 4, 5, 6, 7, 8, 10, 1, 5, 9, 6, 1, 4, 8, 4, 1, 2, 3, 4, 5, 7, 8, 9, 10, 1, 5, 9, 4, 1, 2, 3, 8, 2, 8, 1, 10, 7, 5, 6, 7, 3, 1, 2, 3, 4, 5, 6, 7, 8, 9, 10, 3, 5, 2, 8, 1, 2, 3, 4, 5, 6, 7, 9, 10, 8, 1, 5, 4, 8, 9, 6, 6, 1, 2, 6, 9, 2, 6, 8, 9, 10, 5, 1, 2, 5, 7, 4, 2, 5, 7, 9, 5, 7, 9, 2, 1, 3, 5, 1, 2, 3, 4, 5, 6, 7, 8, 9, 1, 2, 4, 5, 6, 7, 8, 9, 10, 2, 3, 4, 9, 1, 2, 3, 4, 6, 10, 5, 6, 7, 8, 9, 7, 5, 7, 1, 2, 8, 2, 3, 3, 2, 3, 10, 1, 2, 4, 5, 6, 7, 9, 1, 3, 5, 8, 9, 10, 1, 5, 9, 6, 4, 8, 5, 5, 1, 3, 4, 6, 7, 8, 10, 2, 6, 7, 9, 1, 2, 3, 4, 6, 8, 10, 1, 2, 3, 4, 5, 6, 9, 1, 2, 3, 4, 8, 9, 10, 3, 1, 9, 5, 4, 1, 1, 2, 4, 5, 6, 9, 1, 2, 5, 9, 10, 5, 4, 10, 2, 5, 1, 1, 3, 4, 5, 8, 1, 2, 3, 4, 5, 6, 8, 8, 4, 8, 1, 4, 6, 7, 8, 9, 2, 1, 3, 4, 7, 1, 2, 4, 7, 8, 10, 6, 8, 10, 2, 3, 6, 7, 8, 9, 1, 2, 3, 4, 6, 8, 5, 1, 2, 3, 4, 5, 6, 7, 8, 9, 10, 8, 1, 3, 5, 6, 7, 10, 1, 2, 5, 6, 10, 1, 2, 3, 4, 7, 10, 2, 4, 1, 2, 3, 4, 5, 6, 7, 8, 10, 8, 1, 2, 3, 4, 6, 8, 1, 2, 3, 8, 9, 10, 1, 2, 3, 4, 5, 7, 9, 10, 5, 7, 6, 2, 3, 4, 5, 6, 7, 8, 9, 10, 2, 8, 2, 3, 8, 1, 2, 6, 7, 8, 4, 2, 4, 6, 8, 9, 10, 2, 3, 4, 5, 6, 8, 10, 2, 3, 4, 8, 2, 3, 7, 8, 9, 1, 2, 3, 4, 5, 6, 7, 8, 9, 7, 5, 5, 10, 7, 4, 6, 8, 4, 9, 10, 6, 1, 4, 5, 6, 7, 10, 2, 1, 2, 3, 4, 6, 7, 8, 3, 4, 4, 6, 8, 10, 2, 3, 4, 5, 8, 9, 10, 7, 9, 4, 2, 5, 2, 9, 1, 2, 4, 6, 7, 8, 2, 3, 4, 5, 6, 8, 9, 5, 7, 2, 8, 3, 1, 2, 4, 7, 1, 2, 3, 4, 5, 6, 8, 10, 3, 9, 1, 9, 1, 2, 3, 4, 6, 7, 9, 10, 1, 2, 3, 4, 7, 6, 1, 2, 3, 4, 5, 6, 7, 8, 9, 10, 4, 6, 7, 8, 9, 6, 7, 10, 3, 6, 3, 1, 6, 3, 4, 7, 4, 4, 7, 8, 9, 2, 9, 1, 2, 3, 4, 5, 6, 7, 8, 9, 10, 2, 3, 2, 3, 4, 6, 7, 8, 9, 10, 1, 1, 2, 3, 4, 5, 6, 9, 2, 1, 2, 3, 4, 5, 6, 9, 10, 2, 2, 10, 1, 1, 2, 3, 4, 5, 6, 7, 8, 9, 10, 1, 2, 4, 6, 7, 10, 1, 2, 3, 4, 5, 6, 7, 8, 7, 3, 5, 2, 6, 7, 2, 3, 4, 5, 1, 2, 3, 4, 5, 6, 7, 8, 9, 10, 1, 2, 3, 4, 5, 6, 7, 8, 9, 2, 4, 6, 7, 8, 5, 7, 7, 5, 1, 5, 8, 1, 2, 4, 8, 10, 2, 4, 5, 6, 7, 8, 9, 3, 7, 9, 1, 2, 4, 5, 6, 7, 8, 9, 6, 9, 4, 3, 4, 5, 6, 9, 10, 1, 2, 3, 5, 6, 9, 10, 10, 10, 3, 4, 6, 7, 8, 3, 6, 6, 2, 3, 4, 5, 6, 7, 8, 9, 10, 5, 5, 2, 3, 10, 4, 6, 9, 1, 2, 3, 4, 5, 6, 7, 8, 9, 10, 1, 6, 8, 10, 1, 4, 2, 3, 4, 5, 6, 9, 10, 4, 6, 8, 10, 1, 2, 3, 4, 5, 6, 7, 8, 9, 10, 7, 7, 1, 8, 1, 10, 1, 3, 10, 1, 2, 3, 4, 6, 8, 9, 9, 8, 8, 1, 6, 8, 9, 8, 1, 2, 3, 4, 5, 6, 7, 8, 9, 6, 8, 8, 6, 9, 9, 2, 9, 8, 10, 1, 2, 3, 5, 9, 10, 2, 3, 6, 7, 8, 9, 10, 7, 8, 2, 10, 1, 2, 6, 1, 2, 3, 4, 5, 6, 8, 9, 1, 4, 5, 6, 7, 9, 1, 2, 3, 4, 5, 7, 8, 9, 10, 1, 2, 3, 4, 5, 6, 7, 8, 9, 1, 2, 4, 5, 6, 7, 8, 9, 8, 1, 9, 10, 4, 1, 2, 3, 5, 6, 9, 1, 3, 4, 6, 7, 8, 1, 3, 4, 5, 6, 9, 1, 3, 4, 5, 6, 7, 8, 1, 2, 3, 4, 5, 6, 7, 8, 9, 10, 1, 2, 3, 4, 6, 8, 9, 9, 8, 6, 10, 1, 2, 3, 4, 5, 6, 7, 8, 9, 10, 3, 1, 3, 8, 1, 2, 3, 5, 6, 7, 8, 10, 4, 5, 6, 9, 9, 10, 6, 5, 1, 2, 3, 4, 5, 6, 7, 8, 9, 10, 4, 2, 10, 5, 9, 1, 2, 4, 5, 9, 10, 5, 9, 2, 8, 5, 6, 1, 2, 7, 1, 8, 8, 8, 6, 2, 6, 3, 6, 7, 1, 2, 3, 6, 7, 8, 1, 2, 3, 4, 5, 7, 10, 9, 2, 10, 1, 2, 4, 7, 10, 4, 8, 9, 2, 3, 3, 2, 5, 9, 1, 2, 3, 4, 6, 7, 9, 10, 10, 10, 1, 3, 4, 5, 8, 9, 10, 6, 5, 9, 1, 1, 3, 5, 6, 7, 1, 2, 5, 7, 8, 1, 5, 7, 1, 2, 3, 4, 5, 6, 7, 8, 9, 10, 1, 2, 3, 4, 5, 7, 8, 9, 10, 1, 2, 5, 6, 8, 9, 1, 2, 3, 4, 5, 6, 7, 8, 9, 10, 1, 4, 2, 1, 3, 4, 5, 7, 1, 2, 3, 4, 8, 9, 10, 4, 4, 1, 8, 3, 4, 6, 7, 9, 7, 6, 9, 10, 1, 2, 6, 7, 8, 8, 2, 4, 8, 5, 5, 7, 1, 5, 8, 9, 10, 6, 3, 8, 1, 3, 5, 6, 1, 2, 3, 7, 8, 1, 2, 5, 6, 10, 1, 2, 3, 4, 5, 6, 9, 10, 4, 6, 1, 2, 7, 7, 3, 7, 9, 4, 3, 8, 1, 2, 3, 5, 7, 8, 9, 10, 10, 2, 7, 8, 2, 3, 6, 1, 2, 3, 6, 7, 8, 9, 1, 2, 3, 4, 6, 7, 8, 9, 3, 4, 5, 7, 9, 10, 4, 6, 7, 6, 1, 2, 3, 4, 5, 6, 7, 8, 9, 6, 5, 6, 1, 2, 3, 4, 5, 6, 7, 8, 9, 2, 3, 1, 1, 2, 3, 5, 6, 8, 2, 3, 5, 8, 10, 1, 2, 3, 4, 5, 6, 8, 9, 2, 4, 8, 10, 2, 3, 9, 1, 3, 1, 6, 1, 1, 2, 3, 4, 5, 6, 7, 8, 10, 1, 7, 1, 2, 3, 4, 5, 8, 1, 2, 3, 4, 6, 8, 9, 2, 3, 4, 6, 7, 8, 2, 9, 10, 2, 1, 2, 3, 4, 6, 7, 8, 9, 2, 4, 6, 10, 7, 7, 3, 5, 7, 4, 5, 6, 2, 3, 4, 6, 8, 9, 9, 1, 5, 9, 10, 1, 2, 3, 4, 5, 6, 7, 8, 9, 7, 3, 8, 1, 2, 3, 4, 6, 7, 8, 9, 10, 2, 3, 4, 9, 1, 3, 1, 2, 5, 10, 7, 8, 8, 4, 7, 8, 7, 1, 2, 4, 7, 8, 10, 5, 4, 1, 2, 3, 4, 5, 6, 7, 8, 9, 10, 2, 3, 4, 5, 7, 9, 10, 7, 3, 4, 9, 10, 2, 3, 2, 4, 6, 7, 10, 8, 1, 3, 4, 6, 8, 9, 2, 6, 10, 1, 2, 4, 5, 6, 7, 8, 9, 9, 1, 2, 3, 4, 5, 6, 7, 8, 9, 10, 1, 2, 3, 4, 6, 7, 8, 9, 10, 3, 10, 1, 2, 3, 4, 5, 6, 7, 8, 9, 10, 7, 8, 3, 9, 2, 6, 10, 3, 1, 2, 3, 4, 5, 6, 8, 9, 10, 1, 2, 3, 4, 6, 7, 8, 9, 3, 5, 6, 7, 8, 9, 10, 6, 1, 2, 3, 4, 3, 9, 2, 5, 6, 1, 2, 4, 5, 6, 7, 8, 9, 10, 1, 2, 4, 5, 6, 8, 9, 10, 1, 2, 3, 4, 5, 6, 7, 8, 9, 10, 3, 4, 5, 7, 1, 7, 9, 1, 2, 3, 4, 5, 6, 7, 8, 10, 2, 4, 9, 4, 1, 4, 5, 6, 8, 9, 6, 1, 2, 4, 9, 3, 2, 4, 10, 1, 3, 7, 8, 9, 1, 7, 8, 2, 7, 2, 5, 9, 9, 5, 6, 7, 8, 3, 6, 7, 8, 9, 1, 2, 3, 5, 6, 7, 8, 9, 10, 5, 6, 4, 7, 9, 4, 5, 10, 4, 10, 6, 7, 9, 1, 2, 3, 6, 7, 8, 9, 10, 4, 4, 10, 1, 2, 3, 5, 7, 10, 9, 8, 6, 8, 10, 6, 3, 4, 2, 3, 7, 10, 2, 3, 4, 6, 8, 4, 10, 3, 2, 3, 4, 8, 9, 1, 2, 3, 4, 6, 7, 8, 9, 1, 2, 7, 9, 1, 2, 3, 4, 8, 1, 2, 3, 4, 6, 1, 2, 3, 4, 5, 7, 8, 10, 2, 3, 4, 5, 6, 8, 9, 10, 10], \"Freq\": [0.8647321476117268, 0.10809151845146585, 0.658118207007112, 0.17948678372921234, 0.05982892790973745, 0.05982892790973745, 0.05982892790973745, 0.8284461844085352, 0.8548551434461319, 0.886144378638055, 0.188232962001296, 0.164703841751134, 0.164703841751134, 0.094116481000648, 0.047058240500324, 0.164703841751134, 0.070587360750486, 0.070587360750486, 0.070587360750486, 0.23270026865593874, 0.11635013432796937, 0.5817506716398468, 0.7626826163848303, 0.09206089232085073, 0.18412178464170145, 0.6444262462459551, 0.7145545371238808, 0.10823070541109121, 0.32469211623327365, 0.1515229875755277, 0.10823070541109121, 0.04329228216443649, 0.1948152697399642, 0.021646141082218243, 0.04329228216443649, 0.021646141082218243, 0.9079206208969656, 0.0378300258707069, 0.0378300258707069, 0.8475087874371924, 0.7616863240577257, 0.038084316202886284, 0.15233726481154514, 0.038084316202886284, 0.8389175671475299, 0.1198453667353614, 0.9564995911651316, 0.8384610556148653, 0.8549745652852417, 0.6868638098402476, 0.19624680281149934, 0.6428493332508619, 0.8863540041438255, 0.1297973474962412, 0.1095165119499535, 0.09734801062218089, 0.09734801062218089, 0.15413435015178642, 0.13790968171475626, 0.10546034484069597, 0.07301100796663568, 0.0648986737481206, 0.0324493368740603, 0.10557396460575734, 0.8445917168460587, 0.18586720957594235, 0.7434688383037694, 0.19806075524991282, 0.21528342961947045, 0.060279360293451725, 0.11194738340212464, 0.008611337184778817, 0.008611337184778817, 0.12055872058690345, 0.03444534873911527, 0.2325061039890281, 0.7930219562013472, 0.9403203720134714, 0.047016018600673566, 0.8039013369100352, 0.1507315006706316, 0.0502438335568772, 0.7627768037227686, 0.6348451304440416, 0.9154350995613525, 0.7896962460500379, 0.6350367756331102, 0.6607118265884946, 0.22368379975144445, 0.2796047496893056, 0.33552569962716666, 0.11184189987572223, 0.8829283515818361, 0.9116402744528089, 0.8065301742773899, 0.11124554127963998, 0.05562277063981999, 0.027811385319909995, 0.7924576528702211, 0.1585545635507586, 0.6870697753866205, 0.05285152118358619, 0.05285152118358619, 0.6921097719355331, 0.24718206140554758, 0.04943641228110951, 0.7123366976502786, 0.16674223431174431, 0.08337111715587216, 0.7503400544028493, 0.04638687341626152, 0.0579835917703269, 0.5914326360573344, 0.0579835917703269, 0.01159671835406538, 0.02319343670813076, 0.1159671835406538, 0.02319343670813076, 0.06958031012439228, 0.11253793278477835, 0.04823054262204786, 0.41799803605774816, 0.12861478032546098, 0.17684532294750882, 0.032153695081365244, 0.032153695081365244, 0.032153695081365244, 0.016076847540682622, 0.6584894521868121, 0.2351748043524329, 0.09406992174097316, 0.7956098849279247, 0.7453425700716219, 0.062111880839301824, 0.031055940419650912, 0.062111880839301824, 0.062111880839301824, 0.031055940419650912, 0.8140215441358235, 0.04748459007458971, 0.08818566728138089, 0.013567025735597059, 0.03391756433899265, 0.6428368339229716, 0.7685691205850874, 0.20495176548935665, 0.8170140730774883, 0.05446760487183255, 0.05446760487183255, 0.9316041683673327, 0.04050452905944925, 0.7142999328735209, 0.32902731406997016, 0.08225682851749254, 0.49354097110495526, 0.023124346620159098, 0.023124346620159098, 0.046248693240318196, 0.6706060519846139, 0.0693730398604773, 0.09249738648063639, 0.0693730398604773, 0.2920219236041012, 0.21901644270307588, 0.03650274045051265, 0.1460109618020506, 0.2555191831535885, 0.03650274045051265, 0.9139706284274315, 0.041544119473974156, 0.027696079649316106, 0.7623695162652078, 0.8380864628778458, 0.11972663755397797, 0.9360399273513312, 0.8494003840715021, 0.30169579790159606, 0.05485378143665383, 0.4936840329298845, 0.08228067215498075, 0.027426890718326914, 0.027426890718326914, 0.027426890718326914, 0.10092167674196752, 0.10092167674196752, 0.20184335348393503, 0.6055300604518051, 0.04346372771464875, 0.04346372771464875, 0.10865931928662188, 0.6302240518624069, 0.0869274554292975, 0.04346372771464875, 0.021731863857324375, 0.8828552081665563, 0.08945490347399071, 0.32800131273796596, 0.17890980694798142, 0.029818301157996906, 0.23854640926397525, 0.11927320463198762, 0.028386249451474357, 0.14193124725737177, 0.1987037461603205, 0.17031749670884613, 0.08515874835442307, 0.28386249451474355, 0.05677249890294871, 0.8957915528044336, 0.9574551773078311, 0.8332598603289361, 0.8834548365052793, 0.8892121100051613, 0.917013542578242, 0.6574861326084169, 0.15870354925030752, 0.02267193560718679, 0.04534387121437358, 0.06801580682156037, 0.02267193560718679, 0.06421509429389836, 0.6421509429389837, 0.06421509429389836, 0.06421509429389836, 0.12843018858779673, 0.6360899252483104, 0.8967305408465241, 0.07472754507054367, 0.1486125529479968, 0.8173690412139824, 0.8813105259067068, 0.08174313717963207, 0.6948166660268725, 0.08174313717963207, 0.04087156858981603, 0.04087156858981603, 0.05885198525453987, 0.029425992627269935, 0.11770397050907974, 0.25012093733179447, 0.014712996313634968, 0.1324169668227147, 0.38253790415450917, 0.6585965968157607, 0.8687334465338374, 0.10859168081672968, 0.07512635983106508, 0.15025271966213016, 0.3005054393242603, 0.07512635983106508, 0.3756317991553254, 0.6607180827163284, 0.7126126631320697, 0.9156900436331724, 0.9206952621059508, 0.8887941138701213, 0.642873095431779, 0.1467832497722435, 0.47704556175979135, 0.07339162488612175, 0.036695812443060874, 0.25687068710142613, 0.9435804125201702, 0.21344133955550953, 0.10672066977775477, 0.6403240186665287, 0.2588284781233812, 0.22185298124861247, 0.11092649062430623, 0.03697549687476874, 0.07395099374953748, 0.2958039749981499, 0.06006517267208643, 0.20021724224028808, 0.08008689689611523, 0.18019551801625927, 0.4805213813766914, 0.7929895806710954, 0.9360426924062137, 0.17425921659551236, 0.11275596367944916, 0.22551192735889833, 0.07175379506874038, 0.16400867444283515, 0.14350759013748077, 0.04100216861070879, 0.010250542152677197, 0.030751626458031592, 0.051252710763385986, 0.9476022211755618, 0.725036472761037, 0.05800291782088296, 0.02900145891044148, 0.02900145891044148, 0.11600583564176592, 0.02900145891044148, 0.735031000323628, 0.03418748838714549, 0.17093744193572744, 0.03418748838714549, 0.017093744193572746, 0.587596905971487, 0.24972868503788195, 0.029379845298574347, 0.014689922649287174, 0.04406976794786152, 0.04406976794786152, 0.08434441826676689, 0.8434441826676689, 0.047799843256242966, 0.047799843256242966, 0.047799843256242966, 0.047799843256242966, 0.09559968651248593, 0.047799843256242966, 0.2867990595374578, 0.2867990595374578, 0.047799843256242966, 0.6586190759262759, 0.02640660876893405, 0.03960991315340107, 0.3168793052272086, 0.5149288709942139, 0.03960991315340107, 0.0528132175378681, 0.03617296950777136, 0.8962858000258903, 0.02009609417098409, 0.01607687533678727, 0.028134531839377724, 0.6937626519152656, 0.18872579880308063, 0.07863574950128359, 0.12581719920205375, 0.31454299800513436, 0.11009004930179703, 0.03145429980051344, 0.03145429980051344, 0.07863574950128359, 0.8948307153720139, 0.06391647966942957, 0.7624849130431076, 0.14251773809356275, 0.4809973660657743, 0.035629434523390686, 0.017814717261695343, 0.017814717261695343, 0.05344415178508603, 0.035629434523390686, 0.1959618898786488, 0.017814717261695343, 0.8446494815221895, 0.8733816257760646, 0.10745047618011407, 0.8596038094409125, 0.9475773924741273, 0.13460229571328594, 0.08973486380885728, 0.04486743190442864, 0.628144046662001, 0.04486743190442864, 0.7921300848417634, 0.18359885673091322, 0.3977975229169786, 0.061199618910304406, 0.09179942836545661, 0.030599809455152203, 0.18359885673091322, 0.06359190366429322, 0.06359190366429322, 0.2543676146571729, 0.12718380732858645, 0.06359190366429322, 0.31795951832146613, 0.06359190366429322, 0.1340788321763047, 0.7776572266225673, 0.05363153287052188, 0.02681576643526094, 0.01920627045355185, 0.13444389317486297, 0.7618487279908901, 0.0640209015118395, 0.012804180302367902, 0.20521260994121784, 0.16417008795297428, 0.22573387093533964, 0.020521260994121784, 0.08208504397648714, 0.04104252198824357, 0.16417008795297428, 0.020521260994121784, 0.08208504397648714, 0.8548296179992637, 0.9116474661396984, 0.7639940221692976, 0.4574714206810914, 0.8548383822331482, 0.1150171277736596, 0.6901027666419576, 0.1150171277736596, 0.2612763358839278, 0.6531908397098194, 0.1306381679419639, 0.7626736280093052, 0.09786205116750236, 0.09786205116750236, 0.5871723070050142, 0.09786205116750236, 0.04893102558375118, 0.09786205116750236, 0.8471346357172943, 0.04896784454320065, 0.01632261484773355, 0.3917427563456052, 0.01632261484773355, 0.01632261484773355, 0.42438798604107225, 0.08161307423866775, 0.9435099519250598, 0.7922252641428826, 0.3291785645278278, 0.46084999033895885, 0.13167142581113112, 0.4571516666530355, 0.03418020441044499, 0.10254061323133497, 0.7519644970297898, 0.03418020441044499, 0.03418020441044499, 0.03418020441044499, 0.03418020441044499, 0.1643711549237588, 0.6574846196950352, 0.792217468154233, 0.746237027051741, 0.1492474054103482, 0.7123526144014096, 0.6602596685703472, 0.16995432913143554, 0.056651443043811846, 0.39656010130668295, 0.11330288608762369, 0.056651443043811846, 0.19828005065334148, 0.09560657688382719, 0.047803288441913595, 0.2151147979886112, 0.19121315376765438, 0.047803288441913595, 0.09560657688382719, 0.2868197306514816, 0.6361850997367172, 0.9888147213772344, 0.8450800471045675, 0.8733841628957095, 0.9654174773749955, 0.0689478164094598, 0.8273737969135175, 0.0689478164094598, 0.8594571346829942, 0.12851561920730564, 0.042838539735768545, 0.08567707947153709, 0.12851561920730564, 0.042838539735768545, 0.471223937093454, 0.042838539735768545, 0.042838539735768545, 0.714325133081503, 0.6607411772582064, 0.9158352405945758, 0.7954027152895929, 0.045134763054122604, 0.3008984203608174, 0.21062889425257217, 0.12035936814432695, 0.030089842036081737, 0.10531444712628608, 0.1504492101804087, 0.015044921018040868, 0.9551651397310061, 0.10347259791756827, 0.051736298958784135, 0.7243081854229779, 0.10347259791756827, 0.8478724386796567, 0.12136171620623357, 0.10297357738710727, 0.10665120515093253, 0.09194069409563149, 0.15078273831683564, 0.13974985502535986, 0.11032883291475779, 0.0735525552765052, 0.06987492751267993, 0.029421022110602078, 0.40397584180209956, 0.1795448185787109, 0.08977240928935545, 0.2693172278680664, 0.08977240928935545, 0.7627431880228879, 0.854815961712073, 0.8828721727306497, 0.7146428331222167, 0.8485105695649743, 0.8485306418048598, 0.17822480125390625, 0.712899205015625, 0.1392937570077559, 0.2785875140155118, 0.5571750280310236, 0.8888572403484473, 0.7133284582016908, 0.07133284582016908, 0.07133284582016908, 0.07133284582016908, 0.7125285873550179, 0.7954730881413359, 0.41975961274452167, 0.29919036227535056, 0.14736241724009805, 0.026793166770926916, 0.0312586945660814, 0.013396583385463458, 0.008931055590308972, 0.026793166770926916, 0.004465527795154486, 0.017862111180617944, 0.694920854822237, 0.2672772518547065, 0.13206764785302483, 0.08804509856868321, 0.04402254928434161, 0.04402254928434161, 0.13206764785302483, 0.13206764785302483, 0.04402254928434161, 0.35218039427473286, 0.7618746372873871, 0.04504834496309408, 0.6757251744464112, 0.060064459950792105, 0.10511280491388618, 0.015016114987698026, 0.04504834496309408, 0.04504834496309408, 0.8876455538768123, 0.196247088308543, 0.07359265811570363, 0.024530886038567876, 0.392494176617086, 0.12265443019283938, 0.14718531623140726, 0.024530886038567876, 0.024530886038567876, 0.7123594072791999, 0.7127564089502602, 0.6938373774511611, 0.9154335382800282, 0.22808561513375897, 0.10263852681019153, 0.0912342460535036, 0.2622984574038228, 0.03421284227006385, 0.07982996529681564, 0.0456171230267518, 0.0456171230267518, 0.03421284227006385, 0.0684256845401277, 0.11180039090794021, 0.559001954539701, 0.14906718787725362, 0.037266796969313405, 0.11180039090794021, 0.037266796969313405, 0.03724210427392561, 0.09310526068481402, 0.05586315641088842, 0.6517368247936982, 0.018621052136962805, 0.05586315641088842, 0.018621052136962805, 0.05586315641088842, 0.6429311382965216, 0.7143468265983169, 0.9360402610379966, 0.209340394655236, 0.6280211839657079, 0.104670197327618, 0.8234587497555583, 0.051466171859722395, 0.051466171859722395, 0.051466171859722395, 0.16997854385174888, 0.10998611660995515, 0.009998737873632287, 0.18997601959901345, 0.06999116511542601, 0.11998485448358745, 0.1499810681044843, 0.019997475747264574, 0.0799899029890583, 0.0799899029890583, 0.1297772392595527, 0.19466585888932905, 0.08651815950636847, 0.2811840183956975, 0.021629539876592118, 0.021629539876592118, 0.043259079753184236, 0.043259079753184236, 0.17303631901273694, 0.13394691207810552, 0.04464897069270184, 0.558112133658773, 0.02232448534635092, 0.24556933880986015, 0.8143065998537852, 0.17449427139723966, 0.8548283782092796, 0.922034408445721, 0.9030841488497422, 0.7639946579144792, 0.6585907092902918, 0.026153001433175758, 0.052306002866351516, 0.7845900429952727, 0.07845900429952728, 0.052306002866351516, 0.14137332805028696, 0.07068666402514348, 0.14137332805028696, 0.14137332805028696, 0.3534333201257174, 0.07068666402514348, 0.07068666402514348, 0.8166293106036634, 0.054441954040244225, 0.10888390808048845, 0.1775376631137898, 0.07890562805057325, 0.41425454726550953, 0.059179221037929934, 0.1578112561011465, 0.059179221037929934, 0.03945281402528662, 0.01972640701264331, 0.63506598857074, 0.6607182604672601, 0.7144610475781926, 0.03698541554220342, 0.03698541554220342, 0.5177958175908479, 0.07397083108440684, 0.2958833243376274, 0.03698541554220342, 0.05004960459773681, 0.10009920919547362, 0.10009920919547362, 0.05004960459773681, 0.05004960459773681, 0.10009920919547362, 0.6005952551728417, 0.9435803636070754, 0.9435754473049037, 0.7436790380144563, 0.057206079847265875, 0.057206079847265875, 0.11441215969453175, 0.057206079847265875, 0.11484097976516597, 0.8038868583561617, 0.6350674202849066, 0.10097556321023395, 0.02019511264204679, 0.22214623906251468, 0.34331691491479543, 0.10097556321023395, 0.10097556321023395, 0.02019511264204679, 0.06058533792614037, 0.02019511264204679, 0.9360384306532198, 0.9360313818873822, 0.7123425567032979, 0.8889860367679325, 0.838446072528265, 0.7145062641877425, 0.8007673119251174, 0.16015346238502348, 0.15342282973810886, 0.357986602722254, 0.11932886757408467, 0.017046981082012098, 0.05114094324603629, 0.017046981082012098, 0.034093962164024195, 0.08523490541006049, 0.06818792432804839, 0.10228188649207258, 0.37103358779693707, 0.2120191930268212, 0.0530047982567053, 0.3180287895402318, 0.9499155216911608, 0.7145224069086842, 0.09548882061566964, 0.16710543607742187, 0.16710543607742187, 0.04774441030783482, 0.04774441030783482, 0.07161661546175223, 0.4535718979244308, 0.08492718457292528, 0.16985436914585056, 0.16985436914585056, 0.5095631074375517, 0.4220642722061195, 0.12661928166183584, 0.021103213610305975, 0.021103213610305975, 0.10551606805152987, 0.10551606805152987, 0.04220642722061195, 0.04220642722061195, 0.0844128544412239, 0.021103213610305975, 0.854838253683893, 0.8548186357655477, 0.21388140513373788, 0.6416442154012136, 0.8814482919059945, 0.08814482919059945, 0.832877104538622, 0.151432200825204, 0.4571858746584263, 0.07047204057825936, 0.24665214202390776, 0.1409440811565187, 0.07047204057825936, 0.10570806086738903, 0.03523602028912968, 0.24665214202390776, 0.8332413321408065, 0.6586454772103298, 0.6586076475802886, 0.18408515899214214, 0.12272343932809476, 0.06136171966404738, 0.5522554769764264, 0.6586253382650065, 0.17665608915884629, 0.15141950499329682, 0.15141950499329682, 0.02523658416554947, 0.07570975249664841, 0.05047316833109894, 0.12618292082774735, 0.17665608915884629, 0.10094633666219788, 0.7320796081526199, 0.18301990203815496, 0.8735029978777717, 0.9072361809051377, 0.6611778963743651, 0.7960379511971744, 0.7124996963764944, 0.795309861262972, 0.6681521557154022, 0.2227173852384674, 0.12022643315255692, 0.12022643315255692, 0.08015095543503795, 0.12022643315255692, 0.5209812103277466, 0.04007547771751897, 0.04940132954749394, 0.3211086420587106, 0.04940132954749394, 0.3705099716062046, 0.04940132954749394, 0.12350332386873485, 0.02470066477374697, 0.9676257463918752, 0.018257089554563684, 0.7350129632613129, 0.12250216054355216, 0.06005507686573382, 0.9308536914188742, 0.6350573777263981, 0.12058552073722333, 0.06029276036861166, 0.06029276036861166, 0.06029276036861166, 0.12058552073722333, 0.12058552073722333, 0.42204932258028166, 0.7954990415327129, 0.03082550755730578, 0.4623826133595867, 0.18495304534383467, 0.03082550755730578, 0.1541275377865289, 0.12330203022922312, 0.23485847060196763, 0.35478620027105745, 0.12492471840530192, 0.09494278598802947, 0.064960853570757, 0.03997590988969662, 0.03497892115348454, 0.009993977472424155, 0.03497892115348454, 0.5492279520993599, 0.22312385554036496, 0.08581686751552499, 0.017163373503104998, 0.06007180726086749, 0.025745060254657497, 0.017163373503104998, 0.017163373503104998, 0.008581686751552499, 0.3391789243956286, 0.12113533014129593, 0.07268119808477756, 0.12113533014129593, 0.19381652822607348, 0.04845413205651837, 0.024227066028259185, 0.07268119808477756, 0.8830019166612791, 0.23365044560611628, 0.5841261140152907, 0.11682522280305814, 0.9088535752474215, 0.11955805518054963, 0.08966854138541222, 0.5380112483124734, 0.029889513795137407, 0.14944756897568703, 0.059779027590274814, 0.037577324786546074, 0.07515464957309215, 0.6388145213712833, 0.1503092991461843, 0.037577324786546074, 0.037577324786546074, 0.04794519854647358, 0.04794519854647358, 0.6712327796506302, 0.09589039709294717, 0.04794519854647358, 0.04794519854647358, 0.028809534800486487, 0.17285720880291894, 0.5185716264087568, 0.028809534800486487, 0.08642860440145947, 0.08642860440145947, 0.057619069600972975, 0.3349189902987001, 0.2038637332252957, 0.05824678092151306, 0.1601786475341609, 0.014561695230378265, 0.014561695230378265, 0.014561695230378265, 0.11649356184302612, 0.043685085691134794, 0.02912339046075653, 0.13704664458578172, 0.022841107430963622, 0.13704664458578172, 0.13704664458578172, 0.06852332229289086, 0.2512521817405998, 0.20556996687867257, 0.795830488941697, 0.9475847612923803, 0.8068796060556455, 0.1613759212111291, 0.035019493481259246, 0.24513645436881473, 0.24513645436881473, 0.056031189570014794, 0.014007797392503699, 0.007003898696251849, 0.22412475828005918, 0.056031189570014794, 0.09105068305127405, 0.021011696088755548, 0.8957992853009241, 0.22323870228240567, 0.33485805342360847, 0.3906677289942099, 0.10752818780939447, 0.21505637561878893, 0.05376409390469723, 0.10752818780939447, 0.05376409390469723, 0.05376409390469723, 0.05376409390469723, 0.32258456342818337, 0.7144507312830298, 0.9360438656502074, 0.22085045802781, 0.7729766030973351, 0.8857899551416912, 0.8908470301869483, 0.6350130175785333, 0.9360406158781085, 0.07104666088888165, 0.23343902863489682, 0.1826914137142671, 0.13194379879363732, 0.040598091936503794, 0.12179427580951138, 0.05074761492062974, 0.06089713790475569, 0.08119618387300759, 0.05074761492062974, 0.9823541068662671, 0.7126162686000987, 0.8828687538140735, 0.6360919537215535, 0.7918214594440027, 0.06334314879145071, 0.5067451903316057, 0.22170102077007747, 0.06334314879145071, 0.09501472318717606, 0.031671574395725356, 0.9573899421738277, 0.8758046894721907, 0.9122257512041819, 0.03378613893348822, 0.9762166732304213, 0.7624791068556754, 0.8464143320362181, 0.0423207166018109, 0.0846414332036218, 0.9412785719687076, 0.04706392859843538, 0.8828222220479561, 0.8733802928159512, 0.7621079468642655, 0.7598362209324409, 0.10854803156177727, 0.14856028138906252, 0.7428014069453126, 0.07428014069453126, 0.6344391294311246, 0.05286992745259372, 0.14098647320691657, 0.05286992745259372, 0.05286992745259372, 0.05286992745259372, 0.2818094049597833, 0.15174352574757563, 0.411875284171991, 0.06503293960610383, 0.021677646535367946, 0.04335529307073589, 0.021677646535367946, 0.7866261058077617, 0.15346763947550257, 0.7673381973775129, 0.04799408014535873, 0.6719171220350223, 0.14398224043607621, 0.09598816029071747, 0.04799408014535873, 0.7144663193234981, 0.8733956507489532, 0.6606976214279053, 0.7898457648420756, 0.7143500967483664, 0.9434229847629998, 0.10897033411104474, 0.10897033411104474, 0.6538220046662685, 0.0703606044838542, 0.05277045336289064, 0.10554090672578129, 0.5277045336289065, 0.05277045336289064, 0.0351803022419271, 0.12313105784674484, 0.05277045336289064, 0.8051216303435339, 0.8828780147894993, 0.1049134566475575, 0.4721105549140087, 0.209826913295115, 0.1049134566475575, 0.05245672832377875, 0.026228364161889374, 0.05245672832377875, 0.7624076253374622, 0.8340514656334413, 0.12831561009745251, 0.9492291342418142, 0.869436947006606, 0.04908111797617937, 0.014023176564622677, 0.014023176564622677, 0.04206952969386803, 0.11635902253543742, 0.36569978511137474, 0.016622717505062487, 0.08311358752531244, 0.4155679376265622, 0.8403283718584603, 0.07639348835076912, 0.854837803761804, 0.023869964184428338, 0.31030953439756837, 0.023869964184428338, 0.047739928368856675, 0.14321978510657002, 0.047739928368856675, 0.047739928368856675, 0.14321978510657002, 0.09547985673771335, 0.11934982092214168, 0.11413868514912306, 0.25110510732807073, 0.10272481663421076, 0.21686350178333383, 0.034241605544736924, 0.07989707960438615, 0.05706934257456153, 0.07989707960438615, 0.06848321108947385, 0.358507429875239, 0.1792537149376195, 0.3259158453411264, 0.032591584534112636, 0.032591584534112636, 0.048887376801168954, 0.17385147344130636, 0.15453464305893896, 0.057950491147102115, 0.19316830382367373, 0.07726732152946948, 0.09658415191183686, 0.03863366076473474, 0.01931683038236737, 0.057950491147102115, 0.1352178126765716, 0.04298960679737518, 0.945771349542254, 0.7918357700735676, 0.08018343681150414, 0.28064202884026446, 0.08018343681150414, 0.08018343681150414, 0.48110062086902483, 0.16435692593402612, 0.06574277037361044, 0.09861415556041567, 0.295842466681247, 0.09861415556041567, 0.03287138518680522, 0.23009969630763655, 0.9675566402201312, 0.9465854071459096, 0.9622820462951533, 0.04183834983891971, 0.6998099732493976, 0.04373812332808735, 0.21869061664043676, 0.021869061664043676, 0.021869061664043676, 0.8554193640108322, 0.15285935547304522, 0.15285935547304522, 0.6114374218921809, 0.07038502288851196, 0.7038502288851196, 0.07038502288851196, 0.07038502288851196, 0.07038502288851196, 0.6582144558887494, 0.03835734140263245, 0.8438615108579138, 0.0767146828052649, 0.6361122276277799, 0.8344127816149669, 0.1668825563229934, 0.2547952401283445, 0.08493174670944817, 0.08493174670944817, 0.4246587335472408, 0.08493174670944817, 0.7626875114409515, 0.3183245299214092, 0.5305408832023487, 0.647990732879965, 0.21599691095998833, 0.035999485159998054, 0.07199897031999611, 0.7914764874657932, 0.0965215228616821, 0.03860860914467284, 0.03860860914467284, 0.01930430457233642, 0.7286442206776939, 0.13878937536717978, 0.06939468768358989, 0.034697343841794945, 0.4571632954543161, 0.04164867394307049, 0.12494602182921145, 0.20824336971535243, 0.1874190327438172, 0.08329734788614097, 0.16659469577228195, 0.14577035880074668, 0.020824336971535243, 0.9465916102500967, 0.7620167242174047, 0.0515331760905435, 0.9275971696297831, 0.02576658804527175, 0.8548156420579331, 0.7980250843715877, 0.13300418072859796, 0.7863076879619255, 0.886471442427603, 0.8472814238617127, 0.8733800671386811, 0.06281562256264875, 0.14656978597951376, 0.1256312451252975, 0.10469270427108125, 0.010469270427108126, 0.041877081708432504, 0.50252498050119, 0.010469270427108126, 0.45748016292809457, 0.7123421603602339, 0.6428618738122437, 0.8733944153431792, 0.24816782323397515, 0.12408391161698758, 0.6204195580849379, 0.0700982401632248, 0.17023858325354596, 0.2803929606528992, 0.02002806861806423, 0.36050523512515614, 0.06008420585419269, 0.030042102927096345, 0.14882854622820169, 0.0850448835589724, 0.20198159845255945, 0.4677468595743482, 0.0212612208897431, 0.0212612208897431, 0.0212612208897431, 0.03189183133461465, 0.1913103914151995, 0.1913103914151995, 0.06377013047173317, 0.06377013047173317, 0.382620782830399, 0.06377013047173317, 0.7976129877635009, 0.14955243520565642, 0.049850811735218804, 0.6350646694104243, 0.059377068948732056, 0.04453280171154904, 0.029688534474366028, 0.04453280171154904, 0.2078197413205622, 0.1039098706602811, 0.014844267237183014, 0.029688534474366028, 0.47501655158985645, 0.6350666054641549, 0.6361937783514957, 0.762733391498853, 0.02635003189353913, 0.3820754624563174, 0.1581001913612348, 0.14492517541446523, 0.06587507973384783, 0.02635003189353913, 0.09222511162738696, 0.02635003189353913, 0.09222511162738696, 0.019605146057940826, 0.9606521568391004, 0.8122027595981508, 0.5031607631656037, 0.03144754769785023, 0.03144754769785023, 0.34592302467635255, 0.03144754769785023, 0.03144754769785023, 0.09974621321118757, 0.7480965990839068, 0.049873106605593784, 0.049873106605593784, 0.049873106605593784, 0.02030139037105056, 0.17932894827761328, 0.3924935471736442, 0.013534260247367041, 0.016917825309208802, 0.03721921568025936, 0.27745233507102435, 0.06090417111315168, 0.044797001230264345, 0.761549020914494, 0.08959400246052869, 0.044797001230264345, 0.2109405141175707, 0.2109405141175707, 0.5273512852939267, 0.8987528675627714, 0.047302782503303754, 0.9500993202276653, 0.6350330461678962, 0.9503027400358981, 0.6261817612239315, 0.0695757512471035, 0.0556606009976828, 0.0139151502494207, 0.0695757512471035, 0.0417454507482621, 0.0834909014965242, 0.0278303004988414, 0.0139151502494207, 0.20944862019132937, 0.6283458605739881, 0.1842212913716573, 0.15072651112226504, 0.5861586543643641, 0.016747390124696115, 0.03349478024939223, 0.016747390124696115, 0.1325388495185085, 0.265077699037017, 0.15904661942221018, 0.07952330971110509, 0.07952330971110509, 0.15904661942221018, 0.07952330971110509, 0.05061507105639162, 0.10123014211278324, 0.20246028422556647, 0.15184521316917485, 0.05061507105639162, 0.40492056845113295, 0.15379264452382235, 0.07689632226191118, 0.7689632226191118, 0.7143254850051545, 0.04649837575320356, 0.16274431513621243, 0.18599350301281423, 0.3022394423958231, 0.18599350301281423, 0.04649837575320356, 0.04649837575320356, 0.02324918787660178, 0.08369124027596672, 0.25107372082790014, 0.08369124027596672, 0.585838681931767, 0.9809913096553196, 0.6433863563698151, 0.12615479394420315, 0.7569287636652189, 0.8548546487964335, 0.2280965505283108, 0.1140482752641554, 0.6842896515849324, 0.053810581751998696, 0.4573899448919889, 0.08071587262799805, 0.08071587262799805, 0.1614317452559961, 0.1614317452559961, 0.786388913093378, 0.31797334572470176, 0.10599111524156725, 0.47696001858705267, 0.052995557620783625, 0.06608072411794032, 0.07929686894152838, 0.13876952064767467, 0.15859373788305675, 0.15198566547126274, 0.06608072411794032, 0.2907551861189374, 0.013216144823588063, 0.026432289647176126, 0.9907678395999299, 0.7920539015176222, 0.9476291151523524, 0.021310920160506876, 0.021310920160506876, 0.40490748304963065, 0.021310920160506876, 0.06393276048152062, 0.10655460080253437, 0.021310920160506876, 0.04262184032101375, 0.2770419620865894, 0.857390793904807, 0.10717384923810087, 0.8710906440017275, 0.10888633050021594, 0.9419330615320481, 0.982949752209134, 0.8066522149950546, 0.06205017038423497, 0.06205017038423497, 0.031025085192117486, 0.13241908316194018, 0.7945144989716411, 0.6586188309155879, 0.11675010977869672, 0.7005006586721804, 0.11675010977869672, 0.9694796564052132, 0.09760996197680238, 0.05167586222301303, 0.0057417624692236695, 0.0057417624692236695, 0.8325555580374322, 0.0057417624692236695, 0.9762242849851543, 0.7926979498511896, 0.10543013311943378, 0.08626101800680945, 0.009584557556312162, 0.41213597492142295, 0.009584557556312162, 0.23002938135149187, 0.009584557556312162, 0.06709190289418514, 0.05750734533787297, 0.009584557556312162, 0.1439760347071789, 0.6478921561823051, 0.023996005784529817, 0.023996005784529817, 0.07198801735358945, 0.047992011569059634, 0.023996005784529817, 0.7723325756641995, 0.8281444136565346, 0.11830634480807636, 0.7955897796654346, 0.8383549316421267, 0.07375967860139668, 0.8851161432167601, 0.1645118221114968, 0.46063310191219103, 0.06580472884459872, 0.06580472884459872, 0.23031655095609552, 0.8733802363966227, 0.07193651800990399, 0.03596825900495199, 0.17984129502475996, 0.4316191080594239, 0.21580955402971194, 0.07193651800990399, 0.2886134766413577, 0.5772269532827154, 0.09620449221378591, 0.05319772442428597, 0.1595931732728579, 0.10639544884857194, 0.026598862212142985, 0.026598862212142985, 0.05319772442428597, 0.5053783820307167, 0.05319772442428597, 0.8854468879914814, 0.10578737811983255, 0.2115747562396651, 0.11901080038481161, 0.1586810671797488, 0.06611711132489534, 0.0793405335898744, 0.052893689059916274, 0.0396702667949372, 0.13223422264979068, 0.0396702667949372, 0.07737904870483543, 0.3288609569955506, 0.1644304784977753, 0.14508571632156644, 0.0967238108810443, 0.02901714326431329, 0.019344762176208858, 0.11606857305725315, 0.009672381088104429, 0.21888235168886389, 0.7113676429888076, 0.11431401848737845, 0.2429172892856792, 0.14289252310922307, 0.10002476617645614, 0.04286775693276692, 0.02857850462184461, 0.12860327079830075, 0.02857850462184461, 0.14289252310922307, 0.04286775693276692, 0.642726906324791, 0.9476093920062671, 0.9672679378536314, 0.6558604114468185, 0.04169065923953241, 0.04169065923953241, 0.9171945032697131, 0.7924169652628216, 0.12600815535765889, 0.567036699109465, 0.09450611651824417, 0.03150203883941472, 0.01575101941970736, 0.01575101941970736, 0.047253058259122085, 0.06300407767882944, 0.03150203883941472, 0.028057836604282738, 0.09820242811498958, 0.25252052943854464, 0.028057836604282738, 0.028057836604282738, 0.4910121405749479, 0.056115673208565475, 0.014028918302141369, 0.18301631887560293, 0.12201087925040195, 0.42703807737640687, 0.12201087925040195, 0.061005439625200976, 0.061005439625200976, 0.061005439625200976, 0.6350724836303007, 0.09357635385659828, 0.655034476996188, 0.163758619249047, 0.0701822653924487, 0.714378662003657, 0.6609275773565406, 0.2503025951115051, 0.12515129755575255, 0.6257564877787627, 0.19356089391946898, 0.09678044695973449, 0.09678044695973449, 0.06452029797315632, 0.06452029797315632, 0.12904059594631265, 0.09678044695973449, 0.22582104290604713, 0.03226014898657816, 0.0640809994568651, 0.048060749592648826, 0.6568302444328672, 0.1281619989137302, 0.048060749592648826, 0.016020249864216275, 0.016020249864216275, 0.03204049972843255, 0.09740504865565516, 0.30844932074290804, 0.08117087387971264, 0.04870252432782758, 0.09740504865565516, 0.11363922343159769, 0.016234174775942526, 0.11363922343159769, 0.08117087387971264, 0.04870252432782758, 0.0330613735846021, 0.01653068679230105, 0.01653068679230105, 0.9257184603688589, 0.010972400176525506, 0.9655712155342445, 0.010972400176525506, 0.20796687136916087, 0.1336929887373177, 0.17825731831642358, 0.044564329579105895, 0.07427388263184316, 0.07427388263184316, 0.029709553052737266, 0.014854776526368633, 0.25253120094826675, 0.06291526432411809, 0.8178984362135352, 0.12583052864823618, 0.9473769754903402, 0.1789347341650379, 0.07157389366601516, 0.5010172556621061, 0.07157389366601516, 0.14314778733203032, 0.03578694683300758, 0.7626169828321696, 0.06646002806023725, 0.3323001403011862, 0.06646002806023725, 0.531680224481898, 0.9543919519817198, 0.7256106764801361, 0.0806234084977929, 0.0806234084977929, 0.17026715370273982, 0.08513357685136991, 0.42566788425684954, 0.17026715370273982, 0.17026715370273982, 0.9500259064175941, 0.16532316283996473, 0.8266158141998237, 0.9073946785156491, 0.07890388508831732, 0.8511227403795071, 0.08511227403795071, 0.08511227403795071, 0.9226286867852376, 0.06810075058173679, 0.13620150116347357, 0.6810075058173679, 0.13620150116347357, 0.41112145828741353, 0.0274080972191609, 0.1918566805341263, 0.1918566805341263, 0.1644485833149654, 0.09552663869331464, 0.4093998801142056, 0.040939988011420556, 0.09552663869331464, 0.08187997602284111, 0.040939988011420556, 0.054586650681894076, 0.054586650681894076, 0.12281996403426167, 0.15918013611110296, 0.7959006805555149, 0.7734062705981464, 0.0859340300664607, 0.0859340300664607, 0.11398504935038029, 0.22797009870076057, 0.6839102961022817, 0.7145400243210565, 0.8828674130469889, 0.5956456869550393, 0.09927428115917321, 0.19854856231834642, 0.01742750079187822, 0.01742750079187822, 0.01742750079187822, 0.20913000950253866, 0.31369501425380797, 0.06971000316751289, 0.31369501425380797, 0.03485500158375644, 0.7921312653501847, 0.9208746384208467, 0.9435779066392187, 0.1301455674103293, 0.2342620213385927, 0.1301455674103293, 0.4424949291951195, 0.05205822696413171, 0.9227735453356276, 0.7950672841139452, 0.7929886941372273, 0.5770156594611567, 0.14425391486528918, 0.14425391486528918, 0.7627250193836422, 0.8280907832678233, 0.11829868332397475, 0.1637328892249878, 0.5379794931678171, 0.25729454021069514, 0.02339041274642683, 0.3269767842411455, 0.19073645747400153, 0.13624032676714395, 0.02724806535342879, 0.2997287188877167, 0.22846474514504617, 0.6853942354351384, 0.9236657464706318, 0.023508604794941927, 0.7992925630280255, 0.07836201598313976, 0.07836201598313976, 0.01567240319662795, 0.024436134383100914, 0.09774453753240366, 0.024436134383100914, 0.6842117627268256, 0.024436134383100914, 0.03665420157465137, 0.04887226876620183, 0.04887226876620183, 0.08301608516776908, 0.04150804258388454, 0.6641286813421526, 0.2075402129194227, 0.3050415144123732, 0.24403321152989857, 0.12201660576494928, 0.18302490864742393, 0.12201660576494928, 0.5969447319384168, 0.06783462862936554, 0.21707081161396974, 0.013566925725873109, 0.09496848008111176, 0.01347463753191743, 0.06737318765958715, 0.2964420257021835, 0.08084782519150459, 0.02694927506383486, 0.4446630385532752, 0.040423912595752294, 0.6935170179171193, 0.021351609249758274, 0.021351609249758274, 0.10675804624879137, 0.29892252949661585, 0.04270321849951655, 0.04270321849951655, 0.3843289664956489, 0.0854064369990331, 0.8382759861272014], \"Term\": [\"aat\", \"aat\", \"accordi\", \"accordi\", \"accordi\", \"accordi\", \"accordi\", \"accordy\", \"adays\", \"aendance\", \"al\", \"al\", \"al\", \"al\", \"al\", \"al\", \"al\", \"al\", \"al\", \"algebra\", \"algebra\", \"algebra\", \"aliecy\", \"alpha\", \"alpha\", \"alpha\", \"als\", \"also\", \"also\", \"also\", \"also\", \"also\", \"also\", \"also\", \"also\", \"also\", \"alth\", \"alth\", \"alth\", \"antoog\", \"applicatns\", \"applicatns\", \"applicatns\", \"applicatns\", \"applyi\", \"applyi\", \"apsical\", \"aqu\", \"arbar\", \"aregated\", \"aregated\", \"aributinternatnal\", \"arriva\", \"articial\", \"articial\", \"articial\", \"articial\", \"articial\", \"articial\", \"articial\", \"articial\", \"articial\", \"articial\", \"author\", \"author\", \"automate\", \"automate\", \"b\", \"b\", \"b\", \"b\", \"b\", \"b\", \"b\", \"b\", \"b\", \"bands\", \"bart\", \"bart\", \"baseline\", \"baseline\", \"baseline\", \"baths\", \"bauer\", \"beeat\", \"behral\", \"birth\", \"bob\", \"bollier\", \"bollier\", \"bollier\", \"bollier\", \"bonacci\", \"bone\", \"bor\", \"bor\", \"bor\", \"bor\", \"borvy\", \"br\", \"br\", \"br\", \"br\", \"breast\", \"breast\", \"breast\", \"brid\", \"bridge\", \"bridge\", \"bridge\", \"brownish\", \"brownish\", \"brownish\", \"brownish\", \"brownish\", \"brownish\", \"brownish\", \"brownish\", \"brownish\", \"c\", \"c\", \"c\", \"c\", \"c\", \"c\", \"c\", \"c\", \"c\", \"call\", \"call\", \"call\", \"calls\", \"cambridge\", \"cambridge\", \"cambridge\", \"cambridge\", \"cambridge\", \"cambridge\", \"cancer\", \"cancer\", \"cancer\", \"cancer\", \"cancer\", \"cape\", \"carcinoma\", \"carcinoma\", \"care\", \"care\", \"care\", \"carr\", \"carr\", \"cars\", \"cat\", \"cat\", \"cat\", \"cell\", \"cell\", \"cell\", \"cell\", \"cell\", \"cell\", \"cell\", \"chal\", \"chal\", \"chal\", \"chal\", \"chal\", \"chal\", \"chara\", \"chara\", \"chara\", \"chdreresearhospital\", \"christina\", \"christina\", \"chronic\", \"city\", \"co\", \"co\", \"co\", \"co\", \"co\", \"co\", \"co\", \"combine\", \"combine\", \"combine\", \"combine\", \"conference\", \"conference\", \"conference\", \"conference\", \"conference\", \"conference\", \"conference\", \"connsed\", \"consequently\", \"consequently\", \"consequently\", \"consequently\", \"consequently\", \"consequently\", \"consir\", \"consir\", \"consir\", \"consir\", \"consir\", \"consir\", \"consir\", \"consistent\", \"consumer\", \"contas\", \"content\", \"convolutnal\", \"corse\", \"corvee\", \"corvee\", \"corvee\", \"corvee\", \"corvee\", \"corvee\", \"cox\", \"cox\", \"cox\", \"cox\", \"cox\", \"cs\", \"cumulative\", \"cumulative\", \"cy\", \"cy\", \"cz\", \"da\", \"da\", \"da\", \"da\", \"da\", \"data\", \"data\", \"data\", \"data\", \"data\", \"data\", \"data\", \"datasets\", \"dawa\", \"dawa\", \"day\", \"day\", \"day\", \"day\", \"day\", \"dference\", \"dic\", \"disetnary\", \"doc\", \"dollars\", \"dor\", \"dow\", \"dow\", \"dow\", \"dow\", \"dow\", \"dowalma\", \"draw\", \"draw\", \"draw\", \"dt\", \"dt\", \"dt\", \"dt\", \"dt\", \"dt\", \"du\", \"du\", \"du\", \"du\", \"du\", \"duke\", \"dull\", \"e\", \"e\", \"e\", \"e\", \"e\", \"e\", \"e\", \"e\", \"e\", \"e\", \"eator\", \"eco\", \"eco\", \"eco\", \"eco\", \"eco\", \"eco\", \"economic\", \"economic\", \"economic\", \"economic\", \"economic\", \"economics\", \"economics\", \"economics\", \"economics\", \"economics\", \"economics\", \"elegant\", \"elegant\", \"em\", \"em\", \"em\", \"em\", \"em\", \"em\", \"em\", \"em\", \"em\", \"enhancement\", \"ep\", \"ep\", \"ep\", \"ep\", \"ep\", \"ep\", \"eq\", \"eq\", \"eq\", \"eq\", \"eq\", \"equati\", \"er\", \"er\", \"er\", \"er\", \"er\", \"er\", \"er\", \"er\", \"esophageal\", \"esophageal\", \"esscac\", \"et\", \"et\", \"et\", \"et\", \"et\", \"et\", \"et\", \"et\", \"et\", \"euros\", \"eveti\", \"exa\", \"exa\", \"executor\", \"faor\", \"faor\", \"faor\", \"faor\", \"faor\", \"fk\", \"formance\", \"formance\", \"formance\", \"formance\", \"formance\", \"formance\", \"framework\", \"framework\", \"framework\", \"framework\", \"framework\", \"framework\", \"framework\", \"fs\", \"fs\", \"fs\", \"fs\", \"ft\", \"ft\", \"ft\", \"ft\", \"ft\", \"furtr\", \"furtr\", \"furtr\", \"furtr\", \"furtr\", \"furtr\", \"furtr\", \"furtr\", \"furtr\", \"gariroberts\", \"gastric\", \"gate\", \"genlizat\", \"giveft\", \"gone\", \"gone\", \"gone\", \"good\", \"good\", \"good\", \"gr\", \"gra\", \"gra\", \"gra\", \"gra\", \"gra\", \"gra\", \"greefunrel\", \"gt\", \"gt\", \"gt\", \"gt\", \"gt\", \"gt\", \"gt\", \"guet\", \"guez\", \"gut\", \"gut\", \"gut\", \"halle\", \"hao\", \"hao\", \"hao\", \"hao\", \"hao\", \"hao\", \"hao\", \"hare\", \"hare\", \"hari\", \"harrisopli\", \"harrisopli\", \"harrisoreps\", \"hay\", \"hh\", \"hh\", \"hh\", \"hh\", \"hh\", \"hh\", \"ho\", \"ho\", \"ho\", \"ho\", \"ho\", \"ho\", \"ho\", \"homogeneous\", \"hts\", \"hul\", \"ibarrier\", \"id\", \"ieq\", \"ieq\", \"ieq\", \"ift\", \"ii\", \"ii\", \"ii\", \"ii\", \"ii\", \"ii\", \"ii\", \"ii\", \"ijournal\", \"imax\", \"industrial\", \"ineasi\", \"ined\", \"ined\", \"ined\", \"ined\", \"ined\", \"ined\", \"ined\", \"ined\", \"informattechnology\", \"initial\", \"initial\", \"initial\", \"initial\", \"inpennt\", \"intellence\", \"intellence\", \"intellence\", \"intellence\", \"intellence\", \"intellence\", \"intellence\", \"intellence\", \"intellence\", \"intellence\", \"inx\", \"inx\", \"inx\", \"inx\", \"inx\", \"iris\", \"isecond\", \"iterflat\", \"iu\", \"ix\", \"ixt\", \"iya\", \"iya\", \"jack\", \"jack\", \"jack\", \"jaguo\", \"jia\", \"jia\", \"jia\", \"jia\", \"jim\", \"jima\", \"journal\", \"journal\", \"journal\", \"journal\", \"journal\", \"journal\", \"journal\", \"journal\", \"journal\", \"journal\", \"kara\", \"kara\", \"kelly\", \"kelly\", \"kelly\", \"kelly\", \"kelly\", \"kelly\", \"kelly\", \"kelly\", \"kept\", \"ki\", \"ki\", \"ki\", \"ki\", \"ki\", \"ki\", \"ki\", \"kiit\", \"l\", \"l\", \"l\", \"l\", \"l\", \"l\", \"l\", \"l\", \"lak\", \"laura\", \"lc\", \"ld\", \"le\", \"le\", \"le\", \"le\", \"le\", \"le\", \"le\", \"le\", \"le\", \"le\", \"lea\", \"lea\", \"lea\", \"lea\", \"lea\", \"lea\", \"learni\", \"learni\", \"learni\", \"learni\", \"learni\", \"learni\", \"learni\", \"learni\", \"leonard\", \"less\", \"leukemia\", \"ley\", \"ley\", \"ley\", \"leymaka\", \"leymaka\", \"leymaka\", \"leymaka\", \"li\", \"li\", \"li\", \"li\", \"li\", \"li\", \"li\", \"li\", \"li\", \"li\", \"lia\", \"lia\", \"lia\", \"lia\", \"lia\", \"lia\", \"lia\", \"lia\", \"lia\", \"lib\", \"lib\", \"lib\", \"lib\", \"lib\", \"licancer\", \"licancer\", \"license\", \"lima\", \"limo\", \"lity\", \"live\", \"lli\", \"lli\", \"lli\", \"lli\", \"lli\", \"lmogorov\", \"lmogorov\", \"lmogorov\", \"lmogorov\", \"lmogorov\", \"lmogorov\", \"lmogorov\", \"lns\", \"lns\", \"lns\", \"lo\", \"lo\", \"lo\", \"lo\", \"lo\", \"lo\", \"lo\", \"lo\", \"load\", \"logistics\", \"lomercer\", \"lor\", \"lor\", \"lor\", \"lor\", \"lor\", \"lor\", \"loss\", \"loss\", \"loss\", \"loss\", \"loss\", \"loss\", \"loss\", \"lossg\", \"losstotal\", \"lov\", \"lov\", \"lov\", \"lov\", \"lov\", \"lta\", \"lta\", \"lter\", \"lu\", \"lu\", \"lu\", \"lu\", \"lu\", \"lu\", \"lu\", \"lu\", \"lu\", \"lymph\", \"lymphoma\", \"lz\", \"maez\", \"mag\", \"mall\", \"map\", \"map\", \"market\", \"market\", \"market\", \"market\", \"market\", \"market\", \"market\", \"market\", \"market\", \"market\", \"mars\", \"mars\", \"mars\", \"mars\", \"matcs\", \"maw\", \"max\", \"max\", \"max\", \"max\", \"max\", \"max\", \"max\", \"maximum\", \"maximum\", \"maximum\", \"maximum\", \"mc\", \"mc\", \"mc\", \"mc\", \"mc\", \"mc\", \"mc\", \"mc\", \"mc\", \"mc\", \"measurable\", \"measurement\", \"medical\", \"medical\", \"meics\", \"meics\", \"meyer\", \"meyer\", \"mfor\", \"mi\", \"mi\", \"mi\", \"mi\", \"mi\", \"mi\", \"mi\", \"middle\", \"mj\", \"mmanager\", \"modi\", \"modi\", \"modi\", \"modi\", \"module\", \"mols\", \"mols\", \"mols\", \"mols\", \"mols\", \"mols\", \"mols\", \"mols\", \"mols\", \"mono\", \"mono\", \"monstrate\", \"mor\", \"morto\", \"mortot\", \"mot\", \"moto\", \"mou\", \"mou\", \"ms\", \"ms\", \"ms\", \"ms\", \"ms\", \"ms\", \"mt\", \"mt\", \"mt\", \"mt\", \"mt\", \"mt\", \"mt\", \"mtns\", \"mtns\", \"mult\", \"mult\", \"multiplayer\", \"multiplayer\", \"murr\", \"na\", \"na\", \"na\", \"na\", \"na\", \"na\", \"na\", \"naka\", \"nal\", \"nal\", \"nal\", \"nal\", \"nal\", \"nal\", \"nance\", \"nance\", \"nance\", \"nance\", \"nance\", \"nance\", \"nance\", \"nance\", \"nance\", \"nancial\", \"nancial\", \"nancial\", \"nancial\", \"nancial\", \"nancial\", \"nancial\", \"nancial\", \"nancial\", \"nature\", \"nature\", \"nature\", \"nature\", \"nature\", \"nature\", \"nature\", \"nature\", \"nb\", \"nberg\", \"nberg\", \"nberg\", \"near\", \"ner\", \"ner\", \"ner\", \"ner\", \"ner\", \"ner\", \"net\", \"net\", \"net\", \"net\", \"net\", \"net\", \"networks\", \"networks\", \"networks\", \"networks\", \"networks\", \"networks\", \"neural\", \"neural\", \"neural\", \"neural\", \"neural\", \"neural\", \"neural\", \"new\", \"new\", \"new\", \"new\", \"new\", \"new\", \"new\", \"new\", \"new\", \"new\", \"ni\", \"ni\", \"ni\", \"ni\", \"ni\", \"ni\", \"ni\", \"nie\", \"nim\", \"none\", \"none\", \"note\", \"note\", \"note\", \"note\", \"note\", \"note\", \"note\", \"note\", \"note\", \"note\", \"notmatmatics\", \"nt\", \"nt\", \"nt\", \"number\", \"number\", \"number\", \"number\", \"number\", \"number\", \"number\", \"number\", \"numbers\", \"oblast\", \"ockham\", \"ockham\", \"oku\", \"ola\", \"olib\", \"oma\", \"one\", \"one\", \"one\", \"one\", \"one\", \"one\", \"one\", \"one\", \"one\", \"one\", \"ops\", \"optfor\", \"optiatno\", \"optimum\", \"optt\", \"ot\", \"ot\", \"ot\", \"ot\", \"ot\", \"ot\", \"ovariacancer\", \"ozi\", \"page\", \"page\", \"paneatic\", \"parker\", \"party\", \"party\", \"party\", \"patria\", \"patria\", \"pc\", \"peaki\", \"pediatric\", \"peter\", \"peter\", \"petersburg\", \"petersburg\", \"petersburg\", \"ph\", \"ph\", \"ph\", \"ph\", \"ph\", \"ph\", \"pi\", \"pi\", \"pi\", \"pi\", \"pi\", \"pi\", \"pi\", \"pierce\", \"piogram\", \"piogram\", \"place\", \"place\", \"place\", \"place\", \"place\", \"placement\", \"player\", \"plots\", \"poly\", \"pos\", \"ppeso\", \"pq\", \"pq\", \"pq\", \"price\", \"price\", \"price\", \"price\", \"price\", \"price\", \"price\", \"price\", \"probabitikelly\", \"probabititable\", \"probabity\", \"probabity\", \"probabity\", \"probabity\", \"probabity\", \"probabity\", \"probabity\", \"proje\", \"prostate\", \"prostate\", \"psical\", \"psics\", \"psics\", \"psics\", \"psics\", \"psics\", \"pt\", \"pt\", \"pt\", \"pt\", \"pt\", \"ptrow\", \"ptrow\", \"qt\", \"quant\", \"quant\", \"quant\", \"quant\", \"quant\", \"quant\", \"quant\", \"quant\", \"quant\", \"quant\", \"quantitative\", \"quantitative\", \"quantitative\", \"quantitative\", \"quantitative\", \"quantitative\", \"quantitative\", \"quantitative\", \"quantitative\", \"quantum\", \"quantum\", \"quantum\", \"quantum\", \"quantum\", \"quantum\", \"r\", \"r\", \"r\", \"r\", \"r\", \"r\", \"r\", \"r\", \"r\", \"r\", \"racer\", \"racer\", \"rak\", \"rank\", \"rank\", \"rank\", \"rank\", \"rank\", \"rat\", \"rat\", \"rat\", \"rat\", \"rat\", \"rat\", \"rat\", \"rawa\", \"ray\", \"rca\", \"rca\", \"rd\", \"rd\", \"rd\", \"rd\", \"rd\", \"rdf\", \"rec\", \"rec\", \"rec\", \"ref\", \"ref\", \"ref\", \"ref\", \"ref\", \"refer\", \"reinforcement\", \"reinforcement\", \"reinforcement\", \"reive\", \"renal\", \"renal\", \"reproduced\", \"reproduced\", \"reproduced\", \"reproduced\", \"reproduced\", \"researcr\", \"ret\", \"ret\", \"rev\", \"rev\", \"rev\", \"rev\", \"review\", \"review\", \"review\", \"review\", \"review\", \"rey\", \"rey\", \"rey\", \"rey\", \"rivi\", \"rst\", \"rst\", \"rst\", \"rst\", \"rst\", \"rst\", \"rst\", \"rst\", \"rule\", \"rus\", \"ry\", \"ry\", \"ry\", \"sainic\", \"sal\", \"sal\", \"samantha\", \"scalable\", \"schiz\", \"scho\", \"schools\", \"schools\", \"schools\", \"schools\", \"schools\", \"schools\", \"schools\", \"schools\", \"seconds\", \"seeq\", \"seonent\", \"sepropositutity\", \"ser\", \"ser\", \"ser\", \"sha\", \"sha\", \"sha\", \"sha\", \"sha\", \"sha\", \"sha\", \"share\", \"share\", \"share\", \"share\", \"share\", \"share\", \"share\", \"share\", \"shi\", \"shi\", \"shi\", \"shi\", \"shi\", \"shi\", \"short\", \"short\", \"short\", \"shoulrs\", \"si\", \"si\", \"si\", \"si\", \"si\", \"si\", \"si\", \"si\", \"si\", \"sibed\", \"simulati\", \"simulatterministic\", \"since\", \"since\", \"since\", \"since\", \"since\", \"since\", \"since\", \"since\", \"since\", \"snature\", \"snature\", \"social\", \"society\", \"society\", \"society\", \"society\", \"society\", \"society\", \"sot\", \"sot\", \"sot\", \"sot\", \"sot\", \"st\", \"st\", \"st\", \"st\", \"st\", \"st\", \"st\", \"st\", \"stable\", \"stable\", \"stable\", \"stable\", \"stand\", \"stand\", \"stand\", \"stanley\", \"stanley\", \"staplenergy\", \"start\", \"stat\", \"statistical\", \"statistical\", \"statistical\", \"statistical\", \"statistical\", \"statistical\", \"statistical\", \"statistical\", \"statistical\", \"step\", \"step\", \"stochastic\", \"stochastic\", \"stochastic\", \"stochastic\", \"stochastic\", \"stochastic\", \"stock\", \"stock\", \"stock\", \"stock\", \"stock\", \"stock\", \"stock\", \"strategy\", \"strategy\", \"strategy\", \"strategy\", \"strategy\", \"strategy\", \"struuri\", \"struuri\", \"struuri\", \"studivno\", \"su\", \"su\", \"su\", \"su\", \"su\", \"su\", \"su\", \"su\", \"suary\", \"suary\", \"suary\", \"suary\", \"subse\", \"subsecancer\", \"subset\", \"subset\", \"subsetabls\", \"sud\", \"sud\", \"sud\", \"suppose\", \"suppose\", \"suppose\", \"suppose\", \"suppose\", \"suppose\", \"swamp\", \"sy\", \"sy\", \"sy\", \"sy\", \"table\", \"table\", \"table\", \"table\", \"table\", \"table\", \"table\", \"table\", \"table\", \"tables\", \"tat\", \"tbisi\", \"te\", \"te\", \"te\", \"te\", \"te\", \"te\", \"te\", \"te\", \"te\", \"telecom\", \"telecom\", \"tensor\", \"tensor\", \"terjee\", \"terry\", \"ters\", \"ters\", \"ters\", \"ters\", \"testi\", \"testi\", \"tfgentor\", \"tft\", \"tft\", \"tft\", \"tg\", \"ti\", \"ti\", \"ti\", \"ti\", \"ti\", \"ti\", \"tic\", \"tico\", \"time\", \"time\", \"time\", \"time\", \"time\", \"time\", \"time\", \"time\", \"time\", \"time\", \"tis\", \"tis\", \"tis\", \"tis\", \"tis\", \"tis\", \"tis\", \"tj\", \"tk\", \"tk\", \"toi\", \"tokens\", \"topic\", \"topic\", \"total\", \"total\", \"total\", \"total\", \"total\", \"tow\", \"tr\", \"tr\", \"tr\", \"tr\", \"tr\", \"tr\", \"tra\", \"tra\", \"tra\", \"tradi\", \"tradi\", \"tradi\", \"tradi\", \"tradi\", \"tradi\", \"tradi\", \"tradi\", \"transformattems\", \"tre\", \"tre\", \"tre\", \"tre\", \"tre\", \"tre\", \"tre\", \"tre\", \"tre\", \"tre\", \"trefore\", \"trefore\", \"trefore\", \"trefore\", \"trefore\", \"trefore\", \"trefore\", \"trefore\", \"trefore\", \"ts\", \"ts\", \"tse\", \"tse\", \"tse\", \"tse\", \"tse\", \"tse\", \"tse\", \"tse\", \"tse\", \"tse\", \"tsihua\", \"tti\", \"tvec\", \"tvp\", \"tx\", \"tx\", \"tx\", \"txt\", \"ty\", \"ty\", \"ty\", \"ty\", \"ty\", \"ty\", \"ty\", \"ty\", \"ty\", \"u\", \"u\", \"u\", \"u\", \"u\", \"u\", \"u\", \"u\", \"uary\", \"uary\", \"uary\", \"uary\", \"uary\", \"uary\", \"uary\", \"uconst\", \"ui\", \"ui\", \"ui\", \"ui\", \"uiv\", \"ump\", \"unit\", \"unit\", \"unit\", \"unr\", \"unr\", \"unr\", \"unr\", \"unr\", \"unr\", \"unr\", \"unr\", \"unr\", \"us\", \"us\", \"us\", \"us\", \"us\", \"us\", \"us\", \"us\", \"usi\", \"usi\", \"usi\", \"usi\", \"usi\", \"usi\", \"usi\", \"usi\", \"usi\", \"usi\", \"uster\", \"uster\", \"uster\", \"uster\", \"usteri\", \"usteri\", \"usteri\", \"v\", \"v\", \"v\", \"v\", \"v\", \"v\", \"v\", \"v\", \"v\", \"valid\", \"valid\", \"valid\", \"vaor\", \"var\", \"var\", \"var\", \"var\", \"var\", \"var\", \"varyi\", \"vc\", \"vc\", \"vc\", \"vc\", \"vec\", \"vessel\", \"vessel\", \"vessel\", \"via\", \"via\", \"via\", \"via\", \"via\", \"visa\", \"vissue\", \"vissue\", \"vno\", \"vno\", \"volterra\", \"volterra\", \"volterra\", \"vp\", \"vs\", \"vs\", \"vs\", \"vs\", \"vt\", \"vt\", \"vt\", \"vt\", \"vt\", \"w\", \"w\", \"w\", \"w\", \"w\", \"w\", \"w\", \"w\", \"w\", \"wadll\", \"wadll\", \"wal\", \"wal\", \"wal\", \"walk\", \"walk\", \"walk\", \"washitoze\", \"waters\", \"whole\", \"whole\", \"whole\", \"wi\", \"wi\", \"wi\", \"wi\", \"wi\", \"wi\", \"wi\", \"wi\", \"wiada\", \"wima\", \"wimax\", \"winner\", \"winner\", \"winner\", \"winner\", \"winner\", \"wins\", \"withdrawal\", \"wlie\", \"wo\", \"wo\", \"wo\", \"wood\", \"word\", \"word\", \"ws\", \"ws\", \"ws\", \"ws\", \"xi\", \"xi\", \"xi\", \"xi\", \"xi\", \"xj\", \"xj\", \"xs\", \"xt\", \"xt\", \"xt\", \"xt\", \"xt\", \"ya\", \"ya\", \"ya\", \"ya\", \"ya\", \"ya\", \"ya\", \"ya\", \"yi\", \"yi\", \"yi\", \"yi\", \"york\", \"york\", \"york\", \"york\", \"york\", \"ys\", \"ys\", \"ys\", \"ys\", \"ys\", \"yu\", \"yu\", \"yu\", \"yu\", \"yu\", \"yu\", \"yu\", \"zam\", \"zi\", \"zi\", \"zi\", \"zi\", \"zi\", \"zi\", \"zi\", \"zi\", \"zia\"]}, \"R\": 30, \"lambda.step\": 0.01, \"plot.opts\": {\"xlab\": \"PC1\", \"ylab\": \"PC2\"}, \"topic.order\": [9, 1, 2, 8, 3, 5, 10, 7, 4, 6]};\n",
       "\n",
       "function LDAvis_load_lib(url, callback){\n",
       "  var s = document.createElement('script');\n",
       "  s.src = url;\n",
       "  s.async = true;\n",
       "  s.onreadystatechange = s.onload = callback;\n",
       "  s.onerror = function(){console.warn(\"failed to load library \" + url);};\n",
       "  document.getElementsByTagName(\"head\")[0].appendChild(s);\n",
       "}\n",
       "\n",
       "if(typeof(LDAvis) !== \"undefined\"){\n",
       "   // already loaded: just create the visualization\n",
       "   !function(LDAvis){\n",
       "       new LDAvis(\"#\" + \"ldavis_el1890827931184110884615558689\", ldavis_el1890827931184110884615558689_data);\n",
       "   }(LDAvis);\n",
       "}else if(typeof define === \"function\" && define.amd){\n",
       "   // require.js is available: use it to load d3/LDAvis\n",
       "   require.config({paths: {d3: \"https://d3js.org/d3.v5\"}});\n",
       "   require([\"d3\"], function(d3){\n",
       "      window.d3 = d3;\n",
       "      LDAvis_load_lib(\"https://cdn.jsdelivr.net/gh/bmabey/pyLDAvis@3.4.0/pyLDAvis/js/ldavis.v3.0.0.js\", function(){\n",
       "        new LDAvis(\"#\" + \"ldavis_el1890827931184110884615558689\", ldavis_el1890827931184110884615558689_data);\n",
       "      });\n",
       "    });\n",
       "}else{\n",
       "    // require.js not available: dynamically load d3 & LDAvis\n",
       "    LDAvis_load_lib(\"https://d3js.org/d3.v5.js\", function(){\n",
       "         LDAvis_load_lib(\"https://cdn.jsdelivr.net/gh/bmabey/pyLDAvis@3.4.0/pyLDAvis/js/ldavis.v3.0.0.js\", function(){\n",
       "                 new LDAvis(\"#\" + \"ldavis_el1890827931184110884615558689\", ldavis_el1890827931184110884615558689_data);\n",
       "            })\n",
       "         });\n",
       "}\n",
       "</script>"
      ],
      "text/plain": [
       "PreparedData(topic_coordinates=              x         y  topics  cluster       Freq\n",
       "topic                                                \n",
       "8      0.191056 -0.037970       1        1  15.263546\n",
       "0      0.079580 -0.044476       2        1  15.170625\n",
       "1      0.000143 -0.039736       3        1  13.264251\n",
       "7     -0.111202 -0.139517       4        1  12.864032\n",
       "2      0.043853  0.124192       5        1   8.405024\n",
       "4     -0.066955 -0.004621       6        1   8.169162\n",
       "9     -0.081970  0.148436       7        1   8.144961\n",
       "6     -0.047809 -0.054850       8        1   6.849180\n",
       "3     -0.030337  0.038410       9        1   6.747481\n",
       "5      0.023642  0.010132      10        1   5.121737, topic_info=              Term        Freq       Total Category  logprob  loglift\n",
       "1296            ti  174.000000  174.000000  Default  30.0000  30.0000\n",
       "372             eq  248.000000  248.000000  Default  29.0000  29.0000\n",
       "2283            ft  156.000000  156.000000  Default  28.0000  28.0000\n",
       "6208        cancer  147.000000  147.000000  Default  27.0000  27.0000\n",
       "496             st  295.000000  295.000000  Default  26.0000  26.0000\n",
       "...            ...         ...         ...      ...      ...      ...\n",
       "149     intellence    8.284333  271.914414  Topic10  -5.4355  -0.5194\n",
       "144       articial    7.595596  246.538166  Topic10  -5.5223  -0.5083\n",
       "15           nance    7.359474  200.120523  Topic10  -5.5538  -0.3313\n",
       "111         market    6.168492   58.661413  Topic10  -5.7304   0.7193\n",
       "326   quantitative    6.095285   87.612714  Topic10  -5.7423   0.3063\n",
       "\n",
       "[645 rows x 6 columns], token_table=      Topic      Freq     Term\n",
       "term                          \n",
       "2793      2  0.864732      aat\n",
       "2793      5  0.108092      aat\n",
       "78        2  0.658118  accordi\n",
       "78        4  0.179487  accordi\n",
       "78        6  0.059829  accordi\n",
       "...     ...       ...      ...\n",
       "266       6  0.042703       zi\n",
       "266       8  0.042703       zi\n",
       "266       9  0.384329       zi\n",
       "266      10  0.085406       zi\n",
       "3136     10  0.838276      zia\n",
       "\n",
       "[1649 rows x 3 columns], R=30, lambda_step=0.01, plot_opts={'xlab': 'PC1', 'ylab': 'PC2'}, topic_order=[9, 1, 2, 8, 3, 5, 10, 7, 4, 6])"
      ]
     },
     "execution_count": 21,
     "metadata": {},
     "output_type": "execute_result"
    }
   ],
   "source": [
    "import pyLDAvis\n",
    "import pyLDAvis.gensim_models as gensimvis  \n",
    "\n",
    "pyLDAvis.enable_notebook()\n",
    "vis = gensimvis.prepare(lda_model_unigrams, corpus_unigrams, dictionary=dictionary_unigrams)\n",
    "vis"
   ]
  },
  {
   "cell_type": "code",
   "execution_count": 22,
   "metadata": {},
   "outputs": [
    {
     "name": "stderr",
     "output_type": "stream",
     "text": [
      "c:\\ProgramData\\Anaconda3\\envs\\test_env\\Lib\\site-packages\\joblib\\_utils.py:38: DeprecationWarning: ast.Num is deprecated and will be removed in Python 3.14; use ast.Constant instead\n",
      "  if isinstance(node, ast.Num):  # <number>\n",
      "c:\\ProgramData\\Anaconda3\\envs\\test_env\\Lib\\site-packages\\joblib\\_utils.py:38: DeprecationWarning: ast.Num is deprecated and will be removed in Python 3.14; use ast.Constant instead\n",
      "  if isinstance(node, ast.Num):  # <number>\n",
      "c:\\ProgramData\\Anaconda3\\envs\\test_env\\Lib\\site-packages\\joblib\\_utils.py:39: DeprecationWarning: Attribute n is deprecated and will be removed in Python 3.14; use value instead\n",
      "  return node.n\n",
      "c:\\ProgramData\\Anaconda3\\envs\\test_env\\Lib\\site-packages\\joblib\\_utils.py:38: DeprecationWarning: ast.Num is deprecated and will be removed in Python 3.14; use ast.Constant instead\n",
      "  if isinstance(node, ast.Num):  # <number>\n",
      "c:\\ProgramData\\Anaconda3\\envs\\test_env\\Lib\\site-packages\\joblib\\_utils.py:39: DeprecationWarning: Attribute n is deprecated and will be removed in Python 3.14; use value instead\n",
      "  return node.n\n"
     ]
    },
    {
     "data": {
      "text/html": [
       "\n",
       "<link rel=\"stylesheet\" type=\"text/css\" href=\"https://cdn.jsdelivr.net/gh/bmabey/pyLDAvis@3.4.0/pyLDAvis/js/ldavis.v1.0.0.css\">\n",
       "\n",
       "\n",
       "<div id=\"ldavis_el1890827930806604323585725971\" style=\"background-color:white;\"></div>\n",
       "<script type=\"text/javascript\">\n",
       "\n",
       "var ldavis_el1890827930806604323585725971_data = {\"mdsDat\": {\"x\": [0.201208997041993, -0.03744531153885516, -0.0624405511928769, -0.05988790746087787, -0.032002796231801835, -0.02711226214088173, 0.009327186056558356, -0.008306532058491965, 0.014130735020315565, 0.002528442504918391], \"y\": [0.018322697068475783, -0.18659330478968425, 0.09082102647742563, 0.061205666294182365, 0.023128182045439337, 0.01769889558135097, -0.021983424357746237, -0.008161933464228954, 0.0005054460956370737, 0.005056749049148385], \"topics\": [1, 2, 3, 4, 5, 6, 7, 8, 9, 10], \"cluster\": [1, 1, 1, 1, 1, 1, 1, 1, 1, 1], \"Freq\": [15.565053676324206, 12.463003574325668, 11.914959453412045, 10.310689036924977, 9.43092557512723, 9.219454066264026, 8.475291513315529, 8.266829930090726, 8.098502257581265, 6.255290916634328]}, \"tinfo\": {\"Term\": [\"ti ti\", \"ry ry\", \"hts uster\", \"mtns hts\", \"uster usteri\", \"usteri subse\", \"subse tables\", \"sha yu\", \"st st\", \"u sha\", \"xt xt\", \"ft ft\", \"eq eq\", \"bor ti\", \"chara bor\", \"chara bart\", \"lu cancer\", \"patria rca\", \"renal cell\", \"breast cancer\", \"cell carcinoma\", \"b b\", \"esophageal cancer\", \"prostate cancer\", \"intellence lor\", \"cancer renal\", \"articial intellence\", \"br articial\", \"paneatic cancer\", \"licancer lu\", \"ti ti\", \"snature snature\", \"racer lli\", \"tx ts\", \"yu u\", \"lli us\", \"racer us\", \"tx te\", \"us racer\", \"us lli\", \"racer racer\", \"tx tx\", \"ts tx\", \"cumulative ur\", \"sha yu\", \"te tx\", \"intellence u\", \"du sud\", \"ur racer\", \"risk mols\", \"yu rank\", \"us us\", \"pc ti\", \"pd pd\", \"pt nt\", \"ho chara\", \"vec doc\", \"intellence test\", \"lli racer\", \"sds du\", \"ti ft\", \"ft ti\", \"ts te\", \"u sha\", \"lli stable\", \"st st\", \"stable baseline\", \"ti xi\", \"articial intellence\", \"wi wi\", \"tr articial\", \"ph ys\", \"vt st\", \"eq eq\", \"xi ti\", \"usteri usteri\", \"quantitative nance\", \"mars li\", \"loss max\", \"draw dowalma\", \"total lossg\", \"wins losstotal\", \"losstotal wins\", \"w loss\", \"dowalma rat\", \"max wimax\", \"wimax loss\", \"wins total\", \"walk forward\", \"max draw\", \"formance suary\", \"lossg w\", \"number wins\", \"kelly iterflat\", \"suary statistics\", \"forward optiatno\", \"iterflat number\", \"statistics kelly\", \"optiatno maximum\", \"piogram walk\", \"rat piogram\", \"probabititable formance\", \"co lu\", \"ka uk\", \"uk co\", \"waters probabitikelly\", \"probabitikelly probabititable\", \"ray ka\", \"xt xt\", \"reinforcement learni\", \"ya ya\", \"ep reinforcement\", \"conference nance\", \"articial intellence\", \"internatnal conference\", \"ho ya\", \"st st\", \"quantitative nance\", \"new york\", \"patria rca\", \"ti chara\", \"yar lag\", \"lag add\", \"inverted world\", \"ti patria\", \"stocks tr\", \"rca chara\", \"ro matcs\", \"rst last\", \"alth distributns\", \"le lomercer\", \"set cac\", \"pet owicz\", \"bor ti\", \"chara bor\", \"fk lp\", \"terjee patria\", \"rough volatity\", \"city earth\", \"rca gaa\", \"kelly kelly\", \"das yar\", \"makers ar\", \"todo team\", \"hara market\", \"add chara\", \"distributns terjee\", \"terjee yar\", \"onel chara\", \"meics applicatns\", \"psics statistical\", \"escu v\", \"ul escu\", \"statistical meics\", \"jac er\", \"drag ul\", \"chara bart\", \"terjee chara\", \"bart chara\", \"b b\", \"review ters\", \"market makers\", \"aer aer\", \"ph ys\", \"usteri usteri\", \"v e\", \"ys rev\", \"psical review\", \"ti ka\", \"quantitative nance\", \"automated market\", \"articial intellence\", \"eco psics\", \"new york\", \"journal nancial\", \"royal economic\", \"economic society\", \"hts uster\", \"mtns hts\", \"usteri subse\", \"uster usteri\", \"subse tables\", \"wi ii\", \"ii wi\", \"bonacci bonacci\", \"soand corvee\", \"hou corvee\", \"li fa\", \"osclator net\", \"large numbers\", \"law large\", \"manevaluati chaos\", \"gel manevaluati\", \"ys soand\", \"bardor nielsesprd\", \"optput optbinary\", \"imod ph\", \"li li\", \"math toolbox\", \"simulatterministic harmonic\", \"net simulatterministic\", \"price std\", \"price st\", \"eh ti\", \"science rd\", \"keynesiaeconomics sll\", \"history technical\", \"hayashi yeshiva\", \"pt pt\", \"quant nance\", \"uter science\", \"tk tk\", \"nature genetics\", \"washito pediatric\", \"chdreresearhospital washito\", \"pediatric cancer\", \"lux marcs\", \"mat lab\", \"articial intellence\", \"ph ys\", \"content content\", \"whole nature\", \"chara bart\", \"em articial\", \"journal nance\", \"quantitative nance\", \"wi wi\", \"ni ni\", \"ys du\", \"si ni\", \"ni si\", \"ops ops\", \"inter day\", \"baseline lli\", \"nov nov\", \"aro oaro\", \"pk pk\", \"xs ys\", \"true false\", \"oatnal calculus\", \"data enhancement\", \"lli elegant\", \"du du\", \"du ys\", \"vs tse\", \"oaro true\", \"investors investors\", \"ke b\", \"b ke\", \"ys xs\", \"ys ys\", \"xi xj\", \"sha share\", \"gate lity\", \"normal mt\", \"lity lity\", \"gate gate\", \"orr executor\", \"tensor flow\", \"goodmafy gens\", \"nancial quantitative\", \"sme risk\", \"content content\", \"pac zu\", \"zu sh\", \"sh ubi\", \"new york\", \"quantitative analysis\", \"stable baseline\", \"zi zi\", \"le gue\", \"articial intellence\", \"gt ft\", \"nance vno\", \"ft gt\", \"share share\", \"journal nancial\", \"quantitative nance\", \"lib lib\", \"ph ys\", \"journal nance\", \"word vec\", \"consumer disetnary\", \"alth care\", \"care nancial\", \"faor faor\", \"informattechnology alth\", \"nancial industrial\", \"industrial consumer\", \"quant quant\", \"basic data\", \"gone gone\", \"iv l\", \"vla mor\", \"vs vs\", \"nancial nancial\", \"care consumer\", \"staplalth care\", \"consumer staplinformattechnology\", \"consumer staplalth\", \"pr pl\", \"care informattechnology\", \"energy consumer\", \"science nance\", \"disetnary industrial\", \"institute united\", \"value value\", \"nature plenty\", \"disetnary consumer\", \"krishna boom\", \"dt ys\", \"tis et\", \"nancial alth\", \"consumer staplenergy\", \"trefore consequently\", \"ola v\", \"cambridge cambridge\", \"go pi\", \"pi krishna\", \"halo ux\", \"new york\", \"price total\", \"initial price\", \"price nal\", \"nal price\", \"eg ov\", \"quantitative nance\", \"articial intellence\", \"size au\", \"st st\", \"le rou\", \"ys rev\", \"journal economic\", \"esophageal cancer\", \"prostate cancer\", \"intellence lor\", \"paneatic cancer\", \"time short\", \"cancer prostate\", \"ovariacancer paneatic\", \"lor gra\", \"gra lima\", \"lo time\", \"tic leukemia\", \"chronic lymph\", \"cy tic\", \"lymph cy\", \"cell lymphoma\", \"dull oblast\", \"oblast oma\", \"gastric cancer\", \"leukemia esophageal\", \"cancer br\", \"cancer dull\", \"oma ovariacancer\", \"bone cancer\", \"lima breast\", \"lymphoma bone\", \"cancer gastric\", \"cancer chronic\", \"time lo\", \"carcinoma cancer\", \"aregated cancer\", \"cancer licancer\", \"lu cancer\", \"br articial\", \"cancer renal\", \"renal cell\", \"terry lns\", \"licancer lu\", \"cell carcinoma\", \"breast cancer\", \"articial intellence\", \"st st\", \"u sha\", \"table mt\", \"table hts\", \"ki ki\", \"el el\", \"ix iya\", \"unit unit\", \"polynomial case\", \"hts usteri\", \"ft ws\", \"ip ip\", \"inpennt inpennt\", \"dynamic edgi\", \"ui hi\", \"case polynomial\", \"process orr\", \"auto reive\", \"source vaor\", \"uconst articial\", \"usteri table\", \"time time\", \"hi hi\", \"nance mr\", \"hi ui\", \"eq pq\", \"im approximatapproximatmaximum\", \"approximatmaximum im\", \"error error\", \"error im\", \"approximatapproximatmaximum approximatmaximum\", \"im maximum\", \"eq usi\", \"modi lia\", \"table table\", \"lia ni\", \"ui ui\", \"errors quant\", \"quant oid\", \"nberg modi\", \"one one\", \"usi eq\", \"articial intellence\", \"share share\", \"quantitative nance\", \"intellence ned\", \"rd rd\", \"eq eq\", \"new york\", \"ft ft\", \"zi zi\", \"ag articial\", \"v e\", \"pi pi\", \"dx e\", \"ft dx\", \"ez ez\", \"ot ft\", \"ft ot\", \"psics ptrow\", \"time aendance\", \"na nb\", \"ft xt\", \"nt nim\", \"nb na\", \"aendance time\", \"nim nt\", \"basic minority\", \"leure notmatmatics\", \"ge ge\", \"e ft\", \"simulati winner\", \"iconsequently occur\", \"trefore iconsequently\", \"instead trefore\", \"band middle\", \"ft schools\", \"view consir\", \"world serisuppose\", \"corse twinner\", \"ft xs\", \"xs ft\", \"dy dx\", \"sepropositutity unr\", \"ft note\", \"var var\", \"ft ft\", \"nov corse\", \"du free\", \"corvee limo\", \"limo nov\", \"ice corvee\", \"ptrow quantum\", \"ws ws\", \"gt gt\", \"eq eq\", \"vt ft\", \"economic society\", \"royal economic\", \"st st\", \"b b\", \"minority game\", \"articial intellence\", \"gt art\", \"art gt\", \"sy si\", \"si ho\", \"ry ry\", \"bi si\", \"ws yi\", \"wlie yu\", \"duke medical\", \"free tbisi\", \"vi vi\", \"zi bi\", \"yi ws\", \"gbert hk\", \"vno storm\", \"ridge road\", \"solutns hh\", \"road stanford\", \"sha ph\", \"ber lmogorov\", \"hh ridge\", \"ki hou\", \"tg tg\", \"probabity normalized\", \"normalized eonential\", \"proposit eq\", \"linda ra\", \"ra ske\", \"researcr revier\", \"researcr researcr\", \"revier consequently\", \"day day\", \"sla view\", \"llel genetic\", \"si bi\", \"mt mt\", \"ic solutns\", \"yi yi\", \"vi si\", \"ei zi\", \"lmogorov mir\", \"max max\", \"zi zi\", \"quant ic\", \"ft gt\", \"eq eq\", \"eco psics\", \"articial intellence\", \"b b\", \"eq leymaka\", \"ft ft\", \"mars li\", \"gt ft\", \"paris course\", \"u sha\", \"ti xi\", \"em articial\"], \"Freq\": [71.0, 35.0, 40.0, 40.0, 40.0, 40.0, 40.0, 48.0, 93.0, 53.0, 38.0, 29.0, 36.0, 22.0, 20.0, 29.0, 13.0, 14.0, 13.0, 14.0, 14.0, 30.0, 9.0, 9.0, 9.0, 11.0, 184.0, 11.0, 9.0, 10.0, 70.96095106250571, 11.782155074688015, 9.015836790606715, 8.326496395982664, 8.897679982677708, 6.951707275755167, 6.95167207472885, 6.26428924829054, 6.263030485664279, 6.2628818591087185, 12.405767330727938, 5.575303471413092, 4.886876347860711, 4.886163527077792, 43.72266807668974, 4.198820138826374, 4.197842332539791, 4.19785113279637, 4.197361903717649, 3.5099719066999047, 3.4980599445813185, 6.954276950676308, 2.8244035627940645, 2.8243853104100483, 2.8238647915301573, 2.8231637044226767, 2.82303398212199, 2.8225454049141274, 2.821288923835868, 2.8215147970880685, 5.578991756726084, 4.890526498728526, 4.369791523648032, 37.78705015925015, 7.641809707411894, 51.755792600637974, 7.641052233475221, 6.262874036658426, 50.428562674448166, 6.9521186062663896, 5.577481371948742, 7.640193067684743, 4.891007253486096, 7.638541226931275, 4.8875526638755975, 5.249948533550804, 4.891766031164485, 4.890966837492917, 10.355814482664027, 5.209829009378859, 5.20981126288431, 5.209808131149978, 5.209801867681314, 5.209801867681314, 5.2097935163897615, 5.209799257902704, 5.209799257902704, 5.209792472478317, 5.209791950522596, 5.2097888187882635, 5.209786730965376, 5.209767418603661, 5.209762199046441, 4.566573909304895, 4.56657234343773, 4.566568689747675, 4.566567645836232, 4.5665671238805094, 4.566560860411846, 4.566558772588957, 4.566553553031737, 4.566551987164571, 4.560279123297424, 4.560187781046072, 4.560162727171416, 3.9233099359836587, 3.923309153050076, 3.9177344049611205, 31.60079868297341, 11.380270549106877, 7.732218138772324, 9.394612142348993, 5.83876790790946, 34.67619937788347, 5.845151948345396, 5.0634136439299455, 8.429989426187612, 6.815062597926487, 5.70297851704928, 13.929599310890078, 5.725372993295467, 4.493917411593942, 4.493698349097592, 3.864159141905211, 3.8539053703647914, 3.8534625048397104, 3.227170562328415, 2.5962915309840997, 2.5961929778109125, 2.594140077788172, 2.593476153753107, 2.5922855316203264, 2.58349708358909, 18.05643833808233, 16.174976924387085, 1.9638690820971647, 1.9635321300455468, 1.9634108722172712, 1.963320427849473, 1.9625880155965858, 1.9619914570216743, 1.961919475779992, 1.9618202988525444, 1.961665108792488, 1.9617044053109107, 1.9613891599075644, 1.9613012105568088, 1.9612854919494398, 1.9611903070492605, 8.922247811182793, 9.556617870373266, 6.723293981792649, 6.662660077620744, 9.556965176745612, 3.860331037256583, 5.874318025694045, 19.04767068489142, 3.811540978986416, 3.8644455698617137, 14.470948148680653, 5.126993554946067, 3.2283334897720213, 3.2279844368877466, 10.824286129432664, 7.667066114415333, 7.818034106632139, 7.025977473332254, 6.393120891479889, 3.860230488069762, 7.660793142566556, 3.8648070978312026, 11.472376786344402, 4.494673900761291, 3.8668527623045192, 3.8642175253040105, 3.8632624327800613, 3.8632569437425675, 40.41277635268265, 40.41276253457375, 40.41270726213819, 40.412752170992086, 39.82020057098746, 5.995572516677509, 4.21469075642161, 3.02769447549425, 2.4316499166514425, 2.430949511257014, 2.429876448738423, 1.8401446065794322, 1.840143958855578, 1.8401385611567924, 1.8398555058324717, 1.839611745755311, 1.8381262990494944, 1.8374988705426483, 1.8370668387318432, 3.025208079525619, 3.023118954187613, 1.2463461381553178, 1.246338905238945, 1.2463362063895522, 1.2463285416572765, 1.2463222803266851, 1.2462075252505018, 1.246123429103421, 1.2460870486136058, 1.2460866167977027, 2.431339009201388, 5.398723484807685, 3.618161052411946, 3.025668395278061, 1.839987641498745, 3.6159363368804445, 1.837226610615899, 1.8371864517369336, 1.8369841459864467, 3.026594640389682, 2.433934006869587, 16.998272380316774, 5.9947818617593835, 2.4320007670725112, 2.4299692891575364, 3.148225953010072, 2.431954778678857, 2.4304429912029666, 2.431389099846119, 2.2003289442961287, 2.9463414244537054, 2.3687489971682325, 2.3685665205446185, 2.368553091529028, 2.3675678362528276, 2.3660772155222682, 2.36583391335745, 1.7909134652034642, 1.7909071456667156, 1.790902800985201, 1.7908919392814144, 1.789636721294738, 1.7889854140385928, 1.7888959530964963, 1.7888128116911486, 4.1023588779912705, 2.946644762217635, 1.2130106894179813, 1.213002000054952, 1.2129920270360208, 1.2129865961841275, 1.2129860037275573, 1.2129839301295617, 1.2129712910560646, 1.2129710935705413, 1.212975438252056, 1.2128885446217637, 1.2128221894859041, 1.2128055019591775, 1.212780322554945, 2.366252187695993, 2.366614573631417, 1.788695505290254, 1.7897877977201324, 1.7889247859829116, 2.368783557134826, 1.789185861844835, 1.7889423621944933, 1.78857997625907, 6.111106972402049, 1.7898154456934072, 3.52005819834262, 2.944733299836728, 2.370656509838671, 6.116292152304217, 2.367203277976647, 2.3684221586270193, 2.3672273712105008, 2.3672729903664043, 2.3676521625713156, 2.3701552915803035, 1.7922881619317927, 1.7920740876244363, 1.7909136626889877, 1.790907343152239, 6.345805862334621, 7.490414981005482, 3.4875818351693586, 2.916775400221607, 2.34400518675949, 2.343995340838901, 2.34332639741064, 2.3427705855405203, 2.341905302872276, 2.3393252855633917, 2.338811174062826, 2.336420738989599, 1.7729186257181149, 1.772507413740569, 1.7721369368462447, 1.7720257358607674, 1.7719768923723547, 1.7719554630157783, 1.7720265080898332, 1.7718996694657734, 1.7718234118455243, 1.7718502468055612, 1.7716425171868573, 1.7712930835345766, 1.769664066320242, 1.7659797614472437, 2.9153191692607483, 1.2008317384506104, 1.200817838327426, 1.200817452212893, 2.3442007537704077, 2.3439955338961678, 2.344949429849714, 6.344100008328238, 2.913158086220068, 5.781445802571017, 5.783271738197135, 2.34412932258182, 5.772288324194063, 2.918126221914982, 2.9190737469787353, 2.918984554521634, 2.9193654565083467, 2.345139977371704, 4.062576647512818, 5.9368514964626105, 2.3440046075876912, 3.476809239701254, 2.347655513553593, 2.346129009747745, 2.3424105337385845, 9.427119404501976, 9.426362653876263, 9.425603063660958, 8.873681973631676, 8.325887517173946, 8.325448800582304, 8.325338056588297, 8.322950671640571, 8.322509115459338, 7.775112911441595, 7.774769321101214, 7.774503819474557, 7.7743973348649345, 7.774042386166195, 7.773177731136064, 7.772624721063427, 7.772180325292604, 7.223573036314759, 7.223298306021935, 7.222751685025875, 7.222508190218539, 7.22238395817398, 7.222112777368143, 6.672139645797547, 6.671939454731457, 6.671794635662371, 6.671672533310004, 6.120263989201703, 5.56897399795878, 5.017595624489872, 7.440915223527274, 11.01656689930682, 9.320487136221281, 9.272054386278201, 10.257775318575252, 8.318026113394252, 8.685459067766399, 10.257541762331481, 10.314208612187935, 20.988289771464853, 15.493546194873582, 9.339302966741492, 4.939014758468789, 3.3088077367794635, 6.023680157078991, 2.767902322176139, 2.766591193694483, 2.7652729677388708, 2.2250660484383555, 2.2250452753438483, 2.224465706007093, 2.2239443013349587, 2.2236238763521827, 2.2170012407141177, 1.682277899036181, 1.682243450321123, 1.6810431116768398, 1.680998103305407, 1.6808741571748467, 1.680883158849133, 2.7657893522464994, 5.468777485178371, 1.139437384124936, 1.139436085806529, 1.139436085806529, 1.1394347874881223, 1.1394249202682314, 1.1394237950589456, 1.1394237950589456, 1.139423102622462, 1.1394225832950993, 1.1394225832950993, 2.224994381262305, 4.394099790407304, 7.6420447838079175, 4.394008388791471, 4.396314894718271, 2.745294097878183, 2.745186943332349, 3.308157192703142, 3.308577155430432, 2.224999747645053, 20.2975983740792, 3.851686249142745, 5.209861289020488, 2.2238376661164874, 2.2246438352924938, 4.396543744976094, 3.1765139381911474, 2.7579246586660155, 2.2269079294846743, 2.2251773576030907, 2.2249261762686725, 2.2247958251006392, 5.4280459479659, 4.360945528564278, 4.359283263208891, 3.822583533799832, 3.2841435302551907, 2.7427230825541593, 2.2070240701275674, 2.2067808862345224, 2.1832117203885315, 1.6685169111982354, 1.6685138586807495, 1.6685242033233407, 1.6684972394188817, 1.6684165172898098, 1.667832299359866, 1.667810592568855, 2.7456326404711535, 1.5551297925093766, 1.1302919405520462, 1.1302897359560842, 1.1302843940504839, 1.1302811719486932, 1.1302801544428644, 1.1302796456899502, 1.130276932341074, 1.1302761692117025, 1.1302751517058738, 1.130272777525607, 1.1302457288289955, 1.1302559886794343, 3.2717258891224765, 3.3519189151636355, 17.02138288460242, 4.771853386558926, 4.3586568187870585, 4.771737051725852, 4.771683123916935, 4.771535585571781, 2.7424809161669432, 3.282757348147974, 2.2061023794311247, 13.521843884651187, 4.205070418988928, 6.660238383907296, 6.086749713757954, 10.822385997852294, 5.3256065136559805, 2.206659972625219, 8.428765943002489, 2.206714239602747, 2.2066918544745167, 2.2075180692073717, 2.207432598717766, 34.74214747623755, 2.90070599984649, 2.8878134655328007, 1.950647148199648, 1.9505876800654312, 1.9504331153112995, 1.949951475818976, 1.9496374997887613, 1.884362184377407, 1.4752288872299222, 1.4751075931940527, 1.4747353279133393, 1.474667476606017, 1.4746372185905896, 1.4746038168852478, 1.4742551292788932, 1.474160818581457, 1.474025639915132, 2.900732983184923, 0.9992335626802586, 0.9992325802771603, 0.9992241971040549, 0.9992191541014837, 0.9992179097242259, 0.9992124737604152, 0.9992118188250164, 0.9992112293831574, 0.9992096575382001, 0.9991454083755718, 0.9991381385926443, 2.9014748940047546, 2.4267098656018544, 3.8537695641162335, 2.42557787525846, 1.9496436561815107, 1.474163700297212, 1.9499149304237196, 1.951257417004308, 3.8489282816478414, 2.901950115130169, 3.8547021921242135, 7.187857844253094, 3.8512601136419518, 9.096573801437206, 4.328704089800359, 1.950183584924333, 3.9692082155455872, 2.902823013029773, 2.427060649001485, 1.950275144893094, 4.112686223245205, 1.9507134276620126, 1.9508922250259022], \"Total\": [71.0, 35.0, 40.0, 40.0, 40.0, 40.0, 40.0, 48.0, 93.0, 53.0, 38.0, 29.0, 36.0, 22.0, 20.0, 29.0, 13.0, 14.0, 13.0, 14.0, 14.0, 30.0, 9.0, 9.0, 9.0, 11.0, 184.0, 11.0, 9.0, 10.0, 71.53735397152694, 12.295184760735323, 9.536887174028873, 8.847604662061528, 9.510217271841494, 7.47007107999126, 7.470100054226369, 6.781177508535116, 6.781195218144614, 6.781044299259459, 13.542082516944243, 6.092130835161912, 5.4034561643161325, 5.403435735553361, 48.9767977804936, 4.714616533706419, 4.714698082221348, 4.714835398567345, 4.7144511850151805, 4.025869862604302, 4.021787322222666, 8.048296811719482, 3.3373608608104623, 3.3373426123249104, 3.3372780634231614, 3.3371164324828895, 3.3371705969332757, 3.3371563670231668, 3.336651936410388, 3.3369539597370244, 6.631258657241612, 5.942300264974643, 5.2899139896961955, 53.20962788122935, 9.957323709669604, 93.4263196773024, 12.268864043783802, 9.761436732572692, 184.4397827577434, 13.557424498230414, 10.388727004015411, 30.473640115509784, 7.697385459097715, 36.6857552534168, 7.970379091561103, 18.127188485868928, 34.633319577115984, 13.762662441568521, 10.873428842679969, 5.727381361585175, 5.727369121945961, 5.727369103237444, 5.7273628090326865, 5.7273643844708655, 5.727355514468084, 5.727362577488243, 5.727365669404225, 5.727360229251184, 5.727360906645912, 5.727359121622493, 5.727358331390365, 5.727341757596001, 5.727344437282366, 5.08411150938471, 5.084109940668885, 5.084106309290232, 5.084105259207366, 5.084104733353179, 5.08409847378298, 5.084096397677587, 5.0840911847310775, 5.084089622014989, 5.083402548009295, 5.083373490276152, 5.083437380613634, 4.440847518813948, 4.440846729847325, 4.440218596268955, 38.35329965027063, 16.42182071887305, 10.592220359252728, 13.945189272268196, 7.51243321707483, 184.4397827577434, 10.575794411199148, 7.465763099441442, 93.4263196773024, 34.633319577115984, 31.571409404296105, 14.993593715796225, 6.285742950867908, 5.01684121150342, 5.0168051546680354, 4.383482674012649, 4.382665091976365, 4.382584887881712, 3.7494694704659857, 3.1160991767849993, 3.1160485083693747, 3.1158687919904495, 3.115236322302028, 3.1156825891726205, 3.1149872346122813, 22.32055310935871, 20.423357243363125, 2.482360791860727, 2.482369584234087, 2.482368940969966, 2.482334551718739, 2.482269485328333, 2.4822774306193987, 2.482224124373295, 2.4821449169711927, 2.4822253674420542, 2.4822904841522755, 2.4821912386345164, 2.48216480670644, 2.4821736960474783, 2.482164734173985, 11.51804045307589, 12.414215572884881, 8.735668358675222, 8.72641563452769, 13.10442765227028, 5.07011251419397, 8.069418815255395, 29.6435546341912, 5.571616283065721, 5.713379907538893, 30.235360964938067, 8.516968642633103, 4.852349716565204, 4.852354128193693, 30.473640115509784, 18.127188485868928, 18.871160264734606, 16.31428537446387, 15.462105390105876, 7.138391136309968, 34.633319577115984, 7.414781502825622, 184.4397827577434, 14.169430140377557, 31.571409404296105, 16.77635343261342, 15.157557592174573, 15.691384891361327, 40.957603530774115, 40.95760812853562, 40.95755409544574, 40.95761116572565, 40.363694455358484, 6.519096862747756, 4.7377937752342465, 3.5501817999488, 2.9564223501331077, 2.956404912393813, 2.9561298021071454, 2.362631897129442, 2.362631249405588, 2.3626258517068024, 2.362612802574004, 2.3625871661586233, 2.362615827857396, 2.362693081485433, 2.362483203350858, 4.183068910243986, 4.192329795000389, 1.7688334032525668, 1.7688261957889555, 1.7688234969395626, 1.768834504578608, 1.7688324775561266, 1.7688084797665322, 1.7688194489462712, 1.7688154885490035, 1.768816712089069, 3.644251505966087, 9.481007634833984, 6.567980319683991, 5.314684785725193, 2.9005156993858114, 7.104357432361621, 2.9398653741681087, 2.9398606197454735, 2.939878631491566, 6.249893900096624, 4.682225048505031, 184.4397827577434, 30.473640115509784, 5.267721399946154, 6.6266286386329645, 29.6435546341912, 10.684353107171372, 17.48156230547578, 34.633319577115984, 13.557424498230414, 3.4706862248332886, 2.892826203629553, 2.8928259623749986, 2.8928286161167964, 2.89302487955525, 2.8929129474733686, 2.89298585344145, 2.3149905402720306, 2.3149842207352824, 2.3149798760537674, 2.3149690143499813, 2.3148958747568424, 2.315002768944077, 2.3150243189109116, 2.3150594684013472, 5.314343604837091, 4.063531998304862, 1.7370877357606718, 1.7370790751235188, 1.7370691021045876, 1.7370636712526943, 1.737063078796124, 1.737061010497638, 1.7370483760561353, 1.7370481850643984, 1.7370768360151325, 1.7370905834784036, 1.7370807240450759, 1.7370858255373642, 1.737085339364119, 3.4643148742701073, 4.086355428991144, 2.857066967251354, 2.9481208869976765, 2.947718597931035, 5.267721399946154, 3.4504890732834514, 3.450599982295424, 3.450629211619311, 31.571409404296105, 3.499180553115466, 12.268864043783802, 9.450885870986076, 8.404810245451555, 184.4397827577434, 8.555245835709401, 9.08746399484173, 10.561586942121913, 13.82264772992998, 16.77635343261342, 34.633319577115984, 9.211360936316447, 30.473640115509784, 17.48156230547578, 6.352265688358983, 6.874382216451409, 8.556196600395856, 4.013759989804848, 3.4417053943360782, 2.8696749804228583, 2.8696820262242815, 2.8697195393139507, 2.8695272838099175, 2.8694201131950443, 2.8698673607056286, 2.8699630363855606, 2.8703865593803783, 2.297576257518495, 2.297560826951501, 2.2976464289613654, 2.297630592677466, 2.2976653423398155, 2.297640593272212, 2.2977587897410974, 2.297622423365832, 2.297640849081401, 2.29769235588509, 2.2976093565586924, 2.297738741303366, 2.298228813424907, 2.29801013212287, 3.9797885969116695, 1.7254893413867314, 1.7254754639563838, 1.7254750840132733, 3.4075299423248664, 3.40760491986212, 3.411937506676412, 9.447193057443044, 4.596920636327648, 16.856084919003045, 18.09643783746066, 4.190547852201065, 31.571409404296105, 7.284330023727568, 7.827041777889381, 7.827055791740905, 8.378800910210346, 5.2391522257121315, 34.633319577115984, 184.4397827577434, 6.526803377030228, 93.4263196773024, 10.650480666042244, 16.31428537446387, 11.017146879707015, 9.959158224592539, 9.959287252362293, 9.959177829379646, 9.407628125775876, 8.855727638820131, 8.856011631257774, 8.856037805525366, 8.855942745658204, 8.855990160048874, 8.304124611272236, 8.304275914501932, 8.304278099879443, 8.30430641852531, 8.304349115460811, 8.304445188219056, 8.304318421016045, 8.304332244922712, 7.7525842954404975, 7.752687004847921, 7.752697066543736, 7.752671535427277, 7.752715153451698, 7.7527458816616095, 7.201004859963602, 7.201008533658604, 7.201019723444327, 7.201017313088192, 6.649269658104494, 6.097701374366016, 5.54607861692709, 8.386971431174203, 13.00778668509005, 11.043608278693384, 11.375666243928888, 13.196730108177888, 9.941179326734726, 10.832950657658223, 14.38341033697642, 14.95748645903905, 184.4397827577434, 93.4263196773024, 53.20962788122935, 5.466598740181307, 3.838435158205854, 7.090116997736103, 3.295485491201371, 3.2956248352019144, 3.295912844650334, 2.7526492566200687, 2.7526285081219775, 2.7527069540896205, 2.7529945162248026, 2.752918316619885, 2.754782416187392, 2.2098610072623464, 2.209826618920476, 2.2100218074089613, 2.210037465508816, 2.2099956081472047, 2.2100537219106444, 3.833454235657227, 7.797699952099433, 1.6670204923511014, 1.6670191940326946, 1.6670191940326946, 1.6670178957142878, 1.6670080284943969, 1.6670069032851111, 1.6670069032851111, 1.6670062219744082, 1.6670056915212648, 1.6670056915212648, 3.290544801852696, 6.640071637191055, 11.793544166470095, 7.217264333109644, 7.228939048219651, 4.419082670889501, 4.419071987127557, 5.554404399495771, 5.636368150403329, 3.7996901488856833, 184.4397827577434, 13.82264772992998, 34.633319577115984, 4.514336263470121, 4.621030209360442, 36.6857552534168, 31.571409404296105, 29.55677821218205, 9.450885870986076, 9.533917986661354, 18.871160264734606, 5.016064244320353, 5.966969783168089, 4.88904095188679, 4.889240556769766, 4.350602791265455, 3.8121627463314542, 3.2741775752310702, 2.735317664070852, 2.7353275409048017, 2.7394376360219166, 2.196832663743052, 2.1968357450210085, 2.196868709061425, 2.196840961304698, 2.1968216434415018, 2.1968898541804665, 2.1968784654717375, 3.8247006683878726, 2.2139388261316415, 1.6583111161455688, 1.6583089115496068, 1.6583035696440065, 1.6583003475422158, 1.658299330036387, 1.6582988253612518, 1.6582961079345966, 1.6582953515523486, 1.6583198662483405, 1.658319267052569, 1.6583062724805746, 1.6583277353610486, 4.899407410707388, 5.1298462963423175, 29.55677821218205, 7.91468735381474, 7.340454584435228, 8.548437287747888, 8.548428069107038, 8.548402127973196, 4.540911422557916, 5.69103105264435, 3.6869975678845277, 36.6857552534168, 8.561995699888037, 15.691384891361327, 15.157557592174573, 93.4263196773024, 30.235360964938067, 4.595173129142894, 184.4397827577434, 5.4905601314046875, 5.490574010427956, 8.53850366260906, 8.53857996357278, 35.34137296904875, 3.4379904601724687, 3.4409466057465807, 2.4856573216141786, 2.4856710248446996, 2.4857130555983478, 2.4857581370676094, 2.4858214311342826, 2.5015036290056525, 2.0094941275073896, 2.0095328774454546, 2.0096531650560436, 2.0096756289238105, 2.0096832708338015, 2.009693066510346, 2.0096354376376873, 2.0097943830198512, 2.009678991029397, 4.009259254817425, 1.5334987534527933, 1.5334977710496949, 1.5334894227738884, 1.5334843797713171, 1.5334831353940594, 1.5334776994302488, 1.533477048572629, 1.5334764591307701, 1.5334749006643267, 1.5335125712396334, 1.53351189042262, 4.5142841795302076, 4.041686607669394, 6.732153856276177, 4.105317750028354, 3.562269989979021, 2.5476125224195734, 3.721098345411347, 3.7663273428809982, 9.450885870986076, 6.951943702037138, 10.561586942121913, 36.6857552534168, 14.169430140377557, 184.4397827577434, 30.235360964938067, 4.26251913433326, 29.55677821218205, 13.762662441568521, 8.555245835709401, 4.752496844001506, 53.20962788122935, 9.761436732572692, 10.684353107171372], \"Category\": [\"Default\", \"Default\", \"Default\", \"Default\", \"Default\", \"Default\", \"Default\", \"Default\", \"Default\", \"Default\", \"Default\", \"Default\", \"Default\", \"Default\", \"Default\", \"Default\", \"Default\", \"Default\", \"Default\", \"Default\", \"Default\", \"Default\", \"Default\", \"Default\", \"Default\", \"Default\", \"Default\", \"Default\", \"Default\", \"Default\", \"Topic1\", \"Topic1\", \"Topic1\", \"Topic1\", \"Topic1\", \"Topic1\", \"Topic1\", \"Topic1\", \"Topic1\", \"Topic1\", \"Topic1\", \"Topic1\", \"Topic1\", \"Topic1\", \"Topic1\", \"Topic1\", \"Topic1\", \"Topic1\", \"Topic1\", \"Topic1\", \"Topic1\", \"Topic1\", \"Topic1\", \"Topic1\", \"Topic1\", \"Topic1\", \"Topic1\", \"Topic1\", \"Topic1\", \"Topic1\", \"Topic1\", \"Topic1\", \"Topic1\", \"Topic1\", \"Topic1\", \"Topic1\", \"Topic1\", \"Topic1\", \"Topic1\", \"Topic1\", \"Topic1\", \"Topic1\", \"Topic1\", \"Topic1\", \"Topic1\", \"Topic1\", \"Topic1\", \"Topic1\", \"Topic2\", \"Topic2\", \"Topic2\", \"Topic2\", \"Topic2\", \"Topic2\", \"Topic2\", \"Topic2\", \"Topic2\", \"Topic2\", \"Topic2\", \"Topic2\", \"Topic2\", \"Topic2\", \"Topic2\", \"Topic2\", \"Topic2\", \"Topic2\", \"Topic2\", \"Topic2\", \"Topic2\", \"Topic2\", \"Topic2\", \"Topic2\", \"Topic2\", \"Topic2\", \"Topic2\", \"Topic2\", \"Topic2\", \"Topic2\", \"Topic2\", \"Topic2\", \"Topic2\", \"Topic2\", \"Topic2\", \"Topic2\", \"Topic2\", \"Topic2\", \"Topic2\", \"Topic2\", \"Topic2\", \"Topic3\", \"Topic3\", \"Topic3\", \"Topic3\", \"Topic3\", \"Topic3\", \"Topic3\", \"Topic3\", \"Topic3\", \"Topic3\", \"Topic3\", \"Topic3\", \"Topic3\", \"Topic3\", \"Topic3\", \"Topic3\", \"Topic3\", \"Topic3\", \"Topic3\", \"Topic3\", \"Topic3\", \"Topic3\", \"Topic3\", \"Topic3\", \"Topic3\", \"Topic3\", \"Topic3\", \"Topic3\", \"Topic3\", \"Topic3\", \"Topic3\", \"Topic3\", \"Topic3\", \"Topic3\", \"Topic3\", \"Topic3\", \"Topic3\", \"Topic3\", \"Topic3\", \"Topic3\", \"Topic3\", \"Topic3\", \"Topic3\", \"Topic3\", \"Topic3\", \"Topic3\", \"Topic3\", \"Topic3\", \"Topic3\", \"Topic3\", \"Topic3\", \"Topic3\", \"Topic3\", \"Topic3\", \"Topic3\", \"Topic3\", \"Topic3\", \"Topic3\", \"Topic4\", \"Topic4\", \"Topic4\", \"Topic4\", \"Topic4\", \"Topic4\", \"Topic4\", \"Topic4\", \"Topic4\", \"Topic4\", \"Topic4\", \"Topic4\", \"Topic4\", \"Topic4\", \"Topic4\", \"Topic4\", \"Topic4\", \"Topic4\", \"Topic4\", \"Topic4\", \"Topic4\", \"Topic4\", \"Topic4\", \"Topic4\", \"Topic4\", \"Topic4\", \"Topic4\", \"Topic4\", \"Topic4\", \"Topic4\", \"Topic4\", \"Topic4\", \"Topic4\", \"Topic4\", \"Topic4\", \"Topic4\", \"Topic4\", \"Topic4\", \"Topic4\", \"Topic4\", \"Topic4\", \"Topic4\", \"Topic4\", \"Topic4\", \"Topic4\", \"Topic4\", \"Topic4\", \"Topic4\", \"Topic4\", \"Topic4\", \"Topic5\", \"Topic5\", \"Topic5\", \"Topic5\", \"Topic5\", \"Topic5\", \"Topic5\", \"Topic5\", \"Topic5\", \"Topic5\", \"Topic5\", \"Topic5\", \"Topic5\", \"Topic5\", \"Topic5\", \"Topic5\", \"Topic5\", \"Topic5\", \"Topic5\", \"Topic5\", \"Topic5\", \"Topic5\", \"Topic5\", \"Topic5\", \"Topic5\", \"Topic5\", \"Topic5\", \"Topic5\", \"Topic5\", \"Topic5\", \"Topic5\", \"Topic5\", \"Topic5\", \"Topic5\", \"Topic5\", \"Topic5\", \"Topic5\", \"Topic5\", \"Topic5\", \"Topic5\", \"Topic5\", \"Topic5\", \"Topic5\", \"Topic5\", \"Topic5\", \"Topic5\", \"Topic5\", \"Topic5\", \"Topic5\", \"Topic5\", \"Topic5\", \"Topic5\", \"Topic5\", \"Topic5\", \"Topic5\", \"Topic6\", \"Topic6\", \"Topic6\", \"Topic6\", \"Topic6\", \"Topic6\", \"Topic6\", \"Topic6\", \"Topic6\", \"Topic6\", \"Topic6\", \"Topic6\", \"Topic6\", \"Topic6\", \"Topic6\", \"Topic6\", \"Topic6\", \"Topic6\", \"Topic6\", \"Topic6\", \"Topic6\", \"Topic6\", \"Topic6\", \"Topic6\", \"Topic6\", \"Topic6\", \"Topic6\", \"Topic6\", \"Topic6\", \"Topic6\", \"Topic6\", \"Topic6\", \"Topic6\", \"Topic6\", \"Topic6\", \"Topic6\", \"Topic6\", \"Topic6\", \"Topic6\", \"Topic6\", \"Topic6\", \"Topic6\", \"Topic6\", \"Topic6\", \"Topic6\", \"Topic6\", \"Topic6\", \"Topic6\", \"Topic6\", \"Topic6\", \"Topic6\", \"Topic7\", \"Topic7\", \"Topic7\", \"Topic7\", \"Topic7\", \"Topic7\", \"Topic7\", \"Topic7\", \"Topic7\", \"Topic7\", \"Topic7\", \"Topic7\", \"Topic7\", \"Topic7\", \"Topic7\", \"Topic7\", \"Topic7\", \"Topic7\", \"Topic7\", \"Topic7\", \"Topic7\", \"Topic7\", \"Topic7\", \"Topic7\", \"Topic7\", \"Topic7\", \"Topic7\", \"Topic7\", \"Topic7\", \"Topic7\", \"Topic7\", \"Topic7\", \"Topic7\", \"Topic7\", \"Topic7\", \"Topic7\", \"Topic7\", \"Topic7\", \"Topic7\", \"Topic7\", \"Topic7\", \"Topic7\", \"Topic8\", \"Topic8\", \"Topic8\", \"Topic8\", \"Topic8\", \"Topic8\", \"Topic8\", \"Topic8\", \"Topic8\", \"Topic8\", \"Topic8\", \"Topic8\", \"Topic8\", \"Topic8\", \"Topic8\", \"Topic8\", \"Topic8\", \"Topic8\", \"Topic8\", \"Topic8\", \"Topic8\", \"Topic8\", \"Topic8\", \"Topic8\", \"Topic8\", \"Topic8\", \"Topic8\", \"Topic8\", \"Topic8\", \"Topic8\", \"Topic8\", \"Topic8\", \"Topic8\", \"Topic8\", \"Topic8\", \"Topic8\", \"Topic8\", \"Topic8\", \"Topic8\", \"Topic8\", \"Topic8\", \"Topic8\", \"Topic8\", \"Topic8\", \"Topic8\", \"Topic8\", \"Topic8\", \"Topic8\", \"Topic8\", \"Topic8\", \"Topic8\", \"Topic8\", \"Topic9\", \"Topic9\", \"Topic9\", \"Topic9\", \"Topic9\", \"Topic9\", \"Topic9\", \"Topic9\", \"Topic9\", \"Topic9\", \"Topic9\", \"Topic9\", \"Topic9\", \"Topic9\", \"Topic9\", \"Topic9\", \"Topic9\", \"Topic9\", \"Topic9\", \"Topic9\", \"Topic9\", \"Topic9\", \"Topic9\", \"Topic9\", \"Topic9\", \"Topic9\", \"Topic9\", \"Topic9\", \"Topic9\", \"Topic9\", \"Topic9\", \"Topic9\", \"Topic9\", \"Topic9\", \"Topic9\", \"Topic9\", \"Topic9\", \"Topic9\", \"Topic9\", \"Topic9\", \"Topic9\", \"Topic9\", \"Topic9\", \"Topic9\", \"Topic9\", \"Topic9\", \"Topic9\", \"Topic9\", \"Topic9\", \"Topic9\", \"Topic9\", \"Topic9\", \"Topic9\", \"Topic10\", \"Topic10\", \"Topic10\", \"Topic10\", \"Topic10\", \"Topic10\", \"Topic10\", \"Topic10\", \"Topic10\", \"Topic10\", \"Topic10\", \"Topic10\", \"Topic10\", \"Topic10\", \"Topic10\", \"Topic10\", \"Topic10\", \"Topic10\", \"Topic10\", \"Topic10\", \"Topic10\", \"Topic10\", \"Topic10\", \"Topic10\", \"Topic10\", \"Topic10\", \"Topic10\", \"Topic10\", \"Topic10\", \"Topic10\", \"Topic10\", \"Topic10\", \"Topic10\", \"Topic10\", \"Topic10\", \"Topic10\", \"Topic10\", \"Topic10\", \"Topic10\", \"Topic10\", \"Topic10\", \"Topic10\", \"Topic10\", \"Topic10\", \"Topic10\", \"Topic10\", \"Topic10\", \"Topic10\", \"Topic10\", \"Topic10\", \"Topic10\", \"Topic10\", \"Topic10\"], \"logprob\": [30.0, 29.0, 28.0, 27.0, 26.0, 25.0, 24.0, 23.0, 22.0, 21.0, 20.0, 19.0, 18.0, 17.0, 16.0, 15.0, 14.0, 13.0, 12.0, 11.0, 10.0, 9.0, 8.0, 7.0, 6.0, 5.0, 4.0, 3.0, 2.0, 1.0, -4.3683, -6.1639, -6.4315, -6.511, -6.4446, -6.6915, -6.6915, -6.7956, -6.7958, -6.7958, -6.1123, -6.9121, -7.0439, -7.044, -4.8526, -7.1956, -7.1959, -7.1959, -7.196, -7.3748, -7.3782, -6.6911, -7.5921, -7.5921, -7.5923, -7.5926, -7.5926, -7.5928, -7.5932, -7.5932, -6.9114, -7.0431, -7.1557, -4.9985, -6.5968, -4.6839, -6.5969, -6.7958, -4.7099, -6.6914, -6.9117, -6.597, -7.043, -6.5972, -7.0437, -6.9722, -7.0429, -7.043, -6.0706, -6.7576, -6.7576, -6.7576, -6.7576, -6.7576, -6.7576, -6.7576, -6.7576, -6.7576, -6.7576, -6.7576, -6.7576, -6.7576, -6.7576, -6.8894, -6.8894, -6.8894, -6.8894, -6.8894, -6.8894, -6.8894, -6.8894, -6.8894, -6.8908, -6.8908, -6.8908, -7.0412, -7.0412, -7.0427, -4.955, -5.9763, -6.3628, -6.168, -6.6437, -4.8621, -6.6426, -6.7861, -6.2764, -6.489, -6.6672, -5.7292, -6.6183, -6.8605, -6.8605, -7.0115, -7.0141, -7.0142, -7.1916, -7.4091, -7.4092, -7.4099, -7.4102, -7.4107, -7.4141, -5.4697, -5.5797, -7.6883, -7.6885, -7.6885, -7.6886, -7.6889, -7.6892, -7.6893, -7.6893, -7.6894, -7.6894, -7.6896, -7.6896, -7.6896, -7.6897, -6.1747, -6.106, -6.4576, -6.4667, -6.1059, -7.0125, -6.5926, -5.4163, -7.0252, -7.0114, -5.6911, -6.7287, -7.1912, -7.1913, -5.9814, -6.3263, -6.3068, -6.4136, -6.508, -7.0125, -6.3271, -7.0113, -5.9233, -6.8603, -7.0108, -7.0114, -7.0117, -7.0117, -4.5194, -4.5194, -4.5194, -4.5194, -4.5342, -6.4276, -6.78, -7.1108, -7.33, -7.3303, -7.3308, -7.6087, -7.6087, -7.6087, -7.6089, -7.609, -7.6098, -7.6102, -7.6104, -7.1116, -7.1123, -7.9984, -7.9984, -7.9984, -7.9984, -7.9984, -7.9985, -7.9986, -7.9986, -7.9986, -7.3301, -6.5324, -6.9326, -7.1115, -7.6088, -6.9332, -7.6103, -7.6104, -7.6105, -7.1112, -7.3291, -5.3855, -6.4277, -7.3299, -7.3307, -7.0718, -7.3299, -7.3305, -7.3301, -7.43, -7.0488, -7.267, -7.2671, -7.2671, -7.2675, -7.2682, -7.2683, -7.5467, -7.5467, -7.5467, -7.5467, -7.5474, -7.5478, -7.5478, -7.5479, -6.7178, -7.0487, -7.9363, -7.9363, -7.9363, -7.9363, -7.9363, -7.9363, -7.9363, -7.9363, -7.9363, -7.9364, -7.9365, -7.9365, -7.9365, -7.2681, -7.2679, -7.5479, -7.5473, -7.5478, -7.267, -7.5476, -7.5478, -7.548, -6.3193, -7.5473, -6.8709, -7.0494, -7.2662, -6.3184, -7.2677, -7.2672, -7.2677, -7.2677, -7.2675, -7.2664, -7.5459, -7.546, -7.5467, -7.5467, -6.2589, -6.0931, -6.8575, -7.0362, -7.2549, -7.2549, -7.2552, -7.2554, -7.2558, -7.2569, -7.2571, -7.2581, -7.5341, -7.5343, -7.5345, -7.5346, -7.5346, -7.5346, -7.5346, -7.5347, -7.5347, -7.5347, -7.5348, -7.535, -7.5359, -7.538, -7.0367, -7.9237, -7.9237, -7.9237, -7.2548, -7.2549, -7.2545, -6.2592, -7.0375, -6.3521, -6.3518, -7.2548, -6.3537, -7.0358, -7.0355, -7.0355, -7.0354, -7.2544, -6.7049, -6.3255, -7.2549, -6.8606, -7.2533, -7.254, -7.2555, -5.779, -5.7791, -5.7791, -5.8395, -5.9032, -5.9032, -5.9033, -5.9035, -5.9036, -5.9716, -5.9717, -5.9717, -5.9717, -5.9718, -5.9719, -5.972, -5.972, -6.0452, -6.0453, -6.0453, -6.0454, -6.0454, -6.0454, -6.1246, -6.1247, -6.1247, -6.1247, -6.211, -6.3054, -6.4096, -6.0156, -5.6232, -5.7903, -5.7956, -5.6945, -5.9041, -5.8609, -5.6946, -5.689, -4.9786, -5.2821, -5.7883, -6.4005, -6.8011, -6.202, -6.9796, -6.98, -6.9805, -7.1979, -7.1979, -7.1981, -7.1984, -7.1985, -7.2015, -7.4775, -7.4775, -7.4782, -7.4783, -7.4783, -7.4783, -6.9803, -6.2986, -7.8671, -7.8671, -7.8671, -7.8671, -7.8671, -7.8671, -7.8671, -7.8671, -7.8671, -7.8671, -7.1979, -6.5174, -5.964, -6.5174, -6.5169, -6.9878, -6.9878, -6.8013, -6.8011, -7.1979, -4.9872, -6.6491, -6.3471, -7.1984, -7.1981, -6.5168, -6.8419, -6.9832, -7.197, -7.1978, -7.1979, -7.198, -6.2855, -6.5044, -6.5048, -6.6362, -6.788, -6.9681, -7.1854, -7.1856, -7.1963, -7.4652, -7.4652, -7.4651, -7.4652, -7.4652, -7.4656, -7.4656, -6.9671, -7.5355, -7.8546, -7.8546, -7.8546, -7.8546, -7.8546, -7.8546, -7.8546, -7.8546, -7.8546, -7.8546, -7.8547, -7.8546, -6.7918, -6.7676, -5.1426, -6.4144, -6.5049, -6.4144, -6.4144, -6.4144, -6.9682, -6.7884, -7.1859, -5.3728, -6.5408, -6.0809, -6.171, -5.5955, -6.3046, -7.1856, -5.8454, -7.1856, -7.1856, -7.1852, -7.1853, -4.1709, -6.6539, -6.6583, -7.0507, -7.0507, -7.0508, -7.051, -7.0512, -7.0852, -7.33, -7.3301, -7.3304, -7.3304, -7.3304, -7.3304, -7.3307, -7.3307, -7.3308, -6.6539, -7.7196, -7.7196, -7.7196, -7.7196, -7.7196, -7.7196, -7.7196, -7.7196, -7.7196, -7.7197, -7.7197, -6.6536, -6.8323, -6.3698, -6.8328, -7.0512, -7.3307, -7.0511, -7.0504, -6.371, -6.6535, -6.3695, -5.7464, -6.3704, -5.5109, -6.2536, -7.0509, -6.3403, -6.6532, -6.8322, -7.0509, -6.3048, -7.0506, -7.0506], \"loglift\": [30.0, 29.0, 28.0, 27.0, 26.0, 25.0, 24.0, 23.0, 22.0, 21.0, 20.0, 19.0, 18.0, 17.0, 16.0, 15.0, 14.0, 13.0, 12.0, 11.0, 10.0, 9.0, 8.0, 7.0, 6.0, 5.0, 4.0, 3.0, 2.0, 1.0, 1.8521, 1.8175, 1.804, 1.7994, 1.7936, 1.7882, 1.7882, 1.7809, 1.7807, 1.7807, 1.7725, 1.7715, 1.7597, 1.7595, 1.7467, 1.7443, 1.744, 1.744, 1.744, 1.723, 1.7206, 1.714, 1.6933, 1.6933, 1.6931, 1.6929, 1.6928, 1.6927, 1.6924, 1.6924, 1.6874, 1.6653, 1.6691, 1.5179, 1.5955, 1.2695, 1.3866, 1.4163, 0.5634, 1.1923, 1.2382, 0.4767, 1.4067, 0.291, 1.3711, 0.6209, -0.0971, 0.8256, 2.0336, 1.9877, 1.9877, 1.9877, 1.9877, 1.9877, 1.9877, 1.9877, 1.9877, 1.9877, 1.9877, 1.9877, 1.9877, 1.9877, 1.9877, 1.975, 1.975, 1.975, 1.975, 1.975, 1.975, 1.975, 1.975, 1.975, 1.9738, 1.9738, 1.9738, 1.9585, 1.9585, 1.9572, 1.8887, 1.7157, 1.7677, 1.6874, 1.8304, 0.4111, 1.4895, 1.6941, -0.323, 0.4567, 0.3711, 2.0538, 2.034, 2.0173, 2.0173, 2.0013, 1.9988, 1.9987, 1.9774, 1.9449, 1.9449, 1.9441, 1.9441, 1.9435, 1.9403, 1.9154, 1.8942, 1.8931, 1.8929, 1.8928, 1.8928, 1.8925, 1.8922, 1.8921, 1.8921, 1.892, 1.892, 1.8919, 1.8919, 1.8918, 1.8918, 1.872, 1.8658, 1.8655, 1.8575, 1.8117, 1.8548, 1.8099, 1.6851, 1.7477, 1.7364, 1.3905, 1.6198, 1.7199, 1.7198, 1.0923, 1.2669, 1.2462, 1.2849, 1.2442, 1.5126, 0.6187, 1.4758, -0.65, 0.9792, 0.0276, 0.6592, 0.7604, 0.7258, 2.2586, 2.2586, 2.2586, 2.2586, 2.2584, 2.1883, 2.155, 2.1128, 2.0766, 2.0763, 2.0759, 2.0221, 2.0221, 2.0221, 2.0219, 2.0218, 2.021, 2.0206, 2.0204, 1.9479, 1.945, 1.9219, 1.9219, 1.9219, 1.9219, 1.9219, 1.9218, 1.9217, 1.9217, 1.9217, 1.8673, 1.7089, 1.6757, 1.7086, 1.8169, 1.5966, 1.8019, 1.8019, 1.8017, 1.5469, 1.6177, -0.1122, 0.646, 1.4991, 1.2688, 0.0296, 0.7919, 0.2989, -0.3844, 0.4537, 2.1974, 2.1613, 2.1612, 2.1612, 2.1607, 2.1601, 2.16, 2.1045, 2.1045, 2.1045, 2.1045, 2.1038, 2.1034, 2.1034, 2.1033, 2.1023, 2.0398, 2.0021, 2.0021, 2.0021, 2.0021, 2.0021, 2.0021, 2.0021, 2.0021, 2.002, 2.002, 2.0019, 2.0019, 2.0019, 1.98, 1.815, 1.8929, 1.8621, 1.8618, 1.562, 1.7044, 1.7043, 1.704, 0.719, 1.6908, 1.1126, 1.1951, 1.0955, -1.0452, 1.0763, 1.0165, 0.8657, 0.5966, 0.4031, -0.3207, 0.7242, -0.4723, 0.0828, 1.0951, 2.3038, 2.2508, 2.2433, 2.2184, 2.1815, 2.1815, 2.1812, 2.181, 2.1807, 2.1795, 2.1792, 2.178, 2.1246, 2.1244, 2.1242, 2.1241, 2.1241, 2.1241, 2.124, 2.124, 2.124, 2.124, 2.1239, 2.1236, 2.1225, 2.1205, 2.0726, 2.0214, 2.0214, 2.0214, 2.0098, 2.0097, 2.0088, 1.9857, 1.9277, 1.3138, 1.2431, 1.8029, 0.6847, 1.4691, 1.3975, 1.3975, 1.3295, 1.58, 0.2409, -1.0523, 1.3598, -0.9072, 0.8717, 0.4446, 0.8356, 2.4131, 2.413, 2.413, 2.4096, 2.4063, 2.4062, 2.4062, 2.4059, 2.4059, 2.4022, 2.4021, 2.4021, 2.4021, 2.402, 2.4019, 2.4018, 2.4018, 2.3973, 2.3973, 2.3972, 2.3972, 2.3972, 2.3971, 2.3917, 2.3917, 2.3917, 2.3917, 2.3851, 2.3773, 2.3679, 2.3483, 2.3019, 2.2984, 2.2635, 2.2161, 2.2898, 2.2471, 2.13, 2.0963, 0.2947, 0.6713, 0.728, 2.3914, 2.3444, 2.3299, 2.3185, 2.3179, 2.3174, 2.2801, 2.2801, 2.2799, 2.2795, 2.2794, 2.2757, 2.2201, 2.2201, 2.2193, 2.2193, 2.2192, 2.2192, 2.1665, 2.1381, 2.1124, 2.1124, 2.1124, 2.1124, 2.1124, 2.1124, 2.1124, 2.1124, 2.1124, 2.1124, 2.1016, 2.0801, 2.059, 1.9967, 1.9956, 2.0169, 2.0168, 1.9747, 1.9602, 1.9578, 0.2861, 1.2151, 0.5987, 1.7849, 1.7619, 0.3713, 0.1965, 0.1211, 1.0474, 1.0379, 0.355, 1.6799, 2.4188, 2.3992, 2.3988, 2.3841, 2.3644, 2.3364, 2.2989, 2.2988, 2.2865, 2.2384, 2.2384, 2.2384, 2.2384, 2.2384, 2.238, 2.238, 2.182, 2.1603, 2.1302, 2.1302, 2.1302, 2.1302, 2.1302, 2.1302, 2.1302, 2.1302, 2.1301, 2.1301, 2.1301, 2.1301, 2.1097, 2.0879, 1.9616, 2.0075, 1.9923, 1.9305, 1.9304, 1.9304, 2.0092, 1.9633, 1.9999, 1.5154, 1.8024, 1.6565, 1.6011, 0.3579, 0.777, 1.78, -0.5722, 1.602, 1.602, 1.1608, 1.1607, 2.7546, 2.6018, 2.5965, 2.5294, 2.5293, 2.5292, 2.529, 2.5288, 2.4884, 2.4627, 2.4626, 2.4623, 2.4622, 2.4622, 2.4621, 2.4619, 2.4618, 2.4618, 2.4481, 2.3434, 2.3434, 2.3434, 2.3434, 2.3434, 2.3434, 2.3434, 2.3434, 2.3434, 2.3433, 2.3433, 2.3297, 2.2616, 2.2139, 2.2455, 2.169, 2.2247, 2.1255, 2.1141, 1.8734, 1.8981, 1.7638, 1.1417, 1.4691, -0.2377, 0.828, 1.9898, 0.764, 1.2155, 1.5119, 1.881, 0.2116, 1.1615, 1.0712]}, \"token.table\": {\"Topic\": [3, 9, 3, 7, 1, 2, 5, 6, 8, 9, 10, 6, 9, 3, 8, 8, 7, 5, 1, 9, 1, 2, 3, 4, 5, 6, 7, 8, 9, 10, 8, 1, 3, 7, 1, 3, 4, 5, 6, 8, 9, 10, 5, 9, 4, 1, 2, 3, 5, 6, 9, 10, 10, 4, 7, 1, 3, 4, 7, 8, 1, 7, 8, 5, 6, 7, 7, 7, 7, 7, 7, 1, 7, 7, 6, 6, 6, 8, 1, 4, 7, 7, 1, 2, 3, 4, 8, 1, 3, 4, 4, 5, 7, 3, 2, 2, 6, 6, 6, 6, 9, 6, 4, 5, 9, 3, 5, 9, 1, 7, 3, 5, 10, 6, 9, 6, 3, 2, 1, 3, 8, 2, 6, 1, 5, 3, 7, 9, 1, 4, 5, 10, 7, 9, 9, 8, 7, 9, 1, 2, 3, 4, 7, 8, 9, 10, 1, 2, 3, 5, 6, 8, 9, 3, 6, 7, 4, 9, 10, 8, 1, 2, 4, 8, 10, 6, 1, 2, 5, 8, 1, 2, 5, 6, 8, 9, 10, 1, 7, 9, 10, 8, 8, 9, 8, 8, 2, 8, 10, 1, 3, 8, 7, 9, 6, 3, 2, 2, 10, 9, 3, 4, 5, 7, 8, 9, 10, 5, 7, 10, 8, 9, 9, 9, 1, 9, 8, 9, 9, 7, 5, 5, 10, 9, 4, 1, 3, 4, 5, 6, 7, 9, 6, 5, 8, 7, 1, 9, 5, 7, 9, 10, 9, 10, 1, 3, 6, 3, 1, 4, 10, 8, 8, 4, 1, 2, 3, 5, 7, 4, 4, 8, 4, 5, 10, 3, 5, 9, 9, 4, 8, 8, 3, 4, 6, 6, 6, 7, 8, 8, 9, 6, 7, 2, 8, 10, 1, 1, 5, 1, 2, 3, 5, 6, 7, 3, 5, 8, 2, 6, 8, 1, 3, 1, 3, 4, 6, 8, 10, 1, 2, 3, 4, 5, 6, 7, 9, 10, 1, 2, 3, 4, 5, 6, 7, 8, 9, 10, 2, 5, 2, 3, 4, 10, 8, 9, 6, 3, 4, 4, 2, 4, 5, 6, 9, 3, 1, 3, 4, 5, 6, 7, 9, 4, 2, 4, 5, 6, 8, 1, 3, 5, 7, 10, 1, 7, 7, 3, 5, 9, 10, 5, 10, 5, 1, 1, 2, 5, 1, 2, 4, 10, 7, 7, 2, 2, 2, 1, 7, 3, 4, 5, 9, 10, 7, 7, 3, 4, 3, 7, 1, 2, 3, 4, 5, 10, 3, 4, 7, 8, 4, 2, 1, 4, 10, 2, 1, 3, 3, 4, 9, 6, 8, 8, 9, 10, 4, 9, 6, 7, 8, 8, 1, 2, 3, 5, 10, 6, 9, 6, 6, 3, 5, 1, 4, 5, 9, 6, 9, 6, 8, 4, 1, 2, 3, 5, 6, 7, 8, 9, 10, 5, 5, 9, 5, 10, 3, 5, 9, 5, 9, 2, 5, 5, 7, 2, 6, 7, 2, 5, 8, 3, 5, 2, 4, 5, 6, 4, 9, 7, 4, 5, 8, 7, 6, 7, 10, 3, 10, 1, 1, 4, 5, 3, 1, 3, 4, 5, 6, 8, 9, 1, 3, 4, 5, 6, 7, 9, 4, 8, 9, 2, 5, 8, 6, 6, 7, 8, 4, 4, 6, 7, 8, 2, 2, 10, 8, 10, 7, 1, 2, 3, 4, 6, 8, 9, 10, 9, 1, 3, 4, 6, 10, 1, 1, 4, 9, 10, 3, 9, 4, 5, 10, 1, 4, 6, 10, 2, 8, 10, 6, 3, 5, 7, 1, 2, 3, 4, 5, 6, 7, 8, 10, 10, 1, 1, 5, 1, 2, 2, 3, 3, 1, 2, 8, 9, 1, 2, 5, 8, 9, 1, 7, 10, 10, 10, 1, 3, 4, 6, 9, 10, 10, 1, 3, 10, 3, 1, 2, 3, 5, 6, 8, 9, 3, 10, 6, 4, 1, 9, 3, 4, 5, 8, 10, 5, 1, 7, 9, 1, 2, 3, 5, 8, 9, 10, 9, 10, 1, 2, 9, 10, 5, 9, 4, 1, 3, 4, 6, 10, 10, 3, 5, 1, 4, 10, 8, 1, 2, 4, 6, 7, 8, 9, 10, 1, 2, 5, 6, 1, 3, 4, 6, 2, 3, 2, 4, 1, 2, 9, 10, 8, 8, 1, 4, 8, 10, 1, 2, 5, 7, 2, 3, 8, 3, 3, 7, 8, 6, 10, 3, 1, 9, 1, 3, 3, 1, 1, 9, 10, 7, 9, 7, 7, 2, 6, 8, 6, 4, 9, 3, 2, 1, 2, 8, 9, 6, 8, 9, 5, 1, 1, 1, 1, 1, 1, 7, 8, 9, 10, 8, 8, 2, 4, 8, 10, 2, 1, 3, 8, 8, 1, 1, 1, 1, 5, 6, 8, 10, 4, 4, 8, 9, 1, 2, 3, 1, 4, 9, 1, 2, 3, 4, 6, 7, 8, 9, 6, 1, 2, 9, 1, 9, 10, 10, 9, 6, 10, 5, 6, 1, 5, 6, 9, 10, 1, 5, 6, 2, 2, 4, 5, 2, 1, 4, 5, 6, 4, 1, 2, 4, 8, 9, 10, 2, 2, 2, 10, 1, 4, 5, 9, 2, 4, 9, 10, 1, 9, 10, 5, 9, 5, 1, 2, 3, 9, 2, 3, 5, 7, 9, 3, 10, 6, 10, 5, 1, 3, 4, 5, 6, 4, 5, 5, 1, 1, 10, 5, 8, 10, 4, 5, 8], \"Freq\": [0.805739690347237, 0.9103866752485479, 0.6182566071526113, 0.20608553571753713, 0.3146660170768428, 0.10488867235894758, 0.10488867235894758, 0.10488867235894758, 0.20977734471789516, 0.10488867235894758, 0.10488867235894758, 0.8181205186047434, 0.11687435980067763, 0.9628133276059961, 0.5998779758738717, 0.5998775398166232, 0.9015378874615276, 0.8639367742060732, 0.5463909591788143, 0.3642606394525429, 0.2710911889636827, 0.18976383227457788, 0.0596400615720102, 0.09217100424765212, 0.032530942675641925, 0.032530942675641925, 0.11385829936474674, 0.10843647558547308, 0.043374590234189235, 0.04879641401346289, 0.904962033998614, 0.1348657407664569, 0.5394629630658276, 0.2697314815329138, 0.06614771367602545, 0.4630339957321782, 0.03307385683801273, 0.06614771367602545, 0.03307385683801273, 0.03307385683801273, 0.16536928419006364, 0.1322954273520509, 0.5756843330600593, 0.603027070145713, 0.8464916648177567, 0.17502774472961, 0.17502774472961, 0.70011097891844, 0.6913272657800354, 0.697004942149457, 0.9104061797510495, 0.49760269015533143, 0.8726027703548379, 0.8450271476360071, 0.9029059002898367, 0.1344052714689288, 0.8064316288135728, 0.0448017571563096, 0.8149510352847129, 0.09055011503163478, 0.2005684583579918, 0.6685615278599727, 0.06685615278599727, 0.21753692941692204, 0.6526107882507661, 0.902911585467211, 0.9720848729633196, 0.9029145589378056, 0.9720845475829113, 0.8346278579155691, 0.9033411803303832, 0.17581387824800027, 0.7911624521160011, 0.983977343531984, 0.8704559477865729, 0.8704650423241261, 0.7474288466724843, 0.9050483793054415, 0.13904908176459813, 0.06952454088229906, 0.6952454088229906, 0.9633394909209647, 0.10120243800113524, 0.10120243800113524, 0.6409487740071899, 0.10120243800113524, 0.03373414600037841, 0.1468906391957128, 0.7834167423771349, 0.04896354639857093, 0.6803043608826447, 0.34015218044132234, 0.9633588740382067, 0.8056931724272314, 0.9835931647707191, 0.7986759850806718, 0.13311266418011197, 0.8728057025460582, 0.8704581586242243, 0.5869225004173679, 0.29346125020868397, 0.8704487825730576, 0.37967080036169787, 0.37967080036169787, 0.6030288869011717, 0.35094133571053654, 0.11698044523684552, 0.5849022261842276, 0.9253371826190423, 0.9633555888729658, 0.8057290155073947, 0.8639218100917778, 0.652113705654252, 0.7538088838005141, 0.2512696279335047, 0.8704699927735127, 0.8057482704598412, 0.8730032538349183, 0.12392466209703733, 0.7435479725822239, 0.12392466209703733, 0.8729993140558293, 0.5795504027087561, 0.18816999320288674, 0.752679972811547, 0.2724626897414255, 0.13623134487071276, 0.544925379482851, 0.8483859269435884, 0.2460913314862929, 0.7382739944588786, 0.8046117044490859, 0.9633541965050503, 0.8379462577645753, 0.6030249155990659, 0.7260101517447581, 0.261458369347765, 0.7843751080432949, 0.07057446842201334, 0.07057446842201334, 0.28229787368805337, 0.07057446842201334, 0.07057446842201334, 0.07057446842201334, 0.07057446842201334, 0.28229787368805337, 0.12745847570797095, 0.06372923785398547, 0.2549169514159419, 0.06372923785398547, 0.06372923785398547, 0.06372923785398547, 0.4461046649778983, 0.19087057541338667, 0.38174115082677335, 0.19087057541338667, 0.5653523326233666, 0.3925243698560009, 0.3925243698560009, 0.9103362791338974, 0.18718962017996144, 0.28078443026994215, 0.18718962017996144, 0.09359481008998072, 0.18718962017996144, 0.8704580617112556, 0.1434186342653131, 0.6453838541939089, 0.07170931713265655, 0.07170931713265655, 0.2180682923041336, 0.0272585365380167, 0.0272585365380167, 0.0272585365380167, 0.1090341461520668, 0.38161951153223383, 0.19080975576611692, 0.23460305244035443, 0.23460305244035443, 0.23460305244035443, 0.46920610488070885, 0.5998735841834005, 0.6078020876281421, 0.30390104381407107, 0.5998775398166232, 0.5998777849884666, 0.22629130850786136, 0.678873925523584, 0.22629130850786136, 0.1144732101702235, 0.8013124711915645, 0.1144732101702235, 0.9036908338072136, 0.8181229689059784, 0.8716608937351289, 0.8056846557348502, 0.8730028244602966, 0.9834570120737751, 0.8045980993242885, 0.8181563704137742, 0.03383318685213947, 0.03383318685213947, 0.03383318685213947, 0.06766637370427894, 0.1014995605564184, 0.575164176486371, 0.13533274740855789, 0.189365481812545, 0.37873096362509, 0.37873096362509, 0.2041063165750524, 0.6123189497251572, 0.7869548599117339, 0.6030274401534358, 0.8414249999232135, 0.1682849999846427, 0.7265575425777362, 0.6030199724148065, 0.7300768499714075, 0.9029247194534714, 0.5756769557251931, 0.575675217810213, 0.4976376821963729, 0.9103826321910522, 0.8465296132340544, 0.23730302850399856, 0.11865151425199928, 0.05932575712599964, 0.05932575712599964, 0.35595454275599786, 0.05932575712599964, 0.05932575712599964, 0.6968963191066259, 0.7000185935172893, 0.3500092967586447, 0.9033433704668716, 0.5463923403444249, 0.3642615602296166, 0.23377469664893152, 0.23377469664893152, 0.11688734832446576, 0.23377469664893152, 0.5424467912376549, 0.27122339561882747, 0.23863228276339926, 0.23863228276339926, 0.4772645655267985, 0.8057074757239856, 0.27440477101069377, 0.5488095420213875, 0.49756333705014777, 0.5998726497894687, 0.5998731169860707, 0.5653497013938462, 0.898979721174407, 0.669723902754707, 0.1339447805509414, 0.1339447805509414, 0.1339447805509414, 0.6764973199765766, 0.9766196396218688, 0.7265782484264578, 0.14854087136878655, 0.14854087136878655, 0.5941634854751462, 0.3509427791403272, 0.11698092638010905, 0.5849046319005453, 0.6030231542584791, 0.8442748227896921, 0.5998771349068888, 0.5998779758738717, 0.23905893530730118, 0.7171768059219036, 0.6969322167552756, 0.6969430383733881, 0.38328657047349657, 0.38328657047349657, 0.2555243803156644, 0.726501759215166, 0.6030258984575866, 0.8704209769582084, 0.9036890548786001, 0.22151650688761737, 0.44303301377523474, 0.22151650688761737, 0.8989689634100306, 0.8484106363212519, 0.69134468831728, 0.09455554458784282, 0.5673332675270569, 0.09455554458784282, 0.09455554458784282, 0.09455554458784282, 0.09455554458784282, 0.9125164389753118, 0.5756823368675582, 0.7264816505129155, 0.9834572151992623, 0.6968730867414953, 0.9102977887397179, 0.19723428172460916, 0.7889371268984366, 0.3630704068553159, 0.09076760171382897, 0.09076760171382897, 0.18153520342765794, 0.09076760171382897, 0.09076760171382897, 0.2860156267860477, 0.05720312535720953, 0.11440625071441907, 0.11440625071441907, 0.11440625071441907, 0.05720312535720953, 0.11440625071441907, 0.11440625071441907, 0.05720312535720953, 0.11921541877580961, 0.11921541877580961, 0.23843083755161923, 0.05960770938790481, 0.11921541877580961, 0.11921541877580961, 0.05960770938790481, 0.05960770938790481, 0.11921541877580961, 0.05960770938790481, 0.9835987872156876, 0.5756841367126421, 0.9834560061813261, 0.8057117126915758, 0.565350092462341, 0.4975919062017862, 0.8462483767074394, 0.14104139611790656, 0.5795457416134056, 0.7973201822036243, 0.8465138182283748, 0.8465157521895246, 0.3569384569536849, 0.1189794856512283, 0.2379589713024566, 0.1189794856512283, 0.1189794856512283, 0.9630088024214891, 0.3755699038780016, 0.1877849519390008, 0.0938924759695004, 0.0938924759695004, 0.1877849519390008, 0.9029127572959865, 0.9103779127543402, 0.6765602777572179, 0.23853085250892272, 0.7155925575267681, 0.1385566544116222, 0.2771133088232444, 0.5542266176464888, 0.43424636464191896, 0.10856159116047974, 0.21712318232095948, 0.21712318232095948, 0.10856159116047974, 0.1846219061827005, 0.8307985778221522, 0.9720865540473169, 0.3509417141663307, 0.11698057138877689, 0.5849028569438844, 0.6521096746672609, 0.5756767946055008, 0.6520979760544344, 0.8639086931883828, 0.8991048683451944, 0.8034287357988736, 0.1004285919748592, 0.1004285919748592, 0.9370727433571074, 0.2687378583350652, 0.2687378583350652, 0.5374757166701304, 0.9633766802030632, 0.9033482069339431, 0.9196730989536972, 0.8730053507578189, 0.8730021419482009, 0.15375405888939317, 0.8456473238916625, 0.16000271620363665, 0.48000814861090996, 0.16000271620363665, 0.16000271620363665, 0.16000271620363665, 0.9633506357657602, 0.9720860581237948, 0.8057547270207236, 0.8465204276473288, 0.6182571692552258, 0.20608572308507525, 0.36330179725240386, 0.07266035945048077, 0.21798107835144231, 0.07266035945048077, 0.14532071890096154, 0.21798107835144231, 0.21357367269633612, 0.42714734539267224, 0.21357367269633612, 0.21357367269633612, 0.5653443666097552, 0.8730027040077695, 0.2655106444452235, 0.2655106444452235, 0.531021288890447, 0.8730021772417225, 0.17364064730870957, 0.781382912889193, 0.21761965695219043, 0.21761965695219043, 0.43523931390438086, 0.30120156969361533, 0.6024031393872307, 0.24742145967043247, 0.24742145967043247, 0.49484291934086494, 0.9766195299898764, 0.7311738612986848, 0.3580464594097494, 0.3580464594097494, 0.2386976396064996, 0.5998731169860707, 0.22008340293125228, 0.11004170146562614, 0.3301251043968784, 0.22008340293125228, 0.11004170146562614, 0.5869354147583671, 0.29346770737918354, 0.6969413272004404, 0.8704883790405162, 0.33919911643052925, 0.6783982328610585, 0.14075868359956395, 0.5630347343982558, 0.2815173671991279, 0.14075868359956395, 0.8703181818229964, 0.910400335816128, 0.3600746103725469, 0.5401119155588203, 0.5653475328263169, 0.12669690949735354, 0.1900453642460303, 0.12669690949735354, 0.1900453642460303, 0.1900453642460303, 0.06334845474867677, 0.09502268212301515, 0.031674227374338386, 0.031674227374338386, 0.8643823744522172, 0.6913648423060439, 0.91039817411826, 0.5756784852642524, 0.6521039801156605, 0.2526947573028308, 0.1263473786514154, 0.631736893257077, 0.8639344158032644, 0.9104016127438306, 0.8730049422996651, 0.5756790317268042, 0.8639298521928953, 0.963352592845887, 0.31755464101968645, 0.6351092820393729, 0.9029094789950369, 0.17741921274756364, 0.17741921274756364, 0.5322576382426909, 0.8057482940049746, 0.6913179399644374, 0.9834585277573501, 0.846566865391159, 0.5773147281888971, 0.28865736409444853, 0.8465135861536307, 0.9194128243632474, 0.9033385104802425, 0.289813988324968, 0.579627976649936, 0.289813988324968, 0.9566704678027165, 0.42083142096650833, 0.21041571048325416, 0.42083142096650833, 0.9337321168873982, 0.06669515120624273, 0.8989138798947454, 0.898918795127868, 0.6803001928638419, 0.34015009643192096, 0.9630858087203065, 0.2625219688122635, 0.36096770711686227, 0.1968914766091976, 0.06563049220306587, 0.06563049220306587, 0.032815246101532934, 0.06563049220306587, 0.2762974705248187, 0.11051898820992748, 0.05525949410496374, 0.05525949410496374, 0.3315569646297824, 0.11051898820992748, 0.05525949410496374, 0.19935948809513185, 0.3987189761902637, 0.19935948809513185, 0.9834589293554697, 0.8639383956154737, 0.7265727717361877, 0.8704133823486983, 0.38328588422297877, 0.38328588422297877, 0.25552392281531916, 0.565344662475686, 0.5653440146104745, 0.41184295470248716, 0.41184295470248716, 0.13728098490082905, 0.9007291274242015, 0.9834602400298242, 0.6521035623592267, 0.9049684456936686, 0.6521075301524587, 0.9036791260203129, 0.2586969820138194, 0.06467424550345485, 0.3880454730207291, 0.06467424550345485, 0.06467424550345485, 0.06467424550345485, 0.06467424550345485, 0.06467424550345485, 0.9162606276137235, 0.08055281416122652, 0.8055281416122652, 0.08055281416122652, 0.08055281416122652, 0.08055281416122652, 0.8989361818184237, 0.21094804234223366, 0.5273701058555842, 0.10547402117111683, 0.10547402117111683, 0.22022010714243254, 0.6606603214272976, 0.28768932628351657, 0.28768932628351657, 0.4315339894252748, 0.1522538057860858, 0.6090152231443432, 0.1522538057860858, 0.1522538057860858, 0.2262918556006621, 0.6788755668019862, 0.2262918556006621, 0.6969789105279277, 0.28578119500282956, 0.5715623900056591, 0.28578119500282956, 0.14436964348354747, 0.20211750087696648, 0.23099142957367597, 0.05774785739341899, 0.05774785739341899, 0.11549571478683798, 0.028873928696709496, 0.14436964348354747, 0.028873928696709496, 0.6521102038354206, 0.9437041495582605, 0.8861266341410381, 0.07384388617841985, 0.9370691087383228, 0.9834599377399788, 0.9008565486755846, 0.8001131956482256, 0.8057142916275496, 0.21640196118484184, 0.21640196118484184, 0.4328039223696837, 0.21640196118484184, 0.1217891751614038, 0.6698404633877209, 0.0608945875807019, 0.0608945875807019, 0.0608945875807019, 0.15155269400869378, 0.7577634700434689, 0.6521127922526176, 0.6521125154748203, 0.6521130429135091, 0.1174126666375562, 0.587063333187781, 0.1174126666375562, 0.1174126666375562, 0.1174126666375562, 0.1174126666375562, 0.4975983007356957, 0.9935740936773433, 0.9627421432379494, 0.4975908465342939, 0.8056820108370014, 0.13194737924219035, 0.06597368962109518, 0.2638947584843807, 0.06597368962109518, 0.06597368962109518, 0.06597368962109518, 0.39584213772657106, 0.9627577978784089, 0.99034069872306, 0.8704385488672541, 0.5653488266401211, 0.8990234915426946, 0.6030171109586379, 0.9628708683051889, 0.2898022182831751, 0.5796044365663502, 0.2898022182831751, 0.4975884211694134, 0.5756797737824929, 0.8983845819647329, 0.08167132563315754, 0.020417831408289386, 0.0723450397881959, 0.0723450397881959, 0.1446900795763918, 0.1446900795763918, 0.2893801591527836, 0.1446900795763918, 0.0723450397881959, 0.2215190626532661, 0.6645571879597983, 0.3513464783135575, 0.3513464783135575, 0.23423098554237165, 0.11711549277118583, 0.6913654765314703, 0.9033673272240086, 0.5653466702272388, 0.15321435965411476, 0.3064287193082295, 0.15321435965411476, 0.3064287193082295, 0.15321435965411476, 0.652097686549539, 0.3392454085345483, 0.6784908170690966, 0.9759918401813696, 0.6764933298214152, 0.4975927386528064, 0.9049791739978801, 0.5565883380573025, 0.08562897508573884, 0.010703621885717355, 0.032110865657152064, 0.16055432828576033, 0.010703621885717355, 0.11773984074289091, 0.010703621885717355, 0.6520571074429108, 0.08150713843036385, 0.3260285537214554, 0.8704619473530633, 0.07631008591411123, 0.7631008591411124, 0.07631008591411123, 0.07631008591411123, 0.9834573169192546, 0.9127033708030169, 0.9834563096293274, 0.9909895647495617, 0.3513496179825152, 0.3513496179825152, 0.23423307865501014, 0.11711653932750507, 0.7815684976693076, 0.9146455113393175, 0.16958430576672157, 0.08479215288336078, 0.6783372230668863, 0.08479215288336078, 0.8484253112427322, 0.24471684301012553, 0.48943368602025106, 0.24471684301012553, 0.17948113243896274, 0.717924529755851, 0.17948113243896274, 0.8056818020581259, 0.8057453848555104, 0.8047334966069539, 0.10059168707586924, 0.2494226330707911, 0.7482678992123734, 0.9545411014892912, 0.9048056048074296, 0.1508009341345716, 0.4202627654767014, 0.5603503539689352, 0.9126866680557145, 0.9924884841038317, 0.6146636160616348, 0.10244393601027246, 0.20488787202054493, 0.9633591275585426, 0.731176501461073, 0.9023547409732242, 0.9033701493856984, 0.1282429442198225, 0.1282429442198225, 0.6412147210991124, 0.5795505303235705, 0.6895325546500242, 0.3447662773250121, 0.805728612007946, 0.8730011796936834, 0.5775491066115129, 0.28877455330575647, 0.09625818443525215, 0.09625818443525215, 0.5861772075503844, 0.2930886037751922, 0.6030239559320404, 0.8639697455982035, 0.7561559616642696, 0.9253336842111323, 0.8848020852496652, 0.9041995325925839, 0.9848770754183148, 0.7141564696678734, 0.1691423217634437, 0.0187935913070493, 0.0187935913070493, 0.0751743652281972, 0.90495537740637, 0.9050342955630818, 0.1383328858259333, 0.1383328858259333, 0.5533315433037332, 0.1383328858259333, 0.983586425017876, 0.11459458750088794, 0.8021621125062156, 0.11459458750088794, 0.9102182434433495, 0.8484550678377891, 0.8848194666203915, 0.8847997745214073, 0.8697492356155392, 0.12424989080221988, 0.26317935432005296, 0.5263587086401059, 0.26317935432005296, 0.9766194575691708, 0.9766208183912962, 0.7825840131584784, 0.26086133771949277, 0.27582876428397907, 0.27582876428397907, 0.4413260228543665, 0.1881579134638272, 0.5644737403914817, 0.1881579134638272, 0.10598182474966793, 0.10598182474966793, 0.4239272989986717, 0.052990912374833964, 0.052990912374833964, 0.052990912374833964, 0.10598182474966793, 0.10598182474966793, 0.8702353692187528, 0.19493761454666195, 0.19493761454666195, 0.5848128436399858, 0.8989651301485391, 0.2807198788449747, 0.5614397576899494, 0.8045835072109442, 0.6030276236746144, 0.6967702637346985, 0.4976280862203228, 0.5756761615509878, 0.8704825328235708, 0.23359039996085884, 0.11679519998042942, 0.11679519998042942, 0.4671807999217177, 0.11679519998042942, 0.6495712117535164, 0.12991424235070329, 0.25982848470140657, 0.8730019018096637, 0.8730024319225461, 0.6803032606776895, 0.34015163033884477, 0.9007289673995182, 0.15090629859202345, 0.3018125971840469, 0.15090629859202345, 0.15090629859202345, 0.9203728869693524, 0.5163222558173698, 0.07376032225962426, 0.1475206445192485, 0.07376032225962426, 0.1475206445192485, 0.07376032225962426, 0.8730017059518591, 0.8730011825453519, 0.8730025351755669, 0.8046161402092248, 0.629696583272691, 0.15742414581817274, 0.3148482916363455, 0.6030286118475532, 0.1757150840945329, 0.1757150840945329, 0.5271452522835987, 0.8718531101266802, 0.6273227336569113, 0.2509290934627645, 0.12546454673138224, 0.5756892690705218, 0.6030201903022935, 0.8639424491656009, 0.10429350372652423, 0.8343480298121938, 0.026073375931631056, 0.05214675186326211, 0.7552712961651784, 0.0944089120206473, 0.0944089120206473, 0.0944089120206473, 0.0944089120206473, 0.7973144517367137, 0.7995191279394624, 0.24358650435598883, 0.48717300871197766, 0.6913654188732985, 0.24518389302304638, 0.4290718127903312, 0.061295973255761596, 0.061295973255761596, 0.12259194651152319, 0.8465193436944659, 0.5756850185207468, 0.5756892057724036, 0.7459370075148656, 0.9463506187863677, 0.804563020879339, 0.3174305605795015, 0.21162037371966766, 0.4232407474393353, 0.28980467313825675, 0.5796093462765135, 0.28980467313825675], \"Term\": [\"add chara\", \"aendance time\", \"aer aer\", \"aer aer\", \"ag articial\", \"ag articial\", \"ag articial\", \"ag articial\", \"ag articial\", \"ag articial\", \"ag articial\", \"alth care\", \"alth care\", \"alth distributns\", \"approximatapproximatmaximum approximatmaximum\", \"approximatmaximum im\", \"aregated cancer\", \"aro oaro\", \"art gt\", \"art gt\", \"articial intellence\", \"articial intellence\", \"articial intellence\", \"articial intellence\", \"articial intellence\", \"articial intellence\", \"articial intellence\", \"articial intellence\", \"articial intellence\", \"articial intellence\", \"auto reive\", \"automated market\", \"automated market\", \"automated market\", \"b b\", \"b b\", \"b b\", \"b b\", \"b b\", \"b b\", \"b b\", \"b b\", \"b ke\", \"band middle\", \"bardor nielsesprd\", \"bart chara\", \"bart chara\", \"bart chara\", \"baseline lli\", \"basic data\", \"basic minority\", \"ber lmogorov\", \"bi si\", \"bonacci bonacci\", \"bone cancer\", \"bor ti\", \"bor ti\", \"bor ti\", \"br articial\", \"br articial\", \"breast cancer\", \"breast cancer\", \"breast cancer\", \"cambridge cambridge\", \"cambridge cambridge\", \"cancer br\", \"cancer chronic\", \"cancer dull\", \"cancer gastric\", \"cancer licancer\", \"cancer prostate\", \"cancer renal\", \"cancer renal\", \"carcinoma cancer\", \"care consumer\", \"care informattechnology\", \"care nancial\", \"case polynomial\", \"cell carcinoma\", \"cell carcinoma\", \"cell carcinoma\", \"cell lymphoma\", \"chara bart\", \"chara bart\", \"chara bart\", \"chara bart\", \"chara bart\", \"chara bor\", \"chara bor\", \"chara bor\", \"chdreresearhospital washito\", \"chdreresearhospital washito\", \"chronic lymph\", \"city earth\", \"co lu\", \"conference nance\", \"conference nance\", \"consumer disetnary\", \"consumer staplalth\", \"consumer staplenergy\", \"consumer staplenergy\", \"consumer staplinformattechnology\", \"content content\", \"content content\", \"corse twinner\", \"corvee limo\", \"corvee limo\", \"corvee limo\", \"cumulative ur\", \"cy tic\", \"das yar\", \"data enhancement\", \"day day\", \"disetnary consumer\", \"disetnary consumer\", \"disetnary industrial\", \"distributns terjee\", \"dowalma rat\", \"drag ul\", \"drag ul\", \"drag ul\", \"draw dowalma\", \"dt ys\", \"du du\", \"du du\", \"du free\", \"du free\", \"du free\", \"du sud\", \"du ys\", \"du ys\", \"duke medical\", \"dull oblast\", \"dx e\", \"dy dx\", \"dynamic edgi\", \"e ft\", \"e ft\", \"eco psics\", \"eco psics\", \"eco psics\", \"eco psics\", \"eco psics\", \"eco psics\", \"eco psics\", \"eco psics\", \"economic society\", \"economic society\", \"economic society\", \"economic society\", \"economic society\", \"economic society\", \"economic society\", \"eg ov\", \"eg ov\", \"eg ov\", \"eh ti\", \"ei zi\", \"ei zi\", \"el el\", \"em articial\", \"em articial\", \"em articial\", \"em articial\", \"em articial\", \"energy consumer\", \"ep reinforcement\", \"ep reinforcement\", \"ep reinforcement\", \"ep reinforcement\", \"eq eq\", \"eq eq\", \"eq eq\", \"eq eq\", \"eq eq\", \"eq eq\", \"eq eq\", \"eq leymaka\", \"eq leymaka\", \"eq leymaka\", \"eq leymaka\", \"eq pq\", \"eq usi\", \"eq usi\", \"error error\", \"error im\", \"errors quant\", \"errors quant\", \"errors quant\", \"escu v\", \"escu v\", \"escu v\", \"esophageal cancer\", \"ez ez\", \"faor faor\", \"fk lp\", \"formance suary\", \"forward optiatno\", \"free tbisi\", \"ft dx\", \"ft ft\", \"ft ft\", \"ft ft\", \"ft ft\", \"ft ft\", \"ft ft\", \"ft ft\", \"ft gt\", \"ft gt\", \"ft gt\", \"ft note\", \"ft note\", \"ft ot\", \"ft schools\", \"ft ti\", \"ft ti\", \"ft ws\", \"ft xs\", \"ft xt\", \"gastric cancer\", \"gate gate\", \"gate lity\", \"gbert hk\", \"ge ge\", \"gel manevaluati\", \"go pi\", \"go pi\", \"go pi\", \"go pi\", \"go pi\", \"go pi\", \"go pi\", \"gone gone\", \"goodmafy gens\", \"goodmafy gens\", \"gra lima\", \"gt art\", \"gt art\", \"gt ft\", \"gt ft\", \"gt ft\", \"gt ft\", \"gt gt\", \"gt gt\", \"halo ux\", \"halo ux\", \"halo ux\", \"hara market\", \"hayashi yeshiva\", \"hayashi yeshiva\", \"hh ridge\", \"hi hi\", \"hi ui\", \"history technical\", \"ho chara\", \"ho ya\", \"ho ya\", \"ho ya\", \"ho ya\", \"hou corvee\", \"hts uster\", \"hts usteri\", \"ic solutns\", \"ic solutns\", \"ic solutns\", \"ice corvee\", \"ice corvee\", \"ice corvee\", \"iconsequently occur\", \"ii wi\", \"im approximatapproximatmaximum\", \"im maximum\", \"imod ph\", \"imod ph\", \"industrial consumer\", \"informattechnology alth\", \"initial price\", \"initial price\", \"initial price\", \"inpennt inpennt\", \"instead trefore\", \"institute united\", \"intellence lor\", \"intellence ned\", \"intellence ned\", \"intellence ned\", \"intellence test\", \"intellence u\", \"inter day\", \"internatnal conference\", \"internatnal conference\", \"internatnal conference\", \"internatnal conference\", \"internatnal conference\", \"internatnal conference\", \"inverted world\", \"investors investors\", \"ip ip\", \"iterflat number\", \"iv l\", \"ix iya\", \"jac er\", \"jac er\", \"journal economic\", \"journal economic\", \"journal economic\", \"journal economic\", \"journal economic\", \"journal economic\", \"journal nance\", \"journal nance\", \"journal nance\", \"journal nance\", \"journal nance\", \"journal nance\", \"journal nance\", \"journal nance\", \"journal nance\", \"journal nancial\", \"journal nancial\", \"journal nancial\", \"journal nancial\", \"journal nancial\", \"journal nancial\", \"journal nancial\", \"journal nancial\", \"journal nancial\", \"journal nancial\", \"ka uk\", \"ke b\", \"kelly iterflat\", \"kelly kelly\", \"keynesiaeconomics sll\", \"ki hou\", \"ki ki\", \"ki ki\", \"krishna boom\", \"lag add\", \"large numbers\", \"law large\", \"le gue\", \"le gue\", \"le gue\", \"le gue\", \"le gue\", \"le lomercer\", \"le rou\", \"le rou\", \"le rou\", \"le rou\", \"le rou\", \"leukemia esophageal\", \"leure notmatmatics\", \"li fa\", \"li li\", \"li li\", \"lia ni\", \"lia ni\", \"lia ni\", \"lib lib\", \"lib lib\", \"lib lib\", \"lib lib\", \"lib lib\", \"licancer lu\", \"licancer lu\", \"lima breast\", \"limo nov\", \"limo nov\", \"limo nov\", \"linda ra\", \"lity lity\", \"llel genetic\", \"lli elegant\", \"lli racer\", \"lli stable\", \"lli stable\", \"lli stable\", \"lli us\", \"lmogorov mir\", \"lmogorov mir\", \"lmogorov mir\", \"lo time\", \"lor gra\", \"loss max\", \"lossg w\", \"losstotal wins\", \"lu cancer\", \"lu cancer\", \"lux marcs\", \"lux marcs\", \"lux marcs\", \"lux marcs\", \"lux marcs\", \"lymph cy\", \"lymphoma bone\", \"makers ar\", \"manevaluati chaos\", \"market makers\", \"market makers\", \"mars li\", \"mars li\", \"mars li\", \"mars li\", \"mars li\", \"mars li\", \"mat lab\", \"mat lab\", \"mat lab\", \"mat lab\", \"math toolbox\", \"max draw\", \"max max\", \"max max\", \"max max\", \"max wimax\", \"meics applicatns\", \"meics applicatns\", \"minority game\", \"minority game\", \"minority game\", \"modi lia\", \"modi lia\", \"mt mt\", \"mt mt\", \"mt mt\", \"mtns hts\", \"na nb\", \"nal price\", \"nal price\", \"nal price\", \"nance mr\", \"nance vno\", \"nance vno\", \"nance vno\", \"nance vno\", \"nance vno\", \"nancial alth\", \"nancial alth\", \"nancial industrial\", \"nancial nancial\", \"nancial quantitative\", \"nancial quantitative\", \"nature genetics\", \"nature genetics\", \"nature genetics\", \"nature genetics\", \"nature plenty\", \"nb na\", \"nberg modi\", \"nberg modi\", \"net simulatterministic\", \"new york\", \"new york\", \"new york\", \"new york\", \"new york\", \"new york\", \"new york\", \"new york\", \"new york\", \"ni ni\", \"ni si\", \"nim nt\", \"normal mt\", \"normalized eonential\", \"nov corse\", \"nov corse\", \"nov corse\", \"nov nov\", \"nt nim\", \"number wins\", \"oaro true\", \"oatnal calculus\", \"oblast oma\", \"ola v\", \"ola v\", \"oma ovariacancer\", \"one one\", \"one one\", \"one one\", \"onel chara\", \"ops ops\", \"optiatno maximum\", \"optput optbinary\", \"orr executor\", \"orr executor\", \"osclator net\", \"ot ft\", \"ovariacancer paneatic\", \"pac zu\", \"pac zu\", \"pac zu\", \"paneatic cancer\", \"paris course\", \"paris course\", \"paris course\", \"patria rca\", \"patria rca\", \"pc ti\", \"pd pd\", \"pediatric cancer\", \"pediatric cancer\", \"pet owicz\", \"ph ys\", \"ph ys\", \"ph ys\", \"ph ys\", \"ph ys\", \"ph ys\", \"ph ys\", \"pi krishna\", \"pi krishna\", \"pi krishna\", \"pi krishna\", \"pi krishna\", \"pi krishna\", \"pi krishna\", \"pi pi\", \"pi pi\", \"pi pi\", \"piogram walk\", \"pk pk\", \"polynomial case\", \"pr pl\", \"price nal\", \"price nal\", \"price nal\", \"price st\", \"price std\", \"price total\", \"price total\", \"price total\", \"probabitikelly probabititable\", \"probabititable formance\", \"probabity normalized\", \"process orr\", \"proposit eq\", \"prostate cancer\", \"psical review\", \"psical review\", \"psical review\", \"psical review\", \"psical review\", \"psical review\", \"psical review\", \"psical review\", \"psics ptrow\", \"psics statistical\", \"psics statistical\", \"psics statistical\", \"psics statistical\", \"psics statistical\", \"pt nt\", \"pt pt\", \"pt pt\", \"pt pt\", \"pt pt\", \"ptrow quantum\", \"ptrow quantum\", \"quant ic\", \"quant ic\", \"quant ic\", \"quant nance\", \"quant nance\", \"quant nance\", \"quant nance\", \"quant oid\", \"quant oid\", \"quant oid\", \"quant quant\", \"quantitative analysis\", \"quantitative analysis\", \"quantitative analysis\", \"quantitative nance\", \"quantitative nance\", \"quantitative nance\", \"quantitative nance\", \"quantitative nance\", \"quantitative nance\", \"quantitative nance\", \"quantitative nance\", \"quantitative nance\", \"ra ske\", \"racer lli\", \"racer racer\", \"racer racer\", \"racer us\", \"rat piogram\", \"ray ka\", \"rca chara\", \"rca gaa\", \"rd rd\", \"rd rd\", \"rd rd\", \"rd rd\", \"reinforcement learni\", \"reinforcement learni\", \"reinforcement learni\", \"reinforcement learni\", \"reinforcement learni\", \"renal cell\", \"renal cell\", \"researcr researcr\", \"researcr revier\", \"revier consequently\", \"review ters\", \"review ters\", \"review ters\", \"review ters\", \"review ters\", \"review ters\", \"ridge road\", \"risk mols\", \"ro matcs\", \"road stanford\", \"rough volatity\", \"royal economic\", \"royal economic\", \"royal economic\", \"royal economic\", \"royal economic\", \"royal economic\", \"royal economic\", \"rst last\", \"ry ry\", \"science nance\", \"science rd\", \"sds du\", \"sepropositutity unr\", \"set cac\", \"sh ubi\", \"sh ubi\", \"sh ubi\", \"sha ph\", \"sha share\", \"sha yu\", \"sha yu\", \"sha yu\", \"share share\", \"share share\", \"share share\", \"share share\", \"share share\", \"share share\", \"share share\", \"si bi\", \"si bi\", \"si ho\", \"si ho\", \"si ho\", \"si ho\", \"si ni\", \"simulati winner\", \"simulatterministic harmonic\", \"size au\", \"size au\", \"size au\", \"size au\", \"size au\", \"sla view\", \"sme risk\", \"sme risk\", \"snature snature\", \"soand corvee\", \"solutns hh\", \"source vaor\", \"st st\", \"st st\", \"st st\", \"st st\", \"st st\", \"st st\", \"st st\", \"st st\", \"stable baseline\", \"stable baseline\", \"stable baseline\", \"staplalth care\", \"statistical meics\", \"statistical meics\", \"statistical meics\", \"statistical meics\", \"statistics kelly\", \"stocks tr\", \"suary statistics\", \"subse tables\", \"sy si\", \"sy si\", \"sy si\", \"sy si\", \"table hts\", \"table mt\", \"table table\", \"table table\", \"table table\", \"table table\", \"te tx\", \"tensor flow\", \"tensor flow\", \"tensor flow\", \"terjee chara\", \"terjee chara\", \"terjee chara\", \"terjee patria\", \"terjee yar\", \"terry lns\", \"terry lns\", \"tg tg\", \"tg tg\", \"ti chara\", \"ti ft\", \"ti ft\", \"ti ka\", \"ti ka\", \"ti patria\", \"ti ti\", \"ti xi\", \"ti xi\", \"ti xi\", \"tic leukemia\", \"time aendance\", \"time lo\", \"time short\", \"time time\", \"time time\", \"time time\", \"tis et\", \"tk tk\", \"tk tk\", \"todo team\", \"total lossg\", \"tr articial\", \"tr articial\", \"tr articial\", \"tr articial\", \"trefore consequently\", \"trefore consequently\", \"trefore iconsequently\", \"true false\", \"ts te\", \"ts tx\", \"tx te\", \"tx ts\", \"tx tx\", \"u sha\", \"u sha\", \"u sha\", \"u sha\", \"u sha\", \"uconst articial\", \"ui hi\", \"ui ui\", \"ui ui\", \"ui ui\", \"ui ui\", \"uk co\", \"ul escu\", \"ul escu\", \"ul escu\", \"unit unit\", \"ur racer\", \"us lli\", \"us racer\", \"us us\", \"us us\", \"usi eq\", \"usi eq\", \"usi eq\", \"uster usteri\", \"usteri subse\", \"usteri table\", \"usteri table\", \"usteri usteri\", \"usteri usteri\", \"usteri usteri\", \"uter science\", \"uter science\", \"uter science\", \"v e\", \"v e\", \"v e\", \"v e\", \"v e\", \"v e\", \"v e\", \"v e\", \"value value\", \"var var\", \"var var\", \"var var\", \"vec doc\", \"vi si\", \"vi si\", \"vi vi\", \"view consir\", \"vla mor\", \"vno storm\", \"vs tse\", \"vs vs\", \"vt ft\", \"vt ft\", \"vt ft\", \"vt ft\", \"vt ft\", \"vt st\", \"vt st\", \"vt st\", \"w loss\", \"walk forward\", \"washito pediatric\", \"washito pediatric\", \"waters probabitikelly\", \"whole nature\", \"whole nature\", \"whole nature\", \"whole nature\", \"wi ii\", \"wi wi\", \"wi wi\", \"wi wi\", \"wi wi\", \"wi wi\", \"wi wi\", \"wimax loss\", \"wins losstotal\", \"wins total\", \"wlie yu\", \"word vec\", \"word vec\", \"word vec\", \"world serisuppose\", \"ws ws\", \"ws ws\", \"ws ws\", \"ws yi\", \"xi ti\", \"xi ti\", \"xi ti\", \"xi xj\", \"xs ft\", \"xs ys\", \"xt xt\", \"xt xt\", \"xt xt\", \"xt xt\", \"ya ya\", \"ya ya\", \"ya ya\", \"ya ya\", \"ya ya\", \"yar lag\", \"yi ws\", \"yi yi\", \"yi yi\", \"ys du\", \"ys rev\", \"ys rev\", \"ys rev\", \"ys rev\", \"ys rev\", \"ys soand\", \"ys xs\", \"ys ys\", \"yu rank\", \"yu u\", \"zi bi\", \"zi zi\", \"zi zi\", \"zi zi\", \"zu sh\", \"zu sh\", \"zu sh\"]}, \"R\": 30, \"lambda.step\": 0.01, \"plot.opts\": {\"xlab\": \"PC1\", \"ylab\": \"PC2\"}, \"topic.order\": [7, 1, 6, 4, 2, 5, 10, 9, 8, 3]};\n",
       "\n",
       "function LDAvis_load_lib(url, callback){\n",
       "  var s = document.createElement('script');\n",
       "  s.src = url;\n",
       "  s.async = true;\n",
       "  s.onreadystatechange = s.onload = callback;\n",
       "  s.onerror = function(){console.warn(\"failed to load library \" + url);};\n",
       "  document.getElementsByTagName(\"head\")[0].appendChild(s);\n",
       "}\n",
       "\n",
       "if(typeof(LDAvis) !== \"undefined\"){\n",
       "   // already loaded: just create the visualization\n",
       "   !function(LDAvis){\n",
       "       new LDAvis(\"#\" + \"ldavis_el1890827930806604323585725971\", ldavis_el1890827930806604323585725971_data);\n",
       "   }(LDAvis);\n",
       "}else if(typeof define === \"function\" && define.amd){\n",
       "   // require.js is available: use it to load d3/LDAvis\n",
       "   require.config({paths: {d3: \"https://d3js.org/d3.v5\"}});\n",
       "   require([\"d3\"], function(d3){\n",
       "      window.d3 = d3;\n",
       "      LDAvis_load_lib(\"https://cdn.jsdelivr.net/gh/bmabey/pyLDAvis@3.4.0/pyLDAvis/js/ldavis.v3.0.0.js\", function(){\n",
       "        new LDAvis(\"#\" + \"ldavis_el1890827930806604323585725971\", ldavis_el1890827930806604323585725971_data);\n",
       "      });\n",
       "    });\n",
       "}else{\n",
       "    // require.js not available: dynamically load d3 & LDAvis\n",
       "    LDAvis_load_lib(\"https://d3js.org/d3.v5.js\", function(){\n",
       "         LDAvis_load_lib(\"https://cdn.jsdelivr.net/gh/bmabey/pyLDAvis@3.4.0/pyLDAvis/js/ldavis.v3.0.0.js\", function(){\n",
       "                 new LDAvis(\"#\" + \"ldavis_el1890827930806604323585725971\", ldavis_el1890827930806604323585725971_data);\n",
       "            })\n",
       "         });\n",
       "}\n",
       "</script>"
      ],
      "text/plain": [
       "PreparedData(topic_coordinates=              x         y  topics  cluster       Freq\n",
       "topic                                                \n",
       "6      0.201209  0.018323       1        1  15.565054\n",
       "0     -0.037445 -0.186593       2        1  12.463004\n",
       "5     -0.062441  0.090821       3        1  11.914959\n",
       "3     -0.059888  0.061206       4        1  10.310689\n",
       "1     -0.032003  0.023128       5        1   9.430926\n",
       "4     -0.027112  0.017699       6        1   9.219454\n",
       "9      0.009327 -0.021983       7        1   8.475292\n",
       "8     -0.008307 -0.008162       8        1   8.266830\n",
       "7      0.014131  0.000505       9        1   8.098502\n",
       "2      0.002528  0.005057      10        1   6.255291, topic_info=               Term       Freq      Total Category  logprob  loglift\n",
       "8184          ti ti  71.000000  71.000000  Default  30.0000  30.0000\n",
       "10592         ry ry  35.000000  35.000000  Default  29.0000  29.0000\n",
       "19472     hts uster  40.000000  40.000000  Default  28.0000  28.0000\n",
       "19473      mtns hts  40.000000  40.000000  Default  27.0000  27.0000\n",
       "19475  uster usteri  40.000000  40.000000  Default  26.0000  26.0000\n",
       "...             ...        ...        ...      ...      ...      ...\n",
       "15627         gt ft   2.427061   8.555246  Topic10  -6.8322   1.5119\n",
       "3638   paris course   1.950275   4.752497  Topic10  -7.0509   1.8810\n",
       "7202          u sha   4.112686  53.209628  Topic10  -6.3048   0.2116\n",
       "8259          ti xi   1.950713   9.761437  Topic10  -7.0506   1.1615\n",
       "1636    em articial   1.950892  10.684353  Topic10  -7.0506   1.0712\n",
       "\n",
       "[533 rows x 6 columns], token_table=       Topic      Freq           Term\n",
       "term                                 \n",
       "21751      3  0.805740      add chara\n",
       "21496      9  0.910387  aendance time\n",
       "2473       3  0.618257        aer aer\n",
       "2473       7  0.206086        aer aer\n",
       "2277       1  0.314666    ag articial\n",
       "...      ...       ...            ...\n",
       "7586       8  0.211620          zi zi\n",
       "7586      10  0.423241          zi zi\n",
       "3853       4  0.289805          zu sh\n",
       "3853       5  0.579609          zu sh\n",
       "3853       8  0.289805          zu sh\n",
       "\n",
       "[873 rows x 3 columns], R=30, lambda_step=0.01, plot_opts={'xlab': 'PC1', 'ylab': 'PC2'}, topic_order=[7, 1, 6, 4, 2, 5, 10, 9, 8, 3])"
      ]
     },
     "execution_count": 22,
     "metadata": {},
     "output_type": "execute_result"
    }
   ],
   "source": [
    "pyLDAvis.enable_notebook()\n",
    "vis = gensimvis.prepare(lda_model_bigrams, corpus_bigrams, dictionary=dictionary_bigrams)\n",
    "vis"
   ]
  },
  {
   "cell_type": "code",
   "execution_count": 23,
   "metadata": {},
   "outputs": [],
   "source": [
    "#LSA (Latent Semantic Analysis = finding top ten topics)\n",
    "\n",
    "from sklearn.feature_extraction.text import CountVectorizer\n",
    "import scipy.stats as stats\n",
    "from sklearn.decomposition import TruncatedSVD\n",
    "\n",
    "reindexed_data = df['pdata_clean']\n",
    "\n",
    "small_count_vectorizer = CountVectorizer(stop_words='english', max_features=4000)\n",
    "small_text_sample = reindexed_data.sample(n=500, random_state=0).values\n",
    "small_document_term_matrix = small_count_vectorizer.fit_transform(small_text_sample)\n",
    "\n",
    "lsa_model = TruncatedSVD(n_components=10)\n",
    "lsa_topic_matrix = lsa_model.fit_transform(small_document_term_matrix)"
   ]
  },
  {
   "cell_type": "code",
   "execution_count": 24,
   "metadata": {},
   "outputs": [],
   "source": [
    "from collections import Counter \n",
    "\n",
    "def get_keys(topic_matrix):\n",
    "    '''\n",
    "    returns an integer list of predicted topic \n",
    "    categories for a given topic matrix\n",
    "    '''\n",
    "    keys = topic_matrix.argmax(axis=1).tolist()\n",
    "    return keys\n",
    "\n",
    "def keys_to_counts(keys):\n",
    "    \n",
    "    '''\n",
    "    returns a tuple of topic categories and their \n",
    "    accompanying magnitudes for a given list of keys\n",
    "    '''\n",
    "    \n",
    "    count_pairs = Counter(keys).items()\n",
    "    categories = [pair[0] for pair in count_pairs]\n",
    "    counts = [pair[1] for pair in count_pairs]\n",
    "    return (categories, counts)\n",
    "\n",
    "lsa_keys = get_keys(lsa_topic_matrix)\n",
    "lsa_categories, lsa_counts = keys_to_counts(lsa_keys)"
   ]
  },
  {
   "cell_type": "code",
   "execution_count": 25,
   "metadata": {},
   "outputs": [
    {
     "name": "stdout",
     "output_type": "stream",
     "text": [
      "Topic 1:  psics nance journal intellence ya articial li statistical ep chara\n",
      "Topic 2:  lib ya lia ki quantitative hou bitie sutrefore msoft rst\n",
      "Topic 3:  ry brid aat update ute hamtoniahand quantum gates table hamtoniaassumpttable\n",
      "Topic 4:  eq note pt st table trefore ki gt tse multiplayer\n",
      "Topic 5:  cancer sha cell yu intellence lu li nature st articial\n",
      "Topic 6:  ft gt yi ws fs note xt dx brownish vt\n",
      "Topic 7:  journal economic economics society nance nancial royal ty limo ined\n",
      "Topic 8:  st schools rd stochastic mult price xt proof trefore math\n",
      "Topic 9:  ti ni modi lia si nberg ros ui vp ined\n",
      "Topic 10:  intellence articial share uster usteri mtns subse hts tables time\n"
     ]
    }
   ],
   "source": [
    "def get_top_n_words(n, keys, document_term_matrix, count_vectorizer):\n",
    "    '''\n",
    "    returns a list of n_topic strings, where each string contains the n most common \n",
    "    words in a predicted category, in order\n",
    "    '''\n",
    "    top_word_indices = []\n",
    "    for topic in range(10):\n",
    "        temp_vector_sum = 0\n",
    "        for i in range(len(keys)):\n",
    "            if keys[i] == topic:\n",
    "                temp_vector_sum += document_term_matrix[i]\n",
    "        temp_vector_sum = temp_vector_sum.toarray()\n",
    "        top_n_word_indices = np.flip(np.argsort(temp_vector_sum)[0][-n:],0)\n",
    "        top_word_indices.append(top_n_word_indices)   \n",
    "    top_words = []\n",
    "    for topic in top_word_indices:\n",
    "        topic_words = []\n",
    "        for index in topic:\n",
    "            temp_word_vector = np.zeros((1,document_term_matrix.shape[1]))\n",
    "            temp_word_vector[:,index] = 1\n",
    "            the_word = count_vectorizer.inverse_transform(temp_word_vector)[0][0]\n",
    "            topic_words.append(the_word.encode('ascii').decode('utf-8'))\n",
    "        top_words.append(\" \".join(topic_words))         \n",
    "    return top_words\n",
    "top_n_words_lsa = get_top_n_words(10, lsa_keys, small_document_term_matrix, small_count_vectorizer)\n",
    "\n",
    "for i in range(len(top_n_words_lsa)):\n",
    "    print(\"Topic {}: \".format(i+1), top_n_words_lsa[i])"
   ]
  },
  {
   "cell_type": "code",
   "execution_count": 26,
   "metadata": {},
   "outputs": [
    {
     "data": {
      "image/png": "[encoded data removed]",
      "text/plain": [
       "<Figure size 2800x400 with 1 Axes>"
      ]
     },
     "metadata": {},
     "output_type": "display_data"
    }
   ],
   "source": [
    "import matplotlib.pyplot as plt\n",
    "\n",
    "top_3_words = get_top_n_words(3, lsa_keys, small_document_term_matrix, small_count_vectorizer)\n",
    "labels = ['Topic {}: \\n'.format(i+1) + top_3_words[i] for i in lsa_categories]\n",
    "\n",
    "fig, ax = plt.subplots(figsize=(28,4))\n",
    "ax.bar(lsa_categories, lsa_counts);\n",
    "ax.set_xticks(lsa_categories);\n",
    "ax.set_xticklabels(labels);\n",
    "ax.set_ylabel('arXiv paper data');\n",
    "ax.set_title('LSA topic counts');\n",
    "plt.show()\n"
   ]
  },
  {
   "cell_type": "code",
   "execution_count": null,
   "metadata": {},
   "outputs": [
    {
     "name": "stderr",
     "output_type": "stream",
     "text": [
      "c:\\ProgramData\\Anaconda3\\envs\\test_env\\Lib\\site-packages\\tqdm\\auto.py:21: TqdmWarning: IProgress not found. Please update jupyter and ipywidgets. See https://ipywidgets.readthedocs.io/en/stable/user_install.html\n",
      "  from .autonotebook import tqdm as notebook_tqdm\n",
      "2024-04-02 15:41:52,870 - BERTopic - Embedding - Transforming documents to embeddings.\n",
      "Batches: 100%|██████████| 36/36 [00:05<00:00,  6.73it/s]\n",
      "2024-04-02 15:42:00,538 - BERTopic - Embedding - Completed ✓\n",
      "2024-04-02 15:42:00,538 - BERTopic - Dimensionality - Fitting the dimensionality reduction algorithm\n",
      "2024-04-02 15:42:09,029 - BERTopic - Dimensionality - Completed ✓\n",
      "2024-04-02 15:42:09,029 - BERTopic - Cluster - Start clustering the reduced embeddings\n",
      "2024-04-02 15:42:09,087 - BERTopic - Cluster - Completed ✓\n",
      "2024-04-02 15:42:09,094 - BERTopic - Representation - Extracting topics from clusters using representation models.\n",
      "2024-04-02 15:42:09,207 - BERTopic - Representation - Completed ✓\n"
     ]
    }
   ],
   "source": [
    "import warnings\n",
    "import pandas as pd\n",
    "import numpy as np\n",
    "from bertopic import BERTopic\n",
    "from sentence_transformers import SentenceTransformer\n",
    "from sklearn.cluster import KMeans\n",
    "\n",
    "# Suppress warnings\n",
    "warnings.filterwarnings(\"ignore\")\n",
    "\n",
    "# Read the data from CSV\n",
    "dfx = pd.read_csv('cleaned_qf.csv')\n",
    "dfx['pdata_clean'] = dfx['pdata_clean'].astype(str)\n",
    "\n",
    "# Drop unnecessary columns\n",
    "dfx1 = dfx.drop([\"page_data\",\"summary\",\"page_number\",\"file_name\",\"title\"], axis=1)\n",
    "#dfx1 = dfx1.dropna()\n",
    "\n",
    "# Convert DataFrame to list of strings\n",
    "docs = dfx1['pdata_clean'].values.tolist()\n",
    "\n",
    "dfx1[\"length\"] = dfx1[\"pdata_clean\"].apply(lambda x : len(x.split()))\n",
    "\n",
    "model = BERTopic(verbose=True,embedding_model='paraphrase-MiniLM-L3-v2', min_topic_size=7)\n",
    "topics, _ = model.fit_transform(dfx1.pdata_clean)\n"
   ]
  },
  {
   "cell_type": "code",
   "execution_count": null,
   "metadata": {},
   "outputs": [
    {
     "data": {
      "text/html": [
       "<div>\n",
       "<style scoped>\n",
       "    .dataframe tbody tr th:only-of-type {\n",
       "        vertical-align: middle;\n",
       "    }\n",
       "\n",
       "    .dataframe tbody tr th {\n",
       "        vertical-align: top;\n",
       "    }\n",
       "\n",
       "    .dataframe thead th {\n",
       "        text-align: right;\n",
       "    }\n",
       "</style>\n",
       "<table border=\"1\" class=\"dataframe\">\n",
       "  <thead>\n",
       "    <tr style=\"text-align: right;\">\n",
       "      <th></th>\n",
       "      <th>Topic</th>\n",
       "      <th>Count</th>\n",
       "      <th>Name</th>\n",
       "      <th>Representation</th>\n",
       "      <th>Representative_Docs</th>\n",
       "    </tr>\n",
       "  </thead>\n",
       "  <tbody>\n",
       "    <tr>\n",
       "      <th>0</th>\n",
       "      <td>-1</td>\n",
       "      <td>353</td>\n",
       "      <td>-1_as_it_pt_for</td>\n",
       "      <td>[as, it, pt, for, lib, intellence, to, articia...</td>\n",
       "      <td>[multiplayer horvath jac er turf us analytic h...</td>\n",
       "    </tr>\n",
       "    <tr>\n",
       "      <th>1</th>\n",
       "      <td>0</td>\n",
       "      <td>55</td>\n",
       "      <td>0_ty_trend_resistance_term</td>\n",
       "      <td>[ty, trend, resistance, term, for, tre, as, it...</td>\n",
       "      <td>[eenvalue adapted halo ux ty ty ga furtr ty an...</td>\n",
       "    </tr>\n",
       "    <tr>\n",
       "      <th>2</th>\n",
       "      <td>1</td>\n",
       "      <td>43</td>\n",
       "      <td>1_journal_nance_nancial_psics</td>\n",
       "      <td>[journal, nance, nancial, psics, economics, ch...</td>\n",
       "      <td>[onel taxonomy master lsinki  technology s nla...</td>\n",
       "    </tr>\n",
       "    <tr>\n",
       "      <th>3</th>\n",
       "      <td>2</td>\n",
       "      <td>38</td>\n",
       "      <td>2_usteri_tables_subse_mtns</td>\n",
       "      <td>[usteri, tables, subse, mtns, hts, uster, subs...</td>\n",
       "      <td>[mtns hts  uster  usteri subse tables, mtns ht...</td>\n",
       "    </tr>\n",
       "    <tr>\n",
       "      <th>4</th>\n",
       "      <td>3</td>\n",
       "      <td>37</td>\n",
       "      <td>3_racer_ya_ep_learni</td>\n",
       "      <td>[racer, ya, ep, learni, us, lli, reinforcement...</td>\n",
       "      <td>[conference july washitoze chu li  ya  jia hao...</td>\n",
       "    </tr>\n",
       "    <tr>\n",
       "      <th>5</th>\n",
       "      <td>4</td>\n",
       "      <td>34</td>\n",
       "      <td>4_st_et_vt_gt</td>\n",
       "      <td>[st, et, vt, gt, dt, suppose, vc, vp, mult, note]</td>\n",
       "      <td>[st st   auxiary  st as st  stand   stand  t v...</td>\n",
       "    </tr>\n",
       "    <tr>\n",
       "      <th>6</th>\n",
       "      <td>5</td>\n",
       "      <td>33</td>\n",
       "      <td>5_intellence_nature_articial_li</td>\n",
       "      <td>[intellence, nature, articial, li, gut, wa, mc...</td>\n",
       "      <td>[steihas sur bull acad posci sugar jamndi ajou...</td>\n",
       "    </tr>\n",
       "    <tr>\n",
       "      <th>7</th>\n",
       "      <td>6</td>\n",
       "      <td>32</td>\n",
       "      <td>6_subse_mtns_tables_hts</td>\n",
       "      <td>[subse, mtns, tables, hts, uster, usteri, tabl...</td>\n",
       "      <td>[mtns hts  uster  usteri subse tables, mtns ht...</td>\n",
       "    </tr>\n",
       "    <tr>\n",
       "      <th>8</th>\n",
       "      <td>7</td>\n",
       "      <td>31</td>\n",
       "      <td>7_time_price_elori_assic</td>\n",
       "      <td>[time, price, elori, assic, keltner, short, in...</td>\n",
       "      <td>[elori assic quantitative strategi results t k...</td>\n",
       "    </tr>\n",
       "    <tr>\n",
       "      <th>9</th>\n",
       "      <td>8</td>\n",
       "      <td>30</td>\n",
       "      <td>8_tg_researcr_an_for</td>\n",
       "      <td>[tg, researcr, an, for, at, but, revier, day, ...</td>\n",
       "      <td>[day an t day an t t  day an t t for  t  aware...</td>\n",
       "    </tr>\n",
       "  </tbody>\n",
       "</table>\n",
       "</div>"
      ],
      "text/plain": [
       "   Topic  Count                             Name  \\\n",
       "0     -1    353                  -1_as_it_pt_for   \n",
       "1      0     55       0_ty_trend_resistance_term   \n",
       "2      1     43    1_journal_nance_nancial_psics   \n",
       "3      2     38       2_usteri_tables_subse_mtns   \n",
       "4      3     37             3_racer_ya_ep_learni   \n",
       "5      4     34                    4_st_et_vt_gt   \n",
       "6      5     33  5_intellence_nature_articial_li   \n",
       "7      6     32          6_subse_mtns_tables_hts   \n",
       "8      7     31         7_time_price_elori_assic   \n",
       "9      8     30             8_tg_researcr_an_for   \n",
       "\n",
       "                                      Representation  \\\n",
       "0  [as, it, pt, for, lib, intellence, to, articia...   \n",
       "1  [ty, trend, resistance, term, for, tre, as, it...   \n",
       "2  [journal, nance, nancial, psics, economics, ch...   \n",
       "3  [usteri, tables, subse, mtns, hts, uster, subs...   \n",
       "4  [racer, ya, ep, learni, us, lli, reinforcement...   \n",
       "5  [st, et, vt, gt, dt, suppose, vc, vp, mult, note]   \n",
       "6  [intellence, nature, articial, li, gut, wa, mc...   \n",
       "7  [subse, mtns, tables, hts, uster, usteri, tabl...   \n",
       "8  [time, price, elori, assic, keltner, short, in...   \n",
       "9  [tg, researcr, an, for, at, but, revier, day, ...   \n",
       "\n",
       "                                 Representative_Docs  \n",
       "0  [multiplayer horvath jac er turf us analytic h...  \n",
       "1  [eenvalue adapted halo ux ty ty ga furtr ty an...  \n",
       "2  [onel taxonomy master lsinki  technology s nla...  \n",
       "3  [mtns hts  uster  usteri subse tables, mtns ht...  \n",
       "4  [conference july washitoze chu li  ya  jia hao...  \n",
       "5  [st st   auxiary  st as st  stand   stand  t v...  \n",
       "6  [steihas sur bull acad posci sugar jamndi ajou...  \n",
       "7  [mtns hts  uster  usteri subse tables, mtns ht...  \n",
       "8  [elori assic quantitative strategi results t k...  \n",
       "9  [day an t day an t t  day an t t for  t  aware...  "
      ]
     },
     "execution_count": 11,
     "metadata": {},
     "output_type": "execute_result"
    }
   ],
   "source": [
    "#top 10 topics\n",
    "model.get_topic_info().head(10)"
   ]
  },
  {
   "cell_type": "code",
   "execution_count": null,
   "metadata": {},
   "outputs": [
    {
     "data": {
      "application/vnd.plotly.v1+json": {
       "config": {
        "plotlyServerURL": "https://plot.ly"
       },
       "data": [
        {
         "marker": {
          "color": "#D55E00"
         },
         "orientation": "h",
         "type": "bar",
         "x": [
          0.026118505976626048,
          0.030763885539511215,
          0.031175590217041256,
          0.04142897069875751,
          0.04493127130028753
         ],
         "xaxis": "x",
         "y": [
          "for  ",
          "term  ",
          "resistance  ",
          "trend  ",
          "ty  "
         ],
         "yaxis": "y"
        },
        {
         "marker": {
          "color": "#0072B2"
         },
         "orientation": "h",
         "type": "bar",
         "x": [
          0.02274748663074738,
          0.02794856569641337,
          0.029808951025783847,
          0.031128844725385865,
          0.04179594483642112
         ],
         "xaxis": "x2",
         "y": [
          "economics  ",
          "psics  ",
          "nancial  ",
          "nance  ",
          "journal  "
         ],
         "yaxis": "y2"
        },
        {
         "marker": {
          "color": "#CC79A7"
         },
         "orientation": "h",
         "type": "bar",
         "x": [
          0.34322949484262966,
          0.35157690569517114,
          0.353322732999978,
          0.35689674139299,
          0.5084172889371941
         ],
         "xaxis": "x3",
         "y": [
          "hts  ",
          "mtns  ",
          "subse  ",
          "tables  ",
          "usteri  "
         ],
         "yaxis": "y3"
        },
        {
         "marker": {
          "color": "#E69F00"
         },
         "orientation": "h",
         "type": "bar",
         "x": [
          0.031298676931920094,
          0.034542736432493476,
          0.03579731924630426,
          0.03781548041780488,
          0.0525388056891672
         ],
         "xaxis": "x4",
         "y": [
          "us  ",
          "learni  ",
          "ep  ",
          "ya  ",
          "racer  "
         ],
         "yaxis": "y4"
        },
        {
         "marker": {
          "color": "#56B4E9"
         },
         "orientation": "h",
         "type": "bar",
         "x": [
          0.041643796468908915,
          0.044510566512831654,
          0.0526323755223595,
          0.056282601219945404,
          0.2539658607248568
         ],
         "xaxis": "x5",
         "y": [
          "dt  ",
          "gt  ",
          "vt  ",
          "et  ",
          "st  "
         ],
         "yaxis": "y5"
        },
        {
         "marker": {
          "color": "#009E73"
         },
         "orientation": "h",
         "type": "bar",
         "x": [
          0.01562923125443058,
          0.016593992343538533,
          0.017400656180242245,
          0.017771753656295693,
          0.021201877374126373
         ],
         "xaxis": "x6",
         "y": [
          "gut  ",
          "li  ",
          "articial  ",
          "nature  ",
          "intellence  "
         ],
         "yaxis": "y6"
        },
        {
         "marker": {
          "color": "#F0E442"
         },
         "orientation": "h",
         "type": "bar",
         "x": [
          0.4360903845412706,
          0.4401600466268908,
          0.44338430531562584,
          0.450864828136863,
          0.4531036900046015
         ],
         "xaxis": "x7",
         "y": [
          "uster  ",
          "hts  ",
          "tables  ",
          "mtns  ",
          "subse  "
         ],
         "yaxis": "y7"
        },
        {
         "marker": {
          "color": "#D55E00"
         },
         "orientation": "h",
         "type": "bar",
         "x": [
          0.0962100707289379,
          0.09740079309986331,
          0.09740079309986331,
          0.12708206787082812,
          0.2198337771601719
         ],
         "xaxis": "x8",
         "y": [
          "keltner  ",
          "assic  ",
          "elori  ",
          "price  ",
          "time  "
         ],
         "yaxis": "y8"
        },
        {
         "marker": {
          "color": "#0072B2"
         },
         "orientation": "h",
         "type": "bar",
         "x": [
          0.05778695194710513,
          0.06047709279503614,
          0.0666338877770296,
          0.08151523108808108,
          0.1832431913868314
         ],
         "xaxis": "x9",
         "y": [
          "at  ",
          "for  ",
          "an  ",
          "researcr  ",
          "tg  "
         ],
         "yaxis": "y9"
        }
       ],
       "layout": {
        "annotations": [
         {
          "font": {
           "size": 16
          },
          "showarrow": false,
          "text": "Topic 0",
          "x": 0.0875,
          "xanchor": "center",
          "xref": "paper",
          "y": 1,
          "yanchor": "bottom",
          "yref": "paper"
         },
         {
          "font": {
           "size": 16
          },
          "showarrow": false,
          "text": "Topic 1",
          "x": 0.36250000000000004,
          "xanchor": "center",
          "xref": "paper",
          "y": 1,
          "yanchor": "bottom",
          "yref": "paper"
         },
         {
          "font": {
           "size": 16
          },
          "showarrow": false,
          "text": "Topic 2",
          "x": 0.6375000000000001,
          "xanchor": "center",
          "xref": "paper",
          "y": 1,
          "yanchor": "bottom",
          "yref": "paper"
         },
         {
          "font": {
           "size": 16
          },
          "showarrow": false,
          "text": "Topic 3",
          "x": 0.9125,
          "xanchor": "center",
          "xref": "paper",
          "y": 1,
          "yanchor": "bottom",
          "yref": "paper"
         },
         {
          "font": {
           "size": 16
          },
          "showarrow": false,
          "text": "Topic 4",
          "x": 0.0875,
          "xanchor": "center",
          "xref": "paper",
          "y": 0.6222222222222222,
          "yanchor": "bottom",
          "yref": "paper"
         },
         {
          "font": {
           "size": 16
          },
          "showarrow": false,
          "text": "Topic 5",
          "x": 0.36250000000000004,
          "xanchor": "center",
          "xref": "paper",
          "y": 0.6222222222222222,
          "yanchor": "bottom",
          "yref": "paper"
         },
         {
          "font": {
           "size": 16
          },
          "showarrow": false,
          "text": "Topic 6",
          "x": 0.6375000000000001,
          "xanchor": "center",
          "xref": "paper",
          "y": 0.6222222222222222,
          "yanchor": "bottom",
          "yref": "paper"
         },
         {
          "font": {
           "size": 16
          },
          "showarrow": false,
          "text": "Topic 7",
          "x": 0.9125,
          "xanchor": "center",
          "xref": "paper",
          "y": 0.6222222222222222,
          "yanchor": "bottom",
          "yref": "paper"
         },
         {
          "font": {
           "size": 16
          },
          "showarrow": false,
          "text": "Topic 8",
          "x": 0.0875,
          "xanchor": "center",
          "xref": "paper",
          "y": 0.24444444444444446,
          "yanchor": "bottom",
          "yref": "paper"
         }
        ],
        "height": 750,
        "hoverlabel": {
         "bgcolor": "white",
         "font": {
          "family": "Rockwell",
          "size": 16
         }
        },
        "showlegend": false,
        "template": {
         "data": {
          "bar": [
           {
            "error_x": {
             "color": "#2a3f5f"
            },
            "error_y": {
             "color": "#2a3f5f"
            },
            "marker": {
             "line": {
              "color": "white",
              "width": 0.5
             },
             "pattern": {
              "fillmode": "overlay",
              "size": 10,
              "solidity": 0.2
             }
            },
            "type": "bar"
           }
          ],
          "barpolar": [
           {
            "marker": {
             "line": {
              "color": "white",
              "width": 0.5
             },
             "pattern": {
              "fillmode": "overlay",
              "size": 10,
              "solidity": 0.2
             }
            },
            "type": "barpolar"
           }
          ],
          "carpet": [
           {
            "aaxis": {
             "endlinecolor": "#2a3f5f",
             "gridcolor": "#C8D4E3",
             "linecolor": "#C8D4E3",
             "minorgridcolor": "#C8D4E3",
             "startlinecolor": "#2a3f5f"
            },
            "baxis": {
             "endlinecolor": "#2a3f5f",
             "gridcolor": "#C8D4E3",
             "linecolor": "#C8D4E3",
             "minorgridcolor": "#C8D4E3",
             "startlinecolor": "#2a3f5f"
            },
            "type": "carpet"
           }
          ],
          "choropleth": [
           {
            "colorbar": {
             "outlinewidth": 0,
             "ticks": ""
            },
            "type": "choropleth"
           }
          ],
          "contour": [
           {
            "colorbar": {
             "outlinewidth": 0,
             "ticks": ""
            },
            "colorscale": [
             [
              0,
              "#0d0887"
             ],
             [
              0.1111111111111111,
              "#46039f"
             ],
             [
              0.2222222222222222,
              "#7201a8"
             ],
             [
              0.3333333333333333,
              "#9c179e"
             ],
             [
              0.4444444444444444,
              "#bd3786"
             ],
             [
              0.5555555555555556,
              "#d8576b"
             ],
             [
              0.6666666666666666,
              "#ed7953"
             ],
             [
              0.7777777777777778,
              "#fb9f3a"
             ],
             [
              0.8888888888888888,
              "#fdca26"
             ],
             [
              1,
              "#f0f921"
             ]
            ],
            "type": "contour"
           }
          ],
          "contourcarpet": [
           {
            "colorbar": {
             "outlinewidth": 0,
             "ticks": ""
            },
            "type": "contourcarpet"
           }
          ],
          "heatmap": [
           {
            "colorbar": {
             "outlinewidth": 0,
             "ticks": ""
            },
            "colorscale": [
             [
              0,
              "#0d0887"
             ],
             [
              0.1111111111111111,
              "#46039f"
             ],
             [
              0.2222222222222222,
              "#7201a8"
             ],
             [
              0.3333333333333333,
              "#9c179e"
             ],
             [
              0.4444444444444444,
              "#bd3786"
             ],
             [
              0.5555555555555556,
              "#d8576b"
             ],
             [
              0.6666666666666666,
              "#ed7953"
             ],
             [
              0.7777777777777778,
              "#fb9f3a"
             ],
             [
              0.8888888888888888,
              "#fdca26"
             ],
             [
              1,
              "#f0f921"
             ]
            ],
            "type": "heatmap"
           }
          ],
          "heatmapgl": [
           {
            "colorbar": {
             "outlinewidth": 0,
             "ticks": ""
            },
            "colorscale": [
             [
              0,
              "#0d0887"
             ],
             [
              0.1111111111111111,
              "#46039f"
             ],
             [
              0.2222222222222222,
              "#7201a8"
             ],
             [
              0.3333333333333333,
              "#9c179e"
             ],
             [
              0.4444444444444444,
              "#bd3786"
             ],
             [
              0.5555555555555556,
              "#d8576b"
             ],
             [
              0.6666666666666666,
              "#ed7953"
             ],
             [
              0.7777777777777778,
              "#fb9f3a"
             ],
             [
              0.8888888888888888,
              "#fdca26"
             ],
             [
              1,
              "#f0f921"
             ]
            ],
            "type": "heatmapgl"
           }
          ],
          "histogram": [
           {
            "marker": {
             "pattern": {
              "fillmode": "overlay",
              "size": 10,
              "solidity": 0.2
             }
            },
            "type": "histogram"
           }
          ],
          "histogram2d": [
           {
            "colorbar": {
             "outlinewidth": 0,
             "ticks": ""
            },
            "colorscale": [
             [
              0,
              "#0d0887"
             ],
             [
              0.1111111111111111,
              "#46039f"
             ],
             [
              0.2222222222222222,
              "#7201a8"
             ],
             [
              0.3333333333333333,
              "#9c179e"
             ],
             [
              0.4444444444444444,
              "#bd3786"
             ],
             [
              0.5555555555555556,
              "#d8576b"
             ],
             [
              0.6666666666666666,
              "#ed7953"
             ],
             [
              0.7777777777777778,
              "#fb9f3a"
             ],
             [
              0.8888888888888888,
              "#fdca26"
             ],
             [
              1,
              "#f0f921"
             ]
            ],
            "type": "histogram2d"
           }
          ],
          "histogram2dcontour": [
           {
            "colorbar": {
             "outlinewidth": 0,
             "ticks": ""
            },
            "colorscale": [
             [
              0,
              "#0d0887"
             ],
             [
              0.1111111111111111,
              "#46039f"
             ],
             [
              0.2222222222222222,
              "#7201a8"
             ],
             [
              0.3333333333333333,
              "#9c179e"
             ],
             [
              0.4444444444444444,
              "#bd3786"
             ],
             [
              0.5555555555555556,
              "#d8576b"
             ],
             [
              0.6666666666666666,
              "#ed7953"
             ],
             [
              0.7777777777777778,
              "#fb9f3a"
             ],
             [
              0.8888888888888888,
              "#fdca26"
             ],
             [
              1,
              "#f0f921"
             ]
            ],
            "type": "histogram2dcontour"
           }
          ],
          "mesh3d": [
           {
            "colorbar": {
             "outlinewidth": 0,
             "ticks": ""
            },
            "type": "mesh3d"
           }
          ],
          "parcoords": [
           {
            "line": {
             "colorbar": {
              "outlinewidth": 0,
              "ticks": ""
             }
            },
            "type": "parcoords"
           }
          ],
          "pie": [
           {
            "automargin": true,
            "type": "pie"
           }
          ],
          "scatter": [
           {
            "fillpattern": {
             "fillmode": "overlay",
             "size": 10,
             "solidity": 0.2
            },
            "type": "scatter"
           }
          ],
          "scatter3d": [
           {
            "line": {
             "colorbar": {
              "outlinewidth": 0,
              "ticks": ""
             }
            },
            "marker": {
             "colorbar": {
              "outlinewidth": 0,
              "ticks": ""
             }
            },
            "type": "scatter3d"
           }
          ],
          "scattercarpet": [
           {
            "marker": {
             "colorbar": {
              "outlinewidth": 0,
              "ticks": ""
             }
            },
            "type": "scattercarpet"
           }
          ],
          "scattergeo": [
           {
            "marker": {
             "colorbar": {
              "outlinewidth": 0,
              "ticks": ""
             }
            },
            "type": "scattergeo"
           }
          ],
          "scattergl": [
           {
            "marker": {
             "colorbar": {
              "outlinewidth": 0,
              "ticks": ""
             }
            },
            "type": "scattergl"
           }
          ],
          "scattermapbox": [
           {
            "marker": {
             "colorbar": {
              "outlinewidth": 0,
              "ticks": ""
             }
            },
            "type": "scattermapbox"
           }
          ],
          "scatterpolar": [
           {
            "marker": {
             "colorbar": {
              "outlinewidth": 0,
              "ticks": ""
             }
            },
            "type": "scatterpolar"
           }
          ],
          "scatterpolargl": [
           {
            "marker": {
             "colorbar": {
              "outlinewidth": 0,
              "ticks": ""
             }
            },
            "type": "scatterpolargl"
           }
          ],
          "scatterternary": [
           {
            "marker": {
             "colorbar": {
              "outlinewidth": 0,
              "ticks": ""
             }
            },
            "type": "scatterternary"
           }
          ],
          "surface": [
           {
            "colorbar": {
             "outlinewidth": 0,
             "ticks": ""
            },
            "colorscale": [
             [
              0,
              "#0d0887"
             ],
             [
              0.1111111111111111,
              "#46039f"
             ],
             [
              0.2222222222222222,
              "#7201a8"
             ],
             [
              0.3333333333333333,
              "#9c179e"
             ],
             [
              0.4444444444444444,
              "#bd3786"
             ],
             [
              0.5555555555555556,
              "#d8576b"
             ],
             [
              0.6666666666666666,
              "#ed7953"
             ],
             [
              0.7777777777777778,
              "#fb9f3a"
             ],
             [
              0.8888888888888888,
              "#fdca26"
             ],
             [
              1,
              "#f0f921"
             ]
            ],
            "type": "surface"
           }
          ],
          "table": [
           {
            "cells": {
             "fill": {
              "color": "#EBF0F8"
             },
             "line": {
              "color": "white"
             }
            },
            "header": {
             "fill": {
              "color": "#C8D4E3"
             },
             "line": {
              "color": "white"
             }
            },
            "type": "table"
           }
          ]
         },
         "layout": {
          "annotationdefaults": {
           "arrowcolor": "#2a3f5f",
           "arrowhead": 0,
           "arrowwidth": 1
          },
          "autotypenumbers": "strict",
          "coloraxis": {
           "colorbar": {
            "outlinewidth": 0,
            "ticks": ""
           }
          },
          "colorscale": {
           "diverging": [
            [
             0,
             "#8e0152"
            ],
            [
             0.1,
             "#c51b7d"
            ],
            [
             0.2,
             "#de77ae"
            ],
            [
             0.3,
             "#f1b6da"
            ],
            [
             0.4,
             "#fde0ef"
            ],
            [
             0.5,
             "#f7f7f7"
            ],
            [
             0.6,
             "#e6f5d0"
            ],
            [
             0.7,
             "#b8e186"
            ],
            [
             0.8,
             "#7fbc41"
            ],
            [
             0.9,
             "#4d9221"
            ],
            [
             1,
             "#276419"
            ]
           ],
           "sequential": [
            [
             0,
             "#0d0887"
            ],
            [
             0.1111111111111111,
             "#46039f"
            ],
            [
             0.2222222222222222,
             "#7201a8"
            ],
            [
             0.3333333333333333,
             "#9c179e"
            ],
            [
             0.4444444444444444,
             "#bd3786"
            ],
            [
             0.5555555555555556,
             "#d8576b"
            ],
            [
             0.6666666666666666,
             "#ed7953"
            ],
            [
             0.7777777777777778,
             "#fb9f3a"
            ],
            [
             0.8888888888888888,
             "#fdca26"
            ],
            [
             1,
             "#f0f921"
            ]
           ],
           "sequentialminus": [
            [
             0,
             "#0d0887"
            ],
            [
             0.1111111111111111,
             "#46039f"
            ],
            [
             0.2222222222222222,
             "#7201a8"
            ],
            [
             0.3333333333333333,
             "#9c179e"
            ],
            [
             0.4444444444444444,
             "#bd3786"
            ],
            [
             0.5555555555555556,
             "#d8576b"
            ],
            [
             0.6666666666666666,
             "#ed7953"
            ],
            [
             0.7777777777777778,
             "#fb9f3a"
            ],
            [
             0.8888888888888888,
             "#fdca26"
            ],
            [
             1,
             "#f0f921"
            ]
           ]
          },
          "colorway": [
           "#636efa",
           "#EF553B",
           "#00cc96",
           "#ab63fa",
           "#FFA15A",
           "#19d3f3",
           "#FF6692",
           "#B6E880",
           "#FF97FF",
           "#FECB52"
          ],
          "font": {
           "color": "#2a3f5f"
          },
          "geo": {
           "bgcolor": "white",
           "lakecolor": "white",
           "landcolor": "white",
           "showlakes": true,
           "showland": true,
           "subunitcolor": "#C8D4E3"
          },
          "hoverlabel": {
           "align": "left"
          },
          "hovermode": "closest",
          "mapbox": {
           "style": "light"
          },
          "paper_bgcolor": "white",
          "plot_bgcolor": "white",
          "polar": {
           "angularaxis": {
            "gridcolor": "#EBF0F8",
            "linecolor": "#EBF0F8",
            "ticks": ""
           },
           "bgcolor": "white",
           "radialaxis": {
            "gridcolor": "#EBF0F8",
            "linecolor": "#EBF0F8",
            "ticks": ""
           }
          },
          "scene": {
           "xaxis": {
            "backgroundcolor": "white",
            "gridcolor": "#DFE8F3",
            "gridwidth": 2,
            "linecolor": "#EBF0F8",
            "showbackground": true,
            "ticks": "",
            "zerolinecolor": "#EBF0F8"
           },
           "yaxis": {
            "backgroundcolor": "white",
            "gridcolor": "#DFE8F3",
            "gridwidth": 2,
            "linecolor": "#EBF0F8",
            "showbackground": true,
            "ticks": "",
            "zerolinecolor": "#EBF0F8"
           },
           "zaxis": {
            "backgroundcolor": "white",
            "gridcolor": "#DFE8F3",
            "gridwidth": 2,
            "linecolor": "#EBF0F8",
            "showbackground": true,
            "ticks": "",
            "zerolinecolor": "#EBF0F8"
           }
          },
          "shapedefaults": {
           "line": {
            "color": "#2a3f5f"
           }
          },
          "ternary": {
           "aaxis": {
            "gridcolor": "#DFE8F3",
            "linecolor": "#A2B1C6",
            "ticks": ""
           },
           "baxis": {
            "gridcolor": "#DFE8F3",
            "linecolor": "#A2B1C6",
            "ticks": ""
           },
           "bgcolor": "white",
           "caxis": {
            "gridcolor": "#DFE8F3",
            "linecolor": "#A2B1C6",
            "ticks": ""
           }
          },
          "title": {
           "x": 0.05
          },
          "xaxis": {
           "automargin": true,
           "gridcolor": "#EBF0F8",
           "linecolor": "#EBF0F8",
           "ticks": "",
           "title": {
            "standoff": 15
           },
           "zerolinecolor": "#EBF0F8",
           "zerolinewidth": 2
          },
          "yaxis": {
           "automargin": true,
           "gridcolor": "#EBF0F8",
           "linecolor": "#EBF0F8",
           "ticks": "",
           "title": {
            "standoff": 15
           },
           "zerolinecolor": "#EBF0F8",
           "zerolinewidth": 2
          }
         }
        },
        "title": {
         "font": {
          "color": "Black",
          "size": 22
         },
         "text": "Topic Word Scores",
         "x": 0.5,
         "xanchor": "center",
         "yanchor": "top"
        },
        "width": 1000,
        "xaxis": {
         "anchor": "y",
         "domain": [
          0,
          0.175
         ],
         "showgrid": true
        },
        "xaxis10": {
         "anchor": "y10",
         "domain": [
          0.275,
          0.45
         ],
         "showgrid": true
        },
        "xaxis11": {
         "anchor": "y11",
         "domain": [
          0.55,
          0.7250000000000001
         ],
         "showgrid": true
        },
        "xaxis12": {
         "anchor": "y12",
         "domain": [
          0.825,
          1
         ],
         "showgrid": true
        },
        "xaxis2": {
         "anchor": "y2",
         "domain": [
          0.275,
          0.45
         ],
         "showgrid": true
        },
        "xaxis3": {
         "anchor": "y3",
         "domain": [
          0.55,
          0.7250000000000001
         ],
         "showgrid": true
        },
        "xaxis4": {
         "anchor": "y4",
         "domain": [
          0.825,
          1
         ],
         "showgrid": true
        },
        "xaxis5": {
         "anchor": "y5",
         "domain": [
          0,
          0.175
         ],
         "showgrid": true
        },
        "xaxis6": {
         "anchor": "y6",
         "domain": [
          0.275,
          0.45
         ],
         "showgrid": true
        },
        "xaxis7": {
         "anchor": "y7",
         "domain": [
          0.55,
          0.7250000000000001
         ],
         "showgrid": true
        },
        "xaxis8": {
         "anchor": "y8",
         "domain": [
          0.825,
          1
         ],
         "showgrid": true
        },
        "xaxis9": {
         "anchor": "y9",
         "domain": [
          0,
          0.175
         ],
         "showgrid": true
        },
        "yaxis": {
         "anchor": "x",
         "domain": [
          0.7555555555555555,
          1
         ],
         "showgrid": true
        },
        "yaxis10": {
         "anchor": "x10",
         "domain": [
          0,
          0.24444444444444446
         ],
         "showgrid": true
        },
        "yaxis11": {
         "anchor": "x11",
         "domain": [
          0,
          0.24444444444444446
         ],
         "showgrid": true
        },
        "yaxis12": {
         "anchor": "x12",
         "domain": [
          0,
          0.24444444444444446
         ],
         "showgrid": true
        },
        "yaxis2": {
         "anchor": "x2",
         "domain": [
          0.7555555555555555,
          1
         ],
         "showgrid": true
        },
        "yaxis3": {
         "anchor": "x3",
         "domain": [
          0.7555555555555555,
          1
         ],
         "showgrid": true
        },
        "yaxis4": {
         "anchor": "x4",
         "domain": [
          0.7555555555555555,
          1
         ],
         "showgrid": true
        },
        "yaxis5": {
         "anchor": "x5",
         "domain": [
          0.37777777777777777,
          0.6222222222222222
         ],
         "showgrid": true
        },
        "yaxis6": {
         "anchor": "x6",
         "domain": [
          0.37777777777777777,
          0.6222222222222222
         ],
         "showgrid": true
        },
        "yaxis7": {
         "anchor": "x7",
         "domain": [
          0.37777777777777777,
          0.6222222222222222
         ],
         "showgrid": true
        },
        "yaxis8": {
         "anchor": "x8",
         "domain": [
          0.37777777777777777,
          0.6222222222222222
         ],
         "showgrid": true
        },
        "yaxis9": {
         "anchor": "x9",
         "domain": [
          0,
          0.24444444444444446
         ],
         "showgrid": true
        }
       }
      }
     },
     "metadata": {},
     "output_type": "display_data"
    }
   ],
   "source": [
    "model.visualize_barchart(top_n_topics=9)"
   ]
  },
  {
   "cell_type": "code",
   "execution_count": null,
   "metadata": {},
   "outputs": [
    {
     "data": {
      "application/vnd.plotly.v1+json": {
       "config": {
        "plotlyServerURL": "https://plot.ly"
       },
       "data": [
        {
         "hovertext": "<b>Topic -1</b>:as_it_pt_for_lib_intellence_to_art",
         "line": {
          "color": "black",
          "width": 1.5
         },
         "mode": "lines+lines",
         "name": "",
         "opacity": 0.1,
         "type": "scatter",
         "x": [
          1,
          2,
          3,
          4,
          5,
          6,
          7,
          8,
          9,
          10
         ],
         "y": [
          0.01617070283871945,
          0.014731971506940835,
          0.01309859747010113,
          0.012807631282718168,
          0.012502075848051948,
          0.011452441526583167,
          0.011159746431111993,
          0.010922658972410872,
          0.010769050045544916,
          0.01067247856826696
         ]
        },
        {
         "hovertext": "<b>Topic 0</b>:ty_trend_resistance_term_for_tre_as",
         "line": {
          "color": "black",
          "width": 1.5
         },
         "mode": "lines+lines",
         "name": "",
         "opacity": 0.1,
         "type": "scatter",
         "x": [
          1,
          2,
          3,
          4,
          5,
          6,
          7,
          8,
          9,
          10
         ],
         "y": [
          0.04493127130028753,
          0.04142897069875751,
          0.031175590217041256,
          0.030763885539511215,
          0.026118505976626048,
          0.024727816851679952,
          0.023865557468004464,
          0.022414376308161527,
          0.02065984468221402,
          0.020355077412776347
         ]
        },
        {
         "hovertext": "<b>Topic 1</b>:journal_nance_nancial_psics_economi",
         "line": {
          "color": "black",
          "width": 1.5
         },
         "mode": "lines+lines",
         "name": "",
         "opacity": 0.1,
         "type": "scatter",
         "x": [
          1,
          2,
          3,
          4,
          5,
          6,
          7,
          8,
          9,
          10
         ],
         "y": [
          0.04179594483642112,
          0.031128844725385865,
          0.029808951025783847,
          0.02794856569641337,
          0.02274748663074738,
          0.020912493999122282,
          0.020223767997693647,
          0.017619146862241652,
          0.017598459312590367,
          0.01740049662536143
         ]
        },
        {
         "hovertext": "<b>Topic 2</b>:usteri_tables_subse_mtns_hts_uster_",
         "line": {
          "color": "black",
          "width": 1.5
         },
         "mode": "lines+lines",
         "name": "",
         "opacity": 0.1,
         "type": "scatter",
         "x": [
          1,
          2,
          3,
          4,
          5,
          6,
          7,
          8,
          9,
          10
         ],
         "y": [
          0.5084172889371941,
          0.35689674139299,
          0.353322732999978,
          0.35157690569517114,
          0.34322949484262966,
          0.34005603993109906,
          0.04471757734274776,
          0.04181838453344449,
          0.02485743563189465,
          0.02485743563189465
         ]
        },
        {
         "hovertext": "<b>Topic 3</b>:racer_ya_ep_learni_us_lli_reinforce",
         "line": {
          "color": "black",
          "width": 1.5
         },
         "mode": "lines+lines",
         "name": "",
         "opacity": 0.1,
         "type": "scatter",
         "x": [
          1,
          2,
          3,
          4,
          5,
          6,
          7,
          8,
          9,
          10
         ],
         "y": [
          0.0525388056891672,
          0.03781548041780488,
          0.03579731924630426,
          0.034542736432493476,
          0.031298676931920094,
          0.031105756927325437,
          0.02762935919572535,
          0.023192401867255717,
          0.022816095964260596,
          0.02202124449505385
         ]
        },
        {
         "hovertext": "<b>Topic 4</b>:st_et_vt_gt_dt_suppose_vc_vp_mult_n",
         "line": {
          "color": "black",
          "width": 1.5
         },
         "mode": "lines+lines",
         "name": "",
         "opacity": 0.1,
         "type": "scatter",
         "x": [
          1,
          2,
          3,
          4,
          5,
          6,
          7,
          8,
          9,
          10
         ],
         "y": [
          0.2539658607248568,
          0.056282601219945404,
          0.0526323755223595,
          0.044510566512831654,
          0.041643796468908915,
          0.04093629207294628,
          0.03756901665976056,
          0.03304709874033492,
          0.03078185621803831,
          0.029996227288997642
         ]
        },
        {
         "hovertext": "<b>Topic 5</b>:intellence_nature_articial_li_gut_w",
         "line": {
          "color": "black",
          "width": 1.5
         },
         "mode": "lines+lines",
         "name": "",
         "opacity": 0.1,
         "type": "scatter",
         "x": [
          1,
          2,
          3,
          4,
          5,
          6,
          7,
          8,
          9,
          10
         ],
         "y": [
          0.021201877374126373,
          0.017771753656295693,
          0.017400656180242245,
          0.016593992343538533,
          0.01562923125443058,
          0.014041248566102378,
          0.01261575753466561,
          0.011903800046069812,
          0.011792198177964642,
          0.011187236461359213
         ]
        },
        {
         "hovertext": "<b>Topic 6</b>:subse_mtns_tables_hts_uster_usteri_",
         "line": {
          "color": "black",
          "width": 1.5
         },
         "mode": "lines+lines",
         "name": "",
         "opacity": 0.1,
         "type": "scatter",
         "x": [
          1,
          2,
          3,
          4,
          5,
          6,
          7,
          8,
          9,
          10
         ],
         "y": [
          0.4531036900046015,
          0.450864828136863,
          0.44338430531562584,
          0.4401600466268908,
          0.4360903845412706,
          0.37257034136402845,
          0.03586202953143134,
          0.00001,
          0.00001,
          0.00001
         ]
        },
        {
         "hovertext": "<b>Topic 7</b>:time_price_elori_assic_keltner_shor",
         "line": {
          "color": "black",
          "width": 1.5
         },
         "mode": "lines+lines",
         "name": "",
         "opacity": 0.1,
         "type": "scatter",
         "x": [
          1,
          2,
          3,
          4,
          5,
          6,
          7,
          8,
          9,
          10
         ],
         "y": [
          0.2198337771601719,
          0.12708206787082812,
          0.09740079309986331,
          0.09740079309986331,
          0.0962100707289379,
          0.08772700146634854,
          0.08239910337005496,
          0.07783426786023592,
          0.07581551120950653,
          0.0714943912451657
         ]
        },
        {
         "hovertext": "<b>Topic 8</b>:tg_researcr_an_for_at_but_revier_da",
         "line": {
          "color": "black",
          "width": 1.5
         },
         "mode": "lines+lines",
         "name": "",
         "opacity": 0.1,
         "type": "scatter",
         "x": [
          1,
          2,
          3,
          4,
          5,
          6,
          7,
          8,
          9,
          10
         ],
         "y": [
          0.1832431913868314,
          0.08151523108808108,
          0.0666338877770296,
          0.06047709279503614,
          0.05778695194710513,
          0.05668975704934477,
          0.0458769219405227,
          0.04586824379783768,
          0.041877085940718276,
          0.04075761554404054
         ]
        },
        {
         "hovertext": "<b>Topic 9</b>:is_yu_sha_rank_so_hare_alexandra_as",
         "line": {
          "color": "black",
          "width": 1.5
         },
         "mode": "lines+lines",
         "name": "",
         "opacity": 0.1,
         "type": "scatter",
         "x": [
          1,
          2,
          3,
          4,
          5,
          6,
          7,
          8,
          9,
          10
         ],
         "y": [
          0.13530995671495372,
          0.13123143436638848,
          0.12461082254367148,
          0.08763915787215529,
          0.04307388301129826,
          0.039251712285689994,
          0.03727198214224953,
          0.031095763301907293,
          0.02787941329934907,
          0.0256616398847142
         ]
        },
        {
         "hovertext": "<b>Topic 10</b>:eq_ki_ui_multiplayer_page_very_car",
         "line": {
          "color": "black",
          "width": 1.5
         },
         "mode": "lines+lines",
         "name": "",
         "opacity": 0.1,
         "type": "scatter",
         "x": [
          1,
          2,
          3,
          4,
          5,
          6,
          7,
          8,
          9,
          10
         ],
         "y": [
          0.19800952364502772,
          0.1333885637875766,
          0.11067826636892505,
          0.1062552366064529,
          0.09600947248314085,
          0.09068290534657675,
          0.07238284993904257,
          0.06768025723999178,
          0.04430596016289071,
          0.04120174662486119
         ]
        },
        {
         "hovertext": "<b>Topic 11</b>:trefore_consequently_occur_alice_i",
         "line": {
          "color": "black",
          "width": 1.5
         },
         "mode": "lines+lines",
         "name": "",
         "opacity": 0.1,
         "type": "scatter",
         "x": [
          1,
          2,
          3,
          4,
          5,
          6,
          7,
          8,
          9,
          10
         ],
         "y": [
          0.1958794000670311,
          0.12899931994423747,
          0.07628048083786439,
          0.0731199747301724,
          0.06860234820455431,
          0.05769707923252333,
          0.05483998104762929,
          0.05424855499886962,
          0.05213740746685413,
          0.04889083722211306
         ]
        },
        {
         "hovertext": "<b>Topic 12</b>:du_lea_alla_torem_proof_oro_sud_sk",
         "line": {
          "color": "black",
          "width": 1.5
         },
         "mode": "lines+lines",
         "name": "",
         "opacity": 0.1,
         "type": "scatter",
         "x": [
          1,
          2,
          3,
          4,
          5,
          6,
          7,
          8,
          9,
          10
         ],
         "y": [
          0.21474639083966351,
          0.12054891273011172,
          0.0938976370035677,
          0.08325158125295978,
          0.0785015836351811,
          0.07050918581665698,
          0.06546760616105103,
          0.06412324231088896,
          0.06117199212404857,
          0.060728310454181485
         ]
        },
        {
         "hovertext": "<b>Topic 13</b>:ft_gt_ws_dx_vt_brownish_ot_fs_mt_t",
         "line": {
          "color": "black",
          "width": 1.5
         },
         "mode": "lines+lines",
         "name": "",
         "opacity": 0.1,
         "type": "scatter",
         "x": [
          1,
          2,
          3,
          4,
          5,
          6,
          7,
          8,
          9,
          10
         ],
         "y": [
          0.39243620440693106,
          0.1497858069118375,
          0.08517515142167897,
          0.08133096683638003,
          0.0605926950043482,
          0.05611910046301205,
          0.05435543729339693,
          0.051984978651391484,
          0.049621069029111245,
          0.0411231487740845
         ]
        },
        {
         "hovertext": "<b>Topic 14</b>:xl_el_pr_pl_rule_se_er_basand_and_",
         "line": {
          "color": "black",
          "width": 1.5
         },
         "mode": "lines+lines",
         "name": "",
         "opacity": 0.1,
         "type": "scatter",
         "x": [
          1,
          2,
          3,
          4,
          5,
          6,
          7,
          8,
          9,
          10
         ],
         "y": [
          0.12028679245948885,
          0.11563866521566794,
          0.09401257693953491,
          0.09071447431375924,
          0.07350936694851783,
          0.06966472113141241,
          0.06857387404819941,
          0.0585954794720796,
          0.05854138662251923,
          0.05590364282621922
         ]
        },
        {
         "hovertext": "<b>Topic 15</b>:only_mr_bonacci_oid_errors_should_",
         "line": {
          "color": "black",
          "width": 1.5
         },
         "mode": "lines+lines",
         "name": "",
         "opacity": 0.1,
         "type": "scatter",
         "x": [
          1,
          2,
          3,
          4,
          5,
          6,
          7,
          8,
          9,
          10
         ],
         "y": [
          0.08267599420478625,
          0.07594793056398032,
          0.06828404385794591,
          0.06645443924348278,
          0.06645443924348278,
          0.060926719346556864,
          0.05434420054957912,
          0.053809531275327165,
          0.0520725186974395,
          0.05099451105552601
         ]
        },
        {
         "hovertext": "<b>Topic 16</b>:schools_implied_exa_for_fbe_and_in",
         "line": {
          "color": "black",
          "width": 1.5
         },
         "mode": "lines+lines",
         "name": "",
         "opacity": 0.1,
         "type": "scatter",
         "x": [
          1,
          2,
          3,
          4,
          5,
          6,
          7,
          8,
          9,
          10
         ],
         "y": [
          0.2869551214741477,
          0.09477415708028089,
          0.06828379102512172,
          0.0466937805394903,
          0.046047468118740255,
          0.04171164474343068,
          0.04090913084346076,
          0.04090913084346076,
          0.037909662832112355,
          0.036771120802951224
         ]
        },
        {
         "hovertext": "<b>Topic 17</b>:xt_ws_aelic_fs_xs_note_is_ixt_nt_t",
         "line": {
          "color": "black",
          "width": 1.5
         },
         "mode": "lines+lines",
         "name": "",
         "opacity": 0.1,
         "type": "scatter",
         "x": [
          1,
          2,
          3,
          4,
          5,
          6,
          7,
          8,
          9,
          10
         ],
         "y": [
          0.5213500432111688,
          0.10329651474280475,
          0.09519126825289942,
          0.08376607911599879,
          0.07066133935722661,
          0.06480977586063542,
          0.06146823992360728,
          0.053956080962107,
          0.04085958559352424,
          0.039918106487333196
         ]
        },
        {
         "hovertext": "<b>Topic 18</b>:ry_quantum_ptrow_psics_scar_ockham",
         "line": {
          "color": "black",
          "width": 1.5
         },
         "mode": "lines+lines",
         "name": "",
         "opacity": 0.1,
         "type": "scatter",
         "x": [
          1,
          2,
          3,
          4,
          5,
          6,
          7,
          8,
          9,
          10
         ],
         "y": [
          0.23466634220369997,
          0.16761869288987954,
          0.05052974145569074,
          0.0417570800648074,
          0.035370819018983514,
          0.03201272188576155,
          0.028911214364203047,
          0.02734722367879526,
          0.02610808113141387,
          0.02610808113141387
         ]
        },
        {
         "hovertext": "<b>Topic 19</b>:cancer_cell_lima_esophageal_prosta",
         "line": {
          "color": "black",
          "width": 1.5
         },
         "mode": "lines+lines",
         "name": "",
         "opacity": 0.1,
         "type": "scatter",
         "x": [
          1,
          2,
          3,
          4,
          5,
          6,
          7,
          8,
          9,
          10
         ],
         "y": [
          0.31822597678563785,
          0.10812858746665978,
          0.08229631074792128,
          0.08008714596041787,
          0.08008714596041787,
          0.07932353573350488,
          0.07828334908606938,
          0.07828334908606938,
          0.07718255019550417,
          0.07630363717932719
         ]
        },
        {
         "hovertext": "<b>Topic 20</b>:guet_sot_ppeso_da_rd_ner_tis_te_st",
         "line": {
          "color": "black",
          "width": 1.5
         },
         "mode": "lines+lines",
         "name": "",
         "opacity": 0.1,
         "type": "scatter",
         "x": [
          1,
          2,
          3,
          4,
          5,
          6,
          7,
          8,
          9,
          10
         ],
         "y": [
          0.09426924472424185,
          0.0898157395964997,
          0.0879846284092924,
          0.0852509121504279,
          0.07958429751856454,
          0.07762064242878049,
          0.07241911256238305,
          0.06822821378365973,
          0.06472909857208592,
          0.06416591664284614
         ]
        },
        {
         "hovertext": "<b>Topic 21</b>:ffn_yr_geometrical_fffn_pure_nnn_f",
         "line": {
          "color": "black",
          "width": 1.5
         },
         "mode": "lines+lines",
         "name": "",
         "opacity": 0.1,
         "type": "scatter",
         "x": [
          1,
          2,
          3,
          4,
          5,
          6,
          7,
          8,
          9,
          10
         ],
         "y": [
          0.36431673305709206,
          0.3405258989997946,
          0.2025149902951417,
          0.2025149902951417,
          0.2025149902951417,
          0.2025149902951417,
          0.2025149902951417,
          0.20124694402169557,
          0.1702629494998973,
          0.16183170877780803
         ]
        },
        {
         "hovertext": "<b>Topic 22</b>:var_bridge_winner_royal_society_ec",
         "line": {
          "color": "black",
          "width": 1.5
         },
         "mode": "lines+lines",
         "name": "",
         "opacity": 0.1,
         "type": "scatter",
         "x": [
          1,
          2,
          3,
          4,
          5,
          6,
          7,
          8,
          9,
          10
         ],
         "y": [
          0.23778046923394694,
          0.21895434229842067,
          0.1884303448738921,
          0.17738677707052666,
          0.17017823825502779,
          0.1411558113998495,
          0.10348254551710119,
          0.08885100901563728,
          0.05877286325694213,
          0.057882097775425835
         ]
        },
        {
         "hovertext": "<b>Topic 23</b>:ti_xi_wi_tti_ft_pc_vt_ii_eq_xt",
         "line": {
          "color": "black",
          "width": 1.5
         },
         "mode": "lines+lines",
         "name": "",
         "opacity": 0.1,
         "type": "scatter",
         "x": [
          1,
          2,
          3,
          4,
          5,
          6,
          7,
          8,
          9,
          10
         ],
         "y": [
          0.5953673495741234,
          0.1343738540276241,
          0.10205508760279929,
          0.06536986731947579,
          0.06453350034931486,
          0.05641189525555946,
          0.0467093589037464,
          0.04590433731176888,
          0.043951344692832225,
          0.04296841015476666
         ]
        },
        {
         "hovertext": "<b>Topic 24</b>:lta_cash_dollars_note_supply_like_",
         "line": {
          "color": "black",
          "width": 1.5
         },
         "mode": "lines+lines",
         "name": "",
         "opacity": 0.1,
         "type": "scatter",
         "x": [
          1,
          2,
          3,
          4,
          5,
          6,
          7,
          8,
          9,
          10
         ],
         "y": [
          0.32510335903996007,
          0.18049025312988007,
          0.17506958399989167,
          0.15009044076098144,
          0.09024512656494003,
          0.08753479199994584,
          0.08518938229189828,
          0.0653252647217099,
          0.06276887647209221,
          0.06093371389411343
         ]
        },
        {
         "hovertext": "<b>Topic 25</b>:limo_corse_ice_society_royal_nov_c",
         "line": {
          "color": "black",
          "width": 1.5
         },
         "mode": "lines+lines",
         "name": "",
         "opacity": 0.1,
         "type": "scatter",
         "x": [
          1,
          2,
          3,
          4,
          5,
          6,
          7,
          8,
          9,
          10
         ],
         "y": [
          0.2366476224841516,
          0.23287071701014792,
          0.21344323967014692,
          0.1839300150837169,
          0.17574430691246623,
          0.17118467799385526,
          0.16790967802780069,
          0.1579647549263326,
          0.15256234161397877,
          0.07333546383222729
         ]
        },
        {
         "hovertext": "<b>Topic 26</b>:mark_lipschitz_lp_seonent_assumptn",
         "line": {
          "color": "black",
          "width": 1.5
         },
         "mode": "lines+lines",
         "name": "",
         "opacity": 0.1,
         "type": "scatter",
         "x": [
          1,
          2,
          3,
          4,
          5,
          6,
          7,
          8,
          9,
          10
         ],
         "y": [
          0.21539848915542548,
          0.18743203863018104,
          0.17684716676192241,
          0.11814163842850016,
          0.11814163842850016,
          0.10775823256980337,
          0.09822857345902555,
          0.08426373417647026,
          0.08426373417647026,
          0.07876109228566677
         ]
        },
        {
         "hovertext": "<b>Topic 27</b>:chara_rca_bart_patria_ale_terjee_p",
         "line": {
          "color": "black",
          "width": 1.5
         },
         "mode": "lines+lines",
         "name": "",
         "opacity": 0.1,
         "type": "scatter",
         "x": [
          1,
          2,
          3,
          4,
          5,
          6,
          7,
          8,
          9,
          10
         ],
         "y": [
          0.12996115418484536,
          0.1259535948255329,
          0.10625255875480671,
          0.10406237415318587,
          0.08113632518316712,
          0.06937491610212392,
          0.06717525057361753,
          0.06694619879864738,
          0.05684730744824069,
          0.049801788341001144
         ]
        },
        {
         "hovertext": "<b>Topic 28</b>:problem_ansr_solut_iproblem_cars_s",
         "line": {
          "color": "black",
          "width": 1.5
         },
         "mode": "lines+lines",
         "name": "",
         "opacity": 0.1,
         "type": "scatter",
         "x": [
          1,
          2,
          3,
          4,
          5,
          6,
          7,
          8,
          9,
          10
         ],
         "y": [
          0.27003361832537137,
          0.2514604228510898,
          0.12941242768830233,
          0.11172138270955273,
          0.11172138270955273,
          0.08815645101009911,
          0.08543476474098619,
          0.07980579147833514,
          0.07926026093891701,
          0.06287699961391435
         ]
        },
        {
         "hovertext": "<b>Topic 29</b>:table_mt_consistent_mtn_quartz_tre",
         "line": {
          "color": "black",
          "width": 1.5
         },
         "mode": "lines+lines",
         "name": "",
         "opacity": 0.1,
         "type": "scatter",
         "x": [
          1,
          2,
          3,
          4,
          5,
          6,
          7,
          8,
          9,
          10
         ],
         "y": [
          0.6332221472237055,
          0.38466580784550697,
          0.2105069193816912,
          0.2105069193816912,
          0.17502545816335463,
          0.1328237909069256,
          0.12519108490972394,
          0.12519108490972394,
          0.12519108490972394,
          0.12519108490972394
         ]
        },
        {
         "hovertext": "<b>Topic 30</b>:probabity_mea_variabity_placement_",
         "line": {
          "color": "black",
          "width": 1.5
         },
         "mode": "lines+lines",
         "name": "",
         "opacity": 0.1,
         "type": "scatter",
         "x": [
          1,
          2,
          3,
          4,
          5,
          6,
          7,
          8,
          9,
          10
         ],
         "y": [
          0.4055654910380948,
          0.1503620852726366,
          0.1503620852726366,
          0.14291631424533696,
          0.13714684145247702,
          0.12501818440239618,
          0.11459188783986266,
          0.11459188783986266,
          0.11064044687570726,
          0.0912606106767898
         ]
        },
        {
         "hovertext": "<b>Topic 31</b>:zi_si_bi_yi_vi_et_ni_ei_note_and",
         "line": {
          "color": "black",
          "width": 1.5
         },
         "mode": "lines+lines",
         "name": "",
         "opacity": 0.1,
         "type": "scatter",
         "x": [
          1,
          2,
          3,
          4,
          5,
          6,
          7,
          8,
          9,
          10
         ],
         "y": [
          0.33642795126476566,
          0.28812014482263376,
          0.17941765414886296,
          0.15859699876296282,
          0.11778939911126077,
          0.11384435246761684,
          0.11264689170826231,
          0.10932122213418918,
          0.05234635742589784,
          0.04545314065502313
         ]
        },
        {
         "hovertext": "<b>Topic 32</b>:eq_leymaka_pq_pad_aat_ta_ieq_ross_",
         "line": {
          "color": "black",
          "width": 1.5
         },
         "mode": "lines+lines",
         "name": "",
         "opacity": 0.1,
         "type": "scatter",
         "x": [
          1,
          2,
          3,
          4,
          5,
          6,
          7,
          8,
          9,
          10
         ],
         "y": [
          0.3711740628495425,
          0.3414058396312318,
          0.23672565394471037,
          0.12359030992806358,
          0.09667547255661971,
          0.048337736278309854,
          0.04345412570321464,
          0.0411475631200826,
          0.040165392897791974,
          0.036830622777614265
         ]
        },
        {
         "hovertext": "<b>Topic 33</b>:table_hts_mt_usteri_years_sethat_i",
         "line": {
          "color": "black",
          "width": 1.5
         },
         "mode": "lines+lines",
         "name": "",
         "opacity": 0.1,
         "type": "scatter",
         "x": [
          1,
          2,
          3,
          4,
          5,
          6,
          7,
          8,
          9,
          10
         ],
         "y": [
          0.5547271580595481,
          0.20849686419168512,
          0.15907232655265327,
          0.1470672400121165,
          0.09059881144782654,
          0.09059881144782654,
          0.09059881144782654,
          0.09059881144782654,
          0.09059881144782654,
          0.09059881144782654
         ]
        },
        {
         "hovertext": "<b>Topic 34</b>:telecom_gaa_vivendi_euros_france_t",
         "line": {
          "color": "black",
          "width": 1.5
         },
         "mode": "lines+lines",
         "name": "",
         "opacity": 0.1,
         "type": "scatter",
         "x": [
          1,
          2,
          3,
          4,
          5,
          6,
          7,
          8,
          9,
          10
         ],
         "y": [
          0.3387603649012699,
          0.26162273513163026,
          0.2507630975861858,
          0.2507630975861858,
          0.22434085563074263,
          0.21709772272176422,
          0.09787209892631549,
          0.08358769919539528,
          0.068715949281683,
          0.06767445806238347
         ]
        },
        {
         "hovertext": "<b>Topic 35</b>:tx_ts_te_rec_givrec_itx_itfl_acued",
         "line": {
          "color": "black",
          "width": 1.5
         },
         "mode": "lines+lines",
         "name": "",
         "opacity": 0.1,
         "type": "scatter",
         "x": [
          1,
          2,
          3,
          4,
          5,
          6,
          7,
          8,
          9,
          10
         ],
         "y": [
          1.0263594145106474,
          0.5222981328554186,
          0.5158052962044676,
          0.28879200596953514,
          0.06885509670034817,
          0.06885509670034817,
          0.06885509670034817,
          0.06885509670034817,
          0.06885509670034817,
          0.06885509670034817
         ]
        },
        {
         "hovertext": "<b>Topic 36</b>:corvee_kei_socorvee_ys_hou_ph_soan",
         "line": {
          "color": "black",
          "width": 1.5
         },
         "mode": "lines+lines",
         "name": "",
         "opacity": 0.1,
         "type": "scatter",
         "x": [
          1,
          2,
          3,
          4,
          5,
          6,
          7,
          8,
          9,
          10
         ],
         "y": [
          0.17540564579689893,
          0.1382190382300912,
          0.08595000177664737,
          0.07925469811783342,
          0.07771732687826267,
          0.0681241282959697,
          0.05893028343661122,
          0.05690680413972223,
          0.03684561226637593,
          0.03535817006196673
         ]
        },
        {
         "hovertext": "<b>Topic 37</b>:wins_loss_max_wimax_dowalma_lossg_",
         "line": {
          "color": "black",
          "width": 1.5
         },
         "mode": "lines+lines",
         "name": "",
         "opacity": 0.1,
         "type": "scatter",
         "x": [
          1,
          2,
          3,
          4,
          5,
          6,
          7,
          8,
          9,
          10
         ],
         "y": [
          0.30159941127345324,
          0.2668605844705354,
          0.21547400456275329,
          0.17582466116866677,
          0.17582466116866677,
          0.17582466116866677,
          0.17582466116866677,
          0.16430273698445652,
          0.16193796898051188,
          0.16116119385697575
         ]
        },
        {
         "hovertext": "<b>Topic 38</b>:snature_terry_lns_arriva_maez_id_o",
         "line": {
          "color": "black",
          "width": 1.5
         },
         "mode": "lines+lines",
         "name": "",
         "opacity": 0.1,
         "type": "scatter",
         "x": [
          1,
          2,
          3,
          4,
          5,
          6,
          7,
          8,
          9,
          10
         ],
         "y": [
          0.262307433302982,
          0.10540217260622689,
          0.10003188701005288,
          0.06991379417019944,
          0.05979276379270912,
          0.053350339738694866,
          0.041578973878367134,
          0.04156476769855141,
          0.04156476769855141,
          0.03801228392708444
         ]
        },
        {
         "hovertext": "<b>Topic 39</b>:ci_hj_mj_xj_lf_refers_ii_fj_terms_",
         "line": {
          "color": "black",
          "width": 1.5
         },
         "mode": "lines+lines",
         "name": "",
         "opacity": 0.1,
         "type": "scatter",
         "x": [
          1,
          2,
          3,
          4,
          5,
          6,
          7,
          8,
          9,
          10
         ],
         "y": [
          0.20849201726289854,
          0.1998268989089673,
          0.175422432818076,
          0.13629658863483327,
          0.11694828854538401,
          0.11115713330192875,
          0.10850116091872644,
          0.1066697655741488,
          0.1066697655741488,
          0.09276939285736235
         ]
        },
        {
         "hovertext": "<b>Topic 40</b>:vessel_tse_ke_after_ufor_requirbec",
         "line": {
          "color": "black",
          "width": 1.5
         },
         "mode": "lines+lines",
         "name": "",
         "opacity": 0.1,
         "type": "scatter",
         "x": [
          1,
          2,
          3,
          4,
          5,
          6,
          7,
          8,
          9,
          10
         ],
         "y": [
          0.13522721284808664,
          0.12025037834816987,
          0.1197543194619996,
          0.11366788286723721,
          0.10929380428626694,
          0.10929380428626694,
          0.10929380428626694,
          0.10929380428626694,
          0.10929380428626694,
          0.10929380428626694
         ]
        }
       ],
       "layout": {
        "height": 500,
        "hoverlabel": {
         "bgcolor": "white",
         "font": {
          "family": "Rockwell",
          "size": 16
         }
        },
        "showlegend": false,
        "template": {
         "data": {
          "bar": [
           {
            "error_x": {
             "color": "#2a3f5f"
            },
            "error_y": {
             "color": "#2a3f5f"
            },
            "marker": {
             "line": {
              "color": "white",
              "width": 0.5
             },
             "pattern": {
              "fillmode": "overlay",
              "size": 10,
              "solidity": 0.2
             }
            },
            "type": "bar"
           }
          ],
          "barpolar": [
           {
            "marker": {
             "line": {
              "color": "white",
              "width": 0.5
             },
             "pattern": {
              "fillmode": "overlay",
              "size": 10,
              "solidity": 0.2
             }
            },
            "type": "barpolar"
           }
          ],
          "carpet": [
           {
            "aaxis": {
             "endlinecolor": "#2a3f5f",
             "gridcolor": "#C8D4E3",
             "linecolor": "#C8D4E3",
             "minorgridcolor": "#C8D4E3",
             "startlinecolor": "#2a3f5f"
            },
            "baxis": {
             "endlinecolor": "#2a3f5f",
             "gridcolor": "#C8D4E3",
             "linecolor": "#C8D4E3",
             "minorgridcolor": "#C8D4E3",
             "startlinecolor": "#2a3f5f"
            },
            "type": "carpet"
           }
          ],
          "choropleth": [
           {
            "colorbar": {
             "outlinewidth": 0,
             "ticks": ""
            },
            "type": "choropleth"
           }
          ],
          "contour": [
           {
            "colorbar": {
             "outlinewidth": 0,
             "ticks": ""
            },
            "colorscale": [
             [
              0,
              "#0d0887"
             ],
             [
              0.1111111111111111,
              "#46039f"
             ],
             [
              0.2222222222222222,
              "#7201a8"
             ],
             [
              0.3333333333333333,
              "#9c179e"
             ],
             [
              0.4444444444444444,
              "#bd3786"
             ],
             [
              0.5555555555555556,
              "#d8576b"
             ],
             [
              0.6666666666666666,
              "#ed7953"
             ],
             [
              0.7777777777777778,
              "#fb9f3a"
             ],
             [
              0.8888888888888888,
              "#fdca26"
             ],
             [
              1,
              "#f0f921"
             ]
            ],
            "type": "contour"
           }
          ],
          "contourcarpet": [
           {
            "colorbar": {
             "outlinewidth": 0,
             "ticks": ""
            },
            "type": "contourcarpet"
           }
          ],
          "heatmap": [
           {
            "colorbar": {
             "outlinewidth": 0,
             "ticks": ""
            },
            "colorscale": [
             [
              0,
              "#0d0887"
             ],
             [
              0.1111111111111111,
              "#46039f"
             ],
             [
              0.2222222222222222,
              "#7201a8"
             ],
             [
              0.3333333333333333,
              "#9c179e"
             ],
             [
              0.4444444444444444,
              "#bd3786"
             ],
             [
              0.5555555555555556,
              "#d8576b"
             ],
             [
              0.6666666666666666,
              "#ed7953"
             ],
             [
              0.7777777777777778,
              "#fb9f3a"
             ],
             [
              0.8888888888888888,
              "#fdca26"
             ],
             [
              1,
              "#f0f921"
             ]
            ],
            "type": "heatmap"
           }
          ],
          "heatmapgl": [
           {
            "colorbar": {
             "outlinewidth": 0,
             "ticks": ""
            },
            "colorscale": [
             [
              0,
              "#0d0887"
             ],
             [
              0.1111111111111111,
              "#46039f"
             ],
             [
              0.2222222222222222,
              "#7201a8"
             ],
             [
              0.3333333333333333,
              "#9c179e"
             ],
             [
              0.4444444444444444,
              "#bd3786"
             ],
             [
              0.5555555555555556,
              "#d8576b"
             ],
             [
              0.6666666666666666,
              "#ed7953"
             ],
             [
              0.7777777777777778,
              "#fb9f3a"
             ],
             [
              0.8888888888888888,
              "#fdca26"
             ],
             [
              1,
              "#f0f921"
             ]
            ],
            "type": "heatmapgl"
           }
          ],
          "histogram": [
           {
            "marker": {
             "pattern": {
              "fillmode": "overlay",
              "size": 10,
              "solidity": 0.2
             }
            },
            "type": "histogram"
           }
          ],
          "histogram2d": [
           {
            "colorbar": {
             "outlinewidth": 0,
             "ticks": ""
            },
            "colorscale": [
             [
              0,
              "#0d0887"
             ],
             [
              0.1111111111111111,
              "#46039f"
             ],
             [
              0.2222222222222222,
              "#7201a8"
             ],
             [
              0.3333333333333333,
              "#9c179e"
             ],
             [
              0.4444444444444444,
              "#bd3786"
             ],
             [
              0.5555555555555556,
              "#d8576b"
             ],
             [
              0.6666666666666666,
              "#ed7953"
             ],
             [
              0.7777777777777778,
              "#fb9f3a"
             ],
             [
              0.8888888888888888,
              "#fdca26"
             ],
             [
              1,
              "#f0f921"
             ]
            ],
            "type": "histogram2d"
           }
          ],
          "histogram2dcontour": [
           {
            "colorbar": {
             "outlinewidth": 0,
             "ticks": ""
            },
            "colorscale": [
             [
              0,
              "#0d0887"
             ],
             [
              0.1111111111111111,
              "#46039f"
             ],
             [
              0.2222222222222222,
              "#7201a8"
             ],
             [
              0.3333333333333333,
              "#9c179e"
             ],
             [
              0.4444444444444444,
              "#bd3786"
             ],
             [
              0.5555555555555556,
              "#d8576b"
             ],
             [
              0.6666666666666666,
              "#ed7953"
             ],
             [
              0.7777777777777778,
              "#fb9f3a"
             ],
             [
              0.8888888888888888,
              "#fdca26"
             ],
             [
              1,
              "#f0f921"
             ]
            ],
            "type": "histogram2dcontour"
           }
          ],
          "mesh3d": [
           {
            "colorbar": {
             "outlinewidth": 0,
             "ticks": ""
            },
            "type": "mesh3d"
           }
          ],
          "parcoords": [
           {
            "line": {
             "colorbar": {
              "outlinewidth": 0,
              "ticks": ""
             }
            },
            "type": "parcoords"
           }
          ],
          "pie": [
           {
            "automargin": true,
            "type": "pie"
           }
          ],
          "scatter": [
           {
            "fillpattern": {
             "fillmode": "overlay",
             "size": 10,
             "solidity": 0.2
            },
            "type": "scatter"
           }
          ],
          "scatter3d": [
           {
            "line": {
             "colorbar": {
              "outlinewidth": 0,
              "ticks": ""
             }
            },
            "marker": {
             "colorbar": {
              "outlinewidth": 0,
              "ticks": ""
             }
            },
            "type": "scatter3d"
           }
          ],
          "scattercarpet": [
           {
            "marker": {
             "colorbar": {
              "outlinewidth": 0,
              "ticks": ""
             }
            },
            "type": "scattercarpet"
           }
          ],
          "scattergeo": [
           {
            "marker": {
             "colorbar": {
              "outlinewidth": 0,
              "ticks": ""
             }
            },
            "type": "scattergeo"
           }
          ],
          "scattergl": [
           {
            "marker": {
             "colorbar": {
              "outlinewidth": 0,
              "ticks": ""
             }
            },
            "type": "scattergl"
           }
          ],
          "scattermapbox": [
           {
            "marker": {
             "colorbar": {
              "outlinewidth": 0,
              "ticks": ""
             }
            },
            "type": "scattermapbox"
           }
          ],
          "scatterpolar": [
           {
            "marker": {
             "colorbar": {
              "outlinewidth": 0,
              "ticks": ""
             }
            },
            "type": "scatterpolar"
           }
          ],
          "scatterpolargl": [
           {
            "marker": {
             "colorbar": {
              "outlinewidth": 0,
              "ticks": ""
             }
            },
            "type": "scatterpolargl"
           }
          ],
          "scatterternary": [
           {
            "marker": {
             "colorbar": {
              "outlinewidth": 0,
              "ticks": ""
             }
            },
            "type": "scatterternary"
           }
          ],
          "surface": [
           {
            "colorbar": {
             "outlinewidth": 0,
             "ticks": ""
            },
            "colorscale": [
             [
              0,
              "#0d0887"
             ],
             [
              0.1111111111111111,
              "#46039f"
             ],
             [
              0.2222222222222222,
              "#7201a8"
             ],
             [
              0.3333333333333333,
              "#9c179e"
             ],
             [
              0.4444444444444444,
              "#bd3786"
             ],
             [
              0.5555555555555556,
              "#d8576b"
             ],
             [
              0.6666666666666666,
              "#ed7953"
             ],
             [
              0.7777777777777778,
              "#fb9f3a"
             ],
             [
              0.8888888888888888,
              "#fdca26"
             ],
             [
              1,
              "#f0f921"
             ]
            ],
            "type": "surface"
           }
          ],
          "table": [
           {
            "cells": {
             "fill": {
              "color": "#EBF0F8"
             },
             "line": {
              "color": "white"
             }
            },
            "header": {
             "fill": {
              "color": "#C8D4E3"
             },
             "line": {
              "color": "white"
             }
            },
            "type": "table"
           }
          ]
         },
         "layout": {
          "annotationdefaults": {
           "arrowcolor": "#2a3f5f",
           "arrowhead": 0,
           "arrowwidth": 1
          },
          "autotypenumbers": "strict",
          "coloraxis": {
           "colorbar": {
            "outlinewidth": 0,
            "ticks": ""
           }
          },
          "colorscale": {
           "diverging": [
            [
             0,
             "#8e0152"
            ],
            [
             0.1,
             "#c51b7d"
            ],
            [
             0.2,
             "#de77ae"
            ],
            [
             0.3,
             "#f1b6da"
            ],
            [
             0.4,
             "#fde0ef"
            ],
            [
             0.5,
             "#f7f7f7"
            ],
            [
             0.6,
             "#e6f5d0"
            ],
            [
             0.7,
             "#b8e186"
            ],
            [
             0.8,
             "#7fbc41"
            ],
            [
             0.9,
             "#4d9221"
            ],
            [
             1,
             "#276419"
            ]
           ],
           "sequential": [
            [
             0,
             "#0d0887"
            ],
            [
             0.1111111111111111,
             "#46039f"
            ],
            [
             0.2222222222222222,
             "#7201a8"
            ],
            [
             0.3333333333333333,
             "#9c179e"
            ],
            [
             0.4444444444444444,
             "#bd3786"
            ],
            [
             0.5555555555555556,
             "#d8576b"
            ],
            [
             0.6666666666666666,
             "#ed7953"
            ],
            [
             0.7777777777777778,
             "#fb9f3a"
            ],
            [
             0.8888888888888888,
             "#fdca26"
            ],
            [
             1,
             "#f0f921"
            ]
           ],
           "sequentialminus": [
            [
             0,
             "#0d0887"
            ],
            [
             0.1111111111111111,
             "#46039f"
            ],
            [
             0.2222222222222222,
             "#7201a8"
            ],
            [
             0.3333333333333333,
             "#9c179e"
            ],
            [
             0.4444444444444444,
             "#bd3786"
            ],
            [
             0.5555555555555556,
             "#d8576b"
            ],
            [
             0.6666666666666666,
             "#ed7953"
            ],
            [
             0.7777777777777778,
             "#fb9f3a"
            ],
            [
             0.8888888888888888,
             "#fdca26"
            ],
            [
             1,
             "#f0f921"
            ]
           ]
          },
          "colorway": [
           "#636efa",
           "#EF553B",
           "#00cc96",
           "#ab63fa",
           "#FFA15A",
           "#19d3f3",
           "#FF6692",
           "#B6E880",
           "#FF97FF",
           "#FECB52"
          ],
          "font": {
           "color": "#2a3f5f"
          },
          "geo": {
           "bgcolor": "white",
           "lakecolor": "white",
           "landcolor": "white",
           "showlakes": true,
           "showland": true,
           "subunitcolor": "#C8D4E3"
          },
          "hoverlabel": {
           "align": "left"
          },
          "hovermode": "closest",
          "mapbox": {
           "style": "light"
          },
          "paper_bgcolor": "white",
          "plot_bgcolor": "white",
          "polar": {
           "angularaxis": {
            "gridcolor": "#EBF0F8",
            "linecolor": "#EBF0F8",
            "ticks": ""
           },
           "bgcolor": "white",
           "radialaxis": {
            "gridcolor": "#EBF0F8",
            "linecolor": "#EBF0F8",
            "ticks": ""
           }
          },
          "scene": {
           "xaxis": {
            "backgroundcolor": "white",
            "gridcolor": "#DFE8F3",
            "gridwidth": 2,
            "linecolor": "#EBF0F8",
            "showbackground": true,
            "ticks": "",
            "zerolinecolor": "#EBF0F8"
           },
           "yaxis": {
            "backgroundcolor": "white",
            "gridcolor": "#DFE8F3",
            "gridwidth": 2,
            "linecolor": "#EBF0F8",
            "showbackground": true,
            "ticks": "",
            "zerolinecolor": "#EBF0F8"
           },
           "zaxis": {
            "backgroundcolor": "white",
            "gridcolor": "#DFE8F3",
            "gridwidth": 2,
            "linecolor": "#EBF0F8",
            "showbackground": true,
            "ticks": "",
            "zerolinecolor": "#EBF0F8"
           }
          },
          "shapedefaults": {
           "line": {
            "color": "#2a3f5f"
           }
          },
          "ternary": {
           "aaxis": {
            "gridcolor": "#DFE8F3",
            "linecolor": "#A2B1C6",
            "ticks": ""
           },
           "baxis": {
            "gridcolor": "#DFE8F3",
            "linecolor": "#A2B1C6",
            "ticks": ""
           },
           "bgcolor": "white",
           "caxis": {
            "gridcolor": "#DFE8F3",
            "linecolor": "#A2B1C6",
            "ticks": ""
           }
          },
          "title": {
           "x": 0.05
          },
          "xaxis": {
           "automargin": true,
           "gridcolor": "#EBF0F8",
           "linecolor": "#EBF0F8",
           "ticks": "",
           "title": {
            "standoff": 15
           },
           "zerolinecolor": "#EBF0F8",
           "zerolinewidth": 2
          },
          "yaxis": {
           "automargin": true,
           "gridcolor": "#EBF0F8",
           "linecolor": "#EBF0F8",
           "ticks": "",
           "title": {
            "standoff": 15
           },
           "zerolinecolor": "#EBF0F8",
           "zerolinewidth": 2
          }
         }
        },
        "title": {
         "font": {
          "color": "Black",
          "size": 22
         },
         "text": "<b>Term score decline per Topic</b>",
         "x": 0.5,
         "xanchor": "center",
         "y": 0.9,
         "yanchor": "top"
        },
        "width": 800,
        "xaxis": {
         "dtick": 2,
         "range": [
          0,
          10
         ],
         "tick0": 1,
         "title": {
          "text": "Term Rank"
         }
        },
        "yaxis": {
         "title": {
          "text": "c-TF-IDF score"
         }
        }
       }
      }
     },
     "metadata": {},
     "output_type": "display_data"
    }
   ],
   "source": [
    "model.visualize_term_rank()"
   ]
  },
  {
   "cell_type": "code",
   "execution_count": null,
   "metadata": {},
   "outputs": [
    {
     "data": {
      "application/vnd.plotly.v1+json": {
       "config": {
        "plotlyServerURL": "https://plot.ly"
       },
       "data": [
        {
         "hovertext": "<b>Topic -1</b>:as_it_pt_for_lib_intellence_to_art",
         "line": {
          "color": "black",
          "width": 1.5
         },
         "mode": "lines+lines",
         "name": "",
         "opacity": 0.1,
         "type": "scatter",
         "x": [
          1,
          2,
          3,
          4,
          5,
          6,
          7,
          8,
          9,
          10
         ],
         "y": [
          -1.7912711036344757,
          -1.8317391297838865,
          -1.882775203856056,
          -1.8925311837578593,
          -1.9030178706315437,
          -1.9411019169495733,
          -1.9523456732138462,
          -1.9616716256901823,
          -1.9678226047961356,
          -1.97173470864327
         ]
        },
        {
         "hovertext": "<b>Topic 0</b>:ty_trend_resistance_term_for_tre_as",
         "line": {
          "color": "black",
          "width": 1.5
         },
         "mode": "lines+lines",
         "name": "",
         "opacity": 0.1,
         "type": "scatter",
         "x": [
          1,
          2,
          3,
          4,
          5,
          6,
          7,
          8,
          9,
          10
         ],
         "y": [
          -1.3474512931610647,
          -1.3826958565979863,
          -1.5061853156977687,
          -1.5119588131554194,
          -1.583051669076303,
          -1.606814224565559,
          -1.6222284166318865,
          -1.6494733411029994,
          -1.6848729477685254,
          -1.6913272416079586
         ]
        },
        {
         "hovertext": "<b>Topic 1</b>:journal_nance_nancial_psics_economi",
         "line": {
          "color": "black",
          "width": 1.5
         },
         "mode": "lines+lines",
         "name": "",
         "opacity": 0.1,
         "type": "scatter",
         "x": [
          1,
          2,
          3,
          4,
          5,
          6,
          7,
          8,
          9,
          10
         ],
         "y": [
          -1.3788658526890312,
          -1.5068369968472035,
          -1.5256533064809306,
          -1.5536404749373598,
          -1.6430665815430192,
          -1.6795941706511128,
          -1.6941379254932079,
          -1.7540151244138078,
          -1.7545253515795303,
          -1.7594383563969322
         ]
        },
        {
         "hovertext": "<b>Topic 2</b>:usteri_tables_subse_mtns_hts_uster_",
         "line": {
          "color": "black",
          "width": 1.5
         },
         "mode": "lines+lines",
         "name": "",
         "opacity": 0.1,
         "type": "scatter",
         "x": [
          1,
          2,
          3,
          4,
          5,
          6,
          7,
          8,
          9,
          10
         ],
         "y": [
          -0.293779689506001,
          -0.4474574173049273,
          -0.4518284188945368,
          -0.4539796604997408,
          -0.4644153988623652,
          -0.46844950699497534,
          -1.3495217331890899,
          -1.3786327482223628,
          -1.6045436765134249,
          -1.6045436765134249
         ]
        },
        {
         "hovertext": "<b>Topic 3</b>:racer_ya_ep_learni_us_lli_reinforce",
         "line": {
          "color": "black",
          "width": 1.5
         },
         "mode": "lines+lines",
         "name": "",
         "opacity": 0.1,
         "type": "scatter",
         "x": [
          1,
          2,
          3,
          4,
          5,
          6,
          7,
          8,
          9,
          10
         ],
         "y": [
          -1.279519803809173,
          -1.4223303778415517,
          -1.4461494951474496,
          -1.4616432611386152,
          -1.5044740207062985,
          -1.5071592260730893,
          -1.5586291875043246,
          -1.6346542723331414,
          -1.641758665186346,
          -1.6571581412197505
         ]
        },
        {
         "hovertext": "<b>Topic 4</b>:st_et_vt_gt_dt_suppose_vc_vp_mult_n",
         "line": {
          "color": "black",
          "width": 1.5
         },
         "mode": "lines+lines",
         "name": "",
         "opacity": 0.1,
         "type": "scatter",
         "x": [
          1,
          2,
          3,
          4,
          5,
          6,
          7,
          8,
          9,
          10
         ],
         "y": [
          -0.5952246593457697,
          -1.2496258389316333,
          -1.2787470279882316,
          -1.3515368781544355,
          -1.380449684772943,
          -1.3878914974132996,
          -1.4251701721133188,
          -1.48086666193841,
          -1.5117051947402602,
          -1.522933364300444
         ]
        },
        {
         "hovertext": "<b>Topic 5</b>:intellence_nature_articial_li_gut_w",
         "line": {
          "color": "black",
          "width": 1.5
         },
         "mode": "lines+lines",
         "name": "",
         "opacity": 0.1,
         "type": "scatter",
         "x": [
          1,
          2,
          3,
          4,
          5,
          6,
          7,
          8,
          9,
          10
         ],
         "y": [
          -1.6736256816597104,
          -1.7502697153756255,
          -1.7594343741263054,
          -1.780049114627938,
          -1.80606238283618,
          -1.8525942724584032,
          -1.8990866664109765,
          -1.9243143767929756,
          -1.9284052307338997,
          -1.9512771822660244
         ]
        },
        {
         "hovertext": "<b>Topic 6</b>:subse_mtns_tables_hts_uster_usteri_",
         "line": {
          "color": "black",
          "width": 1.5
         },
         "mode": "lines+lines",
         "name": "",
         "opacity": 0.1,
         "type": "scatter",
         "x": [
          1,
          2,
          3,
          4,
          5,
          6,
          7,
          8,
          9,
          10
         ],
         "y": [
          -0.3438024009810191,
          -0.34595364258622313,
          -0.35321968387704283,
          -0.35638938094884753,
          -0.36042348908145766,
          -0.42879172027877777,
          -1.4453651361525262,
          -5,
          -5,
          -5
         ]
        },
        {
         "hovertext": "<b>Topic 7</b>:time_price_elori_assic_keltner_shor",
         "line": {
          "color": "black",
          "width": 1.5
         },
         "mode": "lines+lines",
         "name": "",
         "opacity": 0.1,
         "type": "scatter",
         "x": [
          1,
          2,
          3,
          4,
          5,
          6,
          7,
          8,
          9,
          10
         ],
         "y": [
          -0.6579055780305202,
          -0.8959157269769071,
          -1.0114375068021657,
          -1.0114375068021657,
          -1.01677946607972,
          -1.0568667146956257,
          -1.0840775140741958,
          -1.1088291553750416,
          -1.120241932315956,
          -1.145728027385199
         ]
        },
        {
         "hovertext": "<b>Topic 8</b>:tg_researcr_an_for_at_but_revier_da",
         "line": {
          "color": "black",
          "width": 1.5
         },
         "mode": "lines+lines",
         "name": "",
         "opacity": 0.1,
         "type": "scatter",
         "x": [
          1,
          2,
          3,
          4,
          5,
          6,
          7,
          8,
          9,
          10
         ],
         "y": [
          -0.7369721531019078,
          -1.0887612359289283,
          -1.1763048469321704,
          -1.218409094051493,
          -1.2381702123940386,
          -1.2464954042253826,
          -1.3384057282836288,
          -1.3384878878058701,
          -1.3780235467615238,
          -1.3897912315929095
         ]
        },
        {
         "hovertext": "<b>Topic 9</b>:is_yu_sha_rank_so_hare_alexandra_as",
         "line": {
          "color": "black",
          "width": 1.5
         },
         "mode": "lines+lines",
         "name": "",
         "opacity": 0.1,
         "type": "scatter",
         "x": [
          1,
          2,
          3,
          4,
          5,
          6,
          7,
          8,
          9,
          10
         ],
         "y": [
          -0.8686702448860184,
          -0.8819621242842642,
          -0.904444237236367,
          -1.0573018042427011,
          -1.3657859758258253,
          -1.4061413931860798,
          -1.428617510638939,
          -1.5072987781738951,
          -1.5547163698687287,
          -1.590715593864215
         ]
        },
        {
         "hovertext": "<b>Topic 10</b>:eq_ki_ui_multiplayer_page_very_car",
         "line": {
          "color": "black",
          "width": 1.5
         },
         "mode": "lines+lines",
         "name": "",
         "opacity": 0.1,
         "type": "scatter",
         "x": [
          1,
          2,
          3,
          4,
          5,
          6,
          7,
          8,
          9,
          10
         ],
         "y": [
          -0.7033139210161681,
          -0.8748814035293294,
          -0.9559376521359476,
          -0.973649657294171,
          -1.0176859164998984,
          -1.0424745741677814,
          -1.1403643213599925,
          -1.169537999293846,
          -1.3535378473267496,
          -1.385084372960537
         ]
        },
        {
         "hovertext": "<b>Topic 11</b>:trefore_consequently_occur_alice_i",
         "line": {
          "color": "black",
          "width": 1.5
         },
         "mode": "lines+lines",
         "name": "",
         "opacity": 0.1,
         "type": "scatter",
         "x": [
          1,
          2,
          3,
          4,
          5,
          6,
          7,
          8,
          9,
          10
         ],
         "y": [
          -0.7080112347946041,
          -0.889412579198763,
          -1.117586578020198,
          -1.1359639673637845,
          -1.163661018479452,
          -1.238846171338274,
          -1.2609027039720844,
          -1.2656118254863489,
          -1.2828505679285684,
          -1.3107725256768352
         ]
        },
        {
         "hovertext": "<b>Topic 12</b>:du_lea_alla_torem_proof_oro_sud_sk",
         "line": {
          "color": "black",
          "width": 1.5
         },
         "mode": "lines+lines",
         "name": "",
         "opacity": 0.1,
         "type": "scatter",
         "x": [
          1,
          2,
          3,
          4,
          5,
          6,
          7,
          8,
          9,
          10
         ],
         "y": [
          -0.6680741264563943,
          -0.9188367023121787,
          -1.0273453369056054,
          -1.079607508897761,
          -1.1051215820180185,
          -1.1517543001772284,
          -1.183973538871085,
          -1.192984526209857,
          -1.2134473760594333,
          -1.2166088013841536
         ]
        },
        {
         "hovertext": "<b>Topic 13</b>:ft_gt_ws_dx_vt_brownish_ot_fs_mt_t",
         "line": {
          "color": "black",
          "width": 1.5
         },
         "mode": "lines+lines",
         "name": "",
         "opacity": 0.1,
         "type": "scatter",
         "x": [
          1,
          2,
          3,
          4,
          5,
          6,
          7,
          8,
          9,
          10
         ],
         "y": [
          -0.4062309333796416,
          -0.8245293366492201,
          -1.0696870856844622,
          -1.089744064916021,
          -1.2175797307929896,
          -1.2508892989245242,
          -1.2647570059768125,
          -1.284122130043061,
          -1.3043338835857192,
          -1.3859136390795561
         ]
        },
        {
         "hovertext": "<b>Topic 14</b>:xl_el_pr_pl_rule_se_er_basand_and_",
         "line": {
          "color": "black",
          "width": 1.5
         },
         "mode": "lines+lines",
         "name": "",
         "opacity": 0.1,
         "type": "scatter",
         "x": [
          1,
          2,
          3,
          4,
          5,
          6,
          7,
          8,
          9,
          10
         ],
         "y": [
          -0.9197820557595526,
          -0.9368969299105421,
          -1.0268140428889694,
          -1.042323411803575,
          -1.133657317312285,
          -1.1569870970347826,
          -1.1638413145826147,
          -1.2321358876689277,
          -1.2325369949979463,
          -1.252559891437747
         ]
        },
        {
         "hovertext": "<b>Topic 15</b>:only_mr_bonacci_oid_errors_should_",
         "line": {
          "color": "black",
          "width": 1.5
         },
         "mode": "lines+lines",
         "name": "",
         "opacity": 0.1,
         "type": "scatter",
         "x": [
          1,
          2,
          3,
          4,
          5,
          6,
          7,
          8,
          9,
          10
         ],
         "y": [
          -1.0826205738553674,
          -1.1194840553349463,
          -1.165680767387596,
          -1.1774760023126332,
          -1.1774760023126332,
          -1.215192206218969,
          -1.2648467957120657,
          -1.269140790994308,
          -1.2833914154115988,
          -1.292476567952781
         ]
        },
        {
         "hovertext": "<b>Topic 16</b>:schools_implied_exa_for_fbe_and_in",
         "line": {
          "color": "black",
          "width": 1.5
         },
         "mode": "lines+lines",
         "name": "",
         "opacity": 0.1,
         "type": "scatter",
         "x": [
          1,
          2,
          3,
          4,
          5,
          6,
          7,
          8,
          9,
          10
         ],
         "y": [
          -0.5421860197125872,
          -1.0233100694919854,
          -1.165682375436819,
          -1.3307409622017503,
          -1.3367942441270495,
          -1.3797426850303862,
          -1.3881797474363302,
          -1.3881797474363302,
          -1.4212500781640232,
          -1.4344931324069436
         ]
        },
        {
         "hovertext": "<b>Topic 17</b>:xt_ws_aelic_fs_xs_note_is_ixt_nt_t",
         "line": {
          "color": "black",
          "width": 1.5
         },
         "mode": "lines+lines",
         "name": "",
         "opacity": 0.1,
         "type": "scatter",
         "x": [
          1,
          2,
          3,
          4,
          5,
          6,
          7,
          8,
          9,
          10
         ],
         "y": [
          -0.2828705861273456,
          -0.9859143314668535,
          -1.0214028869464273,
          -1.076931812337685,
          -1.1508181349461766,
          -1.1883594805165687,
          -1.2113492222526376,
          -1.2679596023348592,
          -1.3887060423868398,
          -1.398830067625302
         ]
        },
        {
         "hovertext": "<b>Topic 18</b>:ry_quantum_ptrow_psics_scar_ockham",
         "line": {
          "color": "black",
          "width": 1.5
         },
         "mode": "lines+lines",
         "name": "",
         "opacity": 0.1,
         "type": "scatter",
         "x": [
          1,
          2,
          3,
          4,
          5,
          6,
          7,
          8,
          9,
          10
         ],
         "y": [
          -0.6295491960572666,
          -0.7756775503463419,
          -1.2964529239001843,
          -1.3792698777279702,
          -1.4513548838859276,
          -1.4946773983422441,
          -1.5389336661779698,
          -1.5630867571616742,
          -1.5832250463946833,
          -1.5832250463946833
         ]
        },
        {
         "hovertext": "<b>Topic 19</b>:cancer_cell_lima_esophageal_prosta",
         "line": {
          "color": "black",
          "width": 1.5
         },
         "mode": "lines+lines",
         "name": "",
         "opacity": 0.1,
         "type": "scatter",
         "x": [
          1,
          2,
          3,
          4,
          5,
          6,
          7,
          8,
          9,
          10
         ],
         "y": [
          -0.4972643717850057,
          -0.9660594703606249,
          -1.0846196332899478,
          -1.096437182872432,
          -1.096437182872432,
          -1.1005979359779845,
          -1.1063306028085407,
          -1.1063306028085407,
          -1.1124808759649598,
          -1.1174547599577906
         ]
        },
        {
         "hovertext": "<b>Topic 20</b>:guet_sot_ppeso_da_rd_ner_tis_te_st",
         "line": {
          "color": "black",
          "width": 1.5
         },
         "mode": "lines+lines",
         "name": "",
         "opacity": 0.1,
         "type": "scatter",
         "x": [
          1,
          2,
          3,
          4,
          5,
          6,
          7,
          8,
          9,
          10
         ],
         "y": [
          -1.025629972428581,
          -1.0466475495139396,
          -1.055593195806024,
          -1.0693009655345471,
          -1.0991726128372121,
          -1.11002276713427,
          -1.1401468014138083,
          -1.166035998411644,
          -1.188900440995276,
          -1.1926955972353026
         ]
        },
        {
         "hovertext": "<b>Topic 21</b>:ffn_yr_geometrical_fffn_pure_nnn_f",
         "line": {
          "color": "black",
          "width": 1.5
         },
         "mode": "lines+lines",
         "name": "",
         "opacity": 0.1,
         "type": "scatter",
         "x": [
          1,
          2,
          3,
          4,
          5,
          6,
          7,
          8,
          9,
          10
         ],
         "y": [
          -0.4385208811668965,
          -0.4678498518423669,
          -0.6935428244912315,
          -0.6935428244912315,
          -0.6935428244912315,
          -0.6935428244912315,
          -0.6935428244912315,
          -0.6962707057655162,
          -0.7688798475063481,
          -0.7909363801401585
         ]
        },
        {
         "hovertext": "<b>Topic 22</b>:var_bridge_winner_royal_society_ec",
         "line": {
          "color": "black",
          "width": 1.5
         },
         "mode": "lines+lines",
         "name": "",
         "opacity": 0.1,
         "type": "scatter",
         "x": [
          1,
          2,
          3,
          4,
          5,
          6,
          7,
          8,
          9,
          10
         ],
         "y": [
          -0.6238238202483001,
          -0.6596464374664077,
          -0.7248491570097824,
          -0.7510787568793563,
          -0.7690959766251769,
          -0.8503012371987317,
          -0.9851328968241292,
          -1.0513376358672875,
          -1.2308231511028578,
          -1.2374557374738322
         ]
        },
        {
         "hovertext": "<b>Topic 23</b>:ti_xi_wi_tti_ft_pc_vt_ii_eq_xt",
         "line": {
          "color": "black",
          "width": 1.5
         },
         "mode": "lines+lines",
         "name": "",
         "opacity": 0.1,
         "type": "scatter",
         "x": [
          1,
          2,
          3,
          4,
          5,
          6,
          7,
          8,
          9,
          10
         ],
         "y": [
          -0.22521498609608184,
          -0.8716852264917722,
          -0.9911653401615609,
          -1.1846223965160767,
          -1.1902147777696226,
          -1.248629309152387,
          -1.3305960934588672,
          -1.3381462778271271,
          -1.357027833133027,
          -1.3668507150567393
         ]
        },
        {
         "hovertext": "<b>Topic 24</b>:lta_cash_dollars_note_supply_like_",
         "line": {
          "color": "black",
          "width": 1.5
         },
         "mode": "lines+lines",
         "name": "",
         "opacity": 0.1,
         "type": "scatter",
         "x": [
          1,
          2,
          3,
          4,
          5,
          6,
          7,
          8,
          9,
          10
         ],
         "y": [
          -0.48797854325384954,
          -0.7435462459810536,
          -0.7567893002239741,
          -0.823646967030275,
          -1.0445762416450348,
          -1.0578192958879553,
          -1.0696145308129925,
          -1.1849188216780207,
          -1.2022556449089123,
          -1.2151423509323962
         ]
        },
        {
         "hovertext": "<b>Topic 25</b>:limo_corse_ice_society_royal_nov_c",
         "line": {
          "color": "black",
          "width": 1.5
         },
         "mode": "lines+lines",
         "name": "",
         "opacity": 0.1,
         "type": "scatter",
         "x": [
          1,
          2,
          3,
          4,
          5,
          6,
          7,
          8,
          9,
          10
         ],
         "y": [
          -0.6258978543787481,
          -0.6328851196253376,
          -0.6707175959335678,
          -0.7353473935375172,
          -0.7551187346810964,
          -0.766535109755295,
          -0.7749242711464238,
          -0.8014398019601342,
          -0.816552654111072,
          -1.1346859568455503
         ]
        },
        {
         "hovertext": "<b>Topic 26</b>:mark_lipschitz_lp_seonent_assumptn",
         "line": {
          "color": "black",
          "width": 1.5
         },
         "mode": "lines+lines",
         "name": "",
         "opacity": 0.1,
         "type": "scatter",
         "x": [
          1,
          2,
          3,
          4,
          5,
          6,
          7,
          8,
          9,
          10
         ],
         "y": [
          -0.6667573472486357,
          -0.7271561711269059,
          -0.7524018935507815,
          -0.9275970104926067,
          -0.9275970104926067,
          -0.9675495404427954,
          -1.0077621630220677,
          -1.0743592988728174,
          -1.0743592988728174,
          -1.103688269548288
         ]
        },
        {
         "hovertext": "<b>Topic 27</b>:chara_rca_bart_patria_ale_terjee_p",
         "line": {
          "color": "black",
          "width": 1.5
         },
         "mode": "lines+lines",
         "name": "",
         "opacity": 0.1,
         "type": "scatter",
         "x": [
          1,
          2,
          3,
          4,
          5,
          6,
          7,
          8,
          9,
          10
         ],
         "y": [
          -0.8861864403411853,
          -0.8997894328454002,
          -0.973660602550945,
          -0.9827062700230514,
          -1.0907846662005098,
          -1.1587975290787327,
          -1.172790704909138,
          -1.1742740771678568,
          -1.2452901006871353,
          -1.3027550618048676
         ]
        },
        {
         "hovertext": "<b>Topic 28</b>:problem_ansr_solut_iproblem_cars_s",
         "line": {
          "color": "black",
          "width": 1.5
         },
         "mode": "lines+lines",
         "name": "",
         "opacity": 0.1,
         "type": "scatter",
         "x": [
          1,
          2,
          3,
          4,
          5,
          6,
          7,
          8,
          9,
          10
         ],
         "y": [
          -0.5685821641953853,
          -0.5995303584805134,
          -0.8880240156511704,
          -0.951863697931534,
          -0.951863697931534,
          -1.0547459019060235,
          -1.06836537213389,
          -1.0979655909072035,
          -1.100944502224574,
          -1.2015081902862343
         ]
        },
        {
         "hovertext": "<b>Topic 29</b>:table_mt_consistent_mtn_quartz_tre",
         "line": {
          "color": "black",
          "width": 1.5
         },
         "mode": "lines+lines",
         "name": "",
         "opacity": 0.1,
         "type": "scatter",
         "x": [
          1,
          2,
          3,
          4,
          5,
          6,
          7,
          8,
          9,
          10
         ],
         "y": [
          -0.19844390390311406,
          -0.4149164155231048,
          -0.6767336242943556,
          -0.6767336242943556,
          -0.7568987768238167,
          -0.8767241287767068,
          -0.9024265969432204,
          -0.9024265969432204,
          -0.9024265969432204,
          -0.9024265969432204
         ]
        },
        {
         "hovertext": "<b>Topic 30</b>:probabity_mea_variabity_placement_",
         "line": {
          "color": "black",
          "width": 1.5
         },
         "mode": "lines+lines",
         "name": "",
         "opacity": 0.1,
         "type": "scatter",
         "x": [
          1,
          2,
          3,
          4,
          5,
          6,
          7,
          8,
          9,
          10
         ],
         "y": [
          -0.391939005571482,
          -0.8228616599725936,
          -0.8228616599725936,
          -0.8449181926064041,
          -0.8628141899227825,
          -0.9030268125020546,
          -0.9408461257463168,
          -0.9408461257463168,
          -0.9560860787839427,
          -1.0397166294415885
         ]
        },
        {
         "hovertext": "<b>Topic 31</b>:zi_si_bi_yi_vi_et_ni_ei_note_and",
         "line": {
          "color": "black",
          "width": 1.5
         },
         "mode": "lines+lines",
         "name": "",
         "opacity": 0.1,
         "type": "scatter",
         "x": [
          1,
          2,
          3,
          4,
          5,
          6,
          7,
          8,
          9,
          10
         ],
         "y": [
          -0.4731079291173965,
          -0.5404263755986143,
          -0.7461348259395748,
          -0.7997050353854819,
          -0.9288937937140214,
          -0.943688508772908,
          -0.9482807873629102,
          -0.9612955218461195,
          -1.2811135337534674,
          -1.342436103156596
         ]
        },
        {
         "hovertext": "<b>Topic 32</b>:eq_leymaka_pq_pad_aat_ta_ieq_ross_",
         "line": {
          "color": "black",
          "width": 1.5
         },
         "mode": "lines+lines",
         "name": "",
         "opacity": 0.1,
         "type": "scatter",
         "x": [
          1,
          2,
          3,
          4,
          5,
          6,
          7,
          8,
          9,
          10
         ],
         "y": [
          -0.43042237931438276,
          -0.46672905469776305,
          -0.6257546750539745,
          -0.9080155786787896,
          -1.0146836963872399,
          -1.3157136920512211,
          -1.3619689836553932,
          -1.3856558798888703,
          -1.3961479804120558,
          -1.4337909374960345
         ]
        },
        {
         "hovertext": "<b>Topic 33</b>:table_hts_mt_usteri_years_sethat_i",
         "line": {
          "color": "black",
          "width": 1.5
         },
         "mode": "lines+lines",
         "name": "",
         "opacity": 0.1,
         "type": "scatter",
         "x": [
          1,
          2,
          3,
          4,
          5,
          6,
          7,
          8,
          9,
          10
         ],
         "y": [
          -0.2559205716248977,
          -0.6809004724623516,
          -0.7984053669959468,
          -0.8324840578399066,
          -1.0428774997297678,
          -1.0428774997297678,
          -1.0428774997297678,
          -1.0428774997297678,
          -1.0428774997297678,
          -1.0428774997297678
         ]
        },
        {
         "hovertext": "<b>Topic 34</b>:telecom_gaa_vivendi_euros_france_t",
         "line": {
          "color": "black",
          "width": 1.5
         },
         "mode": "lines+lines",
         "name": "",
         "opacity": 0.1,
         "type": "scatter",
         "x": [
          1,
          2,
          3,
          4,
          5,
          6,
          7,
          8,
          9,
          10
         ],
         "y": [
          -0.4701074079977967,
          -0.5823245183248971,
          -0.6007363741167009,
          -0.6007363741167009,
          -0.6490916280700468,
          -0.6633447321170157,
          -1.0093410978736226,
          -1.0778576288363633,
          -1.1629424495327985,
          -1.1695752133773123
         ]
        },
        {
         "hovertext": "<b>Topic 35</b>:tx_ts_te_rec_givrec_itx_itfl_acued",
         "line": {
          "color": "black",
          "width": 1.5
         },
         "mode": "lines+lines",
         "name": "",
         "opacity": 0.1,
         "type": "scatter",
         "x": [
          1,
          2,
          3,
          4,
          5,
          6,
          7,
          8,
          9,
          10
         ],
         "y": [
          0.011299470332420136,
          -0.2820815267037646,
          -0.2875142029104375,
          -0.5394148326099104,
          -1.1620639074489765,
          -1.1620639074489765,
          -1.1620639074489765,
          -1.1620639074489765,
          -1.1620639074489765,
          -1.1620639074489765
         ]
        },
        {
         "hovertext": "<b>Topic 36</b>:corvee_kei_socorvee_ys_hou_ph_soan",
         "line": {
          "color": "black",
          "width": 1.5
         },
         "mode": "lines+lines",
         "name": "",
         "opacity": 0.1,
         "type": "scatter",
         "x": [
          1,
          2,
          3,
          4,
          5,
          6,
          7,
          8,
          9,
          10
         ],
         "y": [
          -0.7559564320704438,
          -0.8594321333090081,
          -1.0657541099997543,
          -1.1009749839218952,
          -1.1094821455656283,
          -1.1666990418334267,
          -1.229661470076407,
          -1.2448358034877214,
          -1.433614222376385,
          -1.4515102196927634
         ]
        },
        {
         "hovertext": "<b>Topic 37</b>:wins_loss_max_wimax_dowalma_lossg_",
         "line": {
          "color": "black",
          "width": 1.5
         },
         "mode": "lines+lines",
         "name": "",
         "opacity": 0.1,
         "type": "scatter",
         "x": [
          1,
          2,
          3,
          4,
          5,
          6,
          7,
          8,
          9,
          10
         ],
         "y": [
          -0.5205695105507389,
          -0.5737155671306378,
          -0.666605116946098,
          -0.7549202108417287,
          -0.7549202108417287,
          -0.7549202108417287,
          -0.7549202108417287,
          -0.7843552019493203,
          -0.790651311929592,
          -0.7927395240859909
         ]
        },
        {
         "hovertext": "<b>Topic 38</b>:snature_terry_lns_arriva_maez_id_o",
         "line": {
          "color": "black",
          "width": 1.5
         },
         "mode": "lines+lines",
         "name": "",
         "opacity": 0.1,
         "type": "scatter",
         "x": [
          1,
          2,
          3,
          4,
          5,
          6,
          7,
          8,
          9,
          10
         ],
         "y": [
          -0.5811894021403907,
          -0.977150437119951,
          -0.9998615385493318,
          -1.1554371283892568,
          -1.2233513717816962,
          -1.2728628106130695,
          -1.3811262327645737,
          -1.3812746423849713,
          -1.3812746423849713,
          -1.4200760354973774
         ]
        },
        {
         "hovertext": "<b>Topic 39</b>:ci_hj_mj_xj_lf_refers_ii_fj_terms_",
         "line": {
          "color": "black",
          "width": 1.5
         },
         "mode": "lines+lines",
         "name": "",
         "opacity": 0.1,
         "type": "scatter",
         "x": [
          1,
          2,
          3,
          4,
          5,
          6,
          7,
          8,
          9,
          10
         ],
         "y": [
          -0.6809105686280764,
          -0.6993460513381042,
          -0.7559148703419805,
          -0.865515013979033,
          -0.9320061293976616,
          -0.9540626620314722,
          -0.9645656150145341,
          -0.9719586593478504,
          -0.9719586593478504,
          -1.0325952856959422
         ]
        },
        {
         "hovertext": "<b>Topic 40</b>:vessel_tse_ke_after_ufor_requirbec",
         "line": {
          "color": "black",
          "width": 1.5
         },
         "mode": "lines+lines",
         "name": "",
         "opacity": 0.1,
         "type": "scatter",
         "x": [
          1,
          2,
          3,
          4,
          5,
          6,
          7,
          8,
          9,
          10
         ],
         "y": [
          -0.8689359030650425,
          -0.9199135485153455,
          -0.9217088129056396,
          -0.9443622289262472,
          -0.9614044569025582,
          -0.9614044569025582,
          -0.9614044569025582,
          -0.9614044569025582,
          -0.9614044569025582,
          -0.9614044569025582
         ]
        }
       ],
       "layout": {
        "height": 500,
        "hoverlabel": {
         "bgcolor": "white",
         "font": {
          "family": "Rockwell",
          "size": 16
         }
        },
        "showlegend": false,
        "template": {
         "data": {
          "bar": [
           {
            "error_x": {
             "color": "#2a3f5f"
            },
            "error_y": {
             "color": "#2a3f5f"
            },
            "marker": {
             "line": {
              "color": "white",
              "width": 0.5
             },
             "pattern": {
              "fillmode": "overlay",
              "size": 10,
              "solidity": 0.2
             }
            },
            "type": "bar"
           }
          ],
          "barpolar": [
           {
            "marker": {
             "line": {
              "color": "white",
              "width": 0.5
             },
             "pattern": {
              "fillmode": "overlay",
              "size": 10,
              "solidity": 0.2
             }
            },
            "type": "barpolar"
           }
          ],
          "carpet": [
           {
            "aaxis": {
             "endlinecolor": "#2a3f5f",
             "gridcolor": "#C8D4E3",
             "linecolor": "#C8D4E3",
             "minorgridcolor": "#C8D4E3",
             "startlinecolor": "#2a3f5f"
            },
            "baxis": {
             "endlinecolor": "#2a3f5f",
             "gridcolor": "#C8D4E3",
             "linecolor": "#C8D4E3",
             "minorgridcolor": "#C8D4E3",
             "startlinecolor": "#2a3f5f"
            },
            "type": "carpet"
           }
          ],
          "choropleth": [
           {
            "colorbar": {
             "outlinewidth": 0,
             "ticks": ""
            },
            "type": "choropleth"
           }
          ],
          "contour": [
           {
            "colorbar": {
             "outlinewidth": 0,
             "ticks": ""
            },
            "colorscale": [
             [
              0,
              "#0d0887"
             ],
             [
              0.1111111111111111,
              "#46039f"
             ],
             [
              0.2222222222222222,
              "#7201a8"
             ],
             [
              0.3333333333333333,
              "#9c179e"
             ],
             [
              0.4444444444444444,
              "#bd3786"
             ],
             [
              0.5555555555555556,
              "#d8576b"
             ],
             [
              0.6666666666666666,
              "#ed7953"
             ],
             [
              0.7777777777777778,
              "#fb9f3a"
             ],
             [
              0.8888888888888888,
              "#fdca26"
             ],
             [
              1,
              "#f0f921"
             ]
            ],
            "type": "contour"
           }
          ],
          "contourcarpet": [
           {
            "colorbar": {
             "outlinewidth": 0,
             "ticks": ""
            },
            "type": "contourcarpet"
           }
          ],
          "heatmap": [
           {
            "colorbar": {
             "outlinewidth": 0,
             "ticks": ""
            },
            "colorscale": [
             [
              0,
              "#0d0887"
             ],
             [
              0.1111111111111111,
              "#46039f"
             ],
             [
              0.2222222222222222,
              "#7201a8"
             ],
             [
              0.3333333333333333,
              "#9c179e"
             ],
             [
              0.4444444444444444,
              "#bd3786"
             ],
             [
              0.5555555555555556,
              "#d8576b"
             ],
             [
              0.6666666666666666,
              "#ed7953"
             ],
             [
              0.7777777777777778,
              "#fb9f3a"
             ],
             [
              0.8888888888888888,
              "#fdca26"
             ],
             [
              1,
              "#f0f921"
             ]
            ],
            "type": "heatmap"
           }
          ],
          "heatmapgl": [
           {
            "colorbar": {
             "outlinewidth": 0,
             "ticks": ""
            },
            "colorscale": [
             [
              0,
              "#0d0887"
             ],
             [
              0.1111111111111111,
              "#46039f"
             ],
             [
              0.2222222222222222,
              "#7201a8"
             ],
             [
              0.3333333333333333,
              "#9c179e"
             ],
             [
              0.4444444444444444,
              "#bd3786"
             ],
             [
              0.5555555555555556,
              "#d8576b"
             ],
             [
              0.6666666666666666,
              "#ed7953"
             ],
             [
              0.7777777777777778,
              "#fb9f3a"
             ],
             [
              0.8888888888888888,
              "#fdca26"
             ],
             [
              1,
              "#f0f921"
             ]
            ],
            "type": "heatmapgl"
           }
          ],
          "histogram": [
           {
            "marker": {
             "pattern": {
              "fillmode": "overlay",
              "size": 10,
              "solidity": 0.2
             }
            },
            "type": "histogram"
           }
          ],
          "histogram2d": [
           {
            "colorbar": {
             "outlinewidth": 0,
             "ticks": ""
            },
            "colorscale": [
             [
              0,
              "#0d0887"
             ],
             [
              0.1111111111111111,
              "#46039f"
             ],
             [
              0.2222222222222222,
              "#7201a8"
             ],
             [
              0.3333333333333333,
              "#9c179e"
             ],
             [
              0.4444444444444444,
              "#bd3786"
             ],
             [
              0.5555555555555556,
              "#d8576b"
             ],
             [
              0.6666666666666666,
              "#ed7953"
             ],
             [
              0.7777777777777778,
              "#fb9f3a"
             ],
             [
              0.8888888888888888,
              "#fdca26"
             ],
             [
              1,
              "#f0f921"
             ]
            ],
            "type": "histogram2d"
           }
          ],
          "histogram2dcontour": [
           {
            "colorbar": {
             "outlinewidth": 0,
             "ticks": ""
            },
            "colorscale": [
             [
              0,
              "#0d0887"
             ],
             [
              0.1111111111111111,
              "#46039f"
             ],
             [
              0.2222222222222222,
              "#7201a8"
             ],
             [
              0.3333333333333333,
              "#9c179e"
             ],
             [
              0.4444444444444444,
              "#bd3786"
             ],
             [
              0.5555555555555556,
              "#d8576b"
             ],
             [
              0.6666666666666666,
              "#ed7953"
             ],
             [
              0.7777777777777778,
              "#fb9f3a"
             ],
             [
              0.8888888888888888,
              "#fdca26"
             ],
             [
              1,
              "#f0f921"
             ]
            ],
            "type": "histogram2dcontour"
           }
          ],
          "mesh3d": [
           {
            "colorbar": {
             "outlinewidth": 0,
             "ticks": ""
            },
            "type": "mesh3d"
           }
          ],
          "parcoords": [
           {
            "line": {
             "colorbar": {
              "outlinewidth": 0,
              "ticks": ""
             }
            },
            "type": "parcoords"
           }
          ],
          "pie": [
           {
            "automargin": true,
            "type": "pie"
           }
          ],
          "scatter": [
           {
            "fillpattern": {
             "fillmode": "overlay",
             "size": 10,
             "solidity": 0.2
            },
            "type": "scatter"
           }
          ],
          "scatter3d": [
           {
            "line": {
             "colorbar": {
              "outlinewidth": 0,
              "ticks": ""
             }
            },
            "marker": {
             "colorbar": {
              "outlinewidth": 0,
              "ticks": ""
             }
            },
            "type": "scatter3d"
           }
          ],
          "scattercarpet": [
           {
            "marker": {
             "colorbar": {
              "outlinewidth": 0,
              "ticks": ""
             }
            },
            "type": "scattercarpet"
           }
          ],
          "scattergeo": [
           {
            "marker": {
             "colorbar": {
              "outlinewidth": 0,
              "ticks": ""
             }
            },
            "type": "scattergeo"
           }
          ],
          "scattergl": [
           {
            "marker": {
             "colorbar": {
              "outlinewidth": 0,
              "ticks": ""
             }
            },
            "type": "scattergl"
           }
          ],
          "scattermapbox": [
           {
            "marker": {
             "colorbar": {
              "outlinewidth": 0,
              "ticks": ""
             }
            },
            "type": "scattermapbox"
           }
          ],
          "scatterpolar": [
           {
            "marker": {
             "colorbar": {
              "outlinewidth": 0,
              "ticks": ""
             }
            },
            "type": "scatterpolar"
           }
          ],
          "scatterpolargl": [
           {
            "marker": {
             "colorbar": {
              "outlinewidth": 0,
              "ticks": ""
             }
            },
            "type": "scatterpolargl"
           }
          ],
          "scatterternary": [
           {
            "marker": {
             "colorbar": {
              "outlinewidth": 0,
              "ticks": ""
             }
            },
            "type": "scatterternary"
           }
          ],
          "surface": [
           {
            "colorbar": {
             "outlinewidth": 0,
             "ticks": ""
            },
            "colorscale": [
             [
              0,
              "#0d0887"
             ],
             [
              0.1111111111111111,
              "#46039f"
             ],
             [
              0.2222222222222222,
              "#7201a8"
             ],
             [
              0.3333333333333333,
              "#9c179e"
             ],
             [
              0.4444444444444444,
              "#bd3786"
             ],
             [
              0.5555555555555556,
              "#d8576b"
             ],
             [
              0.6666666666666666,
              "#ed7953"
             ],
             [
              0.7777777777777778,
              "#fb9f3a"
             ],
             [
              0.8888888888888888,
              "#fdca26"
             ],
             [
              1,
              "#f0f921"
             ]
            ],
            "type": "surface"
           }
          ],
          "table": [
           {
            "cells": {
             "fill": {
              "color": "#EBF0F8"
             },
             "line": {
              "color": "white"
             }
            },
            "header": {
             "fill": {
              "color": "#C8D4E3"
             },
             "line": {
              "color": "white"
             }
            },
            "type": "table"
           }
          ]
         },
         "layout": {
          "annotationdefaults": {
           "arrowcolor": "#2a3f5f",
           "arrowhead": 0,
           "arrowwidth": 1
          },
          "autotypenumbers": "strict",
          "coloraxis": {
           "colorbar": {
            "outlinewidth": 0,
            "ticks": ""
           }
          },
          "colorscale": {
           "diverging": [
            [
             0,
             "#8e0152"
            ],
            [
             0.1,
             "#c51b7d"
            ],
            [
             0.2,
             "#de77ae"
            ],
            [
             0.3,
             "#f1b6da"
            ],
            [
             0.4,
             "#fde0ef"
            ],
            [
             0.5,
             "#f7f7f7"
            ],
            [
             0.6,
             "#e6f5d0"
            ],
            [
             0.7,
             "#b8e186"
            ],
            [
             0.8,
             "#7fbc41"
            ],
            [
             0.9,
             "#4d9221"
            ],
            [
             1,
             "#276419"
            ]
           ],
           "sequential": [
            [
             0,
             "#0d0887"
            ],
            [
             0.1111111111111111,
             "#46039f"
            ],
            [
             0.2222222222222222,
             "#7201a8"
            ],
            [
             0.3333333333333333,
             "#9c179e"
            ],
            [
             0.4444444444444444,
             "#bd3786"
            ],
            [
             0.5555555555555556,
             "#d8576b"
            ],
            [
             0.6666666666666666,
             "#ed7953"
            ],
            [
             0.7777777777777778,
             "#fb9f3a"
            ],
            [
             0.8888888888888888,
             "#fdca26"
            ],
            [
             1,
             "#f0f921"
            ]
           ],
           "sequentialminus": [
            [
             0,
             "#0d0887"
            ],
            [
             0.1111111111111111,
             "#46039f"
            ],
            [
             0.2222222222222222,
             "#7201a8"
            ],
            [
             0.3333333333333333,
             "#9c179e"
            ],
            [
             0.4444444444444444,
             "#bd3786"
            ],
            [
             0.5555555555555556,
             "#d8576b"
            ],
            [
             0.6666666666666666,
             "#ed7953"
            ],
            [
             0.7777777777777778,
             "#fb9f3a"
            ],
            [
             0.8888888888888888,
             "#fdca26"
            ],
            [
             1,
             "#f0f921"
            ]
           ]
          },
          "colorway": [
           "#636efa",
           "#EF553B",
           "#00cc96",
           "#ab63fa",
           "#FFA15A",
           "#19d3f3",
           "#FF6692",
           "#B6E880",
           "#FF97FF",
           "#FECB52"
          ],
          "font": {
           "color": "#2a3f5f"
          },
          "geo": {
           "bgcolor": "white",
           "lakecolor": "white",
           "landcolor": "white",
           "showlakes": true,
           "showland": true,
           "subunitcolor": "#C8D4E3"
          },
          "hoverlabel": {
           "align": "left"
          },
          "hovermode": "closest",
          "mapbox": {
           "style": "light"
          },
          "paper_bgcolor": "white",
          "plot_bgcolor": "white",
          "polar": {
           "angularaxis": {
            "gridcolor": "#EBF0F8",
            "linecolor": "#EBF0F8",
            "ticks": ""
           },
           "bgcolor": "white",
           "radialaxis": {
            "gridcolor": "#EBF0F8",
            "linecolor": "#EBF0F8",
            "ticks": ""
           }
          },
          "scene": {
           "xaxis": {
            "backgroundcolor": "white",
            "gridcolor": "#DFE8F3",
            "gridwidth": 2,
            "linecolor": "#EBF0F8",
            "showbackground": true,
            "ticks": "",
            "zerolinecolor": "#EBF0F8"
           },
           "yaxis": {
            "backgroundcolor": "white",
            "gridcolor": "#DFE8F3",
            "gridwidth": 2,
            "linecolor": "#EBF0F8",
            "showbackground": true,
            "ticks": "",
            "zerolinecolor": "#EBF0F8"
           },
           "zaxis": {
            "backgroundcolor": "white",
            "gridcolor": "#DFE8F3",
            "gridwidth": 2,
            "linecolor": "#EBF0F8",
            "showbackground": true,
            "ticks": "",
            "zerolinecolor": "#EBF0F8"
           }
          },
          "shapedefaults": {
           "line": {
            "color": "#2a3f5f"
           }
          },
          "ternary": {
           "aaxis": {
            "gridcolor": "#DFE8F3",
            "linecolor": "#A2B1C6",
            "ticks": ""
           },
           "baxis": {
            "gridcolor": "#DFE8F3",
            "linecolor": "#A2B1C6",
            "ticks": ""
           },
           "bgcolor": "white",
           "caxis": {
            "gridcolor": "#DFE8F3",
            "linecolor": "#A2B1C6",
            "ticks": ""
           }
          },
          "title": {
           "x": 0.05
          },
          "xaxis": {
           "automargin": true,
           "gridcolor": "#EBF0F8",
           "linecolor": "#EBF0F8",
           "ticks": "",
           "title": {
            "standoff": 15
           },
           "zerolinecolor": "#EBF0F8",
           "zerolinewidth": 2
          },
          "yaxis": {
           "automargin": true,
           "gridcolor": "#EBF0F8",
           "linecolor": "#EBF0F8",
           "ticks": "",
           "title": {
            "standoff": 15
           },
           "zerolinecolor": "#EBF0F8",
           "zerolinewidth": 2
          }
         }
        },
        "title": {
         "font": {
          "color": "Black",
          "size": 22
         },
         "text": "<b>Term score decline per Topic</b>",
         "x": 0.5,
         "xanchor": "center",
         "y": 0.9,
         "yanchor": "top"
        },
        "width": 800,
        "xaxis": {
         "dtick": 2,
         "range": [
          0,
          10
         ],
         "tick0": 1,
         "title": {
          "text": "Term Rank"
         }
        },
        "yaxis": {
         "title": {
          "text": "c-TF-IDF score (log scale)"
         }
        }
       }
      }
     },
     "metadata": {},
     "output_type": "display_data"
    }
   ],
   "source": [
    "model.visualize_term_rank(log_scale=True)"
   ]
  },
  {
   "cell_type": "code",
   "execution_count": null,
   "metadata": {},
   "outputs": [
    {
     "data": {
      "application/vnd.plotly.v1+json": {
       "config": {
        "plotlyServerURL": "https://plot.ly"
       },
       "data": [
        {
         "customdata": [
          [
           0,
           "ty | trend | resistance | term | for",
           55
          ],
          [
           1,
           "journal | nance | nancial | psics | economics",
           43
          ],
          [
           2,
           "usteri | tables | subse | mtns | hts",
           38
          ],
          [
           3,
           "racer | ya | ep | learni | us",
           37
          ],
          [
           4,
           "st | et | vt | gt | dt",
           34
          ],
          [
           5,
           "intellence | nature | articial | li | gut",
           33
          ],
          [
           6,
           "subse | mtns | tables | hts | uster",
           32
          ],
          [
           7,
           "time | price | elori | assic | keltner",
           31
          ],
          [
           8,
           "tg | researcr | an | for | at",
           30
          ],
          [
           9,
           "is | yu | sha | rank | so",
           28
          ],
          [
           10,
           "eq | ki | ui | multiplayer | page",
           23
          ],
          [
           11,
           "trefore | consequently | occur | alice | ined",
           23
          ],
          [
           12,
           "du | lea | alla | torem | proof",
           23
          ],
          [
           13,
           "ft | gt | ws | dx | vt",
           21
          ],
          [
           14,
           "xl | el | pr | pl | rule",
           21
          ],
          [
           15,
           "only | mr | bonacci | oid | errors",
           20
          ],
          [
           16,
           "schools | implied | exa | for | fbe",
           18
          ],
          [
           17,
           "xt | ws | aelic | fs | xs",
           18
          ],
          [
           18,
           "ry | quantum | ptrow | psics | scar",
           18
          ],
          [
           19,
           "cancer | cell | lima | esophageal | prostate",
           17
          ],
          [
           20,
           "guet | sot | ppeso | da | rd",
           16
          ],
          [
           21,
           "ffn | yr | geometrical | fffn | pure",
           16
          ],
          [
           22,
           "var | bridge | winner | royal | society",
           14
          ],
          [
           23,
           "ti | xi | wi | tti | ft",
           14
          ],
          [
           24,
           "lta | cash | dollars | note | supply",
           13
          ],
          [
           25,
           "limo | corse | ice | society | royal",
           12
          ],
          [
           26,
           "mark | lipschitz | lp | seonent | assumptns",
           11
          ],
          [
           27,
           "chara | rca | bart | patria | ale",
           11
          ],
          [
           28,
           "problem | ansr | solut | iproblem | cars",
           11
          ],
          [
           29,
           "table | mt | consistent | mtn | quartz",
           10
          ],
          [
           30,
           "probabity | mea | variabity | placement | yj",
           10
          ],
          [
           31,
           "zi | si | bi | yi | vi",
           10
          ],
          [
           32,
           "eq | leymaka | pq | pad | aat",
           9
          ],
          [
           33,
           "table | hts | mt | usteri | years",
           9
          ],
          [
           34,
           "telecom | gaa | vivendi | euros | france",
           9
          ],
          [
           35,
           "tx | ts | te | rec | givrec",
           8
          ],
          [
           36,
           "corvee | kei | socorvee | ys | hou",
           8
          ],
          [
           37,
           "wins | loss | max | wimax | dowalma",
           8
          ],
          [
           38,
           "snature | terry | lns | arriva | maez",
           8
          ],
          [
           39,
           "ci | hj | mj | xj | lf",
           7
          ],
          [
           40,
           "vessel | tse | ke | after | ufor",
           7
          ]
         ],
         "hovertemplate": "<b>Topic %{customdata[0]}</b><br>%{customdata[1]}<br>Size: %{customdata[2]}",
         "legendgroup": "",
         "marker": {
          "color": "#B0BEC5",
          "line": {
           "color": "DarkSlateGrey",
           "width": 2
          },
          "size": [
           55,
           43,
           38,
           37,
           34,
           33,
           32,
           31,
           30,
           28,
           23,
           23,
           23,
           21,
           21,
           20,
           18,
           18,
           18,
           17,
           16,
           16,
           14,
           14,
           13,
           12,
           11,
           11,
           11,
           10,
           10,
           10,
           9,
           9,
           9,
           8,
           8,
           8,
           8,
           7,
           7
          ],
          "sizemode": "area",
          "sizeref": 0.034375,
          "symbol": "circle"
         },
         "mode": "markers",
         "name": "",
         "orientation": "v",
         "showlegend": false,
         "type": "scatter",
         "x": [
          8.881430625915527,
          9.073928833007812,
          16.98040771484375,
          1.7890195846557617,
          7.59617280960083,
          1.7982683181762695,
          16.980449676513672,
          8.986176490783691,
          -5.73262882232666,
          1.9692400693893433,
          -7.334949016571045,
          8.779987335205078,
          2.0312740802764893,
          7.488163948059082,
          7.9505109786987305,
          9.108580589294434,
          8.412055969238281,
          8.33846664428711,
          8.064759254455566,
          1.521488070487976,
          8.24186897277832,
          -5.972520351409912,
          9.798457145690918,
          8.58659839630127,
          -5.776567459106445,
          0.848357617855072,
          8.28069019317627,
          8.11754322052002,
          -5.529663562774658,
          18.681339263916016,
          10.112763404846191,
          8.63065242767334,
          -7.325717926025391,
          18.681358337402344,
          -6.2486724853515625,
          7.443055629730225,
          1.0698617696762085,
          10.184456825256348,
          1.3168971538543701,
          7.877517223358154,
          8.605040550231934
         ],
         "xaxis": "x",
         "y": [
          0.7982247471809387,
          2.206848621368408,
          4.548283576965332,
          6.369517803192139,
          1.5903942584991455,
          6.919419765472412,
          4.548318862915039,
          1.435807704925537,
          -5.325446128845215,
          6.48312520980835,
          6.240128040313721,
          1.0087652206420898,
          6.749699115753174,
          1.626206636428833,
          -2.4657962322235107,
          0.9967294335365295,
          -2.449512481689453,
          -1.7718806266784668,
          1.274353265762329,
          6.881075859069824,
          1.4886658191680908,
          -5.085194110870361,
          1.2755588293075562,
          -3.2005906105041504,
          -5.281339168548584,
          5.86186408996582,
          -2.210357666015625,
          -2.3207848072052,
          -5.52810001373291,
          12.74488353729248,
          1.4559282064437866,
          -3.0873405933380127,
          6.23140811920166,
          12.744893074035645,
          -4.808757781982422,
          1.6652215719223022,
          6.071284294128418,
          1.5129867792129517,
          6.454033851623535,
          -1.9885615110397339,
          -2.133453130722046
         ],
         "yaxis": "y"
        }
       ],
       "layout": {
        "annotations": [
         {
          "showarrow": false,
          "text": "D1",
          "x": -8.435191369056701,
          "y": 4.1496560096740716,
          "yshift": 10
         },
         {
          "showarrow": false,
          "text": "D2",
          "x": 6.524185359477998,
          "xshift": 10,
          "y": 14.65662703514099
         }
        ],
        "height": 650,
        "hoverlabel": {
         "bgcolor": "white",
         "font": {
          "family": "Rockwell",
          "size": 16
         }
        },
        "legend": {
         "itemsizing": "constant",
         "tracegroupgap": 0
        },
        "margin": {
         "t": 60
        },
        "shapes": [
         {
          "line": {
           "color": "#CFD8DC",
           "width": 2
          },
          "type": "line",
          "x0": 6.524185359477998,
          "x1": 6.524185359477998,
          "y0": -6.357315015792847,
          "y1": 14.65662703514099
         },
         {
          "line": {
           "color": "#9E9E9E",
           "width": 2
          },
          "type": "line",
          "x0": -8.435191369056701,
          "x1": 21.483562088012697,
          "y0": 4.1496560096740716,
          "y1": 4.1496560096740716
         }
        ],
        "sliders": [
         {
          "active": 0,
          "pad": {
           "t": 50
          },
          "steps": [
           {
            "args": [
             {
              "marker.color": [
               [
                "red",
                "#B0BEC5",
                "#B0BEC5",
                "#B0BEC5",
                "#B0BEC5",
                "#B0BEC5",
                "#B0BEC5",
                "#B0BEC5",
                "#B0BEC5",
                "#B0BEC5",
                "#B0BEC5",
                "#B0BEC5",
                "#B0BEC5",
                "#B0BEC5",
                "#B0BEC5",
                "#B0BEC5",
                "#B0BEC5",
                "#B0BEC5",
                "#B0BEC5",
                "#B0BEC5",
                "#B0BEC5",
                "#B0BEC5",
                "#B0BEC5",
                "#B0BEC5",
                "#B0BEC5",
                "#B0BEC5",
                "#B0BEC5",
                "#B0BEC5",
                "#B0BEC5",
                "#B0BEC5",
                "#B0BEC5",
                "#B0BEC5",
                "#B0BEC5",
                "#B0BEC5",
                "#B0BEC5",
                "#B0BEC5",
                "#B0BEC5",
                "#B0BEC5",
                "#B0BEC5",
                "#B0BEC5",
                "#B0BEC5"
               ]
              ]
             }
            ],
            "label": "Topic 0",
            "method": "update"
           },
           {
            "args": [
             {
              "marker.color": [
               [
                "#B0BEC5",
                "red",
                "#B0BEC5",
                "#B0BEC5",
                "#B0BEC5",
                "#B0BEC5",
                "#B0BEC5",
                "#B0BEC5",
                "#B0BEC5",
                "#B0BEC5",
                "#B0BEC5",
                "#B0BEC5",
                "#B0BEC5",
                "#B0BEC5",
                "#B0BEC5",
                "#B0BEC5",
                "#B0BEC5",
                "#B0BEC5",
                "#B0BEC5",
                "#B0BEC5",
                "#B0BEC5",
                "#B0BEC5",
                "#B0BEC5",
                "#B0BEC5",
                "#B0BEC5",
                "#B0BEC5",
                "#B0BEC5",
                "#B0BEC5",
                "#B0BEC5",
                "#B0BEC5",
                "#B0BEC5",
                "#B0BEC5",
                "#B0BEC5",
                "#B0BEC5",
                "#B0BEC5",
                "#B0BEC5",
                "#B0BEC5",
                "#B0BEC5",
                "#B0BEC5",
                "#B0BEC5",
                "#B0BEC5"
               ]
              ]
             }
            ],
            "label": "Topic 1",
            "method": "update"
           },
           {
            "args": [
             {
              "marker.color": [
               [
                "#B0BEC5",
                "#B0BEC5",
                "red",
                "#B0BEC5",
                "#B0BEC5",
                "#B0BEC5",
                "#B0BEC5",
                "#B0BEC5",
                "#B0BEC5",
                "#B0BEC5",
                "#B0BEC5",
                "#B0BEC5",
                "#B0BEC5",
                "#B0BEC5",
                "#B0BEC5",
                "#B0BEC5",
                "#B0BEC5",
                "#B0BEC5",
                "#B0BEC5",
                "#B0BEC5",
                "#B0BEC5",
                "#B0BEC5",
                "#B0BEC5",
                "#B0BEC5",
                "#B0BEC5",
                "#B0BEC5",
                "#B0BEC5",
                "#B0BEC5",
                "#B0BEC5",
                "#B0BEC5",
                "#B0BEC5",
                "#B0BEC5",
                "#B0BEC5",
                "#B0BEC5",
                "#B0BEC5",
                "#B0BEC5",
                "#B0BEC5",
                "#B0BEC5",
                "#B0BEC5",
                "#B0BEC5",
                "#B0BEC5"
               ]
              ]
             }
            ],
            "label": "Topic 2",
            "method": "update"
           },
           {
            "args": [
             {
              "marker.color": [
               [
                "#B0BEC5",
                "#B0BEC5",
                "#B0BEC5",
                "red",
                "#B0BEC5",
                "#B0BEC5",
                "#B0BEC5",
                "#B0BEC5",
                "#B0BEC5",
                "#B0BEC5",
                "#B0BEC5",
                "#B0BEC5",
                "#B0BEC5",
                "#B0BEC5",
                "#B0BEC5",
                "#B0BEC5",
                "#B0BEC5",
                "#B0BEC5",
                "#B0BEC5",
                "#B0BEC5",
                "#B0BEC5",
                "#B0BEC5",
                "#B0BEC5",
                "#B0BEC5",
                "#B0BEC5",
                "#B0BEC5",
                "#B0BEC5",
                "#B0BEC5",
                "#B0BEC5",
                "#B0BEC5",
                "#B0BEC5",
                "#B0BEC5",
                "#B0BEC5",
                "#B0BEC5",
                "#B0BEC5",
                "#B0BEC5",
                "#B0BEC5",
                "#B0BEC5",
                "#B0BEC5",
                "#B0BEC5",
                "#B0BEC5"
               ]
              ]
             }
            ],
            "label": "Topic 3",
            "method": "update"
           },
           {
            "args": [
             {
              "marker.color": [
               [
                "#B0BEC5",
                "#B0BEC5",
                "#B0BEC5",
                "#B0BEC5",
                "red",
                "#B0BEC5",
                "#B0BEC5",
                "#B0BEC5",
                "#B0BEC5",
                "#B0BEC5",
                "#B0BEC5",
                "#B0BEC5",
                "#B0BEC5",
                "#B0BEC5",
                "#B0BEC5",
                "#B0BEC5",
                "#B0BEC5",
                "#B0BEC5",
                "#B0BEC5",
                "#B0BEC5",
                "#B0BEC5",
                "#B0BEC5",
                "#B0BEC5",
                "#B0BEC5",
                "#B0BEC5",
                "#B0BEC5",
                "#B0BEC5",
                "#B0BEC5",
                "#B0BEC5",
                "#B0BEC5",
                "#B0BEC5",
                "#B0BEC5",
                "#B0BEC5",
                "#B0BEC5",
                "#B0BEC5",
                "#B0BEC5",
                "#B0BEC5",
                "#B0BEC5",
                "#B0BEC5",
                "#B0BEC5",
                "#B0BEC5"
               ]
              ]
             }
            ],
            "label": "Topic 4",
            "method": "update"
           },
           {
            "args": [
             {
              "marker.color": [
               [
                "#B0BEC5",
                "#B0BEC5",
                "#B0BEC5",
                "#B0BEC5",
                "#B0BEC5",
                "red",
                "#B0BEC5",
                "#B0BEC5",
                "#B0BEC5",
                "#B0BEC5",
                "#B0BEC5",
                "#B0BEC5",
                "#B0BEC5",
                "#B0BEC5",
                "#B0BEC5",
                "#B0BEC5",
                "#B0BEC5",
                "#B0BEC5",
                "#B0BEC5",
                "#B0BEC5",
                "#B0BEC5",
                "#B0BEC5",
                "#B0BEC5",
                "#B0BEC5",
                "#B0BEC5",
                "#B0BEC5",
                "#B0BEC5",
                "#B0BEC5",
                "#B0BEC5",
                "#B0BEC5",
                "#B0BEC5",
                "#B0BEC5",
                "#B0BEC5",
                "#B0BEC5",
                "#B0BEC5",
                "#B0BEC5",
                "#B0BEC5",
                "#B0BEC5",
                "#B0BEC5",
                "#B0BEC5",
                "#B0BEC5"
               ]
              ]
             }
            ],
            "label": "Topic 5",
            "method": "update"
           },
           {
            "args": [
             {
              "marker.color": [
               [
                "#B0BEC5",
                "#B0BEC5",
                "#B0BEC5",
                "#B0BEC5",
                "#B0BEC5",
                "#B0BEC5",
                "red",
                "#B0BEC5",
                "#B0BEC5",
                "#B0BEC5",
                "#B0BEC5",
                "#B0BEC5",
                "#B0BEC5",
                "#B0BEC5",
                "#B0BEC5",
                "#B0BEC5",
                "#B0BEC5",
                "#B0BEC5",
                "#B0BEC5",
                "#B0BEC5",
                "#B0BEC5",
                "#B0BEC5",
                "#B0BEC5",
                "#B0BEC5",
                "#B0BEC5",
                "#B0BEC5",
                "#B0BEC5",
                "#B0BEC5",
                "#B0BEC5",
                "#B0BEC5",
                "#B0BEC5",
                "#B0BEC5",
                "#B0BEC5",
                "#B0BEC5",
                "#B0BEC5",
                "#B0BEC5",
                "#B0BEC5",
                "#B0BEC5",
                "#B0BEC5",
                "#B0BEC5",
                "#B0BEC5"
               ]
              ]
             }
            ],
            "label": "Topic 6",
            "method": "update"
           },
           {
            "args": [
             {
              "marker.color": [
               [
                "#B0BEC5",
                "#B0BEC5",
                "#B0BEC5",
                "#B0BEC5",
                "#B0BEC5",
                "#B0BEC5",
                "#B0BEC5",
                "red",
                "#B0BEC5",
                "#B0BEC5",
                "#B0BEC5",
                "#B0BEC5",
                "#B0BEC5",
                "#B0BEC5",
                "#B0BEC5",
                "#B0BEC5",
                "#B0BEC5",
                "#B0BEC5",
                "#B0BEC5",
                "#B0BEC5",
                "#B0BEC5",
                "#B0BEC5",
                "#B0BEC5",
                "#B0BEC5",
                "#B0BEC5",
                "#B0BEC5",
                "#B0BEC5",
                "#B0BEC5",
                "#B0BEC5",
                "#B0BEC5",
                "#B0BEC5",
                "#B0BEC5",
                "#B0BEC5",
                "#B0BEC5",
                "#B0BEC5",
                "#B0BEC5",
                "#B0BEC5",
                "#B0BEC5",
                "#B0BEC5",
                "#B0BEC5",
                "#B0BEC5"
               ]
              ]
             }
            ],
            "label": "Topic 7",
            "method": "update"
           },
           {
            "args": [
             {
              "marker.color": [
               [
                "#B0BEC5",
                "#B0BEC5",
                "#B0BEC5",
                "#B0BEC5",
                "#B0BEC5",
                "#B0BEC5",
                "#B0BEC5",
                "#B0BEC5",
                "red",
                "#B0BEC5",
                "#B0BEC5",
                "#B0BEC5",
                "#B0BEC5",
                "#B0BEC5",
                "#B0BEC5",
                "#B0BEC5",
                "#B0BEC5",
                "#B0BEC5",
                "#B0BEC5",
                "#B0BEC5",
                "#B0BEC5",
                "#B0BEC5",
                "#B0BEC5",
                "#B0BEC5",
                "#B0BEC5",
                "#B0BEC5",
                "#B0BEC5",
                "#B0BEC5",
                "#B0BEC5",
                "#B0BEC5",
                "#B0BEC5",
                "#B0BEC5",
                "#B0BEC5",
                "#B0BEC5",
                "#B0BEC5",
                "#B0BEC5",
                "#B0BEC5",
                "#B0BEC5",
                "#B0BEC5",
                "#B0BEC5",
                "#B0BEC5"
               ]
              ]
             }
            ],
            "label": "Topic 8",
            "method": "update"
           },
           {
            "args": [
             {
              "marker.color": [
               [
                "#B0BEC5",
                "#B0BEC5",
                "#B0BEC5",
                "#B0BEC5",
                "#B0BEC5",
                "#B0BEC5",
                "#B0BEC5",
                "#B0BEC5",
                "#B0BEC5",
                "red",
                "#B0BEC5",
                "#B0BEC5",
                "#B0BEC5",
                "#B0BEC5",
                "#B0BEC5",
                "#B0BEC5",
                "#B0BEC5",
                "#B0BEC5",
                "#B0BEC5",
                "#B0BEC5",
                "#B0BEC5",
                "#B0BEC5",
                "#B0BEC5",
                "#B0BEC5",
                "#B0BEC5",
                "#B0BEC5",
                "#B0BEC5",
                "#B0BEC5",
                "#B0BEC5",
                "#B0BEC5",
                "#B0BEC5",
                "#B0BEC5",
                "#B0BEC5",
                "#B0BEC5",
                "#B0BEC5",
                "#B0BEC5",
                "#B0BEC5",
                "#B0BEC5",
                "#B0BEC5",
                "#B0BEC5",
                "#B0BEC5"
               ]
              ]
             }
            ],
            "label": "Topic 9",
            "method": "update"
           },
           {
            "args": [
             {
              "marker.color": [
               [
                "#B0BEC5",
                "#B0BEC5",
                "#B0BEC5",
                "#B0BEC5",
                "#B0BEC5",
                "#B0BEC5",
                "#B0BEC5",
                "#B0BEC5",
                "#B0BEC5",
                "#B0BEC5",
                "red",
                "#B0BEC5",
                "#B0BEC5",
                "#B0BEC5",
                "#B0BEC5",
                "#B0BEC5",
                "#B0BEC5",
                "#B0BEC5",
                "#B0BEC5",
                "#B0BEC5",
                "#B0BEC5",
                "#B0BEC5",
                "#B0BEC5",
                "#B0BEC5",
                "#B0BEC5",
                "#B0BEC5",
                "#B0BEC5",
                "#B0BEC5",
                "#B0BEC5",
                "#B0BEC5",
                "#B0BEC5",
                "#B0BEC5",
                "#B0BEC5",
                "#B0BEC5",
                "#B0BEC5",
                "#B0BEC5",
                "#B0BEC5",
                "#B0BEC5",
                "#B0BEC5",
                "#B0BEC5",
                "#B0BEC5"
               ]
              ]
             }
            ],
            "label": "Topic 10",
            "method": "update"
           },
           {
            "args": [
             {
              "marker.color": [
               [
                "#B0BEC5",
                "#B0BEC5",
                "#B0BEC5",
                "#B0BEC5",
                "#B0BEC5",
                "#B0BEC5",
                "#B0BEC5",
                "#B0BEC5",
                "#B0BEC5",
                "#B0BEC5",
                "#B0BEC5",
                "red",
                "#B0BEC5",
                "#B0BEC5",
                "#B0BEC5",
                "#B0BEC5",
                "#B0BEC5",
                "#B0BEC5",
                "#B0BEC5",
                "#B0BEC5",
                "#B0BEC5",
                "#B0BEC5",
                "#B0BEC5",
                "#B0BEC5",
                "#B0BEC5",
                "#B0BEC5",
                "#B0BEC5",
                "#B0BEC5",
                "#B0BEC5",
                "#B0BEC5",
                "#B0BEC5",
                "#B0BEC5",
                "#B0BEC5",
                "#B0BEC5",
                "#B0BEC5",
                "#B0BEC5",
                "#B0BEC5",
                "#B0BEC5",
                "#B0BEC5",
                "#B0BEC5",
                "#B0BEC5"
               ]
              ]
             }
            ],
            "label": "Topic 11",
            "method": "update"
           },
           {
            "args": [
             {
              "marker.color": [
               [
                "#B0BEC5",
                "#B0BEC5",
                "#B0BEC5",
                "#B0BEC5",
                "#B0BEC5",
                "#B0BEC5",
                "#B0BEC5",
                "#B0BEC5",
                "#B0BEC5",
                "#B0BEC5",
                "#B0BEC5",
                "#B0BEC5",
                "red",
                "#B0BEC5",
                "#B0BEC5",
                "#B0BEC5",
                "#B0BEC5",
                "#B0BEC5",
                "#B0BEC5",
                "#B0BEC5",
                "#B0BEC5",
                "#B0BEC5",
                "#B0BEC5",
                "#B0BEC5",
                "#B0BEC5",
                "#B0BEC5",
                "#B0BEC5",
                "#B0BEC5",
                "#B0BEC5",
                "#B0BEC5",
                "#B0BEC5",
                "#B0BEC5",
                "#B0BEC5",
                "#B0BEC5",
                "#B0BEC5",
                "#B0BEC5",
                "#B0BEC5",
                "#B0BEC5",
                "#B0BEC5",
                "#B0BEC5",
                "#B0BEC5"
               ]
              ]
             }
            ],
            "label": "Topic 12",
            "method": "update"
           },
           {
            "args": [
             {
              "marker.color": [
               [
                "#B0BEC5",
                "#B0BEC5",
                "#B0BEC5",
                "#B0BEC5",
                "#B0BEC5",
                "#B0BEC5",
                "#B0BEC5",
                "#B0BEC5",
                "#B0BEC5",
                "#B0BEC5",
                "#B0BEC5",
                "#B0BEC5",
                "#B0BEC5",
                "red",
                "#B0BEC5",
                "#B0BEC5",
                "#B0BEC5",
                "#B0BEC5",
                "#B0BEC5",
                "#B0BEC5",
                "#B0BEC5",
                "#B0BEC5",
                "#B0BEC5",
                "#B0BEC5",
                "#B0BEC5",
                "#B0BEC5",
                "#B0BEC5",
                "#B0BEC5",
                "#B0BEC5",
                "#B0BEC5",
                "#B0BEC5",
                "#B0BEC5",
                "#B0BEC5",
                "#B0BEC5",
                "#B0BEC5",
                "#B0BEC5",
                "#B0BEC5",
                "#B0BEC5",
                "#B0BEC5",
                "#B0BEC5",
                "#B0BEC5"
               ]
              ]
             }
            ],
            "label": "Topic 13",
            "method": "update"
           },
           {
            "args": [
             {
              "marker.color": [
               [
                "#B0BEC5",
                "#B0BEC5",
                "#B0BEC5",
                "#B0BEC5",
                "#B0BEC5",
                "#B0BEC5",
                "#B0BEC5",
                "#B0BEC5",
                "#B0BEC5",
                "#B0BEC5",
                "#B0BEC5",
                "#B0BEC5",
                "#B0BEC5",
                "#B0BEC5",
                "red",
                "#B0BEC5",
                "#B0BEC5",
                "#B0BEC5",
                "#B0BEC5",
                "#B0BEC5",
                "#B0BEC5",
                "#B0BEC5",
                "#B0BEC5",
                "#B0BEC5",
                "#B0BEC5",
                "#B0BEC5",
                "#B0BEC5",
                "#B0BEC5",
                "#B0BEC5",
                "#B0BEC5",
                "#B0BEC5",
                "#B0BEC5",
                "#B0BEC5",
                "#B0BEC5",
                "#B0BEC5",
                "#B0BEC5",
                "#B0BEC5",
                "#B0BEC5",
                "#B0BEC5",
                "#B0BEC5",
                "#B0BEC5"
               ]
              ]
             }
            ],
            "label": "Topic 14",
            "method": "update"
           },
           {
            "args": [
             {
              "marker.color": [
               [
                "#B0BEC5",
                "#B0BEC5",
                "#B0BEC5",
                "#B0BEC5",
                "#B0BEC5",
                "#B0BEC5",
                "#B0BEC5",
                "#B0BEC5",
                "#B0BEC5",
                "#B0BEC5",
                "#B0BEC5",
                "#B0BEC5",
                "#B0BEC5",
                "#B0BEC5",
                "#B0BEC5",
                "red",
                "#B0BEC5",
                "#B0BEC5",
                "#B0BEC5",
                "#B0BEC5",
                "#B0BEC5",
                "#B0BEC5",
                "#B0BEC5",
                "#B0BEC5",
                "#B0BEC5",
                "#B0BEC5",
                "#B0BEC5",
                "#B0BEC5",
                "#B0BEC5",
                "#B0BEC5",
                "#B0BEC5",
                "#B0BEC5",
                "#B0BEC5",
                "#B0BEC5",
                "#B0BEC5",
                "#B0BEC5",
                "#B0BEC5",
                "#B0BEC5",
                "#B0BEC5",
                "#B0BEC5",
                "#B0BEC5"
               ]
              ]
             }
            ],
            "label": "Topic 15",
            "method": "update"
           },
           {
            "args": [
             {
              "marker.color": [
               [
                "#B0BEC5",
                "#B0BEC5",
                "#B0BEC5",
                "#B0BEC5",
                "#B0BEC5",
                "#B0BEC5",
                "#B0BEC5",
                "#B0BEC5",
                "#B0BEC5",
                "#B0BEC5",
                "#B0BEC5",
                "#B0BEC5",
                "#B0BEC5",
                "#B0BEC5",
                "#B0BEC5",
                "#B0BEC5",
                "red",
                "#B0BEC5",
                "#B0BEC5",
                "#B0BEC5",
                "#B0BEC5",
                "#B0BEC5",
                "#B0BEC5",
                "#B0BEC5",
                "#B0BEC5",
                "#B0BEC5",
                "#B0BEC5",
                "#B0BEC5",
                "#B0BEC5",
                "#B0BEC5",
                "#B0BEC5",
                "#B0BEC5",
                "#B0BEC5",
                "#B0BEC5",
                "#B0BEC5",
                "#B0BEC5",
                "#B0BEC5",
                "#B0BEC5",
                "#B0BEC5",
                "#B0BEC5",
                "#B0BEC5"
               ]
              ]
             }
            ],
            "label": "Topic 16",
            "method": "update"
           },
           {
            "args": [
             {
              "marker.color": [
               [
                "#B0BEC5",
                "#B0BEC5",
                "#B0BEC5",
                "#B0BEC5",
                "#B0BEC5",
                "#B0BEC5",
                "#B0BEC5",
                "#B0BEC5",
                "#B0BEC5",
                "#B0BEC5",
                "#B0BEC5",
                "#B0BEC5",
                "#B0BEC5",
                "#B0BEC5",
                "#B0BEC5",
                "#B0BEC5",
                "#B0BEC5",
                "red",
                "#B0BEC5",
                "#B0BEC5",
                "#B0BEC5",
                "#B0BEC5",
                "#B0BEC5",
                "#B0BEC5",
                "#B0BEC5",
                "#B0BEC5",
                "#B0BEC5",
                "#B0BEC5",
                "#B0BEC5",
                "#B0BEC5",
                "#B0BEC5",
                "#B0BEC5",
                "#B0BEC5",
                "#B0BEC5",
                "#B0BEC5",
                "#B0BEC5",
                "#B0BEC5",
                "#B0BEC5",
                "#B0BEC5",
                "#B0BEC5",
                "#B0BEC5"
               ]
              ]
             }
            ],
            "label": "Topic 17",
            "method": "update"
           },
           {
            "args": [
             {
              "marker.color": [
               [
                "#B0BEC5",
                "#B0BEC5",
                "#B0BEC5",
                "#B0BEC5",
                "#B0BEC5",
                "#B0BEC5",
                "#B0BEC5",
                "#B0BEC5",
                "#B0BEC5",
                "#B0BEC5",
                "#B0BEC5",
                "#B0BEC5",
                "#B0BEC5",
                "#B0BEC5",
                "#B0BEC5",
                "#B0BEC5",
                "#B0BEC5",
                "#B0BEC5",
                "red",
                "#B0BEC5",
                "#B0BEC5",
                "#B0BEC5",
                "#B0BEC5",
                "#B0BEC5",
                "#B0BEC5",
                "#B0BEC5",
                "#B0BEC5",
                "#B0BEC5",
                "#B0BEC5",
                "#B0BEC5",
                "#B0BEC5",
                "#B0BEC5",
                "#B0BEC5",
                "#B0BEC5",
                "#B0BEC5",
                "#B0BEC5",
                "#B0BEC5",
                "#B0BEC5",
                "#B0BEC5",
                "#B0BEC5",
                "#B0BEC5"
               ]
              ]
             }
            ],
            "label": "Topic 18",
            "method": "update"
           },
           {
            "args": [
             {
              "marker.color": [
               [
                "#B0BEC5",
                "#B0BEC5",
                "#B0BEC5",
                "#B0BEC5",
                "#B0BEC5",
                "#B0BEC5",
                "#B0BEC5",
                "#B0BEC5",
                "#B0BEC5",
                "#B0BEC5",
                "#B0BEC5",
                "#B0BEC5",
                "#B0BEC5",
                "#B0BEC5",
                "#B0BEC5",
                "#B0BEC5",
                "#B0BEC5",
                "#B0BEC5",
                "#B0BEC5",
                "red",
                "#B0BEC5",
                "#B0BEC5",
                "#B0BEC5",
                "#B0BEC5",
                "#B0BEC5",
                "#B0BEC5",
                "#B0BEC5",
                "#B0BEC5",
                "#B0BEC5",
                "#B0BEC5",
                "#B0BEC5",
                "#B0BEC5",
                "#B0BEC5",
                "#B0BEC5",
                "#B0BEC5",
                "#B0BEC5",
                "#B0BEC5",
                "#B0BEC5",
                "#B0BEC5",
                "#B0BEC5",
                "#B0BEC5"
               ]
              ]
             }
            ],
            "label": "Topic 19",
            "method": "update"
           },
           {
            "args": [
             {
              "marker.color": [
               [
                "#B0BEC5",
                "#B0BEC5",
                "#B0BEC5",
                "#B0BEC5",
                "#B0BEC5",
                "#B0BEC5",
                "#B0BEC5",
                "#B0BEC5",
                "#B0BEC5",
                "#B0BEC5",
                "#B0BEC5",
                "#B0BEC5",
                "#B0BEC5",
                "#B0BEC5",
                "#B0BEC5",
                "#B0BEC5",
                "#B0BEC5",
                "#B0BEC5",
                "#B0BEC5",
                "#B0BEC5",
                "red",
                "#B0BEC5",
                "#B0BEC5",
                "#B0BEC5",
                "#B0BEC5",
                "#B0BEC5",
                "#B0BEC5",
                "#B0BEC5",
                "#B0BEC5",
                "#B0BEC5",
                "#B0BEC5",
                "#B0BEC5",
                "#B0BEC5",
                "#B0BEC5",
                "#B0BEC5",
                "#B0BEC5",
                "#B0BEC5",
                "#B0BEC5",
                "#B0BEC5",
                "#B0BEC5",
                "#B0BEC5"
               ]
              ]
             }
            ],
            "label": "Topic 20",
            "method": "update"
           },
           {
            "args": [
             {
              "marker.color": [
               [
                "#B0BEC5",
                "#B0BEC5",
                "#B0BEC5",
                "#B0BEC5",
                "#B0BEC5",
                "#B0BEC5",
                "#B0BEC5",
                "#B0BEC5",
                "#B0BEC5",
                "#B0BEC5",
                "#B0BEC5",
                "#B0BEC5",
                "#B0BEC5",
                "#B0BEC5",
                "#B0BEC5",
                "#B0BEC5",
                "#B0BEC5",
                "#B0BEC5",
                "#B0BEC5",
                "#B0BEC5",
                "#B0BEC5",
                "red",
                "#B0BEC5",
                "#B0BEC5",
                "#B0BEC5",
                "#B0BEC5",
                "#B0BEC5",
                "#B0BEC5",
                "#B0BEC5",
                "#B0BEC5",
                "#B0BEC5",
                "#B0BEC5",
                "#B0BEC5",
                "#B0BEC5",
                "#B0BEC5",
                "#B0BEC5",
                "#B0BEC5",
                "#B0BEC5",
                "#B0BEC5",
                "#B0BEC5",
                "#B0BEC5"
               ]
              ]
             }
            ],
            "label": "Topic 21",
            "method": "update"
           },
           {
            "args": [
             {
              "marker.color": [
               [
                "#B0BEC5",
                "#B0BEC5",
                "#B0BEC5",
                "#B0BEC5",
                "#B0BEC5",
                "#B0BEC5",
                "#B0BEC5",
                "#B0BEC5",
                "#B0BEC5",
                "#B0BEC5",
                "#B0BEC5",
                "#B0BEC5",
                "#B0BEC5",
                "#B0BEC5",
                "#B0BEC5",
                "#B0BEC5",
                "#B0BEC5",
                "#B0BEC5",
                "#B0BEC5",
                "#B0BEC5",
                "#B0BEC5",
                "#B0BEC5",
                "red",
                "#B0BEC5",
                "#B0BEC5",
                "#B0BEC5",
                "#B0BEC5",
                "#B0BEC5",
                "#B0BEC5",
                "#B0BEC5",
                "#B0BEC5",
                "#B0BEC5",
                "#B0BEC5",
                "#B0BEC5",
                "#B0BEC5",
                "#B0BEC5",
                "#B0BEC5",
                "#B0BEC5",
                "#B0BEC5",
                "#B0BEC5",
                "#B0BEC5"
               ]
              ]
             }
            ],
            "label": "Topic 22",
            "method": "update"
           },
           {
            "args": [
             {
              "marker.color": [
               [
                "#B0BEC5",
                "#B0BEC5",
                "#B0BEC5",
                "#B0BEC5",
                "#B0BEC5",
                "#B0BEC5",
                "#B0BEC5",
                "#B0BEC5",
                "#B0BEC5",
                "#B0BEC5",
                "#B0BEC5",
                "#B0BEC5",
                "#B0BEC5",
                "#B0BEC5",
                "#B0BEC5",
                "#B0BEC5",
                "#B0BEC5",
                "#B0BEC5",
                "#B0BEC5",
                "#B0BEC5",
                "#B0BEC5",
                "#B0BEC5",
                "#B0BEC5",
                "red",
                "#B0BEC5",
                "#B0BEC5",
                "#B0BEC5",
                "#B0BEC5",
                "#B0BEC5",
                "#B0BEC5",
                "#B0BEC5",
                "#B0BEC5",
                "#B0BEC5",
                "#B0BEC5",
                "#B0BEC5",
                "#B0BEC5",
                "#B0BEC5",
                "#B0BEC5",
                "#B0BEC5",
                "#B0BEC5",
                "#B0BEC5"
               ]
              ]
             }
            ],
            "label": "Topic 23",
            "method": "update"
           },
           {
            "args": [
             {
              "marker.color": [
               [
                "#B0BEC5",
                "#B0BEC5",
                "#B0BEC5",
                "#B0BEC5",
                "#B0BEC5",
                "#B0BEC5",
                "#B0BEC5",
                "#B0BEC5",
                "#B0BEC5",
                "#B0BEC5",
                "#B0BEC5",
                "#B0BEC5",
                "#B0BEC5",
                "#B0BEC5",
                "#B0BEC5",
                "#B0BEC5",
                "#B0BEC5",
                "#B0BEC5",
                "#B0BEC5",
                "#B0BEC5",
                "#B0BEC5",
                "#B0BEC5",
                "#B0BEC5",
                "#B0BEC5",
                "red",
                "#B0BEC5",
                "#B0BEC5",
                "#B0BEC5",
                "#B0BEC5",
                "#B0BEC5",
                "#B0BEC5",
                "#B0BEC5",
                "#B0BEC5",
                "#B0BEC5",
                "#B0BEC5",
                "#B0BEC5",
                "#B0BEC5",
                "#B0BEC5",
                "#B0BEC5",
                "#B0BEC5",
                "#B0BEC5"
               ]
              ]
             }
            ],
            "label": "Topic 24",
            "method": "update"
           },
           {
            "args": [
             {
              "marker.color": [
               [
                "#B0BEC5",
                "#B0BEC5",
                "#B0BEC5",
                "#B0BEC5",
                "#B0BEC5",
                "#B0BEC5",
                "#B0BEC5",
                "#B0BEC5",
                "#B0BEC5",
                "#B0BEC5",
                "#B0BEC5",
                "#B0BEC5",
                "#B0BEC5",
                "#B0BEC5",
                "#B0BEC5",
                "#B0BEC5",
                "#B0BEC5",
                "#B0BEC5",
                "#B0BEC5",
                "#B0BEC5",
                "#B0BEC5",
                "#B0BEC5",
                "#B0BEC5",
                "#B0BEC5",
                "#B0BEC5",
                "red",
                "#B0BEC5",
                "#B0BEC5",
                "#B0BEC5",
                "#B0BEC5",
                "#B0BEC5",
                "#B0BEC5",
                "#B0BEC5",
                "#B0BEC5",
                "#B0BEC5",
                "#B0BEC5",
                "#B0BEC5",
                "#B0BEC5",
                "#B0BEC5",
                "#B0BEC5",
                "#B0BEC5"
               ]
              ]
             }
            ],
            "label": "Topic 25",
            "method": "update"
           },
           {
            "args": [
             {
              "marker.color": [
               [
                "#B0BEC5",
                "#B0BEC5",
                "#B0BEC5",
                "#B0BEC5",
                "#B0BEC5",
                "#B0BEC5",
                "#B0BEC5",
                "#B0BEC5",
                "#B0BEC5",
                "#B0BEC5",
                "#B0BEC5",
                "#B0BEC5",
                "#B0BEC5",
                "#B0BEC5",
                "#B0BEC5",
                "#B0BEC5",
                "#B0BEC5",
                "#B0BEC5",
                "#B0BEC5",
                "#B0BEC5",
                "#B0BEC5",
                "#B0BEC5",
                "#B0BEC5",
                "#B0BEC5",
                "#B0BEC5",
                "#B0BEC5",
                "red",
                "#B0BEC5",
                "#B0BEC5",
                "#B0BEC5",
                "#B0BEC5",
                "#B0BEC5",
                "#B0BEC5",
                "#B0BEC5",
                "#B0BEC5",
                "#B0BEC5",
                "#B0BEC5",
                "#B0BEC5",
                "#B0BEC5",
                "#B0BEC5",
                "#B0BEC5"
               ]
              ]
             }
            ],
            "label": "Topic 26",
            "method": "update"
           },
           {
            "args": [
             {
              "marker.color": [
               [
                "#B0BEC5",
                "#B0BEC5",
                "#B0BEC5",
                "#B0BEC5",
                "#B0BEC5",
                "#B0BEC5",
                "#B0BEC5",
                "#B0BEC5",
                "#B0BEC5",
                "#B0BEC5",
                "#B0BEC5",
                "#B0BEC5",
                "#B0BEC5",
                "#B0BEC5",
                "#B0BEC5",
                "#B0BEC5",
                "#B0BEC5",
                "#B0BEC5",
                "#B0BEC5",
                "#B0BEC5",
                "#B0BEC5",
                "#B0BEC5",
                "#B0BEC5",
                "#B0BEC5",
                "#B0BEC5",
                "#B0BEC5",
                "#B0BEC5",
                "red",
                "#B0BEC5",
                "#B0BEC5",
                "#B0BEC5",
                "#B0BEC5",
                "#B0BEC5",
                "#B0BEC5",
                "#B0BEC5",
                "#B0BEC5",
                "#B0BEC5",
                "#B0BEC5",
                "#B0BEC5",
                "#B0BEC5",
                "#B0BEC5"
               ]
              ]
             }
            ],
            "label": "Topic 27",
            "method": "update"
           },
           {
            "args": [
             {
              "marker.color": [
               [
                "#B0BEC5",
                "#B0BEC5",
                "#B0BEC5",
                "#B0BEC5",
                "#B0BEC5",
                "#B0BEC5",
                "#B0BEC5",
                "#B0BEC5",
                "#B0BEC5",
                "#B0BEC5",
                "#B0BEC5",
                "#B0BEC5",
                "#B0BEC5",
                "#B0BEC5",
                "#B0BEC5",
                "#B0BEC5",
                "#B0BEC5",
                "#B0BEC5",
                "#B0BEC5",
                "#B0BEC5",
                "#B0BEC5",
                "#B0BEC5",
                "#B0BEC5",
                "#B0BEC5",
                "#B0BEC5",
                "#B0BEC5",
                "#B0BEC5",
                "#B0BEC5",
                "red",
                "#B0BEC5",
                "#B0BEC5",
                "#B0BEC5",
                "#B0BEC5",
                "#B0BEC5",
                "#B0BEC5",
                "#B0BEC5",
                "#B0BEC5",
                "#B0BEC5",
                "#B0BEC5",
                "#B0BEC5",
                "#B0BEC5"
               ]
              ]
             }
            ],
            "label": "Topic 28",
            "method": "update"
           },
           {
            "args": [
             {
              "marker.color": [
               [
                "#B0BEC5",
                "#B0BEC5",
                "#B0BEC5",
                "#B0BEC5",
                "#B0BEC5",
                "#B0BEC5",
                "#B0BEC5",
                "#B0BEC5",
                "#B0BEC5",
                "#B0BEC5",
                "#B0BEC5",
                "#B0BEC5",
                "#B0BEC5",
                "#B0BEC5",
                "#B0BEC5",
                "#B0BEC5",
                "#B0BEC5",
                "#B0BEC5",
                "#B0BEC5",
                "#B0BEC5",
                "#B0BEC5",
                "#B0BEC5",
                "#B0BEC5",
                "#B0BEC5",
                "#B0BEC5",
                "#B0BEC5",
                "#B0BEC5",
                "#B0BEC5",
                "#B0BEC5",
                "red",
                "#B0BEC5",
                "#B0BEC5",
                "#B0BEC5",
                "#B0BEC5",
                "#B0BEC5",
                "#B0BEC5",
                "#B0BEC5",
                "#B0BEC5",
                "#B0BEC5",
                "#B0BEC5",
                "#B0BEC5"
               ]
              ]
             }
            ],
            "label": "Topic 29",
            "method": "update"
           },
           {
            "args": [
             {
              "marker.color": [
               [
                "#B0BEC5",
                "#B0BEC5",
                "#B0BEC5",
                "#B0BEC5",
                "#B0BEC5",
                "#B0BEC5",
                "#B0BEC5",
                "#B0BEC5",
                "#B0BEC5",
                "#B0BEC5",
                "#B0BEC5",
                "#B0BEC5",
                "#B0BEC5",
                "#B0BEC5",
                "#B0BEC5",
                "#B0BEC5",
                "#B0BEC5",
                "#B0BEC5",
                "#B0BEC5",
                "#B0BEC5",
                "#B0BEC5",
                "#B0BEC5",
                "#B0BEC5",
                "#B0BEC5",
                "#B0BEC5",
                "#B0BEC5",
                "#B0BEC5",
                "#B0BEC5",
                "#B0BEC5",
                "#B0BEC5",
                "red",
                "#B0BEC5",
                "#B0BEC5",
                "#B0BEC5",
                "#B0BEC5",
                "#B0BEC5",
                "#B0BEC5",
                "#B0BEC5",
                "#B0BEC5",
                "#B0BEC5",
                "#B0BEC5"
               ]
              ]
             }
            ],
            "label": "Topic 30",
            "method": "update"
           },
           {
            "args": [
             {
              "marker.color": [
               [
                "#B0BEC5",
                "#B0BEC5",
                "#B0BEC5",
                "#B0BEC5",
                "#B0BEC5",
                "#B0BEC5",
                "#B0BEC5",
                "#B0BEC5",
                "#B0BEC5",
                "#B0BEC5",
                "#B0BEC5",
                "#B0BEC5",
                "#B0BEC5",
                "#B0BEC5",
                "#B0BEC5",
                "#B0BEC5",
                "#B0BEC5",
                "#B0BEC5",
                "#B0BEC5",
                "#B0BEC5",
                "#B0BEC5",
                "#B0BEC5",
                "#B0BEC5",
                "#B0BEC5",
                "#B0BEC5",
                "#B0BEC5",
                "#B0BEC5",
                "#B0BEC5",
                "#B0BEC5",
                "#B0BEC5",
                "#B0BEC5",
                "red",
                "#B0BEC5",
                "#B0BEC5",
                "#B0BEC5",
                "#B0BEC5",
                "#B0BEC5",
                "#B0BEC5",
                "#B0BEC5",
                "#B0BEC5",
                "#B0BEC5"
               ]
              ]
             }
            ],
            "label": "Topic 31",
            "method": "update"
           },
           {
            "args": [
             {
              "marker.color": [
               [
                "#B0BEC5",
                "#B0BEC5",
                "#B0BEC5",
                "#B0BEC5",
                "#B0BEC5",
                "#B0BEC5",
                "#B0BEC5",
                "#B0BEC5",
                "#B0BEC5",
                "#B0BEC5",
                "#B0BEC5",
                "#B0BEC5",
                "#B0BEC5",
                "#B0BEC5",
                "#B0BEC5",
                "#B0BEC5",
                "#B0BEC5",
                "#B0BEC5",
                "#B0BEC5",
                "#B0BEC5",
                "#B0BEC5",
                "#B0BEC5",
                "#B0BEC5",
                "#B0BEC5",
                "#B0BEC5",
                "#B0BEC5",
                "#B0BEC5",
                "#B0BEC5",
                "#B0BEC5",
                "#B0BEC5",
                "#B0BEC5",
                "#B0BEC5",
                "red",
                "#B0BEC5",
                "#B0BEC5",
                "#B0BEC5",
                "#B0BEC5",
                "#B0BEC5",
                "#B0BEC5",
                "#B0BEC5",
                "#B0BEC5"
               ]
              ]
             }
            ],
            "label": "Topic 32",
            "method": "update"
           },
           {
            "args": [
             {
              "marker.color": [
               [
                "#B0BEC5",
                "#B0BEC5",
                "#B0BEC5",
                "#B0BEC5",
                "#B0BEC5",
                "#B0BEC5",
                "#B0BEC5",
                "#B0BEC5",
                "#B0BEC5",
                "#B0BEC5",
                "#B0BEC5",
                "#B0BEC5",
                "#B0BEC5",
                "#B0BEC5",
                "#B0BEC5",
                "#B0BEC5",
                "#B0BEC5",
                "#B0BEC5",
                "#B0BEC5",
                "#B0BEC5",
                "#B0BEC5",
                "#B0BEC5",
                "#B0BEC5",
                "#B0BEC5",
                "#B0BEC5",
                "#B0BEC5",
                "#B0BEC5",
                "#B0BEC5",
                "#B0BEC5",
                "#B0BEC5",
                "#B0BEC5",
                "#B0BEC5",
                "#B0BEC5",
                "red",
                "#B0BEC5",
                "#B0BEC5",
                "#B0BEC5",
                "#B0BEC5",
                "#B0BEC5",
                "#B0BEC5",
                "#B0BEC5"
               ]
              ]
             }
            ],
            "label": "Topic 33",
            "method": "update"
           },
           {
            "args": [
             {
              "marker.color": [
               [
                "#B0BEC5",
                "#B0BEC5",
                "#B0BEC5",
                "#B0BEC5",
                "#B0BEC5",
                "#B0BEC5",
                "#B0BEC5",
                "#B0BEC5",
                "#B0BEC5",
                "#B0BEC5",
                "#B0BEC5",
                "#B0BEC5",
                "#B0BEC5",
                "#B0BEC5",
                "#B0BEC5",
                "#B0BEC5",
                "#B0BEC5",
                "#B0BEC5",
                "#B0BEC5",
                "#B0BEC5",
                "#B0BEC5",
                "#B0BEC5",
                "#B0BEC5",
                "#B0BEC5",
                "#B0BEC5",
                "#B0BEC5",
                "#B0BEC5",
                "#B0BEC5",
                "#B0BEC5",
                "#B0BEC5",
                "#B0BEC5",
                "#B0BEC5",
                "#B0BEC5",
                "#B0BEC5",
                "red",
                "#B0BEC5",
                "#B0BEC5",
                "#B0BEC5",
                "#B0BEC5",
                "#B0BEC5",
                "#B0BEC5"
               ]
              ]
             }
            ],
            "label": "Topic 34",
            "method": "update"
           },
           {
            "args": [
             {
              "marker.color": [
               [
                "#B0BEC5",
                "#B0BEC5",
                "#B0BEC5",
                "#B0BEC5",
                "#B0BEC5",
                "#B0BEC5",
                "#B0BEC5",
                "#B0BEC5",
                "#B0BEC5",
                "#B0BEC5",
                "#B0BEC5",
                "#B0BEC5",
                "#B0BEC5",
                "#B0BEC5",
                "#B0BEC5",
                "#B0BEC5",
                "#B0BEC5",
                "#B0BEC5",
                "#B0BEC5",
                "#B0BEC5",
                "#B0BEC5",
                "#B0BEC5",
                "#B0BEC5",
                "#B0BEC5",
                "#B0BEC5",
                "#B0BEC5",
                "#B0BEC5",
                "#B0BEC5",
                "#B0BEC5",
                "#B0BEC5",
                "#B0BEC5",
                "#B0BEC5",
                "#B0BEC5",
                "#B0BEC5",
                "#B0BEC5",
                "red",
                "#B0BEC5",
                "#B0BEC5",
                "#B0BEC5",
                "#B0BEC5",
                "#B0BEC5"
               ]
              ]
             }
            ],
            "label": "Topic 35",
            "method": "update"
           },
           {
            "args": [
             {
              "marker.color": [
               [
                "#B0BEC5",
                "#B0BEC5",
                "#B0BEC5",
                "#B0BEC5",
                "#B0BEC5",
                "#B0BEC5",
                "#B0BEC5",
                "#B0BEC5",
                "#B0BEC5",
                "#B0BEC5",
                "#B0BEC5",
                "#B0BEC5",
                "#B0BEC5",
                "#B0BEC5",
                "#B0BEC5",
                "#B0BEC5",
                "#B0BEC5",
                "#B0BEC5",
                "#B0BEC5",
                "#B0BEC5",
                "#B0BEC5",
                "#B0BEC5",
                "#B0BEC5",
                "#B0BEC5",
                "#B0BEC5",
                "#B0BEC5",
                "#B0BEC5",
                "#B0BEC5",
                "#B0BEC5",
                "#B0BEC5",
                "#B0BEC5",
                "#B0BEC5",
                "#B0BEC5",
                "#B0BEC5",
                "#B0BEC5",
                "#B0BEC5",
                "red",
                "#B0BEC5",
                "#B0BEC5",
                "#B0BEC5",
                "#B0BEC5"
               ]
              ]
             }
            ],
            "label": "Topic 36",
            "method": "update"
           },
           {
            "args": [
             {
              "marker.color": [
               [
                "#B0BEC5",
                "#B0BEC5",
                "#B0BEC5",
                "#B0BEC5",
                "#B0BEC5",
                "#B0BEC5",
                "#B0BEC5",
                "#B0BEC5",
                "#B0BEC5",
                "#B0BEC5",
                "#B0BEC5",
                "#B0BEC5",
                "#B0BEC5",
                "#B0BEC5",
                "#B0BEC5",
                "#B0BEC5",
                "#B0BEC5",
                "#B0BEC5",
                "#B0BEC5",
                "#B0BEC5",
                "#B0BEC5",
                "#B0BEC5",
                "#B0BEC5",
                "#B0BEC5",
                "#B0BEC5",
                "#B0BEC5",
                "#B0BEC5",
                "#B0BEC5",
                "#B0BEC5",
                "#B0BEC5",
                "#B0BEC5",
                "#B0BEC5",
                "#B0BEC5",
                "#B0BEC5",
                "#B0BEC5",
                "#B0BEC5",
                "#B0BEC5",
                "red",
                "#B0BEC5",
                "#B0BEC5",
                "#B0BEC5"
               ]
              ]
             }
            ],
            "label": "Topic 37",
            "method": "update"
           },
           {
            "args": [
             {
              "marker.color": [
               [
                "#B0BEC5",
                "#B0BEC5",
                "#B0BEC5",
                "#B0BEC5",
                "#B0BEC5",
                "#B0BEC5",
                "#B0BEC5",
                "#B0BEC5",
                "#B0BEC5",
                "#B0BEC5",
                "#B0BEC5",
                "#B0BEC5",
                "#B0BEC5",
                "#B0BEC5",
                "#B0BEC5",
                "#B0BEC5",
                "#B0BEC5",
                "#B0BEC5",
                "#B0BEC5",
                "#B0BEC5",
                "#B0BEC5",
                "#B0BEC5",
                "#B0BEC5",
                "#B0BEC5",
                "#B0BEC5",
                "#B0BEC5",
                "#B0BEC5",
                "#B0BEC5",
                "#B0BEC5",
                "#B0BEC5",
                "#B0BEC5",
                "#B0BEC5",
                "#B0BEC5",
                "#B0BEC5",
                "#B0BEC5",
                "#B0BEC5",
                "#B0BEC5",
                "#B0BEC5",
                "red",
                "#B0BEC5",
                "#B0BEC5"
               ]
              ]
             }
            ],
            "label": "Topic 38",
            "method": "update"
           },
           {
            "args": [
             {
              "marker.color": [
               [
                "#B0BEC5",
                "#B0BEC5",
                "#B0BEC5",
                "#B0BEC5",
                "#B0BEC5",
                "#B0BEC5",
                "#B0BEC5",
                "#B0BEC5",
                "#B0BEC5",
                "#B0BEC5",
                "#B0BEC5",
                "#B0BEC5",
                "#B0BEC5",
                "#B0BEC5",
                "#B0BEC5",
                "#B0BEC5",
                "#B0BEC5",
                "#B0BEC5",
                "#B0BEC5",
                "#B0BEC5",
                "#B0BEC5",
                "#B0BEC5",
                "#B0BEC5",
                "#B0BEC5",
                "#B0BEC5",
                "#B0BEC5",
                "#B0BEC5",
                "#B0BEC5",
                "#B0BEC5",
                "#B0BEC5",
                "#B0BEC5",
                "#B0BEC5",
                "#B0BEC5",
                "#B0BEC5",
                "#B0BEC5",
                "#B0BEC5",
                "#B0BEC5",
                "#B0BEC5",
                "#B0BEC5",
                "red",
                "#B0BEC5"
               ]
              ]
             }
            ],
            "label": "Topic 39",
            "method": "update"
           },
           {
            "args": [
             {
              "marker.color": [
               [
                "#B0BEC5",
                "#B0BEC5",
                "#B0BEC5",
                "#B0BEC5",
                "#B0BEC5",
                "#B0BEC5",
                "#B0BEC5",
                "#B0BEC5",
                "#B0BEC5",
                "#B0BEC5",
                "#B0BEC5",
                "#B0BEC5",
                "#B0BEC5",
                "#B0BEC5",
                "#B0BEC5",
                "#B0BEC5",
                "#B0BEC5",
                "#B0BEC5",
                "#B0BEC5",
                "#B0BEC5",
                "#B0BEC5",
                "#B0BEC5",
                "#B0BEC5",
                "#B0BEC5",
                "#B0BEC5",
                "#B0BEC5",
                "#B0BEC5",
                "#B0BEC5",
                "#B0BEC5",
                "#B0BEC5",
                "#B0BEC5",
                "#B0BEC5",
                "#B0BEC5",
                "#B0BEC5",
                "#B0BEC5",
                "#B0BEC5",
                "#B0BEC5",
                "#B0BEC5",
                "#B0BEC5",
                "#B0BEC5",
                "red"
               ]
              ]
             }
            ],
            "label": "Topic 40",
            "method": "update"
           }
          ]
         }
        ],
        "template": {
         "data": {
          "bar": [
           {
            "error_x": {
             "color": "rgb(36,36,36)"
            },
            "error_y": {
             "color": "rgb(36,36,36)"
            },
            "marker": {
             "line": {
              "color": "white",
              "width": 0.5
             },
             "pattern": {
              "fillmode": "overlay",
              "size": 10,
              "solidity": 0.2
             }
            },
            "type": "bar"
           }
          ],
          "barpolar": [
           {
            "marker": {
             "line": {
              "color": "white",
              "width": 0.5
             },
             "pattern": {
              "fillmode": "overlay",
              "size": 10,
              "solidity": 0.2
             }
            },
            "type": "barpolar"
           }
          ],
          "carpet": [
           {
            "aaxis": {
             "endlinecolor": "rgb(36,36,36)",
             "gridcolor": "white",
             "linecolor": "white",
             "minorgridcolor": "white",
             "startlinecolor": "rgb(36,36,36)"
            },
            "baxis": {
             "endlinecolor": "rgb(36,36,36)",
             "gridcolor": "white",
             "linecolor": "white",
             "minorgridcolor": "white",
             "startlinecolor": "rgb(36,36,36)"
            },
            "type": "carpet"
           }
          ],
          "choropleth": [
           {
            "colorbar": {
             "outlinewidth": 1,
             "tickcolor": "rgb(36,36,36)",
             "ticks": "outside"
            },
            "type": "choropleth"
           }
          ],
          "contour": [
           {
            "colorbar": {
             "outlinewidth": 1,
             "tickcolor": "rgb(36,36,36)",
             "ticks": "outside"
            },
            "colorscale": [
             [
              0,
              "#440154"
             ],
             [
              0.1111111111111111,
              "#482878"
             ],
             [
              0.2222222222222222,
              "#3e4989"
             ],
             [
              0.3333333333333333,
              "#31688e"
             ],
             [
              0.4444444444444444,
              "#26828e"
             ],
             [
              0.5555555555555556,
              "#1f9e89"
             ],
             [
              0.6666666666666666,
              "#35b779"
             ],
             [
              0.7777777777777778,
              "#6ece58"
             ],
             [
              0.8888888888888888,
              "#b5de2b"
             ],
             [
              1,
              "#fde725"
             ]
            ],
            "type": "contour"
           }
          ],
          "contourcarpet": [
           {
            "colorbar": {
             "outlinewidth": 1,
             "tickcolor": "rgb(36,36,36)",
             "ticks": "outside"
            },
            "type": "contourcarpet"
           }
          ],
          "heatmap": [
           {
            "colorbar": {
             "outlinewidth": 1,
             "tickcolor": "rgb(36,36,36)",
             "ticks": "outside"
            },
            "colorscale": [
             [
              0,
              "#440154"
             ],
             [
              0.1111111111111111,
              "#482878"
             ],
             [
              0.2222222222222222,
              "#3e4989"
             ],
             [
              0.3333333333333333,
              "#31688e"
             ],
             [
              0.4444444444444444,
              "#26828e"
             ],
             [
              0.5555555555555556,
              "#1f9e89"
             ],
             [
              0.6666666666666666,
              "#35b779"
             ],
             [
              0.7777777777777778,
              "#6ece58"
             ],
             [
              0.8888888888888888,
              "#b5de2b"
             ],
             [
              1,
              "#fde725"
             ]
            ],
            "type": "heatmap"
           }
          ],
          "heatmapgl": [
           {
            "colorbar": {
             "outlinewidth": 1,
             "tickcolor": "rgb(36,36,36)",
             "ticks": "outside"
            },
            "colorscale": [
             [
              0,
              "#440154"
             ],
             [
              0.1111111111111111,
              "#482878"
             ],
             [
              0.2222222222222222,
              "#3e4989"
             ],
             [
              0.3333333333333333,
              "#31688e"
             ],
             [
              0.4444444444444444,
              "#26828e"
             ],
             [
              0.5555555555555556,
              "#1f9e89"
             ],
             [
              0.6666666666666666,
              "#35b779"
             ],
             [
              0.7777777777777778,
              "#6ece58"
             ],
             [
              0.8888888888888888,
              "#b5de2b"
             ],
             [
              1,
              "#fde725"
             ]
            ],
            "type": "heatmapgl"
           }
          ],
          "histogram": [
           {
            "marker": {
             "line": {
              "color": "white",
              "width": 0.6
             }
            },
            "type": "histogram"
           }
          ],
          "histogram2d": [
           {
            "colorbar": {
             "outlinewidth": 1,
             "tickcolor": "rgb(36,36,36)",
             "ticks": "outside"
            },
            "colorscale": [
             [
              0,
              "#440154"
             ],
             [
              0.1111111111111111,
              "#482878"
             ],
             [
              0.2222222222222222,
              "#3e4989"
             ],
             [
              0.3333333333333333,
              "#31688e"
             ],
             [
              0.4444444444444444,
              "#26828e"
             ],
             [
              0.5555555555555556,
              "#1f9e89"
             ],
             [
              0.6666666666666666,
              "#35b779"
             ],
             [
              0.7777777777777778,
              "#6ece58"
             ],
             [
              0.8888888888888888,
              "#b5de2b"
             ],
             [
              1,
              "#fde725"
             ]
            ],
            "type": "histogram2d"
           }
          ],
          "histogram2dcontour": [
           {
            "colorbar": {
             "outlinewidth": 1,
             "tickcolor": "rgb(36,36,36)",
             "ticks": "outside"
            },
            "colorscale": [
             [
              0,
              "#440154"
             ],
             [
              0.1111111111111111,
              "#482878"
             ],
             [
              0.2222222222222222,
              "#3e4989"
             ],
             [
              0.3333333333333333,
              "#31688e"
             ],
             [
              0.4444444444444444,
              "#26828e"
             ],
             [
              0.5555555555555556,
              "#1f9e89"
             ],
             [
              0.6666666666666666,
              "#35b779"
             ],
             [
              0.7777777777777778,
              "#6ece58"
             ],
             [
              0.8888888888888888,
              "#b5de2b"
             ],
             [
              1,
              "#fde725"
             ]
            ],
            "type": "histogram2dcontour"
           }
          ],
          "mesh3d": [
           {
            "colorbar": {
             "outlinewidth": 1,
             "tickcolor": "rgb(36,36,36)",
             "ticks": "outside"
            },
            "type": "mesh3d"
           }
          ],
          "parcoords": [
           {
            "line": {
             "colorbar": {
              "outlinewidth": 1,
              "tickcolor": "rgb(36,36,36)",
              "ticks": "outside"
             }
            },
            "type": "parcoords"
           }
          ],
          "pie": [
           {
            "automargin": true,
            "type": "pie"
           }
          ],
          "scatter": [
           {
            "fillpattern": {
             "fillmode": "overlay",
             "size": 10,
             "solidity": 0.2
            },
            "type": "scatter"
           }
          ],
          "scatter3d": [
           {
            "line": {
             "colorbar": {
              "outlinewidth": 1,
              "tickcolor": "rgb(36,36,36)",
              "ticks": "outside"
             }
            },
            "marker": {
             "colorbar": {
              "outlinewidth": 1,
              "tickcolor": "rgb(36,36,36)",
              "ticks": "outside"
             }
            },
            "type": "scatter3d"
           }
          ],
          "scattercarpet": [
           {
            "marker": {
             "colorbar": {
              "outlinewidth": 1,
              "tickcolor": "rgb(36,36,36)",
              "ticks": "outside"
             }
            },
            "type": "scattercarpet"
           }
          ],
          "scattergeo": [
           {
            "marker": {
             "colorbar": {
              "outlinewidth": 1,
              "tickcolor": "rgb(36,36,36)",
              "ticks": "outside"
             }
            },
            "type": "scattergeo"
           }
          ],
          "scattergl": [
           {
            "marker": {
             "colorbar": {
              "outlinewidth": 1,
              "tickcolor": "rgb(36,36,36)",
              "ticks": "outside"
             }
            },
            "type": "scattergl"
           }
          ],
          "scattermapbox": [
           {
            "marker": {
             "colorbar": {
              "outlinewidth": 1,
              "tickcolor": "rgb(36,36,36)",
              "ticks": "outside"
             }
            },
            "type": "scattermapbox"
           }
          ],
          "scatterpolar": [
           {
            "marker": {
             "colorbar": {
              "outlinewidth": 1,
              "tickcolor": "rgb(36,36,36)",
              "ticks": "outside"
             }
            },
            "type": "scatterpolar"
           }
          ],
          "scatterpolargl": [
           {
            "marker": {
             "colorbar": {
              "outlinewidth": 1,
              "tickcolor": "rgb(36,36,36)",
              "ticks": "outside"
             }
            },
            "type": "scatterpolargl"
           }
          ],
          "scatterternary": [
           {
            "marker": {
             "colorbar": {
              "outlinewidth": 1,
              "tickcolor": "rgb(36,36,36)",
              "ticks": "outside"
             }
            },
            "type": "scatterternary"
           }
          ],
          "surface": [
           {
            "colorbar": {
             "outlinewidth": 1,
             "tickcolor": "rgb(36,36,36)",
             "ticks": "outside"
            },
            "colorscale": [
             [
              0,
              "#440154"
             ],
             [
              0.1111111111111111,
              "#482878"
             ],
             [
              0.2222222222222222,
              "#3e4989"
             ],
             [
              0.3333333333333333,
              "#31688e"
             ],
             [
              0.4444444444444444,
              "#26828e"
             ],
             [
              0.5555555555555556,
              "#1f9e89"
             ],
             [
              0.6666666666666666,
              "#35b779"
             ],
             [
              0.7777777777777778,
              "#6ece58"
             ],
             [
              0.8888888888888888,
              "#b5de2b"
             ],
             [
              1,
              "#fde725"
             ]
            ],
            "type": "surface"
           }
          ],
          "table": [
           {
            "cells": {
             "fill": {
              "color": "rgb(237,237,237)"
             },
             "line": {
              "color": "white"
             }
            },
            "header": {
             "fill": {
              "color": "rgb(217,217,217)"
             },
             "line": {
              "color": "white"
             }
            },
            "type": "table"
           }
          ]
         },
         "layout": {
          "annotationdefaults": {
           "arrowhead": 0,
           "arrowwidth": 1
          },
          "autotypenumbers": "strict",
          "coloraxis": {
           "colorbar": {
            "outlinewidth": 1,
            "tickcolor": "rgb(36,36,36)",
            "ticks": "outside"
           }
          },
          "colorscale": {
           "diverging": [
            [
             0,
             "rgb(103,0,31)"
            ],
            [
             0.1,
             "rgb(178,24,43)"
            ],
            [
             0.2,
             "rgb(214,96,77)"
            ],
            [
             0.3,
             "rgb(244,165,130)"
            ],
            [
             0.4,
             "rgb(253,219,199)"
            ],
            [
             0.5,
             "rgb(247,247,247)"
            ],
            [
             0.6,
             "rgb(209,229,240)"
            ],
            [
             0.7,
             "rgb(146,197,222)"
            ],
            [
             0.8,
             "rgb(67,147,195)"
            ],
            [
             0.9,
             "rgb(33,102,172)"
            ],
            [
             1,
             "rgb(5,48,97)"
            ]
           ],
           "sequential": [
            [
             0,
             "#440154"
            ],
            [
             0.1111111111111111,
             "#482878"
            ],
            [
             0.2222222222222222,
             "#3e4989"
            ],
            [
             0.3333333333333333,
             "#31688e"
            ],
            [
             0.4444444444444444,
             "#26828e"
            ],
            [
             0.5555555555555556,
             "#1f9e89"
            ],
            [
             0.6666666666666666,
             "#35b779"
            ],
            [
             0.7777777777777778,
             "#6ece58"
            ],
            [
             0.8888888888888888,
             "#b5de2b"
            ],
            [
             1,
             "#fde725"
            ]
           ],
           "sequentialminus": [
            [
             0,
             "#440154"
            ],
            [
             0.1111111111111111,
             "#482878"
            ],
            [
             0.2222222222222222,
             "#3e4989"
            ],
            [
             0.3333333333333333,
             "#31688e"
            ],
            [
             0.4444444444444444,
             "#26828e"
            ],
            [
             0.5555555555555556,
             "#1f9e89"
            ],
            [
             0.6666666666666666,
             "#35b779"
            ],
            [
             0.7777777777777778,
             "#6ece58"
            ],
            [
             0.8888888888888888,
             "#b5de2b"
            ],
            [
             1,
             "#fde725"
            ]
           ]
          },
          "colorway": [
           "#1F77B4",
           "#FF7F0E",
           "#2CA02C",
           "#D62728",
           "#9467BD",
           "#8C564B",
           "#E377C2",
           "#7F7F7F",
           "#BCBD22",
           "#17BECF"
          ],
          "font": {
           "color": "rgb(36,36,36)"
          },
          "geo": {
           "bgcolor": "white",
           "lakecolor": "white",
           "landcolor": "white",
           "showlakes": true,
           "showland": true,
           "subunitcolor": "white"
          },
          "hoverlabel": {
           "align": "left"
          },
          "hovermode": "closest",
          "mapbox": {
           "style": "light"
          },
          "paper_bgcolor": "white",
          "plot_bgcolor": "white",
          "polar": {
           "angularaxis": {
            "gridcolor": "rgb(232,232,232)",
            "linecolor": "rgb(36,36,36)",
            "showgrid": false,
            "showline": true,
            "ticks": "outside"
           },
           "bgcolor": "white",
           "radialaxis": {
            "gridcolor": "rgb(232,232,232)",
            "linecolor": "rgb(36,36,36)",
            "showgrid": false,
            "showline": true,
            "ticks": "outside"
           }
          },
          "scene": {
           "xaxis": {
            "backgroundcolor": "white",
            "gridcolor": "rgb(232,232,232)",
            "gridwidth": 2,
            "linecolor": "rgb(36,36,36)",
            "showbackground": true,
            "showgrid": false,
            "showline": true,
            "ticks": "outside",
            "zeroline": false,
            "zerolinecolor": "rgb(36,36,36)"
           },
           "yaxis": {
            "backgroundcolor": "white",
            "gridcolor": "rgb(232,232,232)",
            "gridwidth": 2,
            "linecolor": "rgb(36,36,36)",
            "showbackground": true,
            "showgrid": false,
            "showline": true,
            "ticks": "outside",
            "zeroline": false,
            "zerolinecolor": "rgb(36,36,36)"
           },
           "zaxis": {
            "backgroundcolor": "white",
            "gridcolor": "rgb(232,232,232)",
            "gridwidth": 2,
            "linecolor": "rgb(36,36,36)",
            "showbackground": true,
            "showgrid": false,
            "showline": true,
            "ticks": "outside",
            "zeroline": false,
            "zerolinecolor": "rgb(36,36,36)"
           }
          },
          "shapedefaults": {
           "fillcolor": "black",
           "line": {
            "width": 0
           },
           "opacity": 0.3
          },
          "ternary": {
           "aaxis": {
            "gridcolor": "rgb(232,232,232)",
            "linecolor": "rgb(36,36,36)",
            "showgrid": false,
            "showline": true,
            "ticks": "outside"
           },
           "baxis": {
            "gridcolor": "rgb(232,232,232)",
            "linecolor": "rgb(36,36,36)",
            "showgrid": false,
            "showline": true,
            "ticks": "outside"
           },
           "bgcolor": "white",
           "caxis": {
            "gridcolor": "rgb(232,232,232)",
            "linecolor": "rgb(36,36,36)",
            "showgrid": false,
            "showline": true,
            "ticks": "outside"
           }
          },
          "title": {
           "x": 0.05
          },
          "xaxis": {
           "automargin": true,
           "gridcolor": "rgb(232,232,232)",
           "linecolor": "rgb(36,36,36)",
           "showgrid": false,
           "showline": true,
           "ticks": "outside",
           "title": {
            "standoff": 15
           },
           "zeroline": false,
           "zerolinecolor": "rgb(36,36,36)"
          },
          "yaxis": {
           "automargin": true,
           "gridcolor": "rgb(232,232,232)",
           "linecolor": "rgb(36,36,36)",
           "showgrid": false,
           "showline": true,
           "ticks": "outside",
           "title": {
            "standoff": 15
           },
           "zeroline": false,
           "zerolinecolor": "rgb(36,36,36)"
          }
         }
        },
        "title": {
         "font": {
          "color": "Black",
          "size": 22
         },
         "text": "<b>Intertopic Distance Map</b>",
         "x": 0.5,
         "xanchor": "center",
         "y": 0.95,
         "yanchor": "top"
        },
        "width": 650,
        "xaxis": {
         "anchor": "y",
         "domain": [
          0,
          1
         ],
         "range": [
          -8.435191369056701,
          21.483562088012697
         ],
         "title": {
          "text": ""
         },
         "visible": false
        },
        "yaxis": {
         "anchor": "x",
         "domain": [
          0,
          1
         ],
         "range": [
          -6.357315015792847,
          14.65662703514099
         ],
         "title": {
          "text": ""
         },
         "visible": false
        }
       }
      }
     },
     "metadata": {},
     "output_type": "display_data"
    }
   ],
   "source": [
    "model.visualize_topics(top_n_topics=50)"
   ]
  },
  {
   "cell_type": "code",
   "execution_count": null,
   "metadata": {},
   "outputs": [
    {
     "data": {
      "application/vnd.plotly.v1+json": {
       "config": {
        "plotlyServerURL": "https://plot.ly"
       },
       "data": [
        {
         "hoverinfo": "text",
         "marker": {
          "color": "rgb(61,153,112)"
         },
         "mode": "lines",
         "type": "scatter",
         "x": [
          0,
          0.03060617369295726,
          0.03060617369295726,
          0
         ],
         "xaxis": "x",
         "y": [
          -5,
          -5,
          -15,
          -15
         ],
         "yaxis": "y"
        },
        {
         "hoverinfo": "text",
         "marker": {
          "color": "rgb(255,65,54)"
         },
         "mode": "lines",
         "type": "scatter",
         "x": [
          0,
          0.4069118046882858,
          0.4069118046882858,
          0
         ],
         "xaxis": "x",
         "y": [
          -25,
          -25,
          -35,
          -35
         ],
         "yaxis": "y"
        },
        {
         "hoverinfo": "text",
         "marker": {
          "color": "rgb(0,116,217)"
         },
         "mode": "lines",
         "type": "scatter",
         "x": [
          0.03060617369295726,
          1.2463602686475,
          1.2463602686475,
          0.4069118046882858
         ],
         "xaxis": "x",
         "y": [
          -10,
          -10,
          -30,
          -30
         ],
         "yaxis": "y"
        },
        {
         "hoverinfo": "text",
         "marker": {
          "color": "rgb(35,205,205)"
         },
         "mode": "lines",
         "type": "scatter",
         "x": [
          0,
          0.9258104289086342,
          0.9258104289086342,
          0
         ],
         "xaxis": "x",
         "y": [
          -55,
          -55,
          -65,
          -65
         ],
         "yaxis": "y"
        },
        {
         "hoverinfo": "text",
         "marker": {
          "color": "rgb(35,205,205)"
         },
         "mode": "lines",
         "type": "scatter",
         "x": [
          0,
          0.9567070333184109,
          0.9567070333184109,
          0.9258104289086342
         ],
         "xaxis": "x",
         "y": [
          -45,
          -45,
          -60,
          -60
         ],
         "yaxis": "y"
        },
        {
         "hoverinfo": "text",
         "marker": {
          "color": "rgb(133,20,75)"
         },
         "mode": "lines",
         "type": "scatter",
         "x": [
          0,
          0.9214102297725528,
          0.9214102297725528,
          0
         ],
         "xaxis": "x",
         "y": [
          -75,
          -75,
          -85,
          -85
         ],
         "yaxis": "y"
        },
        {
         "hoverinfo": "text",
         "marker": {
          "color": "rgb(255,220,0)"
         },
         "mode": "lines",
         "type": "scatter",
         "x": [
          0,
          0.802666363243568,
          0.802666363243568,
          0
         ],
         "xaxis": "x",
         "y": [
          -115,
          -115,
          -125,
          -125
         ],
         "yaxis": "y"
        },
        {
         "hoverinfo": "text",
         "marker": {
          "color": "rgb(255,220,0)"
         },
         "mode": "lines",
         "type": "scatter",
         "x": [
          0,
          0.9027911215890957,
          0.9027911215890957,
          0.802666363243568
         ],
         "xaxis": "x",
         "y": [
          -105,
          -105,
          -120,
          -120
         ],
         "yaxis": "y"
        },
        {
         "hoverinfo": "text",
         "marker": {
          "color": "rgb(255,220,0)"
         },
         "mode": "lines",
         "type": "scatter",
         "x": [
          0.9027911215890957,
          0.9254891711047394,
          0.9254891711047394,
          0
         ],
         "xaxis": "x",
         "y": [
          -112.5,
          -112.5,
          -135,
          -135
         ],
         "yaxis": "y"
        },
        {
         "hoverinfo": "text",
         "marker": {
          "color": "rgb(255,220,0)"
         },
         "mode": "lines",
         "type": "scatter",
         "x": [
          0,
          0.9343747558472141,
          0.9343747558472141,
          0.9254891711047394
         ],
         "xaxis": "x",
         "y": [
          -95,
          -95,
          -123.75,
          -123.75
         ],
         "yaxis": "y"
        },
        {
         "hoverinfo": "text",
         "marker": {
          "color": "rgb(255,220,0)"
         },
         "mode": "lines",
         "type": "scatter",
         "x": [
          0,
          0.8493658412309893,
          0.8493658412309893,
          0
         ],
         "xaxis": "x",
         "y": [
          -145,
          -145,
          -155,
          -155
         ],
         "yaxis": "y"
        },
        {
         "hoverinfo": "text",
         "marker": {
          "color": "rgb(255,220,0)"
         },
         "mode": "lines",
         "type": "scatter",
         "x": [
          0.9343747558472141,
          0.9457799817689997,
          0.9457799817689997,
          0.8493658412309893
         ],
         "xaxis": "x",
         "y": [
          -109.375,
          -109.375,
          -150,
          -150
         ],
         "yaxis": "y"
        },
        {
         "hoverinfo": "text",
         "marker": {
          "color": "rgb(0,116,217)"
         },
         "mode": "lines",
         "type": "scatter",
         "x": [
          0.9214102297725528,
          1.0365829161883469,
          1.0365829161883469,
          0.9457799817689997
         ],
         "xaxis": "x",
         "y": [
          -80,
          -80,
          -129.6875,
          -129.6875
         ],
         "yaxis": "y"
        },
        {
         "hoverinfo": "text",
         "marker": {
          "color": "rgb(40,35,35)"
         },
         "mode": "lines",
         "type": "scatter",
         "x": [
          0,
          0.9035965084048261,
          0.9035965084048261,
          0
         ],
         "xaxis": "x",
         "y": [
          -165,
          -165,
          -175,
          -175
         ],
         "yaxis": "y"
        },
        {
         "hoverinfo": "text",
         "marker": {
          "color": "rgb(40,35,35)"
         },
         "mode": "lines",
         "type": "scatter",
         "x": [
          0,
          0.9010042537029623,
          0.9010042537029623,
          0
         ],
         "xaxis": "x",
         "y": [
          -185,
          -185,
          -195,
          -195
         ],
         "yaxis": "y"
        },
        {
         "hoverinfo": "text",
         "marker": {
          "color": "rgb(40,35,35)"
         },
         "mode": "lines",
         "type": "scatter",
         "x": [
          0.9035965084048261,
          0.9901191996061126,
          0.9901191996061126,
          0.9010042537029623
         ],
         "xaxis": "x",
         "y": [
          -170,
          -170,
          -190,
          -190
         ],
         "yaxis": "y"
        },
        {
         "hoverinfo": "text",
         "marker": {
          "color": "rgb(0,116,217)"
         },
         "mode": "lines",
         "type": "scatter",
         "x": [
          1.0365829161883469,
          1.043934235566809,
          1.043934235566809,
          0.9901191996061126
         ],
         "xaxis": "x",
         "y": [
          -104.84375,
          -104.84375,
          -180,
          -180
         ],
         "yaxis": "y"
        },
        {
         "hoverinfo": "text",
         "marker": {
          "color": "rgb(61,153,112)"
         },
         "mode": "lines",
         "type": "scatter",
         "x": [
          0,
          0.8295490273490914,
          0.8295490273490914,
          0
         ],
         "xaxis": "x",
         "y": [
          -215,
          -215,
          -225,
          -225
         ],
         "yaxis": "y"
        },
        {
         "hoverinfo": "text",
         "marker": {
          "color": "rgb(61,153,112)"
         },
         "mode": "lines",
         "type": "scatter",
         "x": [
          0,
          0.9577058707807062,
          0.9577058707807062,
          0.8295490273490914
         ],
         "xaxis": "x",
         "y": [
          -205,
          -205,
          -220,
          -220
         ],
         "yaxis": "y"
        },
        {
         "hoverinfo": "text",
         "marker": {
          "color": "rgb(0,116,217)"
         },
         "mode": "lines",
         "type": "scatter",
         "x": [
          1.043934235566809,
          1.0810857430890015,
          1.0810857430890015,
          0.9577058707807062
         ],
         "xaxis": "x",
         "y": [
          -142.421875,
          -142.421875,
          -212.5,
          -212.5
         ],
         "yaxis": "y"
        },
        {
         "hoverinfo": "text",
         "marker": {
          "color": "rgb(0,116,217)"
         },
         "mode": "lines",
         "type": "scatter",
         "x": [
          0.9567070333184109,
          1.0981899228481926,
          1.0981899228481926,
          1.0810857430890015
         ],
         "xaxis": "x",
         "y": [
          -52.5,
          -52.5,
          -177.4609375,
          -177.4609375
         ],
         "yaxis": "y"
        },
        {
         "hoverinfo": "text",
         "marker": {
          "color": "rgb(255,65,54)"
         },
         "mode": "lines",
         "type": "scatter",
         "x": [
          0,
          0.6477275241438839,
          0.6477275241438839,
          0
         ],
         "xaxis": "x",
         "y": [
          -235,
          -235,
          -245,
          -245
         ],
         "yaxis": "y"
        },
        {
         "hoverinfo": "text",
         "marker": {
          "color": "rgb(0,116,217)"
         },
         "mode": "lines",
         "type": "scatter",
         "x": [
          1.0981899228481926,
          1.1180967199878125,
          1.1180967199878125,
          0.6477275241438839
         ],
         "xaxis": "x",
         "y": [
          -114.98046875,
          -114.98046875,
          -240,
          -240
         ],
         "yaxis": "y"
        },
        {
         "hoverinfo": "text",
         "marker": {
          "color": "rgb(35,205,205)"
         },
         "mode": "lines",
         "type": "scatter",
         "x": [
          0,
          0.8305890268655086,
          0.8305890268655086,
          0
         ],
         "xaxis": "x",
         "y": [
          -265,
          -265,
          -275,
          -275
         ],
         "yaxis": "y"
        },
        {
         "hoverinfo": "text",
         "marker": {
          "color": "rgb(35,205,205)"
         },
         "mode": "lines",
         "type": "scatter",
         "x": [
          0,
          0.8966388627617817,
          0.8966388627617817,
          0.8305890268655086
         ],
         "xaxis": "x",
         "y": [
          -255,
          -255,
          -270,
          -270
         ],
         "yaxis": "y"
        },
        {
         "hoverinfo": "text",
         "marker": {
          "color": "rgb(61,153,112)"
         },
         "mode": "lines",
         "type": "scatter",
         "x": [
          0,
          0.9187199322169781,
          0.9187199322169781,
          0
         ],
         "xaxis": "x",
         "y": [
          -285,
          -285,
          -295,
          -295
         ],
         "yaxis": "y"
        },
        {
         "hoverinfo": "text",
         "marker": {
          "color": "rgb(61,153,112)"
         },
         "mode": "lines",
         "type": "scatter",
         "x": [
          0,
          0.7749661239185781,
          0.7749661239185781,
          0
         ],
         "xaxis": "x",
         "y": [
          -305,
          -305,
          -315,
          -315
         ],
         "yaxis": "y"
        },
        {
         "hoverinfo": "text",
         "marker": {
          "color": "rgb(61,153,112)"
         },
         "mode": "lines",
         "type": "scatter",
         "x": [
          0.9187199322169781,
          0.9800465349697325,
          0.9800465349697325,
          0.7749661239185781
         ],
         "xaxis": "x",
         "y": [
          -290,
          -290,
          -310,
          -310
         ],
         "yaxis": "y"
        },
        {
         "hoverinfo": "text",
         "marker": {
          "color": "rgb(0,116,217)"
         },
         "mode": "lines",
         "type": "scatter",
         "x": [
          0.9800465349697325,
          1.0027931559725385,
          1.0027931559725385,
          0
         ],
         "xaxis": "x",
         "y": [
          -300,
          -300,
          -325,
          -325
         ],
         "yaxis": "y"
        },
        {
         "hoverinfo": "text",
         "marker": {
          "color": "rgb(0,116,217)"
         },
         "mode": "lines",
         "type": "scatter",
         "x": [
          0.8966388627617817,
          1.0502638486825833,
          1.0502638486825833,
          1.0027931559725385
         ],
         "xaxis": "x",
         "y": [
          -262.5,
          -262.5,
          -312.5,
          -312.5
         ],
         "yaxis": "y"
        },
        {
         "hoverinfo": "text",
         "marker": {
          "color": "rgb(0,116,217)"
         },
         "mode": "lines",
         "type": "scatter",
         "x": [
          1.1180967199878125,
          1.2130091311731346,
          1.2130091311731346,
          1.0502638486825833
         ],
         "xaxis": "x",
         "y": [
          -177.490234375,
          -177.490234375,
          -287.5,
          -287.5
         ],
         "yaxis": "y"
        },
        {
         "hoverinfo": "text",
         "marker": {
          "color": "rgb(255,65,54)"
         },
         "mode": "lines",
         "type": "scatter",
         "x": [
          0,
          0.6090660587095704,
          0.6090660587095704,
          0
         ],
         "xaxis": "x",
         "y": [
          -335,
          -335,
          -345,
          -345
         ],
         "yaxis": "y"
        },
        {
         "hoverinfo": "text",
         "marker": {
          "color": "rgb(35,205,205)"
         },
         "mode": "lines",
         "type": "scatter",
         "x": [
          0,
          0.6835777428719941,
          0.6835777428719941,
          0
         ],
         "xaxis": "x",
         "y": [
          -375,
          -375,
          -385,
          -385
         ],
         "yaxis": "y"
        },
        {
         "hoverinfo": "text",
         "marker": {
          "color": "rgb(35,205,205)"
         },
         "mode": "lines",
         "type": "scatter",
         "x": [
          0,
          0.8152286028458344,
          0.8152286028458344,
          0.6835777428719941
         ],
         "xaxis": "x",
         "y": [
          -365,
          -365,
          -380,
          -380
         ],
         "yaxis": "y"
        },
        {
         "hoverinfo": "text",
         "marker": {
          "color": "rgb(35,205,205)"
         },
         "mode": "lines",
         "type": "scatter",
         "x": [
          0.8152286028458344,
          0.9400566496113516,
          0.9400566496113516,
          0
         ],
         "xaxis": "x",
         "y": [
          -372.5,
          -372.5,
          -395,
          -395
         ],
         "yaxis": "y"
        },
        {
         "hoverinfo": "text",
         "marker": {
          "color": "rgb(35,205,205)"
         },
         "mode": "lines",
         "type": "scatter",
         "x": [
          0,
          0.9468002094037202,
          0.9468002094037202,
          0.9400566496113516
         ],
         "xaxis": "x",
         "y": [
          -355,
          -355,
          -383.75,
          -383.75
         ],
         "yaxis": "y"
        },
        {
         "hoverinfo": "text",
         "marker": {
          "color": "rgb(35,205,205)"
         },
         "mode": "lines",
         "type": "scatter",
         "x": [
          0.9468002094037202,
          0.9885530941089221,
          0.9885530941089221,
          0
         ],
         "xaxis": "x",
         "y": [
          -369.375,
          -369.375,
          -405,
          -405
         ],
         "yaxis": "y"
        },
        {
         "hoverinfo": "text",
         "marker": {
          "color": "rgb(0,116,217)"
         },
         "mode": "lines",
         "type": "scatter",
         "x": [
          0.6090660587095704,
          1.2162716582326412,
          1.2162716582326412,
          0.9885530941089221
         ],
         "xaxis": "x",
         "y": [
          -340,
          -340,
          -387.1875,
          -387.1875
         ],
         "yaxis": "y"
        },
        {
         "hoverinfo": "text",
         "marker": {
          "color": "rgb(0,116,217)"
         },
         "mode": "lines",
         "type": "scatter",
         "x": [
          1.2130091311731346,
          1.2567344769505489,
          1.2567344769505489,
          1.2162716582326412
         ],
         "xaxis": "x",
         "y": [
          -232.4951171875,
          -232.4951171875,
          -363.59375,
          -363.59375
         ],
         "yaxis": "y"
        },
        {
         "hoverinfo": "text",
         "marker": {
          "color": "rgb(0,116,217)"
         },
         "mode": "lines",
         "type": "scatter",
         "x": [
          1.2463602686475,
          1.4935448142633898,
          1.4935448142633898,
          1.2567344769505489
         ],
         "xaxis": "x",
         "y": [
          -20,
          -20,
          -298.04443359375,
          -298.04443359375
         ],
         "yaxis": "y"
        }
       ],
       "layout": {
        "autosize": false,
        "height": 815,
        "hoverlabel": {
         "bgcolor": "white",
         "font": {
          "family": "Rockwell",
          "size": 16
         }
        },
        "hovermode": "closest",
        "plot_bgcolor": "#ECEFF1",
        "showlegend": false,
        "template": {
         "data": {
          "bar": [
           {
            "error_x": {
             "color": "#2a3f5f"
            },
            "error_y": {
             "color": "#2a3f5f"
            },
            "marker": {
             "line": {
              "color": "white",
              "width": 0.5
             },
             "pattern": {
              "fillmode": "overlay",
              "size": 10,
              "solidity": 0.2
             }
            },
            "type": "bar"
           }
          ],
          "barpolar": [
           {
            "marker": {
             "line": {
              "color": "white",
              "width": 0.5
             },
             "pattern": {
              "fillmode": "overlay",
              "size": 10,
              "solidity": 0.2
             }
            },
            "type": "barpolar"
           }
          ],
          "carpet": [
           {
            "aaxis": {
             "endlinecolor": "#2a3f5f",
             "gridcolor": "#C8D4E3",
             "linecolor": "#C8D4E3",
             "minorgridcolor": "#C8D4E3",
             "startlinecolor": "#2a3f5f"
            },
            "baxis": {
             "endlinecolor": "#2a3f5f",
             "gridcolor": "#C8D4E3",
             "linecolor": "#C8D4E3",
             "minorgridcolor": "#C8D4E3",
             "startlinecolor": "#2a3f5f"
            },
            "type": "carpet"
           }
          ],
          "choropleth": [
           {
            "colorbar": {
             "outlinewidth": 0,
             "ticks": ""
            },
            "type": "choropleth"
           }
          ],
          "contour": [
           {
            "colorbar": {
             "outlinewidth": 0,
             "ticks": ""
            },
            "colorscale": [
             [
              0,
              "#0d0887"
             ],
             [
              0.1111111111111111,
              "#46039f"
             ],
             [
              0.2222222222222222,
              "#7201a8"
             ],
             [
              0.3333333333333333,
              "#9c179e"
             ],
             [
              0.4444444444444444,
              "#bd3786"
             ],
             [
              0.5555555555555556,
              "#d8576b"
             ],
             [
              0.6666666666666666,
              "#ed7953"
             ],
             [
              0.7777777777777778,
              "#fb9f3a"
             ],
             [
              0.8888888888888888,
              "#fdca26"
             ],
             [
              1,
              "#f0f921"
             ]
            ],
            "type": "contour"
           }
          ],
          "contourcarpet": [
           {
            "colorbar": {
             "outlinewidth": 0,
             "ticks": ""
            },
            "type": "contourcarpet"
           }
          ],
          "heatmap": [
           {
            "colorbar": {
             "outlinewidth": 0,
             "ticks": ""
            },
            "colorscale": [
             [
              0,
              "#0d0887"
             ],
             [
              0.1111111111111111,
              "#46039f"
             ],
             [
              0.2222222222222222,
              "#7201a8"
             ],
             [
              0.3333333333333333,
              "#9c179e"
             ],
             [
              0.4444444444444444,
              "#bd3786"
             ],
             [
              0.5555555555555556,
              "#d8576b"
             ],
             [
              0.6666666666666666,
              "#ed7953"
             ],
             [
              0.7777777777777778,
              "#fb9f3a"
             ],
             [
              0.8888888888888888,
              "#fdca26"
             ],
             [
              1,
              "#f0f921"
             ]
            ],
            "type": "heatmap"
           }
          ],
          "heatmapgl": [
           {
            "colorbar": {
             "outlinewidth": 0,
             "ticks": ""
            },
            "colorscale": [
             [
              0,
              "#0d0887"
             ],
             [
              0.1111111111111111,
              "#46039f"
             ],
             [
              0.2222222222222222,
              "#7201a8"
             ],
             [
              0.3333333333333333,
              "#9c179e"
             ],
             [
              0.4444444444444444,
              "#bd3786"
             ],
             [
              0.5555555555555556,
              "#d8576b"
             ],
             [
              0.6666666666666666,
              "#ed7953"
             ],
             [
              0.7777777777777778,
              "#fb9f3a"
             ],
             [
              0.8888888888888888,
              "#fdca26"
             ],
             [
              1,
              "#f0f921"
             ]
            ],
            "type": "heatmapgl"
           }
          ],
          "histogram": [
           {
            "marker": {
             "pattern": {
              "fillmode": "overlay",
              "size": 10,
              "solidity": 0.2
             }
            },
            "type": "histogram"
           }
          ],
          "histogram2d": [
           {
            "colorbar": {
             "outlinewidth": 0,
             "ticks": ""
            },
            "colorscale": [
             [
              0,
              "#0d0887"
             ],
             [
              0.1111111111111111,
              "#46039f"
             ],
             [
              0.2222222222222222,
              "#7201a8"
             ],
             [
              0.3333333333333333,
              "#9c179e"
             ],
             [
              0.4444444444444444,
              "#bd3786"
             ],
             [
              0.5555555555555556,
              "#d8576b"
             ],
             [
              0.6666666666666666,
              "#ed7953"
             ],
             [
              0.7777777777777778,
              "#fb9f3a"
             ],
             [
              0.8888888888888888,
              "#fdca26"
             ],
             [
              1,
              "#f0f921"
             ]
            ],
            "type": "histogram2d"
           }
          ],
          "histogram2dcontour": [
           {
            "colorbar": {
             "outlinewidth": 0,
             "ticks": ""
            },
            "colorscale": [
             [
              0,
              "#0d0887"
             ],
             [
              0.1111111111111111,
              "#46039f"
             ],
             [
              0.2222222222222222,
              "#7201a8"
             ],
             [
              0.3333333333333333,
              "#9c179e"
             ],
             [
              0.4444444444444444,
              "#bd3786"
             ],
             [
              0.5555555555555556,
              "#d8576b"
             ],
             [
              0.6666666666666666,
              "#ed7953"
             ],
             [
              0.7777777777777778,
              "#fb9f3a"
             ],
             [
              0.8888888888888888,
              "#fdca26"
             ],
             [
              1,
              "#f0f921"
             ]
            ],
            "type": "histogram2dcontour"
           }
          ],
          "mesh3d": [
           {
            "colorbar": {
             "outlinewidth": 0,
             "ticks": ""
            },
            "type": "mesh3d"
           }
          ],
          "parcoords": [
           {
            "line": {
             "colorbar": {
              "outlinewidth": 0,
              "ticks": ""
             }
            },
            "type": "parcoords"
           }
          ],
          "pie": [
           {
            "automargin": true,
            "type": "pie"
           }
          ],
          "scatter": [
           {
            "fillpattern": {
             "fillmode": "overlay",
             "size": 10,
             "solidity": 0.2
            },
            "type": "scatter"
           }
          ],
          "scatter3d": [
           {
            "line": {
             "colorbar": {
              "outlinewidth": 0,
              "ticks": ""
             }
            },
            "marker": {
             "colorbar": {
              "outlinewidth": 0,
              "ticks": ""
             }
            },
            "type": "scatter3d"
           }
          ],
          "scattercarpet": [
           {
            "marker": {
             "colorbar": {
              "outlinewidth": 0,
              "ticks": ""
             }
            },
            "type": "scattercarpet"
           }
          ],
          "scattergeo": [
           {
            "marker": {
             "colorbar": {
              "outlinewidth": 0,
              "ticks": ""
             }
            },
            "type": "scattergeo"
           }
          ],
          "scattergl": [
           {
            "marker": {
             "colorbar": {
              "outlinewidth": 0,
              "ticks": ""
             }
            },
            "type": "scattergl"
           }
          ],
          "scattermapbox": [
           {
            "marker": {
             "colorbar": {
              "outlinewidth": 0,
              "ticks": ""
             }
            },
            "type": "scattermapbox"
           }
          ],
          "scatterpolar": [
           {
            "marker": {
             "colorbar": {
              "outlinewidth": 0,
              "ticks": ""
             }
            },
            "type": "scatterpolar"
           }
          ],
          "scatterpolargl": [
           {
            "marker": {
             "colorbar": {
              "outlinewidth": 0,
              "ticks": ""
             }
            },
            "type": "scatterpolargl"
           }
          ],
          "scatterternary": [
           {
            "marker": {
             "colorbar": {
              "outlinewidth": 0,
              "ticks": ""
             }
            },
            "type": "scatterternary"
           }
          ],
          "surface": [
           {
            "colorbar": {
             "outlinewidth": 0,
             "ticks": ""
            },
            "colorscale": [
             [
              0,
              "#0d0887"
             ],
             [
              0.1111111111111111,
              "#46039f"
             ],
             [
              0.2222222222222222,
              "#7201a8"
             ],
             [
              0.3333333333333333,
              "#9c179e"
             ],
             [
              0.4444444444444444,
              "#bd3786"
             ],
             [
              0.5555555555555556,
              "#d8576b"
             ],
             [
              0.6666666666666666,
              "#ed7953"
             ],
             [
              0.7777777777777778,
              "#fb9f3a"
             ],
             [
              0.8888888888888888,
              "#fdca26"
             ],
             [
              1,
              "#f0f921"
             ]
            ],
            "type": "surface"
           }
          ],
          "table": [
           {
            "cells": {
             "fill": {
              "color": "#EBF0F8"
             },
             "line": {
              "color": "white"
             }
            },
            "header": {
             "fill": {
              "color": "#C8D4E3"
             },
             "line": {
              "color": "white"
             }
            },
            "type": "table"
           }
          ]
         },
         "layout": {
          "annotationdefaults": {
           "arrowcolor": "#2a3f5f",
           "arrowhead": 0,
           "arrowwidth": 1
          },
          "autotypenumbers": "strict",
          "coloraxis": {
           "colorbar": {
            "outlinewidth": 0,
            "ticks": ""
           }
          },
          "colorscale": {
           "diverging": [
            [
             0,
             "#8e0152"
            ],
            [
             0.1,
             "#c51b7d"
            ],
            [
             0.2,
             "#de77ae"
            ],
            [
             0.3,
             "#f1b6da"
            ],
            [
             0.4,
             "#fde0ef"
            ],
            [
             0.5,
             "#f7f7f7"
            ],
            [
             0.6,
             "#e6f5d0"
            ],
            [
             0.7,
             "#b8e186"
            ],
            [
             0.8,
             "#7fbc41"
            ],
            [
             0.9,
             "#4d9221"
            ],
            [
             1,
             "#276419"
            ]
           ],
           "sequential": [
            [
             0,
             "#0d0887"
            ],
            [
             0.1111111111111111,
             "#46039f"
            ],
            [
             0.2222222222222222,
             "#7201a8"
            ],
            [
             0.3333333333333333,
             "#9c179e"
            ],
            [
             0.4444444444444444,
             "#bd3786"
            ],
            [
             0.5555555555555556,
             "#d8576b"
            ],
            [
             0.6666666666666666,
             "#ed7953"
            ],
            [
             0.7777777777777778,
             "#fb9f3a"
            ],
            [
             0.8888888888888888,
             "#fdca26"
            ],
            [
             1,
             "#f0f921"
            ]
           ],
           "sequentialminus": [
            [
             0,
             "#0d0887"
            ],
            [
             0.1111111111111111,
             "#46039f"
            ],
            [
             0.2222222222222222,
             "#7201a8"
            ],
            [
             0.3333333333333333,
             "#9c179e"
            ],
            [
             0.4444444444444444,
             "#bd3786"
            ],
            [
             0.5555555555555556,
             "#d8576b"
            ],
            [
             0.6666666666666666,
             "#ed7953"
            ],
            [
             0.7777777777777778,
             "#fb9f3a"
            ],
            [
             0.8888888888888888,
             "#fdca26"
            ],
            [
             1,
             "#f0f921"
            ]
           ]
          },
          "colorway": [
           "#636efa",
           "#EF553B",
           "#00cc96",
           "#ab63fa",
           "#FFA15A",
           "#19d3f3",
           "#FF6692",
           "#B6E880",
           "#FF97FF",
           "#FECB52"
          ],
          "font": {
           "color": "#2a3f5f"
          },
          "geo": {
           "bgcolor": "white",
           "lakecolor": "white",
           "landcolor": "white",
           "showlakes": true,
           "showland": true,
           "subunitcolor": "#C8D4E3"
          },
          "hoverlabel": {
           "align": "left"
          },
          "hovermode": "closest",
          "mapbox": {
           "style": "light"
          },
          "paper_bgcolor": "white",
          "plot_bgcolor": "white",
          "polar": {
           "angularaxis": {
            "gridcolor": "#EBF0F8",
            "linecolor": "#EBF0F8",
            "ticks": ""
           },
           "bgcolor": "white",
           "radialaxis": {
            "gridcolor": "#EBF0F8",
            "linecolor": "#EBF0F8",
            "ticks": ""
           }
          },
          "scene": {
           "xaxis": {
            "backgroundcolor": "white",
            "gridcolor": "#DFE8F3",
            "gridwidth": 2,
            "linecolor": "#EBF0F8",
            "showbackground": true,
            "ticks": "",
            "zerolinecolor": "#EBF0F8"
           },
           "yaxis": {
            "backgroundcolor": "white",
            "gridcolor": "#DFE8F3",
            "gridwidth": 2,
            "linecolor": "#EBF0F8",
            "showbackground": true,
            "ticks": "",
            "zerolinecolor": "#EBF0F8"
           },
           "zaxis": {
            "backgroundcolor": "white",
            "gridcolor": "#DFE8F3",
            "gridwidth": 2,
            "linecolor": "#EBF0F8",
            "showbackground": true,
            "ticks": "",
            "zerolinecolor": "#EBF0F8"
           }
          },
          "shapedefaults": {
           "line": {
            "color": "#2a3f5f"
           }
          },
          "ternary": {
           "aaxis": {
            "gridcolor": "#DFE8F3",
            "linecolor": "#A2B1C6",
            "ticks": ""
           },
           "baxis": {
            "gridcolor": "#DFE8F3",
            "linecolor": "#A2B1C6",
            "ticks": ""
           },
           "bgcolor": "white",
           "caxis": {
            "gridcolor": "#DFE8F3",
            "linecolor": "#A2B1C6",
            "ticks": ""
           }
          },
          "title": {
           "x": 0.05
          },
          "xaxis": {
           "automargin": true,
           "gridcolor": "#EBF0F8",
           "linecolor": "#EBF0F8",
           "ticks": "",
           "title": {
            "standoff": 15
           },
           "zerolinecolor": "#EBF0F8",
           "zerolinewidth": 2
          },
          "yaxis": {
           "automargin": true,
           "gridcolor": "#EBF0F8",
           "linecolor": "#EBF0F8",
           "ticks": "",
           "title": {
            "standoff": 15
           },
           "zerolinecolor": "#EBF0F8",
           "zerolinewidth": 2
          }
         }
        },
        "title": {
         "font": {
          "color": "Black",
          "size": 22
         },
         "text": "<b>Hierarchical Clustering</b>",
         "x": 0.5,
         "xanchor": "center",
         "yanchor": "top"
        },
        "width": 800,
        "xaxis": {
         "mirror": "allticks",
         "rangemode": "tozero",
         "showgrid": false,
         "showline": true,
         "showticklabels": true,
         "ticks": "outside",
         "type": "linear",
         "zeroline": false
        },
        "yaxis": {
         "mirror": "allticks",
         "range": [
          -410,
          0
         ],
         "rangemode": "tozero",
         "showgrid": false,
         "showline": true,
         "showticklabels": true,
         "tickmode": "array",
         "ticks": "outside",
         "ticktext": [
          "6_subse_mtns_tables",
          "2_usteri_tables_subse",
          "33_table_hts_mt",
          "29_table_mt_consistent",
          "37_wins_loss_max",
          "34_telecom_gaa_vivendi",
          "7_time_price_elori",
          "30_probabity_mea_variabity",
          "21_ffn_yr_geometrical",
          "24_lta_cash_dollars",
          "16_schools_implied_exa",
          "0_ty_trend_resistance",
          "11_trefore_consequently_occur",
          "15_only_mr_bonacci",
          "8_tg_researcr_an",
          "40_vessel_tse_ke",
          "28_problem_ansr_solut",
          "14_xl_el_pr",
          "27_chara_rca_bart",
          "23_ti_xi_wi",
          "39_ci_hj_mj",
          "9_is_yu_sha",
          "19_cancer_cell_lima",
          "10_eq_ki_ui",
          "32_eq_leymaka_pq",
          "31_zi_si_bi",
          "13_ft_gt_ws",
          "17_xt_ws_aelic",
          "26_mark_lipschitz_lp",
          "12_du_lea_alla",
          "4_st_et_vt",
          "20_guet_sot_ppeso",
          "35_tx_ts_te",
          "22_var_bridge_winner",
          "25_limo_corse_ice",
          "18_ry_quantum_ptrow",
          "3_racer_ya_ep",
          "5_intellence_nature_articial",
          "1_journal_nance_nancial",
          "36_corvee_kei_socorvee",
          "38_snature_terry_lns"
         ],
         "tickvals": [
          -5,
          -15,
          -25,
          -35,
          -45,
          -55,
          -65,
          -75,
          -85,
          -95,
          -105,
          -115,
          -125,
          -135,
          -145,
          -155,
          -165,
          -175,
          -185,
          -195,
          -205,
          -215,
          -225,
          -235,
          -245,
          -255,
          -265,
          -275,
          -285,
          -295,
          -305,
          -315,
          -325,
          -335,
          -345,
          -355,
          -365,
          -375,
          -385,
          -395,
          -405
         ],
         "type": "linear",
         "zeroline": false
        }
       }
      }
     },
     "metadata": {},
     "output_type": "display_data"
    }
   ],
   "source": [
    "model.visualize_hierarchy(top_n_topics=50, width=800)\n"
   ]
  },
  {
   "cell_type": "code",
   "execution_count": null,
   "metadata": {},
   "outputs": [
    {
     "data": {
      "application/vnd.plotly.v1+json": {
       "config": {
        "plotlyServerURL": "https://plot.ly"
       },
       "data": [
        {
         "coloraxis": "coloraxis",
         "hovertemplate": "x: %{x}<br>y: %{y}<br>Similarity Score: %{z}<extra></extra>",
         "name": "0",
         "type": "heatmap",
         "x": [
          "0_ty_trend_resistance",
          "14_xl_el_pr",
          "15_only_mr_bonacci",
          "20_guet_sot_ppeso",
          "1_journal_nance_nancial",
          "3_racer_ya_ep",
          "5_intellence_nature_articial",
          "36_corvee_kei_socorvee",
          "2_usteri_tables_subse",
          "6_subse_mtns_tables",
          "4_st_et_vt",
          "13_ft_gt_ws",
          "7_time_price_elori",
          "18_ry_quantum_ptrow",
          "31_zi_si_bi",
          "8_tg_researcr_an",
          "11_trefore_consequently_occur",
          "22_var_bridge_winner",
          "24_lta_cash_dollars",
          "28_problem_ansr_solut",
          "34_telecom_gaa_vivendi",
          "9_is_yu_sha",
          "27_chara_rca_bart",
          "10_eq_ki_ui",
          "32_eq_leymaka_pq",
          "12_du_lea_alla",
          "26_mark_lipschitz_lp",
          "16_schools_implied_exa",
          "17_xt_ws_aelic",
          "39_ci_hj_mj",
          "40_vessel_tse_ke",
          "19_cancer_cell_lima",
          "21_ffn_yr_geometrical",
          "23_ti_xi_wi",
          "25_limo_corse_ice",
          "29_table_mt_consistent",
          "33_table_hts_mt",
          "30_probabity_mea_variabity",
          "35_tx_ts_te",
          "37_wins_loss_max",
          "38_snature_terry_lns"
         ],
         "xaxis": "x",
         "y": [
          "0_ty_trend_resistance",
          "14_xl_el_pr",
          "15_only_mr_bonacci",
          "20_guet_sot_ppeso",
          "1_journal_nance_nancial",
          "3_racer_ya_ep",
          "5_intellence_nature_articial",
          "36_corvee_kei_socorvee",
          "2_usteri_tables_subse",
          "6_subse_mtns_tables",
          "4_st_et_vt",
          "13_ft_gt_ws",
          "7_time_price_elori",
          "18_ry_quantum_ptrow",
          "31_zi_si_bi",
          "8_tg_researcr_an",
          "11_trefore_consequently_occur",
          "22_var_bridge_winner",
          "24_lta_cash_dollars",
          "28_problem_ansr_solut",
          "34_telecom_gaa_vivendi",
          "9_is_yu_sha",
          "27_chara_rca_bart",
          "10_eq_ki_ui",
          "32_eq_leymaka_pq",
          "12_du_lea_alla",
          "26_mark_lipschitz_lp",
          "16_schools_implied_exa",
          "17_xt_ws_aelic",
          "39_ci_hj_mj",
          "40_vessel_tse_ke",
          "19_cancer_cell_lima",
          "21_ffn_yr_geometrical",
          "23_ti_xi_wi",
          "25_limo_corse_ice",
          "29_table_mt_consistent",
          "33_table_hts_mt",
          "30_probabity_mea_variabity",
          "35_tx_ts_te",
          "37_wins_loss_max",
          "38_snature_terry_lns"
         ],
         "yaxis": "y",
         "z": [
          [
           1,
           0.6758753657341003,
           0.6667369604110718,
           0.6220498085021973,
           0.6931453943252563,
           0.5515896081924438,
           0.55387282371521,
           0.575594961643219,
           0.23495405912399292,
           0.2326168268918991,
           0.44593459367752075,
           0.2986595928668976,
           0.6068499088287354,
           0.4120320677757263,
           0.4348573088645935,
           0.5651891231536865,
           0.6523957848548889,
           0.6177456378936768,
           0.6264464855194092,
           0.5226247310638428,
           0.476854145526886,
           0.578849732875824,
           0.5801647901535034,
           0.40415701270103455,
           0.4051413834095001,
           0.509619951248169,
           0.43870067596435547,
           0.34883034229278564,
           0.4526449739933014,
           0.4580440819263458,
           0.41225528717041016,
           0.1259167492389679,
           0.24989929795265198,
           0.35304462909698486,
           0.42935556173324585,
           0.13872943818569183,
           0.3073112964630127,
           0.23995614051818848,
           0.23846837878227234,
           0.12300105392932892,
           0.2913648188114166
          ],
          [
           0.6758753657341003,
           0.9999997615814209,
           0.6180672645568848,
           0.5912874341011047,
           0.4971699118614197,
           0.5352710485458374,
           0.5753709077835083,
           0.540001392364502,
           0.20786309242248535,
           0.20608261227607727,
           0.4966053366661072,
           0.2858576774597168,
           0.5100213289260864,
           0.3504461348056793,
           0.5384349822998047,
           0.5611822009086609,
           0.5720474720001221,
           0.5057931542396545,
           0.5041764378547668,
           0.4885316491127014,
           0.4239443838596344,
           0.5708402395248413,
           0.609572172164917,
           0.42013221979141235,
           0.4112653136253357,
           0.541053295135498,
           0.4679430425167084,
           0.375213623046875,
           0.5217827558517456,
           0.4804028570652008,
           0.5113381743431091,
           0.13929986953735352,
           0.16880421340465546,
           0.3192611336708069,
           0.39677461981773376,
           0.06493230909109116,
           0.2303052395582199,
           0.21189001202583313,
           0.2868126630783081,
           0.13015258312225342,
           0.19500118494033813
          ],
          [
           0.6667369604110718,
           0.6180672645568848,
           0.9999997615814209,
           0.5585851669311523,
           0.5816144943237305,
           0.5656051635742188,
           0.5976014137268066,
           0.5106881260871887,
           0.21922005712985992,
           0.21419385075569153,
           0.3641239404678345,
           0.26630041003227234,
           0.46483471989631653,
           0.4020550847053528,
           0.4277684688568115,
           0.5413604974746704,
           0.514481782913208,
           0.45732802152633667,
           0.5163315534591675,
           0.43303269147872925,
           0.43838638067245483,
           0.5555781126022339,
           0.5223909616470337,
           0.3436305522918701,
           0.32406479120254517,
           0.5057918429374695,
           0.4472968578338623,
           0.33723217248916626,
           0.3958591818809509,
           0.4142233729362488,
           0.40128499269485474,
           0.11641216278076172,
           0.2573751211166382,
           0.2616525888442993,
           0.2894584834575653,
           0.17629548907279968,
           0.367490291595459,
           0.23072339594364166,
           0.09048787504434586,
           0.12495847046375275,
           0.21923622488975525
          ],
          [
           0.6220498085021973,
           0.5912874341011047,
           0.5585851669311523,
           1,
           0.5562276244163513,
           0.5590500235557556,
           0.5877526998519897,
           0.5848101377487183,
           0.2550777792930603,
           0.2509594261646271,
           0.6037313938140869,
           0.39531219005584717,
           0.5387420058250427,
           0.4954209327697754,
           0.477660208940506,
           0.4021875262260437,
           0.4133632779121399,
           0.36652934551239014,
           0.356741726398468,
           0.4141055941581726,
           0.3170367479324341,
           0.4711018204689026,
           0.46025699377059937,
           0.39463549852371216,
           0.346607506275177,
           0.493496835231781,
           0.4014391303062439,
           0.25662362575531006,
           0.46336522698402405,
           0.4022597074508667,
           0.383511483669281,
           0.18231144547462463,
           0.17488856613636017,
           0.2649570107460022,
           0.37986433506011963,
           0.14136211574077606,
           0.29408034682273865,
           0.28251272439956665,
           0.294136106967926,
           0.14419490098953247,
           0.1818712055683136
          ],
          [
           0.6931453943252563,
           0.4971699118614197,
           0.5816144943237305,
           0.5562276244163513,
           0.9999998807907104,
           0.650648832321167,
           0.7415734529495239,
           0.6615407466888428,
           0.16072538495063782,
           0.1601540893316269,
           0.37863612174987793,
           0.23860667645931244,
           0.4626586437225342,
           0.44705140590667725,
           0.41194480657577515,
           0.2816474735736847,
           0.35292762517929077,
           0.4288192391395569,
           0.3304567337036133,
           0.34764814376831055,
           0.28629496693611145,
           0.4454747438430786,
           0.5143715143203735,
           0.34833067655563354,
           0.3496567904949188,
           0.4564957022666931,
           0.37091612815856934,
           0.3043132424354553,
           0.2736758291721344,
           0.39715006947517395,
           0.25846993923187256,
           0.15490013360977173,
           0.20184919238090515,
           0.2479623556137085,
           0.3218119740486145,
           0.13073307275772095,
           0.2444583624601364,
           0.24847164750099182,
           0.15826165676116943,
           0.21869084239006042,
           0.2374749779701233
          ],
          [
           0.5515896081924438,
           0.5352710485458374,
           0.5656051635742188,
           0.5590500235557556,
           0.650648832321167,
           1.000000238418579,
           0.7042906284332275,
           0.6387513875961304,
           0.21012261509895325,
           0.20678001642227173,
           0.3336451053619385,
           0.27159935235977173,
           0.42613035440444946,
           0.4104588031768799,
           0.4678686261177063,
           0.24361787736415863,
           0.4217027723789215,
           0.3016316294670105,
           0.20402255654335022,
           0.33573585748672485,
           0.206556499004364,
           0.4423061013221741,
           0.47958463430404663,
           0.41288623213768005,
           0.27551931142807007,
           0.4210278391838074,
           0.331895649433136,
           0.24399785697460175,
           0.3775337338447571,
           0.345585435628891,
           0.302324503660202,
           0.10594931989908218,
           0.17480652034282684,
           0.17605070769786835,
           0.3577536344528198,
           0.10086574405431747,
           0.19746124744415283,
           0.20348334312438965,
           0.11460760980844498,
           0.2701364755630493,
           0.2262009084224701
          ],
          [
           0.55387282371521,
           0.5753709077835083,
           0.5976014137268066,
           0.5877526998519897,
           0.7415734529495239,
           0.7042906284332275,
           1,
           0.6997140645980835,
           0.22020089626312256,
           0.21843795478343964,
           0.35051727294921875,
           0.28326714038848877,
           0.4434913694858551,
           0.4455943703651428,
           0.5279268026351929,
           0.2898528575897217,
           0.3598572611808777,
           0.27501267194747925,
           0.20173239707946777,
           0.3183962404727936,
           0.20018717646598816,
           0.6115124821662903,
           0.555903971195221,
           0.41334420442581177,
           0.3687884211540222,
           0.5533554553985596,
           0.4582503139972687,
           0.28106164932250977,
           0.3921971023082733,
           0.423488050699234,
           0.3643779754638672,
           0.3878119885921478,
           0.17093956470489502,
           0.23570892214775085,
           0.32849764823913574,
           0.1564350426197052,
           0.27918198704719543,
           0.15698382258415222,
           0.22080335021018982,
           0.2010154128074646,
           0.3192359507083893
          ],
          [
           0.575594961643219,
           0.540001392364502,
           0.5106881260871887,
           0.5848101377487183,
           0.6615407466888428,
           0.6387513875961304,
           0.6997140645980835,
           1,
           0.2547895014286041,
           0.24864664673805237,
           0.33957600593566895,
           0.33540046215057373,
           0.4375613331794739,
           0.37382304668426514,
           0.47481757402420044,
           0.26661282777786255,
           0.3970353603363037,
           0.26324495673179626,
           0.2508566975593567,
           0.3588269054889679,
           0.16249993443489075,
           0.48280733823776245,
           0.48835569620132446,
           0.3486463725566864,
           0.27192389965057373,
           0.5133514404296875,
           0.4392196536064148,
           0.2672070860862732,
           0.34726208448410034,
           0.38867005705833435,
           0.3394443988800049,
           0.16998781263828278,
           0.19951052963733673,
           0.18582555651664734,
           0.4636309742927551,
           0.0435621440410614,
           0.228971928358078,
           0.1880602240562439,
           0.17293484508991241,
           0.17476826906204224,
           0.2798401415348053
          ],
          [
           0.23495405912399292,
           0.20786309242248535,
           0.21922005712985992,
           0.2550777792930603,
           0.16072538495063782,
           0.21012261509895325,
           0.22020089626312256,
           0.2547895014286041,
           1,
           0.9992385506629944,
           0.3324736952781677,
           0.3964127004146576,
           0.1268574297428131,
           0.12156829237937927,
           0.1950782835483551,
           0.20162972807884216,
           0.17719146609306335,
           0.08125714957714081,
           0.14933094382286072,
           0.23701024055480957,
           0.09383062273263931,
           0.2867927849292755,
           0.15343374013900757,
           0.13556358218193054,
           0.04316752031445503,
           0.23387488722801208,
           0.29163920879364014,
           0.13295413553714752,
           0.2506381571292877,
           0.2784918248653412,
           0.26740890741348267,
           0.012957951985299587,
           0.006935570389032364,
           0.14776737987995148,
           0.23284104466438293,
           0.4424954652786255,
           0.6255484819412231,
           -0.01290934719145298,
           0.16209818422794342,
           -0.02154739387333393,
           0.12863284349441528
          ],
          [
           0.2326168268918991,
           0.20608261227607727,
           0.21419385075569153,
           0.2509594261646271,
           0.1601540893316269,
           0.20678001642227173,
           0.21843795478343964,
           0.24864664673805237,
           0.9992385506629944,
           1.000000238418579,
           0.3363420367240906,
           0.3992827236652374,
           0.12528374791145325,
           0.11789120733737946,
           0.19117213785648346,
           0.19869665801525116,
           0.1731104552745819,
           0.07596185058355331,
           0.14084942638874054,
           0.23574253916740417,
           0.09746383875608444,
           0.286575049161911,
           0.14910705387592316,
           0.13411884009838104,
           0.04054093733429909,
           0.2330377995967865,
           0.2934251129627228,
           0.1330372542142868,
           0.24976247549057007,
           0.2776190936565399,
           0.26307249069213867,
           0.014863981865346432,
           0.0044975969940423965,
           0.14716610312461853,
           0.2272796332836151,
           0.44760748744010925,
           0.6219506859779358,
           -0.01989053189754486,
           0.16068965196609497,
           -0.024549806490540504,
           0.12717105448246002
          ],
          [
           0.44593459367752075,
           0.4966053366661072,
           0.3641239404678345,
           0.6037313938140869,
           0.37863612174987793,
           0.3336451053619385,
           0.35051727294921875,
           0.33957600593566895,
           0.3324736952781677,
           0.3363420367240906,
           1.000000238418579,
           0.5587729811668396,
           0.34688714146614075,
           0.36234480142593384,
           0.3485291004180908,
           0.37949874997138977,
           0.39860934019088745,
           0.26247215270996094,
           0.36266815662384033,
           0.3774605989456177,
           0.2884916067123413,
           0.2989411950111389,
           0.348402202129364,
           0.44060444831848145,
           0.3060447573661804,
           0.42779096961021423,
           0.34734439849853516,
           0.357921302318573,
           0.3782317638397217,
           0.4049336016178131,
           0.38654327392578125,
           0.0848558247089386,
           0.14316236972808838,
           0.3698345422744751,
           0.33449283242225647,
           0.20085877180099487,
           0.248423233628273,
           0.05977057293057442,
           0.34313297271728516,
           -0.06806059926748276,
           0.0674707293510437
          ],
          [
           0.2986595928668976,
           0.2858576774597168,
           0.26630041003227234,
           0.39531219005584717,
           0.23860667645931244,
           0.27159935235977173,
           0.28326714038848877,
           0.33540046215057373,
           0.3964127004146576,
           0.3992827236652374,
           0.5587729811668396,
           1,
           0.2833157777786255,
           0.3627612590789795,
           0.3466959595680237,
           0.3268631398677826,
           0.22771304845809937,
           0.2028111219406128,
           0.23365679383277893,
           0.31760767102241516,
           0.21286839246749878,
           0.23567959666252136,
           0.21772265434265137,
           0.2747029960155487,
           0.14749470353126526,
           0.3661177158355713,
           0.30929428339004517,
           0.18700022995471954,
           0.42084968090057373,
           0.3039197325706482,
           0.4006478786468506,
           0.02189437486231327,
           0.015083475038409233,
           0.37156587839126587,
           0.25627022981643677,
           0.15639597177505493,
           0.2570556104183197,
           -0.06222184747457504,
           0.31426388025283813,
           0.07621802389621735,
           0.014603661373257637
          ],
          [
           0.6068499088287354,
           0.5100213289260864,
           0.46483471989631653,
           0.5387420058250427,
           0.4626586437225342,
           0.42613035440444946,
           0.4434913694858551,
           0.4375613331794739,
           0.1268574297428131,
           0.12528374791145325,
           0.34688714146614075,
           0.2833157777786255,
           1.000000238418579,
           0.36731863021850586,
           0.3438822627067566,
           0.3559796214103699,
           0.3422242999076843,
           0.30301928520202637,
           0.36816370487213135,
           0.3593217432498932,
           0.270587682723999,
           0.399697482585907,
           0.40046554803848267,
           0.29209354519844055,
           0.25895318388938904,
           0.37795358896255493,
           0.3238052725791931,
           0.195348858833313,
           0.34599804878234863,
           0.30530989170074463,
           0.2688721716403961,
           0.1648593246936798,
           0.17610809206962585,
           0.2640222907066345,
           0.27893346548080444,
           0.17725570499897003,
           0.2626263499259949,
           0.26967522501945496,
           0.2601719796657562,
           0.27120086550712585,
           0.08169037103652954
          ],
          [
           0.4120320677757263,
           0.3504461348056793,
           0.4020550847053528,
           0.4954209327697754,
           0.44705140590667725,
           0.4104588031768799,
           0.4455943703651428,
           0.37382304668426514,
           0.12156829237937927,
           0.11789120733737946,
           0.36234480142593384,
           0.3627612590789795,
           0.36731863021850586,
           0.9999997019767761,
           0.3769906163215637,
           0.34539544582366943,
           0.3256162405014038,
           0.22431327402591705,
           0.25193244218826294,
           0.28983819484710693,
           0.3603981137275696,
           0.31459543108940125,
           0.3214908838272095,
           0.2803023159503937,
           0.2500411570072174,
           0.22323249280452728,
           0.2013513743877411,
           0.2662428915500641,
           0.3471248149871826,
           0.27909713983535767,
           0.29702138900756836,
           0.06551511585712433,
           0.10011478513479233,
           0.2840198874473572,
           0.09941194951534271,
           0.02890767529606819,
           0.14511112868785858,
           0.21352289617061615,
           0.18168926239013672,
           0.13333919644355774,
           0.07849320024251938
          ],
          [
           0.4348573088645935,
           0.5384349822998047,
           0.4277684688568115,
           0.477660208940506,
           0.41194480657577515,
           0.4678686261177063,
           0.5279268026351929,
           0.47481757402420044,
           0.1950782835483551,
           0.19117213785648346,
           0.3485291004180908,
           0.3466959595680237,
           0.3438822627067566,
           0.3769906163215637,
           1.0000001192092896,
           0.28361743688583374,
           0.3229339122772217,
           0.1986505091190338,
           0.3227183222770691,
           0.27838629484176636,
           0.3626798391342163,
           0.45960813760757446,
           0.37813007831573486,
           0.39921772480010986,
           0.3185550272464752,
           0.4266297221183777,
           0.21987220644950867,
           0.21689164638519287,
           0.42445093393325806,
           0.3821224570274353,
           0.39653146266937256,
           0.13856381177902222,
           0.17329102754592896,
           0.37543022632598877,
           0.17166900634765625,
           0.1818140298128128,
           0.25389567017555237,
           0.13127022981643677,
           0.2612271308898926,
           0.09347714483737946,
           0.20103955268859863
          ],
          [
           0.5651891231536865,
           0.5611822009086609,
           0.5413604974746704,
           0.4021875262260437,
           0.2816474735736847,
           0.24361787736415863,
           0.2898528575897217,
           0.26661282777786255,
           0.20162972807884216,
           0.19869665801525116,
           0.37949874997138977,
           0.3268631398677826,
           0.3559796214103699,
           0.34539544582366943,
           0.28361743688583374,
           1,
           0.4998621344566345,
           0.4212172329425812,
           0.6703645586967468,
           0.5613322257995605,
           0.5215743780136108,
           0.4584943652153015,
           0.4457467198371887,
           0.26080647110939026,
           0.21916121244430542,
           0.3528788983821869,
           0.35505372285842896,
           0.37095898389816284,
           0.4107772409915924,
           0.36732691526412964,
           0.5044174194335938,
           0.07147210091352463,
           0.33211374282836914,
           0.2884292006492615,
           0.2488129436969757,
           0.09573951363563538,
           0.2841096818447113,
           0.12664684653282166,
           0.20333069562911987,
           0.03131614997982979,
           0.14339040219783783
          ],
          [
           0.6523957848548889,
           0.5720474720001221,
           0.514481782913208,
           0.4133632779121399,
           0.35292762517929077,
           0.4217027723789215,
           0.3598572611808777,
           0.3970353603363037,
           0.17719146609306335,
           0.1731104552745819,
           0.39860934019088745,
           0.22771304845809937,
           0.3422242999076843,
           0.3256162405014038,
           0.3229339122772217,
           0.4998621344566345,
           1,
           0.3893440365791321,
           0.49944618344306946,
           0.40251368284225464,
           0.47392845153808594,
           0.40404897928237915,
           0.4863569736480713,
           0.4826810956001282,
           0.35870838165283203,
           0.35078373551368713,
           0.35602328181266785,
           0.3352530300617218,
           0.37807154655456543,
           0.2690240442752838,
           0.38699060678482056,
           0.08934353291988373,
           0.26659780740737915,
           0.26441270112991333,
           0.3224524259567261,
           0.09214538335800171,
           0.2200314998626709,
           0.17674702405929565,
           0.20364387333393097,
           0.010786736384034157,
           0.16394275426864624
          ],
          [
           0.6177456378936768,
           0.5057931542396545,
           0.45732802152633667,
           0.36652934551239014,
           0.4288192391395569,
           0.3016316294670105,
           0.27501267194747925,
           0.26324495673179626,
           0.08125714957714081,
           0.07596185058355331,
           0.26247215270996094,
           0.2028111219406128,
           0.30301928520202637,
           0.22431327402591705,
           0.1986505091190338,
           0.4212172329425812,
           0.3893440365791321,
           1,
           0.49919718503952026,
           0.426685631275177,
           0.3637116253376007,
           0.3468596339225769,
           0.37037745118141174,
           0.2111818790435791,
           0.3575378954410553,
           0.4117690920829773,
           0.20500507950782776,
           0.3033647835254669,
           0.30762583017349243,
           0.40780624747276306,
           0.43322569131851196,
           0.06750375777482986,
           0.22587811946868896,
           0.26923298835754395,
           0.39331936836242676,
           0.059401318430900574,
           0.18244560062885284,
           0.33321088552474976,
           0.17327383160591125,
           0.21167397499084473,
           0.11739693582057953
          ],
          [
           0.6264464855194092,
           0.5041764378547668,
           0.5163315534591675,
           0.356741726398468,
           0.3304567337036133,
           0.20402255654335022,
           0.20173239707946777,
           0.2508566975593567,
           0.14933094382286072,
           0.14084942638874054,
           0.36266815662384033,
           0.23365679383277893,
           0.36816370487213135,
           0.25193244218826294,
           0.3227183222770691,
           0.6703645586967468,
           0.49944618344306946,
           0.49919718503952026,
           0.9999998211860657,
           0.4894960820674896,
           0.5029774904251099,
           0.40192535519599915,
           0.40635818243026733,
           0.27930957078933716,
           0.3187602758407593,
           0.3052332103252411,
           0.26963743567466736,
           0.30246615409851074,
           0.3871709704399109,
           0.3650458753108978,
           0.40975314378738403,
           0.040399134159088135,
           0.3078644871711731,
           0.2969949245452881,
           0.3703652620315552,
           0.15329143404960632,
           0.323091596364975,
           0.3040936291217804,
           0.23664957284927368,
           0.01911872625350952,
           0.0793270468711853
          ],
          [
           0.5226247310638428,
           0.4885316491127014,
           0.43303269147872925,
           0.4141055941581726,
           0.34764814376831055,
           0.33573585748672485,
           0.3183962404727936,
           0.3588269054889679,
           0.23701024055480957,
           0.23574253916740417,
           0.3774605989456177,
           0.31760767102241516,
           0.3593217432498932,
           0.28983819484710693,
           0.27838629484176636,
           0.5613322257995605,
           0.40251368284225464,
           0.426685631275177,
           0.4894960820674896,
           1.000000238418579,
           0.3771994709968567,
           0.2940250337123871,
           0.32247382402420044,
           0.2752976715564728,
           0.2668207287788391,
           0.366676390171051,
           0.3924019932746887,
           0.22388488054275513,
           0.4244140386581421,
           0.3840280771255493,
           0.40959417819976807,
           0.0496821328997612,
           0.16779696941375732,
           0.1855720728635788,
           0.32281821966171265,
           0.15449878573417664,
           0.30807048082351685,
           0.12367740273475647,
           0.18675553798675537,
           0.08215540647506714,
           0.05097319558262825
          ],
          [
           0.476854145526886,
           0.4239443838596344,
           0.43838638067245483,
           0.3170367479324341,
           0.28629496693611145,
           0.206556499004364,
           0.20018717646598816,
           0.16249993443489075,
           0.09383062273263931,
           0.09746383875608444,
           0.2884916067123413,
           0.21286839246749878,
           0.270587682723999,
           0.3603981137275696,
           0.3626798391342163,
           0.5215743780136108,
           0.47392845153808594,
           0.3637116253376007,
           0.5029774904251099,
           0.3771994709968567,
           1.0000003576278687,
           0.34999239444732666,
           0.39253517985343933,
           0.32787197828292847,
           0.20764094591140747,
           0.2543072998523712,
           0.23244133591651917,
           0.20713719725608826,
           0.23123431205749512,
           0.3146718144416809,
           0.34905925393104553,
           0.05226116627454758,
           0.1421036422252655,
           0.21867726743221283,
           0.16084527969360352,
           0.09115400910377502,
           0.19518934190273285,
           0.15558582544326782,
           0.1392490416765213,
           0.08323536068201065,
           -0.005706735886633396
          ],
          [
           0.578849732875824,
           0.5708402395248413,
           0.5555781126022339,
           0.4711018204689026,
           0.4454747438430786,
           0.4423061013221741,
           0.6115124821662903,
           0.48280733823776245,
           0.2867927849292755,
           0.286575049161911,
           0.2989411950111389,
           0.23567959666252136,
           0.399697482585907,
           0.31459543108940125,
           0.45960813760757446,
           0.4584943652153015,
           0.40404897928237915,
           0.3468596339225769,
           0.40192535519599915,
           0.2940250337123871,
           0.34999239444732666,
           1.0000001192092896,
           0.527116596698761,
           0.3407503366470337,
           0.3324224352836609,
           0.493652880191803,
           0.39613664150238037,
           0.27397358417510986,
           0.358600378036499,
           0.46319031715393066,
           0.3852664828300476,
           0.3770669102668762,
           0.2762055993080139,
           0.19874119758605957,
           0.2944706082344055,
           0.22068187594413757,
           0.38843297958374023,
           0.08738598227500916,
           0.25016289949417114,
           0.04985979571938515,
           0.2355002462863922
          ],
          [
           0.5801647901535034,
           0.609572172164917,
           0.5223909616470337,
           0.46025699377059937,
           0.5143715143203735,
           0.47958463430404663,
           0.555903971195221,
           0.48835569620132446,
           0.15343374013900757,
           0.14910705387592316,
           0.348402202129364,
           0.21772265434265137,
           0.40046554803848267,
           0.3214908838272095,
           0.37813007831573486,
           0.4457467198371887,
           0.4863569736480713,
           0.37037745118141174,
           0.40635818243026733,
           0.32247382402420044,
           0.39253517985343933,
           0.527116596698761,
           0.9999997615814209,
           0.3707772493362427,
           0.33661580085754395,
           0.4630126953125,
           0.38876473903656006,
           0.2115289717912674,
           0.33687296509742737,
           0.4096713066101074,
           0.4737434387207031,
           0.2206316888332367,
           0.14156028628349304,
           0.35495156049728394,
           0.36925897002220154,
           0.06566345691680908,
           0.24891546368598938,
           0.17456306517124176,
           0.20645105838775635,
           0.04955504834651947,
           0.13986702263355255
          ],
          [
           0.40415701270103455,
           0.42013221979141235,
           0.3436305522918701,
           0.39463549852371216,
           0.34833067655563354,
           0.41288623213768005,
           0.41334420442581177,
           0.3486463725566864,
           0.13556358218193054,
           0.13411884009838104,
           0.44060444831848145,
           0.2747029960155487,
           0.29209354519844055,
           0.2803023159503937,
           0.39921772480010986,
           0.26080647110939026,
           0.4826810956001282,
           0.2111818790435791,
           0.27930957078933716,
           0.2752976715564728,
           0.32787197828292847,
           0.3407503366470337,
           0.3707772493362427,
           0.9999998807907104,
           0.5906047821044922,
           0.2751641273498535,
           0.2813751995563507,
           0.2313937246799469,
           0.35415464639663696,
           0.3379078507423401,
           0.2547626197338104,
           0.09950220584869385,
           0.1988641321659088,
           0.2996738851070404,
           0.28959891200065613,
           0.11105335503816605,
           0.1919441670179367,
           0.03872404620051384,
           0.16659370064735413,
           0.018998675048351288,
           0.1000995934009552
          ],
          [
           0.4051413834095001,
           0.4112653136253357,
           0.32406479120254517,
           0.346607506275177,
           0.3496567904949188,
           0.27551931142807007,
           0.3687884211540222,
           0.27192389965057373,
           0.04316752031445503,
           0.04054093733429909,
           0.3060447573661804,
           0.14749470353126526,
           0.25895318388938904,
           0.2500411570072174,
           0.3185550272464752,
           0.21916121244430542,
           0.35870838165283203,
           0.3575378954410553,
           0.3187602758407593,
           0.2668207287788391,
           0.20764094591140747,
           0.3324224352836609,
           0.33661580085754395,
           0.5906047821044922,
           1.0000001192092896,
           0.2271980196237564,
           0.19794532656669617,
           0.34393155574798584,
           0.3547968864440918,
           0.2923293113708496,
           0.3937290906906128,
           0.14524301886558533,
           0.19968074560165405,
           0.1722182035446167,
           0.31044870615005493,
           0.07552953064441681,
           0.18049876391887665,
           0.1843857765197754,
           0.24289721250534058,
           0.05984267592430115,
           0.20298618078231812
          ],
          [
           0.509619951248169,
           0.541053295135498,
           0.5057918429374695,
           0.493496835231781,
           0.4564957022666931,
           0.4210278391838074,
           0.5533554553985596,
           0.5133514404296875,
           0.23387488722801208,
           0.2330377995967865,
           0.42779096961021423,
           0.3661177158355713,
           0.37795358896255493,
           0.22323249280452728,
           0.4266297221183777,
           0.3528788983821869,
           0.35078373551368713,
           0.4117690920829773,
           0.3052332103252411,
           0.366676390171051,
           0.2543072998523712,
           0.493652880191803,
           0.4630126953125,
           0.2751641273498535,
           0.2271980196237564,
           0.9999998807907104,
           0.4554264545440674,
           0.2973734140396118,
           0.3285430371761322,
           0.38712650537490845,
           0.39648014307022095,
           0.12081000953912735,
           0.22418254613876343,
           0.22543968260288239,
           0.29394108057022095,
           0.08441111445426941,
           0.2267400622367859,
           0.1821942925453186,
           0.22303667664527893,
           0.096257783472538,
           0.2239709198474884
          ],
          [
           0.43870067596435547,
           0.4679430425167084,
           0.4472968578338623,
           0.4014391303062439,
           0.37091612815856934,
           0.331895649433136,
           0.4582503139972687,
           0.4392196536064148,
           0.29163920879364014,
           0.2934251129627228,
           0.34734439849853516,
           0.30929428339004517,
           0.3238052725791931,
           0.2013513743877411,
           0.21987220644950867,
           0.35505372285842896,
           0.35602328181266785,
           0.20500507950782776,
           0.26963743567466736,
           0.3924019932746887,
           0.23244133591651917,
           0.39613664150238037,
           0.38876473903656006,
           0.2813751995563507,
           0.19794532656669617,
           0.4554264545440674,
           0.9999997615814209,
           0.21174803376197815,
           0.3983203172683716,
           0.3949992060661316,
           0.3580865263938904,
           0.10001730918884277,
           0.2143254280090332,
           0.13672040402889252,
           0.24726396799087524,
           0.054434072226285934,
           0.20939232409000397,
           0.152082622051239,
           0.1873040795326233,
           0.05659634992480278,
           0.21612556278705597
          ],
          [
           0.34883034229278564,
           0.375213623046875,
           0.33723217248916626,
           0.25662362575531006,
           0.3043132424354553,
           0.24399785697460175,
           0.28106164932250977,
           0.2672070860862732,
           0.13295413553714752,
           0.1330372542142868,
           0.357921302318573,
           0.18700022995471954,
           0.195348858833313,
           0.2662428915500641,
           0.21689164638519287,
           0.37095898389816284,
           0.3352530300617218,
           0.3033647835254669,
           0.30246615409851074,
           0.22388488054275513,
           0.20713719725608826,
           0.27397358417510986,
           0.2115289717912674,
           0.2313937246799469,
           0.34393155574798584,
           0.2973734140396118,
           0.21174803376197815,
           0.9999999403953552,
           0.23985829949378967,
           0.1824396252632141,
           0.3186558485031128,
           0.03304422274231911,
           0.2676461935043335,
           0.1386214643716812,
           0.11105653643608093,
           0.008200190030038357,
           0.11869663000106812,
           0.09794503450393677,
           0.11854685842990875,
           0.02646830305457115,
           0.1186414435505867
          ],
          [
           0.4526449739933014,
           0.5217827558517456,
           0.3958591818809509,
           0.46336522698402405,
           0.2736758291721344,
           0.3775337338447571,
           0.3921971023082733,
           0.34726208448410034,
           0.2506381571292877,
           0.24976247549057007,
           0.3782317638397217,
           0.42084968090057373,
           0.34599804878234863,
           0.3471248149871826,
           0.42445093393325806,
           0.4107772409915924,
           0.37807154655456543,
           0.30762583017349243,
           0.3871709704399109,
           0.4244140386581421,
           0.23123431205749512,
           0.358600378036499,
           0.33687296509742737,
           0.35415464639663696,
           0.3547968864440918,
           0.3285430371761322,
           0.3983203172683716,
           0.23985829949378967,
           1.0000003576278687,
           0.39300161600112915,
           0.3989901542663574,
           0.1879798322916031,
           0.20898272097110748,
           0.33713847398757935,
           0.2739761471748352,
           0.07351615279912949,
           0.2373332381248474,
           0.10109090805053711,
           0.25150632858276367,
           0.09600178152322769,
           0.1643110066652298
          ],
          [
           0.4580440819263458,
           0.4804028570652008,
           0.4142233729362488,
           0.4022597074508667,
           0.39715006947517395,
           0.345585435628891,
           0.423488050699234,
           0.38867005705833435,
           0.2784918248653412,
           0.2776190936565399,
           0.4049336016178131,
           0.3039197325706482,
           0.30530989170074463,
           0.27909713983535767,
           0.3821224570274353,
           0.36732691526412964,
           0.2690240442752838,
           0.40780624747276306,
           0.3650458753108978,
           0.3840280771255493,
           0.3146718144416809,
           0.46319031715393066,
           0.4096713066101074,
           0.3379078507423401,
           0.2923293113708496,
           0.38712650537490845,
           0.3949992060661316,
           0.1824396252632141,
           0.39300161600112915,
           0.9999995827674866,
           0.37583285570144653,
           0.15289033949375153,
           0.24721793830394745,
           0.18187475204467773,
           0.28017839789390564,
           0.1770397424697876,
           0.3255767822265625,
           0.21463383734226227,
           0.2011173814535141,
           -0.04877038300037384,
           0.09803290665149689
          ],
          [
           0.41225528717041016,
           0.5113381743431091,
           0.40128499269485474,
           0.383511483669281,
           0.25846993923187256,
           0.302324503660202,
           0.3643779754638672,
           0.3394443988800049,
           0.26740890741348267,
           0.26307249069213867,
           0.38654327392578125,
           0.4006478786468506,
           0.2688721716403961,
           0.29702138900756836,
           0.39653146266937256,
           0.5044174194335938,
           0.38699060678482056,
           0.43322569131851196,
           0.40975314378738403,
           0.40959417819976807,
           0.34905925393104553,
           0.3852664828300476,
           0.4737434387207031,
           0.2547626197338104,
           0.3937290906906128,
           0.39648014307022095,
           0.3580865263938904,
           0.3186558485031128,
           0.3989901542663574,
           0.37583285570144653,
           0.9999998807907104,
           0.06980125606060028,
           0.24256998300552368,
           0.22039884328842163,
           0.2897126078605652,
           0.08562295138835907,
           0.24683144688606262,
           0.29907122254371643,
           0.2840883731842041,
           0.11215460300445557,
           0.13774757087230682
          ],
          [
           0.1259167492389679,
           0.13929986953735352,
           0.11641216278076172,
           0.18231144547462463,
           0.15490013360977173,
           0.10594931989908218,
           0.3878119885921478,
           0.16998781263828278,
           0.012957951985299587,
           0.014863981865346432,
           0.0848558247089386,
           0.02189437486231327,
           0.1648593246936798,
           0.06551511585712433,
           0.13856381177902222,
           0.07147210091352463,
           0.08934353291988373,
           0.06750375777482986,
           0.040399134159088135,
           0.0496821328997612,
           0.05226116627454758,
           0.3770669102668762,
           0.2206316888332367,
           0.09950220584869385,
           0.14524301886558533,
           0.12081000953912735,
           0.10001730918884277,
           0.03304422274231911,
           0.1879798322916031,
           0.15289033949375153,
           0.06980125606060028,
           0.9999997019767761,
           0.0754094123840332,
           0.13936083018779755,
           0.18208688497543335,
           0.33091628551483154,
           0.26855507493019104,
           0.01809251308441162,
           0.1583101749420166,
           0.07646982371807098,
           0.08495497703552246
          ],
          [
           0.24989929795265198,
           0.16880421340465546,
           0.2573751211166382,
           0.17488856613636017,
           0.20184919238090515,
           0.17480652034282684,
           0.17093956470489502,
           0.19951052963733673,
           0.006935570389032364,
           0.0044975969940423965,
           0.14316236972808838,
           0.015083475038409233,
           0.17610809206962585,
           0.10011478513479233,
           0.17329102754592896,
           0.33211374282836914,
           0.26659780740737915,
           0.22587811946868896,
           0.3078644871711731,
           0.16779696941375732,
           0.1421036422252655,
           0.2762055993080139,
           0.14156028628349304,
           0.1988641321659088,
           0.19968074560165405,
           0.22418254613876343,
           0.2143254280090332,
           0.2676461935043335,
           0.20898272097110748,
           0.24721793830394745,
           0.24256998300552368,
           0.0754094123840332,
           0.9999997019767761,
           0.0377887599170208,
           0.21112385392189026,
           0.05093662068247795,
           0.0489840991795063,
           0.263954758644104,
           -0.025894775986671448,
           -0.00027579814195632935,
           0.015147557482123375
          ],
          [
           0.35304462909698486,
           0.3192611336708069,
           0.2616525888442993,
           0.2649570107460022,
           0.2479623556137085,
           0.17605070769786835,
           0.23570892214775085,
           0.18582555651664734,
           0.14776737987995148,
           0.14716610312461853,
           0.3698345422744751,
           0.37156587839126587,
           0.2640222907066345,
           0.2840198874473572,
           0.37543022632598877,
           0.2884292006492615,
           0.26441270112991333,
           0.26923298835754395,
           0.2969949245452881,
           0.1855720728635788,
           0.21867726743221283,
           0.19874119758605957,
           0.35495156049728394,
           0.2996738851070404,
           0.1722182035446167,
           0.22543968260288239,
           0.13672040402889252,
           0.1386214643716812,
           0.33713847398757935,
           0.18187475204467773,
           0.22039884328842163,
           0.13936083018779755,
           0.0377887599170208,
           1,
           0.18450957536697388,
           0.23100292682647705,
           0.2427135705947876,
           0.007277838885784149,
           0.281358003616333,
           0.0673307254910469,
           0.019766906276345253
          ],
          [
           0.42935556173324585,
           0.39677461981773376,
           0.2894584834575653,
           0.37986433506011963,
           0.3218119740486145,
           0.3577536344528198,
           0.32849764823913574,
           0.4636309742927551,
           0.23284104466438293,
           0.2272796332836151,
           0.33449283242225647,
           0.25627022981643677,
           0.27893346548080444,
           0.09941194951534271,
           0.17166900634765625,
           0.2488129436969757,
           0.3224524259567261,
           0.39331936836242676,
           0.3703652620315552,
           0.32281821966171265,
           0.16084527969360352,
           0.2944706082344055,
           0.36925897002220154,
           0.28959891200065613,
           0.31044870615005493,
           0.29394108057022095,
           0.24726396799087524,
           0.11105653643608093,
           0.2739761471748352,
           0.28017839789390564,
           0.2897126078605652,
           0.18208688497543335,
           0.21112385392189026,
           0.18450957536697388,
           0.9999999403953552,
           0.16031286120414734,
           0.2726014256477356,
           0.10757844895124435,
           0.15669167041778564,
           0.04750044271349907,
           0.04574260115623474
          ],
          [
           0.13872943818569183,
           0.06493230909109116,
           0.17629548907279968,
           0.14136211574077606,
           0.13073307275772095,
           0.10086574405431747,
           0.1564350426197052,
           0.0435621440410614,
           0.4424954652786255,
           0.44760748744010925,
           0.20085877180099487,
           0.15639597177505493,
           0.17725570499897003,
           0.02890767529606819,
           0.1818140298128128,
           0.09573951363563538,
           0.09214538335800171,
           0.059401318430900574,
           0.15329143404960632,
           0.15449878573417664,
           0.09115400910377502,
           0.22068187594413757,
           0.06566345691680908,
           0.11105335503816605,
           0.07552953064441681,
           0.08441111445426941,
           0.054434072226285934,
           0.008200190030038357,
           0.07351615279912949,
           0.1770397424697876,
           0.08562295138835907,
           0.33091628551483154,
           0.05093662068247795,
           0.23100292682647705,
           0.16031286120414734,
           0.9999998807907104,
           0.8248997926712036,
           0.061362482607364655,
           0.15514566004276276,
           0.020013004541397095,
           0.027079489082098007
          ],
          [
           0.3073112964630127,
           0.2303052395582199,
           0.367490291595459,
           0.29408034682273865,
           0.2444583624601364,
           0.19746124744415283,
           0.27918198704719543,
           0.228971928358078,
           0.6255484819412231,
           0.6219506859779358,
           0.248423233628273,
           0.2570556104183197,
           0.2626263499259949,
           0.14511112868785858,
           0.25389567017555237,
           0.2841096818447113,
           0.2200314998626709,
           0.18244560062885284,
           0.323091596364975,
           0.30807048082351685,
           0.19518934190273285,
           0.38843297958374023,
           0.24891546368598938,
           0.1919441670179367,
           0.18049876391887665,
           0.2267400622367859,
           0.20939232409000397,
           0.11869663000106812,
           0.2373332381248474,
           0.3255767822265625,
           0.24683144688606262,
           0.26855507493019104,
           0.0489840991795063,
           0.2427135705947876,
           0.2726014256477356,
           0.8248997926712036,
           1.000000238418579,
           0.10585828870534897,
           0.18915528059005737,
           0.0618581622838974,
           0.11905936896800995
          ],
          [
           0.23995614051818848,
           0.21189001202583313,
           0.23072339594364166,
           0.28251272439956665,
           0.24847164750099182,
           0.20348334312438965,
           0.15698382258415222,
           0.1880602240562439,
           -0.01290934719145298,
           -0.01989053189754486,
           0.05977057293057442,
           -0.06222184747457504,
           0.26967522501945496,
           0.21352289617061615,
           0.13127022981643677,
           0.12664684653282166,
           0.17674702405929565,
           0.33321088552474976,
           0.3040936291217804,
           0.12367740273475647,
           0.15558582544326782,
           0.08738598227500916,
           0.17456306517124176,
           0.03872404620051384,
           0.1843857765197754,
           0.1821942925453186,
           0.152082622051239,
           0.09794503450393677,
           0.10109090805053711,
           0.21463383734226227,
           0.29907122254371643,
           0.01809251308441162,
           0.263954758644104,
           0.007277838885784149,
           0.10757844895124435,
           0.061362482607364655,
           0.10585828870534897,
           0.9999998807907104,
           0.012400723062455654,
           0.31373974680900574,
           0.06398392468690872
          ],
          [
           0.23846837878227234,
           0.2868126630783081,
           0.09048787504434586,
           0.294136106967926,
           0.15826165676116943,
           0.11460760980844498,
           0.22080335021018982,
           0.17293484508991241,
           0.16209818422794342,
           0.16068965196609497,
           0.34313297271728516,
           0.31426388025283813,
           0.2601719796657562,
           0.18168926239013672,
           0.2612271308898926,
           0.20333069562911987,
           0.20364387333393097,
           0.17327383160591125,
           0.23664957284927368,
           0.18675553798675537,
           0.1392490416765213,
           0.25016289949417114,
           0.20645105838775635,
           0.16659370064735413,
           0.24289721250534058,
           0.22303667664527893,
           0.1873040795326233,
           0.11854685842990875,
           0.25150632858276367,
           0.2011173814535141,
           0.2840883731842041,
           0.1583101749420166,
           -0.025894775986671448,
           0.281358003616333,
           0.15669167041778564,
           0.15514566004276276,
           0.18915528059005737,
           0.012400723062455654,
           1,
           0.01618156209588051,
           0.06725543737411499
          ],
          [
           0.12300105392932892,
           0.13015258312225342,
           0.12495847046375275,
           0.14419490098953247,
           0.21869084239006042,
           0.2701364755630493,
           0.2010154128074646,
           0.17476826906204224,
           -0.02154739387333393,
           -0.024549806490540504,
           -0.06806059926748276,
           0.07621802389621735,
           0.27120086550712585,
           0.13333919644355774,
           0.09347714483737946,
           0.03131614997982979,
           0.010786736384034157,
           0.21167397499084473,
           0.01911872625350952,
           0.08215540647506714,
           0.08323536068201065,
           0.04985979571938515,
           0.04955504834651947,
           0.018998675048351288,
           0.05984267592430115,
           0.096257783472538,
           0.05659634992480278,
           0.02646830305457115,
           0.09600178152322769,
           -0.04877038300037384,
           0.11215460300445557,
           0.07646982371807098,
           -0.00027579814195632935,
           0.0673307254910469,
           0.04750044271349907,
           0.020013004541397095,
           0.0618581622838974,
           0.31373974680900574,
           0.01618156209588051,
           1,
           0.12921682000160217
          ],
          [
           0.2913648188114166,
           0.19500118494033813,
           0.21923622488975525,
           0.1818712055683136,
           0.2374749779701233,
           0.2262009084224701,
           0.3192359507083893,
           0.2798401415348053,
           0.12863284349441528,
           0.12717105448246002,
           0.0674707293510437,
           0.014603661373257637,
           0.08169037103652954,
           0.07849320024251938,
           0.20103955268859863,
           0.14339040219783783,
           0.16394275426864624,
           0.11739693582057953,
           0.0793270468711853,
           0.05097319558262825,
           -0.005706735886633396,
           0.2355002462863922,
           0.13986702263355255,
           0.1000995934009552,
           0.20298618078231812,
           0.2239709198474884,
           0.21612556278705597,
           0.1186414435505867,
           0.1643110066652298,
           0.09803290665149689,
           0.13774757087230682,
           0.08495497703552246,
           0.015147557482123375,
           0.019766906276345253,
           0.04574260115623474,
           0.027079489082098007,
           0.11905936896800995,
           0.06398392468690872,
           0.06725543737411499,
           0.12921682000160217,
           1
          ]
         ]
        }
       ],
       "layout": {
        "coloraxis": {
         "colorbar": {
          "title": {
           "text": "Similarity Score"
          }
         },
         "colorscale": [
          [
           0,
           "rgb(247,252,240)"
          ],
          [
           0.125,
           "rgb(224,243,219)"
          ],
          [
           0.25,
           "rgb(204,235,197)"
          ],
          [
           0.375,
           "rgb(168,221,181)"
          ],
          [
           0.5,
           "rgb(123,204,196)"
          ],
          [
           0.625,
           "rgb(78,179,211)"
          ],
          [
           0.75,
           "rgb(43,140,190)"
          ],
          [
           0.875,
           "rgb(8,104,172)"
          ],
          [
           1,
           "rgb(8,64,129)"
          ]
         ]
        },
        "height": 800,
        "hoverlabel": {
         "bgcolor": "white",
         "font": {
          "family": "Rockwell",
          "size": 16
         }
        },
        "legend": {
         "title": {
          "text": "Trend"
         }
        },
        "margin": {
         "t": 60
        },
        "showlegend": true,
        "template": {
         "data": {
          "bar": [
           {
            "error_x": {
             "color": "#2a3f5f"
            },
            "error_y": {
             "color": "#2a3f5f"
            },
            "marker": {
             "line": {
              "color": "#E5ECF6",
              "width": 0.5
             },
             "pattern": {
              "fillmode": "overlay",
              "size": 10,
              "solidity": 0.2
             }
            },
            "type": "bar"
           }
          ],
          "barpolar": [
           {
            "marker": {
             "line": {
              "color": "#E5ECF6",
              "width": 0.5
             },
             "pattern": {
              "fillmode": "overlay",
              "size": 10,
              "solidity": 0.2
             }
            },
            "type": "barpolar"
           }
          ],
          "carpet": [
           {
            "aaxis": {
             "endlinecolor": "#2a3f5f",
             "gridcolor": "white",
             "linecolor": "white",
             "minorgridcolor": "white",
             "startlinecolor": "#2a3f5f"
            },
            "baxis": {
             "endlinecolor": "#2a3f5f",
             "gridcolor": "white",
             "linecolor": "white",
             "minorgridcolor": "white",
             "startlinecolor": "#2a3f5f"
            },
            "type": "carpet"
           }
          ],
          "choropleth": [
           {
            "colorbar": {
             "outlinewidth": 0,
             "ticks": ""
            },
            "type": "choropleth"
           }
          ],
          "contour": [
           {
            "colorbar": {
             "outlinewidth": 0,
             "ticks": ""
            },
            "colorscale": [
             [
              0,
              "#0d0887"
             ],
             [
              0.1111111111111111,
              "#46039f"
             ],
             [
              0.2222222222222222,
              "#7201a8"
             ],
             [
              0.3333333333333333,
              "#9c179e"
             ],
             [
              0.4444444444444444,
              "#bd3786"
             ],
             [
              0.5555555555555556,
              "#d8576b"
             ],
             [
              0.6666666666666666,
              "#ed7953"
             ],
             [
              0.7777777777777778,
              "#fb9f3a"
             ],
             [
              0.8888888888888888,
              "#fdca26"
             ],
             [
              1,
              "#f0f921"
             ]
            ],
            "type": "contour"
           }
          ],
          "contourcarpet": [
           {
            "colorbar": {
             "outlinewidth": 0,
             "ticks": ""
            },
            "type": "contourcarpet"
           }
          ],
          "heatmap": [
           {
            "colorbar": {
             "outlinewidth": 0,
             "ticks": ""
            },
            "colorscale": [
             [
              0,
              "#0d0887"
             ],
             [
              0.1111111111111111,
              "#46039f"
             ],
             [
              0.2222222222222222,
              "#7201a8"
             ],
             [
              0.3333333333333333,
              "#9c179e"
             ],
             [
              0.4444444444444444,
              "#bd3786"
             ],
             [
              0.5555555555555556,
              "#d8576b"
             ],
             [
              0.6666666666666666,
              "#ed7953"
             ],
             [
              0.7777777777777778,
              "#fb9f3a"
             ],
             [
              0.8888888888888888,
              "#fdca26"
             ],
             [
              1,
              "#f0f921"
             ]
            ],
            "type": "heatmap"
           }
          ],
          "heatmapgl": [
           {
            "colorbar": {
             "outlinewidth": 0,
             "ticks": ""
            },
            "colorscale": [
             [
              0,
              "#0d0887"
             ],
             [
              0.1111111111111111,
              "#46039f"
             ],
             [
              0.2222222222222222,
              "#7201a8"
             ],
             [
              0.3333333333333333,
              "#9c179e"
             ],
             [
              0.4444444444444444,
              "#bd3786"
             ],
             [
              0.5555555555555556,
              "#d8576b"
             ],
             [
              0.6666666666666666,
              "#ed7953"
             ],
             [
              0.7777777777777778,
              "#fb9f3a"
             ],
             [
              0.8888888888888888,
              "#fdca26"
             ],
             [
              1,
              "#f0f921"
             ]
            ],
            "type": "heatmapgl"
           }
          ],
          "histogram": [
           {
            "marker": {
             "pattern": {
              "fillmode": "overlay",
              "size": 10,
              "solidity": 0.2
             }
            },
            "type": "histogram"
           }
          ],
          "histogram2d": [
           {
            "colorbar": {
             "outlinewidth": 0,
             "ticks": ""
            },
            "colorscale": [
             [
              0,
              "#0d0887"
             ],
             [
              0.1111111111111111,
              "#46039f"
             ],
             [
              0.2222222222222222,
              "#7201a8"
             ],
             [
              0.3333333333333333,
              "#9c179e"
             ],
             [
              0.4444444444444444,
              "#bd3786"
             ],
             [
              0.5555555555555556,
              "#d8576b"
             ],
             [
              0.6666666666666666,
              "#ed7953"
             ],
             [
              0.7777777777777778,
              "#fb9f3a"
             ],
             [
              0.8888888888888888,
              "#fdca26"
             ],
             [
              1,
              "#f0f921"
             ]
            ],
            "type": "histogram2d"
           }
          ],
          "histogram2dcontour": [
           {
            "colorbar": {
             "outlinewidth": 0,
             "ticks": ""
            },
            "colorscale": [
             [
              0,
              "#0d0887"
             ],
             [
              0.1111111111111111,
              "#46039f"
             ],
             [
              0.2222222222222222,
              "#7201a8"
             ],
             [
              0.3333333333333333,
              "#9c179e"
             ],
             [
              0.4444444444444444,
              "#bd3786"
             ],
             [
              0.5555555555555556,
              "#d8576b"
             ],
             [
              0.6666666666666666,
              "#ed7953"
             ],
             [
              0.7777777777777778,
              "#fb9f3a"
             ],
             [
              0.8888888888888888,
              "#fdca26"
             ],
             [
              1,
              "#f0f921"
             ]
            ],
            "type": "histogram2dcontour"
           }
          ],
          "mesh3d": [
           {
            "colorbar": {
             "outlinewidth": 0,
             "ticks": ""
            },
            "type": "mesh3d"
           }
          ],
          "parcoords": [
           {
            "line": {
             "colorbar": {
              "outlinewidth": 0,
              "ticks": ""
             }
            },
            "type": "parcoords"
           }
          ],
          "pie": [
           {
            "automargin": true,
            "type": "pie"
           }
          ],
          "scatter": [
           {
            "fillpattern": {
             "fillmode": "overlay",
             "size": 10,
             "solidity": 0.2
            },
            "type": "scatter"
           }
          ],
          "scatter3d": [
           {
            "line": {
             "colorbar": {
              "outlinewidth": 0,
              "ticks": ""
             }
            },
            "marker": {
             "colorbar": {
              "outlinewidth": 0,
              "ticks": ""
             }
            },
            "type": "scatter3d"
           }
          ],
          "scattercarpet": [
           {
            "marker": {
             "colorbar": {
              "outlinewidth": 0,
              "ticks": ""
             }
            },
            "type": "scattercarpet"
           }
          ],
          "scattergeo": [
           {
            "marker": {
             "colorbar": {
              "outlinewidth": 0,
              "ticks": ""
             }
            },
            "type": "scattergeo"
           }
          ],
          "scattergl": [
           {
            "marker": {
             "colorbar": {
              "outlinewidth": 0,
              "ticks": ""
             }
            },
            "type": "scattergl"
           }
          ],
          "scattermapbox": [
           {
            "marker": {
             "colorbar": {
              "outlinewidth": 0,
              "ticks": ""
             }
            },
            "type": "scattermapbox"
           }
          ],
          "scatterpolar": [
           {
            "marker": {
             "colorbar": {
              "outlinewidth": 0,
              "ticks": ""
             }
            },
            "type": "scatterpolar"
           }
          ],
          "scatterpolargl": [
           {
            "marker": {
             "colorbar": {
              "outlinewidth": 0,
              "ticks": ""
             }
            },
            "type": "scatterpolargl"
           }
          ],
          "scatterternary": [
           {
            "marker": {
             "colorbar": {
              "outlinewidth": 0,
              "ticks": ""
             }
            },
            "type": "scatterternary"
           }
          ],
          "surface": [
           {
            "colorbar": {
             "outlinewidth": 0,
             "ticks": ""
            },
            "colorscale": [
             [
              0,
              "#0d0887"
             ],
             [
              0.1111111111111111,
              "#46039f"
             ],
             [
              0.2222222222222222,
              "#7201a8"
             ],
             [
              0.3333333333333333,
              "#9c179e"
             ],
             [
              0.4444444444444444,
              "#bd3786"
             ],
             [
              0.5555555555555556,
              "#d8576b"
             ],
             [
              0.6666666666666666,
              "#ed7953"
             ],
             [
              0.7777777777777778,
              "#fb9f3a"
             ],
             [
              0.8888888888888888,
              "#fdca26"
             ],
             [
              1,
              "#f0f921"
             ]
            ],
            "type": "surface"
           }
          ],
          "table": [
           {
            "cells": {
             "fill": {
              "color": "#EBF0F8"
             },
             "line": {
              "color": "white"
             }
            },
            "header": {
             "fill": {
              "color": "#C8D4E3"
             },
             "line": {
              "color": "white"
             }
            },
            "type": "table"
           }
          ]
         },
         "layout": {
          "annotationdefaults": {
           "arrowcolor": "#2a3f5f",
           "arrowhead": 0,
           "arrowwidth": 1
          },
          "autotypenumbers": "strict",
          "coloraxis": {
           "colorbar": {
            "outlinewidth": 0,
            "ticks": ""
           }
          },
          "colorscale": {
           "diverging": [
            [
             0,
             "#8e0152"
            ],
            [
             0.1,
             "#c51b7d"
            ],
            [
             0.2,
             "#de77ae"
            ],
            [
             0.3,
             "#f1b6da"
            ],
            [
             0.4,
             "#fde0ef"
            ],
            [
             0.5,
             "#f7f7f7"
            ],
            [
             0.6,
             "#e6f5d0"
            ],
            [
             0.7,
             "#b8e186"
            ],
            [
             0.8,
             "#7fbc41"
            ],
            [
             0.9,
             "#4d9221"
            ],
            [
             1,
             "#276419"
            ]
           ],
           "sequential": [
            [
             0,
             "#0d0887"
            ],
            [
             0.1111111111111111,
             "#46039f"
            ],
            [
             0.2222222222222222,
             "#7201a8"
            ],
            [
             0.3333333333333333,
             "#9c179e"
            ],
            [
             0.4444444444444444,
             "#bd3786"
            ],
            [
             0.5555555555555556,
             "#d8576b"
            ],
            [
             0.6666666666666666,
             "#ed7953"
            ],
            [
             0.7777777777777778,
             "#fb9f3a"
            ],
            [
             0.8888888888888888,
             "#fdca26"
            ],
            [
             1,
             "#f0f921"
            ]
           ],
           "sequentialminus": [
            [
             0,
             "#0d0887"
            ],
            [
             0.1111111111111111,
             "#46039f"
            ],
            [
             0.2222222222222222,
             "#7201a8"
            ],
            [
             0.3333333333333333,
             "#9c179e"
            ],
            [
             0.4444444444444444,
             "#bd3786"
            ],
            [
             0.5555555555555556,
             "#d8576b"
            ],
            [
             0.6666666666666666,
             "#ed7953"
            ],
            [
             0.7777777777777778,
             "#fb9f3a"
            ],
            [
             0.8888888888888888,
             "#fdca26"
            ],
            [
             1,
             "#f0f921"
            ]
           ]
          },
          "colorway": [
           "#636efa",
           "#EF553B",
           "#00cc96",
           "#ab63fa",
           "#FFA15A",
           "#19d3f3",
           "#FF6692",
           "#B6E880",
           "#FF97FF",
           "#FECB52"
          ],
          "font": {
           "color": "#2a3f5f"
          },
          "geo": {
           "bgcolor": "white",
           "lakecolor": "white",
           "landcolor": "#E5ECF6",
           "showlakes": true,
           "showland": true,
           "subunitcolor": "white"
          },
          "hoverlabel": {
           "align": "left"
          },
          "hovermode": "closest",
          "mapbox": {
           "style": "light"
          },
          "paper_bgcolor": "white",
          "plot_bgcolor": "#E5ECF6",
          "polar": {
           "angularaxis": {
            "gridcolor": "white",
            "linecolor": "white",
            "ticks": ""
           },
           "bgcolor": "#E5ECF6",
           "radialaxis": {
            "gridcolor": "white",
            "linecolor": "white",
            "ticks": ""
           }
          },
          "scene": {
           "xaxis": {
            "backgroundcolor": "#E5ECF6",
            "gridcolor": "white",
            "gridwidth": 2,
            "linecolor": "white",
            "showbackground": true,
            "ticks": "",
            "zerolinecolor": "white"
           },
           "yaxis": {
            "backgroundcolor": "#E5ECF6",
            "gridcolor": "white",
            "gridwidth": 2,
            "linecolor": "white",
            "showbackground": true,
            "ticks": "",
            "zerolinecolor": "white"
           },
           "zaxis": {
            "backgroundcolor": "#E5ECF6",
            "gridcolor": "white",
            "gridwidth": 2,
            "linecolor": "white",
            "showbackground": true,
            "ticks": "",
            "zerolinecolor": "white"
           }
          },
          "shapedefaults": {
           "line": {
            "color": "#2a3f5f"
           }
          },
          "ternary": {
           "aaxis": {
            "gridcolor": "white",
            "linecolor": "white",
            "ticks": ""
           },
           "baxis": {
            "gridcolor": "white",
            "linecolor": "white",
            "ticks": ""
           },
           "bgcolor": "#E5ECF6",
           "caxis": {
            "gridcolor": "white",
            "linecolor": "white",
            "ticks": ""
           }
          },
          "title": {
           "x": 0.05
          },
          "xaxis": {
           "automargin": true,
           "gridcolor": "white",
           "linecolor": "white",
           "ticks": "",
           "title": {
            "standoff": 15
           },
           "zerolinecolor": "white",
           "zerolinewidth": 2
          },
          "yaxis": {
           "automargin": true,
           "gridcolor": "white",
           "linecolor": "white",
           "ticks": "",
           "title": {
            "standoff": 15
           },
           "zerolinecolor": "white",
           "zerolinewidth": 2
          }
         }
        },
        "title": {
         "font": {
          "color": "Black",
          "size": 22
         },
         "text": "<b>Similarity Matrix</b>",
         "x": 0.55,
         "xanchor": "center",
         "y": 0.95,
         "yanchor": "top"
        },
        "width": 800,
        "xaxis": {
         "anchor": "y",
         "constrain": "domain",
         "domain": [
          0,
          1
         ],
         "scaleanchor": "y"
        },
        "yaxis": {
         "anchor": "x",
         "autorange": "reversed",
         "constrain": "domain",
         "domain": [
          0,
          1
         ]
        }
       }
      }
     },
     "metadata": {},
     "output_type": "display_data"
    }
   ],
   "source": [
    "model.visualize_heatmap(n_clusters=20, top_n_topics=100)\n"
   ]
  },
  {
   "cell_type": "code",
   "execution_count": null,
   "metadata": {},
   "outputs": [
    {
     "name": "stderr",
     "output_type": "stream",
     "text": [
      "0it [00:00, ?it/s]"
     ]
    },
    {
     "name": "stderr",
     "output_type": "stream",
     "text": [
      "52it [00:00, 59.95it/s]\n"
     ]
    },
    {
     "data": {
      "application/vnd.plotly.v1+json": {
       "config": {
        "plotlyServerURL": "https://plot.ly"
       },
       "data": [
        {
         "hoverinfo": "text",
         "hovertext": [
          "<b>Topic 1</b><br>Words: ert, internatnal, nancial, asset, sadiego",
          "<b>Topic 1</b><br>Words: journal, ters, cambridge, nancial, york",
          "<b>Topic 1</b><br>Words: farmer, psics, ph, ys, rou",
          "<b>Topic 1</b><br>Words: rev, brand, ys, optprici, ph",
          "<b>Topic 1</b><br>Words: princeto, obey, calculus, markets, oatnal",
          "<b>Topic 1</b><br>Words: psics, chara, statistical, journal, bart",
          "<b>Topic 1</b><br>Words: low, volatity, business, matcs, estimati",
          "<b>Topic 1</b><br>Words: mayer, math, beescr, nom, free",
          "<b>Topic 1</b><br>Words: pe, istochastic, path, ux, par",
          "<b>Topic 1</b><br>Words: journal, nance, prici, tnal, nancial",
          "<b>Topic 1</b><br>Words: vno, consumer, nancial, disetnary, care",
          "<b>Topic 1</b><br>Words: journal, nancial, nance, cox, ross",
          "<b>Topic 1</b><br>Words: antov, mass, seor, jac, journal",
          "<b>Topic 1</b><br>Words: rough, aqu, journal, ssel, hawks",
          "<b>Topic 1</b><br>Words: share, tfour, seez, seunless, seors",
          "<b>Topic 1</b><br>Words: aer, makers, evans, swap, team",
          "<b>Topic 1</b><br>Words: journal, causal, nance, economics, economic",
          "<b>Topic 1</b><br>Words: journal, nance, ajournal, idari, branas"
         ],
         "marker": {
          "color": "#E69F00"
         },
         "mode": "lines",
         "name": "1_journal_nance_nancial_psics",
         "type": "scatter",
         "x": [
          "2000-06-02T12:03:25+00:00",
          "2002-03-03T23:59:06+00:00",
          "2002-03-25T12:53:09+00:00",
          "2004-02-29T22:06:05+00:00",
          "2009-01-14T07:47:18+00:00",
          "2009-09-10T15:25:45+00:00",
          "2009-12-08T21:47:01+00:00",
          "2010-02-14T01:32:57+00:00",
          "2016-02-19T10:13:34+00:00",
          "2018-02-05T09:26:13+00:00",
          "2019-07-09T21:33:49+00:00",
          "2019-08-14T05:22:32+00:00",
          "2020-11-01T16:49:58+00:00",
          "2021-03-17T14:43:30+00:00",
          "2021-06-08T05:26:58+00:00",
          "2022-12-21T12:22:50+00:00",
          "2023-11-28T07:28:08+00:00",
          "2024-01-03T14:06:06+00:00"
         ],
         "y": [
          2,
          1,
          1,
          1,
          2,
          6,
          1,
          1,
          1,
          2,
          9,
          3,
          1,
          3,
          1,
          2,
          3,
          3
         ]
        },
        {
         "hoverinfo": "text",
         "hovertext": [
          "<b>Topic 2</b><br>Words: usteri, tables, subse, mtns, hts"
         ],
         "marker": {
          "color": "#56B4E9"
         },
         "mode": "lines",
         "name": "2_usteri_tables_subse_mtns",
         "type": "scatter",
         "x": [
          "2017-03-02T10:39:59+00:00"
         ],
         "y": [
          38
         ]
        },
        {
         "hoverinfo": "text",
         "hovertext": [
          "<b>Topic 3</b><br>Words: net, neural, vaor, kh, networks",
          "<b>Topic 3</b><br>Words: bermuda, ep, adam, learni, surface",
          "<b>Topic 3</b><br>Words: tsihua, network, guaxi, neural, faor",
          "<b>Topic 3</b><br>Words: miami, nakagawa, major, ep, conference",
          "<b>Topic 3</b><br>Words: ya, ep, learni, tradi, reinforcement",
          "<b>Topic 3</b><br>Words: racer, us, lli, ops, ya",
          "<b>Topic 3</b><br>Words: results, strategy, bands, result, aro",
          "<b>Topic 3</b><br>Words: iep, nance, ep, learni, noeichmanwood",
          "<b>Topic 3</b><br>Words: nberg, modi, lia, ni, ros"
         ],
         "marker": {
          "color": "#009E73"
         },
         "mode": "lines",
         "name": "3_racer_ya_ep_learni",
         "type": "scatter",
         "x": [
          "2018-01-09T03:35:20+00:00",
          "2019-11-27T15:45:06+00:00",
          "2020-08-14T07:44:49+00:00",
          "2021-06-08T05:26:58+00:00",
          "2021-11-07T00:34:32+00:00",
          "2021-11-07T01:03:15+00:00",
          "2022-02-23T05:02:27+00:00",
          "2022-05-09T23:57:47+00:00",
          "2023-11-28T07:28:08+00:00"
         ],
         "y": [
          7,
          5,
          1,
          2,
          9,
          9,
          1,
          2,
          1
         ]
        },
        {
         "hoverinfo": "text",
         "hovertext": [
          "<b>Topic 4</b><br>Words: st, winner, former, seller, dow",
          "<b>Topic 4</b><br>Words: next, brownish, with, note, st",
          "<b>Topic 4</b><br>Words: st, vt, dt, suppose, vc",
          "<b>Topic 4</b><br>Words: st, veuro, mgood, wabove, furtr",
          "<b>Topic 4</b><br>Words: st, introduat, goldmaabstra, jun, mid",
          "<b>Topic 4</b><br>Words: analytic, st, greefunrel, place, catable",
          "<b>Topic 4</b><br>Words: st, gt, et, mult, rt",
          "<b>Topic 4</b><br>Words: usly, brancollege, st, tag, vt"
         ],
         "marker": {
          "color": "#F0E442"
         },
         "mode": "lines",
         "name": "4_st_et_vt_gt",
         "type": "scatter",
         "x": [
          "2002-03-03T23:59:06+00:00",
          "2004-02-29T22:06:05+00:00",
          "2014-05-07T01:13:23+00:00",
          "2015-07-26T16:19:17+00:00",
          "2018-12-10T09:36:39+00:00",
          "2021-02-16T18:22:12+00:00",
          "2021-06-08T05:26:58+00:00",
          "2023-10-13T15:19:31+00:00"
         ],
         "y": [
          2,
          1,
          19,
          1,
          1,
          1,
          8,
          1
         ]
        },
        {
         "hoverinfo": "text",
         "hovertext": [
          "<b>Topic 5</b><br>Words: ts, ters, brand, all, market",
          "<b>Topic 5</b><br>Words: ptrow, psics, newmamorgenstertory, usb, klemer",
          "<b>Topic 5</b><br>Words: krishna, rou, intellence, stanley, ph",
          "<b>Topic 5</b><br>Words: dance, ph, stanford, ic, solutns",
          "<b>Topic 5</b><br>Words: nature, li, gut, intellence, wa",
          "<b>Topic 5</b><br>Words: my, kelly, vno, michael, chi",
          "<b>Topic 5</b><br>Words: intellence, nature, gut, articial, li",
          "<b>Topic 5</b><br>Words: free, guerre, du, la, fu",
          "<b>Topic 5</b><br>Words: ix, xs, id, iya, rd",
          "<b>Topic 5</b><br>Words: mao, ec, genetic, raw, via",
          "<b>Topic 5</b><br>Words: ya, wa, global, alta, barra",
          "<b>Topic 5</b><br>Words: font, quant, icombini, shorte, hg",
          "<b>Topic 5</b><br>Words: qo, alexanr, ky, gui, phippe"
         ],
         "marker": {
          "color": "#D55E00"
         },
         "mode": "lines",
         "name": "5_intellence_nature_articial_li",
         "type": "scatter",
         "x": [
          "2004-02-29T22:06:05+00:00",
          "2004-06-18T12:50:24+00:00",
          "2009-09-10T15:25:45+00:00",
          "2014-05-07T01:13:23+00:00",
          "2016-04-29T09:11:34+00:00",
          "2016-09-30T05:39:05+00:00",
          "2017-03-02T10:39:59+00:00",
          "2018-02-05T09:26:13+00:00",
          "2020-05-30T08:14:49+00:00",
          "2020-08-14T07:44:49+00:00",
          "2020-09-22T12:57:10+00:00",
          "2021-06-08T05:26:58+00:00",
          "2024-01-03T14:06:06+00:00"
         ],
         "y": [
          1,
          1,
          1,
          1,
          9,
          1,
          10,
          2,
          1,
          1,
          1,
          2,
          2
         ]
        },
        {
         "hoverinfo": "text",
         "hovertext": [
          "<b>Topic 6</b><br>Words: subse, mtns, tables, hts, uster"
         ],
         "marker": {
          "color": "#0072B2"
         },
         "mode": "lines",
         "name": "6_subse_mtns_tables_hts",
         "type": "scatter",
         "x": [
          "2017-03-02T10:39:59+00:00"
         ],
         "y": [
          32
         ]
        },
        {
         "hoverinfo": "text",
         "hovertext": [
          "<b>Topic 7</b><br>Words: ke, iyields, through, pad, simarly",
          "<b>Topic 7</b><br>Words: subia, ime, time, normalized, onumber",
          "<b>Topic 7</b><br>Words: time, normalized, ly, modi, zoom",
          "<b>Topic 7</b><br>Words: wliam, share, leaedward, conusit, referencleonard",
          "<b>Topic 7</b><br>Words: time, leaf, storm, price, ma",
          "<b>Topic 7</b><br>Words: time, price, elori, assic, keltner"
         ],
         "marker": {
          "color": "#CC79A7"
         },
         "mode": "lines",
         "name": "7_time_price_elori_assic",
         "type": "scatter",
         "x": [
          "2004-02-29T22:06:05+00:00",
          "2009-09-10T15:25:45+00:00",
          "2011-02-03T13:46:49+00:00",
          "2018-02-13T00:49:20+00:00",
          "2019-07-09T21:33:49+00:00",
          "2022-02-23T05:02:27+00:00"
         ],
         "y": [
          1,
          1,
          3,
          1,
          1,
          24
         ]
        },
        {
         "hoverinfo": "text",
         "hovertext": [
          "<b>Topic 8</b><br>Words: from, tse, note, to, for",
          "<b>Topic 8</b><br>Words: si, ivery, ance, iour, had",
          "<b>Topic 8</b><br>Words: dasd, pt, tpt, cired, dots",
          "<b>Topic 8</b><br>Words: ness, donot, iotr, samplskew, words",
          "<b>Topic 8</b><br>Words: tg, at, note, re, forwards",
          "<b>Topic 8</b><br>Words: map, tg, researcr, an, for",
          "<b>Topic 8</b><br>Words: anotr, caho, atrars, square, asyetry",
          "<b>Topic 8</b><br>Words: arithmetic, asince, si, with, be",
          "<b>Topic 8</b><br>Words: bat, ged, on, size, that",
          "<b>Topic 8</b><br>Words: but, suhawks, evemay, suemically, cafrom",
          "<b>Topic 8</b><br>Words: researcr, an, revier, day, son",
          "<b>Topic 8</b><br>Words: before, withaa, tfol, iafor, dick",
          "<b>Topic 8</b><br>Words: eh, eisenberg, sein, phras, flesh"
         ],
         "marker": {
          "color": "#E69F00"
         },
         "mode": "lines",
         "name": "8_tg_researcr_an_for",
         "type": "scatter",
         "x": [
          "2000-01-31T03:48:42+00:00",
          "2000-06-02T12:03:25+00:00",
          "2002-03-03T23:59:06+00:00",
          "2009-01-14T07:47:18+00:00",
          "2014-05-07T01:13:23+00:00",
          "2016-02-19T10:13:34+00:00",
          "2019-07-09T21:33:49+00:00",
          "2019-08-14T05:22:32+00:00",
          "2019-11-27T15:45:06+00:00",
          "2021-03-17T14:43:30+00:00",
          "2021-12-27T14:48:03+00:00",
          "2022-12-21T12:22:50+00:00",
          "2024-01-03T14:06:06+00:00"
         ],
         "y": [
          1,
          2,
          1,
          1,
          4,
          1,
          4,
          1,
          1,
          1,
          4,
          8,
          1
         ]
        },
        {
         "hoverinfo": "text",
         "hovertext": [
          "<b>Topic 9</b><br>Words: is, rank, yu, sha, hare",
          "<b>Topic 9</b><br>Words: yu, sha, is, rank, so",
          "<b>Topic 9</b><br>Words: tul, sha, chi, otse, aro"
         ],
         "marker": {
          "color": "#56B4E9"
         },
         "mode": "lines",
         "name": "9_is_yu_sha_rank",
         "type": "scatter",
         "x": [
          "2016-04-29T09:11:34+00:00",
          "2017-03-02T10:39:59+00:00",
          "2022-02-23T05:02:27+00:00"
         ],
         "y": [
          14,
          13,
          1
         ]
        },
        {
         "hoverinfo": "text",
         "hovertext": [
          "<b>Topic 10</b><br>Words: eq, ki, ui, multiplayer, page"
         ],
         "marker": {
          "color": "#009E73"
         },
         "mode": "lines",
         "name": "10_eq_ki_ui_multiplayer",
         "type": "scatter",
         "x": [
          "2021-02-16T18:22:12+00:00"
         ],
         "y": [
          23
         ]
        }
       ],
       "layout": {
        "height": 450,
        "hoverlabel": {
         "bgcolor": "white",
         "font": {
          "family": "Rockwell",
          "size": 16
         }
        },
        "legend": {
         "title": {
          "text": "<b>Global Topic Representation"
         }
        },
        "template": {
         "data": {
          "bar": [
           {
            "error_x": {
             "color": "rgb(36,36,36)"
            },
            "error_y": {
             "color": "rgb(36,36,36)"
            },
            "marker": {
             "line": {
              "color": "white",
              "width": 0.5
             },
             "pattern": {
              "fillmode": "overlay",
              "size": 10,
              "solidity": 0.2
             }
            },
            "type": "bar"
           }
          ],
          "barpolar": [
           {
            "marker": {
             "line": {
              "color": "white",
              "width": 0.5
             },
             "pattern": {
              "fillmode": "overlay",
              "size": 10,
              "solidity": 0.2
             }
            },
            "type": "barpolar"
           }
          ],
          "carpet": [
           {
            "aaxis": {
             "endlinecolor": "rgb(36,36,36)",
             "gridcolor": "white",
             "linecolor": "white",
             "minorgridcolor": "white",
             "startlinecolor": "rgb(36,36,36)"
            },
            "baxis": {
             "endlinecolor": "rgb(36,36,36)",
             "gridcolor": "white",
             "linecolor": "white",
             "minorgridcolor": "white",
             "startlinecolor": "rgb(36,36,36)"
            },
            "type": "carpet"
           }
          ],
          "choropleth": [
           {
            "colorbar": {
             "outlinewidth": 1,
             "tickcolor": "rgb(36,36,36)",
             "ticks": "outside"
            },
            "type": "choropleth"
           }
          ],
          "contour": [
           {
            "colorbar": {
             "outlinewidth": 1,
             "tickcolor": "rgb(36,36,36)",
             "ticks": "outside"
            },
            "colorscale": [
             [
              0,
              "#440154"
             ],
             [
              0.1111111111111111,
              "#482878"
             ],
             [
              0.2222222222222222,
              "#3e4989"
             ],
             [
              0.3333333333333333,
              "#31688e"
             ],
             [
              0.4444444444444444,
              "#26828e"
             ],
             [
              0.5555555555555556,
              "#1f9e89"
             ],
             [
              0.6666666666666666,
              "#35b779"
             ],
             [
              0.7777777777777778,
              "#6ece58"
             ],
             [
              0.8888888888888888,
              "#b5de2b"
             ],
             [
              1,
              "#fde725"
             ]
            ],
            "type": "contour"
           }
          ],
          "contourcarpet": [
           {
            "colorbar": {
             "outlinewidth": 1,
             "tickcolor": "rgb(36,36,36)",
             "ticks": "outside"
            },
            "type": "contourcarpet"
           }
          ],
          "heatmap": [
           {
            "colorbar": {
             "outlinewidth": 1,
             "tickcolor": "rgb(36,36,36)",
             "ticks": "outside"
            },
            "colorscale": [
             [
              0,
              "#440154"
             ],
             [
              0.1111111111111111,
              "#482878"
             ],
             [
              0.2222222222222222,
              "#3e4989"
             ],
             [
              0.3333333333333333,
              "#31688e"
             ],
             [
              0.4444444444444444,
              "#26828e"
             ],
             [
              0.5555555555555556,
              "#1f9e89"
             ],
             [
              0.6666666666666666,
              "#35b779"
             ],
             [
              0.7777777777777778,
              "#6ece58"
             ],
             [
              0.8888888888888888,
              "#b5de2b"
             ],
             [
              1,
              "#fde725"
             ]
            ],
            "type": "heatmap"
           }
          ],
          "heatmapgl": [
           {
            "colorbar": {
             "outlinewidth": 1,
             "tickcolor": "rgb(36,36,36)",
             "ticks": "outside"
            },
            "colorscale": [
             [
              0,
              "#440154"
             ],
             [
              0.1111111111111111,
              "#482878"
             ],
             [
              0.2222222222222222,
              "#3e4989"
             ],
             [
              0.3333333333333333,
              "#31688e"
             ],
             [
              0.4444444444444444,
              "#26828e"
             ],
             [
              0.5555555555555556,
              "#1f9e89"
             ],
             [
              0.6666666666666666,
              "#35b779"
             ],
             [
              0.7777777777777778,
              "#6ece58"
             ],
             [
              0.8888888888888888,
              "#b5de2b"
             ],
             [
              1,
              "#fde725"
             ]
            ],
            "type": "heatmapgl"
           }
          ],
          "histogram": [
           {
            "marker": {
             "line": {
              "color": "white",
              "width": 0.6
             }
            },
            "type": "histogram"
           }
          ],
          "histogram2d": [
           {
            "colorbar": {
             "outlinewidth": 1,
             "tickcolor": "rgb(36,36,36)",
             "ticks": "outside"
            },
            "colorscale": [
             [
              0,
              "#440154"
             ],
             [
              0.1111111111111111,
              "#482878"
             ],
             [
              0.2222222222222222,
              "#3e4989"
             ],
             [
              0.3333333333333333,
              "#31688e"
             ],
             [
              0.4444444444444444,
              "#26828e"
             ],
             [
              0.5555555555555556,
              "#1f9e89"
             ],
             [
              0.6666666666666666,
              "#35b779"
             ],
             [
              0.7777777777777778,
              "#6ece58"
             ],
             [
              0.8888888888888888,
              "#b5de2b"
             ],
             [
              1,
              "#fde725"
             ]
            ],
            "type": "histogram2d"
           }
          ],
          "histogram2dcontour": [
           {
            "colorbar": {
             "outlinewidth": 1,
             "tickcolor": "rgb(36,36,36)",
             "ticks": "outside"
            },
            "colorscale": [
             [
              0,
              "#440154"
             ],
             [
              0.1111111111111111,
              "#482878"
             ],
             [
              0.2222222222222222,
              "#3e4989"
             ],
             [
              0.3333333333333333,
              "#31688e"
             ],
             [
              0.4444444444444444,
              "#26828e"
             ],
             [
              0.5555555555555556,
              "#1f9e89"
             ],
             [
              0.6666666666666666,
              "#35b779"
             ],
             [
              0.7777777777777778,
              "#6ece58"
             ],
             [
              0.8888888888888888,
              "#b5de2b"
             ],
             [
              1,
              "#fde725"
             ]
            ],
            "type": "histogram2dcontour"
           }
          ],
          "mesh3d": [
           {
            "colorbar": {
             "outlinewidth": 1,
             "tickcolor": "rgb(36,36,36)",
             "ticks": "outside"
            },
            "type": "mesh3d"
           }
          ],
          "parcoords": [
           {
            "line": {
             "colorbar": {
              "outlinewidth": 1,
              "tickcolor": "rgb(36,36,36)",
              "ticks": "outside"
             }
            },
            "type": "parcoords"
           }
          ],
          "pie": [
           {
            "automargin": true,
            "type": "pie"
           }
          ],
          "scatter": [
           {
            "fillpattern": {
             "fillmode": "overlay",
             "size": 10,
             "solidity": 0.2
            },
            "type": "scatter"
           }
          ],
          "scatter3d": [
           {
            "line": {
             "colorbar": {
              "outlinewidth": 1,
              "tickcolor": "rgb(36,36,36)",
              "ticks": "outside"
             }
            },
            "marker": {
             "colorbar": {
              "outlinewidth": 1,
              "tickcolor": "rgb(36,36,36)",
              "ticks": "outside"
             }
            },
            "type": "scatter3d"
           }
          ],
          "scattercarpet": [
           {
            "marker": {
             "colorbar": {
              "outlinewidth": 1,
              "tickcolor": "rgb(36,36,36)",
              "ticks": "outside"
             }
            },
            "type": "scattercarpet"
           }
          ],
          "scattergeo": [
           {
            "marker": {
             "colorbar": {
              "outlinewidth": 1,
              "tickcolor": "rgb(36,36,36)",
              "ticks": "outside"
             }
            },
            "type": "scattergeo"
           }
          ],
          "scattergl": [
           {
            "marker": {
             "colorbar": {
              "outlinewidth": 1,
              "tickcolor": "rgb(36,36,36)",
              "ticks": "outside"
             }
            },
            "type": "scattergl"
           }
          ],
          "scattermapbox": [
           {
            "marker": {
             "colorbar": {
              "outlinewidth": 1,
              "tickcolor": "rgb(36,36,36)",
              "ticks": "outside"
             }
            },
            "type": "scattermapbox"
           }
          ],
          "scatterpolar": [
           {
            "marker": {
             "colorbar": {
              "outlinewidth": 1,
              "tickcolor": "rgb(36,36,36)",
              "ticks": "outside"
             }
            },
            "type": "scatterpolar"
           }
          ],
          "scatterpolargl": [
           {
            "marker": {
             "colorbar": {
              "outlinewidth": 1,
              "tickcolor": "rgb(36,36,36)",
              "ticks": "outside"
             }
            },
            "type": "scatterpolargl"
           }
          ],
          "scatterternary": [
           {
            "marker": {
             "colorbar": {
              "outlinewidth": 1,
              "tickcolor": "rgb(36,36,36)",
              "ticks": "outside"
             }
            },
            "type": "scatterternary"
           }
          ],
          "surface": [
           {
            "colorbar": {
             "outlinewidth": 1,
             "tickcolor": "rgb(36,36,36)",
             "ticks": "outside"
            },
            "colorscale": [
             [
              0,
              "#440154"
             ],
             [
              0.1111111111111111,
              "#482878"
             ],
             [
              0.2222222222222222,
              "#3e4989"
             ],
             [
              0.3333333333333333,
              "#31688e"
             ],
             [
              0.4444444444444444,
              "#26828e"
             ],
             [
              0.5555555555555556,
              "#1f9e89"
             ],
             [
              0.6666666666666666,
              "#35b779"
             ],
             [
              0.7777777777777778,
              "#6ece58"
             ],
             [
              0.8888888888888888,
              "#b5de2b"
             ],
             [
              1,
              "#fde725"
             ]
            ],
            "type": "surface"
           }
          ],
          "table": [
           {
            "cells": {
             "fill": {
              "color": "rgb(237,237,237)"
             },
             "line": {
              "color": "white"
             }
            },
            "header": {
             "fill": {
              "color": "rgb(217,217,217)"
             },
             "line": {
              "color": "white"
             }
            },
            "type": "table"
           }
          ]
         },
         "layout": {
          "annotationdefaults": {
           "arrowhead": 0,
           "arrowwidth": 1
          },
          "autotypenumbers": "strict",
          "coloraxis": {
           "colorbar": {
            "outlinewidth": 1,
            "tickcolor": "rgb(36,36,36)",
            "ticks": "outside"
           }
          },
          "colorscale": {
           "diverging": [
            [
             0,
             "rgb(103,0,31)"
            ],
            [
             0.1,
             "rgb(178,24,43)"
            ],
            [
             0.2,
             "rgb(214,96,77)"
            ],
            [
             0.3,
             "rgb(244,165,130)"
            ],
            [
             0.4,
             "rgb(253,219,199)"
            ],
            [
             0.5,
             "rgb(247,247,247)"
            ],
            [
             0.6,
             "rgb(209,229,240)"
            ],
            [
             0.7,
             "rgb(146,197,222)"
            ],
            [
             0.8,
             "rgb(67,147,195)"
            ],
            [
             0.9,
             "rgb(33,102,172)"
            ],
            [
             1,
             "rgb(5,48,97)"
            ]
           ],
           "sequential": [
            [
             0,
             "#440154"
            ],
            [
             0.1111111111111111,
             "#482878"
            ],
            [
             0.2222222222222222,
             "#3e4989"
            ],
            [
             0.3333333333333333,
             "#31688e"
            ],
            [
             0.4444444444444444,
             "#26828e"
            ],
            [
             0.5555555555555556,
             "#1f9e89"
            ],
            [
             0.6666666666666666,
             "#35b779"
            ],
            [
             0.7777777777777778,
             "#6ece58"
            ],
            [
             0.8888888888888888,
             "#b5de2b"
            ],
            [
             1,
             "#fde725"
            ]
           ],
           "sequentialminus": [
            [
             0,
             "#440154"
            ],
            [
             0.1111111111111111,
             "#482878"
            ],
            [
             0.2222222222222222,
             "#3e4989"
            ],
            [
             0.3333333333333333,
             "#31688e"
            ],
            [
             0.4444444444444444,
             "#26828e"
            ],
            [
             0.5555555555555556,
             "#1f9e89"
            ],
            [
             0.6666666666666666,
             "#35b779"
            ],
            [
             0.7777777777777778,
             "#6ece58"
            ],
            [
             0.8888888888888888,
             "#b5de2b"
            ],
            [
             1,
             "#fde725"
            ]
           ]
          },
          "colorway": [
           "#1F77B4",
           "#FF7F0E",
           "#2CA02C",
           "#D62728",
           "#9467BD",
           "#8C564B",
           "#E377C2",
           "#7F7F7F",
           "#BCBD22",
           "#17BECF"
          ],
          "font": {
           "color": "rgb(36,36,36)"
          },
          "geo": {
           "bgcolor": "white",
           "lakecolor": "white",
           "landcolor": "white",
           "showlakes": true,
           "showland": true,
           "subunitcolor": "white"
          },
          "hoverlabel": {
           "align": "left"
          },
          "hovermode": "closest",
          "mapbox": {
           "style": "light"
          },
          "paper_bgcolor": "white",
          "plot_bgcolor": "white",
          "polar": {
           "angularaxis": {
            "gridcolor": "rgb(232,232,232)",
            "linecolor": "rgb(36,36,36)",
            "showgrid": false,
            "showline": true,
            "ticks": "outside"
           },
           "bgcolor": "white",
           "radialaxis": {
            "gridcolor": "rgb(232,232,232)",
            "linecolor": "rgb(36,36,36)",
            "showgrid": false,
            "showline": true,
            "ticks": "outside"
           }
          },
          "scene": {
           "xaxis": {
            "backgroundcolor": "white",
            "gridcolor": "rgb(232,232,232)",
            "gridwidth": 2,
            "linecolor": "rgb(36,36,36)",
            "showbackground": true,
            "showgrid": false,
            "showline": true,
            "ticks": "outside",
            "zeroline": false,
            "zerolinecolor": "rgb(36,36,36)"
           },
           "yaxis": {
            "backgroundcolor": "white",
            "gridcolor": "rgb(232,232,232)",
            "gridwidth": 2,
            "linecolor": "rgb(36,36,36)",
            "showbackground": true,
            "showgrid": false,
            "showline": true,
            "ticks": "outside",
            "zeroline": false,
            "zerolinecolor": "rgb(36,36,36)"
           },
           "zaxis": {
            "backgroundcolor": "white",
            "gridcolor": "rgb(232,232,232)",
            "gridwidth": 2,
            "linecolor": "rgb(36,36,36)",
            "showbackground": true,
            "showgrid": false,
            "showline": true,
            "ticks": "outside",
            "zeroline": false,
            "zerolinecolor": "rgb(36,36,36)"
           }
          },
          "shapedefaults": {
           "fillcolor": "black",
           "line": {
            "width": 0
           },
           "opacity": 0.3
          },
          "ternary": {
           "aaxis": {
            "gridcolor": "rgb(232,232,232)",
            "linecolor": "rgb(36,36,36)",
            "showgrid": false,
            "showline": true,
            "ticks": "outside"
           },
           "baxis": {
            "gridcolor": "rgb(232,232,232)",
            "linecolor": "rgb(36,36,36)",
            "showgrid": false,
            "showline": true,
            "ticks": "outside"
           },
           "bgcolor": "white",
           "caxis": {
            "gridcolor": "rgb(232,232,232)",
            "linecolor": "rgb(36,36,36)",
            "showgrid": false,
            "showline": true,
            "ticks": "outside"
           }
          },
          "title": {
           "x": 0.05
          },
          "xaxis": {
           "automargin": true,
           "gridcolor": "rgb(232,232,232)",
           "linecolor": "rgb(36,36,36)",
           "showgrid": false,
           "showline": true,
           "ticks": "outside",
           "title": {
            "standoff": 15
           },
           "zeroline": false,
           "zerolinecolor": "rgb(36,36,36)"
          },
          "yaxis": {
           "automargin": true,
           "gridcolor": "rgb(232,232,232)",
           "linecolor": "rgb(36,36,36)",
           "showgrid": false,
           "showline": true,
           "ticks": "outside",
           "title": {
            "standoff": 15
           },
           "zeroline": false,
           "zerolinecolor": "rgb(36,36,36)"
          }
         }
        },
        "title": {
         "font": {
          "color": "Black",
          "size": 22
         },
         "text": "<b>Topics over Time</b>",
         "x": 0.4,
         "xanchor": "center",
         "y": 0.95,
         "yanchor": "top"
        },
        "width": 1250,
        "xaxis": {
         "showgrid": true
        },
        "yaxis": {
         "showgrid": true,
         "title": {
          "text": "Frequency"
         }
        }
       }
      }
     },
     "metadata": {},
     "output_type": "display_data"
    }
   ],
   "source": [
    "timestamps = dfx1['published'].values.tolist()\n",
    "topics_over_time = model.topics_over_time(docs, timestamps)\n",
    "model.visualize_topics_over_time(topics_over_time, topics=[1,2,3,4,5,6,7,8,9,10])"
   ]
  },
  {
   "cell_type": "code",
   "execution_count": null,
   "metadata": {},
   "outputs": [
    {
     "name": "stdout",
     "output_type": "stream",
     "text": [
      "\n",
      "Perplexity:  -9.80113043871591\n",
      "\n",
      "Coherence Score:  0.4772554323521788\n"
     ]
    }
   ],
   "source": [
    "import gensim\n",
    "from gensim.utils import simple_preprocess\n",
    "from gensim.parsing.preprocessing import STOPWORDS\n",
    "from gensim import corpora, models\n",
    "from gensim.models import Word2Vec\n",
    "from gensim.models.phrases import Phrases, Phraser\n",
    "from sklearn.feature_extraction.text import TfidfVectorizer\n",
    "\n",
    "def preprocess(text):\n",
    "    result = []\n",
    "    for token in gensim.utils.simple_preprocess(text):\n",
    "        if token not in gensim.parsing.preprocessing.STOPWORDS and len(token) > 3:\n",
    "            result.append(token)\n",
    "    return result\n",
    "\n",
    "preprocess_docs = df['pdata_clean'].map(preprocess)\n",
    "\n",
    "\n",
    "dictionary = gensim.corpora.Dictionary(preprocess_docs)\n",
    "\n",
    "bow_corpus = [dictionary.doc2bow(doc) for doc in preprocess_docs]\n",
    "\n",
    "tfidf = models.TfidfModel(bow_corpus)\n",
    "corpus_tfidf = tfidf[bow_corpus]\n",
    "\n",
    "lda_model = gensim.models.LdaMulticore(corpus_tfidf, num_topics=10, id2word=dictionary, passes=2, workers=10)\n",
    "\n",
    "# Compute Perplexity\n",
    "# measure of how good the model is. lower Perplexity the better.\n",
    "print('\\nPerplexity: ', lda_model.log_perplexity(bow_corpus)) \n",
    "\n",
    "# Compute Coherence Score\n",
    "from gensim.models import CoherenceModel\n",
    "coherence_model_lda = CoherenceModel(model=lda_model, texts=preprocess_docs, dictionary=dictionary, coherence='c_v')\n",
    "coherence_lda = coherence_model_lda.get_coherence()\n",
    "print('\\nCoherence Score: ', coherence_lda)"
   ]
  },
  {
   "cell_type": "code",
   "execution_count": null,
   "metadata": {},
   "outputs": [
    {
     "name": "stdout",
     "output_type": "stream",
     "text": [
      "Setting Number of topics to: 4\n",
      "Got coherence score of: 0.4052718316667508\n",
      "Setting Number of topics to: 10\n",
      "Got coherence score of: 0.46031109910815077\n",
      "Setting Number of topics to: 16\n",
      "Got coherence score of: 0.49680214963696157\n",
      "Setting Number of topics to: 22\n",
      "Got coherence score of: 0.5559839685281859\n",
      "Setting Number of topics to: 28\n",
      "Got coherence score of: 0.5671103611438802\n",
      "Setting Number of topics to: 34\n",
      "Got coherence score of: 0.5519301945092209\n"
     ]
    },
    {
     "data": {
      "image/png": "[encoded data removed]",
      "text/plain": [
       "<Figure size 640x480 with 1 Axes>"
      ]
     },
     "metadata": {},
     "output_type": "display_data"
    }
   ],
   "source": [
    "# Compute Coherence Score\n",
    "from gensim.models import CoherenceModel\n",
    "\n",
    "def compute_coherence_values(dictionary, corpus, texts, limit, start=2, step=3):\n",
    "    \"\"\"\n",
    "    Compute c_v coherence for various number of topics\n",
    "\n",
    "    Parameters:\n",
    "    ----------\n",
    "    dictionary : Gensim dictionary\n",
    "    corpus : Gensim corpus\n",
    "    texts : List of input texts\n",
    "    limit : Max num of topics\n",
    "    \n",
    "    Returns:\n",
    "    -------\n",
    "    coherence_values : Coherence values corresponding to the LDA model with respective number of topics\n",
    "    \"\"\"\n",
    "    coherence_values = []\n",
    "    num_topics_list = []  # To store the corresponding num_topics\n",
    "    for num_topics in range(start, limit, step):\n",
    "        print('Setting Number of topics to:', num_topics)\n",
    "        model = gensim.models.LdaMulticore(corpus, num_topics=num_topics, id2word=dictionary, passes=2, workers=10)\n",
    "        coherencemodel = CoherenceModel(model=model, texts=texts, dictionary=dictionary, coherence='c_v')\n",
    "        coherence_score = coherencemodel.get_coherence()\n",
    "        coherence_values.append(coherence_score)\n",
    "        num_topics_list.append(num_topics)  # Store the num_topics value\n",
    "        print('Got coherence score of:', coherence_score)\n",
    "\n",
    "    return num_topics_list, coherence_values  # Return both num_topics and coherence values\n",
    "\n",
    "# Compute coherence values\n",
    "result = compute_coherence_values(dictionary=dictionary, corpus=corpus_tfidf, texts=preprocess_docs, start=4, limit=40, step=6)\n",
    "\n",
    "# Unpack result tuple\n",
    "num_topics_list, coherence_values = result\n",
    "\n",
    "# Plot coherence values\n",
    "plt.plot(num_topics_list, coherence_values)  # Use num_topics_list as x-axis\n",
    "plt.xlabel(\"Num Topics\")\n",
    "plt.ylabel(\"Coherence score\")\n",
    "plt.legend((\"coherence_values\"), loc='best')\n",
    "plt.show()"
   ]
  }
 ],
 "metadata": {
  "kernelspec": {
   "display_name": "test_env",
   "language": "python",
   "name": "python3"
  },
  "language_info": {
   "codemirror_mode": {
    "name": "ipython",
    "version": 3
   },
   "file_extension": ".py",
   "mimetype": "text/x-python",
   "name": "python",
   "nbconvert_exporter": "python",
   "pygments_lexer": "ipython3",
   "version": "3.12.2"
  }
 },
 "nbformat": 4,
 "nbformat_minor": 2
}
